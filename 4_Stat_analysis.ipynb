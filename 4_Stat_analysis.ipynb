{
 "cells": [
  {
   "cell_type": "markdown",
   "metadata": {},
   "source": [
    "### Анализ сервиса аренды самокатов GoFast\n",
    "\n",
    "Вы аналитик популярного сервиса аренды самокатов GoFast. Вам передали данные о некоторых пользователях из нескольких городов, а также об их поездках. Проанализируйте данные и проверьте некоторые гипотезы, которые могут помочь бизнесу вырасти.\\\n",
    "Чтобы совершать поездки по городу, пользователи сервиса GoFast пользуются мобильным приложением. Сервисом можно пользоваться:\\\n",
    "без подписки - абонентская плата отсутствует;\\\n",
    "    -стоимость одной минуты поездки — 8 рублей;\\\n",
    "    -стоимость старта (начала поездки) — 50 рублей;\\\n",
    "с подпиской Ultra абонентская плата — 199 рублей в месяц;\\\n",
    "    -стоимость одной минуты поездки — 6 рублей;\\\n",
    "    -стоимость старта — бесплатно."
   ]
  },
  {
   "cell_type": "markdown",
   "metadata": {},
   "source": [
    "Описание данных\\\n",
    "\n",
    "Пользователи — users_go.csv\n",
    "\n",
    "user_id — уникальный идентификатор пользователя\\\n",
    "name — имя пользователя\\\n",
    "age — возраст\\\n",
    "city — город\\\n",
    "subscription_type — тип подписки (free, ultra)\n",
    "\n",
    "\n",
    "Поeздки — rides_go.csv\n",
    "\n",
    "user_id — уникальный идентификатор пользователя\\\n",
    "distance — расстояние, которое пользователь проехал в текущей сессии (в метрах)\\\n",
    "duration — продолжительность сессии (в минутах) — время с того момента, как пользователь нажал кнопку «Начать поездку» до момента, как он нажал кнопку «Завершить поездку»\\\n",
    "date — дата совершения поездки\n",
    "\n",
    "\n",
    "Подписки — subscriptions_go.csv\n",
    "\n",
    "subscription_type — тип подписки\\\n",
    "minute_price — стоимость одной минуты поездки по данной подписке\\\n",
    "start_ride_price — стоимость начала поездки\\\n",
    "subscription_fee — стоимость ежемесячного платежа\\"
   ]
  },
  {
   "cell_type": "markdown",
   "metadata": {},
   "source": [
    "#Данное исследвание будет разделено на несколько частей:\n",
    "\n",
    "Часть 1 - Изучение общей информации;\n",
    "\n",
    "Часть 2 - Предобработка данных;\n",
    "\n",
    "Часть 3 - Исследовательский анализ;\n",
    "\n",
    "Часть 4 - Объединение данных;\n",
    "\n",
    "Часть 5 - Аггрегация и формирование гипотез;\n",
    "\n",
    "Часть 6 - Проверка гипотез;\n",
    "\n",
    "Часть 7 - Общий вывод."
   ]
  },
  {
   "cell_type": "markdown",
   "metadata": {},
   "source": [
    "### Шаг 1. Загрузка данных"
   ]
  },
  {
   "cell_type": "markdown",
   "metadata": {},
   "source": [
    "#### Инициализация библиотек"
   ]
  },
  {
   "cell_type": "code",
   "execution_count": 1,
   "metadata": {},
   "outputs": [
    {
     "name": "stdout",
     "output_type": "stream",
     "text": [
      "Collecting plotly.express\n",
      "  Downloading plotly_express-0.4.1-py2.py3-none-any.whl (2.9 kB)\n",
      "Requirement already satisfied: patsy>=0.5 in /opt/conda/lib/python3.9/site-packages (from plotly.express) (0.5.2)\n",
      "Requirement already satisfied: pandas>=0.20.0 in /opt/conda/lib/python3.9/site-packages (from plotly.express) (1.2.4)\n",
      "Requirement already satisfied: plotly>=4.1.0 in /opt/conda/lib/python3.9/site-packages (from plotly.express) (5.4.0)\n",
      "Requirement already satisfied: statsmodels>=0.9.0 in /opt/conda/lib/python3.9/site-packages (from plotly.express) (0.13.2)\n",
      "Requirement already satisfied: numpy>=1.11 in /opt/conda/lib/python3.9/site-packages (from plotly.express) (1.21.1)\n",
      "Requirement already satisfied: scipy>=0.18 in /opt/conda/lib/python3.9/site-packages (from plotly.express) (1.9.1)\n",
      "Requirement already satisfied: python-dateutil>=2.7.3 in /opt/conda/lib/python3.9/site-packages (from pandas>=0.20.0->plotly.express) (2.8.1)\n",
      "Requirement already satisfied: pytz>=2017.3 in /opt/conda/lib/python3.9/site-packages (from pandas>=0.20.0->plotly.express) (2021.1)\n",
      "Requirement already satisfied: six in /opt/conda/lib/python3.9/site-packages (from patsy>=0.5->plotly.express) (1.16.0)\n",
      "Requirement already satisfied: tenacity>=6.2.0 in /opt/conda/lib/python3.9/site-packages (from plotly>=4.1.0->plotly.express) (8.0.1)\n",
      "Requirement already satisfied: packaging>=21.3 in /opt/conda/lib/python3.9/site-packages (from statsmodels>=0.9.0->plotly.express) (21.3)\n",
      "Requirement already satisfied: pyparsing!=3.0.5,>=2.0.2 in /opt/conda/lib/python3.9/site-packages (from packaging>=21.3->statsmodels>=0.9.0->plotly.express) (2.4.7)\n",
      "Installing collected packages: plotly.express\n",
      "Successfully installed plotly.express-0.4.1\n"
     ]
    }
   ],
   "source": [
    "import sys\n",
    "import pandas as pd\n",
    "import matplotlib.pyplot as plt\n",
    "import seaborn as sns\n",
    "!{sys.executable} -m pip install plotly.express\n",
    "import plotly.express as px\n",
    "import numpy as np\n",
    "from scipy import stats as st\n",
    "import warnings\n",
    "from datetime import datetime\n",
    "warnings.filterwarnings(\"ignore\")"
   ]
  },
  {
   "cell_type": "markdown",
   "metadata": {},
   "source": [
    "#### Чтение данных\n",
    "\n",
    "Запись задействованных csv-файлов в соответствующие датафреймы"
   ]
  },
  {
   "cell_type": "code",
   "execution_count": 2,
   "metadata": {},
   "outputs": [],
   "source": [
    "pd.options.display.max_columns = 20\n",
    "\n",
    "data_users = pd.read_csv('/datasets/users_go.csv')\n",
    "data_riders = pd.read_csv('/datasets/rides_go.csv')\n",
    "data_sub = pd.read_csv('/datasets/subscriptions_go.csv')"
   ]
  },
  {
   "cell_type": "markdown",
   "metadata": {},
   "source": [
    "#### Датасет \"пользователи\""
   ]
  },
  {
   "cell_type": "markdown",
   "metadata": {},
   "source": [
    "##### Информация о датафреме"
   ]
  },
  {
   "cell_type": "code",
   "execution_count": 3,
   "metadata": {},
   "outputs": [
    {
     "name": "stdout",
     "output_type": "stream",
     "text": [
      "<class 'pandas.core.frame.DataFrame'>\n",
      "RangeIndex: 1565 entries, 0 to 1564\n",
      "Data columns (total 5 columns):\n",
      " #   Column             Non-Null Count  Dtype \n",
      "---  ------             --------------  ----- \n",
      " 0   user_id            1565 non-null   int64 \n",
      " 1   name               1565 non-null   object\n",
      " 2   age                1565 non-null   int64 \n",
      " 3   city               1565 non-null   object\n",
      " 4   subscription_type  1565 non-null   object\n",
      "dtypes: int64(2), object(3)\n",
      "memory usage: 61.3+ KB\n"
     ]
    }
   ],
   "source": [
    "data_users.info()"
   ]
  },
  {
   "cell_type": "markdown",
   "metadata": {},
   "source": [
    "##### Пример данных"
   ]
  },
  {
   "cell_type": "code",
   "execution_count": 4,
   "metadata": {},
   "outputs": [
    {
     "data": {
      "text/html": [
       "<div>\n",
       "<style scoped>\n",
       "    .dataframe tbody tr th:only-of-type {\n",
       "        vertical-align: middle;\n",
       "    }\n",
       "\n",
       "    .dataframe tbody tr th {\n",
       "        vertical-align: top;\n",
       "    }\n",
       "\n",
       "    .dataframe thead th {\n",
       "        text-align: right;\n",
       "    }\n",
       "</style>\n",
       "<table border=\"1\" class=\"dataframe\">\n",
       "  <thead>\n",
       "    <tr style=\"text-align: right;\">\n",
       "      <th></th>\n",
       "      <th>user_id</th>\n",
       "      <th>name</th>\n",
       "      <th>age</th>\n",
       "      <th>city</th>\n",
       "      <th>subscription_type</th>\n",
       "    </tr>\n",
       "  </thead>\n",
       "  <tbody>\n",
       "    <tr>\n",
       "      <th>0</th>\n",
       "      <td>1</td>\n",
       "      <td>Кира</td>\n",
       "      <td>22</td>\n",
       "      <td>Тюмень</td>\n",
       "      <td>ultra</td>\n",
       "    </tr>\n",
       "    <tr>\n",
       "      <th>1</th>\n",
       "      <td>2</td>\n",
       "      <td>Станислав</td>\n",
       "      <td>31</td>\n",
       "      <td>Омск</td>\n",
       "      <td>ultra</td>\n",
       "    </tr>\n",
       "    <tr>\n",
       "      <th>2</th>\n",
       "      <td>3</td>\n",
       "      <td>Алексей</td>\n",
       "      <td>20</td>\n",
       "      <td>Москва</td>\n",
       "      <td>ultra</td>\n",
       "    </tr>\n",
       "    <tr>\n",
       "      <th>3</th>\n",
       "      <td>4</td>\n",
       "      <td>Константин</td>\n",
       "      <td>26</td>\n",
       "      <td>Ростов-на-Дону</td>\n",
       "      <td>ultra</td>\n",
       "    </tr>\n",
       "    <tr>\n",
       "      <th>4</th>\n",
       "      <td>5</td>\n",
       "      <td>Адель</td>\n",
       "      <td>28</td>\n",
       "      <td>Омск</td>\n",
       "      <td>ultra</td>\n",
       "    </tr>\n",
       "  </tbody>\n",
       "</table>\n",
       "</div>"
      ],
      "text/plain": [
       "   user_id        name  age            city subscription_type\n",
       "0        1        Кира   22          Тюмень             ultra\n",
       "1        2   Станислав   31            Омск             ultra\n",
       "2        3     Алексей   20          Москва             ultra\n",
       "3        4  Константин   26  Ростов-на-Дону             ultra\n",
       "4        5       Адель   28            Омск             ultra"
      ]
     },
     "execution_count": 4,
     "metadata": {},
     "output_type": "execute_result"
    }
   ],
   "source": [
    "data_users.head()"
   ]
  },
  {
   "cell_type": "code",
   "execution_count": 5,
   "metadata": {},
   "outputs": [
    {
     "data": {
      "text/html": [
       "<div>\n",
       "<style scoped>\n",
       "    .dataframe tbody tr th:only-of-type {\n",
       "        vertical-align: middle;\n",
       "    }\n",
       "\n",
       "    .dataframe tbody tr th {\n",
       "        vertical-align: top;\n",
       "    }\n",
       "\n",
       "    .dataframe thead th {\n",
       "        text-align: right;\n",
       "    }\n",
       "</style>\n",
       "<table border=\"1\" class=\"dataframe\">\n",
       "  <thead>\n",
       "    <tr style=\"text-align: right;\">\n",
       "      <th></th>\n",
       "      <th>user_id</th>\n",
       "      <th>name</th>\n",
       "      <th>age</th>\n",
       "      <th>city</th>\n",
       "      <th>subscription_type</th>\n",
       "    </tr>\n",
       "  </thead>\n",
       "  <tbody>\n",
       "    <tr>\n",
       "      <th>1560</th>\n",
       "      <td>829</td>\n",
       "      <td>Федор</td>\n",
       "      <td>29</td>\n",
       "      <td>Пятигорск</td>\n",
       "      <td>free</td>\n",
       "    </tr>\n",
       "    <tr>\n",
       "      <th>1561</th>\n",
       "      <td>809</td>\n",
       "      <td>Юрий</td>\n",
       "      <td>26</td>\n",
       "      <td>Сочи</td>\n",
       "      <td>free</td>\n",
       "    </tr>\n",
       "    <tr>\n",
       "      <th>1562</th>\n",
       "      <td>307</td>\n",
       "      <td>Ясмина</td>\n",
       "      <td>19</td>\n",
       "      <td>Краснодар</td>\n",
       "      <td>ultra</td>\n",
       "    </tr>\n",
       "    <tr>\n",
       "      <th>1563</th>\n",
       "      <td>47</td>\n",
       "      <td>Юрий</td>\n",
       "      <td>28</td>\n",
       "      <td>Тюмень</td>\n",
       "      <td>ultra</td>\n",
       "    </tr>\n",
       "    <tr>\n",
       "      <th>1564</th>\n",
       "      <td>1045</td>\n",
       "      <td>Артемий</td>\n",
       "      <td>28</td>\n",
       "      <td>Ростов-на-Дону</td>\n",
       "      <td>free</td>\n",
       "    </tr>\n",
       "  </tbody>\n",
       "</table>\n",
       "</div>"
      ],
      "text/plain": [
       "      user_id     name  age            city subscription_type\n",
       "1560      829    Федор   29       Пятигорск              free\n",
       "1561      809     Юрий   26            Сочи              free\n",
       "1562      307   Ясмина   19       Краснодар             ultra\n",
       "1563       47     Юрий   28          Тюмень             ultra\n",
       "1564     1045  Артемий   28  Ростов-на-Дону              free"
      ]
     },
     "execution_count": 5,
     "metadata": {},
     "output_type": "execute_result"
    }
   ],
   "source": [
    "data_users.tail()"
   ]
  },
  {
   "attachments": {},
   "cell_type": "markdown",
   "metadata": {},
   "source": [
    "#### **Рассмотрим предоставленные данные подробней**"
   ]
  },
  {
   "cell_type": "markdown",
   "metadata": {},
   "source": [
    "##### user_id"
   ]
  },
  {
   "cell_type": "code",
   "execution_count": 6,
   "metadata": {},
   "outputs": [
    {
     "data": {
      "text/plain": [
       "1534"
      ]
     },
     "execution_count": 6,
     "metadata": {},
     "output_type": "execute_result"
    }
   ],
   "source": [
    "len(data_users['user_id'].unique())"
   ]
  },
  {
   "cell_type": "code",
   "execution_count": 7,
   "metadata": {},
   "outputs": [
    {
     "name": "stdout",
     "output_type": "stream",
     "text": [
      "[209, 807, 611, 43, 737, 47, 1198, 829, 924, 153, 635, 72, 909, 908, 136, 1045, 1237, 127, 659, 307, 1245, 121, 666, 108, 297, 809, 293, 16, 422, 403, 204]\n"
     ]
    }
   ],
   "source": [
    "duplicate_user_ids = data_users['user_id'].value_counts()\n",
    "duplicate_user_ids = duplicate_user_ids[duplicate_user_ids > 1]\n",
    "duplicate_user_id_list = duplicate_user_ids.index.tolist()\n",
    "print(duplicate_user_id_list)"
   ]
  },
  {
   "cell_type": "code",
   "execution_count": 8,
   "metadata": {},
   "outputs": [
    {
     "data": {
      "text/html": [
       "<div>\n",
       "<style scoped>\n",
       "    .dataframe tbody tr th:only-of-type {\n",
       "        vertical-align: middle;\n",
       "    }\n",
       "\n",
       "    .dataframe tbody tr th {\n",
       "        vertical-align: top;\n",
       "    }\n",
       "\n",
       "    .dataframe thead th {\n",
       "        text-align: right;\n",
       "    }\n",
       "</style>\n",
       "<table border=\"1\" class=\"dataframe\">\n",
       "  <thead>\n",
       "    <tr style=\"text-align: right;\">\n",
       "      <th></th>\n",
       "      <th>user_id</th>\n",
       "      <th>name</th>\n",
       "      <th>age</th>\n",
       "      <th>city</th>\n",
       "      <th>subscription_type</th>\n",
       "    </tr>\n",
       "  </thead>\n",
       "  <tbody>\n",
       "    <tr>\n",
       "      <th>15</th>\n",
       "      <td>16</td>\n",
       "      <td>Амалия</td>\n",
       "      <td>27</td>\n",
       "      <td>Краснодар</td>\n",
       "      <td>ultra</td>\n",
       "    </tr>\n",
       "    <tr>\n",
       "      <th>1535</th>\n",
       "      <td>16</td>\n",
       "      <td>Амалия</td>\n",
       "      <td>27</td>\n",
       "      <td>Краснодар</td>\n",
       "      <td>ultra</td>\n",
       "    </tr>\n",
       "    <tr>\n",
       "      <th>42</th>\n",
       "      <td>43</td>\n",
       "      <td>Стефания</td>\n",
       "      <td>22</td>\n",
       "      <td>Омск</td>\n",
       "      <td>ultra</td>\n",
       "    </tr>\n",
       "    <tr>\n",
       "      <th>1539</th>\n",
       "      <td>43</td>\n",
       "      <td>Стефания</td>\n",
       "      <td>22</td>\n",
       "      <td>Омск</td>\n",
       "      <td>ultra</td>\n",
       "    </tr>\n",
       "    <tr>\n",
       "      <th>1563</th>\n",
       "      <td>47</td>\n",
       "      <td>Юрий</td>\n",
       "      <td>28</td>\n",
       "      <td>Тюмень</td>\n",
       "      <td>ultra</td>\n",
       "    </tr>\n",
       "    <tr>\n",
       "      <th>...</th>\n",
       "      <td>...</td>\n",
       "      <td>...</td>\n",
       "      <td>...</td>\n",
       "      <td>...</td>\n",
       "      <td>...</td>\n",
       "    </tr>\n",
       "    <tr>\n",
       "      <th>1554</th>\n",
       "      <td>1198</td>\n",
       "      <td>Демид</td>\n",
       "      <td>29</td>\n",
       "      <td>Ростов-на-Дону</td>\n",
       "      <td>free</td>\n",
       "    </tr>\n",
       "    <tr>\n",
       "      <th>1558</th>\n",
       "      <td>1237</td>\n",
       "      <td>Евгения</td>\n",
       "      <td>23</td>\n",
       "      <td>Тюмень</td>\n",
       "      <td>free</td>\n",
       "    </tr>\n",
       "    <tr>\n",
       "      <th>1236</th>\n",
       "      <td>1237</td>\n",
       "      <td>Евгения</td>\n",
       "      <td>23</td>\n",
       "      <td>Тюмень</td>\n",
       "      <td>free</td>\n",
       "    </tr>\n",
       "    <tr>\n",
       "      <th>1544</th>\n",
       "      <td>1245</td>\n",
       "      <td>Регина</td>\n",
       "      <td>27</td>\n",
       "      <td>Пятигорск</td>\n",
       "      <td>free</td>\n",
       "    </tr>\n",
       "    <tr>\n",
       "      <th>1244</th>\n",
       "      <td>1245</td>\n",
       "      <td>Регина</td>\n",
       "      <td>27</td>\n",
       "      <td>Пятигорск</td>\n",
       "      <td>free</td>\n",
       "    </tr>\n",
       "  </tbody>\n",
       "</table>\n",
       "<p>62 rows × 5 columns</p>\n",
       "</div>"
      ],
      "text/plain": [
       "      user_id      name  age            city subscription_type\n",
       "15         16    Амалия   27       Краснодар             ultra\n",
       "1535       16    Амалия   27       Краснодар             ultra\n",
       "42         43  Стефания   22            Омск             ultra\n",
       "1539       43  Стефания   22            Омск             ultra\n",
       "1563       47      Юрий   28          Тюмень             ultra\n",
       "...       ...       ...  ...             ...               ...\n",
       "1554     1198     Демид   29  Ростов-на-Дону              free\n",
       "1558     1237   Евгения   23          Тюмень              free\n",
       "1236     1237   Евгения   23          Тюмень              free\n",
       "1544     1245    Регина   27       Пятигорск              free\n",
       "1244     1245    Регина   27       Пятигорск              free\n",
       "\n",
       "[62 rows x 5 columns]"
      ]
     },
     "execution_count": 8,
     "metadata": {},
     "output_type": "execute_result"
    }
   ],
   "source": [
    "duplicate_users = data_users[data_users['user_id'].isin(duplicate_user_id_list)].sort_values('user_id')\n",
    "duplicate_users"
   ]
  },
  {
   "cell_type": "markdown",
   "metadata": {},
   "source": [
    "Как мы можем заметить, предоставленные данные не лишены дублей"
   ]
  },
  {
   "cell_type": "code",
   "execution_count": 9,
   "metadata": {},
   "outputs": [
    {
     "data": {
      "text/html": [
       "<div>\n",
       "<style scoped>\n",
       "    .dataframe tbody tr th:only-of-type {\n",
       "        vertical-align: middle;\n",
       "    }\n",
       "\n",
       "    .dataframe tbody tr th {\n",
       "        vertical-align: top;\n",
       "    }\n",
       "\n",
       "    .dataframe thead th {\n",
       "        text-align: right;\n",
       "    }\n",
       "</style>\n",
       "<table border=\"1\" class=\"dataframe\">\n",
       "  <thead>\n",
       "    <tr style=\"text-align: right;\">\n",
       "      <th></th>\n",
       "      <th>user_id</th>\n",
       "      <th>name</th>\n",
       "      <th>age</th>\n",
       "      <th>city</th>\n",
       "      <th>subscription_type</th>\n",
       "    </tr>\n",
       "  </thead>\n",
       "  <tbody>\n",
       "    <tr>\n",
       "      <th>0</th>\n",
       "      <td>1</td>\n",
       "      <td>Кира</td>\n",
       "      <td>22</td>\n",
       "      <td>Тюмень</td>\n",
       "      <td>ultra</td>\n",
       "    </tr>\n",
       "    <tr>\n",
       "      <th>1</th>\n",
       "      <td>2</td>\n",
       "      <td>Станислав</td>\n",
       "      <td>31</td>\n",
       "      <td>Омск</td>\n",
       "      <td>ultra</td>\n",
       "    </tr>\n",
       "    <tr>\n",
       "      <th>2</th>\n",
       "      <td>3</td>\n",
       "      <td>Алексей</td>\n",
       "      <td>20</td>\n",
       "      <td>Москва</td>\n",
       "      <td>ultra</td>\n",
       "    </tr>\n",
       "    <tr>\n",
       "      <th>3</th>\n",
       "      <td>4</td>\n",
       "      <td>Константин</td>\n",
       "      <td>26</td>\n",
       "      <td>Ростов-на-Дону</td>\n",
       "      <td>ultra</td>\n",
       "    </tr>\n",
       "    <tr>\n",
       "      <th>4</th>\n",
       "      <td>5</td>\n",
       "      <td>Адель</td>\n",
       "      <td>28</td>\n",
       "      <td>Омск</td>\n",
       "      <td>ultra</td>\n",
       "    </tr>\n",
       "    <tr>\n",
       "      <th>...</th>\n",
       "      <td>...</td>\n",
       "      <td>...</td>\n",
       "      <td>...</td>\n",
       "      <td>...</td>\n",
       "      <td>...</td>\n",
       "    </tr>\n",
       "    <tr>\n",
       "      <th>1529</th>\n",
       "      <td>1530</td>\n",
       "      <td>Ростислав</td>\n",
       "      <td>29</td>\n",
       "      <td>Сочи</td>\n",
       "      <td>free</td>\n",
       "    </tr>\n",
       "    <tr>\n",
       "      <th>1530</th>\n",
       "      <td>1531</td>\n",
       "      <td>Никита</td>\n",
       "      <td>25</td>\n",
       "      <td>Пятигорск</td>\n",
       "      <td>free</td>\n",
       "    </tr>\n",
       "    <tr>\n",
       "      <th>1531</th>\n",
       "      <td>1532</td>\n",
       "      <td>Алексей</td>\n",
       "      <td>26</td>\n",
       "      <td>Тюмень</td>\n",
       "      <td>free</td>\n",
       "    </tr>\n",
       "    <tr>\n",
       "      <th>1532</th>\n",
       "      <td>1533</td>\n",
       "      <td>Степан</td>\n",
       "      <td>22</td>\n",
       "      <td>Краснодар</td>\n",
       "      <td>free</td>\n",
       "    </tr>\n",
       "    <tr>\n",
       "      <th>1533</th>\n",
       "      <td>1534</td>\n",
       "      <td>Альберт</td>\n",
       "      <td>25</td>\n",
       "      <td>Краснодар</td>\n",
       "      <td>free</td>\n",
       "    </tr>\n",
       "  </tbody>\n",
       "</table>\n",
       "<p>1534 rows × 5 columns</p>\n",
       "</div>"
      ],
      "text/plain": [
       "      user_id        name  age            city subscription_type\n",
       "0           1        Кира   22          Тюмень             ultra\n",
       "1           2   Станислав   31            Омск             ultra\n",
       "2           3     Алексей   20          Москва             ultra\n",
       "3           4  Константин   26  Ростов-на-Дону             ultra\n",
       "4           5       Адель   28            Омск             ultra\n",
       "...       ...         ...  ...             ...               ...\n",
       "1529     1530   Ростислав   29            Сочи              free\n",
       "1530     1531      Никита   25       Пятигорск              free\n",
       "1531     1532     Алексей   26          Тюмень              free\n",
       "1532     1533      Степан   22       Краснодар              free\n",
       "1533     1534     Альберт   25       Краснодар              free\n",
       "\n",
       "[1534 rows x 5 columns]"
      ]
     },
     "execution_count": 9,
     "metadata": {},
     "output_type": "execute_result"
    }
   ],
   "source": [
    "data_users.drop_duplicates(keep='first').reset_index(drop=True)"
   ]
  },
  {
   "cell_type": "markdown",
   "metadata": {},
   "source": [
    "##### Возраст"
   ]
  },
  {
   "cell_type": "markdown",
   "metadata": {},
   "source": [
    "##### Столбец \"Город\""
   ]
  },
  {
   "cell_type": "code",
   "execution_count": 10,
   "metadata": {},
   "outputs": [
    {
     "data": {
      "text/plain": [
       "Пятигорск         226\n",
       "Екатеринбург      206\n",
       "Ростов-на-Дону    202\n",
       "Краснодар         196\n",
       "Сочи              192\n",
       "Омск              186\n",
       "Тюмень            185\n",
       "Москва            172\n",
       "Name: city, dtype: int64"
      ]
     },
     "execution_count": 10,
     "metadata": {},
     "output_type": "execute_result"
    }
   ],
   "source": [
    "count_users_by_city = data_users['city'].value_counts()\n",
    "count_users_by_city"
   ]
  },
  {
   "cell_type": "markdown",
   "metadata": {},
   "source": [
    "##### Столбец \"Тариф\""
   ]
  },
  {
   "cell_type": "code",
   "execution_count": 11,
   "metadata": {},
   "outputs": [
    {
     "data": {
      "text/plain": [
       "free     846\n",
       "ultra    719\n",
       "Name: subscription_type, dtype: int64"
      ]
     },
     "execution_count": 11,
     "metadata": {},
     "output_type": "execute_result"
    }
   ],
   "source": [
    "count_sub = data_users['subscription_type'].value_counts()\n",
    "count_sub"
   ]
  },
  {
   "cell_type": "markdown",
   "metadata": {},
   "source": [
    "#### Датасет \"Поездки\""
   ]
  },
  {
   "cell_type": "markdown",
   "metadata": {},
   "source": [
    "##### Общая информация"
   ]
  },
  {
   "cell_type": "code",
   "execution_count": 12,
   "metadata": {},
   "outputs": [
    {
     "name": "stdout",
     "output_type": "stream",
     "text": [
      "<class 'pandas.core.frame.DataFrame'>\n",
      "RangeIndex: 18068 entries, 0 to 18067\n",
      "Data columns (total 4 columns):\n",
      " #   Column    Non-Null Count  Dtype  \n",
      "---  ------    --------------  -----  \n",
      " 0   user_id   18068 non-null  int64  \n",
      " 1   distance  18068 non-null  float64\n",
      " 2   duration  18068 non-null  float64\n",
      " 3   date      18068 non-null  object \n",
      "dtypes: float64(2), int64(1), object(1)\n",
      "memory usage: 564.8+ KB\n"
     ]
    }
   ],
   "source": [
    "data_riders.info()"
   ]
  },
  {
   "cell_type": "markdown",
   "metadata": {},
   "source": [
    "##### Пример данных"
   ]
  },
  {
   "cell_type": "code",
   "execution_count": 13,
   "metadata": {},
   "outputs": [
    {
     "data": {
      "text/html": [
       "<div>\n",
       "<style scoped>\n",
       "    .dataframe tbody tr th:only-of-type {\n",
       "        vertical-align: middle;\n",
       "    }\n",
       "\n",
       "    .dataframe tbody tr th {\n",
       "        vertical-align: top;\n",
       "    }\n",
       "\n",
       "    .dataframe thead th {\n",
       "        text-align: right;\n",
       "    }\n",
       "</style>\n",
       "<table border=\"1\" class=\"dataframe\">\n",
       "  <thead>\n",
       "    <tr style=\"text-align: right;\">\n",
       "      <th></th>\n",
       "      <th>user_id</th>\n",
       "      <th>distance</th>\n",
       "      <th>duration</th>\n",
       "      <th>date</th>\n",
       "    </tr>\n",
       "  </thead>\n",
       "  <tbody>\n",
       "    <tr>\n",
       "      <th>0</th>\n",
       "      <td>1</td>\n",
       "      <td>4409.919140</td>\n",
       "      <td>25.599769</td>\n",
       "      <td>2021-01-01</td>\n",
       "    </tr>\n",
       "    <tr>\n",
       "      <th>1</th>\n",
       "      <td>1</td>\n",
       "      <td>2617.592153</td>\n",
       "      <td>15.816871</td>\n",
       "      <td>2021-01-18</td>\n",
       "    </tr>\n",
       "    <tr>\n",
       "      <th>2</th>\n",
       "      <td>1</td>\n",
       "      <td>754.159807</td>\n",
       "      <td>6.232113</td>\n",
       "      <td>2021-04-20</td>\n",
       "    </tr>\n",
       "    <tr>\n",
       "      <th>3</th>\n",
       "      <td>1</td>\n",
       "      <td>2694.783254</td>\n",
       "      <td>18.511000</td>\n",
       "      <td>2021-08-11</td>\n",
       "    </tr>\n",
       "    <tr>\n",
       "      <th>4</th>\n",
       "      <td>1</td>\n",
       "      <td>4028.687306</td>\n",
       "      <td>26.265803</td>\n",
       "      <td>2021-08-28</td>\n",
       "    </tr>\n",
       "  </tbody>\n",
       "</table>\n",
       "</div>"
      ],
      "text/plain": [
       "   user_id     distance   duration        date\n",
       "0        1  4409.919140  25.599769  2021-01-01\n",
       "1        1  2617.592153  15.816871  2021-01-18\n",
       "2        1   754.159807   6.232113  2021-04-20\n",
       "3        1  2694.783254  18.511000  2021-08-11\n",
       "4        1  4028.687306  26.265803  2021-08-28"
      ]
     },
     "execution_count": 13,
     "metadata": {},
     "output_type": "execute_result"
    }
   ],
   "source": [
    "data_riders.head()"
   ]
  },
  {
   "cell_type": "code",
   "execution_count": 14,
   "metadata": {},
   "outputs": [
    {
     "data": {
      "text/html": [
       "<div>\n",
       "<style scoped>\n",
       "    .dataframe tbody tr th:only-of-type {\n",
       "        vertical-align: middle;\n",
       "    }\n",
       "\n",
       "    .dataframe tbody tr th {\n",
       "        vertical-align: top;\n",
       "    }\n",
       "\n",
       "    .dataframe thead th {\n",
       "        text-align: right;\n",
       "    }\n",
       "</style>\n",
       "<table border=\"1\" class=\"dataframe\">\n",
       "  <thead>\n",
       "    <tr style=\"text-align: right;\">\n",
       "      <th></th>\n",
       "      <th>user_id</th>\n",
       "      <th>distance</th>\n",
       "      <th>duration</th>\n",
       "      <th>date</th>\n",
       "    </tr>\n",
       "  </thead>\n",
       "  <tbody>\n",
       "    <tr>\n",
       "      <th>18063</th>\n",
       "      <td>1534</td>\n",
       "      <td>3781.098080</td>\n",
       "      <td>19.822962</td>\n",
       "      <td>2021-11-04</td>\n",
       "    </tr>\n",
       "    <tr>\n",
       "      <th>18064</th>\n",
       "      <td>1534</td>\n",
       "      <td>2840.423057</td>\n",
       "      <td>21.409799</td>\n",
       "      <td>2021-11-16</td>\n",
       "    </tr>\n",
       "    <tr>\n",
       "      <th>18065</th>\n",
       "      <td>1534</td>\n",
       "      <td>3826.185507</td>\n",
       "      <td>18.435051</td>\n",
       "      <td>2021-11-18</td>\n",
       "    </tr>\n",
       "    <tr>\n",
       "      <th>18066</th>\n",
       "      <td>1534</td>\n",
       "      <td>2902.308661</td>\n",
       "      <td>16.674362</td>\n",
       "      <td>2021-11-27</td>\n",
       "    </tr>\n",
       "    <tr>\n",
       "      <th>18067</th>\n",
       "      <td>1534</td>\n",
       "      <td>2371.711192</td>\n",
       "      <td>15.893917</td>\n",
       "      <td>2021-12-29</td>\n",
       "    </tr>\n",
       "  </tbody>\n",
       "</table>\n",
       "</div>"
      ],
      "text/plain": [
       "       user_id     distance   duration        date\n",
       "18063     1534  3781.098080  19.822962  2021-11-04\n",
       "18064     1534  2840.423057  21.409799  2021-11-16\n",
       "18065     1534  3826.185507  18.435051  2021-11-18\n",
       "18066     1534  2902.308661  16.674362  2021-11-27\n",
       "18067     1534  2371.711192  15.893917  2021-12-29"
      ]
     },
     "execution_count": 14,
     "metadata": {},
     "output_type": "execute_result"
    }
   ],
   "source": [
    "data_riders.tail()"
   ]
  },
  {
   "cell_type": "markdown",
   "metadata": {},
   "source": [
    "##### Наибольшее число поездок (user_id)"
   ]
  },
  {
   "cell_type": "code",
   "execution_count": 15,
   "metadata": {},
   "outputs": [
    {
     "data": {
      "text/plain": [
       "1236    27\n",
       "1063    26\n",
       "783     26\n",
       "1204    24\n",
       "1149    23\n",
       "716     23\n",
       "1531    23\n",
       "1030    23\n",
       "1252    22\n",
       "919     22\n",
       "Name: user_id, dtype: int64"
      ]
     },
     "execution_count": 15,
     "metadata": {},
     "output_type": "execute_result"
    }
   ],
   "source": [
    "top_riders = data_riders['user_id'].value_counts().sort_values(ascending=False)\n",
    "top_riders.head(10)"
   ]
  },
  {
   "cell_type": "markdown",
   "metadata": {},
   "source": [
    "##### Наибольшая дистанция"
   ]
  },
  {
   "cell_type": "code",
   "execution_count": 16,
   "metadata": {},
   "outputs": [
    {
     "data": {
      "text/html": [
       "<div>\n",
       "<style scoped>\n",
       "    .dataframe tbody tr th:only-of-type {\n",
       "        vertical-align: middle;\n",
       "    }\n",
       "\n",
       "    .dataframe tbody tr th {\n",
       "        vertical-align: top;\n",
       "    }\n",
       "\n",
       "    .dataframe thead th {\n",
       "        text-align: right;\n",
       "    }\n",
       "</style>\n",
       "<table border=\"1\" class=\"dataframe\">\n",
       "  <thead>\n",
       "    <tr style=\"text-align: right;\">\n",
       "      <th></th>\n",
       "      <th>distance</th>\n",
       "      <th>duration</th>\n",
       "    </tr>\n",
       "    <tr>\n",
       "      <th>user_id</th>\n",
       "      <th></th>\n",
       "      <th></th>\n",
       "    </tr>\n",
       "  </thead>\n",
       "  <tbody>\n",
       "    <tr>\n",
       "      <th>1</th>\n",
       "      <td>34070.182066</td>\n",
       "      <td>204.604909</td>\n",
       "    </tr>\n",
       "    <tr>\n",
       "      <th>2</th>\n",
       "      <td>33964.058614</td>\n",
       "      <td>197.644279</td>\n",
       "    </tr>\n",
       "    <tr>\n",
       "      <th>3</th>\n",
       "      <td>36907.597866</td>\n",
       "      <td>233.193513</td>\n",
       "    </tr>\n",
       "    <tr>\n",
       "      <th>4</th>\n",
       "      <td>44837.189916</td>\n",
       "      <td>288.563581</td>\n",
       "    </tr>\n",
       "    <tr>\n",
       "      <th>5</th>\n",
       "      <td>35556.949649</td>\n",
       "      <td>174.073932</td>\n",
       "    </tr>\n",
       "    <tr>\n",
       "      <th>6</th>\n",
       "      <td>34078.606693</td>\n",
       "      <td>203.299077</td>\n",
       "    </tr>\n",
       "    <tr>\n",
       "      <th>7</th>\n",
       "      <td>48707.479147</td>\n",
       "      <td>258.371222</td>\n",
       "    </tr>\n",
       "    <tr>\n",
       "      <th>8</th>\n",
       "      <td>15754.261455</td>\n",
       "      <td>90.681387</td>\n",
       "    </tr>\n",
       "    <tr>\n",
       "      <th>9</th>\n",
       "      <td>23730.942270</td>\n",
       "      <td>129.790228</td>\n",
       "    </tr>\n",
       "    <tr>\n",
       "      <th>10</th>\n",
       "      <td>29528.226111</td>\n",
       "      <td>171.863879</td>\n",
       "    </tr>\n",
       "  </tbody>\n",
       "</table>\n",
       "</div>"
      ],
      "text/plain": [
       "             distance    duration\n",
       "user_id                          \n",
       "1        34070.182066  204.604909\n",
       "2        33964.058614  197.644279\n",
       "3        36907.597866  233.193513\n",
       "4        44837.189916  288.563581\n",
       "5        35556.949649  174.073932\n",
       "6        34078.606693  203.299077\n",
       "7        48707.479147  258.371222\n",
       "8        15754.261455   90.681387\n",
       "9        23730.942270  129.790228\n",
       "10       29528.226111  171.863879"
      ]
     },
     "execution_count": 16,
     "metadata": {},
     "output_type": "execute_result"
    }
   ],
   "source": [
    "total_distance_by_user = data_riders.groupby(['user_id']).sum(numeric_only = True)\n",
    "total_distance_by_user.head(10)"
   ]
  },
  {
   "cell_type": "markdown",
   "metadata": {},
   "source": [
    "#### Датасет \"Подписки\""
   ]
  },
  {
   "cell_type": "markdown",
   "metadata": {},
   "source": [
    "##### Общая информация"
   ]
  },
  {
   "cell_type": "code",
   "execution_count": 17,
   "metadata": {},
   "outputs": [
    {
     "name": "stdout",
     "output_type": "stream",
     "text": [
      "<class 'pandas.core.frame.DataFrame'>\n",
      "RangeIndex: 2 entries, 0 to 1\n",
      "Data columns (total 4 columns):\n",
      " #   Column             Non-Null Count  Dtype \n",
      "---  ------             --------------  ----- \n",
      " 0   subscription_type  2 non-null      object\n",
      " 1   minute_price       2 non-null      int64 \n",
      " 2   start_ride_price   2 non-null      int64 \n",
      " 3   subscription_fee   2 non-null      int64 \n",
      "dtypes: int64(3), object(1)\n",
      "memory usage: 192.0+ bytes\n"
     ]
    }
   ],
   "source": [
    "data_sub.info()"
   ]
  },
  {
   "cell_type": "markdown",
   "metadata": {},
   "source": [
    "##### Содержание информации"
   ]
  },
  {
   "cell_type": "code",
   "execution_count": 18,
   "metadata": {},
   "outputs": [
    {
     "data": {
      "text/html": [
       "<div>\n",
       "<style scoped>\n",
       "    .dataframe tbody tr th:only-of-type {\n",
       "        vertical-align: middle;\n",
       "    }\n",
       "\n",
       "    .dataframe tbody tr th {\n",
       "        vertical-align: top;\n",
       "    }\n",
       "\n",
       "    .dataframe thead th {\n",
       "        text-align: right;\n",
       "    }\n",
       "</style>\n",
       "<table border=\"1\" class=\"dataframe\">\n",
       "  <thead>\n",
       "    <tr style=\"text-align: right;\">\n",
       "      <th></th>\n",
       "      <th>subscription_type</th>\n",
       "      <th>minute_price</th>\n",
       "      <th>start_ride_price</th>\n",
       "      <th>subscription_fee</th>\n",
       "    </tr>\n",
       "  </thead>\n",
       "  <tbody>\n",
       "    <tr>\n",
       "      <th>0</th>\n",
       "      <td>free</td>\n",
       "      <td>8</td>\n",
       "      <td>50</td>\n",
       "      <td>0</td>\n",
       "    </tr>\n",
       "    <tr>\n",
       "      <th>1</th>\n",
       "      <td>ultra</td>\n",
       "      <td>6</td>\n",
       "      <td>0</td>\n",
       "      <td>199</td>\n",
       "    </tr>\n",
       "  </tbody>\n",
       "</table>\n",
       "</div>"
      ],
      "text/plain": [
       "  subscription_type  minute_price  start_ride_price  subscription_fee\n",
       "0              free             8                50                 0\n",
       "1             ultra             6                 0               199"
      ]
     },
     "execution_count": 18,
     "metadata": {},
     "output_type": "execute_result"
    }
   ],
   "source": [
    "data_sub"
   ]
  },
  {
   "cell_type": "markdown",
   "metadata": {},
   "source": [
    "Как мы видим, данная таблица является справочником с показательными данными по подпискам"
   ]
  },
  {
   "cell_type": "markdown",
   "metadata": {},
   "source": [
    "### Шаг 2. Предобработка данных"
   ]
  },
  {
   "cell_type": "markdown",
   "metadata": {},
   "source": [
    "#### Датасет \"Пользователи\""
   ]
  },
  {
   "cell_type": "markdown",
   "metadata": {},
   "source": [
    "##### Пропуски"
   ]
  },
  {
   "cell_type": "code",
   "execution_count": 19,
   "metadata": {},
   "outputs": [
    {
     "data": {
      "text/plain": [
       "user_id              0\n",
       "name                 0\n",
       "age                  0\n",
       "city                 0\n",
       "subscription_type    0\n",
       "dtype: int64"
      ]
     },
     "execution_count": 19,
     "metadata": {},
     "output_type": "execute_result"
    }
   ],
   "source": [
    "data_users.isna().sum()"
   ]
  },
  {
   "cell_type": "markdown",
   "metadata": {},
   "source": [
    "##### Удаление дублей"
   ]
  },
  {
   "cell_type": "code",
   "execution_count": 20,
   "metadata": {},
   "outputs": [
    {
     "data": {
      "text/plain": [
       "31"
      ]
     },
     "execution_count": 20,
     "metadata": {},
     "output_type": "execute_result"
    }
   ],
   "source": [
    "data_users.duplicated().sum()"
   ]
  },
  {
   "cell_type": "code",
   "execution_count": 21,
   "metadata": {},
   "outputs": [],
   "source": [
    "data_users.drop_duplicates(inplace=True)"
   ]
  },
  {
   "cell_type": "code",
   "execution_count": 22,
   "metadata": {},
   "outputs": [
    {
     "data": {
      "text/plain": [
       "0"
      ]
     },
     "execution_count": 22,
     "metadata": {},
     "output_type": "execute_result"
    }
   ],
   "source": [
    "data_users.duplicated().sum()"
   ]
  },
  {
   "cell_type": "markdown",
   "metadata": {},
   "source": [
    "#### Датасет \"Поездки\""
   ]
  },
  {
   "cell_type": "markdown",
   "metadata": {},
   "source": [
    "##### Пропуски"
   ]
  },
  {
   "cell_type": "code",
   "execution_count": 23,
   "metadata": {},
   "outputs": [
    {
     "data": {
      "text/plain": [
       "user_id              0\n",
       "name                 0\n",
       "age                  0\n",
       "city                 0\n",
       "subscription_type    0\n",
       "dtype: int64"
      ]
     },
     "execution_count": 23,
     "metadata": {},
     "output_type": "execute_result"
    }
   ],
   "source": [
    "data_users.isna().sum()"
   ]
  },
  {
   "cell_type": "markdown",
   "metadata": {},
   "source": [
    "##### Типизация данных"
   ]
  },
  {
   "cell_type": "code",
   "execution_count": 24,
   "metadata": {},
   "outputs": [
    {
     "data": {
      "text/plain": [
       "0   2021-01-01\n",
       "1   2021-01-18\n",
       "2   2021-04-20\n",
       "3   2021-08-11\n",
       "4   2021-08-28\n",
       "5   2021-10-09\n",
       "6   2021-10-19\n",
       "7   2021-11-06\n",
       "8   2021-11-14\n",
       "9   2021-11-22\n",
       "Name: date, dtype: datetime64[ns]"
      ]
     },
     "execution_count": 24,
     "metadata": {},
     "output_type": "execute_result"
    }
   ],
   "source": [
    "data_riders['date'] = pd.to_datetime(data_riders['date'], format = '%Y-%m-%d')\n",
    "data_riders['date'].head(10)"
   ]
  },
  {
   "cell_type": "markdown",
   "metadata": {},
   "source": [
    "Приведём дальность поездки к метрам"
   ]
  },
  {
   "cell_type": "code",
   "execution_count": 25,
   "metadata": {},
   "outputs": [
    {
     "data": {
      "text/plain": [
       "0    4410.0\n",
       "1    2618.0\n",
       "2     755.0\n",
       "3    2695.0\n",
       "4    4029.0\n",
       "5    2771.0\n",
       "6    3040.0\n",
       "7    2843.0\n",
       "8    3413.0\n",
       "9     749.0\n",
       "Name: distance, dtype: float64"
      ]
     },
     "execution_count": 25,
     "metadata": {},
     "output_type": "execute_result"
    }
   ],
   "source": [
    "data_riders['distance'] = np.ceil(data_riders['distance'])\n",
    "data_riders['distance'].head(10)"
   ]
  },
  {
   "cell_type": "markdown",
   "metadata": {},
   "source": [
    "Округлим время в секундах"
   ]
  },
  {
   "cell_type": "code",
   "execution_count": 26,
   "metadata": {},
   "outputs": [
    {
     "data": {
      "text/plain": [
       "0    26.0\n",
       "1    16.0\n",
       "2     7.0\n",
       "3    19.0\n",
       "4    27.0\n",
       "5    17.0\n",
       "6    15.0\n",
       "7    24.0\n",
       "8    16.0\n",
       "9    16.0\n",
       "Name: duration, dtype: float64"
      ]
     },
     "execution_count": 26,
     "metadata": {},
     "output_type": "execute_result"
    }
   ],
   "source": [
    "data_riders['duration'] = np.ceil(data_riders['duration'])\n",
    "data_riders['duration'].head(10)"
   ]
  },
  {
   "cell_type": "markdown",
   "metadata": {},
   "source": [
    "Переведём время поездки в формат времени для наглядности"
   ]
  },
  {
   "cell_type": "code",
   "execution_count": 27,
   "metadata": {},
   "outputs": [
    {
     "data": {
      "text/plain": [
       "0        00:26:00\n",
       "1        00:16:00\n",
       "2        00:07:00\n",
       "3        00:19:00\n",
       "4        00:27:00\n",
       "           ...   \n",
       "18063    00:20:00\n",
       "18064    00:22:00\n",
       "18065    00:19:00\n",
       "18066    00:17:00\n",
       "18067    00:16:00\n",
       "Name: duration_time, Length: 18068, dtype: object"
      ]
     },
     "execution_count": 27,
     "metadata": {},
     "output_type": "execute_result"
    }
   ],
   "source": [
    "data_riders['duration_time'] = pd.to_datetime(data_riders['duration'], unit='m').dt.strftime('%H:%M:%S')\n",
    "data_riders['duration_time']"
   ]
  },
  {
   "cell_type": "markdown",
   "metadata": {},
   "source": [
    "На основе информации выше и отсутствия в будующем необходимости ссылаться на полную дату (в текущем случае), мы можем выделить месяцы в отдельный столбец для последующей работы"
   ]
  },
  {
   "cell_type": "markdown",
   "metadata": {},
   "source": [
    "Сначала проверим, за какой период предоставлены данные. Если данные предоставлены за несколько лет, то они могут попасть в один и тот же месяц"
   ]
  },
  {
   "cell_type": "code",
   "execution_count": 28,
   "metadata": {},
   "outputs": [
    {
     "data": {
      "text/plain": [
       "array([2021])"
      ]
     },
     "execution_count": 28,
     "metadata": {},
     "output_type": "execute_result"
    }
   ],
   "source": [
    "data_riders['date'].dt.year.unique()"
   ]
  },
  {
   "cell_type": "markdown",
   "metadata": {},
   "source": [
    "Исходя из того, что данные предоставлены за один год, мы можем сделать вышеописанное, не опасаясь ошибок"
   ]
  },
  {
   "cell_type": "code",
   "execution_count": 29,
   "metadata": {},
   "outputs": [
    {
     "data": {
      "text/plain": [
       "0     1\n",
       "1     1\n",
       "2     4\n",
       "3     8\n",
       "4     8\n",
       "5    10\n",
       "6    10\n",
       "7    11\n",
       "8    11\n",
       "9    11\n",
       "Name: month, dtype: int64"
      ]
     },
     "execution_count": 29,
     "metadata": {},
     "output_type": "execute_result"
    }
   ],
   "source": [
    "data_riders['month'] = data_riders['date'].dt.month\n",
    "data_riders['month'].head(10)"
   ]
  },
  {
   "cell_type": "code",
   "execution_count": 30,
   "metadata": {},
   "outputs": [
    {
     "data": {
      "text/plain": [
       "array([ 1,  2,  3,  4,  5,  6,  7,  8,  9, 10, 11, 12])"
      ]
     },
     "execution_count": 30,
     "metadata": {},
     "output_type": "execute_result"
    }
   ],
   "source": [
    "sorted_unique_months = data_riders['month'].unique()\n",
    "sorted_unique_months.sort()\n",
    "sorted_unique_months"
   ]
  },
  {
   "cell_type": "markdown",
   "metadata": {},
   "source": [
    "Вывод:\n",
    "\n",
    "-Пропущенных данных в таблицах нет;\\\n",
    "-Дубликаты имеются среди пользователей, удалили строки-дубликаты;\\\n",
    "-Добавили столбец month с номер месяца."
   ]
  },
  {
   "cell_type": "markdown",
   "metadata": {},
   "source": [
    "### Шаг 3. Исследовательский анализ данных"
   ]
  },
  {
   "cell_type": "markdown",
   "metadata": {},
   "source": [
    "##### 3.1 частота встречаемости городов;"
   ]
  },
  {
   "cell_type": "code",
   "execution_count": 31,
   "metadata": {},
   "outputs": [
    {
     "data": {
      "text/plain": [
       "Пятигорск         219\n",
       "Екатеринбург      204\n",
       "Ростов-на-Дону    198\n",
       "Краснодар         193\n",
       "Сочи              189\n",
       "Омск              183\n",
       "Тюмень            180\n",
       "Москва            168\n",
       "Name: city, dtype: int64"
      ]
     },
     "execution_count": 31,
     "metadata": {},
     "output_type": "execute_result"
    }
   ],
   "source": [
    "count_users_by_city = data_users['city'].value_counts()\n",
    "count_users_by_city"
   ]
  },
  {
   "cell_type": "code",
   "execution_count": 32,
   "metadata": {},
   "outputs": [
    {
     "data": {
      "text/plain": [
       "Пятигорск         14.0\n",
       "Екатеринбург      13.0\n",
       "Ростов-на-Дону    13.0\n",
       "Краснодар         13.0\n",
       "Сочи              12.0\n",
       "Омск              12.0\n",
       "Тюмень            12.0\n",
       "Москва            11.0\n",
       "Name: city, dtype: float64"
      ]
     },
     "execution_count": 32,
     "metadata": {},
     "output_type": "execute_result"
    }
   ],
   "source": [
    "count_users_by_city['rate'] = round(data_users['city'].value_counts() / \n",
    "                                    count_users_by_city.sum(), 2) * 100\n",
    "\n",
    "count_users_by_city['rate']"
   ]
  },
  {
   "cell_type": "code",
   "execution_count": 33,
   "metadata": {},
   "outputs": [
    {
     "data": {
      "image/png": "[encoded data removed]",
      "text/plain": [
       "<Figure size 504x504 with 1 Axes>"
      ]
     },
     "metadata": {},
     "output_type": "display_data"
    }
   ],
   "source": [
    "data_users['city'].value_counts().plot(\n",
    "    kind = 'pie', \n",
    "    y = count_users_by_city,\n",
    "    autopct = '%1.0f%%',\n",
    "    figsize=(7,7), \n",
    "    title = 'Распределение пользователей по городам')\n",
    "\n",
    "plt.show()"
   ]
  },
  {
   "cell_type": "code",
   "execution_count": 34,
   "metadata": {},
   "outputs": [
    {
     "data": {
      "image/png": "[encoded data removed]",
      "text/plain": [
       "<Figure size 720x504 with 1 Axes>"
      ]
     },
     "metadata": {
      "needs_background": "light"
     },
     "output_type": "display_data"
    }
   ],
   "source": [
    "city_counts = data_users['city'].value_counts()\n",
    "city_counts_sorted = city_counts.sort_values(ascending=True)\n",
    "\n",
    "plt.figure(figsize=(10, 7))\n",
    "city_counts_sorted.plot(kind='barh', color='skyblue')\n",
    "plt.title('Распределение пользователей по городам')\n",
    "plt.xlabel('Количество пользователей')\n",
    "plt.ylabel('Город')\n",
    "plt.show()"
   ]
  },
  {
   "cell_type": "markdown",
   "metadata": {},
   "source": [
    "*Вывод:* \\\n",
    "Распределение пользователей по городам +- одинаковое:\\\n",
    "-Наибольшее количество пользователей в Пятигорске;\\\n",
    "-Наименьшее в Москве."
   ]
  },
  {
   "cell_type": "markdown",
   "metadata": {},
   "source": [
    "#### 3.2 соотношение пользователей с подпиской и без подписки"
   ]
  },
  {
   "cell_type": "code",
   "execution_count": 35,
   "metadata": {},
   "outputs": [
    {
     "data": {
      "text/plain": [
       "free     835\n",
       "ultra    699\n",
       "Name: subscription_type, dtype: int64"
      ]
     },
     "execution_count": 35,
     "metadata": {},
     "output_type": "execute_result"
    }
   ],
   "source": [
    "count_sub = data_users['subscription_type'].value_counts()\n",
    "count_sub"
   ]
  },
  {
   "cell_type": "code",
   "execution_count": 36,
   "metadata": {},
   "outputs": [
    {
     "data": {
      "image/png": "[encoded data removed]",
      "text/plain": [
       "<Figure size 360x360 with 1 Axes>"
      ]
     },
     "metadata": {},
     "output_type": "display_data"
    }
   ],
   "source": [
    "data_users['subscription_type'].value_counts().plot(\n",
    "    kind='pie',\n",
    "    autopct='%1.0f%%',\n",
    "    figsize=(5, 5),\n",
    "    title='Процентное соотношение пользователей в зависимости от тарифа'\n",
    ")\n",
    "plt.ylabel(None)\n",
    "plt.show()"
   ]
  },
  {
   "cell_type": "markdown",
   "metadata": {},
   "source": [
    "**Вывод:** преобладают пользователи с бесплатным тарифом (54%)."
   ]
  },
  {
   "cell_type": "markdown",
   "metadata": {},
   "source": [
    "#### 3.3 возраст пользователей"
   ]
  },
  {
   "cell_type": "markdown",
   "metadata": {},
   "source": [
    "##### Самые молодые"
   ]
  },
  {
   "cell_type": "code",
   "execution_count": 37,
   "metadata": {},
   "outputs": [
    {
     "data": {
      "text/plain": [
       "664     12\n",
       "66      12\n",
       "727     12\n",
       "34      12\n",
       "235     13\n",
       "1249    13\n",
       "314     13\n",
       "83      13\n",
       "553     13\n",
       "1241    13\n",
       "Name: age, dtype: int64"
      ]
     },
     "execution_count": 37,
     "metadata": {},
     "output_type": "execute_result"
    }
   ],
   "source": [
    "data_users['age'].sort_values().head(10)"
   ]
  },
  {
   "cell_type": "markdown",
   "metadata": {},
   "source": [
    "##### Старшие пользователи"
   ]
  },
  {
   "cell_type": "code",
   "execution_count": 38,
   "metadata": {},
   "outputs": [
    {
     "data": {
      "text/plain": [
       "1201    43\n",
       "961     39\n",
       "804     38\n",
       "453     38\n",
       "383     38\n",
       "205     37\n",
       "848     37\n",
       "721     36\n",
       "1491    36\n",
       "644     36\n",
       "Name: age, dtype: int64"
      ]
     },
     "execution_count": 38,
     "metadata": {},
     "output_type": "execute_result"
    }
   ],
   "source": [
    "data_users['age'].sort_values(ascending=False).head(10)"
   ]
  },
  {
   "cell_type": "code",
   "execution_count": 39,
   "metadata": {},
   "outputs": [
    {
     "data": {
      "text/plain": [
       "count    1534.0\n",
       "mean       25.0\n",
       "std         5.0\n",
       "min        12.0\n",
       "25%        22.0\n",
       "50%        25.0\n",
       "75%        28.0\n",
       "max        43.0\n",
       "Name: age, dtype: float64"
      ]
     },
     "execution_count": 39,
     "metadata": {},
     "output_type": "execute_result"
    }
   ],
   "source": [
    "round(data_users['age'].describe(),0)"
   ]
  },
  {
   "cell_type": "code",
   "execution_count": 40,
   "metadata": {},
   "outputs": [
    {
     "data": {
      "image/png": "[encoded data removed]",
      "text/plain": [
       "<Figure size 432x288 with 1 Axes>"
      ]
     },
     "metadata": {
      "needs_background": "light"
     },
     "output_type": "display_data"
    }
   ],
   "source": [
    "plt.hist(data_users['age'], bins = 10)\n",
    "plt.title('Возраст пользователей')\n",
    "plt.xlabel('Возраст')\n",
    "plt.ylabel('Количество пользователей')\n",
    "plt.grid()\n",
    "plt.show()"
   ]
  },
  {
   "cell_type": "markdown",
   "metadata": {},
   "source": [
    "#### 3.4 расстояние, которое пользователь преодолел за одну поездку"
   ]
  },
  {
   "cell_type": "markdown",
   "metadata": {},
   "source": [
    "##### Самые короткиен поездки"
   ]
  },
  {
   "cell_type": "code",
   "execution_count": 41,
   "metadata": {},
   "outputs": [
    {
     "data": {
      "text/plain": [
       "11555     1.0\n",
       "9541      3.0\n",
       "13690     5.0\n",
       "8658      7.0\n",
       "7841      8.0\n",
       "8906     12.0\n",
       "8324     13.0\n",
       "13940    16.0\n",
       "11862    16.0\n",
       "15626    16.0\n",
       "Name: distance, dtype: float64"
      ]
     },
     "execution_count": 41,
     "metadata": {},
     "output_type": "execute_result"
    }
   ],
   "source": [
    "data_riders['distance'].sort_values().head(10)"
   ]
  },
  {
   "cell_type": "markdown",
   "metadata": {},
   "source": [
    "##### Самые длительные поездки"
   ]
  },
  {
   "cell_type": "code",
   "execution_count": 42,
   "metadata": {},
   "outputs": [
    {
     "data": {
      "text/plain": [
       "16309    7212.0\n",
       "16484    7067.0\n",
       "15580    6909.0\n",
       "17171    6761.0\n",
       "17242    6725.0\n",
       "10341    6672.0\n",
       "11385    6602.0\n",
       "12086    6539.0\n",
       "10915    6536.0\n",
       "11319    6504.0\n",
       "Name: distance, dtype: float64"
      ]
     },
     "execution_count": 42,
     "metadata": {},
     "output_type": "execute_result"
    }
   ],
   "source": [
    "\n",
    "data_riders['distance'].sort_values(ascending=False).head(10)"
   ]
  },
  {
   "cell_type": "code",
   "execution_count": 43,
   "metadata": {},
   "outputs": [
    {
     "data": {
      "image/png": "[encoded data removed]",
      "text/plain": [
       "<Figure size 432x288 with 1 Axes>"
      ]
     },
     "metadata": {
      "needs_background": "light"
     },
     "output_type": "display_data"
    }
   ],
   "source": [
    "sns.boxplot(x=data_riders['distance'], color='green')\n",
    "plt.title('Расстояние, преодоленное за одну поездку')\n",
    "plt.xlabel('Расстояние, м')\n",
    "_ = plt.xlim(0, 7000)"
   ]
  },
  {
   "cell_type": "code",
   "execution_count": 44,
   "metadata": {},
   "outputs": [
    {
     "data": {
      "image/png": "[encoded data removed]",
      "text/plain": [
       "<Figure size 432x288 with 1 Axes>"
      ]
     },
     "metadata": {
      "needs_background": "light"
     },
     "output_type": "display_data"
    }
   ],
   "source": [
    "plt.hist(data_riders['distance'], bins=20, color='green')\n",
    "plt.title('Распределение расстояния, преодоленного за одну поездку')\n",
    "plt.xlabel('Расстояние, м')\n",
    "plt.ylabel('Число поездок')\n",
    "plt.show()"
   ]
  },
  {
   "cell_type": "markdown",
   "metadata": {},
   "source": [
    "Два пика можно объяснить использованием самокатов пользователями - для быстрого достижения определенной точки, используя самокат(2-4км) либо для того, чтобы \"покататься\" - тогда большой дирстанции не будет и скорее всего подобное будет происходить на площадах и в парках (до 1 км)"
   ]
  },
  {
   "cell_type": "markdown",
   "metadata": {},
   "source": [
    "Как мы можем заметить: в таблице очень много выбросов - как поездки на пару метров(первый квартал), так и множество поездок свыше 6км (4 квартал)"
   ]
  },
  {
   "cell_type": "markdown",
   "metadata": {},
   "source": [
    "#### 3.5 продолжительность поездок"
   ]
  },
  {
   "cell_type": "markdown",
   "metadata": {},
   "source": [
    "##### Самые короткие"
   ]
  },
  {
   "cell_type": "code",
   "execution_count": 45,
   "metadata": {},
   "outputs": [
    {
     "data": {
      "text/plain": [
       "6860     1.0\n",
       "16704    1.0\n",
       "10426    1.0\n",
       "16336    1.0\n",
       "6531     1.0\n",
       "9282     1.0\n",
       "15132    1.0\n",
       "7437     1.0\n",
       "9622     1.0\n",
       "15771    1.0\n",
       "Name: duration, dtype: float64"
      ]
     },
     "execution_count": 45,
     "metadata": {},
     "output_type": "execute_result"
    }
   ],
   "source": [
    "data_riders['duration'].sort_values().head(10)"
   ]
  },
  {
   "cell_type": "markdown",
   "metadata": {},
   "source": [
    "##### Самые длительные поездки"
   ]
  },
  {
   "cell_type": "code",
   "execution_count": 46,
   "metadata": {},
   "outputs": [
    {
     "data": {
      "text/plain": [
       "4215    41.0\n",
       "4709    40.0\n",
       "2623    40.0\n",
       "1998    39.0\n",
       "6453    39.0\n",
       "143     39.0\n",
       "3729    38.0\n",
       "499     37.0\n",
       "5013    37.0\n",
       "1894    37.0\n",
       "Name: duration, dtype: float64"
      ]
     },
     "execution_count": 46,
     "metadata": {},
     "output_type": "execute_result"
    }
   ],
   "source": [
    "data_riders['duration'].sort_values(ascending=False).head(10)"
   ]
  },
  {
   "cell_type": "code",
   "execution_count": 47,
   "metadata": {},
   "outputs": [
    {
     "data": {
      "image/png": "[encoded data removed]",
      "text/plain": [
       "<Figure size 432x288 with 1 Axes>"
      ]
     },
     "metadata": {
      "needs_background": "light"
     },
     "output_type": "display_data"
    }
   ],
   "source": [
    "plt.hist(data_riders['duration'], bins=50, alpha=0.5, color='blue')\n",
    "plt.title('Время, проведенное в поездке')\n",
    "plt.xlabel('Время')\n",
    "plt.ylabel('Количество')\n",
    "plt.show()"
   ]
  },
  {
   "cell_type": "code",
   "execution_count": 48,
   "metadata": {},
   "outputs": [
    {
     "name": "stdout",
     "output_type": "stream",
     "text": [
      "Empty DataFrame\n",
      "Columns: [user_id, distance, duration, date, duration_time, month]\n",
      "Index: []\n"
     ]
    }
   ],
   "source": [
    "anomalous_data = data_riders[data_riders['duration'] < 1].sort_values(['duration_time','distance', 'month'])\n",
    "print(anomalous_data)"
   ]
  },
  {
   "cell_type": "markdown",
   "metadata": {},
   "source": [
    "Как мы видим - Поедки любой длинны имеют место быть, хотя чаще всего онги занимают 10-25 минут\n",
    "Так же стоит передать разработчикам информацию о возможности проехать свыше 4км за 30 секунд - возможно это стандартная скорость для самокатов... или, что более вероятно - техническая ошибка/используемый пользователями эксплойт для экономии."
   ]
  },
  {
   "cell_type": "markdown",
   "metadata": {},
   "source": [
    "#### Премежуточный вывод\n",
    "**Частота встречаемости городов**\n",
    "\n",
    "Количество пользователей по городам распределено примерно одинаково, нет выдающихся значений. Лидером по количеству пользователей является Пятигорск - 219 пользователей.\\ Меньше всего пользователей в Москве - 168. Связано это скорее всего с тем, что Пятигорск по размерам в несколько раз меньше Москвы, т.е. в Пятигорске удобнее брать самокат, чтобы куда-то добраться.\\\n",
    "Соотношение пользователей с подпиской и без подписки:\\\n",
    "Пользователей, использующих бесплатную подписку больше - 835 человек, что является ~54% от общего числа пользователей.\\ На платной подписке сидит 699 пользователей, что соответственно является ~46%.\n",
    "Возраст пользователей:\\\n",
    "-Самыми младшими являются пользователи 12, 13 лет.\\\n",
    "-Самыми старшими - 43, 39.\\\n",
    "В целом, пользователи приложения укладываются в промежуток от 20 до 30 лет.\\\n",
    "Расстояние, которое пользователь преодолел за одну поездку:\\\n",
    "-Самая короткая дистанция - 0.86 км\\\n",
    "-Самая длинная - 7.2 км\\\n",
    "В основном пользователи проезжают от 2.5 км до 4 км.\\\n",
    "Продолжительность поездок:\\\n",
    "-Самые короткие поездки - по пол минуты. Выглядят крайне странно, возможно пользователи просто передумали пользоваться самокатом. Либо же техническая неинсправность самого самоката.\\\n",
    "-Самая длинная поездка заняла 40 минут.\\\n",
    "В основном же длительность поездки состовляет 13 - 22 минут."
   ]
  },
  {
   "cell_type": "markdown",
   "metadata": {},
   "source": [
    "### Шаг 4. Объединение данных"
   ]
  },
  {
   "cell_type": "markdown",
   "metadata": {},
   "source": [
    "#### 4.1 Объединение данных о пользователях, поездках и подписках в один датафрейм."
   ]
  },
  {
   "cell_type": "code",
   "execution_count": 49,
   "metadata": {
    "scrolled": true
   },
   "outputs": [
    {
     "data": {
      "text/html": [
       "<div>\n",
       "<style scoped>\n",
       "    .dataframe tbody tr th:only-of-type {\n",
       "        vertical-align: middle;\n",
       "    }\n",
       "\n",
       "    .dataframe tbody tr th {\n",
       "        vertical-align: top;\n",
       "    }\n",
       "\n",
       "    .dataframe thead th {\n",
       "        text-align: right;\n",
       "    }\n",
       "</style>\n",
       "<table border=\"1\" class=\"dataframe\">\n",
       "  <thead>\n",
       "    <tr style=\"text-align: right;\">\n",
       "      <th></th>\n",
       "      <th>user_id</th>\n",
       "      <th>name</th>\n",
       "      <th>age</th>\n",
       "      <th>city</th>\n",
       "      <th>subscription_type</th>\n",
       "      <th>distance</th>\n",
       "      <th>duration</th>\n",
       "      <th>date</th>\n",
       "      <th>duration_time</th>\n",
       "      <th>month</th>\n",
       "      <th>minute_price</th>\n",
       "      <th>start_ride_price</th>\n",
       "      <th>subscription_fee</th>\n",
       "    </tr>\n",
       "  </thead>\n",
       "  <tbody>\n",
       "    <tr>\n",
       "      <th>0</th>\n",
       "      <td>1</td>\n",
       "      <td>Кира</td>\n",
       "      <td>22</td>\n",
       "      <td>Тюмень</td>\n",
       "      <td>ultra</td>\n",
       "      <td>4410.0</td>\n",
       "      <td>26.0</td>\n",
       "      <td>2021-01-01</td>\n",
       "      <td>00:26:00</td>\n",
       "      <td>1</td>\n",
       "      <td>6</td>\n",
       "      <td>0</td>\n",
       "      <td>199</td>\n",
       "    </tr>\n",
       "    <tr>\n",
       "      <th>1</th>\n",
       "      <td>1</td>\n",
       "      <td>Кира</td>\n",
       "      <td>22</td>\n",
       "      <td>Тюмень</td>\n",
       "      <td>ultra</td>\n",
       "      <td>2618.0</td>\n",
       "      <td>16.0</td>\n",
       "      <td>2021-01-18</td>\n",
       "      <td>00:16:00</td>\n",
       "      <td>1</td>\n",
       "      <td>6</td>\n",
       "      <td>0</td>\n",
       "      <td>199</td>\n",
       "    </tr>\n",
       "    <tr>\n",
       "      <th>2</th>\n",
       "      <td>1</td>\n",
       "      <td>Кира</td>\n",
       "      <td>22</td>\n",
       "      <td>Тюмень</td>\n",
       "      <td>ultra</td>\n",
       "      <td>755.0</td>\n",
       "      <td>7.0</td>\n",
       "      <td>2021-04-20</td>\n",
       "      <td>00:07:00</td>\n",
       "      <td>4</td>\n",
       "      <td>6</td>\n",
       "      <td>0</td>\n",
       "      <td>199</td>\n",
       "    </tr>\n",
       "    <tr>\n",
       "      <th>3</th>\n",
       "      <td>1</td>\n",
       "      <td>Кира</td>\n",
       "      <td>22</td>\n",
       "      <td>Тюмень</td>\n",
       "      <td>ultra</td>\n",
       "      <td>2695.0</td>\n",
       "      <td>19.0</td>\n",
       "      <td>2021-08-11</td>\n",
       "      <td>00:19:00</td>\n",
       "      <td>8</td>\n",
       "      <td>6</td>\n",
       "      <td>0</td>\n",
       "      <td>199</td>\n",
       "    </tr>\n",
       "    <tr>\n",
       "      <th>4</th>\n",
       "      <td>1</td>\n",
       "      <td>Кира</td>\n",
       "      <td>22</td>\n",
       "      <td>Тюмень</td>\n",
       "      <td>ultra</td>\n",
       "      <td>4029.0</td>\n",
       "      <td>27.0</td>\n",
       "      <td>2021-08-28</td>\n",
       "      <td>00:27:00</td>\n",
       "      <td>8</td>\n",
       "      <td>6</td>\n",
       "      <td>0</td>\n",
       "      <td>199</td>\n",
       "    </tr>\n",
       "    <tr>\n",
       "      <th>...</th>\n",
       "      <td>...</td>\n",
       "      <td>...</td>\n",
       "      <td>...</td>\n",
       "      <td>...</td>\n",
       "      <td>...</td>\n",
       "      <td>...</td>\n",
       "      <td>...</td>\n",
       "      <td>...</td>\n",
       "      <td>...</td>\n",
       "      <td>...</td>\n",
       "      <td>...</td>\n",
       "      <td>...</td>\n",
       "      <td>...</td>\n",
       "    </tr>\n",
       "    <tr>\n",
       "      <th>18063</th>\n",
       "      <td>1534</td>\n",
       "      <td>Альберт</td>\n",
       "      <td>25</td>\n",
       "      <td>Краснодар</td>\n",
       "      <td>free</td>\n",
       "      <td>3782.0</td>\n",
       "      <td>20.0</td>\n",
       "      <td>2021-11-04</td>\n",
       "      <td>00:20:00</td>\n",
       "      <td>11</td>\n",
       "      <td>8</td>\n",
       "      <td>50</td>\n",
       "      <td>0</td>\n",
       "    </tr>\n",
       "    <tr>\n",
       "      <th>18064</th>\n",
       "      <td>1534</td>\n",
       "      <td>Альберт</td>\n",
       "      <td>25</td>\n",
       "      <td>Краснодар</td>\n",
       "      <td>free</td>\n",
       "      <td>2841.0</td>\n",
       "      <td>22.0</td>\n",
       "      <td>2021-11-16</td>\n",
       "      <td>00:22:00</td>\n",
       "      <td>11</td>\n",
       "      <td>8</td>\n",
       "      <td>50</td>\n",
       "      <td>0</td>\n",
       "    </tr>\n",
       "    <tr>\n",
       "      <th>18065</th>\n",
       "      <td>1534</td>\n",
       "      <td>Альберт</td>\n",
       "      <td>25</td>\n",
       "      <td>Краснодар</td>\n",
       "      <td>free</td>\n",
       "      <td>3827.0</td>\n",
       "      <td>19.0</td>\n",
       "      <td>2021-11-18</td>\n",
       "      <td>00:19:00</td>\n",
       "      <td>11</td>\n",
       "      <td>8</td>\n",
       "      <td>50</td>\n",
       "      <td>0</td>\n",
       "    </tr>\n",
       "    <tr>\n",
       "      <th>18066</th>\n",
       "      <td>1534</td>\n",
       "      <td>Альберт</td>\n",
       "      <td>25</td>\n",
       "      <td>Краснодар</td>\n",
       "      <td>free</td>\n",
       "      <td>2903.0</td>\n",
       "      <td>17.0</td>\n",
       "      <td>2021-11-27</td>\n",
       "      <td>00:17:00</td>\n",
       "      <td>11</td>\n",
       "      <td>8</td>\n",
       "      <td>50</td>\n",
       "      <td>0</td>\n",
       "    </tr>\n",
       "    <tr>\n",
       "      <th>18067</th>\n",
       "      <td>1534</td>\n",
       "      <td>Альберт</td>\n",
       "      <td>25</td>\n",
       "      <td>Краснодар</td>\n",
       "      <td>free</td>\n",
       "      <td>2372.0</td>\n",
       "      <td>16.0</td>\n",
       "      <td>2021-12-29</td>\n",
       "      <td>00:16:00</td>\n",
       "      <td>12</td>\n",
       "      <td>8</td>\n",
       "      <td>50</td>\n",
       "      <td>0</td>\n",
       "    </tr>\n",
       "  </tbody>\n",
       "</table>\n",
       "<p>18068 rows × 13 columns</p>\n",
       "</div>"
      ],
      "text/plain": [
       "       user_id     name  age       city subscription_type  distance  duration  \\\n",
       "0            1     Кира   22     Тюмень             ultra    4410.0      26.0   \n",
       "1            1     Кира   22     Тюмень             ultra    2618.0      16.0   \n",
       "2            1     Кира   22     Тюмень             ultra     755.0       7.0   \n",
       "3            1     Кира   22     Тюмень             ultra    2695.0      19.0   \n",
       "4            1     Кира   22     Тюмень             ultra    4029.0      27.0   \n",
       "...        ...      ...  ...        ...               ...       ...       ...   \n",
       "18063     1534  Альберт   25  Краснодар              free    3782.0      20.0   \n",
       "18064     1534  Альберт   25  Краснодар              free    2841.0      22.0   \n",
       "18065     1534  Альберт   25  Краснодар              free    3827.0      19.0   \n",
       "18066     1534  Альберт   25  Краснодар              free    2903.0      17.0   \n",
       "18067     1534  Альберт   25  Краснодар              free    2372.0      16.0   \n",
       "\n",
       "            date duration_time  month  minute_price  start_ride_price  \\\n",
       "0     2021-01-01      00:26:00      1             6                 0   \n",
       "1     2021-01-18      00:16:00      1             6                 0   \n",
       "2     2021-04-20      00:07:00      4             6                 0   \n",
       "3     2021-08-11      00:19:00      8             6                 0   \n",
       "4     2021-08-28      00:27:00      8             6                 0   \n",
       "...          ...           ...    ...           ...               ...   \n",
       "18063 2021-11-04      00:20:00     11             8                50   \n",
       "18064 2021-11-16      00:22:00     11             8                50   \n",
       "18065 2021-11-18      00:19:00     11             8                50   \n",
       "18066 2021-11-27      00:17:00     11             8                50   \n",
       "18067 2021-12-29      00:16:00     12             8                50   \n",
       "\n",
       "       subscription_fee  \n",
       "0                   199  \n",
       "1                   199  \n",
       "2                   199  \n",
       "3                   199  \n",
       "4                   199  \n",
       "...                 ...  \n",
       "18063                 0  \n",
       "18064                 0  \n",
       "18065                 0  \n",
       "18066                 0  \n",
       "18067                 0  \n",
       "\n",
       "[18068 rows x 13 columns]"
      ]
     },
     "execution_count": 49,
     "metadata": {},
     "output_type": "execute_result"
    }
   ],
   "source": [
    "full_data = data_users.merge(data_riders, on ='user_id')\n",
    "full_data = full_data.merge(data_sub, on='subscription_type')\n",
    "full_data"
   ]
  },
  {
   "cell_type": "code",
   "execution_count": 50,
   "metadata": {},
   "outputs": [
    {
     "name": "stdout",
     "output_type": "stream",
     "text": [
      "Количество строк в data_users: 1534\n",
      "Количество строк в data_riders: 18068\n",
      "Количество строк в data_sub: 2\n",
      "Количество строк в объединенном датафрейме full_data: 18068\n"
     ]
    }
   ],
   "source": [
    "print(\"Количество строк в data_users:\", len(data_users))\n",
    "print(\"Количество строк в data_riders:\", len(data_riders))\n",
    "print(\"Количество строк в data_sub:\", len(data_sub))\n",
    "print(\"Количество строк в объединенном датафрейме full_data:\", len(full_data))"
   ]
  },
  {
   "cell_type": "markdown",
   "metadata": {},
   "source": [
    "Как мы можем заметить - количество строк итогового датафрейма совпадает с наибольшим количеством строк в датафреймах начальных, то есть мы ничего не добавили и не убрали."
   ]
  },
  {
   "cell_type": "markdown",
   "metadata": {},
   "source": [
    "#### 4.2 Создание датафреймов с данными о пользователях с подпиской и без"
   ]
  },
  {
   "cell_type": "markdown",
   "metadata": {},
   "source": [
    "##### C подпиской"
   ]
  },
  {
   "cell_type": "code",
   "execution_count": 51,
   "metadata": {},
   "outputs": [
    {
     "data": {
      "text/html": [
       "<div>\n",
       "<style scoped>\n",
       "    .dataframe tbody tr th:only-of-type {\n",
       "        vertical-align: middle;\n",
       "    }\n",
       "\n",
       "    .dataframe tbody tr th {\n",
       "        vertical-align: top;\n",
       "    }\n",
       "\n",
       "    .dataframe thead th {\n",
       "        text-align: right;\n",
       "    }\n",
       "</style>\n",
       "<table border=\"1\" class=\"dataframe\">\n",
       "  <thead>\n",
       "    <tr style=\"text-align: right;\">\n",
       "      <th></th>\n",
       "      <th>user_id</th>\n",
       "      <th>name</th>\n",
       "      <th>age</th>\n",
       "      <th>city</th>\n",
       "      <th>subscription_type</th>\n",
       "      <th>distance</th>\n",
       "      <th>duration</th>\n",
       "      <th>date</th>\n",
       "      <th>duration_time</th>\n",
       "      <th>month</th>\n",
       "      <th>minute_price</th>\n",
       "      <th>start_ride_price</th>\n",
       "      <th>subscription_fee</th>\n",
       "    </tr>\n",
       "  </thead>\n",
       "  <tbody>\n",
       "    <tr>\n",
       "      <th>6500</th>\n",
       "      <td>700</td>\n",
       "      <td>Айдар</td>\n",
       "      <td>22</td>\n",
       "      <td>Омск</td>\n",
       "      <td>free</td>\n",
       "      <td>2516.0</td>\n",
       "      <td>15.0</td>\n",
       "      <td>2021-01-02</td>\n",
       "      <td>00:15:00</td>\n",
       "      <td>1</td>\n",
       "      <td>8</td>\n",
       "      <td>50</td>\n",
       "      <td>0</td>\n",
       "    </tr>\n",
       "    <tr>\n",
       "      <th>6501</th>\n",
       "      <td>700</td>\n",
       "      <td>Айдар</td>\n",
       "      <td>22</td>\n",
       "      <td>Омск</td>\n",
       "      <td>free</td>\n",
       "      <td>847.0</td>\n",
       "      <td>17.0</td>\n",
       "      <td>2021-02-01</td>\n",
       "      <td>00:17:00</td>\n",
       "      <td>2</td>\n",
       "      <td>8</td>\n",
       "      <td>50</td>\n",
       "      <td>0</td>\n",
       "    </tr>\n",
       "    <tr>\n",
       "      <th>6502</th>\n",
       "      <td>700</td>\n",
       "      <td>Айдар</td>\n",
       "      <td>22</td>\n",
       "      <td>Омск</td>\n",
       "      <td>free</td>\n",
       "      <td>4005.0</td>\n",
       "      <td>21.0</td>\n",
       "      <td>2021-02-04</td>\n",
       "      <td>00:21:00</td>\n",
       "      <td>2</td>\n",
       "      <td>8</td>\n",
       "      <td>50</td>\n",
       "      <td>0</td>\n",
       "    </tr>\n",
       "    <tr>\n",
       "      <th>6503</th>\n",
       "      <td>700</td>\n",
       "      <td>Айдар</td>\n",
       "      <td>22</td>\n",
       "      <td>Омск</td>\n",
       "      <td>free</td>\n",
       "      <td>1206.0</td>\n",
       "      <td>10.0</td>\n",
       "      <td>2021-02-10</td>\n",
       "      <td>00:10:00</td>\n",
       "      <td>2</td>\n",
       "      <td>8</td>\n",
       "      <td>50</td>\n",
       "      <td>0</td>\n",
       "    </tr>\n",
       "    <tr>\n",
       "      <th>6504</th>\n",
       "      <td>700</td>\n",
       "      <td>Айдар</td>\n",
       "      <td>22</td>\n",
       "      <td>Омск</td>\n",
       "      <td>free</td>\n",
       "      <td>3048.0</td>\n",
       "      <td>18.0</td>\n",
       "      <td>2021-02-14</td>\n",
       "      <td>00:18:00</td>\n",
       "      <td>2</td>\n",
       "      <td>8</td>\n",
       "      <td>50</td>\n",
       "      <td>0</td>\n",
       "    </tr>\n",
       "  </tbody>\n",
       "</table>\n",
       "</div>"
      ],
      "text/plain": [
       "      user_id   name  age  city subscription_type  distance  duration  \\\n",
       "6500      700  Айдар   22  Омск              free    2516.0      15.0   \n",
       "6501      700  Айдар   22  Омск              free     847.0      17.0   \n",
       "6502      700  Айдар   22  Омск              free    4005.0      21.0   \n",
       "6503      700  Айдар   22  Омск              free    1206.0      10.0   \n",
       "6504      700  Айдар   22  Омск              free    3048.0      18.0   \n",
       "\n",
       "           date duration_time  month  minute_price  start_ride_price  \\\n",
       "6500 2021-01-02      00:15:00      1             8                50   \n",
       "6501 2021-02-01      00:17:00      2             8                50   \n",
       "6502 2021-02-04      00:21:00      2             8                50   \n",
       "6503 2021-02-10      00:10:00      2             8                50   \n",
       "6504 2021-02-14      00:18:00      2             8                50   \n",
       "\n",
       "      subscription_fee  \n",
       "6500                 0  \n",
       "6501                 0  \n",
       "6502                 0  \n",
       "6503                 0  \n",
       "6504                 0  "
      ]
     },
     "execution_count": 51,
     "metadata": {},
     "output_type": "execute_result"
    }
   ],
   "source": [
    "free_sub = full_data.query(\"`subscription_type` == 'free'\")\n",
    "free_sub.head()"
   ]
  },
  {
   "cell_type": "markdown",
   "metadata": {},
   "source": [
    "##### Без подписки"
   ]
  },
  {
   "cell_type": "code",
   "execution_count": 52,
   "metadata": {},
   "outputs": [
    {
     "data": {
      "text/html": [
       "<div>\n",
       "<style scoped>\n",
       "    .dataframe tbody tr th:only-of-type {\n",
       "        vertical-align: middle;\n",
       "    }\n",
       "\n",
       "    .dataframe tbody tr th {\n",
       "        vertical-align: top;\n",
       "    }\n",
       "\n",
       "    .dataframe thead th {\n",
       "        text-align: right;\n",
       "    }\n",
       "</style>\n",
       "<table border=\"1\" class=\"dataframe\">\n",
       "  <thead>\n",
       "    <tr style=\"text-align: right;\">\n",
       "      <th></th>\n",
       "      <th>user_id</th>\n",
       "      <th>name</th>\n",
       "      <th>age</th>\n",
       "      <th>city</th>\n",
       "      <th>subscription_type</th>\n",
       "      <th>distance</th>\n",
       "      <th>duration</th>\n",
       "      <th>date</th>\n",
       "      <th>duration_time</th>\n",
       "      <th>month</th>\n",
       "      <th>minute_price</th>\n",
       "      <th>start_ride_price</th>\n",
       "      <th>subscription_fee</th>\n",
       "    </tr>\n",
       "  </thead>\n",
       "  <tbody>\n",
       "    <tr>\n",
       "      <th>0</th>\n",
       "      <td>1</td>\n",
       "      <td>Кира</td>\n",
       "      <td>22</td>\n",
       "      <td>Тюмень</td>\n",
       "      <td>ultra</td>\n",
       "      <td>4410.0</td>\n",
       "      <td>26.0</td>\n",
       "      <td>2021-01-01</td>\n",
       "      <td>00:26:00</td>\n",
       "      <td>1</td>\n",
       "      <td>6</td>\n",
       "      <td>0</td>\n",
       "      <td>199</td>\n",
       "    </tr>\n",
       "    <tr>\n",
       "      <th>1</th>\n",
       "      <td>1</td>\n",
       "      <td>Кира</td>\n",
       "      <td>22</td>\n",
       "      <td>Тюмень</td>\n",
       "      <td>ultra</td>\n",
       "      <td>2618.0</td>\n",
       "      <td>16.0</td>\n",
       "      <td>2021-01-18</td>\n",
       "      <td>00:16:00</td>\n",
       "      <td>1</td>\n",
       "      <td>6</td>\n",
       "      <td>0</td>\n",
       "      <td>199</td>\n",
       "    </tr>\n",
       "    <tr>\n",
       "      <th>2</th>\n",
       "      <td>1</td>\n",
       "      <td>Кира</td>\n",
       "      <td>22</td>\n",
       "      <td>Тюмень</td>\n",
       "      <td>ultra</td>\n",
       "      <td>755.0</td>\n",
       "      <td>7.0</td>\n",
       "      <td>2021-04-20</td>\n",
       "      <td>00:07:00</td>\n",
       "      <td>4</td>\n",
       "      <td>6</td>\n",
       "      <td>0</td>\n",
       "      <td>199</td>\n",
       "    </tr>\n",
       "    <tr>\n",
       "      <th>3</th>\n",
       "      <td>1</td>\n",
       "      <td>Кира</td>\n",
       "      <td>22</td>\n",
       "      <td>Тюмень</td>\n",
       "      <td>ultra</td>\n",
       "      <td>2695.0</td>\n",
       "      <td>19.0</td>\n",
       "      <td>2021-08-11</td>\n",
       "      <td>00:19:00</td>\n",
       "      <td>8</td>\n",
       "      <td>6</td>\n",
       "      <td>0</td>\n",
       "      <td>199</td>\n",
       "    </tr>\n",
       "    <tr>\n",
       "      <th>4</th>\n",
       "      <td>1</td>\n",
       "      <td>Кира</td>\n",
       "      <td>22</td>\n",
       "      <td>Тюмень</td>\n",
       "      <td>ultra</td>\n",
       "      <td>4029.0</td>\n",
       "      <td>27.0</td>\n",
       "      <td>2021-08-28</td>\n",
       "      <td>00:27:00</td>\n",
       "      <td>8</td>\n",
       "      <td>6</td>\n",
       "      <td>0</td>\n",
       "      <td>199</td>\n",
       "    </tr>\n",
       "  </tbody>\n",
       "</table>\n",
       "</div>"
      ],
      "text/plain": [
       "   user_id  name  age    city subscription_type  distance  duration  \\\n",
       "0        1  Кира   22  Тюмень             ultra    4410.0      26.0   \n",
       "1        1  Кира   22  Тюмень             ultra    2618.0      16.0   \n",
       "2        1  Кира   22  Тюмень             ultra     755.0       7.0   \n",
       "3        1  Кира   22  Тюмень             ultra    2695.0      19.0   \n",
       "4        1  Кира   22  Тюмень             ultra    4029.0      27.0   \n",
       "\n",
       "        date duration_time  month  minute_price  start_ride_price  \\\n",
       "0 2021-01-01      00:26:00      1             6                 0   \n",
       "1 2021-01-18      00:16:00      1             6                 0   \n",
       "2 2021-04-20      00:07:00      4             6                 0   \n",
       "3 2021-08-11      00:19:00      8             6                 0   \n",
       "4 2021-08-28      00:27:00      8             6                 0   \n",
       "\n",
       "   subscription_fee  \n",
       "0               199  \n",
       "1               199  \n",
       "2               199  \n",
       "3               199  \n",
       "4               199  "
      ]
     },
     "execution_count": 52,
     "metadata": {},
     "output_type": "execute_result"
    }
   ],
   "source": [
    "ultra_sub = full_data.query(\"`subscription_type` == 'ultra'\")\n",
    "ultra_sub.head()"
   ]
  },
  {
   "cell_type": "markdown",
   "metadata": {},
   "source": [
    "#### 4.3 Визуализация \n",
    "<span style=\"color: #FF0000\">В</span><span style=\"color: #FF7F00\">из</span><span style=\"color: #FFFF00\">уа</span><span style=\"color: #00FF00\">ли</span><span style=\": #0000FF\">за</span><span style=\"color: #4B0082\">ци</span><span style=\"color: #9400D3\">я</span>"
   ]
  },
  {
   "cell_type": "markdown",
   "metadata": {},
   "source": [
    "##### Бесплатный тариф"
   ]
  },
  {
   "cell_type": "markdown",
   "metadata": {},
   "source": [
    "###### Расстояние"
   ]
  },
  {
   "cell_type": "code",
   "execution_count": 53,
   "metadata": {},
   "outputs": [
    {
     "data": {
      "image/png": "[encoded data removed]",
      "text/plain": [
       "<Figure size 432x288 with 1 Axes>"
      ]
     },
     "metadata": {
      "needs_background": "light"
     },
     "output_type": "display_data"
    }
   ],
   "source": [
    "plt.hist(free_sub['distance'], bins=40, range = (0, 6000))\n",
    "plt.title('Расстояние, бесплатный тариф')\n",
    "plt.xlabel('Расстояние, м')\n",
    "plt.ylabel('Количество поездок')\n",
    "plt.show()"
   ]
  },
  {
   "cell_type": "markdown",
   "metadata": {},
   "source": [
    "###### Время"
   ]
  },
  {
   "cell_type": "code",
   "execution_count": 54,
   "metadata": {},
   "outputs": [
    {
     "data": {
      "image/png": "[encoded data removed]",
      "text/plain": [
       "<Figure size 432x288 with 1 Axes>"
      ]
     },
     "metadata": {
      "needs_background": "light"
     },
     "output_type": "display_data"
    }
   ],
   "source": [
    "plt.hist(free_sub['duration'], bins=50, range = (1, 35))\n",
    "plt.title('Время, бесплатный тариф')\n",
    "plt.xlabel('Время поездки, минуты')\n",
    "plt.ylabel('Количество поездок')\n",
    "plt.show()"
   ]
  },
  {
   "cell_type": "markdown",
   "metadata": {},
   "source": [
    "#### Ультра тариф"
   ]
  },
  {
   "cell_type": "markdown",
   "metadata": {},
   "source": [
    "###### Расстояние"
   ]
  },
  {
   "cell_type": "code",
   "execution_count": 55,
   "metadata": {},
   "outputs": [
    {
     "data": {
      "image/png": "[encoded data removed]",
      "text/plain": [
       "<Figure size 432x288 with 1 Axes>"
      ]
     },
     "metadata": {
      "needs_background": "light"
     },
     "output_type": "display_data"
    }
   ],
   "source": [
    "plt.hist(ultra_sub['distance'], bins=40, range = (0, 6000))\n",
    "plt.title('Расстояние, платный тариф')\n",
    "plt.xlabel('Расстояние, м')\n",
    "plt.ylabel('Количество поездок')\n",
    "plt.show()"
   ]
  },
  {
   "cell_type": "markdown",
   "metadata": {},
   "source": [
    "###### Время"
   ]
  },
  {
   "cell_type": "code",
   "execution_count": 56,
   "metadata": {},
   "outputs": [
    {
     "data": {
      "image/png": "[encoded data removed]",
      "text/plain": [
       "<Figure size 432x288 with 1 Axes>"
      ]
     },
     "metadata": {
      "needs_background": "light"
     },
     "output_type": "display_data"
    }
   ],
   "source": [
    "plt.hist(ultra_sub['duration'], bins=30, range = (0, 35))\n",
    "plt.title('Время, платный тариф')\n",
    "plt.xlabel('Время поездки, минуты')\n",
    "plt.ylabel('Количество поездок')\n",
    "plt.show()"
   ]
  },
  {
   "cell_type": "code",
   "execution_count": 57,
   "metadata": {},
   "outputs": [
    {
     "data": {
      "image/png": "[encoded data removed]",
      "text/plain": [
       "<Figure size 432x288 with 1 Axes>"
      ]
     },
     "metadata": {
      "needs_background": "light"
     },
     "output_type": "display_data"
    }
   ],
   "source": [
    "plt.hist(ultra_sub['distance'], bins=40, range=(0, 6000), color='blue', alpha=0.7, label='Расстояние')\n",
    "\n",
    "plt.hist(ultra_sub['duration'], bins=30, range=(0, 35), color='green', alpha=0.5, label='Время', histtype='stepfilled')\n",
    "\n",
    "plt.title('Распределение расстояния и времени для пользователей платного тарифа ultra')\n",
    "plt.xlabel('Значение')\n",
    "plt.ylabel('Количество поездок')\n",
    "plt.legend()\n",
    "plt.show()"
   ]
  },
  {
   "cell_type": "markdown",
   "metadata": {},
   "source": [
    "##### Наложения по времени и расстоянию"
   ]
  },
  {
   "cell_type": "code",
   "execution_count": 58,
   "metadata": {},
   "outputs": [
    {
     "data": {
      "image/png": "[encoded data removed]",
      "text/plain": [
       "<Figure size 432x288 with 1 Axes>"
      ]
     },
     "metadata": {
      "needs_background": "light"
     },
     "output_type": "display_data"
    }
   ],
   "source": [
    "plt.hist(free_sub['duration'], bins=50, range=(1, 35), alpha=0.5, label='Бесплатный тариф')\n",
    "plt.hist(ultra_sub['duration'], bins=30, range=(0, 35), alpha=0.5, label='Платный тариф')\n",
    "plt.title('Сравнение времени поездок между бесплатным и платным тарифами')\n",
    "plt.xlabel('Время поездки, минуты')\n",
    "plt.ylabel('Количество поездок')\n",
    "plt.legend(loc='upper right')\n",
    "plt.show()"
   ]
  },
  {
   "cell_type": "code",
   "execution_count": 59,
   "metadata": {},
   "outputs": [
    {
     "data": {
      "image/png": "[encoded data removed]",
      "text/plain": [
       "<Figure size 432x288 with 1 Axes>"
      ]
     },
     "metadata": {
      "needs_background": "light"
     },
     "output_type": "display_data"
    }
   ],
   "source": [
    "plt.hist(free_sub['distance'], bins=40, range=(0, 6000), alpha=0.5, label='Бесплатный тариф')\n",
    "plt.hist(ultra_sub['distance'], bins=40, range=(0, 6000), alpha=0.5, label='Платный тариф')\n",
    "plt.title('Сравнение расстояний поездок между бесплатным и платным тарифами')\n",
    "plt.xlabel('Расстояние, м')\n",
    "plt.ylabel('Количество поездок')\n",
    "plt.legend(loc='upper right')\n",
    "plt.show()"
   ]
  },
  {
   "cell_type": "markdown",
   "metadata": {},
   "source": [
    "##### Промежуточный вывод\n",
    "Проделанная работа:\\\n",
    "-Объединили данные о пользователях, поездках и тарифах в один датафрейм - full_data.\\\n",
    "-Выделили два датафрейма на основе full_data:\\\n",
    "--free_sub - Информация о пользователях с бесплатным тарифом\\\n",
    "--ultra_sub - Информация о пользователях с платным тарифом\\\n",
    "-Визуализировали информацию о расстоянии и времени для каждого из тарифов.\n",
    "Выводы:\\\n",
    "-Для бесплатного тарифа время поездки составляет от 10 до 30 минут, и проезжают от 2 до 5 км, есть пользователи, которые проехали даже 6, 6.5 км.\\\n",
    "-Платный тариф. В основном время укладывается в промежуток от 15 до 25 минут. Пик расстояния приходится на 3км.\\\n",
    "Таким образом, можно сделать вывод, что пользователи с бесплатным тарифом в целом совершают более долгие поездки, а также проезжают большее расстояние, чем пользователи на платном тарифе."
   ]
  },
  {
   "cell_type": "markdown",
   "metadata": {},
   "source": [
    "### Часть 5 - Аггрегация и формирование гипотез;"
   ]
  },
  {
   "cell_type": "markdown",
   "metadata": {},
   "source": [
    "#### Датафрейм с аггрегированными данными"
   ]
  },
  {
   "cell_type": "markdown",
   "metadata": {},
   "source": [
    "5.1 Создайте датафрейм с агрегированными данными о поездках на основе датафрейма с объединёнными данными из шага 4:\\\n",
    " найдите суммарное расстояние, количество поездок и суммарное время для каждого пользователя за каждый месяц."
   ]
  },
  {
   "cell_type": "code",
   "execution_count": 60,
   "metadata": {},
   "outputs": [
    {
     "data": {
      "text/html": [
       "<div>\n",
       "<style scoped>\n",
       "    .dataframe tbody tr th:only-of-type {\n",
       "        vertical-align: middle;\n",
       "    }\n",
       "\n",
       "    .dataframe tbody tr th {\n",
       "        vertical-align: top;\n",
       "    }\n",
       "\n",
       "    .dataframe thead th {\n",
       "        text-align: right;\n",
       "    }\n",
       "</style>\n",
       "<table border=\"1\" class=\"dataframe\">\n",
       "  <thead>\n",
       "    <tr style=\"text-align: right;\">\n",
       "      <th></th>\n",
       "      <th></th>\n",
       "      <th>distance</th>\n",
       "      <th>duration</th>\n",
       "      <th>duration_time</th>\n",
       "      <th>minute_price</th>\n",
       "      <th>count_tips</th>\n",
       "      <th>start_ride_price</th>\n",
       "      <th>subscription_fee</th>\n",
       "      <th>subscription_type</th>\n",
       "    </tr>\n",
       "    <tr>\n",
       "      <th>month</th>\n",
       "      <th>user_id</th>\n",
       "      <th></th>\n",
       "      <th></th>\n",
       "      <th></th>\n",
       "      <th></th>\n",
       "      <th></th>\n",
       "      <th></th>\n",
       "      <th></th>\n",
       "      <th></th>\n",
       "    </tr>\n",
       "  </thead>\n",
       "  <tbody>\n",
       "    <tr>\n",
       "      <th rowspan=\"10\" valign=\"top\">1</th>\n",
       "      <th>1224</th>\n",
       "      <td>4431.0</td>\n",
       "      <td>1.0</td>\n",
       "      <td>00:01:00</td>\n",
       "      <td>8</td>\n",
       "      <td>1</td>\n",
       "      <td>50</td>\n",
       "      <td>0</td>\n",
       "      <td>free</td>\n",
       "    </tr>\n",
       "    <tr>\n",
       "      <th>922</th>\n",
       "      <td>4621.0</td>\n",
       "      <td>1.0</td>\n",
       "      <td>00:01:00</td>\n",
       "      <td>8</td>\n",
       "      <td>1</td>\n",
       "      <td>50</td>\n",
       "      <td>0</td>\n",
       "      <td>free</td>\n",
       "    </tr>\n",
       "    <tr>\n",
       "      <th>1460</th>\n",
       "      <td>5532.0</td>\n",
       "      <td>1.0</td>\n",
       "      <td>00:01:00</td>\n",
       "      <td>8</td>\n",
       "      <td>1</td>\n",
       "      <td>50</td>\n",
       "      <td>0</td>\n",
       "      <td>free</td>\n",
       "    </tr>\n",
       "    <tr>\n",
       "      <th>1150</th>\n",
       "      <td>5667.0</td>\n",
       "      <td>1.0</td>\n",
       "      <td>00:01:00</td>\n",
       "      <td>8</td>\n",
       "      <td>1</td>\n",
       "      <td>50</td>\n",
       "      <td>0</td>\n",
       "      <td>free</td>\n",
       "    </tr>\n",
       "    <tr>\n",
       "      <th>1498</th>\n",
       "      <td>550.0</td>\n",
       "      <td>4.0</td>\n",
       "      <td>00:04:00</td>\n",
       "      <td>8</td>\n",
       "      <td>1</td>\n",
       "      <td>50</td>\n",
       "      <td>0</td>\n",
       "      <td>free</td>\n",
       "    </tr>\n",
       "    <tr>\n",
       "      <th>1308</th>\n",
       "      <td>687.0</td>\n",
       "      <td>4.0</td>\n",
       "      <td>00:04:00</td>\n",
       "      <td>8</td>\n",
       "      <td>1</td>\n",
       "      <td>50</td>\n",
       "      <td>0</td>\n",
       "      <td>free</td>\n",
       "    </tr>\n",
       "    <tr>\n",
       "      <th>996</th>\n",
       "      <td>402.0</td>\n",
       "      <td>5.0</td>\n",
       "      <td>00:05:00</td>\n",
       "      <td>8</td>\n",
       "      <td>1</td>\n",
       "      <td>50</td>\n",
       "      <td>0</td>\n",
       "      <td>free</td>\n",
       "    </tr>\n",
       "    <tr>\n",
       "      <th>1243</th>\n",
       "      <td>542.0</td>\n",
       "      <td>5.0</td>\n",
       "      <td>00:05:00</td>\n",
       "      <td>8</td>\n",
       "      <td>1</td>\n",
       "      <td>50</td>\n",
       "      <td>0</td>\n",
       "      <td>free</td>\n",
       "    </tr>\n",
       "    <tr>\n",
       "      <th>787</th>\n",
       "      <td>402.0</td>\n",
       "      <td>6.0</td>\n",
       "      <td>00:06:00</td>\n",
       "      <td>8</td>\n",
       "      <td>1</td>\n",
       "      <td>50</td>\n",
       "      <td>0</td>\n",
       "      <td>free</td>\n",
       "    </tr>\n",
       "    <tr>\n",
       "      <th>378</th>\n",
       "      <td>598.0</td>\n",
       "      <td>6.0</td>\n",
       "      <td>00:06:00</td>\n",
       "      <td>6</td>\n",
       "      <td>1</td>\n",
       "      <td>0</td>\n",
       "      <td>199</td>\n",
       "      <td>ultra</td>\n",
       "    </tr>\n",
       "  </tbody>\n",
       "</table>\n",
       "</div>"
      ],
      "text/plain": [
       "               distance  duration duration_time  minute_price  count_tips  \\\n",
       "month user_id                                                               \n",
       "1     1224       4431.0       1.0      00:01:00             8           1   \n",
       "      922        4621.0       1.0      00:01:00             8           1   \n",
       "      1460       5532.0       1.0      00:01:00             8           1   \n",
       "      1150       5667.0       1.0      00:01:00             8           1   \n",
       "      1498        550.0       4.0      00:04:00             8           1   \n",
       "      1308        687.0       4.0      00:04:00             8           1   \n",
       "      996         402.0       5.0      00:05:00             8           1   \n",
       "      1243        542.0       5.0      00:05:00             8           1   \n",
       "      787         402.0       6.0      00:06:00             8           1   \n",
       "      378         598.0       6.0      00:06:00             6           1   \n",
       "\n",
       "               start_ride_price  subscription_fee subscription_type  \n",
       "month user_id                                                        \n",
       "1     1224                   50                 0              free  \n",
       "      922                    50                 0              free  \n",
       "      1460                   50                 0              free  \n",
       "      1150                   50                 0              free  \n",
       "      1498                   50                 0              free  \n",
       "      1308                   50                 0              free  \n",
       "      996                    50                 0              free  \n",
       "      1243                   50                 0              free  \n",
       "      787                    50                 0              free  \n",
       "      378                     0               199             ultra  "
      ]
     },
     "execution_count": 60,
     "metadata": {},
     "output_type": "execute_result"
    }
   ],
   "source": [
    "total_data = pd.pivot_table(full_data,\n",
    "                           index=['month', 'user_id'],\n",
    "                           values = ['distance', 'duration', 'name', 'subscription_type', 'duration_time',\n",
    "                                    'minute_price', 'start_ride_price', 'subscription_fee'],\n",
    "                           aggfunc = {'distance': sum, \n",
    "                                      'duration': sum,\n",
    "                                      'duration_time' : min, \n",
    "                                      'name' : len, \n",
    "                                      'subscription_type' : min,\n",
    "                                      'minute_price': min, \n",
    "                                      'start_ride_price': min, \n",
    "                                      'subscription_fee': min})\n",
    "\n",
    "\n",
    "total_data.rename(columns = {'name' : 'count_tips'}, inplace = True)\n",
    "total_data.sort_values(by=['month','count_tips','duration','distance']).head(10)"
   ]
  },
  {
   "cell_type": "markdown",
   "metadata": {},
   "source": [
    "#### 5.2 Добавление столбца с помесячной выручкой\n",
    "\n",
    "5.2 В этот же датафрейм добавьте столбец с помесячной выручкой, которую принёс каждый пользователь.\\\n",
    " Для этого обратитесь к информации об условиях оплаты для подписчиков и тех, у кого нет подписки.\\\n",
    " Продолжительность каждой поездки в каждой строке исходного датафрейма для подсчёта стоимости округляется до\\\n",
    " следующего целого числа: например, значения 25.3, 25.5 и 26.0 должны быть преобразованы к 26."
   ]
  },
  {
   "cell_type": "code",
   "execution_count": 61,
   "metadata": {},
   "outputs": [
    {
     "data": {
      "text/html": [
       "<div>\n",
       "<style scoped>\n",
       "    .dataframe tbody tr th:only-of-type {\n",
       "        vertical-align: middle;\n",
       "    }\n",
       "\n",
       "    .dataframe tbody tr th {\n",
       "        vertical-align: top;\n",
       "    }\n",
       "\n",
       "    .dataframe thead th {\n",
       "        text-align: right;\n",
       "    }\n",
       "</style>\n",
       "<table border=\"1\" class=\"dataframe\">\n",
       "  <thead>\n",
       "    <tr style=\"text-align: right;\">\n",
       "      <th></th>\n",
       "      <th></th>\n",
       "      <th>distance</th>\n",
       "      <th>duration</th>\n",
       "      <th>duration_time</th>\n",
       "      <th>minute_price</th>\n",
       "      <th>count_tips</th>\n",
       "      <th>start_ride_price</th>\n",
       "      <th>subscription_fee</th>\n",
       "      <th>subscription_type</th>\n",
       "      <th>monthly_revenue</th>\n",
       "    </tr>\n",
       "    <tr>\n",
       "      <th>month</th>\n",
       "      <th>user_id</th>\n",
       "      <th></th>\n",
       "      <th></th>\n",
       "      <th></th>\n",
       "      <th></th>\n",
       "      <th></th>\n",
       "      <th></th>\n",
       "      <th></th>\n",
       "      <th></th>\n",
       "      <th></th>\n",
       "    </tr>\n",
       "  </thead>\n",
       "  <tbody>\n",
       "    <tr>\n",
       "      <th rowspan=\"10\" valign=\"top\">1</th>\n",
       "      <th>1</th>\n",
       "      <td>7028.0</td>\n",
       "      <td>42.0</td>\n",
       "      <td>00:16:00</td>\n",
       "      <td>6</td>\n",
       "      <td>2</td>\n",
       "      <td>0</td>\n",
       "      <td>199</td>\n",
       "      <td>ultra</td>\n",
       "      <td>451.0</td>\n",
       "    </tr>\n",
       "    <tr>\n",
       "      <th>3</th>\n",
       "      <td>3062.0</td>\n",
       "      <td>13.0</td>\n",
       "      <td>00:13:00</td>\n",
       "      <td>6</td>\n",
       "      <td>1</td>\n",
       "      <td>0</td>\n",
       "      <td>199</td>\n",
       "      <td>ultra</td>\n",
       "      <td>277.0</td>\n",
       "    </tr>\n",
       "    <tr>\n",
       "      <th>5</th>\n",
       "      <td>3915.0</td>\n",
       "      <td>13.0</td>\n",
       "      <td>00:13:00</td>\n",
       "      <td>6</td>\n",
       "      <td>1</td>\n",
       "      <td>0</td>\n",
       "      <td>199</td>\n",
       "      <td>ultra</td>\n",
       "      <td>277.0</td>\n",
       "    </tr>\n",
       "    <tr>\n",
       "      <th>7</th>\n",
       "      <td>6479.0</td>\n",
       "      <td>28.0</td>\n",
       "      <td>00:11:00</td>\n",
       "      <td>6</td>\n",
       "      <td>2</td>\n",
       "      <td>0</td>\n",
       "      <td>199</td>\n",
       "      <td>ultra</td>\n",
       "      <td>367.0</td>\n",
       "    </tr>\n",
       "    <tr>\n",
       "      <th>12</th>\n",
       "      <td>3578.0</td>\n",
       "      <td>33.0</td>\n",
       "      <td>00:33:00</td>\n",
       "      <td>6</td>\n",
       "      <td>1</td>\n",
       "      <td>0</td>\n",
       "      <td>199</td>\n",
       "      <td>ultra</td>\n",
       "      <td>397.0</td>\n",
       "    </tr>\n",
       "    <tr>\n",
       "      <th>13</th>\n",
       "      <td>6689.0</td>\n",
       "      <td>42.0</td>\n",
       "      <td>00:18:00</td>\n",
       "      <td>6</td>\n",
       "      <td>2</td>\n",
       "      <td>0</td>\n",
       "      <td>199</td>\n",
       "      <td>ultra</td>\n",
       "      <td>451.0</td>\n",
       "    </tr>\n",
       "    <tr>\n",
       "      <th>14</th>\n",
       "      <td>7701.0</td>\n",
       "      <td>35.0</td>\n",
       "      <td>00:15:00</td>\n",
       "      <td>6</td>\n",
       "      <td>2</td>\n",
       "      <td>0</td>\n",
       "      <td>199</td>\n",
       "      <td>ultra</td>\n",
       "      <td>409.0</td>\n",
       "    </tr>\n",
       "    <tr>\n",
       "      <th>15</th>\n",
       "      <td>4188.0</td>\n",
       "      <td>39.0</td>\n",
       "      <td>00:39:00</td>\n",
       "      <td>6</td>\n",
       "      <td>1</td>\n",
       "      <td>0</td>\n",
       "      <td>199</td>\n",
       "      <td>ultra</td>\n",
       "      <td>433.0</td>\n",
       "    </tr>\n",
       "    <tr>\n",
       "      <th>20</th>\n",
       "      <td>3517.0</td>\n",
       "      <td>29.0</td>\n",
       "      <td>00:29:00</td>\n",
       "      <td>6</td>\n",
       "      <td>1</td>\n",
       "      <td>0</td>\n",
       "      <td>199</td>\n",
       "      <td>ultra</td>\n",
       "      <td>373.0</td>\n",
       "    </tr>\n",
       "    <tr>\n",
       "      <th>22</th>\n",
       "      <td>3059.0</td>\n",
       "      <td>13.0</td>\n",
       "      <td>00:13:00</td>\n",
       "      <td>6</td>\n",
       "      <td>1</td>\n",
       "      <td>0</td>\n",
       "      <td>199</td>\n",
       "      <td>ultra</td>\n",
       "      <td>277.0</td>\n",
       "    </tr>\n",
       "  </tbody>\n",
       "</table>\n",
       "</div>"
      ],
      "text/plain": [
       "               distance  duration duration_time  minute_price  count_tips  \\\n",
       "month user_id                                                               \n",
       "1     1          7028.0      42.0      00:16:00             6           2   \n",
       "      3          3062.0      13.0      00:13:00             6           1   \n",
       "      5          3915.0      13.0      00:13:00             6           1   \n",
       "      7          6479.0      28.0      00:11:00             6           2   \n",
       "      12         3578.0      33.0      00:33:00             6           1   \n",
       "      13         6689.0      42.0      00:18:00             6           2   \n",
       "      14         7701.0      35.0      00:15:00             6           2   \n",
       "      15         4188.0      39.0      00:39:00             6           1   \n",
       "      20         3517.0      29.0      00:29:00             6           1   \n",
       "      22         3059.0      13.0      00:13:00             6           1   \n",
       "\n",
       "               start_ride_price  subscription_fee subscription_type  \\\n",
       "month user_id                                                         \n",
       "1     1                       0               199             ultra   \n",
       "      3                       0               199             ultra   \n",
       "      5                       0               199             ultra   \n",
       "      7                       0               199             ultra   \n",
       "      12                      0               199             ultra   \n",
       "      13                      0               199             ultra   \n",
       "      14                      0               199             ultra   \n",
       "      15                      0               199             ultra   \n",
       "      20                      0               199             ultra   \n",
       "      22                      0               199             ultra   \n",
       "\n",
       "               monthly_revenue  \n",
       "month user_id                   \n",
       "1     1                  451.0  \n",
       "      3                  277.0  \n",
       "      5                  277.0  \n",
       "      7                  367.0  \n",
       "      12                 397.0  \n",
       "      13                 451.0  \n",
       "      14                 409.0  \n",
       "      15                 433.0  \n",
       "      20                 373.0  \n",
       "      22                 277.0  "
      ]
     },
     "execution_count": 61,
     "metadata": {},
     "output_type": "execute_result"
    }
   ],
   "source": [
    "def calculate_revenue(row):\n",
    "    if row['subscription_type'] is not None:\n",
    "        return row['minute_price'] * row['duration'] + row['start_ride_price'] * row['count_tips']+ row['subscription_fee']\n",
    "    else:\n",
    "        return 'Not such sub'\n",
    "\n",
    "total_data['monthly_revenue'] = total_data.apply(calculate_revenue, axis=1)\n",
    "total_data.head(10)"
   ]
  },
  {
   "cell_type": "markdown",
   "metadata": {},
   "source": [
    "Вывод:\n",
    "Создали новый датафрейм с агрегированными данными (total_data) на основе датафрейма с объединенными данными (full_data).\\\n",
    "Нашли суммарное расстояние, количество поездок и суммарное время для каждого пользователя за каждый месяц.\\\n",
    "Также добавили столбец с помесячной выручкой, которую принес каждый пользователь."
   ]
  },
  {
   "cell_type": "markdown",
   "metadata": {},
   "source": [
    "### Шаг 6. Проверка гипотез"
   ]
  },
  {
   "cell_type": "markdown",
   "metadata": {},
   "source": [
    "6.1 Важно понять, тратят ли пользователи с подпиской больше времени на поездки?\\\n",
    "Если да, то пользователи с подпиской могут быть «выгоднее» для компании. Проверьте гипотезу.\\\n",
    "Используйте исходные данные о продолжительности каждой сессии — отдельно для подписчиков и тех, у кого нет подписки.\n",
    "\n",
    "Проверим гипотезу: пользователи с подпиской тратят больше времени на поездки, чем пользователи на бесплатном тарифе.\\\n",
    "H_0: Время (duration) пользователей на подписке ultra = время (duration) пользователей на подписке free\\\n",
    "H_1: Время (duration) пользователей на подписке ultra > время (duration) пользователей на подписке free\\\n",
    "alpha = 0.05\n",
    "\n"
   ]
  },
  {
   "cell_type": "code",
   "execution_count": 62,
   "metadata": {},
   "outputs": [
    {
     "name": "stdout",
     "output_type": "stream",
     "text": [
      "2.4959453720736625e-34\n",
      "Отвергаем нулевую гипотезу\n"
     ]
    }
   ],
   "source": [
    "ultra = ultra_sub['duration'] \n",
    "free = free_sub['duration']\n",
    "\n",
    "results = st.ttest_ind(ultra, \n",
    "                       free,\n",
    "                       alternative = 'greater')\n",
    "\n",
    "alpha = 0.05\n",
    "\n",
    "print(results.pvalue)\n",
    "\n",
    "if results.pvalue < alpha:\n",
    "    print('Отвергаем нулевую гипотезу')\n",
    "else:\n",
    "    print('Не удалось отвергнуть нулевую гипотезу')"
   ]
  },
  {
   "cell_type": "code",
   "execution_count": 63,
   "metadata": {},
   "outputs": [
    {
     "name": "stdout",
     "output_type": "stream",
     "text": [
      "Средняя продолжительность поездок для пользователей с тарифом 'ultra': 19.04\n",
      "Средняя продолжительность поездок для пользователей с бесплатным тарифом: 17.89\n"
     ]
    }
   ],
   "source": [
    "mean_duration_ultra = ultra_sub['duration'].mean()\n",
    "mean_duration_free = free_sub['duration'].mean()\n",
    "\n",
    "print(\"Средняя продолжительность поездок для пользователей с тарифом 'ultra':\", round(mean_duration_ultra,2))\n",
    "print(\"Средняя продолжительность поездок для пользователей с бесплатным тарифом:\", round(mean_duration_free,2))"
   ]
  },
  {
   "cell_type": "code",
   "execution_count": 64,
   "metadata": {},
   "outputs": [
    {
     "data": {
      "image/png": "[encoded data removed]",
      "text/plain": [
       "<Figure size 720x432 with 1 Axes>"
      ]
     },
     "metadata": {
      "needs_background": "light"
     },
     "output_type": "display_data"
    }
   ],
   "source": [
    "plt.figure(figsize=(10, 6))\n",
    "ax = sns.boxplot(x='month', y='duration', hue='subscription_type', data=full_data, palette='Set2')\n",
    "\n",
    "# Настройка ос и заголовка\n",
    "plt.title('Распределение продолжительности поездок по видам подписок и месяцам')\n",
    "plt.xlabel('Месяц')\n",
    "plt.ylabel('Продолжительность поездки')\n",
    "\n",
    "# Отображение легенды\n",
    "plt.legend(title='Тип подписки')\n",
    "\n",
    "plt.show()"
   ]
  },
  {
   "cell_type": "code",
   "execution_count": 65,
   "metadata": {},
   "outputs": [
    {
     "data": {
      "image/png": "[encoded data removed]",
      "text/plain": [
       "<Figure size 720x432 with 1 Axes>"
      ]
     },
     "metadata": {
      "needs_background": "light"
     },
     "output_type": "display_data"
    }
   ],
   "source": [
    "plt.figure(figsize=(10, 6))\n",
    "ax = sns.barplot(x='month', y='duration', hue='subscription_type', data=full_data, ci=None, palette='muted')\n",
    "\n",
    "# Настройка осей и заголовка\n",
    "plt.title('Средняя продолжительность поездок по видам подписок и месяцам')\n",
    "plt.xlabel('Месяц')\n",
    "plt.ylabel('Средняя продолжительность поездки')\n",
    "\n",
    "plt.show()"
   ]
  },
  {
   "cell_type": "markdown",
   "metadata": {},
   "source": [
    "**Вывод*: пользователи с подпиской тратят больше времени на поездки, но прибыль от поездок на разных тарифах равна, так как пользователи без подписки проезжают большее расстояние, что в конечном итоге подтверждает опровержение нулевой гипотезы."
   ]
  },
  {
   "cell_type": "markdown",
   "metadata": {},
   "source": [
    "Мы это выяснили, исходя из того, что гипотеза о том, что платные пользователи тратят время на поездки больше была отвергнута, следовательно они приносят кампании меньше прибыли и с учетом меньшей платы за время, кампания получает с них меньше прибыли, особенно если учитывать траты на обслуживание после их поездок (которая, как мцы видим, в среднем больше чем у бесплатных пользователей.)"
   ]
  },
  {
   "cell_type": "markdown",
   "metadata": {},
   "source": [
    "6.2 Расстояние одной поездки в 3130 метров — оптимальное с точки зрения износа самоката.\\\n",
    " Можно ли сказать, что среднее расстояние, которое проезжают пользователи с подпиской за одну поездку, не превышает 3130 метров?\\\n",
    " Проверьте гипотезу и сделайте выводы.\n",
    "\n",
    "Для проверки данной гипотезы можно воспользоваться t-тестом для сравнения средних двух выборок.\\\n",
    "В данном случае, мы хотим проверить, что среднее расстояние, которое проезжают пользователи с подпиской ultra за одну поездку, не превышает 3130 метров."
   ]
  },
  {
   "cell_type": "markdown",
   "metadata": {},
   "source": [
    "H_0: Расстояние (distance) пользователей на подписке ultra = 3130 метров\\\n",
    "H_1: Расстояние (distance) пользователей на подписке ultra < 3130 метров\\\n",
    "alpha = 0.05"
   ]
  },
  {
   "cell_type": "code",
   "execution_count": 66,
   "metadata": {},
   "outputs": [
    {
     "name": "stdout",
     "output_type": "stream",
     "text": [
      "Не отвергаем нулевую гипотезу. Нет статистически значимых доказательств в пользу того, что среднее расстояние, которое проезжают пользователи с подпиской ultra, превышает 3130 метров.\n"
     ]
    }
   ],
   "source": [
    "ultra_dist = ultra_sub[ultra_sub['subscription_type'] == 'ultra']['distance']\n",
    "\n",
    "t_stat, p_value = st.ttest_1samp(ultra_dist, 3130, alternative='greater')\n",
    "\n",
    "alpha = 0.05\n",
    "\n",
    "if p_value < alpha:\n",
    "    print(\"Отвергаем нулевую гипотезу. Существуют статистически значимые доказательства того, что среднее расстояние, которое проезжают пользователи с подпиской ultra, превышает 3130 метров.\")\n",
    "else:\n",
    "    print(\"Не отвергаем нулевую гипотезу. Нет статистически значимых доказательств в пользу того, что среднее расстояние, которое проезжают пользователи с подпиской ultra, превышает 3130 метров.\")"
   ]
  },
  {
   "cell_type": "code",
   "execution_count": 67,
   "metadata": {},
   "outputs": [
    {
     "data": {
      "image/png": "[encoded data removed]",
      "text/plain": [
       "<Figure size 432x288 with 1 Axes>"
      ]
     },
     "metadata": {
      "needs_background": "light"
     },
     "output_type": "display_data"
    }
   ],
   "source": [
    "plt.hist(ultra_dist, bins=20, color='blue', alpha=0.7, label='Распределение расстояния')\n",
    "\n",
    "plt.axvline(x=ultra_dist.mean(), color='red', linestyle='dashed', linewidth=2, label='Среднее расстояние')\n",
    "\n",
    "plt.axvline(x=3130, color='green', linestyle='dashed', linewidth=2, label='3130 метров')\n",
    "\n",
    "plt.xlabel('Расстояние, м')\n",
    "plt.ylabel('Число поездок')\n",
    "plt.title('Распределение расстояния для пользователей с подпиской ultra')\n",
    "plt.legend()\n",
    "plt.show()"
   ]
  },
  {
   "cell_type": "markdown",
   "metadata": {},
   "source": [
    "**Вывод**: гипотеза проверена и опровергнута, следовательно, на основе статистически значимых доказательств того, что среднее расстояние, которое проезжают пользователи с подпиской ultra, не превышает 3130 метров (и по графику видно, что среднее расстояние приблизительно равно 3130м), мы не можем утверждать, что расстояние, которое проехали пользователи на тарифе ultra не превышает 3130 метров. "
   ]
  },
  {
   "cell_type": "markdown",
   "metadata": {},
   "source": [
    "6.3 Проверьте гипотезу о том, будет ли помесячная выручка от пользователей с подпиской по месяцам выше, чем выручка от пользователей без подписки. Сделайте вывод.\n",
    "\n",
    "H_0: Выручка (revenue_per_month) пользователей на подписке ultra = выручка (revenue_per_month) пользователей на подписке free\\\n",
    "H_1: Выручка (revenue_per_month) пользователей на подписке ultra > выручка (revenue_per_month) пользователей на подписке free\\\n",
    "alpha = 0.05"
   ]
  },
  {
   "cell_type": "code",
   "execution_count": 68,
   "metadata": {
    "scrolled": true
   },
   "outputs": [
    {
     "data": {
      "text/html": [
       "<div>\n",
       "<style scoped>\n",
       "    .dataframe tbody tr th:only-of-type {\n",
       "        vertical-align: middle;\n",
       "    }\n",
       "\n",
       "    .dataframe tbody tr th {\n",
       "        vertical-align: top;\n",
       "    }\n",
       "\n",
       "    .dataframe thead th {\n",
       "        text-align: right;\n",
       "    }\n",
       "</style>\n",
       "<table border=\"1\" class=\"dataframe\">\n",
       "  <thead>\n",
       "    <tr style=\"text-align: right;\">\n",
       "      <th></th>\n",
       "      <th>user_id</th>\n",
       "      <th>name</th>\n",
       "      <th>age</th>\n",
       "      <th>city</th>\n",
       "      <th>subscription_type</th>\n",
       "      <th>distance</th>\n",
       "      <th>duration</th>\n",
       "      <th>date</th>\n",
       "      <th>duration_time</th>\n",
       "      <th>month</th>\n",
       "      <th>minute_price</th>\n",
       "      <th>start_ride_price</th>\n",
       "      <th>subscription_fee</th>\n",
       "      <th>monthly_revenue</th>\n",
       "    </tr>\n",
       "  </thead>\n",
       "  <tbody>\n",
       "    <tr>\n",
       "      <th>0</th>\n",
       "      <td>1</td>\n",
       "      <td>Кира</td>\n",
       "      <td>22</td>\n",
       "      <td>Тюмень</td>\n",
       "      <td>ultra</td>\n",
       "      <td>4410.0</td>\n",
       "      <td>26.0</td>\n",
       "      <td>2021-01-01</td>\n",
       "      <td>00:26:00</td>\n",
       "      <td>1</td>\n",
       "      <td>6</td>\n",
       "      <td>0</td>\n",
       "      <td>199</td>\n",
       "      <td>355.0</td>\n",
       "    </tr>\n",
       "    <tr>\n",
       "      <th>1</th>\n",
       "      <td>1</td>\n",
       "      <td>Кира</td>\n",
       "      <td>22</td>\n",
       "      <td>Тюмень</td>\n",
       "      <td>ultra</td>\n",
       "      <td>2618.0</td>\n",
       "      <td>16.0</td>\n",
       "      <td>2021-01-18</td>\n",
       "      <td>00:16:00</td>\n",
       "      <td>1</td>\n",
       "      <td>6</td>\n",
       "      <td>0</td>\n",
       "      <td>199</td>\n",
       "      <td>295.0</td>\n",
       "    </tr>\n",
       "    <tr>\n",
       "      <th>2</th>\n",
       "      <td>1</td>\n",
       "      <td>Кира</td>\n",
       "      <td>22</td>\n",
       "      <td>Тюмень</td>\n",
       "      <td>ultra</td>\n",
       "      <td>755.0</td>\n",
       "      <td>7.0</td>\n",
       "      <td>2021-04-20</td>\n",
       "      <td>00:07:00</td>\n",
       "      <td>4</td>\n",
       "      <td>6</td>\n",
       "      <td>0</td>\n",
       "      <td>199</td>\n",
       "      <td>241.0</td>\n",
       "    </tr>\n",
       "    <tr>\n",
       "      <th>3</th>\n",
       "      <td>1</td>\n",
       "      <td>Кира</td>\n",
       "      <td>22</td>\n",
       "      <td>Тюмень</td>\n",
       "      <td>ultra</td>\n",
       "      <td>2695.0</td>\n",
       "      <td>19.0</td>\n",
       "      <td>2021-08-11</td>\n",
       "      <td>00:19:00</td>\n",
       "      <td>8</td>\n",
       "      <td>6</td>\n",
       "      <td>0</td>\n",
       "      <td>199</td>\n",
       "      <td>313.0</td>\n",
       "    </tr>\n",
       "    <tr>\n",
       "      <th>4</th>\n",
       "      <td>1</td>\n",
       "      <td>Кира</td>\n",
       "      <td>22</td>\n",
       "      <td>Тюмень</td>\n",
       "      <td>ultra</td>\n",
       "      <td>4029.0</td>\n",
       "      <td>27.0</td>\n",
       "      <td>2021-08-28</td>\n",
       "      <td>00:27:00</td>\n",
       "      <td>8</td>\n",
       "      <td>6</td>\n",
       "      <td>0</td>\n",
       "      <td>199</td>\n",
       "      <td>361.0</td>\n",
       "    </tr>\n",
       "    <tr>\n",
       "      <th>5</th>\n",
       "      <td>1</td>\n",
       "      <td>Кира</td>\n",
       "      <td>22</td>\n",
       "      <td>Тюмень</td>\n",
       "      <td>ultra</td>\n",
       "      <td>2771.0</td>\n",
       "      <td>17.0</td>\n",
       "      <td>2021-10-09</td>\n",
       "      <td>00:17:00</td>\n",
       "      <td>10</td>\n",
       "      <td>6</td>\n",
       "      <td>0</td>\n",
       "      <td>199</td>\n",
       "      <td>301.0</td>\n",
       "    </tr>\n",
       "    <tr>\n",
       "      <th>6</th>\n",
       "      <td>1</td>\n",
       "      <td>Кира</td>\n",
       "      <td>22</td>\n",
       "      <td>Тюмень</td>\n",
       "      <td>ultra</td>\n",
       "      <td>3040.0</td>\n",
       "      <td>15.0</td>\n",
       "      <td>2021-10-19</td>\n",
       "      <td>00:15:00</td>\n",
       "      <td>10</td>\n",
       "      <td>6</td>\n",
       "      <td>0</td>\n",
       "      <td>199</td>\n",
       "      <td>289.0</td>\n",
       "    </tr>\n",
       "    <tr>\n",
       "      <th>7</th>\n",
       "      <td>1</td>\n",
       "      <td>Кира</td>\n",
       "      <td>22</td>\n",
       "      <td>Тюмень</td>\n",
       "      <td>ultra</td>\n",
       "      <td>2843.0</td>\n",
       "      <td>24.0</td>\n",
       "      <td>2021-11-06</td>\n",
       "      <td>00:24:00</td>\n",
       "      <td>11</td>\n",
       "      <td>6</td>\n",
       "      <td>0</td>\n",
       "      <td>199</td>\n",
       "      <td>343.0</td>\n",
       "    </tr>\n",
       "    <tr>\n",
       "      <th>8</th>\n",
       "      <td>1</td>\n",
       "      <td>Кира</td>\n",
       "      <td>22</td>\n",
       "      <td>Тюмень</td>\n",
       "      <td>ultra</td>\n",
       "      <td>3413.0</td>\n",
       "      <td>16.0</td>\n",
       "      <td>2021-11-14</td>\n",
       "      <td>00:16:00</td>\n",
       "      <td>11</td>\n",
       "      <td>6</td>\n",
       "      <td>0</td>\n",
       "      <td>199</td>\n",
       "      <td>295.0</td>\n",
       "    </tr>\n",
       "    <tr>\n",
       "      <th>9</th>\n",
       "      <td>1</td>\n",
       "      <td>Кира</td>\n",
       "      <td>22</td>\n",
       "      <td>Тюмень</td>\n",
       "      <td>ultra</td>\n",
       "      <td>749.0</td>\n",
       "      <td>16.0</td>\n",
       "      <td>2021-11-22</td>\n",
       "      <td>00:16:00</td>\n",
       "      <td>11</td>\n",
       "      <td>6</td>\n",
       "      <td>0</td>\n",
       "      <td>199</td>\n",
       "      <td>295.0</td>\n",
       "    </tr>\n",
       "  </tbody>\n",
       "</table>\n",
       "</div>"
      ],
      "text/plain": [
       "   user_id  name  age    city subscription_type  distance  duration  \\\n",
       "0        1  Кира   22  Тюмень             ultra    4410.0      26.0   \n",
       "1        1  Кира   22  Тюмень             ultra    2618.0      16.0   \n",
       "2        1  Кира   22  Тюмень             ultra     755.0       7.0   \n",
       "3        1  Кира   22  Тюмень             ultra    2695.0      19.0   \n",
       "4        1  Кира   22  Тюмень             ultra    4029.0      27.0   \n",
       "5        1  Кира   22  Тюмень             ultra    2771.0      17.0   \n",
       "6        1  Кира   22  Тюмень             ultra    3040.0      15.0   \n",
       "7        1  Кира   22  Тюмень             ultra    2843.0      24.0   \n",
       "8        1  Кира   22  Тюмень             ultra    3413.0      16.0   \n",
       "9        1  Кира   22  Тюмень             ultra     749.0      16.0   \n",
       "\n",
       "        date duration_time  month  minute_price  start_ride_price  \\\n",
       "0 2021-01-01      00:26:00      1             6                 0   \n",
       "1 2021-01-18      00:16:00      1             6                 0   \n",
       "2 2021-04-20      00:07:00      4             6                 0   \n",
       "3 2021-08-11      00:19:00      8             6                 0   \n",
       "4 2021-08-28      00:27:00      8             6                 0   \n",
       "5 2021-10-09      00:17:00     10             6                 0   \n",
       "6 2021-10-19      00:15:00     10             6                 0   \n",
       "7 2021-11-06      00:24:00     11             6                 0   \n",
       "8 2021-11-14      00:16:00     11             6                 0   \n",
       "9 2021-11-22      00:16:00     11             6                 0   \n",
       "\n",
       "   subscription_fee  monthly_revenue  \n",
       "0               199            355.0  \n",
       "1               199            295.0  \n",
       "2               199            241.0  \n",
       "3               199            313.0  \n",
       "4               199            361.0  \n",
       "5               199            301.0  \n",
       "6               199            289.0  \n",
       "7               199            343.0  \n",
       "8               199            295.0  \n",
       "9               199            295.0  "
      ]
     },
     "execution_count": 68,
     "metadata": {},
     "output_type": "execute_result"
    }
   ],
   "source": [
    "def revenue(row):\n",
    "    if row['subscription_type'] == 'ultra':\n",
    "        return row['minute_price'] * row['duration'] + row['start_ride_price']+ row['subscription_fee']\n",
    "    elif row['subscription_type'] == 'free':\n",
    "        return row['minute_price'] * row['duration'] + row['start_ride_price']+ row['subscription_fee']\n",
    "    else:\n",
    "        return 'Not such sub'\n",
    "\n",
    "full_data['monthly_revenue'] = full_data.apply(revenue, axis=1)\n",
    "full_data.head(10)"
   ]
  },
  {
   "cell_type": "code",
   "execution_count": 69,
   "metadata": {},
   "outputs": [
    {
     "name": "stdout",
     "output_type": "stream",
     "text": [
      "1.8850394384715216e-31\n",
      "Средняя выручка для пользователей с тарифом 'ultra': 313.22615384615386\n",
      "Средняя выручка для пользователей с бесплатным тарифом: 193.12793914246197\n",
      "Отвергаем нулевую гипотезу\n"
     ]
    }
   ],
   "source": [
    "ultra_per_mnth = total_data.loc[total_data['subscription_type'] == 'ultra', 'monthly_revenue'] \n",
    "free_per_mnth = total_data.loc[total_data['subscription_type'] == 'free', 'monthly_revenue'] \n",
    "\n",
    "ultra_per_mnth_all = full_data.loc[full_data['subscription_type'] == 'ultra', 'monthly_revenue'] \n",
    "free_per_mnth_all = full_data.loc[full_data['subscription_type'] == 'free', 'monthly_revenue'] \n",
    "\n",
    "ultra_mean_revenue = ultra_per_mnth_all.mean()\n",
    "free_mean_revenue = free_per_mnth_all.mean()\n",
    "\n",
    "results = st.ttest_ind(ultra_per_mnth, \n",
    "                       free_per_mnth,\n",
    "                       alternative='greater')\n",
    "\n",
    "alpha = 0.05\n",
    "\n",
    "print(results.pvalue)\n",
    "\n",
    "print(\"Средняя выручка для пользователей с тарифом 'ultra':\", ultra_mean_revenue)\n",
    "print(\"Средняя выручка для пользователей с бесплатным тарифом:\", free_mean_revenue)\n",
    "\n",
    "if results.pvalue < alpha:\n",
    "    print('Отвергаем нулевую гипотезу')\n",
    "else:\n",
    "    print('Не удалось отвергнуть нулевую гипотезу')"
   ]
  },
  {
   "cell_type": "code",
   "execution_count": 70,
   "metadata": {},
   "outputs": [
    {
     "data": {
      "image/png": "[encoded data removed]",
      "text/plain": [
       "<Figure size 720x432 with 1 Axes>"
      ]
     },
     "metadata": {
      "needs_background": "light"
     },
     "output_type": "display_data"
    }
   ],
   "source": [
    "plt.figure(figsize=(10, 6))\n",
    "plt.hist(ultra_per_mnth, bins=10, alpha=0.5, label='Ultra')\n",
    "plt.hist(free_per_mnth, bins=10, alpha=0.5, label='Free')\n",
    "\n",
    "# Настройка осей и заголовка\n",
    "plt.title('Распределение доходов по типам подписок в месяц')\n",
    "plt.xlabel('Доход в месяц')\n",
    "plt.ylabel('Частота')\n",
    "plt.legend()\n",
    "plt.show()"
   ]
  },
  {
   "cell_type": "markdown",
   "metadata": {},
   "source": [
    "**Вывод**: на основе проверки гипотезы, мы можем утверждать, что выручка с пользователей на подписке ultra превышает выручку с пользователей на подписке free"
   ]
  },
  {
   "cell_type": "markdown",
   "metadata": {},
   "source": [
    "6.4 Представьте такую ситуацию: техническая команда сервиса обновила сервера, с которыми взаимодействует мобильное приложение.\\\n",
    "Она надеется, что из-за этого количество обращений в техподдержку значимо снизилось.\\\n",
    "Некоторый файл содержит для каждого пользователя данные о количестве обращений до обновления и после него.\\\n",
    "Какой тест вам понадобился бы для проверки этой гипотезы?"
   ]
  },
  {
   "cell_type": "markdown",
   "metadata": {},
   "source": [
    "**Ответ:**\n",
    "\n",
    "Для проверки гипотезы о значимом снижении количества обращений в техподдержку до и после обновления серверов мобильного приложения, можно воспользоваться парным t-тестом для связанных выборок.\\\n",
    "Этот тест подходит для сравнения средних значений в двух связанных группах, т.е. для проверки различий в одной и той же группе до и после воздействия (в данном случае, до и после обновления серверов).\\\n",
    "Другими словами, парный t-тест позволит оценить, есть ли статистически значимое различие между средними количествами обращений до и после обновления.\n",
    "Будем использовать гипотезу о равенстве средних для зависимых (парных) выборок.\\\n",
    "Гипотезы будут сформулированы так:\\\n",
    "H0 : μ1 = μ2\\\n",
    "H1 : μ1 > μ2\\\n",
    "где μ1 и μ2 - средние значения количество обращений в техподдержку до и после изменения.\\\n",
    "Метод, который нужно использовать при сравнении: scipy.stats.ttest_rel()"
   ]
  },
  {
   "cell_type": "markdown",
   "metadata": {},
   "source": [
    "Пример:"
   ]
  },
  {
   "cell_type": "code",
   "execution_count": 71,
   "metadata": {},
   "outputs": [
    {
     "name": "stdout",
     "output_type": "stream",
     "text": [
      "Значение t-статистики: 13.201754888325674\n",
      "p-значение: 1.774828178795375e-39\n"
     ]
    }
   ],
   "source": [
    "t_statistic, p_value = st.ttest_ind(ultra_per_mnth, free_per_mnth, equal_var=False)\n",
    "\n",
    "# Вывод результатов\n",
    "print(\"Значение t-статистики:\", t_statistic)\n",
    "print(\"p-значение:\", p_value)"
   ]
  },
  {
   "cell_type": "markdown",
   "metadata": {},
   "source": [
    "### Шаг 7. Общий вывод"
   ]
  },
  {
   "cell_type": "markdown",
   "metadata": {},
   "source": [
    "В ходе работы были загружены три датафрейма:с пользователями, информацией о поездках и информацией о подписках.\\\n",
    "В процессе их предобработки была проведена проверка на пропуски (которых обнаружено не было), на дубли (только в data_users, обработано) и проведена работа над типизацией данных.\\\n",
    "В ходе анализа предоставленных данных были выявлены сходные параметры по количеству проживающих в разных городах юзеров (Больше всего в Пятигорске - 219, наименьшее число в Москве - 168).\\\n",
    "Анализ подписок продемонстрировал аналогичную картину сходства - на 54% пользователей платной подписке (835 человек) в предоставленных таблицах пришлось 46% бесплатных подписок (699 человек).\n",
    "Средние возрастные рамки пользователей - в районе от 20 до 40  лет, а среднее расстояние использования - от 2,5 до 4 км за поездку, занимающую в среднем 10-25 минут.\n",
    "\n",
    "Последующий анализ включал в себя объединение данных всех трёх датафреймов с последующим делениям на данные о пользователях бесплатной и платной подписок, для которых впоследствии была написана визуализация полученных результатов.\\\n",
    "На осонове этой информации было уточнено следующее: для бесплатного тарифа время поездки составляет от 10 до 30 минут, и время поезки  от 2 до 5 км, но есть пользователи, которые проехали свыше 6км, а пользователи платного тарифа в основном тратят время на поездки в промежутке от 15 до 25 минут и их пик расстояния приходится на 3км.\\\n",
    "И в конечном итоге мы нашли суммарное расстояние, количество поездок и суммарное время для каждого пользователя за каждый месяц посредством сбора информации в отдельном датафрейме total_data, на основе данных которого был создан и продемонстрирован столбец с помесячной выручкой revenue_per_month.\n",
    "\n",
    "По итогдам проделанной работы можно сделать следующие выводы:\\\n",
    "-Пользователи с подпиской тратят больше времени на поездки, чем пользователи на бесплатном тарифе;\\\n",
    "-Пользователи с подпиской в большинстве проезжают расстояние, превышающее 3130 метров за одну поездку;\\\n",
    "-Помесячная выручка от пользователей с подпиской выше, чем выручка от пользователей без подписки.\\\n",
    "Таким образом мы можем утверждать, что пользователи с подпиской более выгодны для компании (время поездок влияет непосредственно на прибыль), но использование самокатов на большие расстояния требуют более частого технического обслуживания,\n",
    "что на прибыли негативно сказывается. С другой стороны среди пользователей бесплатной подписки подобное расстояние не является редкостью, а дальность и время, затраченный на поездки не компенсируют стабильность получения средств с ежемесячной подписки.\n",
    "\n",
    "В качестве рекомендаций можно указать следующее: тех специалистам проверить поездки на километры за 30 секунд на предмет эксплойтов программы, а непосредственно кампании незначительно увеличить стоимость минуты использования после достижения пользователем 3-4 километра дистанции для компенсации повышенных требований к обслуживанию."
   ]
  }
 ],
 "metadata": {
  "ExecuteTimeLog": [
   {
    "duration": 4763,
    "start_time": "2023-11-11T07:19:01.599Z"
   },
   {
    "duration": 283,
    "start_time": "2023-11-11T07:19:06.364Z"
   },
   {
    "duration": 14,
    "start_time": "2023-11-11T07:19:06.648Z"
   },
   {
    "duration": 15,
    "start_time": "2023-11-11T07:19:06.664Z"
   },
   {
    "duration": 10,
    "start_time": "2023-11-11T07:19:06.682Z"
   },
   {
    "duration": 6,
    "start_time": "2023-11-11T07:19:06.693Z"
   },
   {
    "duration": 8,
    "start_time": "2023-11-11T07:19:06.700Z"
   },
   {
    "duration": 30,
    "start_time": "2023-11-11T07:19:06.709Z"
   },
   {
    "duration": 17,
    "start_time": "2023-11-11T07:19:06.741Z"
   },
   {
    "duration": 165,
    "start_time": "2023-11-11T07:19:06.759Z"
   },
   {
    "duration": 111,
    "start_time": "2023-11-11T07:19:06.925Z"
   },
   {
    "duration": 6,
    "start_time": "2023-11-11T07:19:07.038Z"
   },
   {
    "duration": 142,
    "start_time": "2023-11-11T07:19:07.047Z"
   },
   {
    "duration": 5,
    "start_time": "2023-11-11T07:19:07.192Z"
   },
   {
    "duration": 105,
    "start_time": "2023-11-11T07:19:07.199Z"
   },
   {
    "duration": 10,
    "start_time": "2023-11-11T07:19:07.306Z"
   },
   {
    "duration": 22,
    "start_time": "2023-11-11T07:19:07.318Z"
   },
   {
    "duration": 18,
    "start_time": "2023-11-11T07:19:07.342Z"
   },
   {
    "duration": 16,
    "start_time": "2023-11-11T07:19:07.362Z"
   },
   {
    "duration": 15,
    "start_time": "2023-11-11T07:19:07.379Z"
   },
   {
    "duration": 772,
    "start_time": "2023-11-11T07:19:07.396Z"
   },
   {
    "duration": 10,
    "start_time": "2023-11-11T07:19:08.169Z"
   },
   {
    "duration": 23,
    "start_time": "2023-11-11T07:19:08.180Z"
   },
   {
    "duration": 27,
    "start_time": "2023-11-11T07:19:08.204Z"
   },
   {
    "duration": 7,
    "start_time": "2023-11-11T07:19:08.233Z"
   },
   {
    "duration": 5,
    "start_time": "2023-11-11T07:19:08.242Z"
   },
   {
    "duration": 21,
    "start_time": "2023-11-11T07:19:08.248Z"
   },
   {
    "duration": 6,
    "start_time": "2023-11-11T07:19:08.271Z"
   },
   {
    "duration": 9,
    "start_time": "2023-11-11T07:19:08.279Z"
   },
   {
    "duration": 6,
    "start_time": "2023-11-11T07:19:08.290Z"
   },
   {
    "duration": 88,
    "start_time": "2023-11-11T07:19:08.297Z"
   },
   {
    "duration": 6,
    "start_time": "2023-11-11T07:19:08.387Z"
   },
   {
    "duration": 8,
    "start_time": "2023-11-11T07:19:08.394Z"
   },
   {
    "duration": 3,
    "start_time": "2023-11-11T07:19:08.404Z"
   },
   {
    "duration": 23,
    "start_time": "2023-11-11T07:19:08.409Z"
   },
   {
    "duration": 8,
    "start_time": "2023-11-11T07:19:08.433Z"
   },
   {
    "duration": 140,
    "start_time": "2023-11-11T07:19:08.443Z"
   },
   {
    "duration": 6,
    "start_time": "2023-11-11T07:19:08.585Z"
   },
   {
    "duration": 94,
    "start_time": "2023-11-11T07:19:08.592Z"
   },
   {
    "duration": 5,
    "start_time": "2023-11-11T07:19:08.688Z"
   },
   {
    "duration": 112,
    "start_time": "2023-11-11T07:19:08.697Z"
   },
   {
    "duration": 182,
    "start_time": "2023-11-11T07:19:08.811Z"
   },
   {
    "duration": 7,
    "start_time": "2023-11-11T07:19:08.995Z"
   },
   {
    "duration": 6,
    "start_time": "2023-11-11T07:19:09.004Z"
   },
   {
    "duration": 103,
    "start_time": "2023-11-11T07:19:09.012Z"
   },
   {
    "duration": 14,
    "start_time": "2023-11-11T07:19:09.117Z"
   },
   {
    "duration": 7,
    "start_time": "2023-11-11T07:19:09.133Z"
   },
   {
    "duration": 177,
    "start_time": "2023-11-11T07:19:09.141Z"
   },
   {
    "duration": 41,
    "start_time": "2023-11-11T07:19:09.320Z"
   },
   {
    "duration": 18,
    "start_time": "2023-11-11T07:19:09.363Z"
   },
   {
    "duration": 14,
    "start_time": "2023-11-11T07:19:09.383Z"
   },
   {
    "duration": 188,
    "start_time": "2023-11-11T07:19:09.399Z"
   },
   {
    "duration": 177,
    "start_time": "2023-11-11T07:19:09.589Z"
   },
   {
    "duration": 172,
    "start_time": "2023-11-11T07:19:09.768Z"
   },
   {
    "duration": 257,
    "start_time": "2023-11-11T07:19:09.941Z"
   },
   {
    "duration": 832,
    "start_time": "2023-11-11T07:19:10.199Z"
   },
   {
    "duration": 2,
    "start_time": "2023-11-11T07:19:11.033Z"
   },
   {
    "duration": 151,
    "start_time": "2023-11-11T07:19:11.037Z"
   },
   {
    "duration": 5,
    "start_time": "2023-11-11T07:19:11.190Z"
   },
   {
    "duration": 647,
    "start_time": "2023-11-11T07:19:11.197Z"
   },
   {
    "duration": 228,
    "start_time": "2023-11-11T07:19:11.846Z"
   },
   {
    "duration": 4,
    "start_time": "2023-11-11T07:19:12.076Z"
   },
   {
    "duration": 404,
    "start_time": "2023-11-11T07:19:12.081Z"
   },
   {
    "duration": 8,
    "start_time": "2023-11-11T07:19:12.487Z"
   },
   {
    "duration": 175,
    "start_time": "2023-11-11T07:19:12.497Z"
   },
   {
    "duration": 5,
    "start_time": "2023-11-11T07:19:12.674Z"
   },
   {
    "duration": 6,
    "start_time": "2023-11-11T07:21:22.273Z"
   },
   {
    "duration": 13,
    "start_time": "2023-11-11T07:21:34.799Z"
   },
   {
    "duration": 4,
    "start_time": "2023-11-11T07:21:48.341Z"
   },
   {
    "duration": 5,
    "start_time": "2023-11-11T07:21:48.949Z"
   },
   {
    "duration": 8,
    "start_time": "2023-11-11T07:21:49.925Z"
   },
   {
    "duration": 14,
    "start_time": "2023-11-11T07:21:56.868Z"
   },
   {
    "duration": 6,
    "start_time": "2023-11-11T07:31:22.289Z"
   },
   {
    "duration": 3706,
    "start_time": "2023-11-11T07:42:08.833Z"
   },
   {
    "duration": 68,
    "start_time": "2023-11-11T07:42:12.541Z"
   },
   {
    "duration": 12,
    "start_time": "2023-11-11T07:42:12.611Z"
   },
   {
    "duration": 16,
    "start_time": "2023-11-11T07:42:12.625Z"
   },
   {
    "duration": 27,
    "start_time": "2023-11-11T07:42:12.643Z"
   },
   {
    "duration": 6,
    "start_time": "2023-11-11T07:42:12.672Z"
   },
   {
    "duration": 8,
    "start_time": "2023-11-11T07:42:12.679Z"
   },
   {
    "duration": 17,
    "start_time": "2023-11-11T07:42:12.689Z"
   },
   {
    "duration": 30,
    "start_time": "2023-11-11T07:42:12.708Z"
   },
   {
    "duration": 177,
    "start_time": "2023-11-11T07:42:12.741Z"
   },
   {
    "duration": 125,
    "start_time": "2023-11-11T07:42:12.920Z"
   },
   {
    "duration": 6,
    "start_time": "2023-11-11T07:42:13.047Z"
   },
   {
    "duration": 176,
    "start_time": "2023-11-11T07:42:13.054Z"
   },
   {
    "duration": 5,
    "start_time": "2023-11-11T07:42:13.232Z"
   },
   {
    "duration": 101,
    "start_time": "2023-11-11T07:42:13.239Z"
   },
   {
    "duration": 11,
    "start_time": "2023-11-11T07:42:13.341Z"
   },
   {
    "duration": 9,
    "start_time": "2023-11-11T07:42:13.354Z"
   },
   {
    "duration": 9,
    "start_time": "2023-11-11T07:42:13.364Z"
   },
   {
    "duration": 7,
    "start_time": "2023-11-11T07:42:13.374Z"
   },
   {
    "duration": 12,
    "start_time": "2023-11-11T07:42:13.382Z"
   },
   {
    "duration": 906,
    "start_time": "2023-11-11T07:42:13.396Z"
   },
   {
    "duration": 15,
    "start_time": "2023-11-11T07:42:14.304Z"
   },
   {
    "duration": 12,
    "start_time": "2023-11-11T07:42:14.330Z"
   },
   {
    "duration": 10,
    "start_time": "2023-11-11T07:42:14.344Z"
   },
   {
    "duration": 18,
    "start_time": "2023-11-11T07:42:14.356Z"
   },
   {
    "duration": 15,
    "start_time": "2023-11-11T07:42:14.375Z"
   },
   {
    "duration": 5,
    "start_time": "2023-11-11T07:42:14.391Z"
   },
   {
    "duration": 5,
    "start_time": "2023-11-11T07:42:14.400Z"
   },
   {
    "duration": 35,
    "start_time": "2023-11-11T07:42:14.406Z"
   },
   {
    "duration": 7,
    "start_time": "2023-11-11T07:42:14.442Z"
   },
   {
    "duration": 88,
    "start_time": "2023-11-11T07:42:14.450Z"
   },
   {
    "duration": 5,
    "start_time": "2023-11-11T07:42:14.539Z"
   },
   {
    "duration": 8,
    "start_time": "2023-11-11T07:42:14.546Z"
   },
   {
    "duration": 4,
    "start_time": "2023-11-11T07:42:14.556Z"
   },
   {
    "duration": 8,
    "start_time": "2023-11-11T07:42:14.562Z"
   },
   {
    "duration": 8,
    "start_time": "2023-11-11T07:42:14.572Z"
   },
   {
    "duration": 172,
    "start_time": "2023-11-11T07:42:14.581Z"
   },
   {
    "duration": 6,
    "start_time": "2023-11-11T07:42:14.754Z"
   },
   {
    "duration": 99,
    "start_time": "2023-11-11T07:42:14.762Z"
   },
   {
    "duration": 6,
    "start_time": "2023-11-11T07:42:14.862Z"
   },
   {
    "duration": 7,
    "start_time": "2023-11-11T07:42:14.869Z"
   },
   {
    "duration": 165,
    "start_time": "2023-11-11T07:42:14.878Z"
   },
   {
    "duration": 7,
    "start_time": "2023-11-11T07:42:15.045Z"
   },
   {
    "duration": 23,
    "start_time": "2023-11-11T07:42:15.054Z"
   },
   {
    "duration": 100,
    "start_time": "2023-11-11T07:42:15.079Z"
   },
   {
    "duration": 7,
    "start_time": "2023-11-11T07:42:15.181Z"
   },
   {
    "duration": 6,
    "start_time": "2023-11-11T07:42:15.189Z"
   },
   {
    "duration": 206,
    "start_time": "2023-11-11T07:42:15.196Z"
   },
   {
    "duration": 46,
    "start_time": "2023-11-11T07:42:15.404Z"
   },
   {
    "duration": 18,
    "start_time": "2023-11-11T07:42:15.452Z"
   },
   {
    "duration": 15,
    "start_time": "2023-11-11T07:42:15.471Z"
   },
   {
    "duration": 205,
    "start_time": "2023-11-11T07:42:15.487Z"
   },
   {
    "duration": 195,
    "start_time": "2023-11-11T07:42:15.694Z"
   },
   {
    "duration": 187,
    "start_time": "2023-11-11T07:42:15.891Z"
   },
   {
    "duration": 302,
    "start_time": "2023-11-11T07:42:16.080Z"
   },
   {
    "duration": 951,
    "start_time": "2023-11-11T07:42:16.384Z"
   },
   {
    "duration": 5,
    "start_time": "2023-11-11T07:42:17.337Z"
   },
   {
    "duration": 170,
    "start_time": "2023-11-11T07:42:17.344Z"
   },
   {
    "duration": 15,
    "start_time": "2023-11-11T07:42:17.515Z"
   },
   {
    "duration": 792,
    "start_time": "2023-11-11T07:42:17.532Z"
   },
   {
    "duration": 263,
    "start_time": "2023-11-11T07:42:18.325Z"
   },
   {
    "duration": 6,
    "start_time": "2023-11-11T07:42:18.590Z"
   },
   {
    "duration": 411,
    "start_time": "2023-11-11T07:42:18.597Z"
   },
   {
    "duration": 9,
    "start_time": "2023-11-11T07:42:19.010Z"
   },
   {
    "duration": 213,
    "start_time": "2023-11-11T07:42:19.030Z"
   },
   {
    "duration": 6,
    "start_time": "2023-11-11T07:42:19.245Z"
   },
   {
    "duration": 4535,
    "start_time": "2023-11-11T10:09:25.855Z"
   },
   {
    "duration": 201,
    "start_time": "2023-11-11T10:09:30.393Z"
   },
   {
    "duration": 11,
    "start_time": "2023-11-11T10:09:30.596Z"
   },
   {
    "duration": 11,
    "start_time": "2023-11-11T10:09:32.534Z"
   },
   {
    "duration": 8,
    "start_time": "2023-11-11T10:09:32.988Z"
   },
   {
    "duration": 5,
    "start_time": "2023-11-11T10:09:34.074Z"
   },
   {
    "duration": 6,
    "start_time": "2023-11-11T10:09:34.454Z"
   },
   {
    "duration": 13,
    "start_time": "2023-11-11T10:09:34.855Z"
   },
   {
    "duration": 13,
    "start_time": "2023-11-11T10:09:35.664Z"
   },
   {
    "duration": 148,
    "start_time": "2023-11-11T10:09:36.425Z"
   },
   {
    "duration": 107,
    "start_time": "2023-11-11T10:09:37.014Z"
   },
   {
    "duration": 5,
    "start_time": "2023-11-11T10:09:37.944Z"
   },
   {
    "duration": 147,
    "start_time": "2023-11-11T10:09:38.404Z"
   },
   {
    "duration": 5,
    "start_time": "2023-11-11T10:09:43.125Z"
   },
   {
    "duration": 85,
    "start_time": "2023-11-11T10:09:43.335Z"
   },
   {
    "duration": 11,
    "start_time": "2023-11-11T10:09:44.154Z"
   },
   {
    "duration": 9,
    "start_time": "2023-11-11T10:09:44.534Z"
   },
   {
    "duration": 9,
    "start_time": "2023-11-11T10:09:44.734Z"
   },
   {
    "duration": 6,
    "start_time": "2023-11-11T10:09:45.134Z"
   },
   {
    "duration": 11,
    "start_time": "2023-11-11T10:09:45.504Z"
   },
   {
    "duration": 785,
    "start_time": "2023-11-11T10:09:45.693Z"
   },
   {
    "duration": 9,
    "start_time": "2023-11-11T10:09:46.494Z"
   },
   {
    "duration": 7,
    "start_time": "2023-11-11T10:09:46.904Z"
   },
   {
    "duration": 6,
    "start_time": "2023-11-11T10:09:48.234Z"
   },
   {
    "duration": 6,
    "start_time": "2023-11-11T10:09:48.664Z"
   },
   {
    "duration": 5,
    "start_time": "2023-11-11T10:09:48.854Z"
   },
   {
    "duration": 6,
    "start_time": "2023-11-11T10:09:49.104Z"
   },
   {
    "duration": 6,
    "start_time": "2023-11-11T10:09:49.754Z"
   },
   {
    "duration": 9,
    "start_time": "2023-11-11T10:09:50.194Z"
   },
   {
    "duration": 5,
    "start_time": "2023-11-11T10:09:50.634Z"
   },
   {
    "duration": 84,
    "start_time": "2023-11-11T10:09:51.083Z"
   },
   {
    "duration": 6,
    "start_time": "2023-11-11T10:09:52.204Z"
   },
   {
    "duration": 7,
    "start_time": "2023-11-11T10:09:52.663Z"
   },
   {
    "duration": 5,
    "start_time": "2023-11-11T10:09:52.874Z"
   },
   {
    "duration": 6,
    "start_time": "2023-11-11T10:09:53.964Z"
   },
   {
    "duration": 8,
    "start_time": "2023-11-11T10:09:54.183Z"
   },
   {
    "duration": 151,
    "start_time": "2023-11-11T10:09:54.414Z"
   },
   {
    "duration": 157,
    "start_time": "2023-11-11T10:10:44.674Z"
   },
   {
    "duration": 111,
    "start_time": "2023-11-11T10:10:57.324Z"
   },
   {
    "duration": 174,
    "start_time": "2023-11-11T10:11:01.204Z"
   },
   {
    "duration": 162,
    "start_time": "2023-11-11T10:11:15.704Z"
   },
   {
    "duration": 5,
    "start_time": "2023-11-11T10:11:17.955Z"
   },
   {
    "duration": 88,
    "start_time": "2023-11-11T10:11:18.704Z"
   },
   {
    "duration": 4,
    "start_time": "2023-11-11T10:11:22.544Z"
   },
   {
    "duration": 6,
    "start_time": "2023-11-11T10:11:25.503Z"
   },
   {
    "duration": 9,
    "start_time": "2023-11-11T10:11:39.185Z"
   },
   {
    "duration": 8,
    "start_time": "2023-11-11T10:12:04.304Z"
   },
   {
    "duration": 9,
    "start_time": "2023-11-11T10:12:16.233Z"
   },
   {
    "duration": 136,
    "start_time": "2023-11-11T10:12:17.303Z"
   },
   {
    "duration": 7,
    "start_time": "2023-11-11T10:12:19.044Z"
   },
   {
    "duration": 10,
    "start_time": "2023-11-11T10:12:19.843Z"
   },
   {
    "duration": 105,
    "start_time": "2023-11-11T10:12:20.264Z"
   },
   {
    "duration": 240,
    "start_time": "2023-11-11T10:12:33.764Z"
   },
   {
    "duration": 156,
    "start_time": "2023-11-11T10:12:53.754Z"
   },
   {
    "duration": 6,
    "start_time": "2023-11-11T10:12:55.964Z"
   },
   {
    "duration": 7,
    "start_time": "2023-11-11T10:12:57.174Z"
   },
   {
    "duration": 179,
    "start_time": "2023-11-11T10:12:57.564Z"
   },
   {
    "duration": 10,
    "start_time": "2023-11-11T10:13:52.214Z"
   },
   {
    "duration": 12,
    "start_time": "2023-11-11T10:15:25.193Z"
   },
   {
    "duration": 41,
    "start_time": "2023-11-11T10:18:04.393Z"
   },
   {
    "duration": 4,
    "start_time": "2023-11-11T10:18:29.073Z"
   },
   {
    "duration": 4,
    "start_time": "2023-11-11T10:18:43.262Z"
   },
   {
    "duration": 2367,
    "start_time": "2023-11-11T10:20:47.022Z"
   },
   {
    "duration": 2206,
    "start_time": "2023-11-11T10:20:49.752Z"
   },
   {
    "duration": 2290,
    "start_time": "2023-11-11T10:20:54.842Z"
   },
   {
    "duration": 2346,
    "start_time": "2023-11-11T10:21:16.642Z"
   },
   {
    "duration": 7,
    "start_time": "2023-11-11T10:21:26.653Z"
   },
   {
    "duration": 4,
    "start_time": "2023-11-11T10:21:36.953Z"
   },
   {
    "duration": 6,
    "start_time": "2023-11-11T10:21:56.393Z"
   },
   {
    "duration": 5,
    "start_time": "2023-11-11T10:25:51.262Z"
   },
   {
    "duration": 3,
    "start_time": "2023-11-11T10:26:00.042Z"
   },
   {
    "duration": 7,
    "start_time": "2023-11-11T10:26:03.902Z"
   },
   {
    "duration": 38,
    "start_time": "2023-11-11T10:26:07.911Z"
   },
   {
    "duration": 8,
    "start_time": "2023-11-11T10:26:09.842Z"
   },
   {
    "duration": 115,
    "start_time": "2023-11-11T10:28:02.291Z"
   },
   {
    "duration": 81,
    "start_time": "2023-11-11T10:29:14.801Z"
   },
   {
    "duration": 13,
    "start_time": "2023-11-11T10:29:52.261Z"
   },
   {
    "duration": 12,
    "start_time": "2023-11-11T10:29:59.870Z"
   },
   {
    "duration": 14,
    "start_time": "2023-11-11T10:30:26.151Z"
   },
   {
    "duration": 17,
    "start_time": "2023-11-11T10:32:42.156Z"
   },
   {
    "duration": 18,
    "start_time": "2023-11-11T10:35:33.646Z"
   },
   {
    "duration": 15,
    "start_time": "2023-11-11T10:35:46.806Z"
   },
   {
    "duration": 13,
    "start_time": "2023-11-11T10:35:59.466Z"
   },
   {
    "duration": 36,
    "start_time": "2023-11-11T10:36:08.166Z"
   },
   {
    "duration": 17,
    "start_time": "2023-11-11T10:36:28.396Z"
   },
   {
    "duration": 14,
    "start_time": "2023-11-11T10:36:29.476Z"
   },
   {
    "duration": 174,
    "start_time": "2023-11-11T10:36:32.156Z"
   },
   {
    "duration": 192,
    "start_time": "2023-11-11T10:36:34.546Z"
   },
   {
    "duration": 174,
    "start_time": "2023-11-11T10:36:35.776Z"
   },
   {
    "duration": 162,
    "start_time": "2023-11-11T10:36:36.665Z"
   },
   {
    "duration": 921,
    "start_time": "2023-11-11T10:37:17.937Z"
   },
   {
    "duration": 975,
    "start_time": "2023-11-11T10:38:42.835Z"
   },
   {
    "duration": 935,
    "start_time": "2023-11-11T10:38:56.086Z"
   },
   {
    "duration": 6,
    "start_time": "2023-11-11T10:40:04.375Z"
   },
   {
    "duration": 6,
    "start_time": "2023-11-11T10:40:40.996Z"
   },
   {
    "duration": 6,
    "start_time": "2023-11-11T10:40:44.925Z"
   },
   {
    "duration": 1449,
    "start_time": "2023-11-11T10:42:40.875Z"
   },
   {
    "duration": 5,
    "start_time": "2023-11-11T10:43:24.104Z"
   },
   {
    "duration": 6,
    "start_time": "2023-11-11T10:43:28.215Z"
   },
   {
    "duration": 58,
    "start_time": "2023-11-11T10:44:05.595Z"
   },
   {
    "duration": 916,
    "start_time": "2023-11-11T10:44:22.405Z"
   },
   {
    "duration": 15,
    "start_time": "2023-11-11T10:45:34.795Z"
   },
   {
    "duration": 920,
    "start_time": "2023-11-11T10:45:41.025Z"
   },
   {
    "duration": 1716,
    "start_time": "2023-11-11T10:46:10.885Z"
   },
   {
    "duration": 1838,
    "start_time": "2023-11-11T10:46:33.124Z"
   },
   {
    "duration": 1803,
    "start_time": "2023-11-11T10:46:57.485Z"
   },
   {
    "duration": 1794,
    "start_time": "2023-11-11T10:47:10.984Z"
   },
   {
    "duration": 9,
    "start_time": "2023-11-11T10:49:58.714Z"
   },
   {
    "duration": 2238,
    "start_time": "2023-11-11T10:50:09.274Z"
   },
   {
    "duration": 11,
    "start_time": "2023-11-11T10:50:28.634Z"
   },
   {
    "duration": 1789,
    "start_time": "2023-11-11T10:50:41.094Z"
   },
   {
    "duration": 145,
    "start_time": "2023-11-11T10:50:47.603Z"
   },
   {
    "duration": 149,
    "start_time": "2023-11-11T10:51:01.415Z"
   },
   {
    "duration": 139,
    "start_time": "2023-11-11T10:51:43.374Z"
   },
   {
    "duration": 7,
    "start_time": "2023-11-11T10:53:14.163Z"
   },
   {
    "duration": 1725,
    "start_time": "2023-11-11T10:54:16.543Z"
   },
   {
    "duration": 91,
    "start_time": "2023-11-11T10:55:37.993Z"
   },
   {
    "duration": 1803,
    "start_time": "2023-11-11T10:56:01.483Z"
   },
   {
    "duration": 1812,
    "start_time": "2023-11-11T10:56:20.353Z"
   },
   {
    "duration": 24,
    "start_time": "2023-11-11T10:56:55.044Z"
   },
   {
    "duration": 1926,
    "start_time": "2023-11-11T10:57:08.703Z"
   },
   {
    "duration": 293,
    "start_time": "2023-11-11T10:59:46.692Z"
   },
   {
    "duration": 212,
    "start_time": "2023-11-11T10:59:58.182Z"
   },
   {
    "duration": 7,
    "start_time": "2023-11-11T11:00:00.193Z"
   },
   {
    "duration": 8,
    "start_time": "2023-11-11T11:00:53.522Z"
   },
   {
    "duration": 224,
    "start_time": "2023-11-11T11:01:08.662Z"
   },
   {
    "duration": 217,
    "start_time": "2023-11-11T11:01:17.512Z"
   },
   {
    "duration": 6,
    "start_time": "2023-11-11T11:01:37.752Z"
   },
   {
    "duration": 723,
    "start_time": "2023-11-11T11:01:39.653Z"
   },
   {
    "duration": 246,
    "start_time": "2023-11-11T11:01:40.377Z"
   },
   {
    "duration": 2924,
    "start_time": "2023-11-11T11:10:01.891Z"
   },
   {
    "duration": 349,
    "start_time": "2023-11-11T11:10:24.761Z"
   },
   {
    "duration": 12,
    "start_time": "2023-11-11T11:10:58.401Z"
   },
   {
    "duration": 6,
    "start_time": "2023-11-11T11:11:15.890Z"
   },
   {
    "duration": 9,
    "start_time": "2023-11-11T11:12:20.311Z"
   },
   {
    "duration": 377,
    "start_time": "2023-11-11T11:12:30.530Z"
   },
   {
    "duration": 157,
    "start_time": "2023-11-11T11:18:45.920Z"
   },
   {
    "duration": 5,
    "start_time": "2023-11-11T11:20:12.859Z"
   },
   {
    "duration": 256,
    "start_time": "2023-11-11T11:22:22.469Z"
   },
   {
    "duration": 263,
    "start_time": "2023-11-11T11:22:33.089Z"
   },
   {
    "duration": 354,
    "start_time": "2023-11-11T11:22:53.179Z"
   },
   {
    "duration": 286,
    "start_time": "2023-11-11T11:23:01.029Z"
   },
   {
    "duration": 273,
    "start_time": "2023-11-11T11:23:07.838Z"
   },
   {
    "duration": 251,
    "start_time": "2023-11-11T11:23:16.069Z"
   },
   {
    "duration": 250,
    "start_time": "2023-11-11T11:23:36.159Z"
   },
   {
    "duration": 271,
    "start_time": "2023-11-11T11:23:45.719Z"
   },
   {
    "duration": 332,
    "start_time": "2023-11-11T11:23:51.699Z"
   },
   {
    "duration": 271,
    "start_time": "2023-11-11T11:24:00.129Z"
   },
   {
    "duration": 221,
    "start_time": "2023-11-11T11:24:36.728Z"
   },
   {
    "duration": 5,
    "start_time": "2023-11-11T11:25:47.108Z"
   },
   {
    "duration": 4,
    "start_time": "2023-11-11T11:26:11.329Z"
   },
   {
    "duration": 59,
    "start_time": "2023-11-11T11:26:29.959Z"
   },
   {
    "duration": 128,
    "start_time": "2023-11-11T11:27:15.829Z"
   },
   {
    "duration": 342,
    "start_time": "2023-11-11T11:27:46.928Z"
   },
   {
    "duration": 427,
    "start_time": "2023-11-11T11:28:10.878Z"
   },
   {
    "duration": 347,
    "start_time": "2023-11-11T11:28:19.538Z"
   },
   {
    "duration": 11,
    "start_time": "2023-11-11T11:29:10.678Z"
   },
   {
    "duration": 5,
    "start_time": "2023-11-11T11:29:20.708Z"
   },
   {
    "duration": 12,
    "start_time": "2023-11-11T11:29:22.028Z"
   },
   {
    "duration": 358,
    "start_time": "2023-11-11T11:29:48.287Z"
   },
   {
    "duration": 12,
    "start_time": "2023-11-11T11:30:07.968Z"
   },
   {
    "duration": 642,
    "start_time": "2023-11-11T11:30:15.677Z"
   },
   {
    "duration": 6,
    "start_time": "2023-11-11T11:30:25.758Z"
   },
   {
    "duration": 364,
    "start_time": "2023-11-11T11:30:27.168Z"
   },
   {
    "duration": 5,
    "start_time": "2023-11-11T11:30:43.537Z"
   },
   {
    "duration": 6,
    "start_time": "2023-11-11T11:31:20.766Z"
   },
   {
    "duration": 59,
    "start_time": "2023-11-11T11:32:21.898Z"
   },
   {
    "duration": 57,
    "start_time": "2023-11-11T11:32:44.087Z"
   },
   {
    "duration": 7,
    "start_time": "2023-11-11T11:32:59.718Z"
   },
   {
    "duration": 4,
    "start_time": "2023-11-11T11:33:17.708Z"
   },
   {
    "duration": 5,
    "start_time": "2023-11-11T11:33:17.798Z"
   },
   {
    "duration": 5,
    "start_time": "2023-11-11T11:33:22.747Z"
   },
   {
    "duration": 5,
    "start_time": "2023-11-11T11:33:23.507Z"
   },
   {
    "duration": 1832,
    "start_time": "2023-11-11T11:33:32.377Z"
   },
   {
    "duration": 5,
    "start_time": "2023-11-11T11:34:06.737Z"
   },
   {
    "duration": 53,
    "start_time": "2023-11-11T11:34:20.846Z"
   },
   {
    "duration": 4,
    "start_time": "2023-11-11T11:35:32.517Z"
   },
   {
    "duration": 5,
    "start_time": "2023-11-11T11:36:12.556Z"
   },
   {
    "duration": 9,
    "start_time": "2023-11-11T11:37:20.176Z"
   },
   {
    "duration": 427,
    "start_time": "2023-11-11T11:37:32.617Z"
   },
   {
    "duration": 1519,
    "start_time": "2023-11-11T11:37:35.176Z"
   },
   {
    "duration": 1385,
    "start_time": "2023-11-11T11:38:46.536Z"
   },
   {
    "duration": 1785,
    "start_time": "2023-11-11T11:39:19.295Z"
   },
   {
    "duration": 17,
    "start_time": "2023-11-11T11:39:28.385Z"
   },
   {
    "duration": 284,
    "start_time": "2023-11-11T11:39:40.976Z"
   },
   {
    "duration": 6,
    "start_time": "2023-11-11T11:39:51.086Z"
   },
   {
    "duration": 6,
    "start_time": "2023-11-11T11:39:51.396Z"
   },
   {
    "duration": 724,
    "start_time": "2023-11-11T11:39:51.936Z"
   },
   {
    "duration": 279,
    "start_time": "2023-11-11T11:39:52.662Z"
   },
   {
    "duration": 7,
    "start_time": "2023-11-11T11:39:53.885Z"
   },
   {
    "duration": 302,
    "start_time": "2023-11-11T11:39:54.585Z"
   },
   {
    "duration": 8,
    "start_time": "2023-11-11T11:40:32.065Z"
   },
   {
    "duration": 10,
    "start_time": "2023-11-11T11:41:51.795Z"
   },
   {
    "duration": 9,
    "start_time": "2023-11-11T11:42:01.545Z"
   },
   {
    "duration": 7,
    "start_time": "2023-11-11T11:42:07.036Z"
   },
   {
    "duration": 11,
    "start_time": "2023-11-11T11:42:54.245Z"
   },
   {
    "duration": 10,
    "start_time": "2023-11-11T11:42:58.667Z"
   },
   {
    "duration": 192,
    "start_time": "2023-11-11T11:42:59.735Z"
   },
   {
    "duration": 5,
    "start_time": "2023-11-11T11:43:06.735Z"
   },
   {
    "duration": 4511,
    "start_time": "2023-11-11T12:55:15.600Z"
   },
   {
    "duration": 71,
    "start_time": "2023-11-11T12:55:20.113Z"
   },
   {
    "duration": 12,
    "start_time": "2023-11-11T12:55:20.185Z"
   },
   {
    "duration": 28,
    "start_time": "2023-11-11T12:55:20.199Z"
   },
   {
    "duration": 30,
    "start_time": "2023-11-11T12:55:20.228Z"
   },
   {
    "duration": 10,
    "start_time": "2023-11-11T12:55:20.259Z"
   },
   {
    "duration": 6,
    "start_time": "2023-11-11T12:55:20.270Z"
   },
   {
    "duration": 18,
    "start_time": "2023-11-11T12:55:20.277Z"
   },
   {
    "duration": 33,
    "start_time": "2023-11-11T12:55:20.296Z"
   },
   {
    "duration": 22,
    "start_time": "2023-11-11T12:55:20.332Z"
   },
   {
    "duration": 22,
    "start_time": "2023-11-11T12:55:20.355Z"
   },
   {
    "duration": 11,
    "start_time": "2023-11-11T12:55:20.378Z"
   },
   {
    "duration": 7,
    "start_time": "2023-11-11T12:55:20.391Z"
   },
   {
    "duration": 21,
    "start_time": "2023-11-11T12:55:20.399Z"
   },
   {
    "duration": 13,
    "start_time": "2023-11-11T12:55:20.421Z"
   },
   {
    "duration": 10,
    "start_time": "2023-11-11T12:55:20.435Z"
   },
   {
    "duration": 12,
    "start_time": "2023-11-11T12:55:20.446Z"
   },
   {
    "duration": 27,
    "start_time": "2023-11-11T12:55:20.460Z"
   },
   {
    "duration": 21,
    "start_time": "2023-11-11T12:55:20.489Z"
   },
   {
    "duration": 35,
    "start_time": "2023-11-11T12:55:20.511Z"
   },
   {
    "duration": 20,
    "start_time": "2023-11-11T12:55:20.548Z"
   },
   {
    "duration": 50,
    "start_time": "2023-11-11T12:55:20.569Z"
   },
   {
    "duration": 22,
    "start_time": "2023-11-11T12:55:20.621Z"
   },
   {
    "duration": 11,
    "start_time": "2023-11-11T12:55:20.645Z"
   },
   {
    "duration": 5,
    "start_time": "2023-11-11T12:55:20.658Z"
   },
   {
    "duration": 19,
    "start_time": "2023-11-11T12:55:20.664Z"
   },
   {
    "duration": 85,
    "start_time": "2023-11-11T12:55:20.684Z"
   },
   {
    "duration": 5,
    "start_time": "2023-11-11T12:55:20.773Z"
   },
   {
    "duration": 7,
    "start_time": "2023-11-11T12:55:20.779Z"
   },
   {
    "duration": 14,
    "start_time": "2023-11-11T12:55:20.787Z"
   },
   {
    "duration": 7,
    "start_time": "2023-11-11T12:55:20.802Z"
   },
   {
    "duration": 9,
    "start_time": "2023-11-11T12:55:20.810Z"
   },
   {
    "duration": 157,
    "start_time": "2023-11-11T12:55:20.821Z"
   },
   {
    "duration": 155,
    "start_time": "2023-11-11T12:55:20.980Z"
   },
   {
    "duration": 5,
    "start_time": "2023-11-11T12:55:21.136Z"
   },
   {
    "duration": 93,
    "start_time": "2023-11-11T12:55:21.143Z"
   },
   {
    "duration": 5,
    "start_time": "2023-11-11T12:55:21.237Z"
   },
   {
    "duration": 21,
    "start_time": "2023-11-11T12:55:21.243Z"
   },
   {
    "duration": 28,
    "start_time": "2023-11-11T12:55:21.266Z"
   },
   {
    "duration": 152,
    "start_time": "2023-11-11T12:55:21.295Z"
   },
   {
    "duration": 7,
    "start_time": "2023-11-11T12:55:21.449Z"
   },
   {
    "duration": 23,
    "start_time": "2023-11-11T12:55:21.458Z"
   },
   {
    "duration": 112,
    "start_time": "2023-11-11T12:55:21.483Z"
   },
   {
    "duration": 162,
    "start_time": "2023-11-11T12:55:21.597Z"
   },
   {
    "duration": 7,
    "start_time": "2023-11-11T12:55:21.761Z"
   },
   {
    "duration": 7,
    "start_time": "2023-11-11T12:55:21.769Z"
   },
   {
    "duration": 205,
    "start_time": "2023-11-11T12:55:21.778Z"
   },
   {
    "duration": 16,
    "start_time": "2023-11-11T12:55:21.985Z"
   },
   {
    "duration": 43,
    "start_time": "2023-11-11T12:55:22.003Z"
   },
   {
    "duration": 4,
    "start_time": "2023-11-11T12:55:22.048Z"
   },
   {
    "duration": 99,
    "start_time": "2023-11-11T12:55:22.054Z"
   },
   {
    "duration": 15,
    "start_time": "2023-11-11T12:55:22.155Z"
   },
   {
    "duration": 172,
    "start_time": "2023-11-11T12:55:22.172Z"
   },
   {
    "duration": 186,
    "start_time": "2023-11-11T12:55:22.346Z"
   },
   {
    "duration": 170,
    "start_time": "2023-11-11T12:55:22.533Z"
   },
   {
    "duration": 167,
    "start_time": "2023-11-11T12:55:22.705Z"
   },
   {
    "duration": 230,
    "start_time": "2023-11-11T12:55:22.874Z"
   },
   {
    "duration": 1675,
    "start_time": "2023-11-11T12:55:23.106Z"
   },
   {
    "duration": 225,
    "start_time": "2023-11-11T12:55:24.783Z"
   },
   {
    "duration": 6,
    "start_time": "2023-11-11T12:55:25.010Z"
   },
   {
    "duration": 4,
    "start_time": "2023-11-11T12:55:25.018Z"
   },
   {
    "duration": 693,
    "start_time": "2023-11-11T12:55:25.024Z"
   },
   {
    "duration": 248,
    "start_time": "2023-11-11T12:55:25.718Z"
   },
   {
    "duration": 7,
    "start_time": "2023-11-11T12:55:25.968Z"
   },
   {
    "duration": 373,
    "start_time": "2023-11-11T12:55:25.977Z"
   },
   {
    "duration": 11,
    "start_time": "2023-11-11T12:55:26.352Z"
   },
   {
    "duration": 267,
    "start_time": "2023-11-11T12:55:26.365Z"
   },
   {
    "duration": 5,
    "start_time": "2023-11-11T12:55:26.634Z"
   },
   {
    "duration": 24,
    "start_time": "2023-11-11T13:05:07.793Z"
   },
   {
    "duration": 3859,
    "start_time": "2023-11-11T13:09:36.701Z"
   },
   {
    "duration": 76,
    "start_time": "2023-11-11T13:09:40.562Z"
   },
   {
    "duration": 11,
    "start_time": "2023-11-11T13:09:40.640Z"
   },
   {
    "duration": 14,
    "start_time": "2023-11-11T13:09:40.654Z"
   },
   {
    "duration": 8,
    "start_time": "2023-11-11T13:09:40.669Z"
   },
   {
    "duration": 17,
    "start_time": "2023-11-11T13:09:40.678Z"
   },
   {
    "duration": 8,
    "start_time": "2023-11-11T13:09:40.696Z"
   },
   {
    "duration": 17,
    "start_time": "2023-11-11T13:09:40.706Z"
   },
   {
    "duration": 13,
    "start_time": "2023-11-11T13:09:40.724Z"
   },
   {
    "duration": 5,
    "start_time": "2023-11-11T13:09:40.740Z"
   },
   {
    "duration": 9,
    "start_time": "2023-11-11T13:09:40.746Z"
   },
   {
    "duration": 21,
    "start_time": "2023-11-11T13:09:40.757Z"
   },
   {
    "duration": 34,
    "start_time": "2023-11-11T13:09:40.780Z"
   },
   {
    "duration": 7,
    "start_time": "2023-11-11T13:09:40.816Z"
   },
   {
    "duration": 5,
    "start_time": "2023-11-11T13:09:40.825Z"
   },
   {
    "duration": 9,
    "start_time": "2023-11-11T13:09:40.831Z"
   },
   {
    "duration": 8,
    "start_time": "2023-11-11T13:09:40.842Z"
   },
   {
    "duration": 8,
    "start_time": "2023-11-11T13:09:40.851Z"
   },
   {
    "duration": 42,
    "start_time": "2023-11-11T13:09:40.860Z"
   },
   {
    "duration": 7,
    "start_time": "2023-11-11T13:09:40.904Z"
   },
   {
    "duration": 5,
    "start_time": "2023-11-11T13:09:40.913Z"
   },
   {
    "duration": 13,
    "start_time": "2023-11-11T13:09:40.920Z"
   },
   {
    "duration": 5,
    "start_time": "2023-11-11T13:09:40.934Z"
   },
   {
    "duration": 9,
    "start_time": "2023-11-11T13:09:40.940Z"
   },
   {
    "duration": 5,
    "start_time": "2023-11-11T13:09:40.950Z"
   },
   {
    "duration": 6,
    "start_time": "2023-11-11T13:09:40.956Z"
   },
   {
    "duration": 112,
    "start_time": "2023-11-11T13:09:40.964Z"
   },
   {
    "duration": 6,
    "start_time": "2023-11-11T13:09:41.080Z"
   },
   {
    "duration": 14,
    "start_time": "2023-11-11T13:09:41.087Z"
   },
   {
    "duration": 6,
    "start_time": "2023-11-11T13:09:41.103Z"
   },
   {
    "duration": 8,
    "start_time": "2023-11-11T13:09:41.111Z"
   },
   {
    "duration": 11,
    "start_time": "2023-11-11T13:09:41.121Z"
   },
   {
    "duration": 200,
    "start_time": "2023-11-11T13:09:41.133Z"
   },
   {
    "duration": 165,
    "start_time": "2023-11-11T13:09:41.335Z"
   },
   {
    "duration": 7,
    "start_time": "2023-11-11T13:09:41.503Z"
   },
   {
    "duration": 98,
    "start_time": "2023-11-11T13:09:41.512Z"
   },
   {
    "duration": 6,
    "start_time": "2023-11-11T13:09:41.612Z"
   },
   {
    "duration": 4,
    "start_time": "2023-11-11T13:09:41.620Z"
   },
   {
    "duration": 7,
    "start_time": "2023-11-11T13:09:41.626Z"
   },
   {
    "duration": 185,
    "start_time": "2023-11-11T13:09:41.635Z"
   },
   {
    "duration": 7,
    "start_time": "2023-11-11T13:09:41.821Z"
   },
   {
    "duration": 7,
    "start_time": "2023-11-11T13:09:41.829Z"
   },
   {
    "duration": 122,
    "start_time": "2023-11-11T13:09:41.837Z"
   },
   {
    "duration": 176,
    "start_time": "2023-11-11T13:09:41.960Z"
   },
   {
    "duration": 6,
    "start_time": "2023-11-11T13:09:42.137Z"
   },
   {
    "duration": 14,
    "start_time": "2023-11-11T13:09:42.145Z"
   },
   {
    "duration": 206,
    "start_time": "2023-11-11T13:09:42.161Z"
   },
   {
    "duration": 7,
    "start_time": "2023-11-11T13:09:42.368Z"
   },
   {
    "duration": 46,
    "start_time": "2023-11-11T13:09:42.377Z"
   },
   {
    "duration": 5,
    "start_time": "2023-11-11T13:09:42.424Z"
   },
   {
    "duration": 113,
    "start_time": "2023-11-11T13:09:42.430Z"
   },
   {
    "duration": 14,
    "start_time": "2023-11-11T13:09:42.544Z"
   },
   {
    "duration": 191,
    "start_time": "2023-11-11T13:09:42.560Z"
   },
   {
    "duration": 211,
    "start_time": "2023-11-11T13:09:42.752Z"
   },
   {
    "duration": 202,
    "start_time": "2023-11-11T13:09:42.964Z"
   },
   {
    "duration": 187,
    "start_time": "2023-11-11T13:09:43.167Z"
   },
   {
    "duration": 244,
    "start_time": "2023-11-11T13:09:43.355Z"
   },
   {
    "duration": 1819,
    "start_time": "2023-11-11T13:09:43.601Z"
   },
   {
    "duration": 256,
    "start_time": "2023-11-11T13:09:45.422Z"
   },
   {
    "duration": 7,
    "start_time": "2023-11-11T13:09:45.679Z"
   },
   {
    "duration": 11,
    "start_time": "2023-11-11T13:09:45.699Z"
   },
   {
    "duration": 739,
    "start_time": "2023-11-11T13:09:45.712Z"
   },
   {
    "duration": 269,
    "start_time": "2023-11-11T13:09:46.453Z"
   },
   {
    "duration": 6,
    "start_time": "2023-11-11T13:09:46.724Z"
   },
   {
    "duration": 355,
    "start_time": "2023-11-11T13:09:46.732Z"
   },
   {
    "duration": 15,
    "start_time": "2023-11-11T13:09:47.089Z"
   },
   {
    "duration": 284,
    "start_time": "2023-11-11T13:09:47.107Z"
   },
   {
    "duration": 10,
    "start_time": "2023-11-11T13:09:47.393Z"
   },
   {
    "duration": 63,
    "start_time": "2023-11-11T15:04:42.108Z"
   },
   {
    "duration": 4641,
    "start_time": "2023-11-11T15:04:48.789Z"
   },
   {
    "duration": 190,
    "start_time": "2023-11-11T15:04:53.432Z"
   },
   {
    "duration": 12,
    "start_time": "2023-11-11T15:04:53.624Z"
   },
   {
    "duration": 37,
    "start_time": "2023-11-11T15:04:53.638Z"
   },
   {
    "duration": 80,
    "start_time": "2023-11-11T15:04:53.677Z"
   },
   {
    "duration": 46,
    "start_time": "2023-11-11T15:04:53.759Z"
   },
   {
    "duration": 49,
    "start_time": "2023-11-11T15:04:53.806Z"
   },
   {
    "duration": 14,
    "start_time": "2023-11-11T15:04:53.856Z"
   },
   {
    "duration": 25,
    "start_time": "2023-11-11T15:04:53.872Z"
   },
   {
    "duration": 5,
    "start_time": "2023-11-11T15:04:53.899Z"
   },
   {
    "duration": 24,
    "start_time": "2023-11-11T15:04:53.906Z"
   },
   {
    "duration": 12,
    "start_time": "2023-11-11T15:04:54.116Z"
   },
   {
    "duration": 8,
    "start_time": "2023-11-11T15:04:54.538Z"
   },
   {
    "duration": 9,
    "start_time": "2023-11-11T15:04:54.748Z"
   },
   {
    "duration": 6,
    "start_time": "2023-11-11T15:04:55.138Z"
   },
   {
    "duration": 10,
    "start_time": "2023-11-11T15:04:55.529Z"
   },
   {
    "duration": 10,
    "start_time": "2023-11-11T15:04:56.138Z"
   },
   {
    "duration": 6,
    "start_time": "2023-11-11T15:04:56.568Z"
   },
   {
    "duration": 6,
    "start_time": "2023-11-11T15:04:58.038Z"
   },
   {
    "duration": 7,
    "start_time": "2023-11-11T15:04:58.478Z"
   },
   {
    "duration": 6,
    "start_time": "2023-11-11T15:04:58.738Z"
   },
   {
    "duration": 6,
    "start_time": "2023-11-11T15:04:58.988Z"
   },
   {
    "duration": 6,
    "start_time": "2023-11-11T15:04:59.606Z"
   },
   {
    "duration": 10,
    "start_time": "2023-11-11T15:05:00.048Z"
   },
   {
    "duration": 6,
    "start_time": "2023-11-11T15:05:00.518Z"
   },
   {
    "duration": 6,
    "start_time": "2023-11-11T15:05:00.977Z"
   },
   {
    "duration": 84,
    "start_time": "2023-11-11T15:05:01.427Z"
   },
   {
    "duration": 6,
    "start_time": "2023-11-11T15:05:02.608Z"
   },
   {
    "duration": 7,
    "start_time": "2023-11-11T15:05:03.107Z"
   },
   {
    "duration": 4,
    "start_time": "2023-11-11T15:05:03.338Z"
   },
   {
    "duration": 5,
    "start_time": "2023-11-11T15:05:05.068Z"
   },
   {
    "duration": 8,
    "start_time": "2023-11-11T15:05:05.528Z"
   },
   {
    "duration": 163,
    "start_time": "2023-11-11T15:05:06.089Z"
   },
   {
    "duration": 163,
    "start_time": "2023-11-11T15:05:07.319Z"
   },
   {
    "duration": 5,
    "start_time": "2023-11-11T15:05:09.568Z"
   },
   {
    "duration": 81,
    "start_time": "2023-11-11T15:05:10.018Z"
   },
   {
    "duration": 5,
    "start_time": "2023-11-11T15:05:18.248Z"
   },
   {
    "duration": 5,
    "start_time": "2023-11-11T15:05:19.158Z"
   },
   {
    "duration": 7,
    "start_time": "2023-11-11T15:05:19.567Z"
   },
   {
    "duration": 149,
    "start_time": "2023-11-11T15:05:22.658Z"
   },
   {
    "duration": 7,
    "start_time": "2023-11-11T15:05:24.608Z"
   },
   {
    "duration": 7,
    "start_time": "2023-11-11T15:05:27.338Z"
   },
   {
    "duration": 102,
    "start_time": "2023-11-11T15:05:28.007Z"
   },
   {
    "duration": 142,
    "start_time": "2023-11-11T15:05:29.428Z"
   },
   {
    "duration": 8,
    "start_time": "2023-11-11T15:09:08.557Z"
   },
   {
    "duration": 6,
    "start_time": "2023-11-11T15:09:09.077Z"
   },
   {
    "duration": 301,
    "start_time": "2023-11-11T15:09:09.397Z"
   },
   {
    "duration": 8,
    "start_time": "2023-11-11T15:09:09.700Z"
   },
   {
    "duration": 39,
    "start_time": "2023-11-11T15:09:25.168Z"
   },
   {
    "duration": 4,
    "start_time": "2023-11-11T15:09:25.698Z"
   },
   {
    "duration": 23,
    "start_time": "2023-11-11T15:09:30.037Z"
   },
   {
    "duration": 16,
    "start_time": "2023-11-11T15:09:30.717Z"
   },
   {
    "duration": 198,
    "start_time": "2023-11-11T15:09:32.758Z"
   },
   {
    "duration": 197,
    "start_time": "2023-11-11T15:09:33.588Z"
   },
   {
    "duration": 186,
    "start_time": "2023-11-11T15:09:34.759Z"
   },
   {
    "duration": 184,
    "start_time": "2023-11-11T15:09:35.538Z"
   },
   {
    "duration": 240,
    "start_time": "2023-11-11T15:09:35.928Z"
   },
   {
    "duration": 280,
    "start_time": "2023-11-11T15:11:21.378Z"
   },
   {
    "duration": 269,
    "start_time": "2023-11-11T15:12:10.766Z"
   },
   {
    "duration": 379,
    "start_time": "2023-11-11T15:12:18.807Z"
   },
   {
    "duration": 1711,
    "start_time": "2023-11-11T15:12:21.637Z"
   },
   {
    "duration": 1751,
    "start_time": "2023-11-11T15:12:46.877Z"
   },
   {
    "duration": 1809,
    "start_time": "2023-11-11T15:12:55.097Z"
   },
   {
    "duration": 230,
    "start_time": "2023-11-11T15:12:59.497Z"
   },
   {
    "duration": 2300,
    "start_time": "2023-11-11T15:15:20.698Z"
   },
   {
    "duration": 249,
    "start_time": "2023-11-11T15:15:23.000Z"
   },
   {
    "duration": 3748,
    "start_time": "2023-11-11T15:20:35.520Z"
   },
   {
    "duration": 70,
    "start_time": "2023-11-11T15:20:39.271Z"
   },
   {
    "duration": 15,
    "start_time": "2023-11-11T15:20:39.344Z"
   },
   {
    "duration": 14,
    "start_time": "2023-11-11T15:20:39.361Z"
   },
   {
    "duration": 8,
    "start_time": "2023-11-11T15:20:39.378Z"
   },
   {
    "duration": 4,
    "start_time": "2023-11-11T15:20:39.388Z"
   },
   {
    "duration": 7,
    "start_time": "2023-11-11T15:20:39.393Z"
   },
   {
    "duration": 51,
    "start_time": "2023-11-11T15:20:39.401Z"
   },
   {
    "duration": 17,
    "start_time": "2023-11-11T15:20:39.454Z"
   },
   {
    "duration": 5,
    "start_time": "2023-11-11T15:20:39.473Z"
   },
   {
    "duration": 6,
    "start_time": "2023-11-11T15:20:39.480Z"
   },
   {
    "duration": 24,
    "start_time": "2023-11-11T15:20:39.487Z"
   },
   {
    "duration": 36,
    "start_time": "2023-11-11T15:20:39.512Z"
   },
   {
    "duration": 14,
    "start_time": "2023-11-11T15:20:39.554Z"
   },
   {
    "duration": 8,
    "start_time": "2023-11-11T15:20:39.570Z"
   },
   {
    "duration": 11,
    "start_time": "2023-11-11T15:20:39.579Z"
   },
   {
    "duration": 9,
    "start_time": "2023-11-11T15:20:39.592Z"
   },
   {
    "duration": 41,
    "start_time": "2023-11-11T15:20:39.603Z"
   },
   {
    "duration": 7,
    "start_time": "2023-11-11T15:20:39.645Z"
   },
   {
    "duration": 9,
    "start_time": "2023-11-11T15:20:39.654Z"
   },
   {
    "duration": 6,
    "start_time": "2023-11-11T15:20:39.664Z"
   },
   {
    "duration": 11,
    "start_time": "2023-11-11T15:20:39.671Z"
   },
   {
    "duration": 5,
    "start_time": "2023-11-11T15:20:39.684Z"
   },
   {
    "duration": 14,
    "start_time": "2023-11-11T15:20:39.690Z"
   },
   {
    "duration": 40,
    "start_time": "2023-11-11T15:20:39.706Z"
   },
   {
    "duration": 7,
    "start_time": "2023-11-11T15:20:39.748Z"
   },
   {
    "duration": 96,
    "start_time": "2023-11-11T15:20:39.757Z"
   },
   {
    "duration": 7,
    "start_time": "2023-11-11T15:20:39.855Z"
   },
   {
    "duration": 10,
    "start_time": "2023-11-11T15:20:39.864Z"
   },
   {
    "duration": 5,
    "start_time": "2023-11-11T15:20:39.875Z"
   },
   {
    "duration": 8,
    "start_time": "2023-11-11T15:20:39.881Z"
   },
   {
    "duration": 7,
    "start_time": "2023-11-11T15:20:39.891Z"
   },
   {
    "duration": 196,
    "start_time": "2023-11-11T15:20:39.900Z"
   },
   {
    "duration": 180,
    "start_time": "2023-11-11T15:20:40.098Z"
   },
   {
    "duration": 6,
    "start_time": "2023-11-11T15:20:40.279Z"
   },
   {
    "duration": 104,
    "start_time": "2023-11-11T15:20:40.286Z"
   },
   {
    "duration": 5,
    "start_time": "2023-11-11T15:20:40.391Z"
   },
   {
    "duration": 14,
    "start_time": "2023-11-11T15:20:40.397Z"
   },
   {
    "duration": 18,
    "start_time": "2023-11-11T15:20:40.412Z"
   },
   {
    "duration": 179,
    "start_time": "2023-11-11T15:20:40.431Z"
   },
   {
    "duration": 8,
    "start_time": "2023-11-11T15:20:40.614Z"
   },
   {
    "duration": 12,
    "start_time": "2023-11-11T15:20:40.623Z"
   },
   {
    "duration": 129,
    "start_time": "2023-11-11T15:20:40.641Z"
   },
   {
    "duration": 173,
    "start_time": "2023-11-11T15:20:40.772Z"
   },
   {
    "duration": 8,
    "start_time": "2023-11-11T15:20:40.947Z"
   },
   {
    "duration": 14,
    "start_time": "2023-11-11T15:20:40.956Z"
   },
   {
    "duration": 208,
    "start_time": "2023-11-11T15:20:40.971Z"
   },
   {
    "duration": 7,
    "start_time": "2023-11-11T15:20:41.181Z"
   },
   {
    "duration": 42,
    "start_time": "2023-11-11T15:20:41.190Z"
   },
   {
    "duration": 11,
    "start_time": "2023-11-11T15:20:41.234Z"
   },
   {
    "duration": 126,
    "start_time": "2023-11-11T15:20:41.247Z"
   },
   {
    "duration": 16,
    "start_time": "2023-11-11T15:20:41.374Z"
   },
   {
    "duration": 192,
    "start_time": "2023-11-11T15:20:41.391Z"
   },
   {
    "duration": 217,
    "start_time": "2023-11-11T15:20:41.584Z"
   },
   {
    "duration": 192,
    "start_time": "2023-11-11T15:20:41.802Z"
   },
   {
    "duration": 184,
    "start_time": "2023-11-11T15:20:41.995Z"
   },
   {
    "duration": 243,
    "start_time": "2023-11-11T15:20:42.180Z"
   },
   {
    "duration": 258,
    "start_time": "2023-11-11T15:20:42.425Z"
   },
   {
    "duration": 277,
    "start_time": "2023-11-11T15:20:42.685Z"
   },
   {
    "duration": 1734,
    "start_time": "2023-11-11T15:20:42.964Z"
   },
   {
    "duration": 257,
    "start_time": "2023-11-11T15:20:44.699Z"
   },
   {
    "duration": 7,
    "start_time": "2023-11-11T15:20:44.958Z"
   },
   {
    "duration": 9,
    "start_time": "2023-11-11T15:20:44.967Z"
   },
   {
    "duration": 824,
    "start_time": "2023-11-11T15:20:44.978Z"
   },
   {
    "duration": 260,
    "start_time": "2023-11-11T15:20:45.804Z"
   },
   {
    "duration": 7,
    "start_time": "2023-11-11T15:20:46.066Z"
   },
   {
    "duration": 343,
    "start_time": "2023-11-11T15:20:46.074Z"
   },
   {
    "duration": 9,
    "start_time": "2023-11-11T15:20:46.418Z"
   },
   {
    "duration": 197,
    "start_time": "2023-11-11T15:20:46.429Z"
   },
   {
    "duration": 5,
    "start_time": "2023-11-11T15:20:46.628Z"
   },
   {
    "duration": 4018,
    "start_time": "2023-11-11T15:21:10.031Z"
   },
   {
    "duration": 69,
    "start_time": "2023-11-11T15:21:14.052Z"
   },
   {
    "duration": 12,
    "start_time": "2023-11-11T15:21:14.122Z"
   },
   {
    "duration": 33,
    "start_time": "2023-11-11T15:21:14.136Z"
   },
   {
    "duration": 23,
    "start_time": "2023-11-11T15:21:14.172Z"
   },
   {
    "duration": 14,
    "start_time": "2023-11-11T15:21:14.197Z"
   },
   {
    "duration": 18,
    "start_time": "2023-11-11T15:21:14.213Z"
   },
   {
    "duration": 30,
    "start_time": "2023-11-11T15:21:14.233Z"
   },
   {
    "duration": 13,
    "start_time": "2023-11-11T15:21:14.265Z"
   },
   {
    "duration": 11,
    "start_time": "2023-11-11T15:21:14.279Z"
   },
   {
    "duration": 15,
    "start_time": "2023-11-11T15:21:14.292Z"
   },
   {
    "duration": 22,
    "start_time": "2023-11-11T15:21:14.309Z"
   },
   {
    "duration": 23,
    "start_time": "2023-11-11T15:21:14.333Z"
   },
   {
    "duration": 10,
    "start_time": "2023-11-11T15:21:14.360Z"
   },
   {
    "duration": 24,
    "start_time": "2023-11-11T15:21:14.372Z"
   },
   {
    "duration": 18,
    "start_time": "2023-11-11T15:21:14.397Z"
   },
   {
    "duration": 23,
    "start_time": "2023-11-11T15:21:14.417Z"
   },
   {
    "duration": 23,
    "start_time": "2023-11-11T15:21:14.441Z"
   },
   {
    "duration": 18,
    "start_time": "2023-11-11T15:21:14.465Z"
   },
   {
    "duration": 19,
    "start_time": "2023-11-11T15:21:14.484Z"
   },
   {
    "duration": 21,
    "start_time": "2023-11-11T15:21:14.505Z"
   },
   {
    "duration": 30,
    "start_time": "2023-11-11T15:21:14.527Z"
   },
   {
    "duration": 12,
    "start_time": "2023-11-11T15:21:14.561Z"
   },
   {
    "duration": 23,
    "start_time": "2023-11-11T15:21:14.574Z"
   },
   {
    "duration": 10,
    "start_time": "2023-11-11T15:21:14.598Z"
   },
   {
    "duration": 14,
    "start_time": "2023-11-11T15:21:14.610Z"
   },
   {
    "duration": 104,
    "start_time": "2023-11-11T15:21:14.625Z"
   },
   {
    "duration": 6,
    "start_time": "2023-11-11T15:21:14.730Z"
   },
   {
    "duration": 28,
    "start_time": "2023-11-11T15:21:14.737Z"
   },
   {
    "duration": 25,
    "start_time": "2023-11-11T15:21:14.767Z"
   },
   {
    "duration": 16,
    "start_time": "2023-11-11T15:21:14.794Z"
   },
   {
    "duration": 17,
    "start_time": "2023-11-11T15:21:14.812Z"
   },
   {
    "duration": 188,
    "start_time": "2023-11-11T15:21:14.831Z"
   },
   {
    "duration": 166,
    "start_time": "2023-11-11T15:21:15.021Z"
   },
   {
    "duration": 5,
    "start_time": "2023-11-11T15:21:15.189Z"
   },
   {
    "duration": 113,
    "start_time": "2023-11-11T15:21:15.195Z"
   },
   {
    "duration": 5,
    "start_time": "2023-11-11T15:21:15.309Z"
   },
   {
    "duration": 38,
    "start_time": "2023-11-11T15:21:15.315Z"
   },
   {
    "duration": 31,
    "start_time": "2023-11-11T15:21:15.356Z"
   },
   {
    "duration": 180,
    "start_time": "2023-11-11T15:21:15.388Z"
   },
   {
    "duration": 6,
    "start_time": "2023-11-11T15:21:15.572Z"
   },
   {
    "duration": 33,
    "start_time": "2023-11-11T15:21:15.580Z"
   },
   {
    "duration": 143,
    "start_time": "2023-11-11T15:21:15.615Z"
   },
   {
    "duration": 161,
    "start_time": "2023-11-11T15:21:15.760Z"
   },
   {
    "duration": 6,
    "start_time": "2023-11-11T15:21:15.923Z"
   },
   {
    "duration": 19,
    "start_time": "2023-11-11T15:21:15.942Z"
   },
   {
    "duration": 224,
    "start_time": "2023-11-11T15:21:15.963Z"
   },
   {
    "duration": 7,
    "start_time": "2023-11-11T15:21:16.188Z"
   },
   {
    "duration": 61,
    "start_time": "2023-11-11T15:21:16.196Z"
   },
   {
    "duration": 5,
    "start_time": "2023-11-11T15:21:16.259Z"
   },
   {
    "duration": 128,
    "start_time": "2023-11-11T15:21:16.266Z"
   },
   {
    "duration": 29,
    "start_time": "2023-11-11T15:21:16.395Z"
   },
   {
    "duration": 204,
    "start_time": "2023-11-11T15:21:16.426Z"
   },
   {
    "duration": 199,
    "start_time": "2023-11-11T15:21:16.631Z"
   },
   {
    "duration": 180,
    "start_time": "2023-11-11T15:21:16.831Z"
   },
   {
    "duration": 175,
    "start_time": "2023-11-11T15:21:17.012Z"
   },
   {
    "duration": 231,
    "start_time": "2023-11-11T15:21:17.188Z"
   },
   {
    "duration": 258,
    "start_time": "2023-11-11T15:21:17.421Z"
   },
   {
    "duration": 274,
    "start_time": "2023-11-11T15:21:17.681Z"
   },
   {
    "duration": 1841,
    "start_time": "2023-11-11T15:21:17.957Z"
   },
   {
    "duration": 248,
    "start_time": "2023-11-11T15:21:19.799Z"
   },
   {
    "duration": 6,
    "start_time": "2023-11-11T15:21:20.049Z"
   },
   {
    "duration": 25,
    "start_time": "2023-11-11T15:21:20.056Z"
   },
   {
    "duration": 831,
    "start_time": "2023-11-11T15:21:20.082Z"
   },
   {
    "duration": 277,
    "start_time": "2023-11-11T15:21:20.914Z"
   },
   {
    "duration": 9,
    "start_time": "2023-11-11T15:21:21.193Z"
   },
   {
    "duration": 414,
    "start_time": "2023-11-11T15:21:21.204Z"
   },
   {
    "duration": 11,
    "start_time": "2023-11-11T15:21:21.620Z"
   },
   {
    "duration": 223,
    "start_time": "2023-11-11T15:21:21.643Z"
   },
   {
    "duration": 5,
    "start_time": "2023-11-11T15:21:21.868Z"
   },
   {
    "duration": 7,
    "start_time": "2023-11-11T15:21:22.121Z"
   },
   {
    "duration": 3,
    "start_time": "2023-11-11T15:26:26.720Z"
   },
   {
    "duration": 93,
    "start_time": "2023-11-11T15:29:50.851Z"
   },
   {
    "duration": 7,
    "start_time": "2023-11-11T15:32:17.289Z"
   },
   {
    "duration": 343,
    "start_time": "2023-11-11T15:32:30.250Z"
   },
   {
    "duration": 16,
    "start_time": "2023-11-11T15:35:45.050Z"
   },
   {
    "duration": 1423,
    "start_time": "2023-11-11T15:36:08.809Z"
   },
   {
    "duration": 11,
    "start_time": "2023-11-11T15:36:27.368Z"
   },
   {
    "duration": 13,
    "start_time": "2023-11-11T15:38:54.900Z"
   },
   {
    "duration": 1305,
    "start_time": "2023-11-11T15:42:16.587Z"
   },
   {
    "duration": 10,
    "start_time": "2023-11-11T15:42:30.618Z"
   },
   {
    "duration": 1389,
    "start_time": "2023-11-11T15:43:42.427Z"
   },
   {
    "duration": 1294,
    "start_time": "2023-11-11T15:44:10.858Z"
   },
   {
    "duration": 1407,
    "start_time": "2023-11-11T15:44:37.097Z"
   },
   {
    "duration": 412,
    "start_time": "2023-11-11T15:45:06.987Z"
   },
   {
    "duration": 377,
    "start_time": "2023-11-11T15:45:35.827Z"
   },
   {
    "duration": 9,
    "start_time": "2023-11-11T15:46:10.128Z"
   },
   {
    "duration": 9,
    "start_time": "2023-11-11T15:49:01.497Z"
   },
   {
    "duration": 17,
    "start_time": "2023-11-11T15:50:42.255Z"
   },
   {
    "duration": 208,
    "start_time": "2023-11-11T15:53:22.726Z"
   },
   {
    "duration": 5,
    "start_time": "2023-11-11T15:53:29.876Z"
   },
   {
    "duration": 4611,
    "start_time": "2023-11-11T16:46:21.590Z"
   },
   {
    "duration": 284,
    "start_time": "2023-11-11T16:46:26.203Z"
   },
   {
    "duration": 13,
    "start_time": "2023-11-11T16:46:26.488Z"
   },
   {
    "duration": 14,
    "start_time": "2023-11-11T16:46:26.502Z"
   },
   {
    "duration": 8,
    "start_time": "2023-11-11T16:46:26.517Z"
   },
   {
    "duration": 4,
    "start_time": "2023-11-11T16:46:26.527Z"
   },
   {
    "duration": 7,
    "start_time": "2023-11-11T16:46:26.533Z"
   },
   {
    "duration": 17,
    "start_time": "2023-11-11T16:46:26.542Z"
   },
   {
    "duration": 13,
    "start_time": "2023-11-11T16:46:26.561Z"
   },
   {
    "duration": 5,
    "start_time": "2023-11-11T16:46:26.576Z"
   },
   {
    "duration": 5,
    "start_time": "2023-11-11T16:46:26.583Z"
   },
   {
    "duration": 41,
    "start_time": "2023-11-11T16:46:26.590Z"
   },
   {
    "duration": 9,
    "start_time": "2023-11-11T16:46:26.633Z"
   },
   {
    "duration": 10,
    "start_time": "2023-11-11T16:46:26.643Z"
   },
   {
    "duration": 12,
    "start_time": "2023-11-11T16:46:26.654Z"
   },
   {
    "duration": 13,
    "start_time": "2023-11-11T16:46:26.668Z"
   },
   {
    "duration": 9,
    "start_time": "2023-11-11T16:46:26.683Z"
   },
   {
    "duration": 12,
    "start_time": "2023-11-11T16:46:26.694Z"
   },
   {
    "duration": 28,
    "start_time": "2023-11-11T16:46:26.707Z"
   },
   {
    "duration": 8,
    "start_time": "2023-11-11T16:46:26.736Z"
   },
   {
    "duration": 4,
    "start_time": "2023-11-11T16:46:26.746Z"
   },
   {
    "duration": 7,
    "start_time": "2023-11-11T16:46:26.752Z"
   },
   {
    "duration": 5,
    "start_time": "2023-11-11T16:46:26.760Z"
   },
   {
    "duration": 16,
    "start_time": "2023-11-11T16:46:26.767Z"
   },
   {
    "duration": 11,
    "start_time": "2023-11-11T16:46:26.785Z"
   },
   {
    "duration": 8,
    "start_time": "2023-11-11T16:46:26.798Z"
   },
   {
    "duration": 72,
    "start_time": "2023-11-11T16:46:26.831Z"
   },
   {
    "duration": 26,
    "start_time": "2023-11-11T16:46:26.907Z"
   },
   {
    "duration": 7,
    "start_time": "2023-11-11T16:46:26.935Z"
   },
   {
    "duration": 5,
    "start_time": "2023-11-11T16:46:26.944Z"
   },
   {
    "duration": 14,
    "start_time": "2023-11-11T16:46:26.950Z"
   },
   {
    "duration": 10,
    "start_time": "2023-11-11T16:46:26.966Z"
   },
   {
    "duration": 185,
    "start_time": "2023-11-11T16:46:26.977Z"
   },
   {
    "duration": 181,
    "start_time": "2023-11-11T16:46:27.163Z"
   },
   {
    "duration": 6,
    "start_time": "2023-11-11T16:46:27.346Z"
   },
   {
    "duration": 88,
    "start_time": "2023-11-11T16:46:27.354Z"
   },
   {
    "duration": 5,
    "start_time": "2023-11-11T16:46:27.443Z"
   },
   {
    "duration": 7,
    "start_time": "2023-11-11T16:46:27.450Z"
   },
   {
    "duration": 8,
    "start_time": "2023-11-11T16:46:27.458Z"
   },
   {
    "duration": 165,
    "start_time": "2023-11-11T16:46:27.468Z"
   },
   {
    "duration": 8,
    "start_time": "2023-11-11T16:46:27.635Z"
   },
   {
    "duration": 7,
    "start_time": "2023-11-11T16:46:27.644Z"
   },
   {
    "duration": 129,
    "start_time": "2023-11-11T16:46:27.652Z"
   },
   {
    "duration": 178,
    "start_time": "2023-11-11T16:46:27.783Z"
   },
   {
    "duration": 6,
    "start_time": "2023-11-11T16:46:27.963Z"
   },
   {
    "duration": 7,
    "start_time": "2023-11-11T16:46:27.971Z"
   },
   {
    "duration": 214,
    "start_time": "2023-11-11T16:46:27.979Z"
   },
   {
    "duration": 8,
    "start_time": "2023-11-11T16:46:28.194Z"
   },
   {
    "duration": 49,
    "start_time": "2023-11-11T16:46:28.204Z"
   },
   {
    "duration": 4,
    "start_time": "2023-11-11T16:46:28.255Z"
   },
   {
    "duration": 115,
    "start_time": "2023-11-11T16:46:28.260Z"
   },
   {
    "duration": 60,
    "start_time": "2023-11-11T16:46:28.377Z"
   },
   {
    "duration": 225,
    "start_time": "2023-11-11T16:46:28.438Z"
   },
   {
    "duration": 204,
    "start_time": "2023-11-11T16:46:28.665Z"
   },
   {
    "duration": 186,
    "start_time": "2023-11-11T16:46:28.871Z"
   },
   {
    "duration": 191,
    "start_time": "2023-11-11T16:46:29.059Z"
   },
   {
    "duration": 221,
    "start_time": "2023-11-11T16:46:29.252Z"
   },
   {
    "duration": 265,
    "start_time": "2023-11-11T16:46:29.474Z"
   },
   {
    "duration": 242,
    "start_time": "2023-11-11T16:46:29.740Z"
   },
   {
    "duration": 1572,
    "start_time": "2023-11-11T16:46:29.983Z"
   },
   {
    "duration": 217,
    "start_time": "2023-11-11T16:46:31.556Z"
   },
   {
    "duration": 7,
    "start_time": "2023-11-11T16:46:31.775Z"
   },
   {
    "duration": 34,
    "start_time": "2023-11-11T16:46:31.783Z"
   },
   {
    "duration": 777,
    "start_time": "2023-11-11T16:46:31.819Z"
   },
   {
    "duration": 242,
    "start_time": "2023-11-11T16:46:32.598Z"
   },
   {
    "duration": 7,
    "start_time": "2023-11-11T16:46:32.841Z"
   },
   {
    "duration": 335,
    "start_time": "2023-11-11T16:46:32.849Z"
   },
   {
    "duration": 359,
    "start_time": "2023-11-11T16:46:33.185Z"
   },
   {
    "duration": 15,
    "start_time": "2023-11-11T16:46:33.545Z"
   },
   {
    "duration": 189,
    "start_time": "2023-11-11T16:46:33.561Z"
   },
   {
    "duration": 5,
    "start_time": "2023-11-11T16:46:33.752Z"
   },
   {
    "duration": 7,
    "start_time": "2023-11-11T16:47:54.206Z"
   },
   {
    "duration": 23,
    "start_time": "2023-11-11T16:50:09.809Z"
   }
  ],
  "kernelspec": {
   "display_name": "Python 3 (ipykernel)",
   "language": "python",
   "name": "python3"
  },
  "language_info": {
   "codemirror_mode": {
    "name": "ipython",
    "version": 3
   },
   "file_extension": ".py",
   "mimetype": "text/x-python",
   "name": "python",
   "nbconvert_exporter": "python",
   "pygments_lexer": "ipython3",
   "version": "3.9.5"
  },
  "toc": {
   "base_numbering": 1,
   "nav_menu": {},
   "number_sections": true,
   "sideBar": true,
   "skip_h1_title": true,
   "title_cell": "Table of Contents",
   "title_sidebar": "Contents",
   "toc_cell": false,
   "toc_position": {},
   "toc_section_display": true,
   "toc_window_display": false
  }
 },
 "nbformat": 4,
 "nbformat_minor": 2
}
