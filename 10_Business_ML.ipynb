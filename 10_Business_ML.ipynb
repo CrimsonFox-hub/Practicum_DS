{
 "cells": [
  {
   "cell_type": "markdown",
   "metadata": {},
   "source": [
    "### Выбор локации для скважины"
   ]
  },
  {
   "cell_type": "markdown",
   "metadata": {},
   "source": [
    "#### Описание проекта\n",
    "Допустим, вы работаете в добывающей компании «ГлавРосГосНефть». Нужно решить, где бурить новую скважину. \\\n",
    "Шаги для выбора локации обычно такие:\n",
    "- В избранном регионе собирают характеристики для скважин: качество нефти и объём её запасов;\n",
    "- Строят модель для предсказания объёма запасов в новых скважинах;\n",
    "- Выбирают скважины с самыми высокими оценками значений;\n",
    "- Определяют регион с максимальной суммарной прибылью отобранных скважин.\n",
    "\n",
    "\n",
    "- Вам предоставлены пробы нефти в трёх регионах. \n",
    "- Характеристики для каждой скважины в регионе уже известны. \n",
    "- Постройте модель для определения региона, где добыча принесёт наибольшую прибыль.\n",
    "- Проанализируйте возможную прибыль и риски техникой Bootstrap."
   ]
  },
  {
   "cell_type": "markdown",
   "metadata": {},
   "source": [
    "#### Описание данных\n",
    "- id — уникальный идентификатор скважины;\n",
    "- f0, f1, f2 — три признака точек (неважно, что они означают, но сами признаки значимы);\n",
    "- product — объём запасов в скважине (тыс. баррелей).\n",
    "\n",
    "#### Условия задачи:\n",
    "- Для обучения модели подходит только линейная регрессия (остальные — недостаточно предсказуемые).\n",
    "- При разведке региона исследуют 500 точек, из которых с помощью машинного обучения выбирают 200 лучших для разработки.\n",
    "- Бюджет на разработку скважин в регионе — 10 млрд рублей.\n",
    "- При нынешних ценах один баррель сырья приносит 450 рублей дохода.\\\n",
    "Доход с каждой единицы продукта составляет 450 тыс. рублей, поскольку объём указан в тысячах баррелей.\n",
    "- После оценки рисков нужно оставить лишь те регионы, в которых вероятность убытков меньше 2.5%.\\\n",
    "Среди них выбирают регион с наибольшей средней прибылью."
   ]
  },
  {
   "cell_type": "markdown",
   "metadata": {},
   "source": [
    "#### План работы:\n",
    "1. Загузка и подготовка данных;\n",
    "2. обучение и проверка модели;\n",
    "3. подготовка к расчету прибыли;\n",
    "4. расчет прибыли;\n",
    "5. подсчет рисков и прибыли по регионам;\n",
    "6. Итоговый вывод."
   ]
  },
  {
   "cell_type": "markdown",
   "metadata": {},
   "source": [
    "#### Загрузка и подготовка данных"
   ]
  },
  {
   "cell_type": "code",
   "execution_count": 1,
   "metadata": {},
   "outputs": [],
   "source": [
    "import pandas as pd\n",
    "import numpy as np\n",
    "import scipy.stats as st\n",
    "import matplotlib.pyplot as plt\n",
    "import seaborn as sns\n",
    "\n",
    "from tqdm import tqdm_notebook\n",
    "from sklearn.preprocessing import StandardScaler\n",
    "from sklearn.pipeline import make_pipeline\n",
    "from sklearn.linear_model import LinearRegression\n",
    "from sklearn.metrics import mean_squared_error\n",
    "from sklearn.model_selection import train_test_split\n",
    "\n",
    "from warnings import simplefilter\n",
    "simplefilter(action='ignore', category=FutureWarning)"
   ]
  },
  {
   "cell_type": "code",
   "execution_count": 2,
   "metadata": {},
   "outputs": [],
   "source": [
    "try:\n",
    "    df_geo_1 = pd.read_csv('/datasets/geo_data_0.csv')\n",
    "    df_geo_2 = pd.read_csv('/datasets/geo_data_1.csv')\n",
    "    df_geo_3 = pd.read_csv('/datasets/geo_data_2.csv')\n",
    "    \n",
    "except:\n",
    "    df_geo_1 = pd.read_csv('geo_data_0.csv')\n",
    "    df_geo_2 = pd.read_csv('geo_data_1.csv')\n",
    "    df_geo_3 = pd.read_csv('geo_data_2.csv')"
   ]
  },
  {
   "cell_type": "markdown",
   "metadata": {},
   "source": [
    "Функция для изучения данных"
   ]
  },
  {
   "cell_type": "code",
   "execution_count": 3,
   "metadata": {},
   "outputs": [],
   "source": [
    "def inform(data):\n",
    "    # Вывод информации о датасете\n",
    "    print(\"Информация о датасете:\")\n",
    "    data.info()\n",
    "    \n",
    "    # Разделительная строка\n",
    "    print(\"\\n\" + \"=\"*50 + \"\\n\")\n",
    "    \n",
    "    # Вывод первых нескольких строк датасета\n",
    "    print(\"Первые несколько строк датасета:\")\n",
    "    display(data.head())\n",
    "    \n",
    "    # Разделительная строка\n",
    "    print(\"\\n\" + \"=\"*50 + \"\\n\")\n",
    "    \n",
    "    #describe\n",
    "    print('Описательная статистика:')\n",
    "    display(data.drop('id',axis=1).describe())\n",
    "\n",
    "    # Разделительная строка\n",
    "    print(\"\\n\" + \"=\"*50 + \"\\n\")\n",
    "    display(f'Количествово дубликатов:{data.duplicated().sum()}')   \n",
    "\n",
    "    # Разделительная строка\n",
    "    print(\"\\n\" + \"=\"*50 + \"\\n\")\n",
    "\n",
    "    print('гистограмма численных показателей')\n",
    "    data.hist(figsize=(15, 7), bins=50)"
   ]
  },
  {
   "cell_type": "markdown",
   "metadata": {},
   "source": [
    "Функция для корреляционного анализа"
   ]
  },
  {
   "cell_type": "code",
   "execution_count": 4,
   "metadata": {},
   "outputs": [],
   "source": [
    "def corr_matrix(data):    \n",
    "    corr_matrix = data.corr()\n",
    "    fig, ax = plt.subplots(figsize=(10, 6))\n",
    "    sns.heatmap(corr_matrix, annot=True, cmap=\"coolwarm\");\n",
    "    plt.show()"
   ]
  },
  {
   "cell_type": "markdown",
   "metadata": {},
   "source": [
    "##### Просмотр данных"
   ]
  },
  {
   "cell_type": "code",
   "execution_count": 5,
   "metadata": {
    "scrolled": true
   },
   "outputs": [
    {
     "name": "stdout",
     "output_type": "stream",
     "text": [
      "Информация о датасете:\n",
      "<class 'pandas.core.frame.DataFrame'>\n",
      "RangeIndex: 100000 entries, 0 to 99999\n",
      "Data columns (total 5 columns):\n",
      " #   Column   Non-Null Count   Dtype  \n",
      "---  ------   --------------   -----  \n",
      " 0   id       100000 non-null  object \n",
      " 1   f0       100000 non-null  float64\n",
      " 2   f1       100000 non-null  float64\n",
      " 3   f2       100000 non-null  float64\n",
      " 4   product  100000 non-null  float64\n",
      "dtypes: float64(4), object(1)\n",
      "memory usage: 3.8+ MB\n",
      "\n",
      "==================================================\n",
      "\n",
      "Первые несколько строк датасета:\n"
     ]
    },
    {
     "data": {
      "text/html": [
       "<div>\n",
       "<style scoped>\n",
       "    .dataframe tbody tr th:only-of-type {\n",
       "        vertical-align: middle;\n",
       "    }\n",
       "\n",
       "    .dataframe tbody tr th {\n",
       "        vertical-align: top;\n",
       "    }\n",
       "\n",
       "    .dataframe thead th {\n",
       "        text-align: right;\n",
       "    }\n",
       "</style>\n",
       "<table border=\"1\" class=\"dataframe\">\n",
       "  <thead>\n",
       "    <tr style=\"text-align: right;\">\n",
       "      <th></th>\n",
       "      <th>id</th>\n",
       "      <th>f0</th>\n",
       "      <th>f1</th>\n",
       "      <th>f2</th>\n",
       "      <th>product</th>\n",
       "    </tr>\n",
       "  </thead>\n",
       "  <tbody>\n",
       "    <tr>\n",
       "      <th>0</th>\n",
       "      <td>txEyH</td>\n",
       "      <td>0.705745</td>\n",
       "      <td>-0.497823</td>\n",
       "      <td>1.221170</td>\n",
       "      <td>105.280062</td>\n",
       "    </tr>\n",
       "    <tr>\n",
       "      <th>1</th>\n",
       "      <td>2acmU</td>\n",
       "      <td>1.334711</td>\n",
       "      <td>-0.340164</td>\n",
       "      <td>4.365080</td>\n",
       "      <td>73.037750</td>\n",
       "    </tr>\n",
       "    <tr>\n",
       "      <th>2</th>\n",
       "      <td>409Wp</td>\n",
       "      <td>1.022732</td>\n",
       "      <td>0.151990</td>\n",
       "      <td>1.419926</td>\n",
       "      <td>85.265647</td>\n",
       "    </tr>\n",
       "    <tr>\n",
       "      <th>3</th>\n",
       "      <td>iJLyR</td>\n",
       "      <td>-0.032172</td>\n",
       "      <td>0.139033</td>\n",
       "      <td>2.978566</td>\n",
       "      <td>168.620776</td>\n",
       "    </tr>\n",
       "    <tr>\n",
       "      <th>4</th>\n",
       "      <td>Xdl7t</td>\n",
       "      <td>1.988431</td>\n",
       "      <td>0.155413</td>\n",
       "      <td>4.751769</td>\n",
       "      <td>154.036647</td>\n",
       "    </tr>\n",
       "  </tbody>\n",
       "</table>\n",
       "</div>"
      ],
      "text/plain": [
       "      id        f0        f1        f2     product\n",
       "0  txEyH  0.705745 -0.497823  1.221170  105.280062\n",
       "1  2acmU  1.334711 -0.340164  4.365080   73.037750\n",
       "2  409Wp  1.022732  0.151990  1.419926   85.265647\n",
       "3  iJLyR -0.032172  0.139033  2.978566  168.620776\n",
       "4  Xdl7t  1.988431  0.155413  4.751769  154.036647"
      ]
     },
     "metadata": {},
     "output_type": "display_data"
    },
    {
     "name": "stdout",
     "output_type": "stream",
     "text": [
      "\n",
      "==================================================\n",
      "\n",
      "Описательная статистика:\n"
     ]
    },
    {
     "data": {
      "text/html": [
       "<div>\n",
       "<style scoped>\n",
       "    .dataframe tbody tr th:only-of-type {\n",
       "        vertical-align: middle;\n",
       "    }\n",
       "\n",
       "    .dataframe tbody tr th {\n",
       "        vertical-align: top;\n",
       "    }\n",
       "\n",
       "    .dataframe thead th {\n",
       "        text-align: right;\n",
       "    }\n",
       "</style>\n",
       "<table border=\"1\" class=\"dataframe\">\n",
       "  <thead>\n",
       "    <tr style=\"text-align: right;\">\n",
       "      <th></th>\n",
       "      <th>f0</th>\n",
       "      <th>f1</th>\n",
       "      <th>f2</th>\n",
       "      <th>product</th>\n",
       "    </tr>\n",
       "  </thead>\n",
       "  <tbody>\n",
       "    <tr>\n",
       "      <th>count</th>\n",
       "      <td>100000.000000</td>\n",
       "      <td>100000.000000</td>\n",
       "      <td>100000.000000</td>\n",
       "      <td>100000.000000</td>\n",
       "    </tr>\n",
       "    <tr>\n",
       "      <th>mean</th>\n",
       "      <td>0.500419</td>\n",
       "      <td>0.250143</td>\n",
       "      <td>2.502647</td>\n",
       "      <td>92.500000</td>\n",
       "    </tr>\n",
       "    <tr>\n",
       "      <th>std</th>\n",
       "      <td>0.871832</td>\n",
       "      <td>0.504433</td>\n",
       "      <td>3.248248</td>\n",
       "      <td>44.288691</td>\n",
       "    </tr>\n",
       "    <tr>\n",
       "      <th>min</th>\n",
       "      <td>-1.408605</td>\n",
       "      <td>-0.848218</td>\n",
       "      <td>-12.088328</td>\n",
       "      <td>0.000000</td>\n",
       "    </tr>\n",
       "    <tr>\n",
       "      <th>25%</th>\n",
       "      <td>-0.072580</td>\n",
       "      <td>-0.200881</td>\n",
       "      <td>0.287748</td>\n",
       "      <td>56.497507</td>\n",
       "    </tr>\n",
       "    <tr>\n",
       "      <th>50%</th>\n",
       "      <td>0.502360</td>\n",
       "      <td>0.250252</td>\n",
       "      <td>2.515969</td>\n",
       "      <td>91.849972</td>\n",
       "    </tr>\n",
       "    <tr>\n",
       "      <th>75%</th>\n",
       "      <td>1.073581</td>\n",
       "      <td>0.700646</td>\n",
       "      <td>4.715088</td>\n",
       "      <td>128.564089</td>\n",
       "    </tr>\n",
       "    <tr>\n",
       "      <th>max</th>\n",
       "      <td>2.362331</td>\n",
       "      <td>1.343769</td>\n",
       "      <td>16.003790</td>\n",
       "      <td>185.364347</td>\n",
       "    </tr>\n",
       "  </tbody>\n",
       "</table>\n",
       "</div>"
      ],
      "text/plain": [
       "                  f0             f1             f2        product\n",
       "count  100000.000000  100000.000000  100000.000000  100000.000000\n",
       "mean        0.500419       0.250143       2.502647      92.500000\n",
       "std         0.871832       0.504433       3.248248      44.288691\n",
       "min        -1.408605      -0.848218     -12.088328       0.000000\n",
       "25%        -0.072580      -0.200881       0.287748      56.497507\n",
       "50%         0.502360       0.250252       2.515969      91.849972\n",
       "75%         1.073581       0.700646       4.715088     128.564089\n",
       "max         2.362331       1.343769      16.003790     185.364347"
      ]
     },
     "metadata": {},
     "output_type": "display_data"
    },
    {
     "name": "stdout",
     "output_type": "stream",
     "text": [
      "\n",
      "==================================================\n",
      "\n"
     ]
    },
    {
     "data": {
      "text/plain": [
       "'Количествово дубликатов:0'"
      ]
     },
     "metadata": {},
     "output_type": "display_data"
    },
    {
     "name": "stdout",
     "output_type": "stream",
     "text": [
      "\n",
      "==================================================\n",
      "\n",
      "гистограмма численных показателей\n"
     ]
    },
    {
     "data": {
      "image/png": "[encoded data removed]",
      "text/plain": [
       "<Figure size 1080x504 with 4 Axes>"
      ]
     },
     "metadata": {
      "needs_background": "light"
     },
     "output_type": "display_data"
    }
   ],
   "source": [
    "inform(df_geo_1)"
   ]
  },
  {
   "cell_type": "code",
   "execution_count": 6,
   "metadata": {
    "scrolled": true
   },
   "outputs": [
    {
     "name": "stdout",
     "output_type": "stream",
     "text": [
      "Информация о датасете:\n",
      "<class 'pandas.core.frame.DataFrame'>\n",
      "RangeIndex: 100000 entries, 0 to 99999\n",
      "Data columns (total 5 columns):\n",
      " #   Column   Non-Null Count   Dtype  \n",
      "---  ------   --------------   -----  \n",
      " 0   id       100000 non-null  object \n",
      " 1   f0       100000 non-null  float64\n",
      " 2   f1       100000 non-null  float64\n",
      " 3   f2       100000 non-null  float64\n",
      " 4   product  100000 non-null  float64\n",
      "dtypes: float64(4), object(1)\n",
      "memory usage: 3.8+ MB\n",
      "\n",
      "==================================================\n",
      "\n",
      "Первые несколько строк датасета:\n"
     ]
    },
    {
     "data": {
      "text/html": [
       "<div>\n",
       "<style scoped>\n",
       "    .dataframe tbody tr th:only-of-type {\n",
       "        vertical-align: middle;\n",
       "    }\n",
       "\n",
       "    .dataframe tbody tr th {\n",
       "        vertical-align: top;\n",
       "    }\n",
       "\n",
       "    .dataframe thead th {\n",
       "        text-align: right;\n",
       "    }\n",
       "</style>\n",
       "<table border=\"1\" class=\"dataframe\">\n",
       "  <thead>\n",
       "    <tr style=\"text-align: right;\">\n",
       "      <th></th>\n",
       "      <th>id</th>\n",
       "      <th>f0</th>\n",
       "      <th>f1</th>\n",
       "      <th>f2</th>\n",
       "      <th>product</th>\n",
       "    </tr>\n",
       "  </thead>\n",
       "  <tbody>\n",
       "    <tr>\n",
       "      <th>0</th>\n",
       "      <td>kBEdx</td>\n",
       "      <td>-15.001348</td>\n",
       "      <td>-8.276000</td>\n",
       "      <td>-0.005876</td>\n",
       "      <td>3.179103</td>\n",
       "    </tr>\n",
       "    <tr>\n",
       "      <th>1</th>\n",
       "      <td>62mP7</td>\n",
       "      <td>14.272088</td>\n",
       "      <td>-3.475083</td>\n",
       "      <td>0.999183</td>\n",
       "      <td>26.953261</td>\n",
       "    </tr>\n",
       "    <tr>\n",
       "      <th>2</th>\n",
       "      <td>vyE1P</td>\n",
       "      <td>6.263187</td>\n",
       "      <td>-5.948386</td>\n",
       "      <td>5.001160</td>\n",
       "      <td>134.766305</td>\n",
       "    </tr>\n",
       "    <tr>\n",
       "      <th>3</th>\n",
       "      <td>KcrkZ</td>\n",
       "      <td>-13.081196</td>\n",
       "      <td>-11.506057</td>\n",
       "      <td>4.999415</td>\n",
       "      <td>137.945408</td>\n",
       "    </tr>\n",
       "    <tr>\n",
       "      <th>4</th>\n",
       "      <td>AHL4O</td>\n",
       "      <td>12.702195</td>\n",
       "      <td>-8.147433</td>\n",
       "      <td>5.004363</td>\n",
       "      <td>134.766305</td>\n",
       "    </tr>\n",
       "  </tbody>\n",
       "</table>\n",
       "</div>"
      ],
      "text/plain": [
       "      id         f0         f1        f2     product\n",
       "0  kBEdx -15.001348  -8.276000 -0.005876    3.179103\n",
       "1  62mP7  14.272088  -3.475083  0.999183   26.953261\n",
       "2  vyE1P   6.263187  -5.948386  5.001160  134.766305\n",
       "3  KcrkZ -13.081196 -11.506057  4.999415  137.945408\n",
       "4  AHL4O  12.702195  -8.147433  5.004363  134.766305"
      ]
     },
     "metadata": {},
     "output_type": "display_data"
    },
    {
     "name": "stdout",
     "output_type": "stream",
     "text": [
      "\n",
      "==================================================\n",
      "\n",
      "Описательная статистика:\n"
     ]
    },
    {
     "data": {
      "text/html": [
       "<div>\n",
       "<style scoped>\n",
       "    .dataframe tbody tr th:only-of-type {\n",
       "        vertical-align: middle;\n",
       "    }\n",
       "\n",
       "    .dataframe tbody tr th {\n",
       "        vertical-align: top;\n",
       "    }\n",
       "\n",
       "    .dataframe thead th {\n",
       "        text-align: right;\n",
       "    }\n",
       "</style>\n",
       "<table border=\"1\" class=\"dataframe\">\n",
       "  <thead>\n",
       "    <tr style=\"text-align: right;\">\n",
       "      <th></th>\n",
       "      <th>f0</th>\n",
       "      <th>f1</th>\n",
       "      <th>f2</th>\n",
       "      <th>product</th>\n",
       "    </tr>\n",
       "  </thead>\n",
       "  <tbody>\n",
       "    <tr>\n",
       "      <th>count</th>\n",
       "      <td>100000.000000</td>\n",
       "      <td>100000.000000</td>\n",
       "      <td>100000.000000</td>\n",
       "      <td>100000.000000</td>\n",
       "    </tr>\n",
       "    <tr>\n",
       "      <th>mean</th>\n",
       "      <td>1.141296</td>\n",
       "      <td>-4.796579</td>\n",
       "      <td>2.494541</td>\n",
       "      <td>68.825000</td>\n",
       "    </tr>\n",
       "    <tr>\n",
       "      <th>std</th>\n",
       "      <td>8.965932</td>\n",
       "      <td>5.119872</td>\n",
       "      <td>1.703572</td>\n",
       "      <td>45.944423</td>\n",
       "    </tr>\n",
       "    <tr>\n",
       "      <th>min</th>\n",
       "      <td>-31.609576</td>\n",
       "      <td>-26.358598</td>\n",
       "      <td>-0.018144</td>\n",
       "      <td>0.000000</td>\n",
       "    </tr>\n",
       "    <tr>\n",
       "      <th>25%</th>\n",
       "      <td>-6.298551</td>\n",
       "      <td>-8.267985</td>\n",
       "      <td>1.000021</td>\n",
       "      <td>26.953261</td>\n",
       "    </tr>\n",
       "    <tr>\n",
       "      <th>50%</th>\n",
       "      <td>1.153055</td>\n",
       "      <td>-4.813172</td>\n",
       "      <td>2.011479</td>\n",
       "      <td>57.085625</td>\n",
       "    </tr>\n",
       "    <tr>\n",
       "      <th>75%</th>\n",
       "      <td>8.621015</td>\n",
       "      <td>-1.332816</td>\n",
       "      <td>3.999904</td>\n",
       "      <td>107.813044</td>\n",
       "    </tr>\n",
       "    <tr>\n",
       "      <th>max</th>\n",
       "      <td>29.421755</td>\n",
       "      <td>18.734063</td>\n",
       "      <td>5.019721</td>\n",
       "      <td>137.945408</td>\n",
       "    </tr>\n",
       "  </tbody>\n",
       "</table>\n",
       "</div>"
      ],
      "text/plain": [
       "                  f0             f1             f2        product\n",
       "count  100000.000000  100000.000000  100000.000000  100000.000000\n",
       "mean        1.141296      -4.796579       2.494541      68.825000\n",
       "std         8.965932       5.119872       1.703572      45.944423\n",
       "min       -31.609576     -26.358598      -0.018144       0.000000\n",
       "25%        -6.298551      -8.267985       1.000021      26.953261\n",
       "50%         1.153055      -4.813172       2.011479      57.085625\n",
       "75%         8.621015      -1.332816       3.999904     107.813044\n",
       "max        29.421755      18.734063       5.019721     137.945408"
      ]
     },
     "metadata": {},
     "output_type": "display_data"
    },
    {
     "name": "stdout",
     "output_type": "stream",
     "text": [
      "\n",
      "==================================================\n",
      "\n"
     ]
    },
    {
     "data": {
      "text/plain": [
       "'Количествово дубликатов:0'"
      ]
     },
     "metadata": {},
     "output_type": "display_data"
    },
    {
     "name": "stdout",
     "output_type": "stream",
     "text": [
      "\n",
      "==================================================\n",
      "\n",
      "гистограмма численных показателей\n"
     ]
    },
    {
     "data": {
      "image/png": "[encoded data removed]",
      "text/plain": [
       "<Figure size 1080x504 with 4 Axes>"
      ]
     },
     "metadata": {
      "needs_background": "light"
     },
     "output_type": "display_data"
    }
   ],
   "source": [
    "inform(df_geo_2)"
   ]
  },
  {
   "cell_type": "code",
   "execution_count": 7,
   "metadata": {
    "scrolled": true
   },
   "outputs": [
    {
     "name": "stdout",
     "output_type": "stream",
     "text": [
      "Информация о датасете:\n",
      "<class 'pandas.core.frame.DataFrame'>\n",
      "RangeIndex: 100000 entries, 0 to 99999\n",
      "Data columns (total 5 columns):\n",
      " #   Column   Non-Null Count   Dtype  \n",
      "---  ------   --------------   -----  \n",
      " 0   id       100000 non-null  object \n",
      " 1   f0       100000 non-null  float64\n",
      " 2   f1       100000 non-null  float64\n",
      " 3   f2       100000 non-null  float64\n",
      " 4   product  100000 non-null  float64\n",
      "dtypes: float64(4), object(1)\n",
      "memory usage: 3.8+ MB\n",
      "\n",
      "==================================================\n",
      "\n",
      "Первые несколько строк датасета:\n"
     ]
    },
    {
     "data": {
      "text/html": [
       "<div>\n",
       "<style scoped>\n",
       "    .dataframe tbody tr th:only-of-type {\n",
       "        vertical-align: middle;\n",
       "    }\n",
       "\n",
       "    .dataframe tbody tr th {\n",
       "        vertical-align: top;\n",
       "    }\n",
       "\n",
       "    .dataframe thead th {\n",
       "        text-align: right;\n",
       "    }\n",
       "</style>\n",
       "<table border=\"1\" class=\"dataframe\">\n",
       "  <thead>\n",
       "    <tr style=\"text-align: right;\">\n",
       "      <th></th>\n",
       "      <th>id</th>\n",
       "      <th>f0</th>\n",
       "      <th>f1</th>\n",
       "      <th>f2</th>\n",
       "      <th>product</th>\n",
       "    </tr>\n",
       "  </thead>\n",
       "  <tbody>\n",
       "    <tr>\n",
       "      <th>0</th>\n",
       "      <td>fwXo0</td>\n",
       "      <td>-1.146987</td>\n",
       "      <td>0.963328</td>\n",
       "      <td>-0.828965</td>\n",
       "      <td>27.758673</td>\n",
       "    </tr>\n",
       "    <tr>\n",
       "      <th>1</th>\n",
       "      <td>WJtFt</td>\n",
       "      <td>0.262778</td>\n",
       "      <td>0.269839</td>\n",
       "      <td>-2.530187</td>\n",
       "      <td>56.069697</td>\n",
       "    </tr>\n",
       "    <tr>\n",
       "      <th>2</th>\n",
       "      <td>ovLUW</td>\n",
       "      <td>0.194587</td>\n",
       "      <td>0.289035</td>\n",
       "      <td>-5.586433</td>\n",
       "      <td>62.871910</td>\n",
       "    </tr>\n",
       "    <tr>\n",
       "      <th>3</th>\n",
       "      <td>q6cA6</td>\n",
       "      <td>2.236060</td>\n",
       "      <td>-0.553760</td>\n",
       "      <td>0.930038</td>\n",
       "      <td>114.572842</td>\n",
       "    </tr>\n",
       "    <tr>\n",
       "      <th>4</th>\n",
       "      <td>WPMUX</td>\n",
       "      <td>-0.515993</td>\n",
       "      <td>1.716266</td>\n",
       "      <td>5.899011</td>\n",
       "      <td>149.600746</td>\n",
       "    </tr>\n",
       "  </tbody>\n",
       "</table>\n",
       "</div>"
      ],
      "text/plain": [
       "      id        f0        f1        f2     product\n",
       "0  fwXo0 -1.146987  0.963328 -0.828965   27.758673\n",
       "1  WJtFt  0.262778  0.269839 -2.530187   56.069697\n",
       "2  ovLUW  0.194587  0.289035 -5.586433   62.871910\n",
       "3  q6cA6  2.236060 -0.553760  0.930038  114.572842\n",
       "4  WPMUX -0.515993  1.716266  5.899011  149.600746"
      ]
     },
     "metadata": {},
     "output_type": "display_data"
    },
    {
     "name": "stdout",
     "output_type": "stream",
     "text": [
      "\n",
      "==================================================\n",
      "\n",
      "Описательная статистика:\n"
     ]
    },
    {
     "data": {
      "text/html": [
       "<div>\n",
       "<style scoped>\n",
       "    .dataframe tbody tr th:only-of-type {\n",
       "        vertical-align: middle;\n",
       "    }\n",
       "\n",
       "    .dataframe tbody tr th {\n",
       "        vertical-align: top;\n",
       "    }\n",
       "\n",
       "    .dataframe thead th {\n",
       "        text-align: right;\n",
       "    }\n",
       "</style>\n",
       "<table border=\"1\" class=\"dataframe\">\n",
       "  <thead>\n",
       "    <tr style=\"text-align: right;\">\n",
       "      <th></th>\n",
       "      <th>f0</th>\n",
       "      <th>f1</th>\n",
       "      <th>f2</th>\n",
       "      <th>product</th>\n",
       "    </tr>\n",
       "  </thead>\n",
       "  <tbody>\n",
       "    <tr>\n",
       "      <th>count</th>\n",
       "      <td>100000.000000</td>\n",
       "      <td>100000.000000</td>\n",
       "      <td>100000.000000</td>\n",
       "      <td>100000.000000</td>\n",
       "    </tr>\n",
       "    <tr>\n",
       "      <th>mean</th>\n",
       "      <td>0.002023</td>\n",
       "      <td>-0.002081</td>\n",
       "      <td>2.495128</td>\n",
       "      <td>95.000000</td>\n",
       "    </tr>\n",
       "    <tr>\n",
       "      <th>std</th>\n",
       "      <td>1.732045</td>\n",
       "      <td>1.730417</td>\n",
       "      <td>3.473445</td>\n",
       "      <td>44.749921</td>\n",
       "    </tr>\n",
       "    <tr>\n",
       "      <th>min</th>\n",
       "      <td>-8.760004</td>\n",
       "      <td>-7.084020</td>\n",
       "      <td>-11.970335</td>\n",
       "      <td>0.000000</td>\n",
       "    </tr>\n",
       "    <tr>\n",
       "      <th>25%</th>\n",
       "      <td>-1.162288</td>\n",
       "      <td>-1.174820</td>\n",
       "      <td>0.130359</td>\n",
       "      <td>59.450441</td>\n",
       "    </tr>\n",
       "    <tr>\n",
       "      <th>50%</th>\n",
       "      <td>0.009424</td>\n",
       "      <td>-0.009482</td>\n",
       "      <td>2.484236</td>\n",
       "      <td>94.925613</td>\n",
       "    </tr>\n",
       "    <tr>\n",
       "      <th>75%</th>\n",
       "      <td>1.158535</td>\n",
       "      <td>1.163678</td>\n",
       "      <td>4.858794</td>\n",
       "      <td>130.595027</td>\n",
       "    </tr>\n",
       "    <tr>\n",
       "      <th>max</th>\n",
       "      <td>7.238262</td>\n",
       "      <td>7.844801</td>\n",
       "      <td>16.739402</td>\n",
       "      <td>190.029838</td>\n",
       "    </tr>\n",
       "  </tbody>\n",
       "</table>\n",
       "</div>"
      ],
      "text/plain": [
       "                  f0             f1             f2        product\n",
       "count  100000.000000  100000.000000  100000.000000  100000.000000\n",
       "mean        0.002023      -0.002081       2.495128      95.000000\n",
       "std         1.732045       1.730417       3.473445      44.749921\n",
       "min        -8.760004      -7.084020     -11.970335       0.000000\n",
       "25%        -1.162288      -1.174820       0.130359      59.450441\n",
       "50%         0.009424      -0.009482       2.484236      94.925613\n",
       "75%         1.158535       1.163678       4.858794     130.595027\n",
       "max         7.238262       7.844801      16.739402     190.029838"
      ]
     },
     "metadata": {},
     "output_type": "display_data"
    },
    {
     "name": "stdout",
     "output_type": "stream",
     "text": [
      "\n",
      "==================================================\n",
      "\n"
     ]
    },
    {
     "data": {
      "text/plain": [
       "'Количествово дубликатов:0'"
      ]
     },
     "metadata": {},
     "output_type": "display_data"
    },
    {
     "name": "stdout",
     "output_type": "stream",
     "text": [
      "\n",
      "==================================================\n",
      "\n",
      "гистограмма численных показателей\n"
     ]
    },
    {
     "data": {
      "image/png": "[encoded data removed]",
      "text/plain": [
       "<Figure size 1080x504 with 4 Axes>"
      ]
     },
     "metadata": {
      "needs_background": "light"
     },
     "output_type": "display_data"
    }
   ],
   "source": [
    "inform(df_geo_3)"
   ]
  },
  {
   "cell_type": "markdown",
   "metadata": {},
   "source": [
    "##### Корреляционные матрицы"
   ]
  },
  {
   "cell_type": "markdown",
   "metadata": {},
   "source": [
    "Сразу удалим столбец 'id' - он не несёт в себе в нашем счучае ничего, кроме шума."
   ]
  },
  {
   "cell_type": "code",
   "execution_count": 8,
   "metadata": {},
   "outputs": [],
   "source": [
    "df_geo_1=df_geo_1.drop(['id'], axis=1)\n",
    "df_geo_2=df_geo_2.drop(['id'], axis=1)\n",
    "df_geo_3=df_geo_3.drop(['id'], axis=1)"
   ]
  },
  {
   "cell_type": "code",
   "execution_count": 9,
   "metadata": {},
   "outputs": [
    {
     "data": {
      "image/png": "[encoded data removed]",
      "text/plain": [
       "<Figure size 720x432 with 2 Axes>"
      ]
     },
     "metadata": {
      "needs_background": "light"
     },
     "output_type": "display_data"
    }
   ],
   "source": [
    "corr_matrix(df_geo_1)"
   ]
  },
  {
   "cell_type": "code",
   "execution_count": 10,
   "metadata": {},
   "outputs": [
    {
     "data": {
      "image/png": "[encoded data removed]",
      "text/plain": [
       "<Figure size 720x432 with 2 Axes>"
      ]
     },
     "metadata": {
      "needs_background": "light"
     },
     "output_type": "display_data"
    }
   ],
   "source": [
    "corr_matrix(df_geo_2)"
   ]
  },
  {
   "cell_type": "code",
   "execution_count": 11,
   "metadata": {},
   "outputs": [
    {
     "data": {
      "image/png": "[encoded data removed]",
      "text/plain": [
       "<Figure size 720x432 with 2 Axes>"
      ]
     },
     "metadata": {
      "needs_background": "light"
     },
     "output_type": "display_data"
    }
   ],
   "source": [
    "corr_matrix(df_geo_3)"
   ]
  },
  {
   "cell_type": "markdown",
   "metadata": {},
   "source": [
    "**Промежуточный вывод:** как мы видим, в датафреймах нет дубликатов, но есть большой разброс значений, выраженный в стандартном отклонении.\\\n",
    "Особенно ярко выражено в столбцах f1, f2 и f3.\\\n",
    "Так же мы видим существенный разброс между датасетами регионов, что может в текущем виде может повредить качеству обучения. \n"
   ]
  },
  {
   "cell_type": "markdown",
   "metadata": {},
   "source": [
    "#### Обучение и проверка модели"
   ]
  },
  {
   "cell_type": "code",
   "execution_count": 12,
   "metadata": {},
   "outputs": [
    {
     "name": "stdout",
     "output_type": "stream",
     "text": [
      "Для 1-го региона:\n",
      "Средний запас фактического сырья = 92.33 тыс. баррелей\n",
      "Средний запас предсказанного сырья = 92.40 тыс. баррелей\n",
      "Разница = 0.08%\n",
      "RMSE модели = 37.76\n",
      "\n",
      "Для 2-го региона:\n",
      "Средний запас фактического сырья = 68.73 тыс. баррелей\n",
      "Средний запас предсказанного сырья = 68.71 тыс. баррелей\n",
      "Разница = -0.02%\n",
      "RMSE модели = 0.89\n",
      "\n",
      "Для 3-го региона:\n",
      "Средний запас фактического сырья = 95.15 тыс. баррелей\n",
      "Средний запас предсказанного сырья = 94.77 тыс. баррелей\n",
      "Разница = -0.40%\n",
      "RMSE модели = 40.15\n",
      "\n"
     ]
    }
   ],
   "source": [
    "names = ['1-го', '2-го', '3-го']\n",
    "data = [df_geo_1,df_geo_2,df_geo_3]\n",
    "\n",
    "# Словарь для хранения фактических и предсказанных значений\n",
    "targets = {}\n",
    "\n",
    "for name, df in zip(names, data):\n",
    "    target = df['product']\n",
    "    features = df.drop('product', axis=1)\n",
    "\n",
    "    features_train, features_valid, target_train, target_valid = \\\n",
    "    train_test_split(features, target, test_size=.25, random_state=42)\n",
    "\n",
    "    # Создание и обучение модели (используется pipeline)\n",
    "    model = make_pipeline(StandardScaler(), LinearRegression())\n",
    "    model.fit(features_train, target_train)\n",
    "    \n",
    "    # Предсказание и оценка модели\n",
    "    predictions = pd.Series(model.predict(features_valid), index=target_valid.index, name='product_predicted')\n",
    "    targets[name] = (target_valid, predictions)\n",
    "\n",
    "    # Вывод результатов\n",
    "    print(f'Для {name} региона:')\n",
    "    actual_mean = targets[name][0].mean()\n",
    "    predicted_mean = targets[name][1].mean()\n",
    "    print(f'Средний запас фактического сырья = {actual_mean:.2f} тыс. баррелей')\n",
    "    print(f'Средний запас предсказанного сырья = {predicted_mean:.2f} тыс. баррелей')\n",
    "    print(f'Разница = {(1 - actual_mean / predicted_mean):.2%}')\n",
    "    print(f'RMSE модели = {mean_squared_error(target_valid, targets[name][1], squared=False):.2f}')\n",
    "    print()"
   ]
  },
  {
   "cell_type": "markdown",
   "metadata": {},
   "source": [
    "**Промежуточный вывод:** как мы видим в  результате проверки и обуинения мы получили данные, что корень из среднеквадратичной ошибки для второго региона равен 0.89,\\\n",
    " в то время как для датасетов второго и третьего региона даанный показатель равен 37.76 и 40.15 соответственно.\\\n",
    " Таким образом мы можем утверждать, что в первом и третьем регионе сильный разброс в целевом признаке,\\\n",
    " а значет мы не можем на данный момент делать предсказания с сколь либо высокой точностью"
   ]
  },
  {
   "cell_type": "markdown",
   "metadata": {},
   "source": [
    "#### Подготовка к расчёту прибыли"
   ]
  },
  {
   "cell_type": "markdown",
   "metadata": {},
   "source": [
    "Объявим переменные:"
   ]
  },
  {
   "cell_type": "code",
   "execution_count": 13,
   "metadata": {},
   "outputs": [],
   "source": [
    "# Количество исследованных точек в регионе\n",
    "N_POINTS = 500\n",
    "\n",
    "# Количество лучших точек для разработки\n",
    "N_BEST_POINTS = 200\n",
    "\n",
    "# Бюджет на разработку скважин в регионе (в миллиардах рублей)\n",
    "BUDGET = 10e9\n",
    "\n",
    "# Доход с каждого барреля сырья (в тыс. рублей)\n",
    "INCOME_PER_BARREL = 450e3\n",
    "\n",
    "# пороговое значение\n",
    "TRESHOLD=0.025"
   ]
  },
  {
   "cell_type": "markdown",
   "metadata": {},
   "source": [
    "Расчет безубыточного объема сырья:"
   ]
  },
  {
   "cell_type": "code",
   "execution_count": 14,
   "metadata": {},
   "outputs": [
    {
     "name": "stdout",
     "output_type": "stream",
     "text": [
      "Безубыточный объем сырья: 111.11 тыс. баррелей\n"
     ]
    }
   ],
   "source": [
    "# Безубыточный объем сырья для разработки новой скважины (в тыс. баррелей)\n",
    "breakeven_volume = BUDGET / (INCOME_PER_BARREL * N_BEST_POINTS)\n",
    "print(f'Безубыточный объем сырья: {breakeven_volume:.2f} тыс. баррелей')"
   ]
  },
  {
   "cell_type": "markdown",
   "metadata": {},
   "source": [
    "Сравнение безубыточного объема с средним запасом в каждом регионе:"
   ]
  },
  {
   "cell_type": "code",
   "execution_count": 15,
   "metadata": {},
   "outputs": [
    {
     "name": "stdout",
     "output_type": "stream",
     "text": [
      "\n",
      "Средний запас в регионе 1-го = 92.50 тыс. баррелей.\n",
      "Процент скважин с объемом больше порога = 36.58%\n",
      "Количество скважин с объемом больше порога = 36583\n",
      "\n",
      "Средний запас в регионе 2-го = 68.83 тыс. баррелей.\n",
      "Процент скважин с объемом больше порога = 16.54%\n",
      "Количество скважин с объемом больше порога = 16537\n",
      "\n",
      "Средний запас в регионе 3-го = 95.00 тыс. баррелей.\n",
      "Процент скважин с объемом больше порога = 38.18%\n",
      "Количество скважин с объемом больше порога = 38178\n"
     ]
    }
   ],
   "source": [
    "for name, df in zip(names, data):\n",
    "    mean_product = df['product'].mean()\n",
    "    above_threshold_percentage = (df['product'] > breakeven_volume).mean() * 100\n",
    "    above_threshold_count = (df['product'] > breakeven_volume).sum()\n",
    "\n",
    "    print(f'\\nСредний запас в регионе {name} = {mean_product:.2f} тыс. баррелей.')\n",
    "    print(f'Процент скважин с объемом больше порога = {above_threshold_percentage:.2f}%')\n",
    "    print(f'Количество скважин с объемом больше порога = {above_threshold_count}')"
   ]
  },
  {
   "cell_type": "markdown",
   "metadata": {},
   "source": [
    "Выводы: При подготовке расчета прибыли были определены ключевые значения, расчитан безубыточный объем сырья для разработки новой скважины и проведено сравнение его с средним запасом в каждом регионе.\\\n",
    "На основе предоставленных нам данных мы видим, что ни один регион не соответсветствует безубыточному объему производства, и, более того, ни в одном из регионов\\\n",
    "количество скважин с объемом больше порога не привышает 40%, сохраняя средний запас на регион в районе 68-95 тыс. баррелей. "
   ]
  },
  {
   "cell_type": "markdown",
   "metadata": {},
   "source": [
    "#### Расчёт прибыли и рисков"
   ]
  },
  {
   "cell_type": "markdown",
   "metadata": {},
   "source": [
    "##### Выбор скважин с максимальными значениями предсказаний"
   ]
  },
  {
   "cell_type": "code",
   "execution_count": 16,
   "metadata": {},
   "outputs": [
    {
     "name": "stdout",
     "output_type": "stream",
     "text": [
      "Отобранные скважины для 1-го региона:\n",
      "Int64Index([46784, 27658,  6496, 65743, 93716, 29826, 45840, 11404, 84807,\n",
      "            25827,\n",
      "            ...\n",
      "            70346, 14383, 15766, 41388, 85265, 14042, 65925, 65549,  9462,\n",
      "            39838],\n",
      "           dtype='int64', length=200)\n",
      "Отобранные скважины для 2-го региона:\n",
      "Int64Index([80439, 14041, 62413, 55563, 42432, 86762, 42661, 50183,   124,\n",
      "            78924,\n",
      "            ...\n",
      "            35487,  7479, 86895, 99899, 86344, 99088,  5058, 80836, 78084,\n",
      "            77320],\n",
      "           dtype='int64', length=200)\n",
      "Отобранные скважины для 3-го региона:\n",
      "Int64Index([43931, 84047, 54085, 89165, 64380, 17415,  8317, 54119, 39890,\n",
      "            71403,\n",
      "            ...\n",
      "            20019, 13274, 15214, 66721, 50843, 25434, 68044, 69600, 36778,\n",
      "            47827],\n",
      "           dtype='int64', length=200)\n"
     ]
    }
   ],
   "source": [
    "selected_indices = {}\n",
    "\n",
    "# Цикл для выбора скважин в каждом регионе\n",
    "for name in names:\n",
    "    predictions = targets[name][1]  # предсказания для текущего региона\n",
    "    selected_indices[name] = predictions.sort_values(ascending=False).head(N_BEST_POINTS).index\n",
    "\n",
    "# Вывод отобранных скважин для каждого региона\n",
    "for name, indices in selected_indices.items():\n",
    "    print(f'Отобранные скважины для {name} региона:')\n",
    "    print(indices)"
   ]
  },
  {
   "cell_type": "markdown",
   "metadata": {},
   "source": [
    "##### Суммарный объем сырья"
   ]
  },
  {
   "cell_type": "code",
   "execution_count": 17,
   "metadata": {},
   "outputs": [
    {
     "name": "stdout",
     "output_type": "stream",
     "text": [
      "Суммарный объем сырья для 1-го региона: 29686.98 тыс. баррелей\n",
      "Суммарный объем сырья для 2-го региона: 27589.08 тыс. баррелей\n",
      "Суммарный объем сырья для 3-го региона: 27996.83 тыс. баррелей\n"
     ]
    }
   ],
   "source": [
    "total_volumes = {}\n",
    "for name in names:\n",
    "    selected_targets = targets[name][0].loc[selected_indices[name]]  # Целевые значения для выбранных скважин в текущем регионе\n",
    "    total_volumes[name] = selected_targets.sum()  # Суммирование целевых значений объема сырья\n",
    "\n",
    "# Вывод суммарного объема сырья для каждого региона\n",
    "for name, volume in total_volumes.items():\n",
    "    print(f'Суммарный объем сырья для {name} региона: {volume:.2f} тыс. баррелей')"
   ]
  },
  {
   "cell_type": "markdown",
   "metadata": {},
   "source": [
    "##### Расчет прибыли для текущего объема"
   ]
  },
  {
   "cell_type": "code",
   "execution_count": 18,
   "metadata": {},
   "outputs": [
    {
     "name": "stdout",
     "output_type": "stream",
     "text": [
      "Прибыль для региона 1-го составляет 13359141114.46 рублей\n",
      "Прибыль для региона 2-го составляет 12415086696.68 рублей\n",
      "Прибыль для региона 3-го составляет 12598571759.37 рублей\n",
      "Максимальная прибыль достигается в регионе 1-го и составляет 13359141114.46 рублей\n"
     ]
    }
   ],
   "source": [
    "total_income = {}\n",
    "for name, volume in total_volumes.items():\n",
    "    income = round(volume * INCOME_PER_BARREL, 2)  # Расчет прибыли\n",
    "    total_income[name] = income  # Сохранение прибыли для каждого региона\n",
    "    print(f'Прибыль для региона {name} составляет {income} рублей')\n",
    "\n",
    "# Вывод наибольшей прибыли и её региона\n",
    "max_region = max(total_income, key=total_income.get)\n",
    "max_income = total_income[max_region]\n",
    "print(f'Максимальная прибыль достигается в регионе {max_region} и составляет {max_income} рублей')"
   ]
  },
  {
   "cell_type": "markdown",
   "metadata": {},
   "source": [
    "По результатам работы с тремя регионами можно сделать следующие выводы:\n",
    "\n",
    "- Определены суммарные объемы сырья для каждого региона: в 1-м регионе объем составляет 29686.98 тыс. баррелей, \\\n",
    "во 2-м -29589.08 тыс. баррелей, и в 3-м - 27996.83 тыс. баррелей. Эта информация позволяет оценить общий потенциал каждого региона в добыче сырья.\n",
    "- Рассчитаны прибыли для каждого региона: в 1-м регионе она составила 13,359,141,114.46 рублей, для 2-го - 12,415,086,696.68 рублей, и для 3-го - 12,598,571,759.37 рублей.\\\n",
    " Максимальная прибыль достигается в 1-м регионе и составляет 13,359,141,114.46 рублей.\n",
    "- Исходя из задачи, 1 регион имеет наибольший потенциал для прибыльной добычи сырья с наибольшей оцененной приблью из всех регионов.\\\n",
    " Рекомендуется сконцентрироваться на развитии деятельности в этом регионе для максимальной прибыли.\n",
    "\n",
    "Это вывод позволит принять обоснованны решение по выбору региона для дальнейшей добычи сырья, максим зируя потенциальную прибыль и уменьшая риски убытков."
   ]
  },
  {
   "cell_type": "markdown",
   "metadata": {},
   "source": [
    "#### Риски и прибыль для каждого региона"
   ]
  },
  {
   "cell_type": "code",
   "execution_count": 19,
   "metadata": {},
   "outputs": [],
   "source": [
    "target_valid_0, predicted_valid_0 = targets['1-го'][0], targets['1-го'][1]\n",
    "target_valid_1, predicted_valid_1 = targets['2-го'][0], targets['2-го'][1]\n",
    "target_valid_2, predicted_valid_2 = targets['3-го'][0], targets['3-го'][1]"
   ]
  },
  {
   "cell_type": "code",
   "execution_count": 20,
   "metadata": {},
   "outputs": [],
   "source": [
    "#метод расчёта прибыли (фактическая выручка с 200 лучших по прогнозу скважин, минус инвестиции)\n",
    "def total_income(target, probabilities, N_BEST_POINTS, INCOME_PER_BARREL, BUDGET):\n",
    "    prob_sort = probabilities.sort_values(ascending=False)\n",
    "    selected = target[prob_sort.index][:N_BEST_POINTS]\n",
    "    return int(INCOME_PER_BARREL * selected.sum() - BUDGET)"
   ]
  },
  {
   "cell_type": "markdown",
   "metadata": {},
   "source": [
    "##### Bootstrap \n",
    "\n",
    "#####  Средняя прибыль, 95%-й доверительный интервал и риск убытков."
   ]
  },
  {
   "cell_type": "code",
   "execution_count": 21,
   "metadata": {},
   "outputs": [],
   "source": [
    "# расчет основных расчетных параметров с помощью бутстрепа\n",
    "def bootstrap_regions(target, predicted, N_BEST_POINTS, INCOME_PER_BARREL, BUDGET):\n",
    "    state = np.random.RandomState(12345)\n",
    "    values = []\n",
    "    for i in range(1000):\n",
    "        target_subsample = target.sample(n=N_POINTS, replace=True, random_state=state)\n",
    "        pred_subsample = predicted[target_subsample.index]\n",
    "        values.append(total_income(target_subsample, pred_subsample, N_BEST_POINTS, INCOME_PER_BARREL, BUDGET))\n",
    "    \n",
    "    values = pd.Series(values)\n",
    "    values_mean = np.mean(values)\n",
    "    lower = round(np.percentile(values, 2.5),2) # определение нижней границы 95% доверительного интервала\n",
    "    upper = round(np.percentile(values, 97.5),2)  # определение верхней границы 95% доверительного интервала\n",
    "    risk = st.percentileofscore(values, 0)  # рассчет риска убытков\n",
    "\n",
    "    return values, values_mean, lower, upper, risk"
   ]
  },
  {
   "cell_type": "code",
   "execution_count": 22,
   "metadata": {},
   "outputs": [
    {
     "name": "stdout",
     "output_type": "stream",
     "text": [
      "Средняя прибыль лучших месторождений региона_0 равна: 435933771.699\n",
      "Средняя прибыль лучших месторождений региона_1 равна: 489661253.932\n",
      "Средняя прибыль лучших месторождений региона_2 равна: 403687927.423\n"
     ]
    }
   ],
   "source": [
    "# Посчитаем основные параметры для трех регионов\n",
    "values_0, values_mean_0, lower_0, upper_0, risk_0 = bootstrap_regions(target_valid_0, predicted_valid_0, N_BEST_POINTS, INCOME_PER_BARREL, BUDGET)\n",
    "values_1, values_mean_1, lower_1, upper_1, risk_1 = bootstrap_regions(target_valid_1, predicted_valid_1, N_BEST_POINTS, INCOME_PER_BARREL, BUDGET)\n",
    "values_2, values_mean_2, lower_2, upper_2, risk_2 = bootstrap_regions(target_valid_2, predicted_valid_2, N_BEST_POINTS, INCOME_PER_BARREL, BUDGET)\n",
    "\n",
    "print('Средняя прибыль лучших месторождений региона_0 равна:', values_mean_0)\n",
    "print('Средняя прибыль лучших месторождений региона_1 равна:', values_mean_1)\n",
    "print('Средняя прибыль лучших месторождений региона_2 равна:', values_mean_2)"
   ]
  },
  {
   "cell_type": "code",
   "execution_count": 23,
   "metadata": {},
   "outputs": [
    {
     "name": "stdout",
     "output_type": "stream",
     "text": [
      "95% доверительный интервал для средней прибыли 200 лучших месторождений региона_0: -116231612.07 966504179.85\n",
      "95% доверительный интервал для средней прибыли 200 лучших месторождений региона_1: 55116176.63 905762649.95\n",
      "95% доверительный интервал для средней прибыли 200 лучших месторождений региона_2: -153116984.07 952887416.38\n"
     ]
    }
   ],
   "source": [
    "print('95% доверительный интервал для средней прибыли 200 лучших месторождений региона_0:', lower_0, upper_0)\n",
    "print('95% доверительный интервал для средней прибыли 200 лучших месторождений региона_1:', lower_1, upper_1)\n",
    "print('95% доверительный интервал для средней прибыли 200 лучших месторождений региона_2:', lower_2, upper_2)"
   ]
  },
  {
   "cell_type": "code",
   "execution_count": 24,
   "metadata": {},
   "outputs": [
    {
     "name": "stdout",
     "output_type": "stream",
     "text": [
      "Риск убытков региона_0 равен 6.1000000000000005 %\n",
      "Риск убытков региона_1 равен 1.1 %\n",
      "Риск убытков региона_2 равен 7.1000000000000005 %\n"
     ]
    }
   ],
   "source": [
    "print('Риск убытков региона_0 равен', risk_0, '%')\n",
    "print('Риск убытков региона_1 равен', risk_1, '%')\n",
    "print('Риск убытков региона_2 равен', risk_2, '%')"
   ]
  },
  {
   "cell_type": "code",
   "execution_count": 25,
   "metadata": {},
   "outputs": [
    {
     "data": {
      "image/png": "[encoded data removed]",
      "text/plain": [
       "<Figure size 1080x360 with 3 Axes>"
      ]
     },
     "metadata": {
      "needs_background": "light"
     },
     "output_type": "display_data"
    }
   ],
   "source": [
    "# Визуализация данных с помощью гистограмм\n",
    "plt.figure(figsize=(15, 5))\n",
    "\n",
    "plt.subplot(1, 3, 1)\n",
    "plt.hist(values_0, bins=30, color='blue', alpha=0.7)\n",
    "plt.title('Гистограмма региона 0')\n",
    "\n",
    "plt.subplot(1, 3, 2)\n",
    "plt.hist(values_1, bins=30, color='green', alpha=0.7)\n",
    "plt.title('Гистограмма региона 1')\n",
    "\n",
    "plt.subplot(1, 3, 3)\n",
    "plt.hist(values_2, bins=30, color='orange', alpha=0.7)\n",
    "plt.title('Гистограмма региона 2')\n",
    "\n",
    "plt.tight_layout()\n",
    "plt.show()"
   ]
  },
  {
   "cell_type": "markdown",
   "metadata": {},
   "source": [
    "По результатам оценки трех регионов с точки зрения потенциальной прибыли и рисков убытков, можно сделать следующие выводы:\n",
    "\n",
    "Средняя прибыль лучших месторождений:\n",
    "\n",
    "Регион 1: 435,933,771.699 рублей\\\n",
    "Регион 2: 489,661,253.932 рублей\\\n",
    "Регион 3: 403,687,927.423 рублей\n",
    "\n",
    "95% доверительный интервал для средней прибыли 200 лучших месторождений:\n",
    "\n",
    "Регион 1: (-116,231,612.07, 966,504,179.85) рублей\\\n",
    "Регион 2: (55,116,176.63, 905,762,649.95) рублей\\\n",
    "Регион 3: (-153,116,984.07, 952,887,416.38) рублей\n",
    "\n",
    "Риски убытков:\n",
    "\n",
    "Регион 1: 6.1%\\\n",
    "Регион 2: 1.1%\\\n",
    "Регион 3: 7.1%\n",
    "\n",
    "Таким образом, на основе новых данных рекомендуется выбрать Регион 1 для дальнейшей разработки скважин, \\\n",
    "поскольку он обладает наивысшей средней прибылью, но так же можно выбрать регион 2 - он обладает\\\n",
    "минимальным риском убытков по сравнению с другими регионами."
   ]
  },
  {
   "cell_type": "markdown",
   "metadata": {},
   "source": [
    "#### Чек-лист готовности проекта"
   ]
  },
  {
   "cell_type": "markdown",
   "metadata": {},
   "source": [
    "- [x]  Jupyter Notebook открыт\n",
    "- [x]  Весь код выполняется без ошибок\n",
    "- [x]  Ячейки с кодом расположены в порядке исполнения\n",
    "- [x]  Выполнен шаг 1: данные подготовлены\n",
    "- [x]  Выполнен шаг 2: модели обучены и проверены\n",
    "    - [x]  Данные корректно разбиты на обучающую и валидационную выборки\n",
    "    - [x]  Модели обучены, предсказания сделаны\n",
    "    - [x]  Предсказания и правильные ответы на валидационной выборке сохранены\n",
    "    - [x]  На экране напечатаны результаты\n",
    "    - [x]  Сделаны выводы\n",
    "- [x]  Выполнен шаг 3: проведена подготовка к расчёту прибыли\n",
    "    - [x]  Для всех ключевых значений созданы константы Python\n",
    "    - [x]  Посчитано минимальное среднее количество продукта в месторождениях региона, достаточное для разработки\n",
    "    - [x]  По предыдущему пункту сделаны выводы\n",
    "    - [x]  Написана функция расчёта прибыли\n",
    "- [x]  Выполнен шаг 4: посчитаны риски и прибыль\n",
    "    - [x]  Проведена процедура *Bootstrap*\n",
    "    - [x]  Все параметры бутстрепа соответствуют условию\n",
    "    - [x]  Найдены все нужные величины\n",
    "    - [x]  Предложен регион для разработки месторождения\n",
    "    - [x]  Выбор региона обоснован"
   ]
  }
 ],
 "metadata": {
  "ExecuteTimeLog": [
   {
    "duration": 1469,
    "start_time": "2024-03-07T14:43:57.060Z"
   },
   {
    "duration": 719,
    "start_time": "2024-03-07T14:43:58.530Z"
   },
   {
    "duration": 5,
    "start_time": "2024-03-07T14:43:59.251Z"
   },
   {
    "duration": 6,
    "start_time": "2024-03-07T14:43:59.258Z"
   },
   {
    "duration": 702,
    "start_time": "2024-03-07T14:43:59.265Z"
   },
   {
    "duration": 743,
    "start_time": "2024-03-07T14:43:59.968Z"
   },
   {
    "duration": 754,
    "start_time": "2024-03-07T14:44:00.712Z"
   },
   {
    "duration": 21,
    "start_time": "2024-03-07T14:44:01.468Z"
   },
   {
    "duration": 586,
    "start_time": "2024-03-07T14:44:01.491Z"
   },
   {
    "duration": 267,
    "start_time": "2024-03-07T14:44:02.080Z"
   },
   {
    "duration": 281,
    "start_time": "2024-03-07T14:44:02.348Z"
   },
   {
    "duration": 430,
    "start_time": "2024-03-07T14:44:02.630Z"
   },
   {
    "duration": 4,
    "start_time": "2024-03-07T14:44:03.062Z"
   },
   {
    "duration": 4,
    "start_time": "2024-03-07T14:44:03.146Z"
   },
   {
    "duration": 102,
    "start_time": "2024-03-07T14:44:03.152Z"
   },
   {
    "duration": 34,
    "start_time": "2024-03-07T14:44:03.256Z"
   },
   {
    "duration": 50,
    "start_time": "2024-03-07T14:44:03.291Z"
   },
   {
    "duration": 58,
    "start_time": "2024-03-07T14:44:03.343Z"
   },
   {
    "duration": 828,
    "start_time": "2024-03-07T14:44:03.402Z"
   },
   {
    "duration": 16,
    "start_time": "2024-03-07T14:44:04.231Z"
   },
   {
    "duration": 565,
    "start_time": "2024-03-07T14:50:33.580Z"
   },
   {
    "duration": 4,
    "start_time": "2024-03-07T14:51:57.571Z"
   },
   {
    "duration": 1184,
    "start_time": "2024-03-07T14:52:28.023Z"
   },
   {
    "duration": 3,
    "start_time": "2024-03-07T14:55:22.420Z"
   },
   {
    "duration": 3,
    "start_time": "2024-03-07T14:55:23.708Z"
   },
   {
    "duration": 12,
    "start_time": "2024-03-07T14:55:45.201Z"
   },
   {
    "duration": 21,
    "start_time": "2024-03-07T15:00:26.289Z"
   },
   {
    "duration": 585,
    "start_time": "2024-03-07T15:01:55.119Z"
   },
   {
    "duration": 1248,
    "start_time": "2024-03-07T15:05:52.006Z"
   },
   {
    "duration": 380,
    "start_time": "2024-03-07T15:05:53.256Z"
   },
   {
    "duration": 8,
    "start_time": "2024-03-07T15:05:53.638Z"
   },
   {
    "duration": 16,
    "start_time": "2024-03-07T15:05:53.647Z"
   },
   {
    "duration": 701,
    "start_time": "2024-03-07T15:05:53.664Z"
   },
   {
    "duration": 728,
    "start_time": "2024-03-07T15:05:54.366Z"
   },
   {
    "duration": 728,
    "start_time": "2024-03-07T15:05:55.095Z"
   },
   {
    "duration": 23,
    "start_time": "2024-03-07T15:05:55.825Z"
   },
   {
    "duration": 343,
    "start_time": "2024-03-07T15:05:55.849Z"
   },
   {
    "duration": 279,
    "start_time": "2024-03-07T15:05:56.194Z"
   },
   {
    "duration": 280,
    "start_time": "2024-03-07T15:05:56.474Z"
   },
   {
    "duration": 397,
    "start_time": "2024-03-07T15:05:56.756Z"
   },
   {
    "duration": 4,
    "start_time": "2024-03-07T15:05:57.155Z"
   },
   {
    "duration": 182,
    "start_time": "2024-03-07T15:05:57.251Z"
   },
   {
    "duration": 0,
    "start_time": "2024-03-07T15:05:57.435Z"
   },
   {
    "duration": 0,
    "start_time": "2024-03-07T15:05:57.436Z"
   },
   {
    "duration": 0,
    "start_time": "2024-03-07T15:05:57.445Z"
   },
   {
    "duration": 0,
    "start_time": "2024-03-07T15:05:57.446Z"
   },
   {
    "duration": 0,
    "start_time": "2024-03-07T15:05:57.447Z"
   },
   {
    "duration": 1294,
    "start_time": "2024-03-07T15:06:42.859Z"
   },
   {
    "duration": 367,
    "start_time": "2024-03-07T15:06:44.155Z"
   },
   {
    "duration": 4,
    "start_time": "2024-03-07T15:06:44.524Z"
   },
   {
    "duration": 26,
    "start_time": "2024-03-07T15:06:44.529Z"
   },
   {
    "duration": 737,
    "start_time": "2024-03-07T15:06:44.557Z"
   },
   {
    "duration": 783,
    "start_time": "2024-03-07T15:06:45.295Z"
   },
   {
    "duration": 733,
    "start_time": "2024-03-07T15:06:46.079Z"
   },
   {
    "duration": 15,
    "start_time": "2024-03-07T15:06:46.814Z"
   },
   {
    "duration": 316,
    "start_time": "2024-03-07T15:06:46.831Z"
   },
   {
    "duration": 299,
    "start_time": "2024-03-07T15:06:47.149Z"
   },
   {
    "duration": 286,
    "start_time": "2024-03-07T15:06:47.449Z"
   },
   {
    "duration": 405,
    "start_time": "2024-03-07T15:06:47.744Z"
   },
   {
    "duration": 93,
    "start_time": "2024-03-07T15:06:48.151Z"
   },
   {
    "duration": 9,
    "start_time": "2024-03-07T15:06:48.247Z"
   },
   {
    "duration": 99,
    "start_time": "2024-03-07T15:06:48.257Z"
   },
   {
    "duration": 12,
    "start_time": "2024-03-07T15:06:48.357Z"
   },
   {
    "duration": 6,
    "start_time": "2024-03-07T15:06:48.370Z"
   },
   {
    "duration": 112,
    "start_time": "2024-03-07T15:06:48.377Z"
   },
   {
    "duration": 0,
    "start_time": "2024-03-07T15:06:48.490Z"
   },
   {
    "duration": 4,
    "start_time": "2024-03-07T15:07:08.739Z"
   },
   {
    "duration": 40,
    "start_time": "2024-03-07T15:07:10.814Z"
   },
   {
    "duration": 37,
    "start_time": "2024-03-07T15:08:13.589Z"
   },
   {
    "duration": 568,
    "start_time": "2024-03-07T15:08:49.468Z"
   },
   {
    "duration": 504,
    "start_time": "2024-03-07T15:09:24.556Z"
   },
   {
    "duration": 1284,
    "start_time": "2024-03-07T15:09:40.136Z"
   },
   {
    "duration": 369,
    "start_time": "2024-03-07T15:09:41.421Z"
   },
   {
    "duration": 5,
    "start_time": "2024-03-07T15:09:41.791Z"
   },
   {
    "duration": 4,
    "start_time": "2024-03-07T15:09:41.797Z"
   },
   {
    "duration": 675,
    "start_time": "2024-03-07T15:09:41.802Z"
   },
   {
    "duration": 769,
    "start_time": "2024-03-07T15:09:42.478Z"
   },
   {
    "duration": 706,
    "start_time": "2024-03-07T15:09:43.249Z"
   },
   {
    "duration": 16,
    "start_time": "2024-03-07T15:09:43.956Z"
   },
   {
    "duration": 297,
    "start_time": "2024-03-07T15:09:43.973Z"
   },
   {
    "duration": 261,
    "start_time": "2024-03-07T15:09:44.271Z"
   },
   {
    "duration": 286,
    "start_time": "2024-03-07T15:09:44.544Z"
   },
   {
    "duration": 417,
    "start_time": "2024-03-07T15:09:44.832Z"
   },
   {
    "duration": 93,
    "start_time": "2024-03-07T15:09:45.252Z"
   },
   {
    "duration": 100,
    "start_time": "2024-03-07T15:09:45.347Z"
   },
   {
    "duration": 64,
    "start_time": "2024-03-07T15:09:45.448Z"
   },
   {
    "duration": 20,
    "start_time": "2024-03-07T15:09:45.513Z"
   },
   {
    "duration": 34,
    "start_time": "2024-03-07T15:09:45.534Z"
   },
   {
    "duration": 17,
    "start_time": "2024-03-07T15:09:45.569Z"
   },
   {
    "duration": 597,
    "start_time": "2024-03-07T15:09:45.587Z"
   },
   {
    "duration": 5457,
    "start_time": "2024-03-08T12:54:37.625Z"
   },
   {
    "duration": 703,
    "start_time": "2024-03-08T12:54:43.084Z"
   },
   {
    "duration": 4,
    "start_time": "2024-03-08T12:54:43.788Z"
   },
   {
    "duration": 4,
    "start_time": "2024-03-08T12:54:43.793Z"
   },
   {
    "duration": 626,
    "start_time": "2024-03-08T12:54:43.799Z"
   },
   {
    "duration": 686,
    "start_time": "2024-03-08T12:54:44.426Z"
   },
   {
    "duration": 632,
    "start_time": "2024-03-08T12:54:45.113Z"
   },
   {
    "duration": 15,
    "start_time": "2024-03-08T12:54:45.746Z"
   },
   {
    "duration": 360,
    "start_time": "2024-03-08T12:54:45.762Z"
   },
   {
    "duration": 258,
    "start_time": "2024-03-08T12:54:46.123Z"
   },
   {
    "duration": 284,
    "start_time": "2024-03-08T12:54:46.382Z"
   },
   {
    "duration": 440,
    "start_time": "2024-03-08T12:54:46.667Z"
   },
   {
    "duration": 3,
    "start_time": "2024-03-08T12:54:47.108Z"
   },
   {
    "duration": 95,
    "start_time": "2024-03-08T12:54:47.113Z"
   },
   {
    "duration": 11,
    "start_time": "2024-03-08T12:54:47.210Z"
   },
   {
    "duration": 89,
    "start_time": "2024-03-08T12:54:47.223Z"
   },
   {
    "duration": 9,
    "start_time": "2024-03-08T12:54:47.313Z"
   },
   {
    "duration": 4,
    "start_time": "2024-03-08T12:54:47.323Z"
   },
   {
    "duration": 550,
    "start_time": "2024-03-08T12:54:47.329Z"
   },
   {
    "duration": 10,
    "start_time": "2024-03-08T12:58:17.700Z"
   },
   {
    "duration": 582,
    "start_time": "2024-03-08T13:01:02.777Z"
   },
   {
    "duration": 11,
    "start_time": "2024-03-08T13:01:03.361Z"
   },
   {
    "duration": 467,
    "start_time": "2024-03-08T13:01:18.434Z"
   },
   {
    "duration": 507,
    "start_time": "2024-03-08T13:01:35.830Z"
   },
   {
    "duration": 1538,
    "start_time": "2024-03-09T10:05:38.773Z"
   },
   {
    "duration": 785,
    "start_time": "2024-03-09T10:05:40.313Z"
   },
   {
    "duration": 4,
    "start_time": "2024-03-09T10:05:41.100Z"
   },
   {
    "duration": 7,
    "start_time": "2024-03-09T10:05:41.105Z"
   },
   {
    "duration": 759,
    "start_time": "2024-03-09T10:05:41.114Z"
   },
   {
    "duration": 800,
    "start_time": "2024-03-09T10:05:41.874Z"
   },
   {
    "duration": 747,
    "start_time": "2024-03-09T10:05:42.675Z"
   },
   {
    "duration": 18,
    "start_time": "2024-03-09T10:05:43.423Z"
   },
   {
    "duration": 373,
    "start_time": "2024-03-09T10:05:43.442Z"
   },
   {
    "duration": 338,
    "start_time": "2024-03-09T10:05:43.817Z"
   },
   {
    "duration": 313,
    "start_time": "2024-03-09T10:05:44.157Z"
   },
   {
    "duration": 411,
    "start_time": "2024-03-09T10:05:44.472Z"
   },
   {
    "duration": 3,
    "start_time": "2024-03-09T10:05:44.885Z"
   },
   {
    "duration": 99,
    "start_time": "2024-03-09T10:05:44.968Z"
   },
   {
    "duration": 41,
    "start_time": "2024-03-09T10:05:45.069Z"
   },
   {
    "duration": 40,
    "start_time": "2024-03-09T10:05:45.112Z"
   },
   {
    "duration": 10,
    "start_time": "2024-03-09T10:05:45.154Z"
   },
   {
    "duration": 96,
    "start_time": "2024-03-09T10:05:45.166Z"
   },
   {
    "duration": 711,
    "start_time": "2024-03-09T10:05:45.264Z"
   },
   {
    "duration": 599,
    "start_time": "2024-03-09T10:16:34.442Z"
   },
   {
    "duration": 555,
    "start_time": "2024-03-09T10:23:25.231Z"
   },
   {
    "duration": 635,
    "start_time": "2024-03-09T10:25:55.118Z"
   },
   {
    "duration": 701,
    "start_time": "2024-03-09T10:30:29.015Z"
   },
   {
    "duration": 620,
    "start_time": "2024-03-09T10:30:36.545Z"
   },
   {
    "duration": 598,
    "start_time": "2024-03-09T10:31:11.914Z"
   },
   {
    "duration": 700,
    "start_time": "2024-03-09T10:31:13.384Z"
   },
   {
    "duration": 604,
    "start_time": "2024-03-09T10:31:14.494Z"
   },
   {
    "duration": 635,
    "start_time": "2024-03-09T10:31:15.634Z"
   },
   {
    "duration": 577,
    "start_time": "2024-03-09T10:31:16.965Z"
   },
   {
    "duration": 690,
    "start_time": "2024-03-09T10:31:17.905Z"
   },
   {
    "duration": 598,
    "start_time": "2024-03-09T10:31:18.886Z"
   },
   {
    "duration": 613,
    "start_time": "2024-03-09T10:31:22.385Z"
   },
   {
    "duration": 6060,
    "start_time": "2024-03-10T06:07:58.648Z"
   },
   {
    "duration": 1650,
    "start_time": "2024-03-10T06:08:04.710Z"
   },
   {
    "duration": 5,
    "start_time": "2024-03-10T06:08:06.362Z"
   },
   {
    "duration": 20,
    "start_time": "2024-03-10T06:08:06.368Z"
   },
   {
    "duration": 885,
    "start_time": "2024-03-10T06:08:06.390Z"
   },
   {
    "duration": 896,
    "start_time": "2024-03-10T06:08:07.277Z"
   },
   {
    "duration": 847,
    "start_time": "2024-03-10T06:08:08.175Z"
   },
   {
    "duration": 20,
    "start_time": "2024-03-10T06:08:09.024Z"
   },
   {
    "duration": 392,
    "start_time": "2024-03-10T06:08:09.046Z"
   },
   {
    "duration": 364,
    "start_time": "2024-03-10T06:08:09.440Z"
   },
   {
    "duration": 301,
    "start_time": "2024-03-10T06:08:09.805Z"
   },
   {
    "duration": 471,
    "start_time": "2024-03-10T06:08:10.107Z"
   },
   {
    "duration": 93,
    "start_time": "2024-03-10T06:08:10.580Z"
   },
   {
    "duration": 9,
    "start_time": "2024-03-10T06:08:10.677Z"
   },
   {
    "duration": 109,
    "start_time": "2024-03-10T06:08:10.688Z"
   },
   {
    "duration": 22,
    "start_time": "2024-03-10T06:08:10.799Z"
   },
   {
    "duration": 19,
    "start_time": "2024-03-10T06:08:10.822Z"
   },
   {
    "duration": 16,
    "start_time": "2024-03-10T06:08:10.843Z"
   },
   {
    "duration": 728,
    "start_time": "2024-03-10T06:08:10.861Z"
   },
   {
    "duration": 612,
    "start_time": "2024-03-10T06:08:30.430Z"
   },
   {
    "duration": 1492,
    "start_time": "2024-03-10T11:54:26.618Z"
   },
   {
    "duration": 749,
    "start_time": "2024-03-10T11:54:28.112Z"
   },
   {
    "duration": 4,
    "start_time": "2024-03-10T11:54:28.864Z"
   },
   {
    "duration": 24,
    "start_time": "2024-03-10T11:54:28.870Z"
   },
   {
    "duration": 797,
    "start_time": "2024-03-10T11:54:28.895Z"
   },
   {
    "duration": 810,
    "start_time": "2024-03-10T11:54:29.694Z"
   },
   {
    "duration": 776,
    "start_time": "2024-03-10T11:54:30.505Z"
   },
   {
    "duration": 16,
    "start_time": "2024-03-10T11:54:31.284Z"
   },
   {
    "duration": 410,
    "start_time": "2024-03-10T11:54:31.301Z"
   },
   {
    "duration": 309,
    "start_time": "2024-03-10T11:54:31.713Z"
   },
   {
    "duration": 343,
    "start_time": "2024-03-10T11:54:32.024Z"
   },
   {
    "duration": 405,
    "start_time": "2024-03-10T11:54:32.369Z"
   },
   {
    "duration": 90,
    "start_time": "2024-03-10T11:54:32.777Z"
   },
   {
    "duration": 5,
    "start_time": "2024-03-10T11:54:32.870Z"
   },
   {
    "duration": 12,
    "start_time": "2024-03-10T11:54:32.966Z"
   },
   {
    "duration": 13,
    "start_time": "2024-03-10T11:54:32.980Z"
   },
   {
    "duration": 7,
    "start_time": "2024-03-10T11:54:32.995Z"
   },
   {
    "duration": 5,
    "start_time": "2024-03-10T11:54:33.003Z"
   },
   {
    "duration": 689,
    "start_time": "2024-03-10T11:54:33.010Z"
   },
   {
    "duration": 9,
    "start_time": "2024-03-10T12:03:00.447Z"
   },
   {
    "duration": 1356,
    "start_time": "2024-03-10T12:04:54.787Z"
   },
   {
    "duration": 395,
    "start_time": "2024-03-10T12:04:56.144Z"
   },
   {
    "duration": 5,
    "start_time": "2024-03-10T12:04:56.540Z"
   },
   {
    "duration": 11,
    "start_time": "2024-03-10T12:04:56.547Z"
   },
   {
    "duration": 770,
    "start_time": "2024-03-10T12:04:56.561Z"
   },
   {
    "duration": 813,
    "start_time": "2024-03-10T12:04:57.333Z"
   },
   {
    "duration": 787,
    "start_time": "2024-03-10T12:04:58.148Z"
   },
   {
    "duration": 17,
    "start_time": "2024-03-10T12:04:58.936Z"
   },
   {
    "duration": 330,
    "start_time": "2024-03-10T12:04:58.965Z"
   },
   {
    "duration": 289,
    "start_time": "2024-03-10T12:04:59.297Z"
   },
   {
    "duration": 287,
    "start_time": "2024-03-10T12:04:59.588Z"
   },
   {
    "duration": 392,
    "start_time": "2024-03-10T12:04:59.877Z"
   },
   {
    "duration": 94,
    "start_time": "2024-03-10T12:05:00.271Z"
   },
   {
    "duration": 97,
    "start_time": "2024-03-10T12:05:00.369Z"
   },
   {
    "duration": 100,
    "start_time": "2024-03-10T12:05:00.467Z"
   },
   {
    "duration": 60,
    "start_time": "2024-03-10T12:05:00.569Z"
   },
   {
    "duration": 27,
    "start_time": "2024-03-10T12:05:00.630Z"
   },
   {
    "duration": 65,
    "start_time": "2024-03-10T12:05:00.659Z"
   },
   {
    "duration": 71,
    "start_time": "2024-03-10T12:05:00.726Z"
   },
   {
    "duration": 110,
    "start_time": "2024-03-10T12:06:55.295Z"
   },
   {
    "duration": 16,
    "start_time": "2024-03-10T12:07:28.986Z"
   },
   {
    "duration": 15,
    "start_time": "2024-03-10T12:07:36.976Z"
   },
   {
    "duration": 10,
    "start_time": "2024-03-10T12:07:50.944Z"
   },
   {
    "duration": 15,
    "start_time": "2024-03-10T12:10:59.895Z"
   },
   {
    "duration": 3,
    "start_time": "2024-03-10T12:19:36.753Z"
   },
   {
    "duration": 14,
    "start_time": "2024-03-10T12:23:07.763Z"
   },
   {
    "duration": 5021,
    "start_time": "2024-03-10T12:23:24.603Z"
   },
   {
    "duration": 16,
    "start_time": "2024-03-10T12:30:32.182Z"
   },
   {
    "duration": 15,
    "start_time": "2024-03-10T12:31:15.172Z"
   },
   {
    "duration": 9,
    "start_time": "2024-03-10T12:36:58.950Z"
   },
   {
    "duration": 61,
    "start_time": "2024-03-10T12:37:01.310Z"
   },
   {
    "duration": 9,
    "start_time": "2024-03-10T12:37:09.950Z"
   },
   {
    "duration": 73,
    "start_time": "2024-03-10T12:37:11.570Z"
   },
   {
    "duration": 1330,
    "start_time": "2024-03-10T12:37:24.173Z"
   },
   {
    "duration": 409,
    "start_time": "2024-03-10T12:37:25.505Z"
   },
   {
    "duration": 8,
    "start_time": "2024-03-10T12:37:25.916Z"
   },
   {
    "duration": 13,
    "start_time": "2024-03-10T12:37:25.926Z"
   },
   {
    "duration": 801,
    "start_time": "2024-03-10T12:37:25.942Z"
   },
   {
    "duration": 817,
    "start_time": "2024-03-10T12:37:26.745Z"
   },
   {
    "duration": 741,
    "start_time": "2024-03-10T12:37:27.564Z"
   },
   {
    "duration": 17,
    "start_time": "2024-03-10T12:37:28.306Z"
   },
   {
    "duration": 361,
    "start_time": "2024-03-10T12:37:28.324Z"
   },
   {
    "duration": 292,
    "start_time": "2024-03-10T12:37:28.687Z"
   },
   {
    "duration": 293,
    "start_time": "2024-03-10T12:37:28.980Z"
   },
   {
    "duration": 398,
    "start_time": "2024-03-10T12:37:29.275Z"
   },
   {
    "duration": 91,
    "start_time": "2024-03-10T12:37:29.676Z"
   },
   {
    "duration": 94,
    "start_time": "2024-03-10T12:37:29.772Z"
   },
   {
    "duration": 10,
    "start_time": "2024-03-10T12:37:29.867Z"
   },
   {
    "duration": 12,
    "start_time": "2024-03-10T12:37:29.879Z"
   },
   {
    "duration": 7,
    "start_time": "2024-03-10T12:37:29.892Z"
   },
   {
    "duration": 21,
    "start_time": "2024-03-10T12:37:29.900Z"
   },
   {
    "duration": 10,
    "start_time": "2024-03-10T12:37:29.923Z"
   },
   {
    "duration": 186,
    "start_time": "2024-03-10T12:37:29.934Z"
   },
   {
    "duration": 10,
    "start_time": "2024-03-10T12:38:28.881Z"
   },
   {
    "duration": 67,
    "start_time": "2024-03-10T12:38:30.551Z"
   },
   {
    "duration": 10,
    "start_time": "2024-03-10T12:42:04.509Z"
   },
   {
    "duration": 60,
    "start_time": "2024-03-10T12:42:07.399Z"
   },
   {
    "duration": 10,
    "start_time": "2024-03-10T12:42:58.918Z"
   },
   {
    "duration": 127,
    "start_time": "2024-03-10T12:43:01.589Z"
   },
   {
    "duration": 12,
    "start_time": "2024-03-10T12:43:41.639Z"
   },
   {
    "duration": 108,
    "start_time": "2024-03-10T12:43:49.358Z"
   },
   {
    "duration": 8,
    "start_time": "2024-03-10T12:44:09.728Z"
   },
   {
    "duration": 3,
    "start_time": "2024-03-10T12:44:53.458Z"
   },
   {
    "duration": 73,
    "start_time": "2024-03-10T12:45:03.239Z"
   },
   {
    "duration": 81,
    "start_time": "2024-03-10T12:45:13.098Z"
   },
   {
    "duration": 121,
    "start_time": "2024-03-10T12:45:29.997Z"
   },
   {
    "duration": 5003,
    "start_time": "2024-03-10T12:48:29.216Z"
   },
   {
    "duration": 4888,
    "start_time": "2024-03-10T12:48:43.835Z"
   },
   {
    "duration": 1328,
    "start_time": "2024-03-10T12:51:23.812Z"
   },
   {
    "duration": 393,
    "start_time": "2024-03-10T12:51:25.142Z"
   },
   {
    "duration": 4,
    "start_time": "2024-03-10T12:51:25.536Z"
   },
   {
    "duration": 5,
    "start_time": "2024-03-10T12:51:25.542Z"
   },
   {
    "duration": 821,
    "start_time": "2024-03-10T12:51:25.549Z"
   },
   {
    "duration": 846,
    "start_time": "2024-03-10T12:51:26.371Z"
   },
   {
    "duration": 750,
    "start_time": "2024-03-10T12:51:27.218Z"
   },
   {
    "duration": 17,
    "start_time": "2024-03-10T12:51:27.969Z"
   },
   {
    "duration": 309,
    "start_time": "2024-03-10T12:51:27.987Z"
   },
   {
    "duration": 281,
    "start_time": "2024-03-10T12:51:28.298Z"
   },
   {
    "duration": 300,
    "start_time": "2024-03-10T12:51:28.580Z"
   },
   {
    "duration": 396,
    "start_time": "2024-03-10T12:51:28.881Z"
   },
   {
    "duration": 88,
    "start_time": "2024-03-10T12:51:29.279Z"
   },
   {
    "duration": 94,
    "start_time": "2024-03-10T12:51:29.373Z"
   },
   {
    "duration": 13,
    "start_time": "2024-03-10T12:51:29.469Z"
   },
   {
    "duration": 13,
    "start_time": "2024-03-10T12:51:29.483Z"
   },
   {
    "duration": 14,
    "start_time": "2024-03-10T12:51:29.498Z"
   },
   {
    "duration": 13,
    "start_time": "2024-03-10T12:51:29.514Z"
   },
   {
    "duration": 3,
    "start_time": "2024-03-10T12:51:29.529Z"
   },
   {
    "duration": 4986,
    "start_time": "2024-03-10T12:51:29.534Z"
   },
   {
    "duration": 3,
    "start_time": "2024-03-10T12:52:45.027Z"
   },
   {
    "duration": 5006,
    "start_time": "2024-03-10T12:52:45.032Z"
   },
   {
    "duration": 74,
    "start_time": "2024-03-10T12:53:48.191Z"
   },
   {
    "duration": 4909,
    "start_time": "2024-03-10T12:54:01.080Z"
   },
   {
    "duration": 184,
    "start_time": "2024-03-10T12:58:05.130Z"
   },
   {
    "duration": 16,
    "start_time": "2024-03-10T12:58:23.490Z"
   },
   {
    "duration": 13,
    "start_time": "2024-03-10T12:58:33.749Z"
   },
   {
    "duration": 12,
    "start_time": "2024-03-10T12:58:46.770Z"
   },
   {
    "duration": 79,
    "start_time": "2024-03-10T13:00:19.441Z"
   },
   {
    "duration": 12,
    "start_time": "2024-03-10T13:00:38.189Z"
   },
   {
    "duration": 4850,
    "start_time": "2024-03-10T13:02:00.078Z"
   },
   {
    "duration": 9,
    "start_time": "2024-03-10T13:03:55.468Z"
   },
   {
    "duration": 19,
    "start_time": "2024-03-10T13:04:10.629Z"
   },
   {
    "duration": 15,
    "start_time": "2024-03-10T13:04:18.507Z"
   },
   {
    "duration": 7,
    "start_time": "2024-03-10T13:19:18.237Z"
   },
   {
    "duration": 28,
    "start_time": "2024-03-10T13:25:16.655Z"
   },
   {
    "duration": 32,
    "start_time": "2024-03-10T13:26:15.724Z"
   },
   {
    "duration": 358,
    "start_time": "2024-03-10T13:28:15.684Z"
   },
   {
    "duration": 4,
    "start_time": "2024-03-10T13:28:53.954Z"
   },
   {
    "duration": 849,
    "start_time": "2024-03-10T13:28:54.864Z"
   },
   {
    "duration": 1330,
    "start_time": "2024-03-10T13:29:20.397Z"
   },
   {
    "duration": 400,
    "start_time": "2024-03-10T13:29:21.728Z"
   },
   {
    "duration": 4,
    "start_time": "2024-03-10T13:29:22.130Z"
   },
   {
    "duration": 3,
    "start_time": "2024-03-10T13:29:22.136Z"
   },
   {
    "duration": 785,
    "start_time": "2024-03-10T13:29:22.141Z"
   },
   {
    "duration": 803,
    "start_time": "2024-03-10T13:29:22.928Z"
   },
   {
    "duration": 777,
    "start_time": "2024-03-10T13:29:23.732Z"
   },
   {
    "duration": 16,
    "start_time": "2024-03-10T13:29:24.511Z"
   },
   {
    "duration": 347,
    "start_time": "2024-03-10T13:29:24.528Z"
   },
   {
    "duration": 298,
    "start_time": "2024-03-10T13:29:24.878Z"
   },
   {
    "duration": 294,
    "start_time": "2024-03-10T13:29:25.178Z"
   },
   {
    "duration": 404,
    "start_time": "2024-03-10T13:29:25.473Z"
   },
   {
    "duration": 88,
    "start_time": "2024-03-10T13:29:25.880Z"
   },
   {
    "duration": 131,
    "start_time": "2024-03-10T13:29:25.971Z"
   },
   {
    "duration": 30,
    "start_time": "2024-03-10T13:29:26.103Z"
   },
   {
    "duration": 33,
    "start_time": "2024-03-10T13:29:26.134Z"
   },
   {
    "duration": 25,
    "start_time": "2024-03-10T13:29:26.168Z"
   },
   {
    "duration": 49,
    "start_time": "2024-03-10T13:29:26.195Z"
   },
   {
    "duration": 463,
    "start_time": "2024-03-10T13:29:26.246Z"
   },
   {
    "duration": 0,
    "start_time": "2024-03-10T13:29:26.711Z"
   },
   {
    "duration": 0,
    "start_time": "2024-03-10T13:29:26.712Z"
   },
   {
    "duration": 3,
    "start_time": "2024-03-10T13:29:29.487Z"
   },
   {
    "duration": 16,
    "start_time": "2024-03-10T13:29:30.147Z"
   },
   {
    "duration": 1048,
    "start_time": "2024-03-10T13:29:46.277Z"
   },
   {
    "duration": 91,
    "start_time": "2024-03-10T13:29:58.677Z"
   },
   {
    "duration": 1772,
    "start_time": "2024-03-10T13:31:34.137Z"
   },
   {
    "duration": 1584,
    "start_time": "2024-03-10T13:33:12.387Z"
   },
   {
    "duration": 5065,
    "start_time": "2024-03-10T13:34:07.266Z"
   },
   {
    "duration": 5051,
    "start_time": "2024-03-10T13:34:59.276Z"
   },
   {
    "duration": 4,
    "start_time": "2024-03-10T13:35:35.386Z"
   },
   {
    "duration": 18,
    "start_time": "2024-03-10T13:38:18.006Z"
   },
   {
    "duration": 14,
    "start_time": "2024-03-10T13:38:22.135Z"
   },
   {
    "duration": 14,
    "start_time": "2024-03-10T13:38:29.606Z"
   },
   {
    "duration": 18,
    "start_time": "2024-03-10T13:38:40.736Z"
   },
   {
    "duration": 5436,
    "start_time": "2024-03-10T13:39:19.985Z"
   },
   {
    "duration": 3,
    "start_time": "2024-03-10T13:41:26.904Z"
   },
   {
    "duration": 17,
    "start_time": "2024-03-10T13:45:10.166Z"
   },
   {
    "duration": 1469,
    "start_time": "2024-03-10T13:46:57.935Z"
   },
   {
    "duration": 16,
    "start_time": "2024-03-10T13:48:59.615Z"
   },
   {
    "duration": 17,
    "start_time": "2024-03-10T13:49:16.875Z"
   },
   {
    "duration": 1369,
    "start_time": "2024-03-10T13:49:29.182Z"
   },
   {
    "duration": 450,
    "start_time": "2024-03-10T13:49:30.553Z"
   },
   {
    "duration": 5,
    "start_time": "2024-03-10T13:49:31.005Z"
   },
   {
    "duration": 117,
    "start_time": "2024-03-10T13:49:31.012Z"
   },
   {
    "duration": 923,
    "start_time": "2024-03-10T13:49:31.131Z"
   },
   {
    "duration": 834,
    "start_time": "2024-03-10T13:49:32.055Z"
   },
   {
    "duration": 779,
    "start_time": "2024-03-10T13:49:32.891Z"
   },
   {
    "duration": 17,
    "start_time": "2024-03-10T13:49:33.671Z"
   },
   {
    "duration": 303,
    "start_time": "2024-03-10T13:49:33.690Z"
   },
   {
    "duration": 292,
    "start_time": "2024-03-10T13:49:33.994Z"
   },
   {
    "duration": 304,
    "start_time": "2024-03-10T13:49:34.288Z"
   },
   {
    "duration": 377,
    "start_time": "2024-03-10T13:49:34.593Z"
   },
   {
    "duration": 94,
    "start_time": "2024-03-10T13:49:34.972Z"
   },
   {
    "duration": 101,
    "start_time": "2024-03-10T13:49:35.071Z"
   },
   {
    "duration": 11,
    "start_time": "2024-03-10T13:49:35.174Z"
   },
   {
    "duration": 13,
    "start_time": "2024-03-10T13:49:35.186Z"
   },
   {
    "duration": 7,
    "start_time": "2024-03-10T13:49:35.200Z"
   },
   {
    "duration": 5,
    "start_time": "2024-03-10T13:49:35.208Z"
   },
   {
    "duration": 5,
    "start_time": "2024-03-10T13:49:35.215Z"
   },
   {
    "duration": 140,
    "start_time": "2024-03-10T13:49:35.221Z"
   },
   {
    "duration": 321,
    "start_time": "2024-03-10T13:50:00.633Z"
   },
   {
    "duration": 337,
    "start_time": "2024-03-10T13:50:01.912Z"
   },
   {
    "duration": 10,
    "start_time": "2024-03-10T13:51:26.211Z"
   },
   {
    "duration": 1102,
    "start_time": "2024-03-10T13:56:10.401Z"
   },
   {
    "duration": 13,
    "start_time": "2024-03-10T13:57:06.642Z"
   },
   {
    "duration": 7,
    "start_time": "2024-03-10T13:57:14.131Z"
   },
   {
    "duration": 19,
    "start_time": "2024-03-10T13:58:37.781Z"
   },
   {
    "duration": 3,
    "start_time": "2024-03-10T14:01:24.321Z"
   },
   {
    "duration": 375,
    "start_time": "2024-03-10T14:01:24.941Z"
   },
   {
    "duration": 1379,
    "start_time": "2024-03-10T14:01:37.971Z"
   },
   {
    "duration": 1145,
    "start_time": "2024-03-10T14:02:00.131Z"
   },
   {
    "duration": 1374,
    "start_time": "2024-03-10T14:03:26.142Z"
   },
   {
    "duration": 398,
    "start_time": "2024-03-10T14:03:27.518Z"
   },
   {
    "duration": 4,
    "start_time": "2024-03-10T14:03:27.918Z"
   },
   {
    "duration": 3,
    "start_time": "2024-03-10T14:03:27.924Z"
   },
   {
    "duration": 773,
    "start_time": "2024-03-10T14:03:27.930Z"
   },
   {
    "duration": 848,
    "start_time": "2024-03-10T14:03:28.705Z"
   },
   {
    "duration": 830,
    "start_time": "2024-03-10T14:03:29.555Z"
   },
   {
    "duration": 18,
    "start_time": "2024-03-10T14:03:30.387Z"
   },
   {
    "duration": 386,
    "start_time": "2024-03-10T14:03:30.407Z"
   },
   {
    "duration": 293,
    "start_time": "2024-03-10T14:03:30.795Z"
   },
   {
    "duration": 289,
    "start_time": "2024-03-10T14:03:31.090Z"
   },
   {
    "duration": 486,
    "start_time": "2024-03-10T14:03:31.381Z"
   },
   {
    "duration": 6,
    "start_time": "2024-03-10T14:03:31.869Z"
   },
   {
    "duration": 14,
    "start_time": "2024-03-10T14:03:31.965Z"
   },
   {
    "duration": 20,
    "start_time": "2024-03-10T14:03:31.980Z"
   },
   {
    "duration": 13,
    "start_time": "2024-03-10T14:03:32.001Z"
   },
   {
    "duration": 8,
    "start_time": "2024-03-10T14:03:32.015Z"
   },
   {
    "duration": 19,
    "start_time": "2024-03-10T14:03:32.024Z"
   },
   {
    "duration": 11,
    "start_time": "2024-03-10T14:03:32.044Z"
   },
   {
    "duration": 1367,
    "start_time": "2024-03-10T14:03:32.056Z"
   },
   {
    "duration": 9,
    "start_time": "2024-03-10T14:04:45.730Z"
   },
   {
    "duration": 13,
    "start_time": "2024-03-10T14:09:33.120Z"
   },
   {
    "duration": 125,
    "start_time": "2024-03-10T14:12:22.810Z"
   },
   {
    "duration": 29,
    "start_time": "2024-03-10T14:12:32.339Z"
   },
   {
    "duration": 1215,
    "start_time": "2024-03-10T14:15:04.169Z"
   },
   {
    "duration": 1258,
    "start_time": "2024-03-10T14:16:22.469Z"
   },
   {
    "duration": 2,
    "start_time": "2024-03-10T14:16:58.498Z"
   },
   {
    "duration": 4,
    "start_time": "2024-03-10T14:17:01.058Z"
   },
   {
    "duration": 7,
    "start_time": "2024-03-10T14:17:02.369Z"
   },
   {
    "duration": 3,
    "start_time": "2024-03-10T14:17:03.358Z"
   },
   {
    "duration": 8,
    "start_time": "2024-03-10T14:24:20.070Z"
   },
   {
    "duration": 96,
    "start_time": "2024-03-10T14:29:30.027Z"
   },
   {
    "duration": 598,
    "start_time": "2024-03-10T14:29:45.187Z"
   },
   {
    "duration": 626,
    "start_time": "2024-03-10T14:30:26.186Z"
   },
   {
    "duration": 634,
    "start_time": "2024-03-10T14:30:56.136Z"
   },
   {
    "duration": 641,
    "start_time": "2024-03-10T14:31:36.546Z"
   },
   {
    "duration": 206,
    "start_time": "2024-03-10T14:32:14.025Z"
   },
   {
    "duration": 616,
    "start_time": "2024-03-10T14:32:36.155Z"
   },
   {
    "duration": 661,
    "start_time": "2024-03-10T14:32:47.124Z"
   },
   {
    "duration": 1763,
    "start_time": "2024-03-10T14:34:12.284Z"
   },
   {
    "duration": 1905,
    "start_time": "2024-03-10T14:35:14.844Z"
   },
   {
    "duration": 1363,
    "start_time": "2024-03-10T14:35:32.654Z"
   },
   {
    "duration": 394,
    "start_time": "2024-03-10T14:35:34.019Z"
   },
   {
    "duration": 5,
    "start_time": "2024-03-10T14:35:34.415Z"
   },
   {
    "duration": 23,
    "start_time": "2024-03-10T14:35:34.421Z"
   },
   {
    "duration": 802,
    "start_time": "2024-03-10T14:35:34.446Z"
   },
   {
    "duration": 835,
    "start_time": "2024-03-10T14:35:35.249Z"
   },
   {
    "duration": 768,
    "start_time": "2024-03-10T14:35:36.085Z"
   },
   {
    "duration": 22,
    "start_time": "2024-03-10T14:35:36.854Z"
   },
   {
    "duration": 305,
    "start_time": "2024-03-10T14:35:36.877Z"
   },
   {
    "duration": 293,
    "start_time": "2024-03-10T14:35:37.184Z"
   },
   {
    "duration": 320,
    "start_time": "2024-03-10T14:35:37.478Z"
   },
   {
    "duration": 375,
    "start_time": "2024-03-10T14:35:37.799Z"
   },
   {
    "duration": 4,
    "start_time": "2024-03-10T14:35:38.175Z"
   },
   {
    "duration": 101,
    "start_time": "2024-03-10T14:35:38.269Z"
   },
   {
    "duration": 10,
    "start_time": "2024-03-10T14:35:38.372Z"
   },
   {
    "duration": 13,
    "start_time": "2024-03-10T14:35:38.383Z"
   },
   {
    "duration": 11,
    "start_time": "2024-03-10T14:35:38.397Z"
   },
   {
    "duration": 7,
    "start_time": "2024-03-10T14:35:38.409Z"
   },
   {
    "duration": 8,
    "start_time": "2024-03-10T14:35:38.417Z"
   },
   {
    "duration": 1867,
    "start_time": "2024-03-10T14:35:38.426Z"
   },
   {
    "duration": 1835,
    "start_time": "2024-03-10T14:36:25.493Z"
   },
   {
    "duration": 1919,
    "start_time": "2024-03-10T14:39:28.623Z"
   },
   {
    "duration": 1702,
    "start_time": "2024-03-10T14:39:43.232Z"
   },
   {
    "duration": 6010,
    "start_time": "2024-03-11T05:54:48.004Z"
   },
   {
    "duration": 1605,
    "start_time": "2024-03-11T05:54:54.016Z"
   },
   {
    "duration": 5,
    "start_time": "2024-03-11T05:54:55.622Z"
   },
   {
    "duration": 114,
    "start_time": "2024-03-11T05:54:55.629Z"
   },
   {
    "duration": 754,
    "start_time": "2024-03-11T05:54:55.745Z"
   },
   {
    "duration": 799,
    "start_time": "2024-03-11T05:54:56.500Z"
   },
   {
    "duration": 759,
    "start_time": "2024-03-11T05:54:57.308Z"
   },
   {
    "duration": 16,
    "start_time": "2024-03-11T05:54:58.068Z"
   },
   {
    "duration": 348,
    "start_time": "2024-03-11T05:54:58.093Z"
   },
   {
    "duration": 318,
    "start_time": "2024-03-11T05:54:58.443Z"
   },
   {
    "duration": 338,
    "start_time": "2024-03-11T05:54:58.762Z"
   },
   {
    "duration": 407,
    "start_time": "2024-03-11T05:54:59.102Z"
   },
   {
    "duration": 3,
    "start_time": "2024-03-11T05:54:59.511Z"
   },
   {
    "duration": 43,
    "start_time": "2024-03-11T05:54:59.596Z"
   },
   {
    "duration": 15,
    "start_time": "2024-03-11T05:54:59.694Z"
   },
   {
    "duration": 59,
    "start_time": "2024-03-11T05:54:59.710Z"
   },
   {
    "duration": 6,
    "start_time": "2024-03-11T05:54:59.770Z"
   },
   {
    "duration": 42,
    "start_time": "2024-03-11T05:54:59.778Z"
   },
   {
    "duration": 32,
    "start_time": "2024-03-11T05:54:59.822Z"
   },
   {
    "duration": 1900,
    "start_time": "2024-03-11T05:54:59.856Z"
   },
   {
    "duration": 1793,
    "start_time": "2024-03-11T05:55:31.772Z"
   },
   {
    "duration": 1881,
    "start_time": "2024-03-11T05:56:02.238Z"
   },
   {
    "duration": 7,
    "start_time": "2024-03-11T05:56:04.650Z"
   },
   {
    "duration": 1632,
    "start_time": "2024-03-11T06:34:57.783Z"
   },
   {
    "duration": 797,
    "start_time": "2024-03-11T06:34:59.416Z"
   },
   {
    "duration": 5,
    "start_time": "2024-03-11T06:35:00.215Z"
   },
   {
    "duration": 30,
    "start_time": "2024-03-11T06:35:00.221Z"
   },
   {
    "duration": 823,
    "start_time": "2024-03-11T06:35:00.253Z"
   },
   {
    "duration": 920,
    "start_time": "2024-03-11T06:35:01.078Z"
   },
   {
    "duration": 824,
    "start_time": "2024-03-11T06:35:01.999Z"
   },
   {
    "duration": 19,
    "start_time": "2024-03-11T06:35:02.824Z"
   },
   {
    "duration": 380,
    "start_time": "2024-03-11T06:35:02.844Z"
   },
   {
    "duration": 311,
    "start_time": "2024-03-11T06:35:03.226Z"
   },
   {
    "duration": 297,
    "start_time": "2024-03-11T06:35:03.539Z"
   },
   {
    "duration": 395,
    "start_time": "2024-03-11T06:35:03.838Z"
   },
   {
    "duration": 83,
    "start_time": "2024-03-11T06:35:04.237Z"
   },
   {
    "duration": 95,
    "start_time": "2024-03-11T06:35:04.323Z"
   },
   {
    "duration": 11,
    "start_time": "2024-03-11T06:35:04.420Z"
   },
   {
    "duration": 13,
    "start_time": "2024-03-11T06:35:04.433Z"
   },
   {
    "duration": 7,
    "start_time": "2024-03-11T06:35:04.448Z"
   },
   {
    "duration": 12,
    "start_time": "2024-03-11T06:35:04.457Z"
   },
   {
    "duration": 8,
    "start_time": "2024-03-11T06:35:04.471Z"
   },
   {
    "duration": 1902,
    "start_time": "2024-03-11T06:35:04.481Z"
   },
   {
    "duration": 4,
    "start_time": "2024-03-11T06:35:59.738Z"
   },
   {
    "duration": 3442,
    "start_time": "2024-03-11T06:36:01.498Z"
   },
   {
    "duration": 8,
    "start_time": "2024-03-11T06:37:48.158Z"
   },
   {
    "duration": 7,
    "start_time": "2024-03-11T06:37:57.639Z"
   },
   {
    "duration": 1995,
    "start_time": "2024-03-11T06:39:28.605Z"
   },
   {
    "duration": 110,
    "start_time": "2024-03-11T07:14:30.000Z"
   },
   {
    "duration": 357,
    "start_time": "2024-03-11T07:15:11.616Z"
   },
   {
    "duration": 680,
    "start_time": "2024-03-11T07:15:23.406Z"
   },
   {
    "duration": 4,
    "start_time": "2024-03-11T07:19:27.422Z"
   },
   {
    "duration": 32,
    "start_time": "2024-03-11T07:25:11.711Z"
   },
   {
    "duration": 1417,
    "start_time": "2024-03-11T07:25:26.492Z"
   },
   {
    "duration": 469,
    "start_time": "2024-03-11T07:25:27.911Z"
   },
   {
    "duration": 5,
    "start_time": "2024-03-11T07:25:28.381Z"
   },
   {
    "duration": 4,
    "start_time": "2024-03-11T07:25:28.388Z"
   },
   {
    "duration": 805,
    "start_time": "2024-03-11T07:25:28.393Z"
   },
   {
    "duration": 865,
    "start_time": "2024-03-11T07:25:29.199Z"
   },
   {
    "duration": 788,
    "start_time": "2024-03-11T07:25:30.066Z"
   },
   {
    "duration": 16,
    "start_time": "2024-03-11T07:25:30.856Z"
   },
   {
    "duration": 367,
    "start_time": "2024-03-11T07:25:30.874Z"
   },
   {
    "duration": 298,
    "start_time": "2024-03-11T07:25:31.243Z"
   },
   {
    "duration": 301,
    "start_time": "2024-03-11T07:25:31.542Z"
   },
   {
    "duration": 388,
    "start_time": "2024-03-11T07:25:31.845Z"
   },
   {
    "duration": 89,
    "start_time": "2024-03-11T07:25:32.235Z"
   },
   {
    "duration": 96,
    "start_time": "2024-03-11T07:25:32.326Z"
   },
   {
    "duration": 28,
    "start_time": "2024-03-11T07:25:32.427Z"
   },
   {
    "duration": 14,
    "start_time": "2024-03-11T07:25:32.456Z"
   },
   {
    "duration": 8,
    "start_time": "2024-03-11T07:25:32.472Z"
   },
   {
    "duration": 12,
    "start_time": "2024-03-11T07:25:32.481Z"
   },
   {
    "duration": 123,
    "start_time": "2024-03-11T07:25:32.495Z"
   },
   {
    "duration": 0,
    "start_time": "2024-03-11T07:25:32.621Z"
   },
   {
    "duration": 863,
    "start_time": "2024-03-11T07:26:23.905Z"
   },
   {
    "duration": 55,
    "start_time": "2024-03-11T07:26:27.839Z"
   },
   {
    "duration": 1465,
    "start_time": "2024-03-11T07:26:29.700Z"
   },
   {
    "duration": 94,
    "start_time": "2024-03-11T07:26:57.405Z"
   },
   {
    "duration": 102,
    "start_time": "2024-03-11T07:27:25.629Z"
   },
   {
    "duration": 87,
    "start_time": "2024-03-11T07:27:31.337Z"
   },
   {
    "duration": 5,
    "start_time": "2024-03-11T07:27:50.962Z"
   },
   {
    "duration": 7,
    "start_time": "2024-03-11T07:27:54.640Z"
   },
   {
    "duration": 83,
    "start_time": "2024-03-11T07:29:04.397Z"
   },
   {
    "duration": 102,
    "start_time": "2024-03-11T07:29:19.639Z"
   },
   {
    "duration": 21,
    "start_time": "2024-03-11T07:29:53.747Z"
   },
   {
    "duration": 427,
    "start_time": "2024-03-11T07:31:00.486Z"
   },
   {
    "duration": 9,
    "start_time": "2024-03-11T07:31:03.367Z"
   },
   {
    "duration": 271,
    "start_time": "2024-03-11T07:31:04.330Z"
   },
   {
    "duration": 379,
    "start_time": "2024-03-11T07:31:15.660Z"
   },
   {
    "duration": 9,
    "start_time": "2024-03-11T07:32:27.883Z"
   },
   {
    "duration": 3,
    "start_time": "2024-03-11T07:32:41.739Z"
   },
   {
    "duration": 367,
    "start_time": "2024-03-11T07:32:47.221Z"
   },
   {
    "duration": 1319,
    "start_time": "2024-03-11T07:32:55.072Z"
   },
   {
    "duration": 406,
    "start_time": "2024-03-11T07:32:56.393Z"
   },
   {
    "duration": 5,
    "start_time": "2024-03-11T07:32:56.801Z"
   },
   {
    "duration": 25,
    "start_time": "2024-03-11T07:32:56.807Z"
   },
   {
    "duration": 774,
    "start_time": "2024-03-11T07:32:56.834Z"
   },
   {
    "duration": 846,
    "start_time": "2024-03-11T07:32:57.610Z"
   },
   {
    "duration": 797,
    "start_time": "2024-03-11T07:32:58.457Z"
   },
   {
    "duration": 16,
    "start_time": "2024-03-11T07:32:59.256Z"
   },
   {
    "duration": 373,
    "start_time": "2024-03-11T07:32:59.273Z"
   },
   {
    "duration": 307,
    "start_time": "2024-03-11T07:32:59.647Z"
   },
   {
    "duration": 322,
    "start_time": "2024-03-11T07:32:59.956Z"
   },
   {
    "duration": 348,
    "start_time": "2024-03-11T07:33:00.280Z"
   },
   {
    "duration": 5,
    "start_time": "2024-03-11T07:33:00.630Z"
   },
   {
    "duration": 106,
    "start_time": "2024-03-11T07:33:00.638Z"
   },
   {
    "duration": 104,
    "start_time": "2024-03-11T07:33:00.745Z"
   },
   {
    "duration": 28,
    "start_time": "2024-03-11T07:33:00.851Z"
   },
   {
    "duration": 28,
    "start_time": "2024-03-11T07:33:00.881Z"
   },
   {
    "duration": 39,
    "start_time": "2024-03-11T07:33:00.911Z"
   },
   {
    "duration": 77,
    "start_time": "2024-03-11T07:33:00.951Z"
   },
   {
    "duration": 21,
    "start_time": "2024-03-11T07:33:01.029Z"
   },
   {
    "duration": 139,
    "start_time": "2024-03-11T07:33:01.051Z"
   },
   {
    "duration": 1,
    "start_time": "2024-03-11T07:33:01.191Z"
   },
   {
    "duration": 3,
    "start_time": "2024-03-11T07:33:30.176Z"
   },
   {
    "duration": 9,
    "start_time": "2024-03-11T07:33:33.488Z"
   },
   {
    "duration": 4,
    "start_time": "2024-03-11T07:34:13.860Z"
   },
   {
    "duration": 23,
    "start_time": "2024-03-11T07:34:15.116Z"
   },
   {
    "duration": 15,
    "start_time": "2024-03-11T07:34:48.429Z"
   },
   {
    "duration": 9,
    "start_time": "2024-03-11T07:35:41.112Z"
   },
   {
    "duration": 21,
    "start_time": "2024-03-11T07:35:59.216Z"
   },
   {
    "duration": 24,
    "start_time": "2024-03-11T07:36:29.258Z"
   },
   {
    "duration": 21,
    "start_time": "2024-03-11T07:37:53.714Z"
   },
   {
    "duration": 4,
    "start_time": "2024-03-11T10:34:55.494Z"
   },
   {
    "duration": 7,
    "start_time": "2024-03-11T10:38:14.052Z"
   },
   {
    "duration": 12,
    "start_time": "2024-03-11T10:39:51.589Z"
   },
   {
    "duration": 9,
    "start_time": "2024-03-11T10:40:18.397Z"
   },
   {
    "duration": 9,
    "start_time": "2024-03-11T10:41:16.794Z"
   },
   {
    "duration": 9,
    "start_time": "2024-03-11T10:41:22.913Z"
   },
   {
    "duration": 4,
    "start_time": "2024-03-11T10:41:37.361Z"
   },
   {
    "duration": 8,
    "start_time": "2024-03-11T10:41:42.641Z"
   },
   {
    "duration": 4,
    "start_time": "2024-03-11T10:42:38.531Z"
   },
   {
    "duration": 11,
    "start_time": "2024-03-11T10:42:43.434Z"
   },
   {
    "duration": 4,
    "start_time": "2024-03-11T10:46:03.824Z"
   },
   {
    "duration": 12,
    "start_time": "2024-03-11T11:11:50.983Z"
   },
   {
    "duration": 8,
    "start_time": "2024-03-11T11:12:04.883Z"
   },
   {
    "duration": 2,
    "start_time": "2024-03-11T11:12:28.963Z"
   },
   {
    "duration": 3,
    "start_time": "2024-03-11T11:12:32.776Z"
   },
   {
    "duration": 9,
    "start_time": "2024-03-11T11:12:33.687Z"
   },
   {
    "duration": 9,
    "start_time": "2024-03-11T11:24:05.603Z"
   },
   {
    "duration": 4,
    "start_time": "2024-03-11T11:24:15.295Z"
   },
   {
    "duration": 4,
    "start_time": "2024-03-11T11:24:19.226Z"
   },
   {
    "duration": 10,
    "start_time": "2024-03-11T11:24:21.630Z"
   },
   {
    "duration": 7,
    "start_time": "2024-03-11T11:25:14.458Z"
   },
   {
    "duration": 1525,
    "start_time": "2024-03-12T05:47:42.786Z"
   },
   {
    "duration": 773,
    "start_time": "2024-03-12T05:47:44.313Z"
   },
   {
    "duration": 5,
    "start_time": "2024-03-12T05:47:45.088Z"
   },
   {
    "duration": 20,
    "start_time": "2024-03-12T05:47:45.095Z"
   },
   {
    "duration": 739,
    "start_time": "2024-03-12T05:47:45.116Z"
   },
   {
    "duration": 804,
    "start_time": "2024-03-12T05:47:45.857Z"
   },
   {
    "duration": 712,
    "start_time": "2024-03-12T05:47:46.663Z"
   },
   {
    "duration": 18,
    "start_time": "2024-03-12T05:47:47.376Z"
   },
   {
    "duration": 409,
    "start_time": "2024-03-12T05:47:47.396Z"
   },
   {
    "duration": 274,
    "start_time": "2024-03-12T05:47:47.807Z"
   },
   {
    "duration": 285,
    "start_time": "2024-03-12T05:47:48.082Z"
   },
   {
    "duration": 508,
    "start_time": "2024-03-12T05:47:48.368Z"
   },
   {
    "duration": 87,
    "start_time": "2024-03-12T05:47:48.878Z"
   },
   {
    "duration": 10,
    "start_time": "2024-03-12T05:47:48.967Z"
   },
   {
    "duration": 102,
    "start_time": "2024-03-12T05:47:48.978Z"
   },
   {
    "duration": 13,
    "start_time": "2024-03-12T05:47:49.082Z"
   },
   {
    "duration": 11,
    "start_time": "2024-03-12T05:47:49.096Z"
   },
   {
    "duration": 8,
    "start_time": "2024-03-12T05:47:49.109Z"
   },
   {
    "duration": 4,
    "start_time": "2024-03-12T05:47:49.119Z"
   },
   {
    "duration": 5,
    "start_time": "2024-03-12T05:47:49.124Z"
   },
   {
    "duration": 138,
    "start_time": "2024-03-12T05:47:49.131Z"
   },
   {
    "duration": 0,
    "start_time": "2024-03-12T05:47:49.271Z"
   },
   {
    "duration": 9,
    "start_time": "2024-03-12T05:51:26.152Z"
   },
   {
    "duration": 11,
    "start_time": "2024-03-12T05:51:48.224Z"
   },
   {
    "duration": 10,
    "start_time": "2024-03-12T05:51:53.649Z"
   },
   {
    "duration": 493,
    "start_time": "2024-03-12T05:52:04.757Z"
   },
   {
    "duration": 449,
    "start_time": "2024-03-12T05:52:09.718Z"
   },
   {
    "duration": 902,
    "start_time": "2024-03-12T05:53:38.698Z"
   },
   {
    "duration": 23,
    "start_time": "2024-03-12T05:53:48.342Z"
   },
   {
    "duration": 874,
    "start_time": "2024-03-12T05:54:21.415Z"
   },
   {
    "duration": 17,
    "start_time": "2024-03-12T05:54:27.647Z"
   },
   {
    "duration": 915,
    "start_time": "2024-03-12T05:54:38.334Z"
   },
   {
    "duration": 20,
    "start_time": "2024-03-12T05:54:41.364Z"
   },
   {
    "duration": 901,
    "start_time": "2024-03-12T05:56:05.808Z"
   },
   {
    "duration": 899,
    "start_time": "2024-03-12T05:56:25.623Z"
   },
   {
    "duration": 1024,
    "start_time": "2024-03-12T05:56:29.755Z"
   },
   {
    "duration": 870,
    "start_time": "2024-03-12T05:56:47.484Z"
   },
   {
    "duration": 925,
    "start_time": "2024-03-12T05:56:57.744Z"
   },
   {
    "duration": 22,
    "start_time": "2024-03-12T05:58:51.294Z"
   },
   {
    "duration": 25,
    "start_time": "2024-03-12T06:02:10.035Z"
   },
   {
    "duration": 1348,
    "start_time": "2024-03-12T06:02:57.379Z"
   },
   {
    "duration": 437,
    "start_time": "2024-03-12T06:02:58.729Z"
   },
   {
    "duration": 5,
    "start_time": "2024-03-12T06:02:59.169Z"
   },
   {
    "duration": 10,
    "start_time": "2024-03-12T06:02:59.176Z"
   },
   {
    "duration": 771,
    "start_time": "2024-03-12T06:02:59.188Z"
   },
   {
    "duration": 811,
    "start_time": "2024-03-12T06:02:59.960Z"
   },
   {
    "duration": 757,
    "start_time": "2024-03-12T06:03:00.773Z"
   },
   {
    "duration": 18,
    "start_time": "2024-03-12T06:03:01.532Z"
   },
   {
    "duration": 365,
    "start_time": "2024-03-12T06:03:01.552Z"
   },
   {
    "duration": 349,
    "start_time": "2024-03-12T06:03:01.919Z"
   },
   {
    "duration": 309,
    "start_time": "2024-03-12T06:03:02.269Z"
   },
   {
    "duration": 401,
    "start_time": "2024-03-12T06:03:02.579Z"
   },
   {
    "duration": 4,
    "start_time": "2024-03-12T06:03:02.981Z"
   },
   {
    "duration": 99,
    "start_time": "2024-03-12T06:03:03.067Z"
   },
   {
    "duration": 18,
    "start_time": "2024-03-12T06:03:03.167Z"
   },
   {
    "duration": 13,
    "start_time": "2024-03-12T06:03:03.187Z"
   },
   {
    "duration": 7,
    "start_time": "2024-03-12T06:03:03.201Z"
   },
   {
    "duration": 18,
    "start_time": "2024-03-12T06:03:03.210Z"
   },
   {
    "duration": 136,
    "start_time": "2024-03-12T06:03:03.230Z"
   },
   {
    "duration": 23,
    "start_time": "2024-03-12T06:04:41.632Z"
   },
   {
    "duration": 106,
    "start_time": "2024-03-12T06:13:05.708Z"
   },
   {
    "duration": 4,
    "start_time": "2024-03-12T06:13:13.753Z"
   },
   {
    "duration": 84,
    "start_time": "2024-03-12T06:16:01.319Z"
   },
   {
    "duration": 104,
    "start_time": "2024-03-12T06:16:51.483Z"
   },
   {
    "duration": 5,
    "start_time": "2024-03-12T06:17:21.555Z"
   },
   {
    "duration": 81,
    "start_time": "2024-03-12T06:17:38.455Z"
   },
   {
    "duration": 11,
    "start_time": "2024-03-12T06:17:55.095Z"
   },
   {
    "duration": 14,
    "start_time": "2024-03-12T06:18:33.313Z"
   },
   {
    "duration": 73,
    "start_time": "2024-03-12T06:19:53.760Z"
   },
   {
    "duration": 16,
    "start_time": "2024-03-12T06:20:07.620Z"
   },
   {
    "duration": 3,
    "start_time": "2024-03-12T06:22:07.890Z"
   },
   {
    "duration": 3,
    "start_time": "2024-03-12T06:22:09.514Z"
   },
   {
    "duration": 4,
    "start_time": "2024-03-12T06:22:12.306Z"
   },
   {
    "duration": 12,
    "start_time": "2024-03-12T06:22:24.830Z"
   },
   {
    "duration": 5,
    "start_time": "2024-03-12T06:23:00.178Z"
   },
   {
    "duration": 13,
    "start_time": "2024-03-12T06:23:01.746Z"
   },
   {
    "duration": 5,
    "start_time": "2024-03-12T06:23:52.251Z"
   },
   {
    "duration": 21,
    "start_time": "2024-03-12T06:23:53.716Z"
   },
   {
    "duration": 1319,
    "start_time": "2024-03-12T06:24:21.017Z"
   },
   {
    "duration": 388,
    "start_time": "2024-03-12T06:24:22.338Z"
   },
   {
    "duration": 5,
    "start_time": "2024-03-12T06:24:22.727Z"
   },
   {
    "duration": 5,
    "start_time": "2024-03-12T06:24:22.734Z"
   },
   {
    "duration": 768,
    "start_time": "2024-03-12T06:24:22.741Z"
   },
   {
    "duration": 814,
    "start_time": "2024-03-12T06:24:23.510Z"
   },
   {
    "duration": 775,
    "start_time": "2024-03-12T06:24:24.326Z"
   },
   {
    "duration": 17,
    "start_time": "2024-03-12T06:24:25.102Z"
   },
   {
    "duration": 333,
    "start_time": "2024-03-12T06:24:25.120Z"
   },
   {
    "duration": 301,
    "start_time": "2024-03-12T06:24:25.455Z"
   },
   {
    "duration": 311,
    "start_time": "2024-03-12T06:24:25.758Z"
   },
   {
    "duration": 406,
    "start_time": "2024-03-12T06:24:26.071Z"
   },
   {
    "duration": 4,
    "start_time": "2024-03-12T06:24:26.479Z"
   },
   {
    "duration": 100,
    "start_time": "2024-03-12T06:24:26.567Z"
   },
   {
    "duration": 25,
    "start_time": "2024-03-12T06:24:26.668Z"
   },
   {
    "duration": 31,
    "start_time": "2024-03-12T06:24:26.695Z"
   },
   {
    "duration": 19,
    "start_time": "2024-03-12T06:24:26.728Z"
   },
   {
    "duration": 30,
    "start_time": "2024-03-12T06:24:26.748Z"
   },
   {
    "duration": 22,
    "start_time": "2024-03-12T06:24:26.780Z"
   },
   {
    "duration": 25,
    "start_time": "2024-03-12T06:24:26.803Z"
   },
   {
    "duration": 6,
    "start_time": "2024-03-12T06:24:26.829Z"
   },
   {
    "duration": 137,
    "start_time": "2024-03-12T06:24:26.836Z"
   },
   {
    "duration": 0,
    "start_time": "2024-03-12T06:24:26.974Z"
   },
   {
    "duration": 4,
    "start_time": "2024-03-12T06:24:55.843Z"
   },
   {
    "duration": 4,
    "start_time": "2024-03-12T06:24:57.667Z"
   },
   {
    "duration": 3,
    "start_time": "2024-03-12T06:24:58.731Z"
   },
   {
    "duration": 5,
    "start_time": "2024-03-12T06:25:00.219Z"
   },
   {
    "duration": 19,
    "start_time": "2024-03-12T06:25:01.499Z"
   },
   {
    "duration": 3,
    "start_time": "2024-03-12T06:25:50.635Z"
   },
   {
    "duration": 5,
    "start_time": "2024-03-12T06:25:51.524Z"
   },
   {
    "duration": 1306,
    "start_time": "2024-03-12T06:25:52.559Z"
   },
   {
    "duration": 7,
    "start_time": "2024-03-12T06:27:39.689Z"
   },
   {
    "duration": 2781,
    "start_time": "2024-03-12T06:27:40.908Z"
   },
   {
    "duration": 4,
    "start_time": "2024-03-12T06:29:30.658Z"
   },
   {
    "duration": 2739,
    "start_time": "2024-03-12T06:29:32.685Z"
   },
   {
    "duration": 2751,
    "start_time": "2024-03-12T06:29:50.229Z"
   },
   {
    "duration": 4,
    "start_time": "2024-03-12T06:30:36.990Z"
   },
   {
    "duration": 5,
    "start_time": "2024-03-12T06:30:46.930Z"
   },
   {
    "duration": 2750,
    "start_time": "2024-03-12T06:31:09.794Z"
   },
   {
    "duration": 5,
    "start_time": "2024-03-12T06:31:12.546Z"
   },
   {
    "duration": 4,
    "start_time": "2024-03-12T06:31:27.311Z"
   },
   {
    "duration": 4,
    "start_time": "2024-03-12T06:31:28.035Z"
   },
   {
    "duration": 2759,
    "start_time": "2024-03-12T06:31:29.326Z"
   },
   {
    "duration": 2856,
    "start_time": "2024-03-12T06:31:36.611Z"
   },
   {
    "duration": 4,
    "start_time": "2024-03-12T06:31:46.815Z"
   },
   {
    "duration": 65,
    "start_time": "2024-03-12T06:31:59.710Z"
   },
   {
    "duration": 69,
    "start_time": "2024-03-12T06:32:21.951Z"
   },
   {
    "duration": 5,
    "start_time": "2024-03-12T06:32:31.199Z"
   },
   {
    "duration": 111,
    "start_time": "2024-03-12T06:33:55.260Z"
   },
   {
    "duration": 100,
    "start_time": "2024-03-12T06:33:58.775Z"
   },
   {
    "duration": 907,
    "start_time": "2024-03-12T06:34:45.905Z"
   },
   {
    "duration": 6,
    "start_time": "2024-03-12T06:34:49.805Z"
   },
   {
    "duration": 2745,
    "start_time": "2024-03-12T06:34:51.126Z"
   },
   {
    "duration": 761,
    "start_time": "2024-03-12T06:34:59.969Z"
   },
   {
    "duration": 1331,
    "start_time": "2024-03-12T06:37:23.525Z"
   },
   {
    "duration": 401,
    "start_time": "2024-03-12T06:37:24.858Z"
   },
   {
    "duration": 5,
    "start_time": "2024-03-12T06:37:25.261Z"
   },
   {
    "duration": 7,
    "start_time": "2024-03-12T06:37:25.268Z"
   },
   {
    "duration": 822,
    "start_time": "2024-03-12T06:37:25.276Z"
   },
   {
    "duration": 830,
    "start_time": "2024-03-12T06:37:26.100Z"
   },
   {
    "duration": 785,
    "start_time": "2024-03-12T06:37:26.932Z"
   },
   {
    "duration": 17,
    "start_time": "2024-03-12T06:37:27.718Z"
   },
   {
    "duration": 334,
    "start_time": "2024-03-12T06:37:27.737Z"
   },
   {
    "duration": 297,
    "start_time": "2024-03-12T06:37:28.073Z"
   },
   {
    "duration": 314,
    "start_time": "2024-03-12T06:37:28.372Z"
   },
   {
    "duration": 389,
    "start_time": "2024-03-12T06:37:28.688Z"
   },
   {
    "duration": 85,
    "start_time": "2024-03-12T06:37:29.081Z"
   },
   {
    "duration": 97,
    "start_time": "2024-03-12T06:37:29.169Z"
   },
   {
    "duration": 11,
    "start_time": "2024-03-12T06:37:29.267Z"
   },
   {
    "duration": 14,
    "start_time": "2024-03-12T06:37:29.280Z"
   },
   {
    "duration": 8,
    "start_time": "2024-03-12T06:37:29.295Z"
   },
   {
    "duration": 5,
    "start_time": "2024-03-12T06:37:29.304Z"
   },
   {
    "duration": 5,
    "start_time": "2024-03-12T06:37:29.310Z"
   },
   {
    "duration": 5,
    "start_time": "2024-03-12T06:37:29.316Z"
   },
   {
    "duration": 43,
    "start_time": "2024-03-12T06:37:29.322Z"
   },
   {
    "duration": 2801,
    "start_time": "2024-03-12T06:37:29.367Z"
   },
   {
    "duration": 5,
    "start_time": "2024-03-12T06:37:32.169Z"
   },
   {
    "duration": 19,
    "start_time": "2024-03-12T06:37:32.176Z"
   },
   {
    "duration": 747,
    "start_time": "2024-03-12T06:37:32.197Z"
   },
   {
    "duration": 5667,
    "start_time": "2024-03-13T05:36:00.231Z"
   },
   {
    "duration": 731,
    "start_time": "2024-03-13T05:36:05.900Z"
   },
   {
    "duration": 3,
    "start_time": "2024-03-13T05:36:06.633Z"
   },
   {
    "duration": 5,
    "start_time": "2024-03-13T05:36:06.638Z"
   },
   {
    "duration": 765,
    "start_time": "2024-03-13T05:36:06.644Z"
   },
   {
    "duration": 834,
    "start_time": "2024-03-13T05:36:07.411Z"
   },
   {
    "duration": 774,
    "start_time": "2024-03-13T05:36:08.246Z"
   },
   {
    "duration": 24,
    "start_time": "2024-03-13T05:36:09.022Z"
   },
   {
    "duration": 339,
    "start_time": "2024-03-13T05:36:09.048Z"
   },
   {
    "duration": 289,
    "start_time": "2024-03-13T05:36:09.389Z"
   },
   {
    "duration": 279,
    "start_time": "2024-03-13T05:36:09.680Z"
   },
   {
    "duration": 490,
    "start_time": "2024-03-13T05:36:09.960Z"
   },
   {
    "duration": 93,
    "start_time": "2024-03-13T05:36:10.452Z"
   },
   {
    "duration": 4,
    "start_time": "2024-03-13T05:36:10.547Z"
   },
   {
    "duration": 96,
    "start_time": "2024-03-13T05:36:10.553Z"
   },
   {
    "duration": 13,
    "start_time": "2024-03-13T05:36:10.650Z"
   },
   {
    "duration": 6,
    "start_time": "2024-03-13T05:36:10.664Z"
   },
   {
    "duration": 24,
    "start_time": "2024-03-13T05:36:10.672Z"
   },
   {
    "duration": 17,
    "start_time": "2024-03-13T05:36:10.698Z"
   },
   {
    "duration": 5,
    "start_time": "2024-03-13T05:36:10.717Z"
   },
   {
    "duration": 11,
    "start_time": "2024-03-13T05:36:10.723Z"
   },
   {
    "duration": 6,
    "start_time": "2024-03-13T05:36:16.065Z"
   },
   {
    "duration": 6,
    "start_time": "2024-03-13T05:36:21.483Z"
   },
   {
    "duration": 4,
    "start_time": "2024-03-13T05:36:43.099Z"
   },
   {
    "duration": 3860,
    "start_time": "2024-03-13T05:36:43.296Z"
   },
   {
    "duration": 5,
    "start_time": "2024-03-13T05:36:55.492Z"
   },
   {
    "duration": 4836,
    "start_time": "2024-03-13T05:36:55.851Z"
   },
   {
    "duration": 5,
    "start_time": "2024-03-13T05:37:00.689Z"
   },
   {
    "duration": 3463,
    "start_time": "2024-03-13T05:37:01.998Z"
   },
   {
    "duration": 4,
    "start_time": "2024-03-13T05:37:08.160Z"
   },
   {
    "duration": 2,
    "start_time": "2024-03-13T05:37:12.449Z"
   },
   {
    "duration": 1599,
    "start_time": "2024-03-13T08:17:35.846Z"
   },
   {
    "duration": 844,
    "start_time": "2024-03-13T08:17:37.447Z"
   },
   {
    "duration": 4,
    "start_time": "2024-03-13T08:17:38.293Z"
   },
   {
    "duration": 12,
    "start_time": "2024-03-13T08:17:38.299Z"
   },
   {
    "duration": 843,
    "start_time": "2024-03-13T08:17:38.312Z"
   },
   {
    "duration": 899,
    "start_time": "2024-03-13T08:17:39.157Z"
   },
   {
    "duration": 859,
    "start_time": "2024-03-13T08:17:40.058Z"
   },
   {
    "duration": 19,
    "start_time": "2024-03-13T08:17:40.919Z"
   },
   {
    "duration": 428,
    "start_time": "2024-03-13T08:17:40.940Z"
   },
   {
    "duration": 346,
    "start_time": "2024-03-13T08:17:41.371Z"
   },
   {
    "duration": 330,
    "start_time": "2024-03-13T08:17:41.719Z"
   },
   {
    "duration": 481,
    "start_time": "2024-03-13T08:17:42.050Z"
   },
   {
    "duration": 83,
    "start_time": "2024-03-13T08:17:42.533Z"
   },
   {
    "duration": 6,
    "start_time": "2024-03-13T08:17:42.618Z"
   },
   {
    "duration": 16,
    "start_time": "2024-03-13T08:17:42.715Z"
   },
   {
    "duration": 15,
    "start_time": "2024-03-13T08:17:42.732Z"
   },
   {
    "duration": 9,
    "start_time": "2024-03-13T08:17:42.749Z"
   },
   {
    "duration": 6,
    "start_time": "2024-03-13T08:17:42.759Z"
   },
   {
    "duration": 4,
    "start_time": "2024-03-13T08:17:42.767Z"
   },
   {
    "duration": 43,
    "start_time": "2024-03-13T08:17:42.773Z"
   },
   {
    "duration": 8,
    "start_time": "2024-03-13T08:17:42.818Z"
   },
   {
    "duration": 3079,
    "start_time": "2024-03-13T08:17:42.827Z"
   },
   {
    "duration": 8,
    "start_time": "2024-03-13T08:17:45.908Z"
   },
   {
    "duration": 7,
    "start_time": "2024-03-13T08:17:45.917Z"
   },
   {
    "duration": 789,
    "start_time": "2024-03-13T08:17:45.926Z"
   },
   {
    "duration": 1408,
    "start_time": "2024-03-13T08:18:59.254Z"
   },
   {
    "duration": 442,
    "start_time": "2024-03-13T08:19:00.665Z"
   },
   {
    "duration": 5,
    "start_time": "2024-03-13T08:19:01.108Z"
   },
   {
    "duration": 29,
    "start_time": "2024-03-13T08:19:01.115Z"
   },
   {
    "duration": 1002,
    "start_time": "2024-03-13T08:19:01.145Z"
   },
   {
    "duration": 930,
    "start_time": "2024-03-13T08:19:02.149Z"
   },
   {
    "duration": 872,
    "start_time": "2024-03-13T08:19:03.080Z"
   },
   {
    "duration": 21,
    "start_time": "2024-03-13T08:19:03.954Z"
   },
   {
    "duration": 435,
    "start_time": "2024-03-13T08:19:03.977Z"
   },
   {
    "duration": 341,
    "start_time": "2024-03-13T08:19:04.415Z"
   },
   {
    "duration": 363,
    "start_time": "2024-03-13T08:19:04.758Z"
   },
   {
    "duration": 398,
    "start_time": "2024-03-13T08:19:05.123Z"
   },
   {
    "duration": 92,
    "start_time": "2024-03-13T08:19:05.523Z"
   },
   {
    "duration": 100,
    "start_time": "2024-03-13T08:19:05.617Z"
   },
   {
    "duration": 19,
    "start_time": "2024-03-13T08:19:05.719Z"
   },
   {
    "duration": 19,
    "start_time": "2024-03-13T08:19:05.739Z"
   },
   {
    "duration": 8,
    "start_time": "2024-03-13T08:19:05.760Z"
   },
   {
    "duration": 38,
    "start_time": "2024-03-13T08:19:05.770Z"
   },
   {
    "duration": 9,
    "start_time": "2024-03-13T08:19:05.811Z"
   },
   {
    "duration": 9,
    "start_time": "2024-03-13T08:19:05.822Z"
   },
   {
    "duration": 8,
    "start_time": "2024-03-13T08:19:05.833Z"
   },
   {
    "duration": 4088,
    "start_time": "2024-03-13T08:19:05.842Z"
   },
   {
    "duration": 5,
    "start_time": "2024-03-13T08:19:09.932Z"
   },
   {
    "duration": 12,
    "start_time": "2024-03-13T08:19:09.938Z"
   },
   {
    "duration": 803,
    "start_time": "2024-03-13T08:19:09.952Z"
   }
  ],
  "kernelspec": {
   "display_name": "Python 3 (ipykernel)",
   "language": "python",
   "name": "python3"
  },
  "language_info": {
   "codemirror_mode": {
    "name": "ipython",
    "version": 3
   },
   "file_extension": ".py",
   "mimetype": "text/x-python",
   "name": "python",
   "nbconvert_exporter": "python",
   "pygments_lexer": "ipython3",
   "version": "3.9.5"
  },
  "toc": {
   "base_numbering": 1,
   "nav_menu": {},
   "number_sections": true,
   "sideBar": true,
   "skip_h1_title": true,
   "title_cell": "Table of Contents",
   "title_sidebar": "Contents",
   "toc_cell": false,
   "toc_position": {},
   "toc_section_display": true,
   "toc_window_display": false
  }
 },
 "nbformat": 4,
 "nbformat_minor": 2
}
