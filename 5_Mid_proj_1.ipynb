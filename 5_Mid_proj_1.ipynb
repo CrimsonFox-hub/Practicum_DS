{
 "cells": [
  {
   "cell_type": "markdown",
   "metadata": {},
   "source": [
    "## Сборный проект: интернет-магазина «Стримчик»"
   ]
  },
  {
   "cell_type": "markdown",
   "metadata": {},
   "source": [
    "### Описание проекта:\n",
    "Вы работаете в интернет-магазине «Стримчик», который продаёт по всему миру компьютерные игры. Из открытых источников доступны исторические данные о продажах игр, оценки пользователей и экспертов, жанры и платформы (например, Xbox или PlayStation).\\\n",
    "Вам нужно выявить определяющие успешность игры закономерности. Это позволит сделать ставку на потенциально популярный продукт и спланировать рекламные кампании.\\\n",
    "Перед вами данные до 2016 года. Представим, что сейчас декабрь 2016 г., и вы планируете кампанию на 2017-й. Нужно отработать принцип работы с данными. Неважно, прогнозируете ли вы продажи на 2017 год по данным 2016-го или же 2027-й — по данным 2026 года.\\\n",
    "В наборе данных попадается аббревиатура ESRB (Entertainment Software Rating Board) — это ассоциация, определяющая возрастной рейтинг компьютерных игр. ESRB оценивает игровой контент и присваивает ему подходящую возрастную категорию, например, «Для взрослых», «Для детей младшего возраста» или «Для подростков»."
   ]
  },
  {
   "cell_type": "markdown",
   "metadata": {},
   "source": [
    "### Описание данных\n",
    "- Name — название игры\n",
    "- Platform — платформа\n",
    "- Year_of_Release — год выпуска\n",
    "- Genre — жанр игры\n",
    "- NA_sales — продажи в Северной Америке (миллионы проданных копий)\n",
    "- EU_sales — продажи в Европе (миллионы проданных копий)\n",
    "- JP_sales — продажи в Японии (миллионы проданных копий)\n",
    "- Other_sales — продажи в других странах (миллионы проданных копий)\n",
    "- Critic_Score — оценка критиков (максимум 100)\n",
    "- User_Score — оценка пользователей (максимум 10)\n",
    "- Rating — рейтинг от организации ESRB (англ. Entertainment Software Rating Board). Эта ассоциация определяет рейтинг компьютерных игр и присваивает им подходящую возрастную категорию."
   ]
  },
  {
   "cell_type": "markdown",
   "metadata": {},
   "source": [
    "### План работы:\n",
    "- Шаг 1 - Открытие файла\n",
    "- Шаг 2 - Предобработка данных\n",
    "- Шаг 3 - Исследовательский анализ данных\n",
    "- Шаг 4 - Составление портрета пользователей\n",
    "- Шаг 5 - Проверка гипотез\n",
    "- Шаг 6 - Общий вывод"
   ]
  },
  {
   "cell_type": "markdown",
   "metadata": {},
   "source": [
    "### Шаг 1. Откройте файл с данными и изучите общую информацию"
   ]
  },
  {
   "cell_type": "markdown",
   "metadata": {},
   "source": [
    "#### Блок установки библиотек"
   ]
  },
  {
   "cell_type": "code",
   "execution_count": 1,
   "metadata": {},
   "outputs": [
    {
     "name": "stdout",
     "output_type": "stream",
     "text": [
      "Requirement already satisfied: matplotlib in /opt/conda/lib/python3.9/site-packages (3.3.4)\n",
      "Requirement already satisfied: python-dateutil>=2.1 in /opt/conda/lib/python3.9/site-packages (from matplotlib) (2.8.1)\n",
      "Requirement already satisfied: kiwisolver>=1.0.1 in /opt/conda/lib/python3.9/site-packages (from matplotlib) (1.4.4)\n",
      "Requirement already satisfied: pyparsing!=2.0.4,!=2.1.2,!=2.1.6,>=2.0.3 in /opt/conda/lib/python3.9/site-packages (from matplotlib) (2.4.7)\n",
      "Requirement already satisfied: cycler>=0.10 in /opt/conda/lib/python3.9/site-packages (from matplotlib) (0.11.0)\n",
      "Requirement already satisfied: numpy>=1.15 in /opt/conda/lib/python3.9/site-packages (from matplotlib) (1.21.1)\n",
      "Requirement already satisfied: pillow>=6.2.0 in /opt/conda/lib/python3.9/site-packages (from matplotlib) (8.4.0)\n",
      "Requirement already satisfied: six>=1.5 in /opt/conda/lib/python3.9/site-packages (from python-dateutil>=2.1->matplotlib) (1.16.0)\n",
      "Requirement already satisfied: seaborn in /opt/conda/lib/python3.9/site-packages (0.11.1)\n",
      "Requirement already satisfied: pandas>=0.23 in /opt/conda/lib/python3.9/site-packages (from seaborn) (1.2.4)\n",
      "Requirement already satisfied: matplotlib>=2.2 in /opt/conda/lib/python3.9/site-packages (from seaborn) (3.3.4)\n",
      "Requirement already satisfied: scipy>=1.0 in /opt/conda/lib/python3.9/site-packages (from seaborn) (1.9.1)\n",
      "Requirement already satisfied: numpy>=1.15 in /opt/conda/lib/python3.9/site-packages (from seaborn) (1.21.1)\n",
      "Requirement already satisfied: cycler>=0.10 in /opt/conda/lib/python3.9/site-packages (from matplotlib>=2.2->seaborn) (0.11.0)\n",
      "Requirement already satisfied: pyparsing!=2.0.4,!=2.1.2,!=2.1.6,>=2.0.3 in /opt/conda/lib/python3.9/site-packages (from matplotlib>=2.2->seaborn) (2.4.7)\n",
      "Requirement already satisfied: pillow>=6.2.0 in /opt/conda/lib/python3.9/site-packages (from matplotlib>=2.2->seaborn) (8.4.0)\n",
      "Requirement already satisfied: python-dateutil>=2.1 in /opt/conda/lib/python3.9/site-packages (from matplotlib>=2.2->seaborn) (2.8.1)\n",
      "Requirement already satisfied: kiwisolver>=1.0.1 in /opt/conda/lib/python3.9/site-packages (from matplotlib>=2.2->seaborn) (1.4.4)\n",
      "Requirement already satisfied: pytz>=2017.3 in /opt/conda/lib/python3.9/site-packages (from pandas>=0.23->seaborn) (2021.1)\n",
      "Requirement already satisfied: six>=1.5 in /opt/conda/lib/python3.9/site-packages (from python-dateutil>=2.1->matplotlib>=2.2->seaborn) (1.16.0)\n"
     ]
    }
   ],
   "source": [
    "import sys\n",
    "!{sys.executable} -m pip install matplotlib\n",
    "!{sys.executable} -m pip install seaborn"
   ]
  },
  {
   "cell_type": "markdown",
   "metadata": {},
   "source": [
    "#### Блок импорта библиотек"
   ]
  },
  {
   "cell_type": "code",
   "execution_count": 2,
   "metadata": {},
   "outputs": [],
   "source": [
    "import pandas as pd\n",
    "import re\n",
    "import matplotlib.pyplot as plt\n",
    "import seaborn as sns\n",
    "import matplotlib.ticker as ticker\n",
    "import numpy as np\n",
    "from scipy import stats as st\n",
    "from datetime import datetime\n",
    "import warnings\n",
    "warnings.filterwarnings(\"ignore\")"
   ]
  },
  {
   "cell_type": "markdown",
   "metadata": {},
   "source": [
    "#### Блок создания датафорейма"
   ]
  },
  {
   "cell_type": "code",
   "execution_count": 3,
   "metadata": {},
   "outputs": [],
   "source": [
    "games = pd.read_csv('/datasets/games.csv')"
   ]
  },
  {
   "cell_type": "markdown",
   "metadata": {},
   "source": [
    "#### Обзор данных"
   ]
  },
  {
   "cell_type": "code",
   "execution_count": 4,
   "metadata": {},
   "outputs": [
    {
     "name": "stdout",
     "output_type": "stream",
     "text": [
      "<class 'pandas.core.frame.DataFrame'>\n",
      "RangeIndex: 16715 entries, 0 to 16714\n",
      "Data columns (total 11 columns):\n",
      " #   Column           Non-Null Count  Dtype  \n",
      "---  ------           --------------  -----  \n",
      " 0   Name             16713 non-null  object \n",
      " 1   Platform         16715 non-null  object \n",
      " 2   Year_of_Release  16446 non-null  float64\n",
      " 3   Genre            16713 non-null  object \n",
      " 4   NA_sales         16715 non-null  float64\n",
      " 5   EU_sales         16715 non-null  float64\n",
      " 6   JP_sales         16715 non-null  float64\n",
      " 7   Other_sales      16715 non-null  float64\n",
      " 8   Critic_Score     8137 non-null   float64\n",
      " 9   User_Score       10014 non-null  object \n",
      " 10  Rating           9949 non-null   object \n",
      "dtypes: float64(6), object(5)\n",
      "memory usage: 1.4+ MB\n"
     ]
    }
   ],
   "source": [
    "games.info()"
   ]
  },
  {
   "cell_type": "code",
   "execution_count": 5,
   "metadata": {},
   "outputs": [
    {
     "data": {
      "text/html": [
       "<div>\n",
       "<style scoped>\n",
       "    .dataframe tbody tr th:only-of-type {\n",
       "        vertical-align: middle;\n",
       "    }\n",
       "\n",
       "    .dataframe tbody tr th {\n",
       "        vertical-align: top;\n",
       "    }\n",
       "\n",
       "    .dataframe thead th {\n",
       "        text-align: right;\n",
       "    }\n",
       "</style>\n",
       "<table border=\"1\" class=\"dataframe\">\n",
       "  <thead>\n",
       "    <tr style=\"text-align: right;\">\n",
       "      <th></th>\n",
       "      <th>Name</th>\n",
       "      <th>Platform</th>\n",
       "      <th>Year_of_Release</th>\n",
       "      <th>Genre</th>\n",
       "      <th>NA_sales</th>\n",
       "      <th>EU_sales</th>\n",
       "      <th>JP_sales</th>\n",
       "      <th>Other_sales</th>\n",
       "      <th>Critic_Score</th>\n",
       "      <th>User_Score</th>\n",
       "      <th>Rating</th>\n",
       "    </tr>\n",
       "  </thead>\n",
       "  <tbody>\n",
       "    <tr>\n",
       "      <th>0</th>\n",
       "      <td>Wii Sports</td>\n",
       "      <td>Wii</td>\n",
       "      <td>2006.0</td>\n",
       "      <td>Sports</td>\n",
       "      <td>41.36</td>\n",
       "      <td>28.96</td>\n",
       "      <td>3.77</td>\n",
       "      <td>8.45</td>\n",
       "      <td>76.0</td>\n",
       "      <td>8</td>\n",
       "      <td>E</td>\n",
       "    </tr>\n",
       "    <tr>\n",
       "      <th>1</th>\n",
       "      <td>Super Mario Bros.</td>\n",
       "      <td>NES</td>\n",
       "      <td>1985.0</td>\n",
       "      <td>Platform</td>\n",
       "      <td>29.08</td>\n",
       "      <td>3.58</td>\n",
       "      <td>6.81</td>\n",
       "      <td>0.77</td>\n",
       "      <td>NaN</td>\n",
       "      <td>NaN</td>\n",
       "      <td>NaN</td>\n",
       "    </tr>\n",
       "    <tr>\n",
       "      <th>2</th>\n",
       "      <td>Mario Kart Wii</td>\n",
       "      <td>Wii</td>\n",
       "      <td>2008.0</td>\n",
       "      <td>Racing</td>\n",
       "      <td>15.68</td>\n",
       "      <td>12.76</td>\n",
       "      <td>3.79</td>\n",
       "      <td>3.29</td>\n",
       "      <td>82.0</td>\n",
       "      <td>8.3</td>\n",
       "      <td>E</td>\n",
       "    </tr>\n",
       "    <tr>\n",
       "      <th>3</th>\n",
       "      <td>Wii Sports Resort</td>\n",
       "      <td>Wii</td>\n",
       "      <td>2009.0</td>\n",
       "      <td>Sports</td>\n",
       "      <td>15.61</td>\n",
       "      <td>10.93</td>\n",
       "      <td>3.28</td>\n",
       "      <td>2.95</td>\n",
       "      <td>80.0</td>\n",
       "      <td>8</td>\n",
       "      <td>E</td>\n",
       "    </tr>\n",
       "    <tr>\n",
       "      <th>4</th>\n",
       "      <td>Pokemon Red/Pokemon Blue</td>\n",
       "      <td>GB</td>\n",
       "      <td>1996.0</td>\n",
       "      <td>Role-Playing</td>\n",
       "      <td>11.27</td>\n",
       "      <td>8.89</td>\n",
       "      <td>10.22</td>\n",
       "      <td>1.00</td>\n",
       "      <td>NaN</td>\n",
       "      <td>NaN</td>\n",
       "      <td>NaN</td>\n",
       "    </tr>\n",
       "    <tr>\n",
       "      <th>5</th>\n",
       "      <td>Tetris</td>\n",
       "      <td>GB</td>\n",
       "      <td>1989.0</td>\n",
       "      <td>Puzzle</td>\n",
       "      <td>23.20</td>\n",
       "      <td>2.26</td>\n",
       "      <td>4.22</td>\n",
       "      <td>0.58</td>\n",
       "      <td>NaN</td>\n",
       "      <td>NaN</td>\n",
       "      <td>NaN</td>\n",
       "    </tr>\n",
       "    <tr>\n",
       "      <th>6</th>\n",
       "      <td>New Super Mario Bros.</td>\n",
       "      <td>DS</td>\n",
       "      <td>2006.0</td>\n",
       "      <td>Platform</td>\n",
       "      <td>11.28</td>\n",
       "      <td>9.14</td>\n",
       "      <td>6.50</td>\n",
       "      <td>2.88</td>\n",
       "      <td>89.0</td>\n",
       "      <td>8.5</td>\n",
       "      <td>E</td>\n",
       "    </tr>\n",
       "    <tr>\n",
       "      <th>7</th>\n",
       "      <td>Wii Play</td>\n",
       "      <td>Wii</td>\n",
       "      <td>2006.0</td>\n",
       "      <td>Misc</td>\n",
       "      <td>13.96</td>\n",
       "      <td>9.18</td>\n",
       "      <td>2.93</td>\n",
       "      <td>2.84</td>\n",
       "      <td>58.0</td>\n",
       "      <td>6.6</td>\n",
       "      <td>E</td>\n",
       "    </tr>\n",
       "    <tr>\n",
       "      <th>8</th>\n",
       "      <td>New Super Mario Bros. Wii</td>\n",
       "      <td>Wii</td>\n",
       "      <td>2009.0</td>\n",
       "      <td>Platform</td>\n",
       "      <td>14.44</td>\n",
       "      <td>6.94</td>\n",
       "      <td>4.70</td>\n",
       "      <td>2.24</td>\n",
       "      <td>87.0</td>\n",
       "      <td>8.4</td>\n",
       "      <td>E</td>\n",
       "    </tr>\n",
       "    <tr>\n",
       "      <th>9</th>\n",
       "      <td>Duck Hunt</td>\n",
       "      <td>NES</td>\n",
       "      <td>1984.0</td>\n",
       "      <td>Shooter</td>\n",
       "      <td>26.93</td>\n",
       "      <td>0.63</td>\n",
       "      <td>0.28</td>\n",
       "      <td>0.47</td>\n",
       "      <td>NaN</td>\n",
       "      <td>NaN</td>\n",
       "      <td>NaN</td>\n",
       "    </tr>\n",
       "    <tr>\n",
       "      <th>10</th>\n",
       "      <td>Nintendogs</td>\n",
       "      <td>DS</td>\n",
       "      <td>2005.0</td>\n",
       "      <td>Simulation</td>\n",
       "      <td>9.05</td>\n",
       "      <td>10.95</td>\n",
       "      <td>1.93</td>\n",
       "      <td>2.74</td>\n",
       "      <td>NaN</td>\n",
       "      <td>NaN</td>\n",
       "      <td>NaN</td>\n",
       "    </tr>\n",
       "    <tr>\n",
       "      <th>11</th>\n",
       "      <td>Mario Kart DS</td>\n",
       "      <td>DS</td>\n",
       "      <td>2005.0</td>\n",
       "      <td>Racing</td>\n",
       "      <td>9.71</td>\n",
       "      <td>7.47</td>\n",
       "      <td>4.13</td>\n",
       "      <td>1.90</td>\n",
       "      <td>91.0</td>\n",
       "      <td>8.6</td>\n",
       "      <td>E</td>\n",
       "    </tr>\n",
       "    <tr>\n",
       "      <th>12</th>\n",
       "      <td>Pokemon Gold/Pokemon Silver</td>\n",
       "      <td>GB</td>\n",
       "      <td>1999.0</td>\n",
       "      <td>Role-Playing</td>\n",
       "      <td>9.00</td>\n",
       "      <td>6.18</td>\n",
       "      <td>7.20</td>\n",
       "      <td>0.71</td>\n",
       "      <td>NaN</td>\n",
       "      <td>NaN</td>\n",
       "      <td>NaN</td>\n",
       "    </tr>\n",
       "    <tr>\n",
       "      <th>13</th>\n",
       "      <td>Wii Fit</td>\n",
       "      <td>Wii</td>\n",
       "      <td>2007.0</td>\n",
       "      <td>Sports</td>\n",
       "      <td>8.92</td>\n",
       "      <td>8.03</td>\n",
       "      <td>3.60</td>\n",
       "      <td>2.15</td>\n",
       "      <td>80.0</td>\n",
       "      <td>7.7</td>\n",
       "      <td>E</td>\n",
       "    </tr>\n",
       "    <tr>\n",
       "      <th>14</th>\n",
       "      <td>Kinect Adventures!</td>\n",
       "      <td>X360</td>\n",
       "      <td>2010.0</td>\n",
       "      <td>Misc</td>\n",
       "      <td>15.00</td>\n",
       "      <td>4.89</td>\n",
       "      <td>0.24</td>\n",
       "      <td>1.69</td>\n",
       "      <td>61.0</td>\n",
       "      <td>6.3</td>\n",
       "      <td>E</td>\n",
       "    </tr>\n",
       "    <tr>\n",
       "      <th>15</th>\n",
       "      <td>Wii Fit Plus</td>\n",
       "      <td>Wii</td>\n",
       "      <td>2009.0</td>\n",
       "      <td>Sports</td>\n",
       "      <td>9.01</td>\n",
       "      <td>8.49</td>\n",
       "      <td>2.53</td>\n",
       "      <td>1.77</td>\n",
       "      <td>80.0</td>\n",
       "      <td>7.4</td>\n",
       "      <td>E</td>\n",
       "    </tr>\n",
       "    <tr>\n",
       "      <th>16</th>\n",
       "      <td>Grand Theft Auto V</td>\n",
       "      <td>PS3</td>\n",
       "      <td>2013.0</td>\n",
       "      <td>Action</td>\n",
       "      <td>7.02</td>\n",
       "      <td>9.09</td>\n",
       "      <td>0.98</td>\n",
       "      <td>3.96</td>\n",
       "      <td>97.0</td>\n",
       "      <td>8.2</td>\n",
       "      <td>M</td>\n",
       "    </tr>\n",
       "    <tr>\n",
       "      <th>17</th>\n",
       "      <td>Grand Theft Auto: San Andreas</td>\n",
       "      <td>PS2</td>\n",
       "      <td>2004.0</td>\n",
       "      <td>Action</td>\n",
       "      <td>9.43</td>\n",
       "      <td>0.40</td>\n",
       "      <td>0.41</td>\n",
       "      <td>10.57</td>\n",
       "      <td>95.0</td>\n",
       "      <td>9</td>\n",
       "      <td>M</td>\n",
       "    </tr>\n",
       "    <tr>\n",
       "      <th>18</th>\n",
       "      <td>Super Mario World</td>\n",
       "      <td>SNES</td>\n",
       "      <td>1990.0</td>\n",
       "      <td>Platform</td>\n",
       "      <td>12.78</td>\n",
       "      <td>3.75</td>\n",
       "      <td>3.54</td>\n",
       "      <td>0.55</td>\n",
       "      <td>NaN</td>\n",
       "      <td>NaN</td>\n",
       "      <td>NaN</td>\n",
       "    </tr>\n",
       "    <tr>\n",
       "      <th>19</th>\n",
       "      <td>Brain Age: Train Your Brain in Minutes a Day</td>\n",
       "      <td>DS</td>\n",
       "      <td>2005.0</td>\n",
       "      <td>Misc</td>\n",
       "      <td>4.74</td>\n",
       "      <td>9.20</td>\n",
       "      <td>4.16</td>\n",
       "      <td>2.04</td>\n",
       "      <td>77.0</td>\n",
       "      <td>7.9</td>\n",
       "      <td>E</td>\n",
       "    </tr>\n",
       "  </tbody>\n",
       "</table>\n",
       "</div>"
      ],
      "text/plain": [
       "                                            Name Platform  Year_of_Release  \\\n",
       "0                                     Wii Sports      Wii           2006.0   \n",
       "1                              Super Mario Bros.      NES           1985.0   \n",
       "2                                 Mario Kart Wii      Wii           2008.0   \n",
       "3                              Wii Sports Resort      Wii           2009.0   \n",
       "4                       Pokemon Red/Pokemon Blue       GB           1996.0   \n",
       "5                                         Tetris       GB           1989.0   \n",
       "6                          New Super Mario Bros.       DS           2006.0   \n",
       "7                                       Wii Play      Wii           2006.0   \n",
       "8                      New Super Mario Bros. Wii      Wii           2009.0   \n",
       "9                                      Duck Hunt      NES           1984.0   \n",
       "10                                    Nintendogs       DS           2005.0   \n",
       "11                                 Mario Kart DS       DS           2005.0   \n",
       "12                   Pokemon Gold/Pokemon Silver       GB           1999.0   \n",
       "13                                       Wii Fit      Wii           2007.0   \n",
       "14                            Kinect Adventures!     X360           2010.0   \n",
       "15                                  Wii Fit Plus      Wii           2009.0   \n",
       "16                            Grand Theft Auto V      PS3           2013.0   \n",
       "17                 Grand Theft Auto: San Andreas      PS2           2004.0   \n",
       "18                             Super Mario World     SNES           1990.0   \n",
       "19  Brain Age: Train Your Brain in Minutes a Day       DS           2005.0   \n",
       "\n",
       "           Genre  NA_sales  EU_sales  JP_sales  Other_sales  Critic_Score  \\\n",
       "0         Sports     41.36     28.96      3.77         8.45          76.0   \n",
       "1       Platform     29.08      3.58      6.81         0.77           NaN   \n",
       "2         Racing     15.68     12.76      3.79         3.29          82.0   \n",
       "3         Sports     15.61     10.93      3.28         2.95          80.0   \n",
       "4   Role-Playing     11.27      8.89     10.22         1.00           NaN   \n",
       "5         Puzzle     23.20      2.26      4.22         0.58           NaN   \n",
       "6       Platform     11.28      9.14      6.50         2.88          89.0   \n",
       "7           Misc     13.96      9.18      2.93         2.84          58.0   \n",
       "8       Platform     14.44      6.94      4.70         2.24          87.0   \n",
       "9        Shooter     26.93      0.63      0.28         0.47           NaN   \n",
       "10    Simulation      9.05     10.95      1.93         2.74           NaN   \n",
       "11        Racing      9.71      7.47      4.13         1.90          91.0   \n",
       "12  Role-Playing      9.00      6.18      7.20         0.71           NaN   \n",
       "13        Sports      8.92      8.03      3.60         2.15          80.0   \n",
       "14          Misc     15.00      4.89      0.24         1.69          61.0   \n",
       "15        Sports      9.01      8.49      2.53         1.77          80.0   \n",
       "16        Action      7.02      9.09      0.98         3.96          97.0   \n",
       "17        Action      9.43      0.40      0.41        10.57          95.0   \n",
       "18      Platform     12.78      3.75      3.54         0.55           NaN   \n",
       "19          Misc      4.74      9.20      4.16         2.04          77.0   \n",
       "\n",
       "   User_Score Rating  \n",
       "0           8      E  \n",
       "1         NaN    NaN  \n",
       "2         8.3      E  \n",
       "3           8      E  \n",
       "4         NaN    NaN  \n",
       "5         NaN    NaN  \n",
       "6         8.5      E  \n",
       "7         6.6      E  \n",
       "8         8.4      E  \n",
       "9         NaN    NaN  \n",
       "10        NaN    NaN  \n",
       "11        8.6      E  \n",
       "12        NaN    NaN  \n",
       "13        7.7      E  \n",
       "14        6.3      E  \n",
       "15        7.4      E  \n",
       "16        8.2      M  \n",
       "17          9      M  \n",
       "18        NaN    NaN  \n",
       "19        7.9      E  "
      ]
     },
     "execution_count": 5,
     "metadata": {},
     "output_type": "execute_result"
    }
   ],
   "source": [
    "games.head(20)"
   ]
  },
  {
   "cell_type": "code",
   "execution_count": 6,
   "metadata": {},
   "outputs": [
    {
     "data": {
      "text/html": [
       "<div>\n",
       "<style scoped>\n",
       "    .dataframe tbody tr th:only-of-type {\n",
       "        vertical-align: middle;\n",
       "    }\n",
       "\n",
       "    .dataframe tbody tr th {\n",
       "        vertical-align: top;\n",
       "    }\n",
       "\n",
       "    .dataframe thead th {\n",
       "        text-align: right;\n",
       "    }\n",
       "</style>\n",
       "<table border=\"1\" class=\"dataframe\">\n",
       "  <thead>\n",
       "    <tr style=\"text-align: right;\">\n",
       "      <th></th>\n",
       "      <th>Name</th>\n",
       "      <th>Platform</th>\n",
       "      <th>Year_of_Release</th>\n",
       "      <th>Genre</th>\n",
       "      <th>NA_sales</th>\n",
       "      <th>EU_sales</th>\n",
       "      <th>JP_sales</th>\n",
       "      <th>Other_sales</th>\n",
       "      <th>Critic_Score</th>\n",
       "      <th>User_Score</th>\n",
       "      <th>Rating</th>\n",
       "    </tr>\n",
       "  </thead>\n",
       "  <tbody>\n",
       "    <tr>\n",
       "      <th>16710</th>\n",
       "      <td>Samurai Warriors: Sanada Maru</td>\n",
       "      <td>PS3</td>\n",
       "      <td>2016.0</td>\n",
       "      <td>Action</td>\n",
       "      <td>0.00</td>\n",
       "      <td>0.00</td>\n",
       "      <td>0.01</td>\n",
       "      <td>0.0</td>\n",
       "      <td>NaN</td>\n",
       "      <td>NaN</td>\n",
       "      <td>NaN</td>\n",
       "    </tr>\n",
       "    <tr>\n",
       "      <th>16711</th>\n",
       "      <td>LMA Manager 2007</td>\n",
       "      <td>X360</td>\n",
       "      <td>2006.0</td>\n",
       "      <td>Sports</td>\n",
       "      <td>0.00</td>\n",
       "      <td>0.01</td>\n",
       "      <td>0.00</td>\n",
       "      <td>0.0</td>\n",
       "      <td>NaN</td>\n",
       "      <td>NaN</td>\n",
       "      <td>NaN</td>\n",
       "    </tr>\n",
       "    <tr>\n",
       "      <th>16712</th>\n",
       "      <td>Haitaka no Psychedelica</td>\n",
       "      <td>PSV</td>\n",
       "      <td>2016.0</td>\n",
       "      <td>Adventure</td>\n",
       "      <td>0.00</td>\n",
       "      <td>0.00</td>\n",
       "      <td>0.01</td>\n",
       "      <td>0.0</td>\n",
       "      <td>NaN</td>\n",
       "      <td>NaN</td>\n",
       "      <td>NaN</td>\n",
       "    </tr>\n",
       "    <tr>\n",
       "      <th>16713</th>\n",
       "      <td>Spirits &amp; Spells</td>\n",
       "      <td>GBA</td>\n",
       "      <td>2003.0</td>\n",
       "      <td>Platform</td>\n",
       "      <td>0.01</td>\n",
       "      <td>0.00</td>\n",
       "      <td>0.00</td>\n",
       "      <td>0.0</td>\n",
       "      <td>NaN</td>\n",
       "      <td>NaN</td>\n",
       "      <td>NaN</td>\n",
       "    </tr>\n",
       "    <tr>\n",
       "      <th>16714</th>\n",
       "      <td>Winning Post 8 2016</td>\n",
       "      <td>PSV</td>\n",
       "      <td>2016.0</td>\n",
       "      <td>Simulation</td>\n",
       "      <td>0.00</td>\n",
       "      <td>0.00</td>\n",
       "      <td>0.01</td>\n",
       "      <td>0.0</td>\n",
       "      <td>NaN</td>\n",
       "      <td>NaN</td>\n",
       "      <td>NaN</td>\n",
       "    </tr>\n",
       "  </tbody>\n",
       "</table>\n",
       "</div>"
      ],
      "text/plain": [
       "                                Name Platform  Year_of_Release       Genre  \\\n",
       "16710  Samurai Warriors: Sanada Maru      PS3           2016.0      Action   \n",
       "16711               LMA Manager 2007     X360           2006.0      Sports   \n",
       "16712        Haitaka no Psychedelica      PSV           2016.0   Adventure   \n",
       "16713               Spirits & Spells      GBA           2003.0    Platform   \n",
       "16714            Winning Post 8 2016      PSV           2016.0  Simulation   \n",
       "\n",
       "       NA_sales  EU_sales  JP_sales  Other_sales  Critic_Score User_Score  \\\n",
       "16710      0.00      0.00      0.01          0.0           NaN        NaN   \n",
       "16711      0.00      0.01      0.00          0.0           NaN        NaN   \n",
       "16712      0.00      0.00      0.01          0.0           NaN        NaN   \n",
       "16713      0.01      0.00      0.00          0.0           NaN        NaN   \n",
       "16714      0.00      0.00      0.01          0.0           NaN        NaN   \n",
       "\n",
       "      Rating  \n",
       "16710    NaN  \n",
       "16711    NaN  \n",
       "16712    NaN  \n",
       "16713    NaN  \n",
       "16714    NaN  "
      ]
     },
     "execution_count": 6,
     "metadata": {},
     "output_type": "execute_result"
    }
   ],
   "source": [
    "games.tail()"
   ]
  },
  {
   "cell_type": "code",
   "execution_count": 7,
   "metadata": {},
   "outputs": [
    {
     "data": {
      "text/html": [
       "<div>\n",
       "<style scoped>\n",
       "    .dataframe tbody tr th:only-of-type {\n",
       "        vertical-align: middle;\n",
       "    }\n",
       "\n",
       "    .dataframe tbody tr th {\n",
       "        vertical-align: top;\n",
       "    }\n",
       "\n",
       "    .dataframe thead th {\n",
       "        text-align: right;\n",
       "    }\n",
       "</style>\n",
       "<table border=\"1\" class=\"dataframe\">\n",
       "  <thead>\n",
       "    <tr style=\"text-align: right;\">\n",
       "      <th></th>\n",
       "      <th>Year_of_Release</th>\n",
       "      <th>NA_sales</th>\n",
       "      <th>EU_sales</th>\n",
       "      <th>JP_sales</th>\n",
       "      <th>Other_sales</th>\n",
       "      <th>Critic_Score</th>\n",
       "    </tr>\n",
       "  </thead>\n",
       "  <tbody>\n",
       "    <tr>\n",
       "      <th>count</th>\n",
       "      <td>16446.000000</td>\n",
       "      <td>16715.000000</td>\n",
       "      <td>16715.000000</td>\n",
       "      <td>16715.000000</td>\n",
       "      <td>16715.000000</td>\n",
       "      <td>8137.000000</td>\n",
       "    </tr>\n",
       "    <tr>\n",
       "      <th>mean</th>\n",
       "      <td>2006.484616</td>\n",
       "      <td>0.263377</td>\n",
       "      <td>0.145060</td>\n",
       "      <td>0.077617</td>\n",
       "      <td>0.047342</td>\n",
       "      <td>68.967679</td>\n",
       "    </tr>\n",
       "    <tr>\n",
       "      <th>std</th>\n",
       "      <td>5.877050</td>\n",
       "      <td>0.813604</td>\n",
       "      <td>0.503339</td>\n",
       "      <td>0.308853</td>\n",
       "      <td>0.186731</td>\n",
       "      <td>13.938165</td>\n",
       "    </tr>\n",
       "    <tr>\n",
       "      <th>min</th>\n",
       "      <td>1980.000000</td>\n",
       "      <td>0.000000</td>\n",
       "      <td>0.000000</td>\n",
       "      <td>0.000000</td>\n",
       "      <td>0.000000</td>\n",
       "      <td>13.000000</td>\n",
       "    </tr>\n",
       "    <tr>\n",
       "      <th>25%</th>\n",
       "      <td>2003.000000</td>\n",
       "      <td>0.000000</td>\n",
       "      <td>0.000000</td>\n",
       "      <td>0.000000</td>\n",
       "      <td>0.000000</td>\n",
       "      <td>60.000000</td>\n",
       "    </tr>\n",
       "    <tr>\n",
       "      <th>50%</th>\n",
       "      <td>2007.000000</td>\n",
       "      <td>0.080000</td>\n",
       "      <td>0.020000</td>\n",
       "      <td>0.000000</td>\n",
       "      <td>0.010000</td>\n",
       "      <td>71.000000</td>\n",
       "    </tr>\n",
       "    <tr>\n",
       "      <th>75%</th>\n",
       "      <td>2010.000000</td>\n",
       "      <td>0.240000</td>\n",
       "      <td>0.110000</td>\n",
       "      <td>0.040000</td>\n",
       "      <td>0.030000</td>\n",
       "      <td>79.000000</td>\n",
       "    </tr>\n",
       "    <tr>\n",
       "      <th>max</th>\n",
       "      <td>2016.000000</td>\n",
       "      <td>41.360000</td>\n",
       "      <td>28.960000</td>\n",
       "      <td>10.220000</td>\n",
       "      <td>10.570000</td>\n",
       "      <td>98.000000</td>\n",
       "    </tr>\n",
       "  </tbody>\n",
       "</table>\n",
       "</div>"
      ],
      "text/plain": [
       "       Year_of_Release      NA_sales      EU_sales      JP_sales  \\\n",
       "count     16446.000000  16715.000000  16715.000000  16715.000000   \n",
       "mean       2006.484616      0.263377      0.145060      0.077617   \n",
       "std           5.877050      0.813604      0.503339      0.308853   \n",
       "min        1980.000000      0.000000      0.000000      0.000000   \n",
       "25%        2003.000000      0.000000      0.000000      0.000000   \n",
       "50%        2007.000000      0.080000      0.020000      0.000000   \n",
       "75%        2010.000000      0.240000      0.110000      0.040000   \n",
       "max        2016.000000     41.360000     28.960000     10.220000   \n",
       "\n",
       "        Other_sales  Critic_Score  \n",
       "count  16715.000000   8137.000000  \n",
       "mean       0.047342     68.967679  \n",
       "std        0.186731     13.938165  \n",
       "min        0.000000     13.000000  \n",
       "25%        0.000000     60.000000  \n",
       "50%        0.010000     71.000000  \n",
       "75%        0.030000     79.000000  \n",
       "max       10.570000     98.000000  "
      ]
     },
     "execution_count": 7,
     "metadata": {},
     "output_type": "execute_result"
    }
   ],
   "source": [
    "games.describe()"
   ]
  },
  {
   "cell_type": "code",
   "execution_count": 8,
   "metadata": {},
   "outputs": [
    {
     "data": {
      "text/plain": [
       "0"
      ]
     },
     "execution_count": 8,
     "metadata": {},
     "output_type": "execute_result"
    }
   ],
   "source": [
    "games.duplicated().sum()"
   ]
  },
  {
   "cell_type": "code",
   "execution_count": 9,
   "metadata": {},
   "outputs": [
    {
     "data": {
      "text/plain": [
       "Name                  2\n",
       "Platform              0\n",
       "Year_of_Release     269\n",
       "Genre                 2\n",
       "NA_sales              0\n",
       "EU_sales              0\n",
       "JP_sales              0\n",
       "Other_sales           0\n",
       "Critic_Score       8578\n",
       "User_Score         6701\n",
       "Rating             6766\n",
       "dtype: int64"
      ]
     },
     "execution_count": 9,
     "metadata": {},
     "output_type": "execute_result"
    }
   ],
   "source": [
    "games.isna().sum()"
   ]
  },
  {
   "cell_type": "markdown",
   "metadata": {},
   "source": [
    "Как видно из предворительного просмотра данных, последующая предобработка будет включать следующие шаги:\n",
    "- Заполнение пропусков;\n",
    "- Предобразование данных в столбце Nsme в snace_case\n",
    "- Преобразование Year_of_Release, Critic_Score, User_Score в неоюходимый формат\n",
    "- Проверка столбов Platform и Genre на неявные дубликаты"
   ]
  },
  {
   "cell_type": "markdown",
   "metadata": {},
   "source": [
    "### Шаг 2 - Предобработка данных"
   ]
  },
  {
   "cell_type": "markdown",
   "metadata": {},
   "source": [
    "#### Столбец \"Name\""
   ]
  },
  {
   "cell_type": "markdown",
   "metadata": {},
   "source": [
    "Перевод в lowercase"
   ]
  },
  {
   "cell_type": "code",
   "execution_count": 10,
   "metadata": {},
   "outputs": [
    {
     "data": {
      "text/plain": [
       "0                  wii sports\n",
       "1           super mario bros.\n",
       "2              mario kart wii\n",
       "3           wii sports resort\n",
       "4    pokemon red/pokemon blue\n",
       "Name: Name, dtype: object"
      ]
     },
     "execution_count": 10,
     "metadata": {},
     "output_type": "execute_result"
    }
   ],
   "source": [
    "games['Name'] = games['Name'].str.lower()\n",
    "games['Name'].head()"
   ]
  },
  {
   "cell_type": "code",
   "execution_count": 11,
   "metadata": {},
   "outputs": [
    {
     "data": {
      "text/plain": [
       "11560"
      ]
     },
     "execution_count": 11,
     "metadata": {},
     "output_type": "execute_result"
    }
   ],
   "source": [
    "len(games['Name'].unique())"
   ]
  },
  {
   "cell_type": "markdown",
   "metadata": {},
   "source": [
    "Проверим на наличие неявных дублей"
   ]
  },
  {
   "cell_type": "code",
   "execution_count": 12,
   "metadata": {},
   "outputs": [
    {
     "data": {
      "text/html": [
       "<div>\n",
       "<style scoped>\n",
       "    .dataframe tbody tr th:only-of-type {\n",
       "        vertical-align: middle;\n",
       "    }\n",
       "\n",
       "    .dataframe tbody tr th {\n",
       "        vertical-align: top;\n",
       "    }\n",
       "\n",
       "    .dataframe thead th {\n",
       "        text-align: right;\n",
       "    }\n",
       "</style>\n",
       "<table border=\"1\" class=\"dataframe\">\n",
       "  <thead>\n",
       "    <tr style=\"text-align: right;\">\n",
       "      <th></th>\n",
       "      <th>Name</th>\n",
       "      <th>Platform</th>\n",
       "      <th>Year_of_Release</th>\n",
       "      <th>Genre</th>\n",
       "      <th>NA_sales</th>\n",
       "      <th>EU_sales</th>\n",
       "      <th>JP_sales</th>\n",
       "      <th>Other_sales</th>\n",
       "      <th>Critic_Score</th>\n",
       "      <th>User_Score</th>\n",
       "      <th>Rating</th>\n",
       "    </tr>\n",
       "  </thead>\n",
       "  <tbody>\n",
       "    <tr>\n",
       "      <th>3862</th>\n",
       "      <td>frozen: olaf's quest</td>\n",
       "      <td>DS</td>\n",
       "      <td>2013.0</td>\n",
       "      <td>Platform</td>\n",
       "      <td>0.21</td>\n",
       "      <td>0.26</td>\n",
       "      <td>0.00</td>\n",
       "      <td>0.04</td>\n",
       "      <td>NaN</td>\n",
       "      <td>NaN</td>\n",
       "      <td>NaN</td>\n",
       "    </tr>\n",
       "    <tr>\n",
       "      <th>3358</th>\n",
       "      <td>frozen: olaf's quest</td>\n",
       "      <td>3DS</td>\n",
       "      <td>2013.0</td>\n",
       "      <td>Platform</td>\n",
       "      <td>0.27</td>\n",
       "      <td>0.27</td>\n",
       "      <td>0.00</td>\n",
       "      <td>0.05</td>\n",
       "      <td>NaN</td>\n",
       "      <td>NaN</td>\n",
       "      <td>NaN</td>\n",
       "    </tr>\n",
       "    <tr>\n",
       "      <th>3120</th>\n",
       "      <td>007: quantum of solace</td>\n",
       "      <td>Wii</td>\n",
       "      <td>2008.0</td>\n",
       "      <td>Action</td>\n",
       "      <td>0.29</td>\n",
       "      <td>0.28</td>\n",
       "      <td>0.01</td>\n",
       "      <td>0.07</td>\n",
       "      <td>54.0</td>\n",
       "      <td>7.5</td>\n",
       "      <td>T</td>\n",
       "    </tr>\n",
       "    <tr>\n",
       "      <th>1785</th>\n",
       "      <td>007: quantum of solace</td>\n",
       "      <td>PS3</td>\n",
       "      <td>2008.0</td>\n",
       "      <td>Action</td>\n",
       "      <td>0.43</td>\n",
       "      <td>0.51</td>\n",
       "      <td>0.02</td>\n",
       "      <td>0.19</td>\n",
       "      <td>65.0</td>\n",
       "      <td>6.6</td>\n",
       "      <td>T</td>\n",
       "    </tr>\n",
       "    <tr>\n",
       "      <th>1285</th>\n",
       "      <td>007: quantum of solace</td>\n",
       "      <td>X360</td>\n",
       "      <td>2008.0</td>\n",
       "      <td>Action</td>\n",
       "      <td>0.82</td>\n",
       "      <td>0.51</td>\n",
       "      <td>0.01</td>\n",
       "      <td>0.14</td>\n",
       "      <td>65.0</td>\n",
       "      <td>7.1</td>\n",
       "      <td>T</td>\n",
       "    </tr>\n",
       "    <tr>\n",
       "      <th>...</th>\n",
       "      <td>...</td>\n",
       "      <td>...</td>\n",
       "      <td>...</td>\n",
       "      <td>...</td>\n",
       "      <td>...</td>\n",
       "      <td>...</td>\n",
       "      <td>...</td>\n",
       "      <td>...</td>\n",
       "      <td>...</td>\n",
       "      <td>...</td>\n",
       "      <td>...</td>\n",
       "    </tr>\n",
       "    <tr>\n",
       "      <th>12439</th>\n",
       "      <td>zumba fitness core</td>\n",
       "      <td>Wii</td>\n",
       "      <td>2012.0</td>\n",
       "      <td>Misc</td>\n",
       "      <td>0.00</td>\n",
       "      <td>0.06</td>\n",
       "      <td>0.00</td>\n",
       "      <td>0.01</td>\n",
       "      <td>NaN</td>\n",
       "      <td>tbd</td>\n",
       "      <td>E10+</td>\n",
       "    </tr>\n",
       "    <tr>\n",
       "      <th>7137</th>\n",
       "      <td>zumba fitness: world party</td>\n",
       "      <td>Wii</td>\n",
       "      <td>2013.0</td>\n",
       "      <td>Misc</td>\n",
       "      <td>0.11</td>\n",
       "      <td>0.10</td>\n",
       "      <td>0.00</td>\n",
       "      <td>0.02</td>\n",
       "      <td>NaN</td>\n",
       "      <td>tbd</td>\n",
       "      <td>E</td>\n",
       "    </tr>\n",
       "    <tr>\n",
       "      <th>6878</th>\n",
       "      <td>zumba fitness: world party</td>\n",
       "      <td>XOne</td>\n",
       "      <td>2013.0</td>\n",
       "      <td>Misc</td>\n",
       "      <td>0.17</td>\n",
       "      <td>0.05</td>\n",
       "      <td>0.00</td>\n",
       "      <td>0.02</td>\n",
       "      <td>73.0</td>\n",
       "      <td>6.2</td>\n",
       "      <td>E</td>\n",
       "    </tr>\n",
       "    <tr>\n",
       "      <th>659</th>\n",
       "      <td>NaN</td>\n",
       "      <td>GEN</td>\n",
       "      <td>1993.0</td>\n",
       "      <td>NaN</td>\n",
       "      <td>1.78</td>\n",
       "      <td>0.53</td>\n",
       "      <td>0.00</td>\n",
       "      <td>0.08</td>\n",
       "      <td>NaN</td>\n",
       "      <td>NaN</td>\n",
       "      <td>NaN</td>\n",
       "    </tr>\n",
       "    <tr>\n",
       "      <th>14244</th>\n",
       "      <td>NaN</td>\n",
       "      <td>GEN</td>\n",
       "      <td>1993.0</td>\n",
       "      <td>NaN</td>\n",
       "      <td>0.00</td>\n",
       "      <td>0.00</td>\n",
       "      <td>0.03</td>\n",
       "      <td>0.00</td>\n",
       "      <td>NaN</td>\n",
       "      <td>NaN</td>\n",
       "      <td>NaN</td>\n",
       "    </tr>\n",
       "  </tbody>\n",
       "</table>\n",
       "<p>7961 rows × 11 columns</p>\n",
       "</div>"
      ],
      "text/plain": [
       "                             Name Platform  Year_of_Release     Genre  \\\n",
       "3862         frozen: olaf's quest       DS           2013.0  Platform   \n",
       "3358         frozen: olaf's quest      3DS           2013.0  Platform   \n",
       "3120       007: quantum of solace      Wii           2008.0    Action   \n",
       "1785       007: quantum of solace      PS3           2008.0    Action   \n",
       "1285       007: quantum of solace     X360           2008.0    Action   \n",
       "...                           ...      ...              ...       ...   \n",
       "12439          zumba fitness core      Wii           2012.0      Misc   \n",
       "7137   zumba fitness: world party      Wii           2013.0      Misc   \n",
       "6878   zumba fitness: world party     XOne           2013.0      Misc   \n",
       "659                           NaN      GEN           1993.0       NaN   \n",
       "14244                         NaN      GEN           1993.0       NaN   \n",
       "\n",
       "       NA_sales  EU_sales  JP_sales  Other_sales  Critic_Score User_Score  \\\n",
       "3862       0.21      0.26      0.00         0.04           NaN        NaN   \n",
       "3358       0.27      0.27      0.00         0.05           NaN        NaN   \n",
       "3120       0.29      0.28      0.01         0.07          54.0        7.5   \n",
       "1785       0.43      0.51      0.02         0.19          65.0        6.6   \n",
       "1285       0.82      0.51      0.01         0.14          65.0        7.1   \n",
       "...         ...       ...       ...          ...           ...        ...   \n",
       "12439      0.00      0.06      0.00         0.01           NaN        tbd   \n",
       "7137       0.11      0.10      0.00         0.02           NaN        tbd   \n",
       "6878       0.17      0.05      0.00         0.02          73.0        6.2   \n",
       "659        1.78      0.53      0.00         0.08           NaN        NaN   \n",
       "14244      0.00      0.00      0.03         0.00           NaN        NaN   \n",
       "\n",
       "      Rating  \n",
       "3862     NaN  \n",
       "3358     NaN  \n",
       "3120       T  \n",
       "1785       T  \n",
       "1285       T  \n",
       "...      ...  \n",
       "12439   E10+  \n",
       "7137       E  \n",
       "6878       E  \n",
       "659      NaN  \n",
       "14244    NaN  \n",
       "\n",
       "[7961 rows x 11 columns]"
      ]
     },
     "metadata": {},
     "output_type": "display_data"
    }
   ],
   "source": [
    "duplicate_values = games[games.duplicated(subset=['Name'], keep=False)]\n",
    "display(duplicate_values.sort_values('Name'))"
   ]
  },
  {
   "cell_type": "code",
   "execution_count": 13,
   "metadata": {},
   "outputs": [
    {
     "data": {
      "text/html": [
       "<div>\n",
       "<style scoped>\n",
       "    .dataframe tbody tr th:only-of-type {\n",
       "        vertical-align: middle;\n",
       "    }\n",
       "\n",
       "    .dataframe tbody tr th {\n",
       "        vertical-align: top;\n",
       "    }\n",
       "\n",
       "    .dataframe thead th {\n",
       "        text-align: right;\n",
       "    }\n",
       "</style>\n",
       "<table border=\"1\" class=\"dataframe\">\n",
       "  <thead>\n",
       "    <tr style=\"text-align: right;\">\n",
       "      <th></th>\n",
       "      <th>Name</th>\n",
       "      <th>Platform</th>\n",
       "      <th>Year_of_Release</th>\n",
       "      <th>Genre</th>\n",
       "      <th>NA_sales</th>\n",
       "      <th>EU_sales</th>\n",
       "      <th>JP_sales</th>\n",
       "      <th>Other_sales</th>\n",
       "      <th>Critic_Score</th>\n",
       "      <th>User_Score</th>\n",
       "      <th>Rating</th>\n",
       "    </tr>\n",
       "  </thead>\n",
       "  <tbody>\n",
       "    <tr>\n",
       "      <th>3862</th>\n",
       "      <td>frozen: olaf's quest</td>\n",
       "      <td>DS</td>\n",
       "      <td>2013.0</td>\n",
       "      <td>Platform</td>\n",
       "      <td>0.21</td>\n",
       "      <td>0.26</td>\n",
       "      <td>0.0</td>\n",
       "      <td>0.04</td>\n",
       "      <td>NaN</td>\n",
       "      <td>NaN</td>\n",
       "      <td>NaN</td>\n",
       "    </tr>\n",
       "    <tr>\n",
       "      <th>3358</th>\n",
       "      <td>frozen: olaf's quest</td>\n",
       "      <td>3DS</td>\n",
       "      <td>2013.0</td>\n",
       "      <td>Platform</td>\n",
       "      <td>0.27</td>\n",
       "      <td>0.27</td>\n",
       "      <td>0.0</td>\n",
       "      <td>0.05</td>\n",
       "      <td>NaN</td>\n",
       "      <td>NaN</td>\n",
       "      <td>NaN</td>\n",
       "    </tr>\n",
       "  </tbody>\n",
       "</table>\n",
       "</div>"
      ],
      "text/plain": [
       "                       Name Platform  Year_of_Release     Genre  NA_sales  \\\n",
       "3862   frozen: olaf's quest       DS           2013.0  Platform      0.21   \n",
       "3358   frozen: olaf's quest      3DS           2013.0  Platform      0.27   \n",
       "\n",
       "      EU_sales  JP_sales  Other_sales  Critic_Score User_Score Rating  \n",
       "3862      0.26       0.0         0.04           NaN        NaN    NaN  \n",
       "3358      0.27       0.0         0.05           NaN        NaN    NaN  "
      ]
     },
     "execution_count": 13,
     "metadata": {},
     "output_type": "execute_result"
    }
   ],
   "source": [
    "games.iloc[[3862, 3358]]"
   ]
  },
  {
   "cell_type": "markdown",
   "metadata": {},
   "source": [
    "Как мы видим - большая часть выявленных дубликатов приходится на выпуски игры на разных платформах, следовательно нам необходимо сделать поиск дубликатов по двум столбцам"
   ]
  },
  {
   "cell_type": "markdown",
   "metadata": {},
   "source": [
    "#### Столбец \"Platform\""
   ]
  },
  {
   "cell_type": "code",
   "execution_count": 14,
   "metadata": {},
   "outputs": [
    {
     "data": {
      "text/plain": [
       "array(['Wii', 'NES', 'GB', 'DS', 'X360', 'PS3', 'PS2', 'SNES', 'GBA',\n",
       "       'PS4', '3DS', 'N64', 'PS', 'XB', 'PC', '2600', 'PSP', 'XOne',\n",
       "       'WiiU', 'GC', 'GEN', 'DC', 'PSV', 'SAT', 'SCD', 'WS', 'NG', 'TG16',\n",
       "       '3DO', 'GG', 'PCFX'], dtype=object)"
      ]
     },
     "execution_count": 14,
     "metadata": {},
     "output_type": "execute_result"
    }
   ],
   "source": [
    "games['Platform'].unique()"
   ]
  },
  {
   "cell_type": "markdown",
   "metadata": {},
   "source": [
    "Как мы видим, в дополнительной обработке нет необходимости, и значит  мы можем использовать его для поиска неявных дубликатов "
   ]
  },
  {
   "cell_type": "code",
   "execution_count": 15,
   "metadata": {},
   "outputs": [
    {
     "name": "stdout",
     "output_type": "stream",
     "text": [
      "                              Name Platform  Year_of_Release     Genre  \\\n",
      "16230                madden nfl 13      PS3           2012.0    Sports   \n",
      "1591   need for speed: most wanted     X360           2005.0    Racing   \n",
      "11715  need for speed: most wanted       PC           2012.0    Racing   \n",
      "4127            sonic the hedgehog      PS3              NaN  Platform   \n",
      "14244                          NaN      GEN           1993.0       NaN   \n",
      "\n",
      "       NA_sales  EU_sales  JP_sales  Other_sales  Critic_Score User_Score  \\\n",
      "16230       0.0      0.01      0.00         0.00          83.0        5.5   \n",
      "1591        1.0      0.13      0.02         0.10          83.0        8.5   \n",
      "11715       0.0      0.06      0.00         0.02          82.0        8.5   \n",
      "4127        0.0      0.48      0.00         0.00          43.0        4.1   \n",
      "14244       0.0      0.00      0.03         0.00           NaN        NaN   \n",
      "\n",
      "      Rating  \n",
      "16230      E  \n",
      "1591       T  \n",
      "11715      T  \n",
      "4127    E10+  \n",
      "14244    NaN  \n"
     ]
    }
   ],
   "source": [
    "duplicate_rows = games[games.duplicated(subset=['Name', 'Platform'])]\n",
    "duplicate_rows.sort_values('Name')"
   ]
  },
  {
   "cell_type": "markdown",
   "metadata": {},
   "source": [
    "Как мы видим, существует пять потенциальных дубликатов"
   ]
  },
  {
   "cell_type": "code",
   "execution_count": 16,
   "metadata": {},
   "outputs": [
    {
     "data": {
      "text/html": [
       "<div>\n",
       "<style scoped>\n",
       "    .dataframe tbody tr th:only-of-type {\n",
       "        vertical-align: middle;\n",
       "    }\n",
       "\n",
       "    .dataframe tbody tr th {\n",
       "        vertical-align: top;\n",
       "    }\n",
       "\n",
       "    .dataframe thead th {\n",
       "        text-align: right;\n",
       "    }\n",
       "</style>\n",
       "<table border=\"1\" class=\"dataframe\">\n",
       "  <thead>\n",
       "    <tr style=\"text-align: right;\">\n",
       "      <th></th>\n",
       "      <th>Name</th>\n",
       "      <th>Platform</th>\n",
       "      <th>Year_of_Release</th>\n",
       "      <th>Genre</th>\n",
       "      <th>NA_sales</th>\n",
       "      <th>EU_sales</th>\n",
       "      <th>JP_sales</th>\n",
       "      <th>Other_sales</th>\n",
       "      <th>Critic_Score</th>\n",
       "      <th>User_Score</th>\n",
       "      <th>Rating</th>\n",
       "    </tr>\n",
       "  </thead>\n",
       "  <tbody>\n",
       "    <tr>\n",
       "      <th>604</th>\n",
       "      <td>madden nfl 13</td>\n",
       "      <td>PS3</td>\n",
       "      <td>2012.0</td>\n",
       "      <td>Sports</td>\n",
       "      <td>2.11</td>\n",
       "      <td>0.22</td>\n",
       "      <td>0.0</td>\n",
       "      <td>0.23</td>\n",
       "      <td>83.0</td>\n",
       "      <td>5.5</td>\n",
       "      <td>E</td>\n",
       "    </tr>\n",
       "    <tr>\n",
       "      <th>16230</th>\n",
       "      <td>madden nfl 13</td>\n",
       "      <td>PS3</td>\n",
       "      <td>2012.0</td>\n",
       "      <td>Sports</td>\n",
       "      <td>0.00</td>\n",
       "      <td>0.01</td>\n",
       "      <td>0.0</td>\n",
       "      <td>0.00</td>\n",
       "      <td>83.0</td>\n",
       "      <td>5.5</td>\n",
       "      <td>E</td>\n",
       "    </tr>\n",
       "    <tr>\n",
       "      <th>5887</th>\n",
       "      <td>madden nfl 13</td>\n",
       "      <td>PSV</td>\n",
       "      <td>2012.0</td>\n",
       "      <td>Sports</td>\n",
       "      <td>0.28</td>\n",
       "      <td>0.00</td>\n",
       "      <td>0.0</td>\n",
       "      <td>0.02</td>\n",
       "      <td>63.0</td>\n",
       "      <td>7.3</td>\n",
       "      <td>E</td>\n",
       "    </tr>\n",
       "    <tr>\n",
       "      <th>3986</th>\n",
       "      <td>madden nfl 13</td>\n",
       "      <td>Wii</td>\n",
       "      <td>2012.0</td>\n",
       "      <td>Sports</td>\n",
       "      <td>0.47</td>\n",
       "      <td>0.00</td>\n",
       "      <td>0.0</td>\n",
       "      <td>0.03</td>\n",
       "      <td>NaN</td>\n",
       "      <td>7.3</td>\n",
       "      <td>E</td>\n",
       "    </tr>\n",
       "    <tr>\n",
       "      <th>7066</th>\n",
       "      <td>madden nfl 13</td>\n",
       "      <td>WiiU</td>\n",
       "      <td>2012.0</td>\n",
       "      <td>Sports</td>\n",
       "      <td>0.21</td>\n",
       "      <td>0.00</td>\n",
       "      <td>0.0</td>\n",
       "      <td>0.02</td>\n",
       "      <td>75.0</td>\n",
       "      <td>6.7</td>\n",
       "      <td>E</td>\n",
       "    </tr>\n",
       "    <tr>\n",
       "      <th>507</th>\n",
       "      <td>madden nfl 13</td>\n",
       "      <td>X360</td>\n",
       "      <td>2012.0</td>\n",
       "      <td>Sports</td>\n",
       "      <td>2.53</td>\n",
       "      <td>0.15</td>\n",
       "      <td>0.0</td>\n",
       "      <td>0.17</td>\n",
       "      <td>81.0</td>\n",
       "      <td>5.8</td>\n",
       "      <td>E</td>\n",
       "    </tr>\n",
       "  </tbody>\n",
       "</table>\n",
       "</div>"
      ],
      "text/plain": [
       "                Name Platform  Year_of_Release   Genre  NA_sales  EU_sales  \\\n",
       "604    madden nfl 13      PS3           2012.0  Sports      2.11      0.22   \n",
       "16230  madden nfl 13      PS3           2012.0  Sports      0.00      0.01   \n",
       "5887   madden nfl 13      PSV           2012.0  Sports      0.28      0.00   \n",
       "3986   madden nfl 13      Wii           2012.0  Sports      0.47      0.00   \n",
       "7066   madden nfl 13     WiiU           2012.0  Sports      0.21      0.00   \n",
       "507    madden nfl 13     X360           2012.0  Sports      2.53      0.15   \n",
       "\n",
       "       JP_sales  Other_sales  Critic_Score User_Score Rating  \n",
       "604         0.0         0.23          83.0        5.5      E  \n",
       "16230       0.0         0.00          83.0        5.5      E  \n",
       "5887        0.0         0.02          63.0        7.3      E  \n",
       "3986        0.0         0.03           NaN        7.3      E  \n",
       "7066        0.0         0.02          75.0        6.7      E  \n",
       "507         0.0         0.17          81.0        5.8      E  "
      ]
     },
     "execution_count": 16,
     "metadata": {},
     "output_type": "execute_result"
    }
   ],
   "source": [
    "games[games['Name'] == 'madden nfl 13'].sort_values(['Name', 'Platform'])"
   ]
  },
  {
   "cell_type": "code",
   "execution_count": 17,
   "metadata": {},
   "outputs": [
    {
     "data": {
      "text/html": [
       "<div>\n",
       "<style scoped>\n",
       "    .dataframe tbody tr th:only-of-type {\n",
       "        vertical-align: middle;\n",
       "    }\n",
       "\n",
       "    .dataframe tbody tr th {\n",
       "        vertical-align: top;\n",
       "    }\n",
       "\n",
       "    .dataframe thead th {\n",
       "        text-align: right;\n",
       "    }\n",
       "</style>\n",
       "<table border=\"1\" class=\"dataframe\">\n",
       "  <thead>\n",
       "    <tr style=\"text-align: right;\">\n",
       "      <th></th>\n",
       "      <th>Name</th>\n",
       "      <th>Platform</th>\n",
       "      <th>Year_of_Release</th>\n",
       "      <th>Genre</th>\n",
       "      <th>NA_sales</th>\n",
       "      <th>EU_sales</th>\n",
       "      <th>JP_sales</th>\n",
       "      <th>Other_sales</th>\n",
       "      <th>Critic_Score</th>\n",
       "      <th>User_Score</th>\n",
       "      <th>Rating</th>\n",
       "    </tr>\n",
       "  </thead>\n",
       "  <tbody>\n",
       "    <tr>\n",
       "      <th>6410</th>\n",
       "      <td>need for speed: most wanted</td>\n",
       "      <td>DS</td>\n",
       "      <td>2005.0</td>\n",
       "      <td>Racing</td>\n",
       "      <td>0.24</td>\n",
       "      <td>0.01</td>\n",
       "      <td>0.00</td>\n",
       "      <td>0.02</td>\n",
       "      <td>45.0</td>\n",
       "      <td>6.1</td>\n",
       "      <td>E</td>\n",
       "    </tr>\n",
       "    <tr>\n",
       "      <th>6473</th>\n",
       "      <td>need for speed: most wanted</td>\n",
       "      <td>GBA</td>\n",
       "      <td>2005.0</td>\n",
       "      <td>Racing</td>\n",
       "      <td>0.19</td>\n",
       "      <td>0.07</td>\n",
       "      <td>0.00</td>\n",
       "      <td>0.00</td>\n",
       "      <td>NaN</td>\n",
       "      <td>8.3</td>\n",
       "      <td>E</td>\n",
       "    </tr>\n",
       "    <tr>\n",
       "      <th>3581</th>\n",
       "      <td>need for speed: most wanted</td>\n",
       "      <td>GC</td>\n",
       "      <td>2005.0</td>\n",
       "      <td>Racing</td>\n",
       "      <td>0.43</td>\n",
       "      <td>0.11</td>\n",
       "      <td>0.00</td>\n",
       "      <td>0.02</td>\n",
       "      <td>80.0</td>\n",
       "      <td>9.1</td>\n",
       "      <td>T</td>\n",
       "    </tr>\n",
       "    <tr>\n",
       "      <th>5972</th>\n",
       "      <td>need for speed: most wanted</td>\n",
       "      <td>PC</td>\n",
       "      <td>2005.0</td>\n",
       "      <td>Racing</td>\n",
       "      <td>0.02</td>\n",
       "      <td>0.23</td>\n",
       "      <td>0.00</td>\n",
       "      <td>0.04</td>\n",
       "      <td>82.0</td>\n",
       "      <td>8.5</td>\n",
       "      <td>T</td>\n",
       "    </tr>\n",
       "    <tr>\n",
       "      <th>11715</th>\n",
       "      <td>need for speed: most wanted</td>\n",
       "      <td>PC</td>\n",
       "      <td>2012.0</td>\n",
       "      <td>Racing</td>\n",
       "      <td>0.00</td>\n",
       "      <td>0.06</td>\n",
       "      <td>0.00</td>\n",
       "      <td>0.02</td>\n",
       "      <td>82.0</td>\n",
       "      <td>8.5</td>\n",
       "      <td>T</td>\n",
       "    </tr>\n",
       "    <tr>\n",
       "      <th>253</th>\n",
       "      <td>need for speed: most wanted</td>\n",
       "      <td>PS2</td>\n",
       "      <td>2005.0</td>\n",
       "      <td>Racing</td>\n",
       "      <td>2.03</td>\n",
       "      <td>1.79</td>\n",
       "      <td>0.08</td>\n",
       "      <td>0.47</td>\n",
       "      <td>82.0</td>\n",
       "      <td>9.1</td>\n",
       "      <td>T</td>\n",
       "    </tr>\n",
       "    <tr>\n",
       "      <th>523</th>\n",
       "      <td>need for speed: most wanted</td>\n",
       "      <td>PS3</td>\n",
       "      <td>2012.0</td>\n",
       "      <td>Racing</td>\n",
       "      <td>0.71</td>\n",
       "      <td>1.46</td>\n",
       "      <td>0.06</td>\n",
       "      <td>0.58</td>\n",
       "      <td>NaN</td>\n",
       "      <td>NaN</td>\n",
       "      <td>NaN</td>\n",
       "    </tr>\n",
       "    <tr>\n",
       "      <th>2048</th>\n",
       "      <td>need for speed: most wanted</td>\n",
       "      <td>PSV</td>\n",
       "      <td>2012.0</td>\n",
       "      <td>Racing</td>\n",
       "      <td>0.33</td>\n",
       "      <td>0.45</td>\n",
       "      <td>0.01</td>\n",
       "      <td>0.22</td>\n",
       "      <td>NaN</td>\n",
       "      <td>NaN</td>\n",
       "      <td>NaN</td>\n",
       "    </tr>\n",
       "    <tr>\n",
       "      <th>6273</th>\n",
       "      <td>need for speed: most wanted</td>\n",
       "      <td>WiiU</td>\n",
       "      <td>2013.0</td>\n",
       "      <td>Racing</td>\n",
       "      <td>0.13</td>\n",
       "      <td>0.12</td>\n",
       "      <td>0.00</td>\n",
       "      <td>0.02</td>\n",
       "      <td>NaN</td>\n",
       "      <td>NaN</td>\n",
       "      <td>NaN</td>\n",
       "    </tr>\n",
       "    <tr>\n",
       "      <th>1190</th>\n",
       "      <td>need for speed: most wanted</td>\n",
       "      <td>X360</td>\n",
       "      <td>2012.0</td>\n",
       "      <td>Racing</td>\n",
       "      <td>0.62</td>\n",
       "      <td>0.78</td>\n",
       "      <td>0.01</td>\n",
       "      <td>0.15</td>\n",
       "      <td>83.0</td>\n",
       "      <td>8.5</td>\n",
       "      <td>T</td>\n",
       "    </tr>\n",
       "    <tr>\n",
       "      <th>1591</th>\n",
       "      <td>need for speed: most wanted</td>\n",
       "      <td>X360</td>\n",
       "      <td>2005.0</td>\n",
       "      <td>Racing</td>\n",
       "      <td>1.00</td>\n",
       "      <td>0.13</td>\n",
       "      <td>0.02</td>\n",
       "      <td>0.10</td>\n",
       "      <td>83.0</td>\n",
       "      <td>8.5</td>\n",
       "      <td>T</td>\n",
       "    </tr>\n",
       "    <tr>\n",
       "      <th>1998</th>\n",
       "      <td>need for speed: most wanted</td>\n",
       "      <td>XB</td>\n",
       "      <td>2005.0</td>\n",
       "      <td>Racing</td>\n",
       "      <td>0.53</td>\n",
       "      <td>0.46</td>\n",
       "      <td>0.00</td>\n",
       "      <td>0.05</td>\n",
       "      <td>83.0</td>\n",
       "      <td>8.8</td>\n",
       "      <td>T</td>\n",
       "    </tr>\n",
       "  </tbody>\n",
       "</table>\n",
       "</div>"
      ],
      "text/plain": [
       "                              Name Platform  Year_of_Release   Genre  \\\n",
       "6410   need for speed: most wanted       DS           2005.0  Racing   \n",
       "6473   need for speed: most wanted      GBA           2005.0  Racing   \n",
       "3581   need for speed: most wanted       GC           2005.0  Racing   \n",
       "5972   need for speed: most wanted       PC           2005.0  Racing   \n",
       "11715  need for speed: most wanted       PC           2012.0  Racing   \n",
       "253    need for speed: most wanted      PS2           2005.0  Racing   \n",
       "523    need for speed: most wanted      PS3           2012.0  Racing   \n",
       "2048   need for speed: most wanted      PSV           2012.0  Racing   \n",
       "6273   need for speed: most wanted     WiiU           2013.0  Racing   \n",
       "1190   need for speed: most wanted     X360           2012.0  Racing   \n",
       "1591   need for speed: most wanted     X360           2005.0  Racing   \n",
       "1998   need for speed: most wanted       XB           2005.0  Racing   \n",
       "\n",
       "       NA_sales  EU_sales  JP_sales  Other_sales  Critic_Score User_Score  \\\n",
       "6410       0.24      0.01      0.00         0.02          45.0        6.1   \n",
       "6473       0.19      0.07      0.00         0.00           NaN        8.3   \n",
       "3581       0.43      0.11      0.00         0.02          80.0        9.1   \n",
       "5972       0.02      0.23      0.00         0.04          82.0        8.5   \n",
       "11715      0.00      0.06      0.00         0.02          82.0        8.5   \n",
       "253        2.03      1.79      0.08         0.47          82.0        9.1   \n",
       "523        0.71      1.46      0.06         0.58           NaN        NaN   \n",
       "2048       0.33      0.45      0.01         0.22           NaN        NaN   \n",
       "6273       0.13      0.12      0.00         0.02           NaN        NaN   \n",
       "1190       0.62      0.78      0.01         0.15          83.0        8.5   \n",
       "1591       1.00      0.13      0.02         0.10          83.0        8.5   \n",
       "1998       0.53      0.46      0.00         0.05          83.0        8.8   \n",
       "\n",
       "      Rating  \n",
       "6410       E  \n",
       "6473       E  \n",
       "3581       T  \n",
       "5972       T  \n",
       "11715      T  \n",
       "253        T  \n",
       "523      NaN  \n",
       "2048     NaN  \n",
       "6273     NaN  \n",
       "1190       T  \n",
       "1591       T  \n",
       "1998       T  "
      ]
     },
     "execution_count": 17,
     "metadata": {},
     "output_type": "execute_result"
    }
   ],
   "source": [
    "games[games['Name'] == 'need for speed: most wanted'].sort_values(['Name', 'Platform'])"
   ]
  },
  {
   "cell_type": "code",
   "execution_count": 18,
   "metadata": {},
   "outputs": [
    {
     "data": {
      "text/html": [
       "<div>\n",
       "<style scoped>\n",
       "    .dataframe tbody tr th:only-of-type {\n",
       "        vertical-align: middle;\n",
       "    }\n",
       "\n",
       "    .dataframe tbody tr th {\n",
       "        vertical-align: top;\n",
       "    }\n",
       "\n",
       "    .dataframe thead th {\n",
       "        text-align: right;\n",
       "    }\n",
       "</style>\n",
       "<table border=\"1\" class=\"dataframe\">\n",
       "  <thead>\n",
       "    <tr style=\"text-align: right;\">\n",
       "      <th></th>\n",
       "      <th>Name</th>\n",
       "      <th>Platform</th>\n",
       "      <th>Year_of_Release</th>\n",
       "      <th>Genre</th>\n",
       "      <th>NA_sales</th>\n",
       "      <th>EU_sales</th>\n",
       "      <th>JP_sales</th>\n",
       "      <th>Other_sales</th>\n",
       "      <th>Critic_Score</th>\n",
       "      <th>User_Score</th>\n",
       "      <th>Rating</th>\n",
       "    </tr>\n",
       "  </thead>\n",
       "  <tbody>\n",
       "    <tr>\n",
       "      <th>257</th>\n",
       "      <td>sonic the hedgehog</td>\n",
       "      <td>GEN</td>\n",
       "      <td>1991.0</td>\n",
       "      <td>Platform</td>\n",
       "      <td>3.03</td>\n",
       "      <td>0.91</td>\n",
       "      <td>0.26</td>\n",
       "      <td>0.13</td>\n",
       "      <td>NaN</td>\n",
       "      <td>NaN</td>\n",
       "      <td>NaN</td>\n",
       "    </tr>\n",
       "    <tr>\n",
       "      <th>1745</th>\n",
       "      <td>sonic the hedgehog</td>\n",
       "      <td>PS3</td>\n",
       "      <td>2006.0</td>\n",
       "      <td>Platform</td>\n",
       "      <td>0.41</td>\n",
       "      <td>0.06</td>\n",
       "      <td>0.04</td>\n",
       "      <td>0.66</td>\n",
       "      <td>43.0</td>\n",
       "      <td>4.1</td>\n",
       "      <td>E10+</td>\n",
       "    </tr>\n",
       "    <tr>\n",
       "      <th>4127</th>\n",
       "      <td>sonic the hedgehog</td>\n",
       "      <td>PS3</td>\n",
       "      <td>NaN</td>\n",
       "      <td>Platform</td>\n",
       "      <td>0.00</td>\n",
       "      <td>0.48</td>\n",
       "      <td>0.00</td>\n",
       "      <td>0.00</td>\n",
       "      <td>43.0</td>\n",
       "      <td>4.1</td>\n",
       "      <td>E10+</td>\n",
       "    </tr>\n",
       "    <tr>\n",
       "      <th>1996</th>\n",
       "      <td>sonic the hedgehog</td>\n",
       "      <td>X360</td>\n",
       "      <td>2006.0</td>\n",
       "      <td>Platform</td>\n",
       "      <td>0.44</td>\n",
       "      <td>0.48</td>\n",
       "      <td>0.00</td>\n",
       "      <td>0.11</td>\n",
       "      <td>46.0</td>\n",
       "      <td>4.4</td>\n",
       "      <td>E10+</td>\n",
       "    </tr>\n",
       "  </tbody>\n",
       "</table>\n",
       "</div>"
      ],
      "text/plain": [
       "                    Name Platform  Year_of_Release     Genre  NA_sales  \\\n",
       "257   sonic the hedgehog      GEN           1991.0  Platform      3.03   \n",
       "1745  sonic the hedgehog      PS3           2006.0  Platform      0.41   \n",
       "4127  sonic the hedgehog      PS3              NaN  Platform      0.00   \n",
       "1996  sonic the hedgehog     X360           2006.0  Platform      0.44   \n",
       "\n",
       "      EU_sales  JP_sales  Other_sales  Critic_Score User_Score Rating  \n",
       "257       0.91      0.26         0.13           NaN        NaN    NaN  \n",
       "1745      0.06      0.04         0.66          43.0        4.1   E10+  \n",
       "4127      0.48      0.00         0.00          43.0        4.1   E10+  \n",
       "1996      0.48      0.00         0.11          46.0        4.4   E10+  "
      ]
     },
     "execution_count": 18,
     "metadata": {},
     "output_type": "execute_result"
    }
   ],
   "source": [
    "games[games['Name'] == 'sonic the hedgehog'].sort_values(['Name', 'Platform'])"
   ]
  },
  {
   "cell_type": "code",
   "execution_count": 19,
   "metadata": {},
   "outputs": [
    {
     "data": {
      "text/html": [
       "<div>\n",
       "<style scoped>\n",
       "    .dataframe tbody tr th:only-of-type {\n",
       "        vertical-align: middle;\n",
       "    }\n",
       "\n",
       "    .dataframe tbody tr th {\n",
       "        vertical-align: top;\n",
       "    }\n",
       "\n",
       "    .dataframe thead th {\n",
       "        text-align: right;\n",
       "    }\n",
       "</style>\n",
       "<table border=\"1\" class=\"dataframe\">\n",
       "  <thead>\n",
       "    <tr style=\"text-align: right;\">\n",
       "      <th></th>\n",
       "      <th>Name</th>\n",
       "      <th>Platform</th>\n",
       "      <th>Year_of_Release</th>\n",
       "      <th>Genre</th>\n",
       "      <th>NA_sales</th>\n",
       "      <th>EU_sales</th>\n",
       "      <th>JP_sales</th>\n",
       "      <th>Other_sales</th>\n",
       "      <th>Critic_Score</th>\n",
       "      <th>User_Score</th>\n",
       "      <th>Rating</th>\n",
       "    </tr>\n",
       "  </thead>\n",
       "  <tbody>\n",
       "    <tr>\n",
       "      <th>659</th>\n",
       "      <td>NaN</td>\n",
       "      <td>GEN</td>\n",
       "      <td>1993.0</td>\n",
       "      <td>NaN</td>\n",
       "      <td>1.78</td>\n",
       "      <td>0.53</td>\n",
       "      <td>0.00</td>\n",
       "      <td>0.08</td>\n",
       "      <td>NaN</td>\n",
       "      <td>NaN</td>\n",
       "      <td>NaN</td>\n",
       "    </tr>\n",
       "    <tr>\n",
       "      <th>14244</th>\n",
       "      <td>NaN</td>\n",
       "      <td>GEN</td>\n",
       "      <td>1993.0</td>\n",
       "      <td>NaN</td>\n",
       "      <td>0.00</td>\n",
       "      <td>0.00</td>\n",
       "      <td>0.03</td>\n",
       "      <td>0.00</td>\n",
       "      <td>NaN</td>\n",
       "      <td>NaN</td>\n",
       "      <td>NaN</td>\n",
       "    </tr>\n",
       "  </tbody>\n",
       "</table>\n",
       "</div>"
      ],
      "text/plain": [
       "      Name Platform  Year_of_Release Genre  NA_sales  EU_sales  JP_sales  \\\n",
       "659    NaN      GEN           1993.0   NaN      1.78      0.53      0.00   \n",
       "14244  NaN      GEN           1993.0   NaN      0.00      0.00      0.03   \n",
       "\n",
       "       Other_sales  Critic_Score User_Score Rating  \n",
       "659           0.08           NaN        NaN    NaN  \n",
       "14244         0.00           NaN        NaN    NaN  "
      ]
     },
     "execution_count": 19,
     "metadata": {},
     "output_type": "execute_result"
    }
   ],
   "source": [
    "games[games['Name'].isna()]"
   ]
  },
  {
   "cell_type": "markdown",
   "metadata": {},
   "source": [
    "Таким образом мы видим, что во в большинстве случаем мы получаем строку с нулевыми/аналогичными значениями.\\\n",
    "Учитывая их количество, мы можем удалить данные строки без потерь для качества анализа"
   ]
  },
  {
   "cell_type": "code",
   "execution_count": 20,
   "metadata": {},
   "outputs": [
    {
     "data": {
      "text/html": [
       "<div>\n",
       "<style scoped>\n",
       "    .dataframe tbody tr th:only-of-type {\n",
       "        vertical-align: middle;\n",
       "    }\n",
       "\n",
       "    .dataframe tbody tr th {\n",
       "        vertical-align: top;\n",
       "    }\n",
       "\n",
       "    .dataframe thead th {\n",
       "        text-align: right;\n",
       "    }\n",
       "</style>\n",
       "<table border=\"1\" class=\"dataframe\">\n",
       "  <thead>\n",
       "    <tr style=\"text-align: right;\">\n",
       "      <th></th>\n",
       "      <th>Name</th>\n",
       "      <th>Platform</th>\n",
       "      <th>Year_of_Release</th>\n",
       "      <th>Genre</th>\n",
       "      <th>NA_sales</th>\n",
       "      <th>EU_sales</th>\n",
       "      <th>JP_sales</th>\n",
       "      <th>Other_sales</th>\n",
       "      <th>Critic_Score</th>\n",
       "      <th>User_Score</th>\n",
       "      <th>Rating</th>\n",
       "    </tr>\n",
       "  </thead>\n",
       "  <tbody>\n",
       "  </tbody>\n",
       "</table>\n",
       "</div>"
      ],
      "text/plain": [
       "Empty DataFrame\n",
       "Columns: [Name, Platform, Year_of_Release, Genre, NA_sales, EU_sales, JP_sales, Other_sales, Critic_Score, User_Score, Rating]\n",
       "Index: []"
      ]
     },
     "execution_count": 20,
     "metadata": {},
     "output_type": "execute_result"
    }
   ],
   "source": [
    "games = games.dropna(subset = ['Name'])\n",
    "games = games.drop_duplicates(subset=['Name', 'Platform'], keep='first')\n",
    "duplicate_rows = games[games.duplicated(subset=['Name', 'Platform'])]\n",
    "duplicate_rows"
   ]
  },
  {
   "cell_type": "markdown",
   "metadata": {},
   "source": [
    "#### Столбец \"Year_of_Realease\""
   ]
  },
  {
   "cell_type": "code",
   "execution_count": 21,
   "metadata": {},
   "outputs": [
    {
     "data": {
      "text/html": [
       "<div>\n",
       "<style scoped>\n",
       "    .dataframe tbody tr th:only-of-type {\n",
       "        vertical-align: middle;\n",
       "    }\n",
       "\n",
       "    .dataframe tbody tr th {\n",
       "        vertical-align: top;\n",
       "    }\n",
       "\n",
       "    .dataframe thead th {\n",
       "        text-align: right;\n",
       "    }\n",
       "</style>\n",
       "<table border=\"1\" class=\"dataframe\">\n",
       "  <thead>\n",
       "    <tr style=\"text-align: right;\">\n",
       "      <th></th>\n",
       "      <th>Name</th>\n",
       "      <th>Platform</th>\n",
       "      <th>Year_of_Release</th>\n",
       "      <th>Genre</th>\n",
       "      <th>NA_sales</th>\n",
       "      <th>EU_sales</th>\n",
       "      <th>JP_sales</th>\n",
       "      <th>Other_sales</th>\n",
       "      <th>Critic_Score</th>\n",
       "      <th>User_Score</th>\n",
       "      <th>Rating</th>\n",
       "    </tr>\n",
       "  </thead>\n",
       "  <tbody>\n",
       "    <tr>\n",
       "      <th>183</th>\n",
       "      <td>madden nfl 2004</td>\n",
       "      <td>PS2</td>\n",
       "      <td>NaN</td>\n",
       "      <td>Sports</td>\n",
       "      <td>4.26</td>\n",
       "      <td>0.26</td>\n",
       "      <td>0.01</td>\n",
       "      <td>0.71</td>\n",
       "      <td>94.0</td>\n",
       "      <td>8.5</td>\n",
       "      <td>E</td>\n",
       "    </tr>\n",
       "    <tr>\n",
       "      <th>377</th>\n",
       "      <td>fifa soccer 2004</td>\n",
       "      <td>PS2</td>\n",
       "      <td>NaN</td>\n",
       "      <td>Sports</td>\n",
       "      <td>0.59</td>\n",
       "      <td>2.36</td>\n",
       "      <td>0.04</td>\n",
       "      <td>0.51</td>\n",
       "      <td>84.0</td>\n",
       "      <td>6.4</td>\n",
       "      <td>E</td>\n",
       "    </tr>\n",
       "    <tr>\n",
       "      <th>456</th>\n",
       "      <td>lego batman: the videogame</td>\n",
       "      <td>Wii</td>\n",
       "      <td>NaN</td>\n",
       "      <td>Action</td>\n",
       "      <td>1.80</td>\n",
       "      <td>0.97</td>\n",
       "      <td>0.00</td>\n",
       "      <td>0.29</td>\n",
       "      <td>74.0</td>\n",
       "      <td>7.9</td>\n",
       "      <td>E10+</td>\n",
       "    </tr>\n",
       "    <tr>\n",
       "      <th>475</th>\n",
       "      <td>wwe smackdown vs. raw 2006</td>\n",
       "      <td>PS2</td>\n",
       "      <td>NaN</td>\n",
       "      <td>Fighting</td>\n",
       "      <td>1.57</td>\n",
       "      <td>1.02</td>\n",
       "      <td>0.00</td>\n",
       "      <td>0.41</td>\n",
       "      <td>NaN</td>\n",
       "      <td>NaN</td>\n",
       "      <td>NaN</td>\n",
       "    </tr>\n",
       "    <tr>\n",
       "      <th>609</th>\n",
       "      <td>space invaders</td>\n",
       "      <td>2600</td>\n",
       "      <td>NaN</td>\n",
       "      <td>Shooter</td>\n",
       "      <td>2.36</td>\n",
       "      <td>0.14</td>\n",
       "      <td>0.00</td>\n",
       "      <td>0.03</td>\n",
       "      <td>NaN</td>\n",
       "      <td>NaN</td>\n",
       "      <td>NaN</td>\n",
       "    </tr>\n",
       "    <tr>\n",
       "      <th>...</th>\n",
       "      <td>...</td>\n",
       "      <td>...</td>\n",
       "      <td>...</td>\n",
       "      <td>...</td>\n",
       "      <td>...</td>\n",
       "      <td>...</td>\n",
       "      <td>...</td>\n",
       "      <td>...</td>\n",
       "      <td>...</td>\n",
       "      <td>...</td>\n",
       "      <td>...</td>\n",
       "    </tr>\n",
       "    <tr>\n",
       "      <th>16373</th>\n",
       "      <td>pdc world championship darts 2008</td>\n",
       "      <td>PSP</td>\n",
       "      <td>NaN</td>\n",
       "      <td>Sports</td>\n",
       "      <td>0.01</td>\n",
       "      <td>0.00</td>\n",
       "      <td>0.00</td>\n",
       "      <td>0.00</td>\n",
       "      <td>43.0</td>\n",
       "      <td>tbd</td>\n",
       "      <td>E10+</td>\n",
       "    </tr>\n",
       "    <tr>\n",
       "      <th>16405</th>\n",
       "      <td>freaky flyers</td>\n",
       "      <td>GC</td>\n",
       "      <td>NaN</td>\n",
       "      <td>Racing</td>\n",
       "      <td>0.01</td>\n",
       "      <td>0.00</td>\n",
       "      <td>0.00</td>\n",
       "      <td>0.00</td>\n",
       "      <td>69.0</td>\n",
       "      <td>6.5</td>\n",
       "      <td>T</td>\n",
       "    </tr>\n",
       "    <tr>\n",
       "      <th>16448</th>\n",
       "      <td>inversion</td>\n",
       "      <td>PC</td>\n",
       "      <td>NaN</td>\n",
       "      <td>Shooter</td>\n",
       "      <td>0.01</td>\n",
       "      <td>0.00</td>\n",
       "      <td>0.00</td>\n",
       "      <td>0.00</td>\n",
       "      <td>59.0</td>\n",
       "      <td>6.7</td>\n",
       "      <td>M</td>\n",
       "    </tr>\n",
       "    <tr>\n",
       "      <th>16458</th>\n",
       "      <td>hakuouki: shinsengumi kitan</td>\n",
       "      <td>PS3</td>\n",
       "      <td>NaN</td>\n",
       "      <td>Adventure</td>\n",
       "      <td>0.01</td>\n",
       "      <td>0.00</td>\n",
       "      <td>0.00</td>\n",
       "      <td>0.00</td>\n",
       "      <td>NaN</td>\n",
       "      <td>NaN</td>\n",
       "      <td>NaN</td>\n",
       "    </tr>\n",
       "    <tr>\n",
       "      <th>16522</th>\n",
       "      <td>virtua quest</td>\n",
       "      <td>GC</td>\n",
       "      <td>NaN</td>\n",
       "      <td>Role-Playing</td>\n",
       "      <td>0.01</td>\n",
       "      <td>0.00</td>\n",
       "      <td>0.00</td>\n",
       "      <td>0.00</td>\n",
       "      <td>55.0</td>\n",
       "      <td>5.5</td>\n",
       "      <td>T</td>\n",
       "    </tr>\n",
       "  </tbody>\n",
       "</table>\n",
       "<p>268 rows × 11 columns</p>\n",
       "</div>"
      ],
      "text/plain": [
       "                                    Name Platform  Year_of_Release  \\\n",
       "183                      madden nfl 2004      PS2              NaN   \n",
       "377                     fifa soccer 2004      PS2              NaN   \n",
       "456           lego batman: the videogame      Wii              NaN   \n",
       "475           wwe smackdown vs. raw 2006      PS2              NaN   \n",
       "609                       space invaders     2600              NaN   \n",
       "...                                  ...      ...              ...   \n",
       "16373  pdc world championship darts 2008      PSP              NaN   \n",
       "16405                      freaky flyers       GC              NaN   \n",
       "16448                          inversion       PC              NaN   \n",
       "16458        hakuouki: shinsengumi kitan      PS3              NaN   \n",
       "16522                       virtua quest       GC              NaN   \n",
       "\n",
       "              Genre  NA_sales  EU_sales  JP_sales  Other_sales  Critic_Score  \\\n",
       "183          Sports      4.26      0.26      0.01         0.71          94.0   \n",
       "377          Sports      0.59      2.36      0.04         0.51          84.0   \n",
       "456          Action      1.80      0.97      0.00         0.29          74.0   \n",
       "475        Fighting      1.57      1.02      0.00         0.41           NaN   \n",
       "609         Shooter      2.36      0.14      0.00         0.03           NaN   \n",
       "...             ...       ...       ...       ...          ...           ...   \n",
       "16373        Sports      0.01      0.00      0.00         0.00          43.0   \n",
       "16405        Racing      0.01      0.00      0.00         0.00          69.0   \n",
       "16448       Shooter      0.01      0.00      0.00         0.00          59.0   \n",
       "16458     Adventure      0.01      0.00      0.00         0.00           NaN   \n",
       "16522  Role-Playing      0.01      0.00      0.00         0.00          55.0   \n",
       "\n",
       "      User_Score Rating  \n",
       "183          8.5      E  \n",
       "377          6.4      E  \n",
       "456          7.9   E10+  \n",
       "475          NaN    NaN  \n",
       "609          NaN    NaN  \n",
       "...          ...    ...  \n",
       "16373        tbd   E10+  \n",
       "16405        6.5      T  \n",
       "16448        6.7      M  \n",
       "16458        NaN    NaN  \n",
       "16522        5.5      T  \n",
       "\n",
       "[268 rows x 11 columns]"
      ]
     },
     "execution_count": 21,
     "metadata": {},
     "output_type": "execute_result"
    }
   ],
   "source": [
    "games[games['Year_of_Release'].isna()]"
   ]
  },
  {
   "cell_type": "markdown",
   "metadata": {},
   "source": [
    "Преобразуем нули на основе выхода той же игры на других платформах, удалив оставшиеся нули."
   ]
  },
  {
   "cell_type": "code",
   "execution_count": 22,
   "metadata": {},
   "outputs": [],
   "source": [
    "for index, row in games[games['Year_of_Release'].isna()].iterrows():\n",
    "    matching_row = games[(games['Name'] == row['Name']) & (~games['Year_of_Release'].isna())]\n",
    "    if not matching_row.empty:\n",
    "        games.at[index, 'Year_of_Release'] = matching_row['Year_of_Release'].values[0]\n",
    "    else:\n",
    "        games.drop(index, inplace=True)"
   ]
  },
  {
   "cell_type": "code",
   "execution_count": 23,
   "metadata": {},
   "outputs": [
    {
     "data": {
      "text/html": [
       "<div>\n",
       "<style scoped>\n",
       "    .dataframe tbody tr th:only-of-type {\n",
       "        vertical-align: middle;\n",
       "    }\n",
       "\n",
       "    .dataframe tbody tr th {\n",
       "        vertical-align: top;\n",
       "    }\n",
       "\n",
       "    .dataframe thead th {\n",
       "        text-align: right;\n",
       "    }\n",
       "</style>\n",
       "<table border=\"1\" class=\"dataframe\">\n",
       "  <thead>\n",
       "    <tr style=\"text-align: right;\">\n",
       "      <th></th>\n",
       "      <th>Name</th>\n",
       "      <th>Platform</th>\n",
       "      <th>Year_of_Release</th>\n",
       "      <th>Genre</th>\n",
       "      <th>NA_sales</th>\n",
       "      <th>EU_sales</th>\n",
       "      <th>JP_sales</th>\n",
       "      <th>Other_sales</th>\n",
       "      <th>Critic_Score</th>\n",
       "      <th>User_Score</th>\n",
       "      <th>Rating</th>\n",
       "    </tr>\n",
       "  </thead>\n",
       "  <tbody>\n",
       "  </tbody>\n",
       "</table>\n",
       "</div>"
      ],
      "text/plain": [
       "Empty DataFrame\n",
       "Columns: [Name, Platform, Year_of_Release, Genre, NA_sales, EU_sales, JP_sales, Other_sales, Critic_Score, User_Score, Rating]\n",
       "Index: []"
      ]
     },
     "execution_count": 23,
     "metadata": {},
     "output_type": "execute_result"
    }
   ],
   "source": [
    "games[games['Year_of_Release'].isna()]"
   ]
  },
  {
   "cell_type": "markdown",
   "metadata": {},
   "source": [
    "Проверим на неверные года"
   ]
  },
  {
   "cell_type": "code",
   "execution_count": 24,
   "metadata": {},
   "outputs": [
    {
     "name": "stdout",
     "output_type": "stream",
     "text": [
      "                                Name Platform  Year_of_Release         Genre  \\\n",
      "0                         wii sports      Wii           2006.0        Sports   \n",
      "1                  super mario bros.      NES           1985.0      Platform   \n",
      "2                     mario kart wii      Wii           2008.0        Racing   \n",
      "3                  wii sports resort      Wii           2009.0        Sports   \n",
      "4           pokemon red/pokemon blue       GB           1996.0  Role-Playing   \n",
      "...                              ...      ...              ...           ...   \n",
      "16710  samurai warriors: sanada maru      PS3           2016.0        Action   \n",
      "16711               lma manager 2007     X360           2006.0        Sports   \n",
      "16712        haitaka no psychedelica      PSV           2016.0     Adventure   \n",
      "16713               spirits & spells      GBA           2003.0      Platform   \n",
      "16714            winning post 8 2016      PSV           2016.0    Simulation   \n",
      "\n",
      "       NA_sales  EU_sales  JP_sales  Other_sales  Critic_Score User_Score  \\\n",
      "0         41.36     28.96      3.77         8.45          76.0          8   \n",
      "1         29.08      3.58      6.81         0.77           NaN        NaN   \n",
      "2         15.68     12.76      3.79         3.29          82.0        8.3   \n",
      "3         15.61     10.93      3.28         2.95          80.0          8   \n",
      "4         11.27      8.89     10.22         1.00           NaN        NaN   \n",
      "...         ...       ...       ...          ...           ...        ...   \n",
      "16710      0.00      0.00      0.01         0.00           NaN        NaN   \n",
      "16711      0.00      0.01      0.00         0.00           NaN        NaN   \n",
      "16712      0.00      0.00      0.01         0.00           NaN        NaN   \n",
      "16713      0.01      0.00      0.00         0.00           NaN        NaN   \n",
      "16714      0.00      0.00      0.01         0.00           NaN        NaN   \n",
      "\n",
      "      Rating  \n",
      "0          E  \n",
      "1        NaN  \n",
      "2          E  \n",
      "3          E  \n",
      "4        NaN  \n",
      "...      ...  \n",
      "16710    NaN  \n",
      "16711    NaN  \n",
      "16712    NaN  \n",
      "16713    NaN  \n",
      "16714    NaN  \n",
      "\n",
      "[16563 rows x 11 columns]\n"
     ]
    }
   ],
   "source": [
    "w1 = games[~games['Year_of_Release'].astype(str).str.contains(r'^\\d{4}$')]\n",
    "\n",
    "w1"
   ]
  },
  {
   "cell_type": "markdown",
   "metadata": {},
   "source": [
    "Как мы видели выше - год выхода это год, таким образом мы можем перевести его в int64"
   ]
  },
  {
   "cell_type": "code",
   "execution_count": 25,
   "metadata": {},
   "outputs": [],
   "source": [
    "games['Year_of_Release'] = games['Year_of_Release'].astype('int')"
   ]
  },
  {
   "cell_type": "markdown",
   "metadata": {},
   "source": [
    "#### Столбец Genre"
   ]
  },
  {
   "cell_type": "code",
   "execution_count": 26,
   "metadata": {},
   "outputs": [
    {
     "data": {
      "text/plain": [
       "array(['Sports', 'Platform', 'Racing', 'Role-Playing', 'Puzzle', 'Misc',\n",
       "       'Shooter', 'Simulation', 'Action', 'Fighting', 'Adventure',\n",
       "       'Strategy'], dtype=object)"
      ]
     },
     "execution_count": 26,
     "metadata": {},
     "output_type": "execute_result"
    }
   ],
   "source": [
    "games['Genre'].unique()"
   ]
  },
  {
   "cell_type": "markdown",
   "metadata": {},
   "source": [
    "Как мы видим, доб обработка избыточна."
   ]
  },
  {
   "cell_type": "markdown",
   "metadata": {},
   "source": [
    "#### Столбцы \"... Sales\""
   ]
  },
  {
   "cell_type": "code",
   "execution_count": 27,
   "metadata": {},
   "outputs": [
    {
     "data": {
      "text/plain": [
       "NA_sales       0\n",
       "EU_sales       0\n",
       "JP_sales       0\n",
       "Other_sales    0\n",
       "dtype: int64"
      ]
     },
     "execution_count": 27,
     "metadata": {},
     "output_type": "execute_result"
    }
   ],
   "source": [
    "games[['NA_sales','EU_sales','JP_sales', 'Other_sales']].isna().sum()"
   ]
  },
  {
   "cell_type": "markdown",
   "metadata": {},
   "source": [
    "Как мы видим, данные столбцы не содержат пропусков и, исходя из инфо, уже являются типом \"float\".\\\n",
    "Таким образом единственное, что мы можем сделать для удобства работы с информацией - соединить данные значения в единый столбец с общей суммой."
   ]
  },
  {
   "cell_type": "code",
   "execution_count": 28,
   "metadata": {},
   "outputs": [
    {
     "data": {
      "text/html": [
       "<div>\n",
       "<style scoped>\n",
       "    .dataframe tbody tr th:only-of-type {\n",
       "        vertical-align: middle;\n",
       "    }\n",
       "\n",
       "    .dataframe tbody tr th {\n",
       "        vertical-align: top;\n",
       "    }\n",
       "\n",
       "    .dataframe thead th {\n",
       "        text-align: right;\n",
       "    }\n",
       "</style>\n",
       "<table border=\"1\" class=\"dataframe\">\n",
       "  <thead>\n",
       "    <tr style=\"text-align: right;\">\n",
       "      <th></th>\n",
       "      <th>Name</th>\n",
       "      <th>Platform</th>\n",
       "      <th>Year_of_Release</th>\n",
       "      <th>Genre</th>\n",
       "      <th>NA_sales</th>\n",
       "      <th>EU_sales</th>\n",
       "      <th>JP_sales</th>\n",
       "      <th>Other_sales</th>\n",
       "      <th>Critic_Score</th>\n",
       "      <th>User_Score</th>\n",
       "      <th>Rating</th>\n",
       "      <th>Total_sales</th>\n",
       "    </tr>\n",
       "  </thead>\n",
       "  <tbody>\n",
       "    <tr>\n",
       "      <th>16676</th>\n",
       "      <td>g1 jockey 4 2008</td>\n",
       "      <td>PS3</td>\n",
       "      <td>2008</td>\n",
       "      <td>Sports</td>\n",
       "      <td>0.0</td>\n",
       "      <td>0.0</td>\n",
       "      <td>0.0</td>\n",
       "      <td>0.0</td>\n",
       "      <td>NaN</td>\n",
       "      <td>NaN</td>\n",
       "      <td>NaN</td>\n",
       "      <td>0.0</td>\n",
       "    </tr>\n",
       "    <tr>\n",
       "      <th>16709</th>\n",
       "      <td>score international baja 1000: the official game</td>\n",
       "      <td>PS2</td>\n",
       "      <td>2008</td>\n",
       "      <td>Racing</td>\n",
       "      <td>0.0</td>\n",
       "      <td>0.0</td>\n",
       "      <td>0.0</td>\n",
       "      <td>0.0</td>\n",
       "      <td>NaN</td>\n",
       "      <td>NaN</td>\n",
       "      <td>NaN</td>\n",
       "      <td>0.0</td>\n",
       "    </tr>\n",
       "  </tbody>\n",
       "</table>\n",
       "</div>"
      ],
      "text/plain": [
       "                                                   Name Platform  \\\n",
       "16676                                  g1 jockey 4 2008      PS3   \n",
       "16709  score international baja 1000: the official game      PS2   \n",
       "\n",
       "       Year_of_Release   Genre  NA_sales  EU_sales  JP_sales  Other_sales  \\\n",
       "16676             2008  Sports       0.0       0.0       0.0          0.0   \n",
       "16709             2008  Racing       0.0       0.0       0.0          0.0   \n",
       "\n",
       "       Critic_Score User_Score Rating  Total_sales  \n",
       "16676           NaN        NaN    NaN          0.0  \n",
       "16709           NaN        NaN    NaN          0.0  "
      ]
     },
     "execution_count": 28,
     "metadata": {},
     "output_type": "execute_result"
    }
   ],
   "source": [
    "games['Total_sales'] =  games[['NA_sales','EU_sales','JP_sales', 'Other_sales']].sum(axis = 1)\n",
    "games[games['Total_sales'] == 0.0 ]"
   ]
  },
  {
   "cell_type": "markdown",
   "metadata": {},
   "source": [
    "Как мы видим - строк с нулевым значением в сумме две, значит мы можем удалить их без потерь для точности анализа"
   ]
  },
  {
   "cell_type": "code",
   "execution_count": 29,
   "metadata": {},
   "outputs": [],
   "source": [
    "games = games[games['Total_sales'] != 0.0]"
   ]
  },
  {
   "cell_type": "markdown",
   "metadata": {},
   "source": [
    "#### Столбец \"Critic_score\""
   ]
  },
  {
   "cell_type": "code",
   "execution_count": 30,
   "metadata": {},
   "outputs": [
    {
     "data": {
      "text/plain": [
       "8490"
      ]
     },
     "execution_count": 30,
     "metadata": {},
     "output_type": "execute_result"
    }
   ],
   "source": [
    "games['Critic_Score'].isna().sum()"
   ]
  },
  {
   "cell_type": "markdown",
   "metadata": {},
   "source": [
    "Учитывая количество пропусков и невозможность восстановить изначальные значения, мы заменим NaN значения на -1 - таким образом их будет легко определить и это позволит привести столбец к типу \"float64\""
   ]
  },
  {
   "cell_type": "code",
   "execution_count": 31,
   "metadata": {},
   "outputs": [
    {
     "data": {
      "text/plain": [
       "-1.0     8490\n",
       " 70.0     253\n",
       " 71.0     252\n",
       " 75.0     243\n",
       " 78.0     238\n",
       "         ... \n",
       " 20.0       3\n",
       " 29.0       3\n",
       " 13.0       1\n",
       " 17.0       1\n",
       " 21.0       1\n",
       "Name: Critic_Score, Length: 82, dtype: int64"
      ]
     },
     "execution_count": 31,
     "metadata": {},
     "output_type": "execute_result"
    }
   ],
   "source": [
    "games['Critic_Score'] = games['Critic_Score'].fillna('-1')\n",
    "games['Critic_Score'] = games['Critic_Score'].astype('float') \n",
    "games['Critic_Score'].value_counts()"
   ]
  },
  {
   "cell_type": "markdown",
   "metadata": {},
   "source": [
    "#### Столбец \"User_Score\""
   ]
  },
  {
   "cell_type": "code",
   "execution_count": 32,
   "metadata": {},
   "outputs": [
    {
     "data": {
      "text/plain": [
       "6631"
      ]
     },
     "execution_count": 32,
     "metadata": {},
     "output_type": "execute_result"
    }
   ],
   "source": [
    "games['User_Score'].isna().sum()"
   ]
  },
  {
   "cell_type": "markdown",
   "metadata": {},
   "source": [
    "Аналогично критикам, но стоит обратить внимкание на \"tbd\" - To Be Determined, другими словами для преобразования во float необходимо их тоже заменить на -1"
   ]
  },
  {
   "cell_type": "code",
   "execution_count": 33,
   "metadata": {},
   "outputs": [
    {
     "data": {
      "text/plain": [
       "-1.0    9025\n",
       " 7.8     324\n",
       " 8.0     288\n",
       " 8.2     279\n",
       " 8.3     253\n",
       "        ... \n",
       " 0.7       2\n",
       " 0.2       2\n",
       " 1.0       2\n",
       " 9.7       1\n",
       " 0.0       1\n",
       "Name: User_Score, Length: 96, dtype: int64"
      ]
     },
     "execution_count": 33,
     "metadata": {},
     "output_type": "execute_result"
    }
   ],
   "source": [
    "games.loc[games['User_Score'] == 'tbd', 'User_Score'] = '-1'\n",
    "games['User_Score'] = games['User_Score'].fillna('-1')\n",
    "games['User_Score'] = games['User_Score'].astype('float') \n",
    "games['User_Score'].value_counts()"
   ]
  },
  {
   "cell_type": "markdown",
   "metadata": {},
   "source": [
    "#### Столбец \"Rating\""
   ]
  },
  {
   "cell_type": "markdown",
   "metadata": {},
   "source": [
    "Относительно рейтингов:\n",
    "- «EC» («Early childhood») — «Для детей младшего возраста»\n",
    "- «E» («Everyone») — «Для всех»\n",
    "- «E10+» («Everyone 10 and older») — «Для всех от 10 лет и старше»\n",
    "- «T» («Teen») — «Подросткам»\n",
    "- «M» («Mature») — «Для взрослых»:\n",
    "- «AO» («Adults Only 18+») — «Только для взрослых»\n",
    "- «RP» («Rating Pending») — «Рейтинг ожидается»\n",
    "- K-A - старый вариант маркировки E (for everyone)"
   ]
  },
  {
   "cell_type": "code",
   "execution_count": 34,
   "metadata": {},
   "outputs": [
    {
     "data": {
      "text/plain": [
       "6697"
      ]
     },
     "execution_count": 34,
     "metadata": {},
     "output_type": "execute_result"
    }
   ],
   "source": [
    "games['Rating'].isna().sum()"
   ]
  },
  {
   "cell_type": "code",
   "execution_count": 35,
   "metadata": {},
   "outputs": [
    {
     "data": {
      "text/plain": [
       "E       3957\n",
       "T       2928\n",
       "M       1554\n",
       "E10+    1411\n",
       "EC         8\n",
       "K-A        3\n",
       "RP         2\n",
       "AO         1\n",
       "Name: Rating, dtype: int64"
      ]
     },
     "execution_count": 35,
     "metadata": {},
     "output_type": "execute_result"
    }
   ],
   "source": [
    "games['Rating'].value_counts()"
   ]
  },
  {
   "cell_type": "markdown",
   "metadata": {},
   "source": [
    "1) Учитывая, что тип значений столбца - string, заполним пустоты \"unknown\"\n",
    "2) Исходя из рейтингов выше, можно заменить 'RP' на 'Unknown', 'K-A' на 'E' и 'AO' на 'M'"
   ]
  },
  {
   "cell_type": "code",
   "execution_count": 36,
   "metadata": {},
   "outputs": [
    {
     "data": {
      "text/plain": [
       "Unknown    6699\n",
       "E          3960\n",
       "T          2928\n",
       "M          1555\n",
       "E10+       1411\n",
       "EC            8\n",
       "Name: Rating, dtype: int64"
      ]
     },
     "execution_count": 36,
     "metadata": {},
     "output_type": "execute_result"
    }
   ],
   "source": [
    "games['Rating'] = games['Rating'].fillna('Unknown')\n",
    "games.loc[games['Rating'] == 'RP', 'Rating'] = 'Unknown'\n",
    "games.loc[games['Rating'].isin(['K-A']), 'Rating'] = 'E'\n",
    "games.loc[games['Rating'] == 'AO', 'Rating'] = 'M'\n",
    "\n",
    "games['Rating'].value_counts()"
   ]
  },
  {
   "cell_type": "markdown",
   "metadata": {},
   "source": [
    "Вывод: в течении предобработки мы заполнили все пустые значения, преобразовали строки в необходимый тип данных, перевели значения в змеиный язык и добавили столбец с общей прибылью. "
   ]
  },
  {
   "cell_type": "markdown",
   "metadata": {},
   "source": [
    "<div class=\"alert alert-info\"> Правки <div>"
   ]
  },
  {
   "cell_type": "markdown",
   "metadata": {},
   "source": [
    "Возникновение пропусков может быть связано с следующим:\n",
    "- Некорректная выгрузка из БД\n",
    "- Рукописный ввод значений редакторами, в то время как основной массив находится в другой таблице\n",
    "- Некорректный сбор информации из разных источников, затирающий\\упускающий некоторые из данных\n",
    "- Невнимательность пользователей при работе с таблицей (случайное удаление данных очень часая ошибка)\n",
    "- Правила безопасности игровых кампаний, запрещающие публикацию тех или иных данных"
   ]
  },
  {
   "cell_type": "markdown",
   "metadata": {},
   "source": [
    "### Шаг 3 - Исследовательский анализ данных"
   ]
  },
  {
   "cell_type": "markdown",
   "metadata": {},
   "source": [
    "#### 3.1 Выпуск игр.\n",
    "Посмотрите, сколько игр выпускалось в разные годы.\\\n",
    "Важны ли данные за все периоды?"
   ]
  },
  {
   "cell_type": "code",
   "execution_count": 37,
   "metadata": {},
   "outputs": [
    {
     "data": {
      "image/png": "[encoded data removed]",
      "text/plain": [
       "<Figure size 720x432 with 1 Axes>"
      ]
     },
     "metadata": {
      "needs_background": "light"
     },
     "output_type": "display_data"
    },
    {
     "data": {
      "text/plain": [
       "2008    1439\n",
       "2009    1430\n",
       "2010    1269\n",
       "2007    1202\n",
       "2011    1153\n",
       "Name: Year_of_Release, dtype: int64"
      ]
     },
     "execution_count": 37,
     "metadata": {},
     "output_type": "execute_result"
    }
   ],
   "source": [
    "games_by_year = games.pivot_table(index='Year_of_Release', values='Total_sales', aggfunc='count')\n",
    "plt.figure(figsize=(10, 6))\n",
    "(sns.lineplot(data = games_by_year, x = games_by_year.index, y = 'Total_sales', color = 'blue')\n",
    "    .set(title = 'Динамика выпуска игр по годам', xlabel = 'Год', ylabel = 'Количество выпущенных игр'))\n",
    "plt.show()\n",
    "\n",
    "games['Year_of_Release'].value_counts().head()"
   ]
  },
  {
   "cell_type": "markdown",
   "metadata": {},
   "source": [
    "*Вывод*: \n",
    "- На графике видно, что развитие игр с 1980 года по 2000 было слабым.\n",
    "- В 2000 году мы видим активный рост производства игр, продолжающийся до 2009 года.\n",
    "- На 2008 и 2009 год приходится пик графика - в эти года производили больше всего игр (свыше 1400).\n",
    "- Начиная с 2010 года количество выпускаемых игр значительно снизилось и остановилось на отметке около 500.\\\n",
    "Так же стоит отметить важность данные за все периоды, поскольку они позволяют проследить динамику разработки игр. "
   ]
  },
  {
   "cell_type": "markdown",
   "metadata": {},
   "source": [
    "#### 3.2 Продажи по платформам\n",
    "Посмотрите, как менялись продажи по платформам.\\\n",
    "Выберите платформы с наибольшими суммарными продажами и постройте распределение по годам.\\\n",
    " За какой характерный срок появляются новые и исчезают старые платформы?"
   ]
  },
  {
   "cell_type": "code",
   "execution_count": 38,
   "metadata": {},
   "outputs": [
    {
     "data": {
      "image/png": "[encoded data removed]",
      "text/plain": [
       "<Figure size 936x504 with 1 Axes>"
      ]
     },
     "metadata": {
      "needs_background": "light"
     },
     "output_type": "display_data"
    }
   ],
   "source": [
    "platform_sales = (games.pivot_table(index='Platform', values='Total_sales', aggfunc='sum')\n",
    "    .sort_values('Total_sales', ascending=False)\n",
    ")\n",
    "plt.figure(figsize=(13, 7))\n",
    "(sns.barplot(data = platform_sales, x = platform_sales.index, y = 'Total_sales', color = 'blue')\n",
    "    .set(title = 'Продажи по платформам', xlabel = 'Платформы', ylabel = 'Общие продажи'))\n",
    "plt.show()"
   ]
  },
  {
   "cell_type": "code",
   "execution_count": 39,
   "metadata": {},
   "outputs": [
    {
     "data": {
      "image/png": "[encoded data removed]",
      "text/plain": [
       "<Figure size 720x504 with 8 Axes>"
      ]
     },
     "metadata": {
      "needs_background": "light"
     },
     "output_type": "display_data"
    }
   ],
   "source": [
    "fig, axs = plt.subplots(2, 4, figsize=(10, 7))\n",
    "\n",
    "for i, platform in enumerate(platform_sales.index[:8]):\n",
    "    ax = axs[i//4, i%4]\n",
    "    platform_data = games.query('Platform == @platform').pivot_table(index='Year_of_Release', values='Total_sales', aggfunc='sum')\n",
    "    platform_data.plot(kind='bar', title='Продажи по годам для ' + platform, ax=ax)\n",
    "    ax.set_xlabel('Год')\n",
    "    ax.set_ylabel('Продажи')\n",
    "    ax.legend([platform])\n",
    "\n",
    "plt.tight_layout()\n",
    "plt.show()"
   ]
  },
  {
   "cell_type": "markdown",
   "metadata": {},
   "source": [
    "Наибольшее количество продаж было у игр для PS2.\\\n",
    "Это легко объясняется тем, что японские производители далеко шагнули вперед в плане развития игровых консолей.\\\n",
    "Из-за отсуттствия аналогов по качеству\\количеству игр, люди охотно покупали  PS2, а вместе с ней и игры. \n",
    "\n",
    "В топ 6 конкурентов среди продаж вошли:\n",
    "- PlayStation 2 (успешен в 2002-2004 годах)\n",
    "- Xbox360 (успешен в 2010-2011 годах)\n",
    "- PlayStation 3 (успешен в 2008-2011 годах)\n",
    "- Wii Nintendo (успешен в 2006-2009 годах)\n",
    "- Nintendo DS (успешен в 2007-2008 годах)\n",
    "- PlayStation (успешен в 1998-1999 годах)\n",
    "\n",
    "Остальные консоли не могут похвастаться подобными продажами, что видно по топ 7 и 8(PS4 & GBA). \n",
    "\n",
    "Таким образом мы видим, что новые платформы быстро набирают популярность, наращивают/удерживают ее в течение 3-4 лет и затем их продажи снижаются."
   ]
  },
  {
   "cell_type": "markdown",
   "metadata": {},
   "source": [
    "#### 3.3 Актуальное на 2017\n",
    "Возьмите данные за соответствующий актуальный период.\\\n",
    "Актуальный период определите самостоятельно в результате исследования предыдущих вопросов.\\\n",
    "Основной фактор — эти данные помогут построить прогноз на 2017 год."
   ]
  },
  {
   "cell_type": "markdown",
   "metadata": {},
   "source": [
    "В рамках данного анализа будем считать 2014-2016 гг актуальными и работать исходя их этого"
   ]
  },
  {
   "cell_type": "code",
   "execution_count": 40,
   "metadata": {},
   "outputs": [
    {
     "data": {
      "text/html": [
       "<div>\n",
       "<style scoped>\n",
       "    .dataframe tbody tr th:only-of-type {\n",
       "        vertical-align: middle;\n",
       "    }\n",
       "\n",
       "    .dataframe tbody tr th {\n",
       "        vertical-align: top;\n",
       "    }\n",
       "\n",
       "    .dataframe thead th {\n",
       "        text-align: right;\n",
       "    }\n",
       "</style>\n",
       "<table border=\"1\" class=\"dataframe\">\n",
       "  <thead>\n",
       "    <tr style=\"text-align: right;\">\n",
       "      <th></th>\n",
       "      <th>Name</th>\n",
       "      <th>Platform</th>\n",
       "      <th>Year_of_Release</th>\n",
       "      <th>Genre</th>\n",
       "      <th>NA_sales</th>\n",
       "      <th>EU_sales</th>\n",
       "      <th>JP_sales</th>\n",
       "      <th>Other_sales</th>\n",
       "      <th>Critic_Score</th>\n",
       "      <th>User_Score</th>\n",
       "      <th>Rating</th>\n",
       "      <th>Total_sales</th>\n",
       "    </tr>\n",
       "  </thead>\n",
       "  <tbody>\n",
       "    <tr>\n",
       "      <th>31</th>\n",
       "      <td>call of duty: black ops 3</td>\n",
       "      <td>PS4</td>\n",
       "      <td>2015</td>\n",
       "      <td>Shooter</td>\n",
       "      <td>6.03</td>\n",
       "      <td>5.86</td>\n",
       "      <td>0.36</td>\n",
       "      <td>2.38</td>\n",
       "      <td>-1.0</td>\n",
       "      <td>-1.0</td>\n",
       "      <td>Unknown</td>\n",
       "      <td>14.63</td>\n",
       "    </tr>\n",
       "    <tr>\n",
       "      <th>42</th>\n",
       "      <td>grand theft auto v</td>\n",
       "      <td>PS4</td>\n",
       "      <td>2014</td>\n",
       "      <td>Action</td>\n",
       "      <td>3.96</td>\n",
       "      <td>6.31</td>\n",
       "      <td>0.38</td>\n",
       "      <td>1.97</td>\n",
       "      <td>97.0</td>\n",
       "      <td>8.3</td>\n",
       "      <td>M</td>\n",
       "      <td>12.62</td>\n",
       "    </tr>\n",
       "    <tr>\n",
       "      <th>47</th>\n",
       "      <td>pokemon omega ruby/pokemon alpha sapphire</td>\n",
       "      <td>3DS</td>\n",
       "      <td>2014</td>\n",
       "      <td>Role-Playing</td>\n",
       "      <td>4.35</td>\n",
       "      <td>3.49</td>\n",
       "      <td>3.10</td>\n",
       "      <td>0.74</td>\n",
       "      <td>-1.0</td>\n",
       "      <td>-1.0</td>\n",
       "      <td>Unknown</td>\n",
       "      <td>11.68</td>\n",
       "    </tr>\n",
       "    <tr>\n",
       "      <th>77</th>\n",
       "      <td>fifa 16</td>\n",
       "      <td>PS4</td>\n",
       "      <td>2015</td>\n",
       "      <td>Sports</td>\n",
       "      <td>1.12</td>\n",
       "      <td>6.12</td>\n",
       "      <td>0.06</td>\n",
       "      <td>1.28</td>\n",
       "      <td>82.0</td>\n",
       "      <td>4.3</td>\n",
       "      <td>E</td>\n",
       "      <td>8.58</td>\n",
       "    </tr>\n",
       "    <tr>\n",
       "      <th>87</th>\n",
       "      <td>star wars battlefront (2015)</td>\n",
       "      <td>PS4</td>\n",
       "      <td>2015</td>\n",
       "      <td>Shooter</td>\n",
       "      <td>2.99</td>\n",
       "      <td>3.49</td>\n",
       "      <td>0.22</td>\n",
       "      <td>1.28</td>\n",
       "      <td>-1.0</td>\n",
       "      <td>-1.0</td>\n",
       "      <td>Unknown</td>\n",
       "      <td>7.98</td>\n",
       "    </tr>\n",
       "    <tr>\n",
       "      <th>...</th>\n",
       "      <td>...</td>\n",
       "      <td>...</td>\n",
       "      <td>...</td>\n",
       "      <td>...</td>\n",
       "      <td>...</td>\n",
       "      <td>...</td>\n",
       "      <td>...</td>\n",
       "      <td>...</td>\n",
       "      <td>...</td>\n",
       "      <td>...</td>\n",
       "      <td>...</td>\n",
       "      <td>...</td>\n",
       "    </tr>\n",
       "    <tr>\n",
       "      <th>16703</th>\n",
       "      <td>strawberry nauts</td>\n",
       "      <td>PSV</td>\n",
       "      <td>2016</td>\n",
       "      <td>Adventure</td>\n",
       "      <td>0.00</td>\n",
       "      <td>0.00</td>\n",
       "      <td>0.01</td>\n",
       "      <td>0.00</td>\n",
       "      <td>-1.0</td>\n",
       "      <td>-1.0</td>\n",
       "      <td>Unknown</td>\n",
       "      <td>0.01</td>\n",
       "    </tr>\n",
       "    <tr>\n",
       "      <th>16707</th>\n",
       "      <td>aiyoku no eustia</td>\n",
       "      <td>PSV</td>\n",
       "      <td>2014</td>\n",
       "      <td>Misc</td>\n",
       "      <td>0.00</td>\n",
       "      <td>0.00</td>\n",
       "      <td>0.01</td>\n",
       "      <td>0.00</td>\n",
       "      <td>-1.0</td>\n",
       "      <td>-1.0</td>\n",
       "      <td>Unknown</td>\n",
       "      <td>0.01</td>\n",
       "    </tr>\n",
       "    <tr>\n",
       "      <th>16710</th>\n",
       "      <td>samurai warriors: sanada maru</td>\n",
       "      <td>PS3</td>\n",
       "      <td>2016</td>\n",
       "      <td>Action</td>\n",
       "      <td>0.00</td>\n",
       "      <td>0.00</td>\n",
       "      <td>0.01</td>\n",
       "      <td>0.00</td>\n",
       "      <td>-1.0</td>\n",
       "      <td>-1.0</td>\n",
       "      <td>Unknown</td>\n",
       "      <td>0.01</td>\n",
       "    </tr>\n",
       "    <tr>\n",
       "      <th>16712</th>\n",
       "      <td>haitaka no psychedelica</td>\n",
       "      <td>PSV</td>\n",
       "      <td>2016</td>\n",
       "      <td>Adventure</td>\n",
       "      <td>0.00</td>\n",
       "      <td>0.00</td>\n",
       "      <td>0.01</td>\n",
       "      <td>0.00</td>\n",
       "      <td>-1.0</td>\n",
       "      <td>-1.0</td>\n",
       "      <td>Unknown</td>\n",
       "      <td>0.01</td>\n",
       "    </tr>\n",
       "    <tr>\n",
       "      <th>16714</th>\n",
       "      <td>winning post 8 2016</td>\n",
       "      <td>PSV</td>\n",
       "      <td>2016</td>\n",
       "      <td>Simulation</td>\n",
       "      <td>0.00</td>\n",
       "      <td>0.00</td>\n",
       "      <td>0.01</td>\n",
       "      <td>0.00</td>\n",
       "      <td>-1.0</td>\n",
       "      <td>-1.0</td>\n",
       "      <td>Unknown</td>\n",
       "      <td>0.01</td>\n",
       "    </tr>\n",
       "  </tbody>\n",
       "</table>\n",
       "<p>1689 rows × 12 columns</p>\n",
       "</div>"
      ],
      "text/plain": [
       "                                            Name Platform  Year_of_Release  \\\n",
       "31                     call of duty: black ops 3      PS4             2015   \n",
       "42                            grand theft auto v      PS4             2014   \n",
       "47     pokemon omega ruby/pokemon alpha sapphire      3DS             2014   \n",
       "77                                       fifa 16      PS4             2015   \n",
       "87                  star wars battlefront (2015)      PS4             2015   \n",
       "...                                          ...      ...              ...   \n",
       "16703                           strawberry nauts      PSV             2016   \n",
       "16707                           aiyoku no eustia      PSV             2014   \n",
       "16710              samurai warriors: sanada maru      PS3             2016   \n",
       "16712                    haitaka no psychedelica      PSV             2016   \n",
       "16714                        winning post 8 2016      PSV             2016   \n",
       "\n",
       "              Genre  NA_sales  EU_sales  JP_sales  Other_sales  Critic_Score  \\\n",
       "31          Shooter      6.03      5.86      0.36         2.38          -1.0   \n",
       "42           Action      3.96      6.31      0.38         1.97          97.0   \n",
       "47     Role-Playing      4.35      3.49      3.10         0.74          -1.0   \n",
       "77           Sports      1.12      6.12      0.06         1.28          82.0   \n",
       "87          Shooter      2.99      3.49      0.22         1.28          -1.0   \n",
       "...             ...       ...       ...       ...          ...           ...   \n",
       "16703     Adventure      0.00      0.00      0.01         0.00          -1.0   \n",
       "16707          Misc      0.00      0.00      0.01         0.00          -1.0   \n",
       "16710        Action      0.00      0.00      0.01         0.00          -1.0   \n",
       "16712     Adventure      0.00      0.00      0.01         0.00          -1.0   \n",
       "16714    Simulation      0.00      0.00      0.01         0.00          -1.0   \n",
       "\n",
       "       User_Score   Rating  Total_sales  \n",
       "31           -1.0  Unknown        14.63  \n",
       "42            8.3        M        12.62  \n",
       "47           -1.0  Unknown        11.68  \n",
       "77            4.3        E         8.58  \n",
       "87           -1.0  Unknown         7.98  \n",
       "...           ...      ...          ...  \n",
       "16703        -1.0  Unknown         0.01  \n",
       "16707        -1.0  Unknown         0.01  \n",
       "16710        -1.0  Unknown         0.01  \n",
       "16712        -1.0  Unknown         0.01  \n",
       "16714        -1.0  Unknown         0.01  \n",
       "\n",
       "[1689 rows x 12 columns]"
      ]
     },
     "execution_count": 40,
     "metadata": {},
     "output_type": "execute_result"
    }
   ],
   "source": [
    "actual_games = games.query('Year_of_Release >= 2014').copy()\n",
    "actual_games"
   ]
  },
  {
   "cell_type": "markdown",
   "metadata": {},
   "source": [
    "#### 3.4 Рост и падение в актуальных годах\n",
    "Какие платформы лидируют по продажам, растут или падают? Выберите несколько потенциально прибыльных платформ."
   ]
  },
  {
   "cell_type": "code",
   "execution_count": 41,
   "metadata": {},
   "outputs": [
    {
     "data": {
      "image/png": "[encoded data removed]",
      "text/plain": [
       "<Figure size 720x432 with 1 Axes>"
      ]
     },
     "metadata": {
      "needs_background": "light"
     },
     "output_type": "display_data"
    }
   ],
   "source": [
    "actual_platform_sales = (\n",
    "    actual_games\n",
    "    .pivot_table(index='Platform', values='Total_sales', aggfunc='sum')\n",
    "    .sort_values('Total_sales', ascending=False)\n",
    ")\n",
    "plt.figure(figsize=(10, 6))\n",
    "(sns.barplot(data = actual_platform_sales, x = actual_platform_sales.index, y = 'Total_sales', color = 'blue')\n",
    "    .set(title = 'Продажи по платформам за 2014-2016 гг', xlabel = 'Платформы', ylabel = 'Общие продажи'))\n",
    "plt.show()"
   ]
  },
  {
   "cell_type": "code",
   "execution_count": 42,
   "metadata": {},
   "outputs": [
    {
     "data": {
      "image/png": "[encoded data removed]",
      "text/plain": [
       "<Figure size 720x504 with 9 Axes>"
      ]
     },
     "metadata": {
      "needs_background": "light"
     },
     "output_type": "display_data"
    }
   ],
   "source": [
    "fig, axs = plt.subplots(3, 3, figsize=(10, 7))\n",
    "\n",
    "for i, platform in enumerate(actual_platform_sales.index[:9]):\n",
    "    ax = axs[i//3, i%3]\n",
    "    platform_data = actual_games.query('Platform == @platform').pivot_table(index='Year_of_Release', values='Total_sales', aggfunc='sum')\n",
    "    platform_data.plot(kind='bar', title='Продажи по годам для ' + platform, ax=ax)\n",
    "    ax.set_xlabel('Год')\n",
    "    ax.set_ylabel('Продажи')\n",
    "    ax.legend([platform])\n",
    "\n",
    "plt.tight_layout()\n",
    "plt.show()"
   ]
  },
  {
   "cell_type": "code",
   "execution_count": 43,
   "metadata": {},
   "outputs": [
    {
     "data": {
      "image/png": "[encoded data removed]",
      "text/plain": [
       "<Figure size 1080x360 with 3 Axes>"
      ]
     },
     "metadata": {
      "needs_background": "light"
     },
     "output_type": "display_data"
    }
   ],
   "source": [
    "top3_profitable_platforms = actual_platform_sales.head(3)\n",
    "bottom3_unprofitable_platforms = actual_platform_sales.tail(3)\n",
    "\n",
    "plt.figure(figsize=(15, 5))\n",
    "\n",
    "plt.subplot(1, 3, 1)\n",
    "sns.barplot(data=actual_platform_sales, x=actual_platform_sales.index, y='Total_sales', color='blue')\n",
    "plt.title('Продажи по платформам за 2014-2016 гг')\n",
    "plt.xlabel('Платформы')\n",
    "plt.ylabel('Общие продажи')\n",
    "\n",
    "plt.subplot(1, 3, 2)\n",
    "sns.barplot(data=top3_profitable_platforms, x=top3_profitable_platforms.index, y='Total_sales', color='green')\n",
    "plt.title('Три самых прибыльные платформы')\n",
    "plt.xlabel('Платформы')\n",
    "plt.ylabel('Общие продажи')\n",
    "\n",
    "plt.subplot(1, 3, 3)\n",
    "sns.barplot(data=bottom3_unprofitable_platforms, x=bottom3_unprofitable_platforms.index, y='Total_sales', color='red')\n",
    "plt.title('Три самых неприбыльные платформы')\n",
    "plt.xlabel('Платформы')\n",
    "plt.ylabel('Общие продажи')\n",
    "\n",
    "plt.tight_layout()\n",
    "plt.show()"
   ]
  },
  {
   "cell_type": "markdown",
   "metadata": {},
   "source": [
    "**Вывод**: На данном графике видно, что платформы, показывающие успешные показатели по продажам за 2014-2016 год значительно отличаются от того графика, где представлены продажи платформ за все время.\\\n",
    "Если раньше лидером по продажам был PS2, то сейчас на лидирующей строчке оказалась PS4, и почетное второе место по продажам игр за 2014-2016 год занимает XboxOne."
   ]
  },
  {
   "cell_type": "markdown",
   "metadata": {},
   "source": [
    "#### 3.5 Ящик с усами\n",
    "Постройте график «ящик с усами» по глобальным продажам игр в разбивке по платформам. Опишите результат.\n"
   ]
  },
  {
   "cell_type": "code",
   "execution_count": 44,
   "metadata": {},
   "outputs": [
    {
     "data": {
      "image/png": "[encoded data removed]",
      "text/plain": [
       "<Figure size 360x216 with 1 Axes>"
      ]
     },
     "metadata": {
      "needs_background": "light"
     },
     "output_type": "display_data"
    }
   ],
   "source": [
    "box = actual_games.boxplot(column='Total_sales', by='Platform', figsize=(5, 3), patch_artist=True)\n",
    "plt.xlabel('Платформа')\n",
    "plt.ylabel('Продажи')\n",
    "plt.title('Распределение продаж игр по платформам')\n",
    "plt.show()"
   ]
  },
  {
   "cell_type": "code",
   "execution_count": 45,
   "metadata": {},
   "outputs": [
    {
     "data": {
      "image/png": "[encoded data removed]",
      "text/plain": [
       "<Figure size 720x504 with 1 Axes>"
      ]
     },
     "metadata": {
      "needs_background": "light"
     },
     "output_type": "display_data"
    }
   ],
   "source": [
    "plt.figure(figsize=(10, 7))\n",
    "(sns.boxplot(data = actual_games, y = 'Total_sales', x='Platform')\n",
    "    .set(title = 'Продажи по перспективным платформам за 2014-2016 гг', \n",
    "         xlabel = 'Платформы', \n",
    "         ylabel = 'Общие продажи',\n",
    "         ylim=(0, 2)))\n",
    "plt.show()"
   ]
  },
  {
   "cell_type": "markdown",
   "metadata": {},
   "source": [
    "**Вывод**: На данном графике видно, что распределение продаж среди платформ примерно одинаковое и медиана продаж находится на примерно одном уровне (0,1 - 0,2 миллиона проданных копий). \\\n",
    "Также можно отметить значения у наиболее продаваемых платформ, выходящие за пределы 3 квартиля, доходящие почти до 15 млн проданных копий. \\\n",
    "Данные значения не являются выбросами, так как демонстрируют нам наиболее продаваемые игры."
   ]
  },
  {
   "cell_type": "markdown",
   "metadata": {},
   "source": [
    "#### 3.6 Влияние на продажи внутри одной популярной платформы отзывов пользователей и критиков\n",
    "Посмотрите, как влияют на продажи внутри одной популярной платформы отзывы пользователей и критиков.\\\n",
    " Постройте диаграмму рассеяния и посчитайте корреляцию между отзывами и продажами.\\\n",
    "  Сформулируйте выводы."
   ]
  },
  {
   "cell_type": "code",
   "execution_count": 46,
   "metadata": {},
   "outputs": [
    {
     "data": {
      "image/png": "[encoded data removed]",
      "text/plain": [
       "<Figure size 1080x360 with 2 Axes>"
      ]
     },
     "metadata": {
      "needs_background": "light"
     },
     "output_type": "display_data"
    },
    {
     "data": {
      "image/png": "[encoded data removed]",
      "text/plain": [
       "<Figure size 576x432 with 2 Axes>"
      ]
     },
     "metadata": {
      "needs_background": "light"
     },
     "output_type": "display_data"
    }
   ],
   "source": [
    "games_on_platform = actual_games.query('Platform == \"PS4\" & Critic_Score != -1 & User_Score != -1')\n",
    "\n",
    "fig, (ax1, ax2) = plt.subplots(1, 2, figsize=(15, 5))\n",
    "\n",
    "games_on_platform[games_on_platform['Critic_Score'] != '-1'].plot(\n",
    "    kind='scatter', \n",
    "    x='Critic_Score', \n",
    "    y='Total_sales', \n",
    "    ax=ax1\n",
    ")\n",
    "ax1.set_title('Связь оценок критиков с продажами PS4')\n",
    "\n",
    "games_on_platform[games_on_platform['User_Score'] != '-1'].plot(\n",
    "    kind='scatter', \n",
    "    x='User_Score',\n",
    "    y='Total_sales', \n",
    "    ax=ax2\n",
    ")\n",
    "ax2.set_title('Связь оценок игроков с продажами PS4')\n",
    "\n",
    "plt.show()\n",
    "\n",
    "correlation_matrix = games_on_platform[(games_on_platform['Critic_Score'] != '-1') & (games_on_platform['User_Score'] != '-1')][['Critic_Score', 'User_Score', 'Total_sales']].corr()\n",
    "plt.figure(figsize=(8, 6))\n",
    "sns.heatmap(correlation_matrix, annot=True, cmap='coolwarm', linewidths=.5)\n",
    "plt.title('Матрица корреляции')\n",
    "plt.show()"
   ]
  },
  {
   "cell_type": "code",
   "execution_count": 47,
   "metadata": {},
   "outputs": [
    {
     "data": {
      "image/png": "[encoded data removed]",
      "text/plain": [
       "<Figure size 1080x360 with 2 Axes>"
      ]
     },
     "metadata": {
      "needs_background": "light"
     },
     "output_type": "display_data"
    },
    {
     "data": {
      "image/png": "[encoded data removed]",
      "text/plain": [
       "<Figure size 576x432 with 2 Axes>"
      ]
     },
     "metadata": {
      "needs_background": "light"
     },
     "output_type": "display_data"
    }
   ],
   "source": [
    "games_on_platform = actual_games.query('Platform == \"XOne\" & Critic_Score != -1 & User_Score != -1')\n",
    "\n",
    "fig, (ax1, ax2) = plt.subplots(1, 2, figsize=(15, 5))\n",
    "\n",
    "games_on_platform[games_on_platform['Critic_Score'] != '-1'].plot(\n",
    "    kind='scatter', \n",
    "    x='Critic_Score', \n",
    "    y='Total_sales', \n",
    "    ax=ax1\n",
    ")\n",
    "ax1.set_title('Связь оценок критиков с продажами XOne')\n",
    "\n",
    "games_on_platform[games_on_platform['User_Score'] != '-1'].plot(\n",
    "    kind='scatter', \n",
    "    x='User_Score',\n",
    "    y='Total_sales', \n",
    "    ax=ax2\n",
    ")\n",
    "ax2.set_title('Связь оценок игроков с продажами XOne')\n",
    "\n",
    "plt.show()\n",
    "\n",
    "correlation_matrix = games_on_platform[(games_on_platform['Critic_Score'] != '-1') & (games_on_platform['User_Score'] != '-1')][['Critic_Score', 'User_Score', 'Total_sales']].corr()\n",
    "plt.figure(figsize=(8, 6))\n",
    "sns.heatmap(correlation_matrix, annot=True, cmap='coolwarm', linewidths=.5)\n",
    "plt.title('Матрица корреляции')\n",
    "plt.show()"
   ]
  },
  {
   "cell_type": "code",
   "execution_count": 61,
   "metadata": {},
   "outputs": [
    {
     "data": {
      "image/png": "[encoded data removed]",
      "text/plain": [
       "<Figure size 1080x360 with 2 Axes>"
      ]
     },
     "metadata": {
      "needs_background": "light"
     },
     "output_type": "display_data"
    },
    {
     "data": {
      "image/png": "[encoded data removed]",
      "text/plain": [
       "<Figure size 576x432 with 2 Axes>"
      ]
     },
     "metadata": {
      "needs_background": "light"
     },
     "output_type": "display_data"
    }
   ],
   "source": [
    "games_on_platform = actual_games.query('Platform == \"PS3\" & Critic_Score != -1 & User_Score != -1')\n",
    "\n",
    "fig, (ax1, ax2) = plt.subplots(1, 2, figsize=(15, 5))\n",
    "\n",
    "games_on_platform[games_on_platform['Critic_Score'] != '-1'].plot(\n",
    "    kind='scatter', \n",
    "    x='Critic_Score', \n",
    "    y='Total_sales', \n",
    "    ax=ax1\n",
    ")\n",
    "ax1.set_title('Связь оценок критиков с продажами PS3')\n",
    "\n",
    "games_on_platform[games_on_platform['User_Score'] != '-1'].plot(\n",
    "    kind='scatter', \n",
    "    x='User_Score',\n",
    "    y='Total_sales', \n",
    "    ax=ax2\n",
    ")\n",
    "ax2.set_title('Связь оценок игроков с продажами PS3')\n",
    "\n",
    "plt.show()\n",
    "\n",
    "correlation_matrix = games_on_platform[(games_on_platform['Critic_Score'] != '-1') & (games_on_platform['User_Score'] != '-1')][['Critic_Score', 'User_Score', 'Total_sales']].corr()\n",
    "plt.figure(figsize=(8, 6))\n",
    "sns.heatmap(correlation_matrix, annot=True, cmap='coolwarm', linewidths=.5)\n",
    "plt.title('Матрица корреляции')\n",
    "plt.show()"
   ]
  },
  {
   "cell_type": "markdown",
   "metadata": {},
   "source": [
    "<div class=\"alert alert-info\"> Правки <div>"
   ]
  },
  {
   "cell_type": "markdown",
   "metadata": {},
   "source": [
    "**Вывод**: как видно из графиков и матрицы, для наиболее популярных консолей корреляции между пользовательскими оценками и продажами нет, так как значение отрицательное,\\\n",
    "в то время как оценки критиков влияют на продажи игр, о чём нам говорит корреляция в 40 процентов: чем выше оценка критиков, тем больше происходит продаж. \\\n",
    "В то же время общая статистика имеет некоторые отличия: корреляция между пользовательскими оценками и продажами всё так же близка к нулю, а оценки критиков оказывают влияние всего на треть покупок.\\\n",
    "Таким образом мы можем сказать, что на выбор каждого третьего при покупке повлияла оценка эксперта, в то время как оценка пользователей не имеет влияния на мнение покупателей."
   ]
  },
  {
   "cell_type": "markdown",
   "metadata": {},
   "source": [
    "<div class=\"alert alert-block alert-danger\">\n",
    "    \n",
    "\n",
    "__Комментарий от ревьюера №1__\n",
    "\n",
    "По заданию нужно соотнести выводы с продажами игр на других платформах, ведь выводы, сделанные на основе расчетов по нескольким платформам выглядят \"весомей\" и убедительней\n",
    "</div>"
   ]
  },
  {
   "cell_type": "markdown",
   "metadata": {},
   "source": [
    "#### 3.7 Распределение по жанрам.\n",
    "Посмотрите на общее распределение игр по жанрам. \\\n",
    "Что можно сказать о самых прибыльных жанрах? \\\n",
    "Выделяются ли жанры с высокими и низкими продажами?"
   ]
  },
  {
   "cell_type": "markdown",
   "metadata": {},
   "source": [
    "По всем платформам"
   ]
  },
  {
   "cell_type": "code",
   "execution_count": 49,
   "metadata": {},
   "outputs": [
    {
     "data": {
      "image/png": "[encoded data removed]",
      "text/plain": [
       "<Figure size 792x360 with 1 Axes>"
      ]
     },
     "metadata": {
      "needs_background": "light"
     },
     "output_type": "display_data"
    },
    {
     "data": {
      "image/png": "[encoded data removed]",
      "text/plain": [
       "<Figure size 1080x360 with 2 Axes>"
      ]
     },
     "metadata": {
      "needs_background": "light"
     },
     "output_type": "display_data"
    }
   ],
   "source": [
    "platform_sales_fresh = (\n",
    "    actual_games\n",
    "    .pivot_table(index='Genre', values='Total_sales', aggfunc='sum')\n",
    "    .sort_values('Total_sales', ascending=False)\n",
    ")\n",
    "\n",
    "plt.figure(figsize=(11, 5))\n",
    "(sns.barplot(data = platform_sales_fresh, x = platform_sales_fresh.index, y = 'Total_sales', color = 'blue')\n",
    "    .set(title = 'Продажи по жанрам за 2014-2016 гг', xlabel = 'Жанры', ylabel = 'Общие продажи'))\n",
    "\n",
    "plt.show()\n",
    "\n",
    "top3_profitable_genres = platform_sales_fresh.head(3)\n",
    "bottom3_unprofitable_genres = platform_sales_fresh.tail(3)\n",
    "\n",
    "plt.figure(figsize=(15, 5))\n",
    "\n",
    "plt.subplot(1, 3, 2)\n",
    "sns.barplot(data=top3_profitable_genres, x=top3_profitable_genres.index, y='Total_sales', color='green')\n",
    "plt.title('Три самых прибыльных жанра')\n",
    "plt.xlabel('Жанры')\n",
    "plt.ylabel('Общие продажи')\n",
    "\n",
    "plt.subplot(1, 3, 3)\n",
    "sns.barplot(data=bottom3_unprofitable_genres, x=bottom3_unprofitable_genres.index, y='Total_sales', color='red')\n",
    "plt.title('Три самых неприбыльных жанра')\n",
    "plt.xlabel('Жанры')\n",
    "plt.ylabel('Общие продажи')\n",
    "\n",
    "plt.tight_layout()\n",
    "plt.show()"
   ]
  },
  {
   "cell_type": "code",
   "execution_count": 50,
   "metadata": {},
   "outputs": [
    {
     "data": {
      "image/png": "[encoded data removed]",
      "text/plain": [
       "<Figure size 576x576 with 1 Axes>"
      ]
     },
     "metadata": {},
     "output_type": "display_data"
    }
   ],
   "source": [
    "plt.figure(figsize=(8, 8))\n",
    "plt.pie(platform_sales_fresh['Total_sales'], labels=platform_sales_fresh.index, autopct='%1.1f%%')\n",
    "plt.title('Доля продаж по жанрам')\n",
    "plt.show()"
   ]
  },
  {
   "cell_type": "markdown",
   "metadata": {},
   "source": [
    "По потенциально прибыльным платформам"
   ]
  },
  {
   "cell_type": "code",
   "execution_count": 51,
   "metadata": {},
   "outputs": [
    {
     "data": {
      "image/png": "[encoded data removed]",
      "text/plain": [
       "<Figure size 792x360 with 1 Axes>"
      ]
     },
     "metadata": {
      "needs_background": "light"
     },
     "output_type": "display_data"
    },
    {
     "data": {
      "image/png": "[encoded data removed]",
      "text/plain": [
       "<Figure size 1080x360 with 2 Axes>"
      ]
     },
     "metadata": {
      "needs_background": "light"
     },
     "output_type": "display_data"
    }
   ],
   "source": [
    "games_on_platform = actual_games.query('Platform in (\"XOne\", \"PS4\", \"3DS\") & Critic_Score != -1 & User_Score != -1')\n",
    "\n",
    "platform_sales_fresh = (\n",
    "    games_on_platform\n",
    "    .pivot_table(index='Genre', values='Total_sales', aggfunc='sum')\n",
    "    .sort_values('Total_sales', ascending=False)\n",
    ")\n",
    "\n",
    "plt.figure(figsize=(11, 5))\n",
    "(sns.barplot(data = platform_sales_fresh, x = platform_sales_fresh.index, y = 'Total_sales', color = 'blue')\n",
    "    .set(title = 'Продажи по жанрам за 2014-2016 гг', xlabel = 'Жанры', ylabel = 'Общие продажи'))\n",
    "\n",
    "plt.show()\n",
    "\n",
    "top3_profitable_genres = platform_sales_fresh.head(3)\n",
    "bottom3_unprofitable_genres = platform_sales_fresh.tail(3)\n",
    "\n",
    "plt.figure(figsize=(15, 5))\n",
    "\n",
    "plt.subplot(1, 3, 2)\n",
    "sns.barplot(data=top3_profitable_genres, x=top3_profitable_genres.index, y='Total_sales', color='green')\n",
    "plt.title('Три самых прибыльных жанра')\n",
    "plt.xlabel('Жанры')\n",
    "plt.ylabel('Общие продажи')\n",
    "\n",
    "plt.subplot(1, 3, 3)\n",
    "sns.barplot(data=bottom3_unprofitable_genres, x=bottom3_unprofitable_genres.index, y='Total_sales', color='red')\n",
    "plt.title('Три самых неприбыльных жанра')\n",
    "plt.xlabel('Жанры')\n",
    "plt.ylabel('Общие продажи')\n",
    "\n",
    "plt.tight_layout()\n",
    "plt.show()"
   ]
  },
  {
   "cell_type": "code",
   "execution_count": 52,
   "metadata": {},
   "outputs": [
    {
     "data": {
      "image/png": "[encoded data removed]",
      "text/plain": [
       "<Figure size 576x576 with 1 Axes>"
      ]
     },
     "metadata": {},
     "output_type": "display_data"
    },
    {
     "data": {
      "image/png": "[encoded data removed]",
      "text/plain": [
       "<Figure size 936x576 with 1 Axes>"
      ]
     },
     "metadata": {
      "needs_background": "light"
     },
     "output_type": "display_data"
    }
   ],
   "source": [
    "plt.figure(figsize=(8, 8))\n",
    "plt.pie(platform_sales_fresh['Total_sales'], labels=platform_sales_fresh.index, autopct='%1.1f%%')\n",
    "plt.title('Доля продаж по жанрам')\n",
    "plt.show()\n",
    "\n",
    "plt.figure(figsize=(13, 8))\n",
    "(sns.boxplot(data = actual_games, y = 'Total_sales', x='Genre')\n",
    "    .set(title = 'Продажи по жанрам за 2014-2016 гг', xlabel = 'Платформы', ylabel = 'Общие продажи', ylim=(0, 3)))\n",
    "\n",
    "plt.show()"
   ]
  },
  {
   "cell_type": "markdown",
   "metadata": {},
   "source": [
    "**Вывод**: самыми прибыльными являются Экшн и шутеры, где шутеры имеют наилучший график продаж.\\\n",
    "В ТОП 4 можно отметить следующие жанры:\n",
    "- Шутер\n",
    "- Экшен\n",
    "- Спортивные игры\n",
    "- РПГ"
   ]
  },
  {
   "cell_type": "markdown",
   "metadata": {},
   "source": [
    "### Шаг 4. Составьте портрет пользователя каждого региона"
   ]
  },
  {
   "cell_type": "markdown",
   "metadata": {},
   "source": [
    "#### 4.1 Самые популярные платформы (топ-5)"
   ]
  },
  {
   "cell_type": "code",
   "execution_count": 53,
   "metadata": {},
   "outputs": [
    {
     "data": {
      "image/png": "[encoded data removed]",
      "text/plain": [
       "<Figure size 1080x360 with 1 Axes>"
      ]
     },
     "metadata": {
      "needs_background": "light"
     },
     "output_type": "display_data"
    }
   ],
   "source": [
    "countries = actual_games.columns[4:7]\n",
    "\n",
    "subtitles = [country.split('_')[0].upper() for country in countries]\n",
    "\n",
    "fig, ax = plt.subplots(figsize=(15, 5))\n",
    "ax.set_title('ТОП-5 платформ в регионах')\n",
    "\n",
    "barWidth = 0.25\n",
    "bar1 = actual_games.groupby('Platform')[countries[0]].sum().nlargest(5).values\n",
    "bar2 = actual_games.groupby('Platform')[countries[1]].sum().nlargest(5).values\n",
    "bar3 = actual_games.groupby('Platform')[countries[2]].sum().nlargest(5).values\n",
    "\n",
    "r1 = np.arange(len(bar1))\n",
    "r2 = [x + barWidth for x in r1]\n",
    "r3 = [x + barWidth for x in r2]\n",
    "\n",
    "plt.bar(r1, bar1, color='b', width=barWidth, edgecolor='grey', label=subtitles[0])\n",
    "plt.bar(r2, bar2, color='r', width=barWidth, edgecolor='grey', label=subtitles[1])\n",
    "plt.bar(r3, bar3, color='g', width=barWidth, edgecolor='grey', label=subtitles[2])\n",
    "\n",
    "plt.xlabel('Platform', fontweight='bold')\n",
    "plt.xticks([r + barWidth for r in range(len(bar1))], actual_games.groupby('Platform')[countries[0]].sum().nlargest(5).index)\n",
    "\n",
    "plt.legend()\n",
    "plt.show()"
   ]
  },
  {
   "cell_type": "markdown",
   "metadata": {},
   "source": [
    "**Вывод**: как мы видим, между регионами существует значительная разница в предпочтениях: Европа предпочитает PS4,\\\n",
    " Америка выбирает между PS4 и Xbox, а Япония равномерно распределена по всем платформам с приоритетом в PS4."
   ]
  },
  {
   "cell_type": "markdown",
   "metadata": {},
   "source": [
    "#### 4.2 Самые популярные жанры (топ-5)"
   ]
  },
  {
   "cell_type": "code",
   "execution_count": 54,
   "metadata": {},
   "outputs": [
    {
     "data": {
      "image/png": "[encoded data removed]",
      "text/plain": [
       "<Figure size 1080x360 with 3 Axes>"
      ]
     },
     "metadata": {},
     "output_type": "display_data"
    }
   ],
   "source": [
    "fig, axs = plt.subplots(1, 3, figsize=(15, 5))\n",
    "fig.suptitle('ТОП-5 жанров в регионах')\n",
    "\n",
    "for i in range(3):\n",
    "    df_i = (actual_games.groupby('Genre')[countries[i]].sum().\n",
    "             reset_index().\n",
    "             sort_values(countries[i], ascending=False, ignore_index=True).\n",
    "             head(5))\n",
    "    other_genre_sales = actual_games[countries[i]].sum() - df_i[countries[i]].sum()\n",
    "    df_i.loc[5] = {'Genre': 'Other_genre', countries[i]: other_genre_sales}\n",
    "\n",
    "    axs[i].pie(df_i[countries[i]], labels=df_i['Genre'], autopct='%1.1f%%')\n",
    "    axs[i].set_title(countries[i].split('_')[0].upper())\n",
    "\n",
    "plt.show()"
   ]
  },
  {
   "cell_type": "code",
   "execution_count": 55,
   "metadata": {},
   "outputs": [
    {
     "data": {
      "image/png": "[encoded data removed]",
      "text/plain": [
       "<Figure size 1080x360 with 1 Axes>"
      ]
     },
     "metadata": {
      "needs_background": "light"
     },
     "output_type": "display_data"
    }
   ],
   "source": [
    "fig, ax = plt.subplots(figsize=(15, 5))\n",
    "ax.set_title('ТОП-5 жанров в регионах')\n",
    "\n",
    "barWidth = 0.25\n",
    "bar1 = actual_games.groupby('Genre')[countries[0]].sum().nlargest(5).values\n",
    "bar2 = actual_games.groupby('Genre')[countries[1]].sum().nlargest(5).values\n",
    "bar3 = actual_games.groupby('Genre')[countries[2]].sum().nlargest(5).values\n",
    "\n",
    "r1 = np.arange(len(bar1))\n",
    "r2 = [x + barWidth for x in r1]\n",
    "r3 = [x + barWidth for x in r2]\n",
    "\n",
    "plt.bar(r1, bar1, color='b', width=barWidth, edgecolor='grey', label=subtitles[0])\n",
    "plt.bar(r2, bar2, color='r', width=barWidth, edgecolor='grey', label=subtitles[1])\n",
    "plt.bar(r3, bar3, color='g', width=barWidth, edgecolor='grey', label=subtitles[2])\n",
    "\n",
    "plt.xlabel('Genre', fontweight='bold')\n",
    "plt.xticks([r + barWidth for r in range(len(bar1))], actual_games.groupby('Genre')[countries[0]].sum().nlargest(5).index)\n",
    "\n",
    "plt.legend()\n",
    "plt.show()"
   ]
  },
  {
   "cell_type": "markdown",
   "metadata": {},
   "source": [
    "#### 4.3 Влияет ли рейтинг ESRB на продажи в отдельном регионе?"
   ]
  },
  {
   "cell_type": "code",
   "execution_count": 56,
   "metadata": {},
   "outputs": [
    {
     "data": {
      "image/png": "[encoded data removed]",
      "text/plain": [
       "<Figure size 1080x360 with 3 Axes>"
      ]
     },
     "metadata": {},
     "output_type": "display_data"
    }
   ],
   "source": [
    "fig, axs = plt.subplots(1, 3, figsize=(15, 5))\n",
    "fig.suptitle('Зависимость продаж от рейтинга ESRB')\n",
    "\n",
    "for i in range(3):\n",
    "    df_i = (actual_games.groupby('Rating')[countries[i]].sum().\n",
    "             reset_index().\n",
    "             sort_values(countries[i], ascending=False, ignore_index=True).\n",
    "             head(5))\n",
    "    other_genre_sales = actual_games[countries[i]].sum() - df_i[countries[i]].sum()\n",
    "\n",
    "    axs[i].pie(df_i[countries[i]], labels=df_i['Rating'], autopct='%1.1f%%')\n",
    "    axs[i].set_title(countries[i].split('_')[0].upper())\n",
    "\n",
    "plt.show()"
   ]
  },
  {
   "cell_type": "markdown",
   "metadata": {},
   "source": [
    "**Вывод**: \n",
    "Из ваших наблюдений следует, что рейтинг ESRB кажется имеет не такое сильное влияние на продажи игр, по крайней мере, судя по распределению продаж в разных регионах. Видимо, в Японии предпочтения игроков отличаются (предположительно, 61% \"пустых данных...\"), возможно, из-за предпочтения кастомных игр или игр от местных производителей, что может быть объяснением отличий в распределении рейтингов ESRB.\\\n",
    "Кроме того, в Европе и Северной Америке категория \"M\" (для взрослых) кажется занимает значительную долю рынка среди других рейтингов, что может указывать на предпочтения игроков в данных регионах.\\\n",
    "Про американских игроков можно сказать, что они предпочитают играть на PlayStation 4, чаще всего выбирают шутеры и интересуются играми для взрослых, вероятно, с высоким уровнем насилия.\\\n",
    "Европейские игроки также предпочитают PlayStation 4, но скорее выбирают экшены. Также, как американцы, они предпочитают игры для взрослых, возможно, из-за содержания крови или насилия.\\\n",
    "Помимо того, игроки в Японии чаще предпочитают 3DS, играют в ролевые игры и, возможно, отдают предпочтение кастомным играм, возможно, производства внутри страны, что может являться недооцененным аспектом игровой индустрии."
   ]
  },
  {
   "cell_type": "markdown",
   "metadata": {},
   "source": [
    "### Шаг 5. Проверьте гипотезы"
   ]
  },
  {
   "cell_type": "markdown",
   "metadata": {},
   "source": [
    "#### 5.1 Средние пользовательские рейтинги платформ Xbox One и PC одинаковые"
   ]
  },
  {
   "cell_type": "markdown",
   "metadata": {},
   "source": [
    "Нулевая гипотеза (H0): Средние пользовательские рейтинги платформ Xbox One и PC одинаковые.\n",
    "\n",
    "Альтерантивная гипотеза (H1): Средние пользовательские рейтинги платформ Xbox One и PC различаются.\n",
    "\n",
    "alpha = 0.05"
   ]
  },
  {
   "cell_type": "code",
   "execution_count": 57,
   "metadata": {},
   "outputs": [
    {
     "name": "stdout",
     "output_type": "stream",
     "text": [
      "Средний пользовательский рейтинг платформ Xbox One 6.59\n",
      "Средний пользовательский рейтинг платформ PC 6.3\n",
      "\n",
      "p-значение: 0.11601398086668832\n",
      "Не получилось отвергнуть нулевую гипотезу\n"
     ]
    }
   ],
   "source": [
    "score = actual_games[actual_games['User_Score'] != -1]\n",
    "\n",
    "print('Средний пользовательский рейтинг платформ Xbox One', round(score.query('Platform == \"XOne\"')['User_Score'].mean(),2))\n",
    "print('Средний пользовательский рейтинг платформ PC', round(score.query('Platform == \"PC\"')['User_Score'].mean(),2))\n",
    "print()\n",
    "\n",
    "results = st.ttest_ind(\n",
    "    score.query('Platform == \"XOne\"')['User_Score'], \n",
    "    score.query('Platform == \"PC\"')['User_Score'], \n",
    "    equal_var=False)\n",
    "\n",
    "alpha = 0.05\n",
    "print('p-значение:', results.pvalue)\n",
    "\n",
    "if results.pvalue < alpha:\n",
    "    print(\"Отвергаем нулевую гипотезу\")\n",
    "else:\n",
    "    print(\"Не получилось отвергнуть нулевую гипотезу\")"
   ]
  },
  {
   "cell_type": "markdown",
   "metadata": {},
   "source": [
    "**Вывод**: гипотеза опровергнута, причин предполагать схожесть пользовательских рейтингов у PS4 и Xbox у нас нет."
   ]
  },
  {
   "cell_type": "markdown",
   "metadata": {},
   "source": [
    "#### 5.2 Средние пользовательские рейтинги жанров Action и Sports разные."
   ]
  },
  {
   "cell_type": "markdown",
   "metadata": {},
   "source": [
    "Нулевая гипотеза (H0): Средние пользовательские рейтинги жанров Action и Sports одинаковые.\n",
    "\n",
    "Альтерантивная гипотеза (H1): Средние пользовательские рейтинги жанров Action и Sports различаются.\n",
    "\n",
    "alpha = 0.05"
   ]
  },
  {
   "cell_type": "code",
   "execution_count": 58,
   "metadata": {},
   "outputs": [
    {
     "name": "stdout",
     "output_type": "stream",
     "text": [
      "Средний пользовательский рейтинг жанра экшен 6.76\n",
      "Средний пользовательский рейтинг жанра спортивных игр 5.23\n",
      "\n",
      "p-значение: 1.1825550382644557e-14\n",
      "Отвергаем нулевую гипотезу\n"
     ]
    }
   ],
   "source": [
    "print('Средний пользовательский рейтинг жанра экшен', round(score.query('Genre == \"Action\"')['User_Score'].mean(),2))\n",
    "print('Средний пользовательский рейтинг жанра спортивных игр', round(score.query('Genre == \"Sports\"')['User_Score'].mean(),2))\n",
    "print()\n",
    "\n",
    "results = st.ttest_ind(\n",
    "    score.query('Genre == \"Action\"')['User_Score'], \n",
    "    score.query('Genre == \"Sports\"')['User_Score'], \n",
    "    equal_var=False)\n",
    "\n",
    "alpha = 0.05\n",
    "print('p-значение:', results.pvalue)\n",
    "\n",
    "if results.pvalue < alpha:\n",
    "    print(\"Отвергаем нулевую гипотезу\")\n",
    "else:\n",
    "    print(\"Не получилось отвергнуть нулевую гипотезу\")"
   ]
  },
  {
   "cell_type": "markdown",
   "metadata": {},
   "source": [
    "**Вывод**: отвержение нулевой гипотезы гарантирует, что рейтинги жанров Action и Sports разные."
   ]
  },
  {
   "cell_type": "markdown",
   "metadata": {},
   "source": [
    "### Шаг 6. Общий вывод."
   ]
  },
  {
   "cell_type": "markdown",
   "metadata": {},
   "source": [
    "В процессе выполнение были проведены следующие работы:\\\n",
    "Преобразование данных и обработка пропусков:\n",
    "- Изменил названия столбцов на нижний регистр для удобства обращения к ним.\n",
    "- Преобразовал данные в нужные типы: столбцы с датами были преобразованы в тип данных даты для удобства работы с ними, а столбцы с числовыми данными были преобразованы в числовой формат. \\\n",
    "Это помогает обеспечить точность анализа и визуализации данных.\n",
    "- Обработал пропуски: заполнил пропуски в столбцах, где это было уместно, чтобы не потерять ценные данные. \\\n",
    "Причины пропусков могли быть связаны с отсутствием информации о продажах или оценках в определенные годы или для конкретных игр.\\\n",
    "Анализ трендов:\n",
    "- Отметил, что с 1980 по 2000 годы наблюдался слабый рост игровой индустрии, но с 2000 года начался активный рост количества выпускаемых игр,\\\n",
    " достигнув пика в 2008-2009 годах, после чего количество игр снизилось.\n",
    "- Выделил периоды успешности различных игровых платформ, отметив, что новые платформы обычно быстро набирают популярность в течение 3-4 лет, после чего их продажи снижаются.\\\n",
    "Анализ платформ:\n",
    "- Обнаружил, что за последние годы лидерами по продажам стали PS4 и XboxOne, что делает их потенциально прибыльными платформами для разработки игр.\n",
    "- Подчеркнул особенности успешности конкретных платформ и выявил потенциально прибыльные платформы для будущих проектов.\\\n",
    "Корреляция и прибыльные жанры:\n",
    "- Указал на отсутствие корреляции между пользовательскими оценками и продажами игр для PS4, но силу связи между оценками критиков и продажами игр.\n",
    "- Описал самые прибыльные жанры игр, отметив шутеры и экшены, которые пользуются большой популярностью среди игроков.\\\n",
    "Региональные предпочтения и культурные особенности:\n",
    "- Представил портреты игроков из разных регионов, описав основные предпочтения, связанные с игровыми платформами, жанрами игр и оценками ESRB. \\\n",
    "Особое внимание уделил предпочтениям японских игроков, отметив их интерес к ролевым играм и кастомным играм, что может быть следствием культурных особенностей и предпочтений игрового сообщества в Японии.\\\n",
    "Статистические проверки:\n",
    "- Провел статистическую проверку гипотез о средних пользовательских рейтингах для платформ Xbox One и PC, а также для жанров Action и Sports, сделав выводы о подтверждении или отвержении данных гипотез.\n",
    "\n",
    "Обобщая работу, можно сказать следующее: слишком много пропусков в категории рейтингов и оценок, что значительно снижает ценность статистико-аналитического анализа. Сам анализ продемонстрировал важность оценок критиков и соответствие рейтинга требованиям аудитории в разрезе продаж игр, а так же увлеченность населения шутерами в противовес экшну, рпг и спортивным играм. Остальные жанры в сумме имеют достаточно малую аудиторию, чтобы не ставить их в приоритет.\n",
    "\n",
    "В качестве рекомендации могу добавить:\n",
    "- разработчикам предоставить данные с еньшим количеством выбросов, и соответственно проверить свой код/бд на предмет возможных потерь при выгрузке.\n",
    "- Игровым кампаниям больше обращать внимание на мнение критиков\n",
    "- И, разумеется, нам нужно больше шутеров!"
   ]
  },
  {
   "cell_type": "markdown",
   "metadata": {},
   "source": [
    "### Чек-лист готовности проекта"
   ]
  },
  {
   "cell_type": "markdown",
   "metadata": {},
   "source": [
    "**Шаг 1. Подготовка данных**\n",
    "\n",
    "**Надо:**\n",
    "- [x]  Заменить названия столбцов (привести к нижнему регистру);\n",
    "- [x]  Преобразовать данные в нужные типы. Описать, в каких столбцах заменил тип данных и почему;\n",
    "- [x]  Обработать пропуски при необходимости:\n",
    "- [x]  Объяснить, почему заполнил пропуски определённым образом или почему не стал это делать;\n",
    "- [x]  Описать причины, которые могли привести к пропускам;\n",
    "- [x]  Обратить внимание на аббревиатуру 'tbd' в столбце с оценкой пользователей. Отдельно разобрать это значение и описать, как его обработать;\n",
    "- [x]  Посчитать суммарные продажи во всех регионах и записать их в отдельный столбец.\n",
    "\n",
    "**Шаг 2. Провести исследовательский анализ данных**\n",
    "\n",
    "**Надо:**\n",
    "- [x]  Посмотреть, сколько игр выпускалось в разные годы.\n",
    "- [x]  Посмотреть, как менялись продажи по платформам.\n",
    "- [x]  Посмотреть какие платформы лидируют по продажам, растут или падают? Выбрать несколько потенциально прибыльных платформ.\n",
    "- [x]  Построить график «ящик с усами» по глобальным продажам игр в разбивке по платформам. Описать результат.\n",
    "- [x]  Посмотреть, как влияют на продажи внутри одной популярной платформы отзывы пользователей и критиков. Построить диаграмму рассеяния и посчитать корреляцию между отзывами и продажами. Сформулировать выводы.\n",
    "- [x]  Посмотреть на общее распределение игр по жанрам.\n",
    "\n",
    "**Шаг 3. Составить портрет пользователя каждого региона**\n",
    "\n",
    "**Надо:**\n",
    "- [x]  Определить для пользователя каждого региона (NA, EU, JP):\n",
    "    - [x]  Самые популярные платформы (топ-5). Опишите различия в долях продаж.\n",
    "    - [x]  Самые популярные жанры (топ-5). Поясните разницу.\n",
    "    - [x]  Влияет ли рейтинг ESRB на продажи в отдельном регионе?\n",
    "\n",
    "**Шаг 4. Проверить гипотезы**\n",
    "\n",
    "- [x]  Средние пользовательские рейтинги платформ Xbox One и PC одинаковые;\n",
    "- [x]  Средние пользовательские рейтинги жанров Action (англ. «действие», экшенигры) и Sports (англ. «спортивные соревнования») разные.\n",
    "\n",
    "**Шаг 5. Написать общий вывод**"
   ]
  }
 ],
 "metadata": {
  "ExecuteTimeLog": [
   {
    "duration": 6803,
    "start_time": "2023-11-21T09:47:58.713Z"
   },
   {
    "duration": 1343,
    "start_time": "2023-11-21T09:48:05.519Z"
   },
   {
    "duration": 182,
    "start_time": "2023-11-21T09:48:06.863Z"
   },
   {
    "duration": 15,
    "start_time": "2023-11-21T09:48:07.047Z"
   },
   {
    "duration": 23,
    "start_time": "2023-11-21T09:48:07.064Z"
   },
   {
    "duration": 12,
    "start_time": "2023-11-21T09:48:07.088Z"
   },
   {
    "duration": 40,
    "start_time": "2023-11-21T09:48:07.101Z"
   },
   {
    "duration": 15,
    "start_time": "2023-11-21T09:48:07.142Z"
   },
   {
    "duration": 8,
    "start_time": "2023-11-21T09:48:07.159Z"
   },
   {
    "duration": 11,
    "start_time": "2023-11-21T09:48:07.169Z"
   },
   {
    "duration": 19,
    "start_time": "2023-11-21T09:48:07.181Z"
   },
   {
    "duration": 36,
    "start_time": "2023-11-21T09:48:07.201Z"
   },
   {
    "duration": 12,
    "start_time": "2023-11-21T09:48:07.239Z"
   },
   {
    "duration": 15,
    "start_time": "2023-11-21T09:48:07.253Z"
   },
   {
    "duration": 26,
    "start_time": "2023-11-21T09:48:07.269Z"
   },
   {
    "duration": 17,
    "start_time": "2023-11-21T09:48:07.297Z"
   },
   {
    "duration": 28,
    "start_time": "2023-11-21T09:48:07.316Z"
   },
   {
    "duration": 32,
    "start_time": "2023-11-21T09:48:07.346Z"
   },
   {
    "duration": 17,
    "start_time": "2023-11-21T09:48:07.379Z"
   },
   {
    "duration": 30,
    "start_time": "2023-11-21T09:48:07.398Z"
   },
   {
    "duration": 24,
    "start_time": "2023-11-21T09:48:07.430Z"
   },
   {
    "duration": 665,
    "start_time": "2023-11-21T09:48:07.455Z"
   },
   {
    "duration": 8,
    "start_time": "2023-11-21T09:48:08.122Z"
   },
   {
    "duration": 31,
    "start_time": "2023-11-21T09:48:08.131Z"
   },
   {
    "duration": 3,
    "start_time": "2023-11-21T09:48:08.164Z"
   },
   {
    "duration": 18,
    "start_time": "2023-11-21T09:48:08.168Z"
   },
   {
    "duration": 30,
    "start_time": "2023-11-21T09:48:08.187Z"
   },
   {
    "duration": 21,
    "start_time": "2023-11-21T09:48:08.220Z"
   },
   {
    "duration": 5,
    "start_time": "2023-11-21T09:48:08.242Z"
   },
   {
    "duration": 14,
    "start_time": "2023-11-21T09:48:08.248Z"
   },
   {
    "duration": 14,
    "start_time": "2023-11-21T09:48:08.264Z"
   },
   {
    "duration": 5,
    "start_time": "2023-11-21T09:48:08.279Z"
   },
   {
    "duration": 20,
    "start_time": "2023-11-21T09:48:08.285Z"
   },
   {
    "duration": 7,
    "start_time": "2023-11-21T09:48:08.306Z"
   },
   {
    "duration": 30,
    "start_time": "2023-11-21T09:48:08.314Z"
   },
   {
    "duration": 46,
    "start_time": "2023-11-21T09:48:08.346Z"
   },
   {
    "duration": 181,
    "start_time": "2023-11-21T09:48:08.393Z"
   },
   {
    "duration": 326,
    "start_time": "2023-11-21T09:48:08.575Z"
   },
   {
    "duration": 1713,
    "start_time": "2023-11-21T09:48:08.903Z"
   },
   {
    "duration": 28,
    "start_time": "2023-11-21T09:48:10.618Z"
   },
   {
    "duration": 240,
    "start_time": "2023-11-21T09:48:10.648Z"
   },
   {
    "duration": 987,
    "start_time": "2023-11-21T09:48:10.889Z"
   },
   {
    "duration": 485,
    "start_time": "2023-11-21T09:48:11.878Z"
   },
   {
    "duration": 220,
    "start_time": "2023-11-21T09:48:12.365Z"
   },
   {
    "duration": 246,
    "start_time": "2023-11-21T09:48:12.587Z"
   },
   {
    "duration": 684,
    "start_time": "2023-11-21T09:48:12.835Z"
   },
   {
    "duration": 572,
    "start_time": "2023-11-21T09:48:13.520Z"
   },
   {
    "duration": 567,
    "start_time": "2023-11-21T09:48:14.093Z"
   },
   {
    "duration": 174,
    "start_time": "2023-11-21T09:48:14.661Z"
   },
   {
    "duration": 514,
    "start_time": "2023-11-21T09:48:14.836Z"
   },
   {
    "duration": 548,
    "start_time": "2023-11-21T09:48:15.352Z"
   },
   {
    "duration": 179,
    "start_time": "2023-11-21T09:48:15.902Z"
   },
   {
    "duration": 304,
    "start_time": "2023-11-21T09:48:16.082Z"
   },
   {
    "duration": 182,
    "start_time": "2023-11-21T09:48:16.387Z"
   },
   {
    "duration": 261,
    "start_time": "2023-11-21T09:48:16.571Z"
   },
   {
    "duration": 18,
    "start_time": "2023-11-21T09:48:16.833Z"
   },
   {
    "duration": 61,
    "start_time": "2023-11-21T09:48:16.852Z"
   },
   {
    "duration": 5219,
    "start_time": "2023-11-21T11:26:29.513Z"
   },
   {
    "duration": 2064,
    "start_time": "2023-11-21T11:26:34.734Z"
   },
   {
    "duration": 182,
    "start_time": "2023-11-21T11:26:36.800Z"
   },
   {
    "duration": 14,
    "start_time": "2023-11-21T11:26:36.984Z"
   },
   {
    "duration": 49,
    "start_time": "2023-11-21T11:26:37.000Z"
   },
   {
    "duration": 13,
    "start_time": "2023-11-21T11:26:37.050Z"
   },
   {
    "duration": 30,
    "start_time": "2023-11-21T11:26:37.064Z"
   },
   {
    "duration": 15,
    "start_time": "2023-11-21T11:26:37.096Z"
   },
   {
    "duration": 28,
    "start_time": "2023-11-21T11:26:37.112Z"
   },
   {
    "duration": 11,
    "start_time": "2023-11-21T11:26:37.142Z"
   },
   {
    "duration": 8,
    "start_time": "2023-11-21T11:26:37.154Z"
   },
   {
    "duration": 23,
    "start_time": "2023-11-21T11:26:37.163Z"
   },
   {
    "duration": 11,
    "start_time": "2023-11-21T11:26:37.188Z"
   },
   {
    "duration": 38,
    "start_time": "2023-11-21T11:26:37.201Z"
   },
   {
    "duration": 19,
    "start_time": "2023-11-21T11:26:37.240Z"
   },
   {
    "duration": 17,
    "start_time": "2023-11-21T11:26:37.260Z"
   },
   {
    "duration": 32,
    "start_time": "2023-11-21T11:26:37.278Z"
   },
   {
    "duration": 28,
    "start_time": "2023-11-21T11:26:37.311Z"
   },
   {
    "duration": 16,
    "start_time": "2023-11-21T11:26:37.340Z"
   },
   {
    "duration": 25,
    "start_time": "2023-11-21T11:26:37.357Z"
   },
   {
    "duration": 19,
    "start_time": "2023-11-21T11:26:37.383Z"
   },
   {
    "duration": 699,
    "start_time": "2023-11-21T11:26:37.404Z"
   },
   {
    "duration": 8,
    "start_time": "2023-11-21T11:26:38.105Z"
   },
   {
    "duration": 42,
    "start_time": "2023-11-21T11:26:38.114Z"
   },
   {
    "duration": 3,
    "start_time": "2023-11-21T11:26:38.158Z"
   },
   {
    "duration": 19,
    "start_time": "2023-11-21T11:26:38.162Z"
   },
   {
    "duration": 17,
    "start_time": "2023-11-21T11:26:38.182Z"
   },
   {
    "duration": 19,
    "start_time": "2023-11-21T11:26:38.202Z"
   },
   {
    "duration": 9,
    "start_time": "2023-11-21T11:26:38.223Z"
   },
   {
    "duration": 8,
    "start_time": "2023-11-21T11:26:38.234Z"
   },
   {
    "duration": 11,
    "start_time": "2023-11-21T11:26:38.243Z"
   },
   {
    "duration": 11,
    "start_time": "2023-11-21T11:26:38.256Z"
   },
   {
    "duration": 14,
    "start_time": "2023-11-21T11:26:38.269Z"
   },
   {
    "duration": 4,
    "start_time": "2023-11-21T11:26:38.285Z"
   },
   {
    "duration": 14,
    "start_time": "2023-11-21T11:26:38.291Z"
   },
   {
    "duration": 35,
    "start_time": "2023-11-21T11:26:38.306Z"
   },
   {
    "duration": 185,
    "start_time": "2023-11-21T11:26:38.342Z"
   },
   {
    "duration": 321,
    "start_time": "2023-11-21T11:26:38.538Z"
   },
   {
    "duration": 1746,
    "start_time": "2023-11-21T11:26:38.861Z"
   },
   {
    "duration": 31,
    "start_time": "2023-11-21T11:26:40.609Z"
   },
   {
    "duration": 248,
    "start_time": "2023-11-21T11:26:40.642Z"
   },
   {
    "duration": 990,
    "start_time": "2023-11-21T11:26:40.892Z"
   },
   {
    "duration": 507,
    "start_time": "2023-11-21T11:26:41.883Z"
   },
   {
    "duration": 221,
    "start_time": "2023-11-21T11:26:42.391Z"
   },
   {
    "duration": 263,
    "start_time": "2023-11-21T11:26:42.614Z"
   },
   {
    "duration": 668,
    "start_time": "2023-11-21T11:26:42.879Z"
   },
   {
    "duration": 595,
    "start_time": "2023-11-21T11:26:43.548Z"
   },
   {
    "duration": 586,
    "start_time": "2023-11-21T11:26:44.145Z"
   },
   {
    "duration": 181,
    "start_time": "2023-11-21T11:26:44.738Z"
   },
   {
    "duration": 556,
    "start_time": "2023-11-21T11:26:44.921Z"
   },
   {
    "duration": 541,
    "start_time": "2023-11-21T11:26:45.478Z"
   },
   {
    "duration": 193,
    "start_time": "2023-11-21T11:26:46.021Z"
   },
   {
    "duration": 304,
    "start_time": "2023-11-21T11:26:46.216Z"
   },
   {
    "duration": 191,
    "start_time": "2023-11-21T11:26:46.521Z"
   },
   {
    "duration": 276,
    "start_time": "2023-11-21T11:26:46.714Z"
   },
   {
    "duration": 16,
    "start_time": "2023-11-21T11:26:46.992Z"
   },
   {
    "duration": 14,
    "start_time": "2023-11-21T11:26:47.009Z"
   },
   {
    "duration": 30,
    "start_time": "2023-11-21T11:26:55.667Z"
   },
   {
    "duration": 550,
    "start_time": "2023-11-21T11:35:52.806Z"
   },
   {
    "duration": 6133,
    "start_time": "2023-11-21T18:17:46.972Z"
   },
   {
    "duration": 1142,
    "start_time": "2023-11-21T18:17:53.107Z"
   },
   {
    "duration": 53,
    "start_time": "2023-11-21T18:17:54.250Z"
   },
   {
    "duration": 13,
    "start_time": "2023-11-21T18:17:54.305Z"
   },
   {
    "duration": 22,
    "start_time": "2023-11-21T18:17:54.320Z"
   },
   {
    "duration": 12,
    "start_time": "2023-11-21T18:17:54.344Z"
   },
   {
    "duration": 31,
    "start_time": "2023-11-21T18:17:54.357Z"
   },
   {
    "duration": 16,
    "start_time": "2023-11-21T18:17:54.389Z"
   },
   {
    "duration": 9,
    "start_time": "2023-11-21T18:17:54.406Z"
   },
   {
    "duration": 12,
    "start_time": "2023-11-21T18:17:54.437Z"
   },
   {
    "duration": 16,
    "start_time": "2023-11-21T18:17:54.450Z"
   },
   {
    "duration": 40,
    "start_time": "2023-11-21T18:17:54.468Z"
   },
   {
    "duration": 12,
    "start_time": "2023-11-21T18:17:54.509Z"
   },
   {
    "duration": 16,
    "start_time": "2023-11-21T18:17:54.523Z"
   },
   {
    "duration": 14,
    "start_time": "2023-11-21T18:17:54.541Z"
   },
   {
    "duration": 17,
    "start_time": "2023-11-21T18:17:54.556Z"
   },
   {
    "duration": 19,
    "start_time": "2023-11-21T18:17:54.575Z"
   },
   {
    "duration": 17,
    "start_time": "2023-11-21T18:17:54.596Z"
   },
   {
    "duration": 17,
    "start_time": "2023-11-21T18:17:54.637Z"
   },
   {
    "duration": 23,
    "start_time": "2023-11-21T18:17:54.656Z"
   },
   {
    "duration": 20,
    "start_time": "2023-11-21T18:17:54.680Z"
   },
   {
    "duration": 661,
    "start_time": "2023-11-21T18:17:54.701Z"
   },
   {
    "duration": 8,
    "start_time": "2023-11-21T18:17:55.363Z"
   },
   {
    "duration": 33,
    "start_time": "2023-11-21T18:17:55.372Z"
   },
   {
    "duration": 7,
    "start_time": "2023-11-21T18:17:55.407Z"
   },
   {
    "duration": 39,
    "start_time": "2023-11-21T18:17:55.415Z"
   },
   {
    "duration": 7,
    "start_time": "2023-11-21T18:17:55.455Z"
   },
   {
    "duration": 16,
    "start_time": "2023-11-21T18:17:55.465Z"
   },
   {
    "duration": 5,
    "start_time": "2023-11-21T18:17:55.482Z"
   },
   {
    "duration": 7,
    "start_time": "2023-11-21T18:17:55.488Z"
   },
   {
    "duration": 11,
    "start_time": "2023-11-21T18:17:55.497Z"
   },
   {
    "duration": 5,
    "start_time": "2023-11-21T18:17:55.509Z"
   },
   {
    "duration": 33,
    "start_time": "2023-11-21T18:17:55.515Z"
   },
   {
    "duration": 8,
    "start_time": "2023-11-21T18:17:55.549Z"
   },
   {
    "duration": 10,
    "start_time": "2023-11-21T18:17:55.558Z"
   },
   {
    "duration": 17,
    "start_time": "2023-11-21T18:17:55.569Z"
   },
   {
    "duration": 185,
    "start_time": "2023-11-21T18:17:55.587Z"
   },
   {
    "duration": 320,
    "start_time": "2023-11-21T18:17:55.774Z"
   },
   {
    "duration": 1653,
    "start_time": "2023-11-21T18:17:56.096Z"
   },
   {
    "duration": 21,
    "start_time": "2023-11-21T18:17:57.751Z"
   },
   {
    "duration": 231,
    "start_time": "2023-11-21T18:17:57.773Z"
   },
   {
    "duration": 979,
    "start_time": "2023-11-21T18:17:58.006Z"
   },
   {
    "duration": 511,
    "start_time": "2023-11-21T18:17:58.987Z"
   },
   {
    "duration": 221,
    "start_time": "2023-11-21T18:17:59.499Z"
   },
   {
    "duration": 272,
    "start_time": "2023-11-21T18:17:59.721Z"
   },
   {
    "duration": 655,
    "start_time": "2023-11-21T18:17:59.994Z"
   },
   {
    "duration": 563,
    "start_time": "2023-11-21T18:18:00.650Z"
   },
   {
    "duration": 592,
    "start_time": "2023-11-21T18:18:01.215Z"
   },
   {
    "duration": 563,
    "start_time": "2023-11-21T18:18:01.808Z"
   },
   {
    "duration": 175,
    "start_time": "2023-11-21T18:18:02.373Z"
   },
   {
    "duration": 517,
    "start_time": "2023-11-21T18:18:02.550Z"
   },
   {
    "duration": 555,
    "start_time": "2023-11-21T18:18:03.068Z"
   },
   {
    "duration": 184,
    "start_time": "2023-11-21T18:18:03.625Z"
   },
   {
    "duration": 304,
    "start_time": "2023-11-21T18:18:03.811Z"
   },
   {
    "duration": 190,
    "start_time": "2023-11-21T18:18:04.117Z"
   },
   {
    "duration": 258,
    "start_time": "2023-11-21T18:18:04.308Z"
   },
   {
    "duration": 15,
    "start_time": "2023-11-21T18:18:04.568Z"
   },
   {
    "duration": 13,
    "start_time": "2023-11-21T18:18:04.584Z"
   },
   {
    "duration": 564,
    "start_time": "2023-11-21T18:19:42.421Z"
   },
   {
    "duration": 618,
    "start_time": "2023-11-21T18:19:47.428Z"
   },
   {
    "duration": 562,
    "start_time": "2023-11-21T18:19:50.378Z"
   }
  ],
  "kernelspec": {
   "display_name": "Python 3 (ipykernel)",
   "language": "python",
   "name": "python3"
  },
  "language_info": {
   "codemirror_mode": {
    "name": "ipython",
    "version": 3
   },
   "file_extension": ".py",
   "mimetype": "text/x-python",
   "name": "python",
   "nbconvert_exporter": "python",
   "pygments_lexer": "ipython3",
   "version": "3.9.5"
  },
  "toc": {
   "base_numbering": 1,
   "nav_menu": {},
   "number_sections": true,
   "sideBar": true,
   "skip_h1_title": true,
   "title_cell": "Table of Contents",
   "title_sidebar": "Contents",
   "toc_cell": false,
   "toc_position": {},
   "toc_section_display": true,
   "toc_window_display": true
  }
 },
 "nbformat": 4,
 "nbformat_minor": 2
}
