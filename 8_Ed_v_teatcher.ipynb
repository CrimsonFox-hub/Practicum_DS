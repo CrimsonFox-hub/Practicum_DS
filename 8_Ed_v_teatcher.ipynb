{
 "cells": [
  {
   "cell_type": "markdown",
   "metadata": {},
   "source": [
    "### Самостоятельный проект. Обучение с учителем: качество модели"
   ]
  },
  {
   "cell_type": "markdown",
   "metadata": {},
   "source": [
    "#### Описание проекта\n",
    "Интернет-магазин «В один клик» продаёт разные товары: для детей, для дома, мелкую бытовую технику, косметику и даже продукты. \\\n",
    "Отчёт магазина за прошлый период показал, что активность покупателей начала снижаться. \\\n",
    "Привлекать новых клиентов уже не так эффективно: о магазине и так знает большая часть целевой аудитории.\\\n",
    " Возможный выход — удерживать активность постоянных клиентов. Сделать это можно с помощью персонализированных предложений.\\\n",
    "«В один клик» — современная компания, поэтому её руководство не хочет принимать решения просто так — только на основе анализа данных и бизнес-моделирования.\\\n",
    " У компании есть небольшой отдел цифровых технологий, и вам предстоит побыть в роли стажёра в этом отделе. \\\n",
    "Итак, вашему отделу поручили разработать решение, которое позволит персонализировать предложения постоянным клиентам, чтобы увеличить их покупательскую активность.\\"
   ]
  },
  {
   "cell_type": "markdown",
   "metadata": {},
   "source": [
    "#### Как решать задачу\n",
    "Продумывать подход к решению этой задачи вам не придётся — руководитель отдела его уже сформировал:\\\n",
    "Нужно промаркировать уровень финансовой активности постоянных покупателей.\\\n",
    " В компании принято выделять два уровня активности: «снизилась», если клиент стал покупать меньше товаров, и «прежний уровень».\\\n",
    "Нужно собрать данные по клиентам по следующим группам:\n",
    "- Признаки, которые описывают коммуникацию сотрудников компании с клиентом.\n",
    "- Признаки, которые описывают продуктовое поведение покупателя. Например, какие товары покупает и как часто.\n",
    "- Признаки, которые описывают покупательское поведение клиента. Например, сколько тратил в магазине.\n",
    "- Признаки, которые описывают поведение покупателя на сайте. Например, как много страниц просматривает и сколько времени проводит на сайте.\n",
    "\n",
    "\n",
    "1. Нужно построить модель, которая предскажет вероятность снижения покупательской активности клиента в следующие три месяца.\n",
    "2. В исследование нужно включить дополнительные данные финансового департамента о прибыльности клиента: какой доход каждый покупатель приносил компании за последние три месяца.\n",
    "3. Используя данные модели и данные о прибыльности клиентов, нужно выделить сегменты покупателей и разработать для них персонализированные предложения.\\\n",
    "Руководство одобрило описание решения, и вам, как специалисту по DS, нужно его реализовать."
   ]
  },
  {
   "cell_type": "markdown",
   "metadata": {},
   "source": [
    "#### Описание данных\n",
    "\n",
    "##### market_file.csv\n",
    "Таблица, которая содержит данные о поведении покупателя на сайте, о коммуникациях с покупателем и его продуктовом поведении.\\\n",
    "- id — номер покупателя в корпоративной базе данных.\n",
    "- Покупательская активность — рассчитанный класс покупательской активности (целевой признак): «снизилась» или «прежний уровень».\n",
    "- Тип сервиса — уровень сервиса, например «премиум» и «стандарт».\n",
    "- Разрешить сообщать — информация о том, можно ли присылать покупателю дополнительные предложения о товаре. Согласие на это даёт покупатель.\n",
    "- Маркет_актив_6_мес — среднемесячное значение маркетинговых коммуникаций компании, которое приходилось на покупателя за последние 6 месяцев. Это значение показывает, какое число рассылок, звонков, показов рекламы и прочего приходилось на клиента.\n",
    "- Маркет_актив_тек_мес — количество маркетинговых коммуникаций в текущем месяце.\n",
    "- Длительность — значение, которое показывает, сколько дней прошло с момента регистрации покупателя на сайте.\n",
    "- Акционные_покупки — среднемесячная доля покупок по акции от общего числа покупок за последние 6 месяцев.\n",
    "- Популярная_категория — самая популярная категория товаров у покупателя за последние 6 месяцев.\n",
    "- Средний_просмотр_категорий_за_визит — показывает, сколько в среднем категорий покупатель просмотрел за визит в течение последнего месяца.\n",
    "- Неоплаченные_продукты_штук_квартал — общее число неоплаченных товаров в корзине за последние 3 месяца.\n",
    "- Ошибка_сервиса — число сбоев, которые коснулись покупателя во время посещения сайта.\n",
    "- Страниц_за_визит — среднее количество страниц, которые просмотрел покупатель за один визит на сайт за последние 3 месяца.\n",
    "##### market_money.csv\n",
    "Таблица с данными о выручке, которую получает магазин с покупателя, то есть сколько покупатель всего потратил за период взаимодействия с сайтом.\n",
    "- id — номер покупателя в корпоративной базе данных.\n",
    "- Период — название периода, во время которого зафиксирована выручка. Например,\n",
    "'текущий_месяц' или 'предыдущий_месяц'.\n",
    "- Выручка — сумма выручки за период.\n",
    "##### market_time.csv\n",
    "- Таблица с данными о времени (в минутах), которое покупатель провёл на сайте в течение периода.\n",
    "- id — номер покупателя в корпоративной базе данных.\n",
    "- Период — название периода, во время которого зафиксировано общее время.\n",
    "- минут — значение времени, проведённого на сайте, в минутах.\n",
    "##### money.csv\n",
    "Таблица с данными о среднемесячной прибыли покупателя за последние 3 месяца: какую прибыль получает магазин от продаж каждому покупателю.\n",
    "- id — номер покупателя в корпоративной базе данных.\n",
    "- Прибыль — значение прибыли."
   ]
  },
  {
   "cell_type": "markdown",
   "metadata": {},
   "source": [
    "План работы:\n",
    "- Шаг 1. Загрузка и изучение данных;\n",
    "- Шаг 2. Предобработка данных;\n",
    "- Шаг 3. Исследовательский анализ данных;\n",
    "- Шаг 4. Объединение таблиц;\n",
    "- Шаг 5. Корреляционный анализ;\n",
    "- Шаг 6. Использование пайплайнов;\n",
    "- Шаг 7. Анализ важности признаков;\n",
    "- Шаг 8. Сегментация покупателей;\n",
    "- Шаг 9. Общий вывод."
   ]
  },
  {
   "cell_type": "markdown",
   "metadata": {},
   "source": [
    "### Шаг 1. Загрузка и изучение данных;"
   ]
  },
  {
   "cell_type": "markdown",
   "metadata": {},
   "source": [
    "Импорты"
   ]
  },
  {
   "cell_type": "code",
   "execution_count": 1,
   "metadata": {},
   "outputs": [],
   "source": [
    "import sys\n",
    "import pandas as pd\n",
    "import numpy as np\n",
    "import seaborn as sns\n",
    "import matplotlib.pyplot as plt\n",
    "import statsmodels.api as sm\n",
    "!{sys.executable} -m pip install shap -q\n",
    "import shap\n",
    "\n",
    "from sklearn.model_selection import train_test_split, GridSearchCV, RandomizedSearchCV\n",
    "from sklearn.preprocessing import OrdinalEncoder, StandardScaler, OneHotEncoder, LabelEncoder, MinMaxScaler\n",
    "from sklearn.utils import shuffle\n",
    "from sklearn.ensemble import RandomForestClassifier, RandomForestRegressor\n",
    "from sklearn.tree import DecisionTreeClassifier\n",
    "from sklearn.linear_model import LogisticRegression, LinearRegression\n",
    "from sklearn.cluster import KMeans\n",
    "from sklearn.compose import ColumnTransformer\n",
    "from sklearn.impute import SimpleImputer\n",
    "from sklearn.pipeline import Pipeline, make_pipeline\n",
    "from sklearn.metrics import r2_score, mean_squared_error, mean_absolute_error, accuracy_score,\\\n",
    "precision_score, recall_score, confusion_matrix, mean_absolute_error,\\\n",
    "f1_score, accuracy_score, roc_auc_score\n",
    "from sklearn.neighbors import KNeighborsRegressor, KNeighborsClassifier\n",
    "from sklearn.svm import SVR, SVC\n",
    "\n",
    "from warnings import simplefilter\n",
    "simplefilter(action='ignore', category=FutureWarning)\n"
   ]
  },
  {
   "cell_type": "markdown",
   "metadata": {},
   "source": [
    "Загрузка датафреймов из csv"
   ]
  },
  {
   "cell_type": "code",
   "execution_count": 2,
   "metadata": {},
   "outputs": [],
   "source": [
    "market_file = pd.read_csv('/datasets/market_file.csv', sep=',')\n",
    "market_money = pd.read_csv('/datasets/market_money.csv', sep=',')\n",
    "market_time = pd.read_csv('/datasets/market_time.csv', sep=',')\n",
    "money = pd.read_csv('/datasets/money.csv', sep=';', decimal=\",\")"
   ]
  },
  {
   "cell_type": "markdown",
   "metadata": {},
   "source": [
    "Просмотр данных "
   ]
  },
  {
   "cell_type": "code",
   "execution_count": 3,
   "metadata": {},
   "outputs": [],
   "source": [
    "def inform(data):\n",
    "    # Вывод информации о датасете\n",
    "    print(\"Информация о датасете:\")\n",
    "    print(data.info())\n",
    "    \n",
    "    # Разделительная строка\n",
    "    print(\"\\n\" + \"=\"*50 + \"\\n\")\n",
    "    \n",
    "    # Вывод первых нескольких строк датасета\n",
    "    print(\"Первые несколько строк датасета:\")\n",
    "    display(data.head())\n",
    "    "
   ]
  },
  {
   "cell_type": "markdown",
   "metadata": {},
   "source": [
    "Функция для графиков"
   ]
  },
  {
   "cell_type": "code",
   "execution_count": 4,
   "metadata": {},
   "outputs": [],
   "source": [
    "def visualize_data(data, cols):\n",
    "    num_plots = len(cols)\n",
    "    fig, ax = plt.subplots(num_plots, 2, figsize=(10, 5*num_plots))\n",
    "\n",
    "    for i, col in enumerate(cols):\n",
    "        sns.histplot(data[col], kde=False, ax=ax[i][0])\n",
    "        ax[i][0].set_title(f'Гистограмма столбца {col}')\n",
    "\n",
    "        sns.boxplot(x=data[col], ax=ax[i][1])\n",
    "        ax[i][1].set_title(f'Ящик с усами столбца {col}')\n",
    "\n",
    "    plt.tight_layout()\n",
    "    plt.show()"
   ]
  },
  {
   "cell_type": "code",
   "execution_count": 5,
   "metadata": {},
   "outputs": [],
   "source": [
    "def visualize_data_2(data, cols):\n",
    "    num_plots = len(cols)\n",
    "    fig, ax = plt.subplots(num_plots, 2, figsize=(10, 5*num_plots))\n",
    "\n",
    "    for i, col in enumerate(cols):\n",
    "        sns.histplot(data[col], kde=False, bins=50, ax=ax[i][0])\n",
    "        ax[i][0].set_title(f'Гистограмма столбца {col}')\n",
    "\n",
    "        data[col].value_counts().plot(kind='bar', ax=ax[i][1])\n",
    "        ax[i][1].set_title(f'График столбца {col}')\n",
    "\n",
    "    plt.tight_layout()\n",
    "    plt.show()"
   ]
  },
  {
   "cell_type": "code",
   "execution_count": 6,
   "metadata": {},
   "outputs": [
    {
     "name": "stdout",
     "output_type": "stream",
     "text": [
      "Информация о датасете:\n",
      "<class 'pandas.core.frame.DataFrame'>\n",
      "RangeIndex: 1300 entries, 0 to 1299\n",
      "Data columns (total 13 columns):\n",
      " #   Column                               Non-Null Count  Dtype  \n",
      "---  ------                               --------------  -----  \n",
      " 0   id                                   1300 non-null   int64  \n",
      " 1   Покупательская активность            1300 non-null   object \n",
      " 2   Тип сервиса                          1300 non-null   object \n",
      " 3   Разрешить сообщать                   1300 non-null   object \n",
      " 4   Маркет_актив_6_мес                   1300 non-null   float64\n",
      " 5   Маркет_актив_тек_мес                 1300 non-null   int64  \n",
      " 6   Длительность                         1300 non-null   int64  \n",
      " 7   Акционные_покупки                    1300 non-null   float64\n",
      " 8   Популярная_категория                 1300 non-null   object \n",
      " 9   Средний_просмотр_категорий_за_визит  1300 non-null   int64  \n",
      " 10  Неоплаченные_продукты_штук_квартал   1300 non-null   int64  \n",
      " 11  Ошибка_сервиса                       1300 non-null   int64  \n",
      " 12  Страниц_за_визит                     1300 non-null   int64  \n",
      "dtypes: float64(2), int64(7), object(4)\n",
      "memory usage: 132.2+ KB\n",
      "None\n",
      "\n",
      "==================================================\n",
      "\n",
      "Первые несколько строк датасета:\n"
     ]
    },
    {
     "data": {
      "text/html": [
       "<div>\n",
       "<style scoped>\n",
       "    .dataframe tbody tr th:only-of-type {\n",
       "        vertical-align: middle;\n",
       "    }\n",
       "\n",
       "    .dataframe tbody tr th {\n",
       "        vertical-align: top;\n",
       "    }\n",
       "\n",
       "    .dataframe thead th {\n",
       "        text-align: right;\n",
       "    }\n",
       "</style>\n",
       "<table border=\"1\" class=\"dataframe\">\n",
       "  <thead>\n",
       "    <tr style=\"text-align: right;\">\n",
       "      <th></th>\n",
       "      <th>id</th>\n",
       "      <th>Покупательская активность</th>\n",
       "      <th>Тип сервиса</th>\n",
       "      <th>Разрешить сообщать</th>\n",
       "      <th>Маркет_актив_6_мес</th>\n",
       "      <th>Маркет_актив_тек_мес</th>\n",
       "      <th>Длительность</th>\n",
       "      <th>Акционные_покупки</th>\n",
       "      <th>Популярная_категория</th>\n",
       "      <th>Средний_просмотр_категорий_за_визит</th>\n",
       "      <th>Неоплаченные_продукты_штук_квартал</th>\n",
       "      <th>Ошибка_сервиса</th>\n",
       "      <th>Страниц_за_визит</th>\n",
       "    </tr>\n",
       "  </thead>\n",
       "  <tbody>\n",
       "    <tr>\n",
       "      <th>0</th>\n",
       "      <td>215348</td>\n",
       "      <td>Снизилась</td>\n",
       "      <td>премиум</td>\n",
       "      <td>да</td>\n",
       "      <td>3.4</td>\n",
       "      <td>5</td>\n",
       "      <td>121</td>\n",
       "      <td>0.00</td>\n",
       "      <td>Товары для детей</td>\n",
       "      <td>6</td>\n",
       "      <td>2</td>\n",
       "      <td>1</td>\n",
       "      <td>5</td>\n",
       "    </tr>\n",
       "    <tr>\n",
       "      <th>1</th>\n",
       "      <td>215349</td>\n",
       "      <td>Снизилась</td>\n",
       "      <td>премиум</td>\n",
       "      <td>да</td>\n",
       "      <td>4.4</td>\n",
       "      <td>4</td>\n",
       "      <td>819</td>\n",
       "      <td>0.75</td>\n",
       "      <td>Товары для детей</td>\n",
       "      <td>4</td>\n",
       "      <td>4</td>\n",
       "      <td>2</td>\n",
       "      <td>5</td>\n",
       "    </tr>\n",
       "    <tr>\n",
       "      <th>2</th>\n",
       "      <td>215350</td>\n",
       "      <td>Снизилась</td>\n",
       "      <td>стандартт</td>\n",
       "      <td>нет</td>\n",
       "      <td>4.9</td>\n",
       "      <td>3</td>\n",
       "      <td>539</td>\n",
       "      <td>0.14</td>\n",
       "      <td>Домашний текстиль</td>\n",
       "      <td>5</td>\n",
       "      <td>2</td>\n",
       "      <td>1</td>\n",
       "      <td>5</td>\n",
       "    </tr>\n",
       "    <tr>\n",
       "      <th>3</th>\n",
       "      <td>215351</td>\n",
       "      <td>Снизилась</td>\n",
       "      <td>стандартт</td>\n",
       "      <td>да</td>\n",
       "      <td>3.2</td>\n",
       "      <td>5</td>\n",
       "      <td>896</td>\n",
       "      <td>0.99</td>\n",
       "      <td>Товары для детей</td>\n",
       "      <td>5</td>\n",
       "      <td>0</td>\n",
       "      <td>6</td>\n",
       "      <td>4</td>\n",
       "    </tr>\n",
       "    <tr>\n",
       "      <th>4</th>\n",
       "      <td>215352</td>\n",
       "      <td>Снизилась</td>\n",
       "      <td>стандартт</td>\n",
       "      <td>нет</td>\n",
       "      <td>5.1</td>\n",
       "      <td>3</td>\n",
       "      <td>1064</td>\n",
       "      <td>0.94</td>\n",
       "      <td>Товары для детей</td>\n",
       "      <td>3</td>\n",
       "      <td>2</td>\n",
       "      <td>3</td>\n",
       "      <td>2</td>\n",
       "    </tr>\n",
       "  </tbody>\n",
       "</table>\n",
       "</div>"
      ],
      "text/plain": [
       "       id Покупательская активность Тип сервиса Разрешить сообщать  \\\n",
       "0  215348                 Снизилась     премиум                 да   \n",
       "1  215349                 Снизилась     премиум                 да   \n",
       "2  215350                 Снизилась   стандартт                нет   \n",
       "3  215351                 Снизилась   стандартт                 да   \n",
       "4  215352                 Снизилась   стандартт                нет   \n",
       "\n",
       "   Маркет_актив_6_мес  Маркет_актив_тек_мес  Длительность  Акционные_покупки  \\\n",
       "0                 3.4                     5           121               0.00   \n",
       "1                 4.4                     4           819               0.75   \n",
       "2                 4.9                     3           539               0.14   \n",
       "3                 3.2                     5           896               0.99   \n",
       "4                 5.1                     3          1064               0.94   \n",
       "\n",
       "  Популярная_категория  Средний_просмотр_категорий_за_визит  \\\n",
       "0     Товары для детей                                    6   \n",
       "1     Товары для детей                                    4   \n",
       "2    Домашний текстиль                                    5   \n",
       "3     Товары для детей                                    5   \n",
       "4     Товары для детей                                    3   \n",
       "\n",
       "   Неоплаченные_продукты_штук_квартал  Ошибка_сервиса  Страниц_за_визит  \n",
       "0                                   2               1                 5  \n",
       "1                                   4               2                 5  \n",
       "2                                   2               1                 5  \n",
       "3                                   0               6                 4  \n",
       "4                                   2               3                 2  "
      ]
     },
     "metadata": {},
     "output_type": "display_data"
    }
   ],
   "source": [
    "inform(market_file)"
   ]
  },
  {
   "cell_type": "code",
   "execution_count": 7,
   "metadata": {},
   "outputs": [
    {
     "name": "stdout",
     "output_type": "stream",
     "text": [
      "Информация о датасете:\n",
      "<class 'pandas.core.frame.DataFrame'>\n",
      "RangeIndex: 3900 entries, 0 to 3899\n",
      "Data columns (total 3 columns):\n",
      " #   Column   Non-Null Count  Dtype  \n",
      "---  ------   --------------  -----  \n",
      " 0   id       3900 non-null   int64  \n",
      " 1   Период   3900 non-null   object \n",
      " 2   Выручка  3900 non-null   float64\n",
      "dtypes: float64(1), int64(1), object(1)\n",
      "memory usage: 91.5+ KB\n",
      "None\n",
      "\n",
      "==================================================\n",
      "\n",
      "Первые несколько строк датасета:\n"
     ]
    },
    {
     "data": {
      "text/html": [
       "<div>\n",
       "<style scoped>\n",
       "    .dataframe tbody tr th:only-of-type {\n",
       "        vertical-align: middle;\n",
       "    }\n",
       "\n",
       "    .dataframe tbody tr th {\n",
       "        vertical-align: top;\n",
       "    }\n",
       "\n",
       "    .dataframe thead th {\n",
       "        text-align: right;\n",
       "    }\n",
       "</style>\n",
       "<table border=\"1\" class=\"dataframe\">\n",
       "  <thead>\n",
       "    <tr style=\"text-align: right;\">\n",
       "      <th></th>\n",
       "      <th>id</th>\n",
       "      <th>Период</th>\n",
       "      <th>Выручка</th>\n",
       "    </tr>\n",
       "  </thead>\n",
       "  <tbody>\n",
       "    <tr>\n",
       "      <th>0</th>\n",
       "      <td>215348</td>\n",
       "      <td>препредыдущий_месяц</td>\n",
       "      <td>0.0</td>\n",
       "    </tr>\n",
       "    <tr>\n",
       "      <th>1</th>\n",
       "      <td>215348</td>\n",
       "      <td>текущий_месяц</td>\n",
       "      <td>3293.1</td>\n",
       "    </tr>\n",
       "    <tr>\n",
       "      <th>2</th>\n",
       "      <td>215348</td>\n",
       "      <td>предыдущий_месяц</td>\n",
       "      <td>0.0</td>\n",
       "    </tr>\n",
       "    <tr>\n",
       "      <th>3</th>\n",
       "      <td>215349</td>\n",
       "      <td>препредыдущий_месяц</td>\n",
       "      <td>4472.0</td>\n",
       "    </tr>\n",
       "    <tr>\n",
       "      <th>4</th>\n",
       "      <td>215349</td>\n",
       "      <td>текущий_месяц</td>\n",
       "      <td>4971.6</td>\n",
       "    </tr>\n",
       "  </tbody>\n",
       "</table>\n",
       "</div>"
      ],
      "text/plain": [
       "       id               Период  Выручка\n",
       "0  215348  препредыдущий_месяц      0.0\n",
       "1  215348        текущий_месяц   3293.1\n",
       "2  215348     предыдущий_месяц      0.0\n",
       "3  215349  препредыдущий_месяц   4472.0\n",
       "4  215349        текущий_месяц   4971.6"
      ]
     },
     "metadata": {},
     "output_type": "display_data"
    }
   ],
   "source": [
    "inform(market_money)"
   ]
  },
  {
   "cell_type": "code",
   "execution_count": 8,
   "metadata": {},
   "outputs": [
    {
     "name": "stdout",
     "output_type": "stream",
     "text": [
      "Информация о датасете:\n",
      "<class 'pandas.core.frame.DataFrame'>\n",
      "RangeIndex: 2600 entries, 0 to 2599\n",
      "Data columns (total 3 columns):\n",
      " #   Column  Non-Null Count  Dtype \n",
      "---  ------  --------------  ----- \n",
      " 0   id      2600 non-null   int64 \n",
      " 1   Период  2600 non-null   object\n",
      " 2   минут   2600 non-null   int64 \n",
      "dtypes: int64(2), object(1)\n",
      "memory usage: 61.1+ KB\n",
      "None\n",
      "\n",
      "==================================================\n",
      "\n",
      "Первые несколько строк датасета:\n"
     ]
    },
    {
     "data": {
      "text/html": [
       "<div>\n",
       "<style scoped>\n",
       "    .dataframe tbody tr th:only-of-type {\n",
       "        vertical-align: middle;\n",
       "    }\n",
       "\n",
       "    .dataframe tbody tr th {\n",
       "        vertical-align: top;\n",
       "    }\n",
       "\n",
       "    .dataframe thead th {\n",
       "        text-align: right;\n",
       "    }\n",
       "</style>\n",
       "<table border=\"1\" class=\"dataframe\">\n",
       "  <thead>\n",
       "    <tr style=\"text-align: right;\">\n",
       "      <th></th>\n",
       "      <th>id</th>\n",
       "      <th>Период</th>\n",
       "      <th>минут</th>\n",
       "    </tr>\n",
       "  </thead>\n",
       "  <tbody>\n",
       "    <tr>\n",
       "      <th>0</th>\n",
       "      <td>215348</td>\n",
       "      <td>текущий_месяц</td>\n",
       "      <td>14</td>\n",
       "    </tr>\n",
       "    <tr>\n",
       "      <th>1</th>\n",
       "      <td>215348</td>\n",
       "      <td>предыдцщий_месяц</td>\n",
       "      <td>13</td>\n",
       "    </tr>\n",
       "    <tr>\n",
       "      <th>2</th>\n",
       "      <td>215349</td>\n",
       "      <td>текущий_месяц</td>\n",
       "      <td>10</td>\n",
       "    </tr>\n",
       "    <tr>\n",
       "      <th>3</th>\n",
       "      <td>215349</td>\n",
       "      <td>предыдцщий_месяц</td>\n",
       "      <td>12</td>\n",
       "    </tr>\n",
       "    <tr>\n",
       "      <th>4</th>\n",
       "      <td>215350</td>\n",
       "      <td>текущий_месяц</td>\n",
       "      <td>13</td>\n",
       "    </tr>\n",
       "  </tbody>\n",
       "</table>\n",
       "</div>"
      ],
      "text/plain": [
       "       id            Период  минут\n",
       "0  215348     текущий_месяц     14\n",
       "1  215348  предыдцщий_месяц     13\n",
       "2  215349     текущий_месяц     10\n",
       "3  215349  предыдцщий_месяц     12\n",
       "4  215350     текущий_месяц     13"
      ]
     },
     "metadata": {},
     "output_type": "display_data"
    }
   ],
   "source": [
    "inform(market_time)"
   ]
  },
  {
   "cell_type": "code",
   "execution_count": 9,
   "metadata": {},
   "outputs": [
    {
     "name": "stdout",
     "output_type": "stream",
     "text": [
      "Информация о датасете:\n",
      "<class 'pandas.core.frame.DataFrame'>\n",
      "RangeIndex: 1300 entries, 0 to 1299\n",
      "Data columns (total 2 columns):\n",
      " #   Column   Non-Null Count  Dtype  \n",
      "---  ------   --------------  -----  \n",
      " 0   id       1300 non-null   int64  \n",
      " 1   Прибыль  1300 non-null   float64\n",
      "dtypes: float64(1), int64(1)\n",
      "memory usage: 20.4 KB\n",
      "None\n",
      "\n",
      "==================================================\n",
      "\n",
      "Первые несколько строк датасета:\n"
     ]
    },
    {
     "data": {
      "text/html": [
       "<div>\n",
       "<style scoped>\n",
       "    .dataframe tbody tr th:only-of-type {\n",
       "        vertical-align: middle;\n",
       "    }\n",
       "\n",
       "    .dataframe tbody tr th {\n",
       "        vertical-align: top;\n",
       "    }\n",
       "\n",
       "    .dataframe thead th {\n",
       "        text-align: right;\n",
       "    }\n",
       "</style>\n",
       "<table border=\"1\" class=\"dataframe\">\n",
       "  <thead>\n",
       "    <tr style=\"text-align: right;\">\n",
       "      <th></th>\n",
       "      <th>id</th>\n",
       "      <th>Прибыль</th>\n",
       "    </tr>\n",
       "  </thead>\n",
       "  <tbody>\n",
       "    <tr>\n",
       "      <th>0</th>\n",
       "      <td>215348</td>\n",
       "      <td>0.98</td>\n",
       "    </tr>\n",
       "    <tr>\n",
       "      <th>1</th>\n",
       "      <td>215349</td>\n",
       "      <td>4.16</td>\n",
       "    </tr>\n",
       "    <tr>\n",
       "      <th>2</th>\n",
       "      <td>215350</td>\n",
       "      <td>3.13</td>\n",
       "    </tr>\n",
       "    <tr>\n",
       "      <th>3</th>\n",
       "      <td>215351</td>\n",
       "      <td>4.87</td>\n",
       "    </tr>\n",
       "    <tr>\n",
       "      <th>4</th>\n",
       "      <td>215352</td>\n",
       "      <td>4.21</td>\n",
       "    </tr>\n",
       "  </tbody>\n",
       "</table>\n",
       "</div>"
      ],
      "text/plain": [
       "       id  Прибыль\n",
       "0  215348     0.98\n",
       "1  215349     4.16\n",
       "2  215350     3.13\n",
       "3  215351     4.87\n",
       "4  215352     4.21"
      ]
     },
     "metadata": {},
     "output_type": "display_data"
    }
   ],
   "source": [
    "inform(money)"
   ]
  },
  {
   "cell_type": "markdown",
   "metadata": {},
   "source": [
    "### Шаг 2. Предобработка данных"
   ]
  },
  {
   "cell_type": "markdown",
   "metadata": {},
   "source": [
    "На основе рассмотрения данных предобработка будез заключаться в проверке на дубликаты и замене , на . для корректного преобразования данных"
   ]
  },
  {
   "cell_type": "markdown",
   "metadata": {},
   "source": [
    "#### Проверка на пропуски"
   ]
  },
  {
   "cell_type": "code",
   "execution_count": 10,
   "metadata": {},
   "outputs": [
    {
     "name": "stdout",
     "output_type": "stream",
     "text": [
      "==market_file==\n",
      "id                                     0\n",
      "Покупательская активность              0\n",
      "Тип сервиса                            0\n",
      "Разрешить сообщать                     0\n",
      "Маркет_актив_6_мес                     0\n",
      "Маркет_актив_тек_мес                   0\n",
      "Длительность                           0\n",
      "Акционные_покупки                      0\n",
      "Популярная_категория                   0\n",
      "Средний_просмотр_категорий_за_визит    0\n",
      "Неоплаченные_продукты_штук_квартал     0\n",
      "Ошибка_сервиса                         0\n",
      "Страниц_за_визит                       0\n",
      "dtype: int64\n",
      "==market_money==\n",
      "id         0\n",
      "Период     0\n",
      "Выручка    0\n",
      "dtype: int64\n",
      "==market_time==\n",
      "id        0\n",
      "Период    0\n",
      "минут     0\n",
      "dtype: int64\n",
      "==money==\n",
      "id         0\n",
      "Прибыль    0\n",
      "dtype: int64\n"
     ]
    }
   ],
   "source": [
    "print('==market_file==')\n",
    "print(market_file.isna().sum())\n",
    "print('==market_money==')\n",
    "print(market_money.isna().sum())\n",
    "print('==market_time==')\n",
    "print(market_time.isna().sum())\n",
    "print('==money==')\n",
    "print(money.isna().sum())"
   ]
  },
  {
   "cell_type": "markdown",
   "metadata": {},
   "source": [
    "#### Проверка на дубликаты"
   ]
  },
  {
   "cell_type": "code",
   "execution_count": 11,
   "metadata": {},
   "outputs": [
    {
     "name": "stdout",
     "output_type": "stream",
     "text": [
      "==market_file==\n",
      "0\n",
      "==market_money==\n",
      "0\n",
      "==market_time==\n",
      "0\n",
      "==money==\n",
      "0\n"
     ]
    }
   ],
   "source": [
    "market_file = market_file.drop_duplicates()\n",
    "market_money = market_money.drop_duplicates()\n",
    "market_time = market_time.drop_duplicates()\n",
    "money = money.drop_duplicates()\n",
    "\n",
    "print('==market_file==')\n",
    "print(market_file.duplicated().sum())\n",
    "print('==market_money==')\n",
    "print(market_money.duplicated().sum())\n",
    "print('==market_time==')\n",
    "print(market_time.duplicated().sum())\n",
    "print('==money==')\n",
    "print(money.duplicated().sum())"
   ]
  },
  {
   "cell_type": "code",
   "execution_count": 12,
   "metadata": {},
   "outputs": [
    {
     "data": {
      "text/plain": [
       "id                                     [215348, 215349, 215350, 215351, 215352, 21535...\n",
       "Покупательская активность                                   [Снизилась, Прежний уровень]\n",
       "Тип сервиса                                                          [премиум, стандарт]\n",
       "Разрешить сообщать                                                             [да, нет]\n",
       "Маркет_актив_6_мес                     [3.4, 4.4, 4.9, 3.2, 5.1, 3.3, 4.7, 4.2, 3.9, ...\n",
       "Маркет_актив_тек_мес                                                           [5, 4, 3]\n",
       "Длительность                           [121, 819, 539, 896, 1064, 762, 431, 284, 192,...\n",
       "Акционные_покупки                      [0.0, 0.75, 0.14, 0.99, 0.94, 0.26, 0.23, 0.17...\n",
       "Популярная_категория                   [Товары для детей, Домашний текстиль, Косметик...\n",
       "Средний_просмотр_категорий_за_визит                                   [6, 4, 5, 3, 2, 1]\n",
       "Неоплаченные_продукты_штук_квартал                    [2, 4, 0, 1, 3, 5, 8, 6, 9, 10, 7]\n",
       "Ошибка_сервиса                                            [1, 2, 6, 3, 7, 9, 4, 5, 8, 0]\n",
       "Страниц_за_визит                       [5, 4, 2, 3, 7, 1, 6, 8, 9, 14, 11, 15, 16, 10...\n",
       "dtype: object"
      ]
     },
     "execution_count": 12,
     "metadata": {},
     "output_type": "execute_result"
    }
   ],
   "source": [
    "market_file['Тип сервиса'] = market_file['Тип сервиса'].replace('стандартт', 'стандарт', regex=True)\n",
    "market_file.apply(lambda x: x.unique())"
   ]
  },
  {
   "cell_type": "code",
   "execution_count": 13,
   "metadata": {},
   "outputs": [
    {
     "data": {
      "text/plain": [
       "array(['Товары для детей', 'Домашний текстиль', 'Косметика и аксесуары',\n",
       "       'Техника для красоты и здоровья', 'Кухонная посуда',\n",
       "       'Мелкая бытовая техника и электроника'], dtype=object)"
      ]
     },
     "execution_count": 13,
     "metadata": {},
     "output_type": "execute_result"
    }
   ],
   "source": [
    "market_file['Популярная_категория'].unique()"
   ]
  },
  {
   "cell_type": "code",
   "execution_count": 14,
   "metadata": {},
   "outputs": [
    {
     "data": {
      "text/plain": [
       "id         [215348, 215349, 215350, 215351, 215352, 21535...\n",
       "Период                     [предыдущий_месяц, текущий_месяц]\n",
       "Выручка    [0.0, 3293.1, 4472.0, 4971.6, 5216.0, 4826.0, ...\n",
       "dtype: object"
      ]
     },
     "execution_count": 14,
     "metadata": {},
     "output_type": "execute_result"
    }
   ],
   "source": [
    "market_money['Период'] = market_money['Период'].replace('препредыдущий_месяц', 'предыдущий_месяц', regex=True)\n",
    "market_money.apply(lambda x: x.unique())"
   ]
  },
  {
   "cell_type": "code",
   "execution_count": 15,
   "metadata": {},
   "outputs": [
    {
     "data": {
      "text/plain": [
       "id        [215348, 215349, 215350, 215351, 215352, 21535...\n",
       "Период                    [текущий_месяц, предыдущий_месяц]\n",
       "минут     [14, 13, 10, 12, 8, 11, 6, 7, 9, 5, 15, 4, 16,...\n",
       "dtype: object"
      ]
     },
     "execution_count": 15,
     "metadata": {},
     "output_type": "execute_result"
    }
   ],
   "source": [
    "market_time['Период'] = market_time['Период'].replace('предыдцщий_месяц', 'предыдущий_месяц', regex=True)\n",
    "market_time.apply(lambda x: x.unique())"
   ]
  },
  {
   "cell_type": "code",
   "execution_count": 16,
   "metadata": {},
   "outputs": [
    {
     "data": {
      "text/plain": [
       "id         [215348, 215349, 215350, 215351, 215352, 21535...\n",
       "Прибыль    [0.98, 4.16, 3.13, 4.87, 4.21, 3.95, 3.62, 5.2...\n",
       "dtype: object"
      ]
     },
     "execution_count": 16,
     "metadata": {},
     "output_type": "execute_result"
    }
   ],
   "source": [
    "money['Прибыль'] = money['Прибыль'].replace(',', '.', regex=True).astype('float64')\n",
    "money.apply(lambda x: x.unique())"
   ]
  },
  {
   "cell_type": "markdown",
   "metadata": {},
   "source": [
    "### Шаг 3. Исследовательский анализ данных"
   ]
  },
  {
   "cell_type": "markdown",
   "metadata": {},
   "source": [
    "Статистический анализ"
   ]
  },
  {
   "cell_type": "code",
   "execution_count": 17,
   "metadata": {},
   "outputs": [
    {
     "name": "stdout",
     "output_type": "stream",
     "text": [
      "Статистика по числовым данным общего файла:\n"
     ]
    },
    {
     "data": {
      "text/html": [
       "<div>\n",
       "<style scoped>\n",
       "    .dataframe tbody tr th:only-of-type {\n",
       "        vertical-align: middle;\n",
       "    }\n",
       "\n",
       "    .dataframe tbody tr th {\n",
       "        vertical-align: top;\n",
       "    }\n",
       "\n",
       "    .dataframe thead th {\n",
       "        text-align: right;\n",
       "    }\n",
       "</style>\n",
       "<table border=\"1\" class=\"dataframe\">\n",
       "  <thead>\n",
       "    <tr style=\"text-align: right;\">\n",
       "      <th></th>\n",
       "      <th>Маркет_актив_6_мес</th>\n",
       "      <th>Маркет_актив_тек_мес</th>\n",
       "      <th>Длительность</th>\n",
       "      <th>Акционные_покупки</th>\n",
       "      <th>Средний_просмотр_категорий_за_визит</th>\n",
       "      <th>Неоплаченные_продукты_штук_квартал</th>\n",
       "      <th>Ошибка_сервиса</th>\n",
       "      <th>Страниц_за_визит</th>\n",
       "    </tr>\n",
       "  </thead>\n",
       "  <tbody>\n",
       "    <tr>\n",
       "      <th>count</th>\n",
       "      <td>1300.000000</td>\n",
       "      <td>1300.000000</td>\n",
       "      <td>1300.000000</td>\n",
       "      <td>1300.000000</td>\n",
       "      <td>1300.00000</td>\n",
       "      <td>1300.000000</td>\n",
       "      <td>1300.000000</td>\n",
       "      <td>1300.000000</td>\n",
       "    </tr>\n",
       "    <tr>\n",
       "      <th>mean</th>\n",
       "      <td>4.253769</td>\n",
       "      <td>4.011538</td>\n",
       "      <td>601.898462</td>\n",
       "      <td>0.319808</td>\n",
       "      <td>3.27000</td>\n",
       "      <td>2.840000</td>\n",
       "      <td>4.185385</td>\n",
       "      <td>8.176923</td>\n",
       "    </tr>\n",
       "    <tr>\n",
       "      <th>std</th>\n",
       "      <td>1.014814</td>\n",
       "      <td>0.696868</td>\n",
       "      <td>249.856289</td>\n",
       "      <td>0.249843</td>\n",
       "      <td>1.35535</td>\n",
       "      <td>1.971451</td>\n",
       "      <td>1.955298</td>\n",
       "      <td>3.978126</td>\n",
       "    </tr>\n",
       "    <tr>\n",
       "      <th>min</th>\n",
       "      <td>0.900000</td>\n",
       "      <td>3.000000</td>\n",
       "      <td>110.000000</td>\n",
       "      <td>0.000000</td>\n",
       "      <td>1.00000</td>\n",
       "      <td>0.000000</td>\n",
       "      <td>0.000000</td>\n",
       "      <td>1.000000</td>\n",
       "    </tr>\n",
       "    <tr>\n",
       "      <th>25%</th>\n",
       "      <td>3.700000</td>\n",
       "      <td>4.000000</td>\n",
       "      <td>405.500000</td>\n",
       "      <td>0.170000</td>\n",
       "      <td>2.00000</td>\n",
       "      <td>1.000000</td>\n",
       "      <td>3.000000</td>\n",
       "      <td>5.000000</td>\n",
       "    </tr>\n",
       "    <tr>\n",
       "      <th>50%</th>\n",
       "      <td>4.200000</td>\n",
       "      <td>4.000000</td>\n",
       "      <td>606.000000</td>\n",
       "      <td>0.240000</td>\n",
       "      <td>3.00000</td>\n",
       "      <td>3.000000</td>\n",
       "      <td>4.000000</td>\n",
       "      <td>8.000000</td>\n",
       "    </tr>\n",
       "    <tr>\n",
       "      <th>75%</th>\n",
       "      <td>4.900000</td>\n",
       "      <td>4.000000</td>\n",
       "      <td>806.000000</td>\n",
       "      <td>0.300000</td>\n",
       "      <td>4.00000</td>\n",
       "      <td>4.000000</td>\n",
       "      <td>6.000000</td>\n",
       "      <td>11.000000</td>\n",
       "    </tr>\n",
       "    <tr>\n",
       "      <th>max</th>\n",
       "      <td>6.600000</td>\n",
       "      <td>5.000000</td>\n",
       "      <td>1079.000000</td>\n",
       "      <td>0.990000</td>\n",
       "      <td>6.00000</td>\n",
       "      <td>10.000000</td>\n",
       "      <td>9.000000</td>\n",
       "      <td>20.000000</td>\n",
       "    </tr>\n",
       "  </tbody>\n",
       "</table>\n",
       "</div>"
      ],
      "text/plain": [
       "       Маркет_актив_6_мес  Маркет_актив_тек_мес  Длительность  \\\n",
       "count         1300.000000           1300.000000   1300.000000   \n",
       "mean             4.253769              4.011538    601.898462   \n",
       "std              1.014814              0.696868    249.856289   \n",
       "min              0.900000              3.000000    110.000000   \n",
       "25%              3.700000              4.000000    405.500000   \n",
       "50%              4.200000              4.000000    606.000000   \n",
       "75%              4.900000              4.000000    806.000000   \n",
       "max              6.600000              5.000000   1079.000000   \n",
       "\n",
       "       Акционные_покупки  Средний_просмотр_категорий_за_визит  \\\n",
       "count        1300.000000                           1300.00000   \n",
       "mean            0.319808                              3.27000   \n",
       "std             0.249843                              1.35535   \n",
       "min             0.000000                              1.00000   \n",
       "25%             0.170000                              2.00000   \n",
       "50%             0.240000                              3.00000   \n",
       "75%             0.300000                              4.00000   \n",
       "max             0.990000                              6.00000   \n",
       "\n",
       "       Неоплаченные_продукты_штук_квартал  Ошибка_сервиса  Страниц_за_визит  \n",
       "count                         1300.000000     1300.000000       1300.000000  \n",
       "mean                             2.840000        4.185385          8.176923  \n",
       "std                              1.971451        1.955298          3.978126  \n",
       "min                              0.000000        0.000000          1.000000  \n",
       "25%                              1.000000        3.000000          5.000000  \n",
       "50%                              3.000000        4.000000          8.000000  \n",
       "75%                              4.000000        6.000000         11.000000  \n",
       "max                             10.000000        9.000000         20.000000  "
      ]
     },
     "metadata": {},
     "output_type": "display_data"
    },
    {
     "name": "stdout",
     "output_type": "stream",
     "text": [
      "Статистика по числовым данным цен:\n"
     ]
    },
    {
     "data": {
      "text/html": [
       "<div>\n",
       "<style scoped>\n",
       "    .dataframe tbody tr th:only-of-type {\n",
       "        vertical-align: middle;\n",
       "    }\n",
       "\n",
       "    .dataframe tbody tr th {\n",
       "        vertical-align: top;\n",
       "    }\n",
       "\n",
       "    .dataframe thead th {\n",
       "        text-align: right;\n",
       "    }\n",
       "</style>\n",
       "<table border=\"1\" class=\"dataframe\">\n",
       "  <thead>\n",
       "    <tr style=\"text-align: right;\">\n",
       "      <th></th>\n",
       "      <th>Выручка</th>\n",
       "    </tr>\n",
       "  </thead>\n",
       "  <tbody>\n",
       "    <tr>\n",
       "      <th>count</th>\n",
       "      <td>3900.000000</td>\n",
       "    </tr>\n",
       "    <tr>\n",
       "      <th>mean</th>\n",
       "      <td>5025.696051</td>\n",
       "    </tr>\n",
       "    <tr>\n",
       "      <th>std</th>\n",
       "      <td>1777.704104</td>\n",
       "    </tr>\n",
       "    <tr>\n",
       "      <th>min</th>\n",
       "      <td>0.000000</td>\n",
       "    </tr>\n",
       "    <tr>\n",
       "      <th>25%</th>\n",
       "      <td>4590.150000</td>\n",
       "    </tr>\n",
       "    <tr>\n",
       "      <th>50%</th>\n",
       "      <td>4957.500000</td>\n",
       "    </tr>\n",
       "    <tr>\n",
       "      <th>75%</th>\n",
       "      <td>5363.000000</td>\n",
       "    </tr>\n",
       "    <tr>\n",
       "      <th>max</th>\n",
       "      <td>106862.200000</td>\n",
       "    </tr>\n",
       "  </tbody>\n",
       "</table>\n",
       "</div>"
      ],
      "text/plain": [
       "             Выручка\n",
       "count    3900.000000\n",
       "mean     5025.696051\n",
       "std      1777.704104\n",
       "min         0.000000\n",
       "25%      4590.150000\n",
       "50%      4957.500000\n",
       "75%      5363.000000\n",
       "max    106862.200000"
      ]
     },
     "metadata": {},
     "output_type": "display_data"
    },
    {
     "name": "stdout",
     "output_type": "stream",
     "text": [
      "Статистика по числовым данным времени:\n"
     ]
    },
    {
     "data": {
      "text/html": [
       "<div>\n",
       "<style scoped>\n",
       "    .dataframe tbody tr th:only-of-type {\n",
       "        vertical-align: middle;\n",
       "    }\n",
       "\n",
       "    .dataframe tbody tr th {\n",
       "        vertical-align: top;\n",
       "    }\n",
       "\n",
       "    .dataframe thead th {\n",
       "        text-align: right;\n",
       "    }\n",
       "</style>\n",
       "<table border=\"1\" class=\"dataframe\">\n",
       "  <thead>\n",
       "    <tr style=\"text-align: right;\">\n",
       "      <th></th>\n",
       "      <th>минут</th>\n",
       "    </tr>\n",
       "  </thead>\n",
       "  <tbody>\n",
       "    <tr>\n",
       "      <th>count</th>\n",
       "      <td>2600.000000</td>\n",
       "    </tr>\n",
       "    <tr>\n",
       "      <th>mean</th>\n",
       "      <td>13.336154</td>\n",
       "    </tr>\n",
       "    <tr>\n",
       "      <th>std</th>\n",
       "      <td>4.080198</td>\n",
       "    </tr>\n",
       "    <tr>\n",
       "      <th>min</th>\n",
       "      <td>4.000000</td>\n",
       "    </tr>\n",
       "    <tr>\n",
       "      <th>25%</th>\n",
       "      <td>10.000000</td>\n",
       "    </tr>\n",
       "    <tr>\n",
       "      <th>50%</th>\n",
       "      <td>13.000000</td>\n",
       "    </tr>\n",
       "    <tr>\n",
       "      <th>75%</th>\n",
       "      <td>16.000000</td>\n",
       "    </tr>\n",
       "    <tr>\n",
       "      <th>max</th>\n",
       "      <td>23.000000</td>\n",
       "    </tr>\n",
       "  </tbody>\n",
       "</table>\n",
       "</div>"
      ],
      "text/plain": [
       "             минут\n",
       "count  2600.000000\n",
       "mean     13.336154\n",
       "std       4.080198\n",
       "min       4.000000\n",
       "25%      10.000000\n",
       "50%      13.000000\n",
       "75%      16.000000\n",
       "max      23.000000"
      ]
     },
     "metadata": {},
     "output_type": "display_data"
    },
    {
     "name": "stdout",
     "output_type": "stream",
     "text": [
      "Статистика по числовым данным сумм:\n"
     ]
    },
    {
     "data": {
      "text/html": [
       "<div>\n",
       "<style scoped>\n",
       "    .dataframe tbody tr th:only-of-type {\n",
       "        vertical-align: middle;\n",
       "    }\n",
       "\n",
       "    .dataframe tbody tr th {\n",
       "        vertical-align: top;\n",
       "    }\n",
       "\n",
       "    .dataframe thead th {\n",
       "        text-align: right;\n",
       "    }\n",
       "</style>\n",
       "<table border=\"1\" class=\"dataframe\">\n",
       "  <thead>\n",
       "    <tr style=\"text-align: right;\">\n",
       "      <th></th>\n",
       "      <th>Прибыль</th>\n",
       "    </tr>\n",
       "  </thead>\n",
       "  <tbody>\n",
       "    <tr>\n",
       "      <th>count</th>\n",
       "      <td>1300.000000</td>\n",
       "    </tr>\n",
       "    <tr>\n",
       "      <th>mean</th>\n",
       "      <td>3.996631</td>\n",
       "    </tr>\n",
       "    <tr>\n",
       "      <th>std</th>\n",
       "      <td>1.013722</td>\n",
       "    </tr>\n",
       "    <tr>\n",
       "      <th>min</th>\n",
       "      <td>0.860000</td>\n",
       "    </tr>\n",
       "    <tr>\n",
       "      <th>25%</th>\n",
       "      <td>3.300000</td>\n",
       "    </tr>\n",
       "    <tr>\n",
       "      <th>50%</th>\n",
       "      <td>4.045000</td>\n",
       "    </tr>\n",
       "    <tr>\n",
       "      <th>75%</th>\n",
       "      <td>4.670000</td>\n",
       "    </tr>\n",
       "    <tr>\n",
       "      <th>max</th>\n",
       "      <td>7.430000</td>\n",
       "    </tr>\n",
       "  </tbody>\n",
       "</table>\n",
       "</div>"
      ],
      "text/plain": [
       "           Прибыль\n",
       "count  1300.000000\n",
       "mean      3.996631\n",
       "std       1.013722\n",
       "min       0.860000\n",
       "25%       3.300000\n",
       "50%       4.045000\n",
       "75%       4.670000\n",
       "max       7.430000"
      ]
     },
     "metadata": {},
     "output_type": "display_data"
    }
   ],
   "source": [
    "print(\"Статистика по числовым данным общего файла:\")\n",
    "display(market_file.drop('id', axis=1).describe())\n",
    "\n",
    "print(\"Статистика по числовым данным цен:\")\n",
    "display(market_money.drop('id', axis=1).describe())\n",
    "\n",
    "print(\"Статистика по числовым данным времени:\")\n",
    "display(market_time.drop('id', axis=1).describe())\n",
    "\n",
    "print(\"Статистика по числовым данным сумм:\")\n",
    "display(money.drop('id', axis=1).describe())"
   ]
  },
  {
   "cell_type": "markdown",
   "metadata": {},
   "source": [
    "Графический анализ"
   ]
  },
  {
   "cell_type": "code",
   "execution_count": 18,
   "metadata": {
    "scrolled": false
   },
   "outputs": [
    {
     "data": {
      "image/png": "[encoded data removed]",
      "text/plain": [
       "<Figure size 720x2880 with 16 Axes>"
      ]
     },
     "metadata": {
      "needs_background": "light"
     },
     "output_type": "display_data"
    }
   ],
   "source": [
    "cols_to_visualize = market_file.select_dtypes(include=['float64', 'int64']).columns\n",
    "cols_to_visualize = cols_to_visualize.drop('id')\n",
    "visualize_data(market_file, cols_to_visualize)"
   ]
  },
  {
   "cell_type": "code",
   "execution_count": 19,
   "metadata": {
    "scrolled": false
   },
   "outputs": [
    {
     "data": {
      "image/png": "[encoded data removed]",
      "text/plain": [
       "<Figure size 720x2880 with 16 Axes>"
      ]
     },
     "metadata": {
      "needs_background": "light"
     },
     "output_type": "display_data"
    }
   ],
   "source": [
    "visualize_data_2(market_file, cols_to_visualize)"
   ]
  },
  {
   "cell_type": "markdown",
   "metadata": {},
   "source": [
    "**Вывод**: на основании рассмотренных выше графиков можно сделать следующие выводы:\n",
    "1. В предоставленном датасете среднее время с момента регистрации для пользователей составляет 4 месяца;\n",
    "2. среднее время пребывание 400- 800;\n",
    "3. Обычно покупатели за везит просматривают 2-3 категории;\n",
    "4. За квартал неоплаченными продуктами в основном остаются не более 5 единиц;\n",
    "5. В сраднем пользователи сталкиваются с 2-6 ошибками за визит;\n",
    "6. За сеанс пользователи зачастую просматривают 2-15 страниц."
   ]
  },
  {
   "cell_type": "markdown",
   "metadata": {},
   "source": [
    "Проведите исследовательский анализ данных из каждой таблицы. Отберите клиентов с покупательской активностью не менее трёх месяцев,\\\n",
    " то есть таких, которые что-либо покупали в этот период. Оформите выводы по результатам шага."
   ]
  },
  {
   "cell_type": "markdown",
   "metadata": {},
   "source": [
    "В нашем случае это означает, что нужно взять пользователей из таблицы market_file, как единственной, в которой возможно проследить подобные данные до объединения таблиц.\\\n",
    " Из неё возьмём 'Маркет_актив_6_мес'>= 3 и 'Акционные_покупки' > 0."
   ]
  },
  {
   "cell_type": "code",
   "execution_count": 20,
   "metadata": {},
   "outputs": [
    {
     "data": {
      "text/html": [
       "<div>\n",
       "<style scoped>\n",
       "    .dataframe tbody tr th:only-of-type {\n",
       "        vertical-align: middle;\n",
       "    }\n",
       "\n",
       "    .dataframe tbody tr th {\n",
       "        vertical-align: top;\n",
       "    }\n",
       "\n",
       "    .dataframe thead th {\n",
       "        text-align: right;\n",
       "    }\n",
       "</style>\n",
       "<table border=\"1\" class=\"dataframe\">\n",
       "  <thead>\n",
       "    <tr style=\"text-align: right;\">\n",
       "      <th></th>\n",
       "      <th>id</th>\n",
       "      <th>Покупательская активность</th>\n",
       "      <th>Тип сервиса</th>\n",
       "      <th>Разрешить сообщать</th>\n",
       "      <th>Маркет_актив_6_мес</th>\n",
       "      <th>Маркет_актив_тек_мес</th>\n",
       "      <th>Длительность</th>\n",
       "      <th>Акционные_покупки</th>\n",
       "      <th>Популярная_категория</th>\n",
       "      <th>Средний_просмотр_категорий_за_визит</th>\n",
       "      <th>Неоплаченные_продукты_штук_квартал</th>\n",
       "      <th>Ошибка_сервиса</th>\n",
       "      <th>Страниц_за_визит</th>\n",
       "    </tr>\n",
       "  </thead>\n",
       "  <tbody>\n",
       "    <tr>\n",
       "      <th>1</th>\n",
       "      <td>215349</td>\n",
       "      <td>Снизилась</td>\n",
       "      <td>премиум</td>\n",
       "      <td>да</td>\n",
       "      <td>4.4</td>\n",
       "      <td>4</td>\n",
       "      <td>819</td>\n",
       "      <td>0.75</td>\n",
       "      <td>Товары для детей</td>\n",
       "      <td>4</td>\n",
       "      <td>4</td>\n",
       "      <td>2</td>\n",
       "      <td>5</td>\n",
       "    </tr>\n",
       "    <tr>\n",
       "      <th>2</th>\n",
       "      <td>215350</td>\n",
       "      <td>Снизилась</td>\n",
       "      <td>стандарт</td>\n",
       "      <td>нет</td>\n",
       "      <td>4.9</td>\n",
       "      <td>3</td>\n",
       "      <td>539</td>\n",
       "      <td>0.14</td>\n",
       "      <td>Домашний текстиль</td>\n",
       "      <td>5</td>\n",
       "      <td>2</td>\n",
       "      <td>1</td>\n",
       "      <td>5</td>\n",
       "    </tr>\n",
       "    <tr>\n",
       "      <th>3</th>\n",
       "      <td>215351</td>\n",
       "      <td>Снизилась</td>\n",
       "      <td>стандарт</td>\n",
       "      <td>да</td>\n",
       "      <td>3.2</td>\n",
       "      <td>5</td>\n",
       "      <td>896</td>\n",
       "      <td>0.99</td>\n",
       "      <td>Товары для детей</td>\n",
       "      <td>5</td>\n",
       "      <td>0</td>\n",
       "      <td>6</td>\n",
       "      <td>4</td>\n",
       "    </tr>\n",
       "    <tr>\n",
       "      <th>4</th>\n",
       "      <td>215352</td>\n",
       "      <td>Снизилась</td>\n",
       "      <td>стандарт</td>\n",
       "      <td>нет</td>\n",
       "      <td>5.1</td>\n",
       "      <td>3</td>\n",
       "      <td>1064</td>\n",
       "      <td>0.94</td>\n",
       "      <td>Товары для детей</td>\n",
       "      <td>3</td>\n",
       "      <td>2</td>\n",
       "      <td>3</td>\n",
       "      <td>2</td>\n",
       "    </tr>\n",
       "    <tr>\n",
       "      <th>5</th>\n",
       "      <td>215353</td>\n",
       "      <td>Снизилась</td>\n",
       "      <td>стандарт</td>\n",
       "      <td>да</td>\n",
       "      <td>3.3</td>\n",
       "      <td>4</td>\n",
       "      <td>762</td>\n",
       "      <td>0.26</td>\n",
       "      <td>Домашний текстиль</td>\n",
       "      <td>4</td>\n",
       "      <td>1</td>\n",
       "      <td>1</td>\n",
       "      <td>4</td>\n",
       "    </tr>\n",
       "  </tbody>\n",
       "</table>\n",
       "</div>"
      ],
      "text/plain": [
       "       id Покупательская активность Тип сервиса Разрешить сообщать  \\\n",
       "1  215349                 Снизилась     премиум                 да   \n",
       "2  215350                 Снизилась    стандарт                нет   \n",
       "3  215351                 Снизилась    стандарт                 да   \n",
       "4  215352                 Снизилась    стандарт                нет   \n",
       "5  215353                 Снизилась    стандарт                 да   \n",
       "\n",
       "   Маркет_актив_6_мес  Маркет_актив_тек_мес  Длительность  Акционные_покупки  \\\n",
       "1                 4.4                     4           819               0.75   \n",
       "2                 4.9                     3           539               0.14   \n",
       "3                 3.2                     5           896               0.99   \n",
       "4                 5.1                     3          1064               0.94   \n",
       "5                 3.3                     4           762               0.26   \n",
       "\n",
       "  Популярная_категория  Средний_просмотр_категорий_за_визит  \\\n",
       "1     Товары для детей                                    4   \n",
       "2    Домашний текстиль                                    5   \n",
       "3     Товары для детей                                    5   \n",
       "4     Товары для детей                                    3   \n",
       "5    Домашний текстиль                                    4   \n",
       "\n",
       "   Неоплаченные_продукты_штук_квартал  Ошибка_сервиса  Страниц_за_визит  \n",
       "1                                   4               2                 5  \n",
       "2                                   2               1                 5  \n",
       "3                                   0               6                 4  \n",
       "4                                   2               3                 2  \n",
       "5                                   1               1                 4  "
      ]
     },
     "execution_count": 20,
     "metadata": {},
     "output_type": "execute_result"
    }
   ],
   "source": [
    "old_client = market_file[(market_file['Маркет_актив_6_мес']>=3) & (market_file['Акционные_покупки']>0)]\n",
    "old_client.head()"
   ]
  },
  {
   "cell_type": "markdown",
   "metadata": {},
   "source": [
    "**Вывод**: таким образом мы изучили средние показатели для числовых столбцов датафреймов и выделили (не точно)  клиентов с покупательской активностью не менее трёх месяцев."
   ]
  },
  {
   "cell_type": "markdown",
   "metadata": {},
   "source": [
    "### Шаг 4. Объединение таблиц"
   ]
  },
  {
   "cell_type": "markdown",
   "metadata": {},
   "source": [
    "4.1 Объедините таблицы market_file.csv, market_money.csv, market_time.csv. Данные о прибыли из файла money.csv при моделировании вам не понадобятся.\\\n",
    "4.2 Учитывайте, что данные о выручке и времени на сайте находятся в одном столбце для всех периодов. В итоговой таблице сделайте отдельный столбец для каждого периода."
   ]
  },
  {
   "cell_type": "markdown",
   "metadata": {},
   "source": [
    "#### 4.1"
   ]
  },
  {
   "cell_type": "code",
   "execution_count": 21,
   "metadata": {},
   "outputs": [
    {
     "data": {
      "text/html": [
       "<div>\n",
       "<style scoped>\n",
       "    .dataframe tbody tr th:only-of-type {\n",
       "        vertical-align: middle;\n",
       "    }\n",
       "\n",
       "    .dataframe tbody tr th {\n",
       "        vertical-align: top;\n",
       "    }\n",
       "\n",
       "    .dataframe thead th {\n",
       "        text-align: right;\n",
       "    }\n",
       "</style>\n",
       "<table border=\"1\" class=\"dataframe\">\n",
       "  <thead>\n",
       "    <tr style=\"text-align: right;\">\n",
       "      <th></th>\n",
       "      <th>id</th>\n",
       "      <th>Покупательская активность</th>\n",
       "      <th>Тип сервиса</th>\n",
       "      <th>Разрешить сообщать</th>\n",
       "      <th>Маркет_актив_6_мес</th>\n",
       "      <th>Маркет_актив_тек_мес</th>\n",
       "      <th>Длительность</th>\n",
       "      <th>Акционные_покупки</th>\n",
       "      <th>Популярная_категория</th>\n",
       "      <th>Средний_просмотр_категорий_за_визит</th>\n",
       "      <th>Неоплаченные_продукты_штук_квартал</th>\n",
       "      <th>Ошибка_сервиса</th>\n",
       "      <th>Страниц_за_визит</th>\n",
       "      <th>выручка_пред_мес</th>\n",
       "      <th>выручка_тек_мес</th>\n",
       "      <th>минут_пред_мес</th>\n",
       "      <th>минут_тек_мес</th>\n",
       "    </tr>\n",
       "  </thead>\n",
       "  <tbody>\n",
       "    <tr>\n",
       "      <th>0</th>\n",
       "      <td>215349</td>\n",
       "      <td>Снизилась</td>\n",
       "      <td>премиум</td>\n",
       "      <td>да</td>\n",
       "      <td>4.4</td>\n",
       "      <td>4</td>\n",
       "      <td>819</td>\n",
       "      <td>0.75</td>\n",
       "      <td>Товары для детей</td>\n",
       "      <td>4</td>\n",
       "      <td>4</td>\n",
       "      <td>2</td>\n",
       "      <td>5</td>\n",
       "      <td>5216.0</td>\n",
       "      <td>4971.6</td>\n",
       "      <td>12.0</td>\n",
       "      <td>10.0</td>\n",
       "    </tr>\n",
       "    <tr>\n",
       "      <th>1</th>\n",
       "      <td>215350</td>\n",
       "      <td>Снизилась</td>\n",
       "      <td>стандарт</td>\n",
       "      <td>нет</td>\n",
       "      <td>4.9</td>\n",
       "      <td>3</td>\n",
       "      <td>539</td>\n",
       "      <td>0.14</td>\n",
       "      <td>Домашний текстиль</td>\n",
       "      <td>5</td>\n",
       "      <td>2</td>\n",
       "      <td>1</td>\n",
       "      <td>5</td>\n",
       "      <td>5457.5</td>\n",
       "      <td>5058.4</td>\n",
       "      <td>8.0</td>\n",
       "      <td>13.0</td>\n",
       "    </tr>\n",
       "    <tr>\n",
       "      <th>2</th>\n",
       "      <td>215351</td>\n",
       "      <td>Снизилась</td>\n",
       "      <td>стандарт</td>\n",
       "      <td>да</td>\n",
       "      <td>3.2</td>\n",
       "      <td>5</td>\n",
       "      <td>896</td>\n",
       "      <td>0.99</td>\n",
       "      <td>Товары для детей</td>\n",
       "      <td>5</td>\n",
       "      <td>0</td>\n",
       "      <td>6</td>\n",
       "      <td>4</td>\n",
       "      <td>6158.0</td>\n",
       "      <td>6610.4</td>\n",
       "      <td>11.0</td>\n",
       "      <td>13.0</td>\n",
       "    </tr>\n",
       "    <tr>\n",
       "      <th>3</th>\n",
       "      <td>215352</td>\n",
       "      <td>Снизилась</td>\n",
       "      <td>стандарт</td>\n",
       "      <td>нет</td>\n",
       "      <td>5.1</td>\n",
       "      <td>3</td>\n",
       "      <td>1064</td>\n",
       "      <td>0.94</td>\n",
       "      <td>Товары для детей</td>\n",
       "      <td>3</td>\n",
       "      <td>2</td>\n",
       "      <td>3</td>\n",
       "      <td>2</td>\n",
       "      <td>5807.5</td>\n",
       "      <td>5872.5</td>\n",
       "      <td>8.0</td>\n",
       "      <td>11.0</td>\n",
       "    </tr>\n",
       "    <tr>\n",
       "      <th>4</th>\n",
       "      <td>215353</td>\n",
       "      <td>Снизилась</td>\n",
       "      <td>стандарт</td>\n",
       "      <td>да</td>\n",
       "      <td>3.3</td>\n",
       "      <td>4</td>\n",
       "      <td>762</td>\n",
       "      <td>0.26</td>\n",
       "      <td>Домашний текстиль</td>\n",
       "      <td>4</td>\n",
       "      <td>1</td>\n",
       "      <td>1</td>\n",
       "      <td>4</td>\n",
       "      <td>5124.0</td>\n",
       "      <td>5388.5</td>\n",
       "      <td>10.0</td>\n",
       "      <td>10.0</td>\n",
       "    </tr>\n",
       "    <tr>\n",
       "      <th>...</th>\n",
       "      <td>...</td>\n",
       "      <td>...</td>\n",
       "      <td>...</td>\n",
       "      <td>...</td>\n",
       "      <td>...</td>\n",
       "      <td>...</td>\n",
       "      <td>...</td>\n",
       "      <td>...</td>\n",
       "      <td>...</td>\n",
       "      <td>...</td>\n",
       "      <td>...</td>\n",
       "      <td>...</td>\n",
       "      <td>...</td>\n",
       "      <td>...</td>\n",
       "      <td>...</td>\n",
       "      <td>...</td>\n",
       "      <td>...</td>\n",
       "    </tr>\n",
       "    <tr>\n",
       "      <th>1179</th>\n",
       "      <td>216643</td>\n",
       "      <td>Прежний уровень</td>\n",
       "      <td>стандарт</td>\n",
       "      <td>да</td>\n",
       "      <td>6.6</td>\n",
       "      <td>3</td>\n",
       "      <td>318</td>\n",
       "      <td>0.24</td>\n",
       "      <td>Техника для красоты и здоровья</td>\n",
       "      <td>5</td>\n",
       "      <td>3</td>\n",
       "      <td>3</td>\n",
       "      <td>11</td>\n",
       "      <td>4704.0</td>\n",
       "      <td>4741.7</td>\n",
       "      <td>14.0</td>\n",
       "      <td>7.0</td>\n",
       "    </tr>\n",
       "    <tr>\n",
       "      <th>1180</th>\n",
       "      <td>216644</td>\n",
       "      <td>Прежний уровень</td>\n",
       "      <td>стандарт</td>\n",
       "      <td>нет</td>\n",
       "      <td>5.1</td>\n",
       "      <td>4</td>\n",
       "      <td>454</td>\n",
       "      <td>0.21</td>\n",
       "      <td>Домашний текстиль</td>\n",
       "      <td>6</td>\n",
       "      <td>2</td>\n",
       "      <td>3</td>\n",
       "      <td>9</td>\n",
       "      <td>5299.0</td>\n",
       "      <td>5353.0</td>\n",
       "      <td>12.0</td>\n",
       "      <td>11.0</td>\n",
       "    </tr>\n",
       "    <tr>\n",
       "      <th>1181</th>\n",
       "      <td>216645</td>\n",
       "      <td>Прежний уровень</td>\n",
       "      <td>стандарт</td>\n",
       "      <td>да</td>\n",
       "      <td>4.1</td>\n",
       "      <td>3</td>\n",
       "      <td>586</td>\n",
       "      <td>0.20</td>\n",
       "      <td>Домашний текстиль</td>\n",
       "      <td>3</td>\n",
       "      <td>2</td>\n",
       "      <td>5</td>\n",
       "      <td>7</td>\n",
       "      <td>5334.0</td>\n",
       "      <td>5139.2</td>\n",
       "      <td>12.0</td>\n",
       "      <td>18.0</td>\n",
       "    </tr>\n",
       "    <tr>\n",
       "      <th>1182</th>\n",
       "      <td>216646</td>\n",
       "      <td>Прежний уровень</td>\n",
       "      <td>стандарт</td>\n",
       "      <td>да</td>\n",
       "      <td>6.3</td>\n",
       "      <td>5</td>\n",
       "      <td>645</td>\n",
       "      <td>0.12</td>\n",
       "      <td>Техника для красоты и здоровья</td>\n",
       "      <td>3</td>\n",
       "      <td>3</td>\n",
       "      <td>5</td>\n",
       "      <td>7</td>\n",
       "      <td>4923.0</td>\n",
       "      <td>5224.6</td>\n",
       "      <td>18.0</td>\n",
       "      <td>7.0</td>\n",
       "    </tr>\n",
       "    <tr>\n",
       "      <th>1183</th>\n",
       "      <td>216647</td>\n",
       "      <td>Прежний уровень</td>\n",
       "      <td>премиум</td>\n",
       "      <td>да</td>\n",
       "      <td>4.0</td>\n",
       "      <td>5</td>\n",
       "      <td>906</td>\n",
       "      <td>0.94</td>\n",
       "      <td>Техника для красоты и здоровья</td>\n",
       "      <td>4</td>\n",
       "      <td>5</td>\n",
       "      <td>3</td>\n",
       "      <td>12</td>\n",
       "      <td>5183.0</td>\n",
       "      <td>4448.3</td>\n",
       "      <td>15.0</td>\n",
       "      <td>10.0</td>\n",
       "    </tr>\n",
       "  </tbody>\n",
       "</table>\n",
       "<p>1184 rows × 17 columns</p>\n",
       "</div>"
      ],
      "text/plain": [
       "          id Покупательская активность Тип сервиса Разрешить сообщать  \\\n",
       "0     215349                 Снизилась     премиум                 да   \n",
       "1     215350                 Снизилась    стандарт                нет   \n",
       "2     215351                 Снизилась    стандарт                 да   \n",
       "3     215352                 Снизилась    стандарт                нет   \n",
       "4     215353                 Снизилась    стандарт                 да   \n",
       "...      ...                       ...         ...                ...   \n",
       "1179  216643           Прежний уровень    стандарт                 да   \n",
       "1180  216644           Прежний уровень    стандарт                нет   \n",
       "1181  216645           Прежний уровень    стандарт                 да   \n",
       "1182  216646           Прежний уровень    стандарт                 да   \n",
       "1183  216647           Прежний уровень     премиум                 да   \n",
       "\n",
       "      Маркет_актив_6_мес  Маркет_актив_тек_мес  Длительность  \\\n",
       "0                    4.4                     4           819   \n",
       "1                    4.9                     3           539   \n",
       "2                    3.2                     5           896   \n",
       "3                    5.1                     3          1064   \n",
       "4                    3.3                     4           762   \n",
       "...                  ...                   ...           ...   \n",
       "1179                 6.6                     3           318   \n",
       "1180                 5.1                     4           454   \n",
       "1181                 4.1                     3           586   \n",
       "1182                 6.3                     5           645   \n",
       "1183                 4.0                     5           906   \n",
       "\n",
       "      Акционные_покупки            Популярная_категория  \\\n",
       "0                  0.75                Товары для детей   \n",
       "1                  0.14               Домашний текстиль   \n",
       "2                  0.99                Товары для детей   \n",
       "3                  0.94                Товары для детей   \n",
       "4                  0.26               Домашний текстиль   \n",
       "...                 ...                             ...   \n",
       "1179               0.24  Техника для красоты и здоровья   \n",
       "1180               0.21               Домашний текстиль   \n",
       "1181               0.20               Домашний текстиль   \n",
       "1182               0.12  Техника для красоты и здоровья   \n",
       "1183               0.94  Техника для красоты и здоровья   \n",
       "\n",
       "      Средний_просмотр_категорий_за_визит  Неоплаченные_продукты_штук_квартал  \\\n",
       "0                                       4                                   4   \n",
       "1                                       5                                   2   \n",
       "2                                       5                                   0   \n",
       "3                                       3                                   2   \n",
       "4                                       4                                   1   \n",
       "...                                   ...                                 ...   \n",
       "1179                                    5                                   3   \n",
       "1180                                    6                                   2   \n",
       "1181                                    3                                   2   \n",
       "1182                                    3                                   3   \n",
       "1183                                    4                                   5   \n",
       "\n",
       "      Ошибка_сервиса  Страниц_за_визит  выручка_пред_мес  выручка_тек_мес  \\\n",
       "0                  2                 5            5216.0           4971.6   \n",
       "1                  1                 5            5457.5           5058.4   \n",
       "2                  6                 4            6158.0           6610.4   \n",
       "3                  3                 2            5807.5           5872.5   \n",
       "4                  1                 4            5124.0           5388.5   \n",
       "...              ...               ...               ...              ...   \n",
       "1179               3                11            4704.0           4741.7   \n",
       "1180               3                 9            5299.0           5353.0   \n",
       "1181               5                 7            5334.0           5139.2   \n",
       "1182               5                 7            4923.0           5224.6   \n",
       "1183               3                12            5183.0           4448.3   \n",
       "\n",
       "      минут_пред_мес  минут_тек_мес  \n",
       "0               12.0           10.0  \n",
       "1                8.0           13.0  \n",
       "2               11.0           13.0  \n",
       "3                8.0           11.0  \n",
       "4               10.0           10.0  \n",
       "...              ...            ...  \n",
       "1179            14.0            7.0  \n",
       "1180            12.0           11.0  \n",
       "1181            12.0           18.0  \n",
       "1182            18.0            7.0  \n",
       "1183            15.0           10.0  \n",
       "\n",
       "[1184 rows x 17 columns]"
      ]
     },
     "execution_count": 21,
     "metadata": {},
     "output_type": "execute_result"
    }
   ],
   "source": [
    "merged = pd.merge(old_client, market_money, on='id', how='left')\n",
    "\n",
    "merged['выручка_пред_мес'] = merged.apply(lambda row: row['Выручка'] if row['Период'] == 'предыдущий_месяц' else None, axis=1)\n",
    "merged['выручка_тек_мес'] = merged.apply(lambda row: row['Выручка'] if row['Период'] == 'текущий_месяц' else None, axis=1)\n",
    "\n",
    "merged.drop(columns=['Выручка', 'Период'], inplace=True)\n",
    "merged.drop_duplicates(inplace=True)\n",
    "\n",
    "merged_time = pd.merge(merged, market_time, on='id', how='left')\n",
    "\n",
    "merged_time['минут_пред_мес'] = merged_time.apply(lambda row: row['минут'] if row['Период'] == 'предыдущий_месяц' else None, axis=1)\n",
    "merged_time['минут_тек_мес'] = merged_time.apply(lambda row: row['минут'] if row['Период'] == 'текущий_месяц' else None, axis=1)\n",
    "\n",
    "merged_time.drop(columns=['минут', 'Период'], inplace=True)\n",
    "merged_time.drop_duplicates(inplace=True)\n",
    "merged_time.fillna(0.0, inplace=True)\n",
    "\n",
    "merged_data = merged_time.groupby(list(merged_time.columns[:-4])).agg({merged_time.columns[-4]: 'max', merged_time.columns[-3]: 'max', merged_time.columns[-2]: 'max', merged_time.columns[-1]: 'max'}).reset_index()\n",
    "\n",
    "merged_data.drop_duplicates(inplace=True)\n",
    "\n",
    "merged_data"
   ]
  },
  {
   "cell_type": "markdown",
   "metadata": {},
   "source": [
    "**Промежуточный вывод**: таким образом мы произвели объединение таблиц, и свели в более удобный формат данных столбцы с периодами и выручкой, почистив от образовавшихся в процессе дублей строк"
   ]
  },
  {
   "cell_type": "markdown",
   "metadata": {},
   "source": [
    "### Шаг 5. Корреляционный анализ\n",
    "\n",
    "Проведите корреляционный анализ признаков в количественной шкале в итоговой таблице для моделирования.\\\n",
    "Сделайте выводы о мультиколлинеарности и при необходимости устраните её."
   ]
  },
  {
   "cell_type": "code",
   "execution_count": 22,
   "metadata": {},
   "outputs": [
    {
     "data": {
      "image/png": "[encoded data removed]",
      "text/plain": [
       "<Figure size 720x576 with 2 Axes>"
      ]
     },
     "metadata": {
      "needs_background": "light"
     },
     "output_type": "display_data"
    }
   ],
   "source": [
    "num_data = merged_data.select_dtypes(include=['float64', 'int64'])\n",
    "num_data = num_data.drop(columns=['id', 'Ошибка_сервиса'])\n",
    "\n",
    "correlation_matrix = num_data.corr(method='kendall')\n",
    "plt.figure(figsize=(10, 8))\n",
    "sns.heatmap(correlation_matrix, annot=True, cmap='coolwarm', fmt='.2f')\n",
    "plt.title('Correlation Matrix')\n",
    "plt.show()"
   ]
  },
  {
   "cell_type": "markdown",
   "metadata": {},
   "source": [
    "Как мы видим, возможна мультиколлинеарность с переменными выручка_пред_мес, минут_пред_мес и страниц за визит.\\\n",
    "Учитывая, что показатели <0.6 удалять ничего не будем"
   ]
  },
  {
   "cell_type": "markdown",
   "metadata": {},
   "source": [
    "### Шаг 6. Использование пайплайнов"
   ]
  },
  {
   "cell_type": "markdown",
   "metadata": {},
   "source": [
    "6.1 Во время подготовки данных используйте ColumnTransformer.\\\n",
    " Количественные и категориальные признаки обработайте в пайплайне раздельно.\\\n",
    "  Для кодирования категориальных признаков используйте как минимум два кодировщика, для масштабирования количественных — как минимум два скейлера.\\\n",
    "Напоминаем, что для каждой модели можно подготовить данные с разным кодированием и масштабированием.\\\n",
    "6.2 Обучите четыре модели: KNeighborsClassifier(), DecisionTreeClassifier(), LogisticRegression() и  SVC(). \\\n",
    "Для каждой из них подберите как минимум один гиперпараметр. Выберите подходящую для задачи метрику, аргументируйте свой выбор. Используйте эту метрику при подборе гиперпараметров.\\\n",
    "6.3 Выберите лучшую модель, используя заданную метрику. Для этого примените одну из стратегий:\\\n",
    "использовать пайплайны и инструменты подбора гиперпараметров для каждой модели отдельно, чтобы выбрать лучшую модель самостоятельно;\\\n",
    "использовать один общий пайплайн для всех моделей и инструмент подбора гиперпараметров, который вернёт вам лучшую модель.\\"
   ]
  },
  {
   "cell_type": "markdown",
   "metadata": {},
   "source": [
    "#### 6.1"
   ]
  },
  {
   "cell_type": "code",
   "execution_count": 23,
   "metadata": {},
   "outputs": [],
   "source": [
    "X = merged_data\n",
    "y = merged_data['Маркет_актив_6_мес']\n",
    "\n",
    "X_train, X_test, y_train, y_test = train_test_split(X,y, test_size=0.2, random_state=42)\n",
    "\n",
    "numerical_features = merged_data.select_dtypes(include=['float64', 'int64']).columns\n",
    "categorical_features = merged_data.select_dtypes(include=['object']).columns\n",
    "\n",
    "\n",
    "numerical_pipeline = Pipeline([\n",
    "    ('imputer', SimpleImputer(strategy='mean')),\n",
    "    ('scaler', StandardScaler()),\n",
    "    ('minmax_scaler', MinMaxScaler())\n",
    "])\n",
    "\n",
    "categorical_pipeline = Pipeline([\n",
    "    ('imputer', SimpleImputer(strategy='most_frequent')),\n",
    "    ('onehot', OneHotEncoder(handle_unknown='ignore'))\n",
    "])\n",
    "\n",
    "preprocessor = ColumnTransformer([\n",
    "    ('num', numerical_pipeline, numerical_features),\n",
    "    ('cat', categorical_pipeline, categorical_features)\n",
    "],\n",
    "    remainder='passthrough')\n",
    "\n",
    "label_encoder = LabelEncoder()\n",
    "y_train_encoded = label_encoder.fit_transform(y_train)\n"
   ]
  },
  {
   "cell_type": "markdown",
   "metadata": {},
   "source": [
    "#### 6.2"
   ]
  },
  {
   "cell_type": "markdown",
   "metadata": {},
   "source": [
    "KNeighborsClassifier()"
   ]
  },
  {
   "cell_type": "code",
   "execution_count": 24,
   "metadata": {},
   "outputs": [
    {
     "data": {
      "image/png": "[encoded data removed]",
      "text/plain": [
       "<Figure size 432x288 with 1 Axes>"
      ]
     },
     "metadata": {
      "needs_background": "light"
     },
     "output_type": "display_data"
    }
   ],
   "source": [
    "threshold = 0.5\n",
    "\n",
    "y_train_categorical = (y_train > threshold).astype(int)\n",
    "y_test_categorical = (y_test > threshold).astype(int)\n",
    "\n",
    "knn_pipeline = Pipeline([\n",
    "    ('preprocessor', preprocessor),\n",
    "    ('model', KNeighborsClassifier())\n",
    "])\n",
    "\n",
    "knn_pipeline.fit(X_train, y_train_categorical)\n",
    "y_pred_knn = knn_pipeline.predict(X_test)\n",
    "\n",
    "residuals = y_test - y_pred_knn\n",
    "plt.scatter(y_pred_knn, residuals)\n",
    "plt.hlines(y=0, xmin=y_pred_knn.min(), xmax=y_pred_knn.max(), colors='r', linestyles='dashed')\n",
    "plt.xlabel('Предсказанные значения')\n",
    "plt.ylabel('Остатки')\n",
    "plt.title('Анализ остатков')\n",
    "plt.show()"
   ]
  },
  {
   "cell_type": "code",
   "execution_count": 25,
   "metadata": {},
   "outputs": [
    {
     "name": "stdout",
     "output_type": "stream",
     "text": [
      "Best hyperparameters for KNeighborsClassifier:  {'clf__weights': 'uniform', 'clf__p': 1, 'clf__n_neighbors': 8}\n",
      "Best score (accuracy) for KNeighborsClassifier:  0.11934837092731829\n"
     ]
    }
   ],
   "source": [
    "knn_pipeline = Pipeline([\n",
    "    ('preprocessor', preprocessor),\n",
    "    ('clf', KNeighborsClassifier())\n",
    "])\n",
    "\n",
    "param_distributions_knn = {\n",
    "    'clf__n_neighbors': range(1, 21),\n",
    "    'clf__weights': ['uniform', 'distance'],\n",
    "    'clf__p': [1, 2]\n",
    "}\n",
    "\n",
    "rs_knn = RandomizedSearchCV(\n",
    "    knn_pipeline, \n",
    "    param_distributions_knn, \n",
    "    n_iter=10, \n",
    "    n_jobs=-1, \n",
    "    cv=5, \n",
    "    scoring='accuracy', \n",
    "    random_state=42\n",
    ")\n",
    "\n",
    "rs_knn.fit(X_train, y_train_encoded)\n",
    "\n",
    "best_params_knn = rs_knn.best_params_\n",
    "best_score_knn = rs_knn.best_score_\n",
    "\n",
    "print(\"Best hyperparameters for KNeighborsClassifier: \", best_params_knn)\n",
    "print(\"Best score (accuracy) for KNeighborsClassifier: \", best_score_knn)"
   ]
  },
  {
   "cell_type": "markdown",
   "metadata": {},
   "source": [
    "DecisionTreeClassifier()"
   ]
  },
  {
   "cell_type": "code",
   "execution_count": 26,
   "metadata": {},
   "outputs": [
    {
     "data": {
      "image/png": "[encoded data removed]",
      "text/plain": [
       "<Figure size 432x288 with 1 Axes>"
      ]
     },
     "metadata": {
      "needs_background": "light"
     },
     "output_type": "display_data"
    }
   ],
   "source": [
    "threshold = 0.5\n",
    "y_train_categorical = (y_train > threshold).astype(int)\n",
    "y_test_categorical = (y_test > threshold).astype(int)\n",
    "\n",
    "dt_pipeline = Pipeline([\n",
    "    ('preprocessor', preprocessor),\n",
    "    ('model', DecisionTreeClassifier())\n",
    "])\n",
    "\n",
    "dt_pipeline.fit(X_train, y_train_categorical)\n",
    "y_pred_dt = dt_pipeline.predict(X_test)\n",
    "\n",
    "residuals = y_test - y_pred_dt\n",
    "plt.scatter(y_pred_dt, residuals)\n",
    "plt.hlines(y=0, xmin=y_pred_dt.min(), xmax=y_pred_dt.max(), colors='r', linestyles='dashed')\n",
    "plt.xlabel('Predicted values')\n",
    "plt.ylabel('Residuals')\n",
    "plt.title('Residual Analysis')\n",
    "plt.show()"
   ]
  },
  {
   "cell_type": "code",
   "execution_count": 27,
   "metadata": {},
   "outputs": [
    {
     "name": "stdout",
     "output_type": "stream",
     "text": [
      "Best hyperparameters for DecisionTreeClassifier:  {'clf__min_samples_split': 5, 'clf__min_samples_leaf': 2, 'clf__max_features': 'sqrt', 'clf__max_depth': None, 'clf__criterion': 'gini', 'clf__ccp_alpha': 0.0}\n",
      "Best score (accuracy) for DecisionTreeClassifier:  0.21972152603731548\n"
     ]
    }
   ],
   "source": [
    "dt_pipeline = Pipeline([\n",
    "    ('preprocessor', preprocessor),\n",
    "    ('clf', DecisionTreeClassifier())\n",
    "])\n",
    "\n",
    "param_distributions_dt = {\n",
    "    'clf__criterion': ['gini', 'entropy'],\n",
    "    'clf__max_depth': [5, 10, 15, 20, None],\n",
    "    'clf__min_samples_split': [2, 5, 10],\n",
    "    'clf__min_samples_leaf': [1, 2, 4],\n",
    "    'clf__max_features': ['auto', 'sqrt', 'log2'],\n",
    "    'clf__ccp_alpha': [0.0, 0.1, 0.2, 0.3, 0.4, 0.5]\n",
    "}\n",
    "\n",
    "rs_dt = RandomizedSearchCV(\n",
    "    dt_pipeline, \n",
    "    param_distributions_dt, \n",
    "    n_iter=10, \n",
    "    n_jobs=-1, \n",
    "    cv=5, \n",
    "    scoring = 'accuracy', \n",
    "    random_state=42\n",
    ")\n",
    "\n",
    "rs_dt.fit(X_train, y_train_encoded)\n",
    "\n",
    "best_params_dt = rs_dt.best_params_\n",
    "best_score_dt = rs_dt.best_score_\n",
    "\n",
    "print(\"Best hyperparameters for DecisionTreeClassifier: \", best_params_dt)\n",
    "print(\"Best score (accuracy) for DecisionTreeClassifier: \", best_score_dt)"
   ]
  },
  {
   "cell_type": "markdown",
   "metadata": {},
   "source": [
    "LogisticRegression()"
   ]
  },
  {
   "cell_type": "code",
   "execution_count": 28,
   "metadata": {
    "scrolled": true
   },
   "outputs": [
    {
     "name": "stderr",
     "output_type": "stream",
     "text": [
      "lbfgs failed to converge (status=1):\n",
      "STOP: TOTAL NO. of ITERATIONS REACHED LIMIT.\n",
      "\n",
      "Increase the number of iterations (max_iter) or scale the data as shown in:\n",
      "    https://scikit-learn.org/stable/modules/preprocessing.html\n",
      "Please also refer to the documentation for alternative solver options:\n",
      "    https://scikit-learn.org/stable/modules/linear_model.html#logistic-regression\n",
      "lbfgs failed to converge (status=1):\n",
      "STOP: TOTAL NO. of ITERATIONS REACHED LIMIT.\n",
      "\n",
      "Increase the number of iterations (max_iter) or scale the data as shown in:\n",
      "    https://scikit-learn.org/stable/modules/preprocessing.html\n",
      "Please also refer to the documentation for alternative solver options:\n",
      "    https://scikit-learn.org/stable/modules/linear_model.html#logistic-regression\n",
      "lbfgs failed to converge (status=1):\n",
      "STOP: TOTAL NO. of ITERATIONS REACHED LIMIT.\n",
      "\n",
      "Increase the number of iterations (max_iter) or scale the data as shown in:\n",
      "    https://scikit-learn.org/stable/modules/preprocessing.html\n",
      "Please also refer to the documentation for alternative solver options:\n",
      "    https://scikit-learn.org/stable/modules/linear_model.html#logistic-regression\n",
      "lbfgs failed to converge (status=1):\n",
      "STOP: TOTAL NO. of ITERATIONS REACHED LIMIT.\n",
      "\n",
      "Increase the number of iterations (max_iter) or scale the data as shown in:\n",
      "    https://scikit-learn.org/stable/modules/preprocessing.html\n",
      "Please also refer to the documentation for alternative solver options:\n",
      "    https://scikit-learn.org/stable/modules/linear_model.html#logistic-regression\n",
      "lbfgs failed to converge (status=1):\n",
      "STOP: TOTAL NO. of ITERATIONS REACHED LIMIT.\n",
      "\n",
      "Increase the number of iterations (max_iter) or scale the data as shown in:\n",
      "    https://scikit-learn.org/stable/modules/preprocessing.html\n",
      "Please also refer to the documentation for alternative solver options:\n",
      "    https://scikit-learn.org/stable/modules/linear_model.html#logistic-regression\n",
      "lbfgs failed to converge (status=1):\n",
      "STOP: TOTAL NO. of ITERATIONS REACHED LIMIT.\n",
      "\n",
      "Increase the number of iterations (max_iter) or scale the data as shown in:\n",
      "    https://scikit-learn.org/stable/modules/preprocessing.html\n",
      "Please also refer to the documentation for alternative solver options:\n",
      "    https://scikit-learn.org/stable/modules/linear_model.html#logistic-regression\n",
      "lbfgs failed to converge (status=1):\n",
      "STOP: TOTAL NO. of ITERATIONS REACHED LIMIT.\n",
      "\n",
      "Increase the number of iterations (max_iter) or scale the data as shown in:\n",
      "    https://scikit-learn.org/stable/modules/preprocessing.html\n",
      "Please also refer to the documentation for alternative solver options:\n",
      "    https://scikit-learn.org/stable/modules/linear_model.html#logistic-regression\n",
      "lbfgs failed to converge (status=1):\n",
      "STOP: TOTAL NO. of ITERATIONS REACHED LIMIT.\n",
      "\n",
      "Increase the number of iterations (max_iter) or scale the data as shown in:\n",
      "    https://scikit-learn.org/stable/modules/preprocessing.html\n",
      "Please also refer to the documentation for alternative solver options:\n",
      "    https://scikit-learn.org/stable/modules/linear_model.html#logistic-regression\n",
      "lbfgs failed to converge (status=1):\n",
      "STOP: TOTAL NO. of ITERATIONS REACHED LIMIT.\n",
      "\n",
      "Increase the number of iterations (max_iter) or scale the data as shown in:\n",
      "    https://scikit-learn.org/stable/modules/preprocessing.html\n",
      "Please also refer to the documentation for alternative solver options:\n",
      "    https://scikit-learn.org/stable/modules/linear_model.html#logistic-regression\n",
      "lbfgs failed to converge (status=1):\n",
      "STOP: TOTAL NO. of ITERATIONS REACHED LIMIT.\n",
      "\n",
      "Increase the number of iterations (max_iter) or scale the data as shown in:\n",
      "    https://scikit-learn.org/stable/modules/preprocessing.html\n",
      "Please also refer to the documentation for alternative solver options:\n",
      "    https://scikit-learn.org/stable/modules/linear_model.html#logistic-regression\n"
     ]
    },
    {
     "name": "stdout",
     "output_type": "stream",
     "text": [
      "Best hyperparameters:  {'clf__max_iter': 300, 'clf__C': 1438.44988828766}\n",
      "Best score (accuracy) for LogisticRegression:  0.3674575327206906\n"
     ]
    },
    {
     "name": "stderr",
     "output_type": "stream",
     "text": [
      "lbfgs failed to converge (status=1):\n",
      "STOP: TOTAL NO. of ITERATIONS REACHED LIMIT.\n",
      "\n",
      "Increase the number of iterations (max_iter) or scale the data as shown in:\n",
      "    https://scikit-learn.org/stable/modules/preprocessing.html\n",
      "Please also refer to the documentation for alternative solver options:\n",
      "    https://scikit-learn.org/stable/modules/linear_model.html#logistic-regression\n"
     ]
    }
   ],
   "source": [
    "pipeline_lr = Pipeline([\n",
    "    ('preprocessor', preprocessor),\n",
    "    ('clf', LogisticRegression())\n",
    "])\n",
    "\n",
    "param_distributions = {\n",
    "    'clf__C': np.logspace(-4, 4, 20),\n",
    "    'clf__max_iter': [100, 200, 300, 400]\n",
    "}\n",
    "\n",
    "rs = RandomizedSearchCV(\n",
    "    pipeline_lr,\n",
    "    param_distributions,\n",
    "    n_iter=10,\n",
    "    n_jobs=-1,\n",
    "    cv=5,\n",
    "    scoring='accuracy',\n",
    "    random_state=42\n",
    ")\n",
    "\n",
    "rs.fit(X_train, y_train_encoded)\n",
    "\n",
    "best_params = rs.best_params_\n",
    "best_score = rs.best_score_\n",
    "\n",
    "print(\"Best hyperparameters: \", best_params)\n",
    "print(\"Best score (accuracy) for LogisticRegression: \", best_score)"
   ]
  },
  {
   "cell_type": "markdown",
   "metadata": {},
   "source": [
    "SVC()"
   ]
  },
  {
   "cell_type": "code",
   "execution_count": 29,
   "metadata": {},
   "outputs": [
    {
     "name": "stdout",
     "output_type": "stream",
     "text": [
      "Best hyperparameters for SVC:  {'model__kernel': 'linear', 'model__gamma': 0.00026366508987303583, 'model__C': 29.763514416313132}\n",
      "Best score (accuracy) for SVC:  0.4476636034530771\n"
     ]
    }
   ],
   "source": [
    "label_encoder = LabelEncoder()\n",
    "y_train_encoded = label_encoder.fit_transform(y_train)\n",
    "\n",
    "svc_pipeline = Pipeline([\n",
    "    ('preprocessor', preprocessor),\n",
    "    ('model', SVC(probability=True))\n",
    "])\n",
    "\n",
    "param_distributions_svc = {\n",
    "    'model__C': np.logspace(-4, 4, 20),\n",
    "    'model__gamma': np.logspace(-4, 4, 20),\n",
    "    'model__kernel': ['linear', 'poly', 'rbf', 'sigmoid']\n",
    "}\n",
    "\n",
    "rs_svc = RandomizedSearchCV(\n",
    "    svc_pipeline,\n",
    "    param_distributions_svc,\n",
    "    n_iter=10,\n",
    "    n_jobs=-1,\n",
    "    cv=5,\n",
    "    scoring='accuracy',\n",
    "    random_state=42\n",
    ")\n",
    "\n",
    "rs_svc.fit(X_train, y_train_encoded)\n",
    "\n",
    "best_params_svc = rs_svc.best_params_\n",
    "best_score_svc = rs_svc.best_score_\n",
    "\n",
    "print(\"Best hyperparameters for SVC: \", best_params_svc)\n",
    "print(\"Best score (accuracy) for SVC: \", best_score_svc)"
   ]
  },
  {
   "cell_type": "markdown",
   "metadata": {},
   "source": [
    "#### 6.3"
   ]
  },
  {
   "cell_type": "markdown",
   "metadata": {},
   "source": [
    "На основании вышеуказанного мы видим:\n",
    "- Best score (accuracy) for KNeighborsClassifier:  0.07921470342522974\n",
    "- Best score (accuracy) for DecisionTreeClassifier:  0.08026733500417711\n",
    "- Best score (accuracy) for LogisticRegression: 0.0844667223614592\n",
    "- Best score (accuracy) for SVC:  0.09186299081035923\\\n",
    "Таким образом мы можем утверждать, что лучшей моделью является SVC"
   ]
  },
  {
   "cell_type": "code",
   "execution_count": 30,
   "metadata": {},
   "outputs": [
    {
     "name": "stdout",
     "output_type": "stream",
     "text": [
      "Лучшие гиперпараметры для SVC:  {'C': 29.763514416313132, 'break_ties': False, 'cache_size': 200, 'class_weight': None, 'coef0': 0.0, 'decision_function_shape': 'ovr', 'degree': 3, 'gamma': 0.00026366508987303583, 'kernel': 'linear', 'max_iter': -1, 'probability': True, 'random_state': None, 'shrinking': True, 'tol': 0.001, 'verbose': False}\n",
      "Точность для SVC:  0.4476636034530771\n"
     ]
    }
   ],
   "source": [
    "best_estimator = rs_svc.best_estimator_\n",
    "best_params_svc = best_estimator['model'].get_params()\n",
    "best_score_svc = rs_svc.best_score_\n",
    "\n",
    "print(\"Лучшие гиперпараметры для SVC: \", best_params_svc)\n",
    "print(\"Точность для SVC: \", best_score_svc)"
   ]
  },
  {
   "cell_type": "markdown",
   "metadata": {},
   "source": [
    "### Шаг 7. Анализ важности признаков"
   ]
  },
  {
   "cell_type": "markdown",
   "metadata": {},
   "source": [
    "Шаг 7. Анализ важности признаков\\\n",
    "7.1 Оцените важность признаков для лучшей модели и постройте график важности с помощью метода SHAP. \\\n",
    "7.2 Сделайте выводы о значимости признаков:\\\n",
    "какие признаки мало значимы для модели;\\\n",
    "какие признаки сильнее всего влияют на целевой признак;\\\n",
    "как можно использовать эти наблюдения при моделировании и принятии бизнес-решений.\\"
   ]
  },
  {
   "cell_type": "code",
   "execution_count": 31,
   "metadata": {},
   "outputs": [
    {
     "data": {
      "application/vnd.jupyter.widget-view+json": {
       "model_id": "6741c96f66cd4a53bcb0d69cb2f2703d",
       "version_major": 2,
       "version_minor": 0
      },
      "text/plain": [
       "  0%|          | 0/118 [00:00<?, ?it/s]"
      ]
     },
     "metadata": {},
     "output_type": "display_data"
    },
    {
     "data": {
      "image/png": "[encoded data removed]",
      "text/plain": [
       "<Figure size 576x684 with 1 Axes>"
      ]
     },
     "metadata": {
      "needs_background": "light"
     },
     "output_type": "display_data"
    }
   ],
   "source": [
    "X_train_preprocessed = preprocessor.fit_transform(X_train)\n",
    "X_test_preprocessed = preprocessor.transform(X_test)\n",
    "model = SVC(kernel='rbf', probability=True)\n",
    "\n",
    "model.fit(X_train_preprocessed, y_train_encoded)\n",
    "\n",
    "background = shap.sample(X_train_preprocessed, 100)\n",
    "explainer = shap.KernelExplainer(model.predict_proba, background)\n",
    "\n",
    "X_test_sample, _, _, _ = train_test_split(X_test_preprocessed, y_test, test_size=0.5, random_state=42)\n",
    "shap_values = explainer.shap_values(X_test_sample)\n",
    "\n",
    "shap.summary_plot(shap_values, X_test_sample)"
   ]
  },
  {
   "attachments": {
    "image.png": {
     "image/png": "[encoded data removed]"
    }
   },
   "cell_type": "markdown",
   "metadata": {},
   "source": [
    "![image.png](attachment:image.png)"
   ]
  },
  {
   "cell_type": "markdown",
   "metadata": {},
   "source": [
    "На основании сформированной модели можно утверждать, что все признаки, кроме 1, 13 и 14 не оказывают значительного влияния на модель, в то в то время как 1 в значительном отрыве от остальных.\\\n",
    "таким образом при формировании бизнес модели следует заострять особое внимание на корректность данного признака."
   ]
  },
  {
   "cell_type": "markdown",
   "metadata": {},
   "source": [
    "### Шаг 8. Сегментация покупателей"
   ]
  },
  {
   "cell_type": "markdown",
   "metadata": {},
   "source": [
    "8.1 Выполните сегментацию покупателей. Используйте результаты моделирования и данные о прибыльности покупателей.\\\n",
    "8.2 Выберите группу покупателей и предложите, как увеличить её покупательскую активность: \\\n",
    "Проведите графическое и аналитическое исследование группы покупателей.\\\n",
    "Сделайте предложения по работе с сегментом для увеличения покупательской активности.\\\n",
    "8.3 Сделайте выводы о сегментах:\\\n",
    "какой сегмент вы взяли для дополнительного исследования,\\\n",
    "какие предложения вы сделали и почему.\\"
   ]
  },
  {
   "cell_type": "code",
   "execution_count": 33,
   "metadata": {},
   "outputs": [
    {
     "data": {
      "text/html": [
       "<div>\n",
       "<style scoped>\n",
       "    .dataframe tbody tr th:only-of-type {\n",
       "        vertical-align: middle;\n",
       "    }\n",
       "\n",
       "    .dataframe tbody tr th {\n",
       "        vertical-align: top;\n",
       "    }\n",
       "\n",
       "    .dataframe thead th {\n",
       "        text-align: right;\n",
       "    }\n",
       "</style>\n",
       "<table border=\"1\" class=\"dataframe\">\n",
       "  <thead>\n",
       "    <tr style=\"text-align: right;\">\n",
       "      <th></th>\n",
       "      <th>id</th>\n",
       "      <th>Покупательская активность</th>\n",
       "      <th>Тип сервиса</th>\n",
       "      <th>Разрешить сообщать</th>\n",
       "      <th>Маркет_актив_6_мес</th>\n",
       "      <th>Маркет_актив_тек_мес</th>\n",
       "      <th>Длительность</th>\n",
       "      <th>Акционные_покупки</th>\n",
       "      <th>Популярная_категория</th>\n",
       "      <th>Средний_просмотр_категорий_за_визит</th>\n",
       "      <th>Неоплаченные_продукты_штук_квартал</th>\n",
       "      <th>Ошибка_сервиса</th>\n",
       "      <th>Страниц_за_визит</th>\n",
       "      <th>выручка_пред_мес</th>\n",
       "      <th>выручка_тек_мес</th>\n",
       "      <th>минут_пред_мес</th>\n",
       "      <th>минут_тек_мес</th>\n",
       "    </tr>\n",
       "  </thead>\n",
       "  <tbody>\n",
       "    <tr>\n",
       "      <th>0</th>\n",
       "      <td>215349</td>\n",
       "      <td>Снизилась</td>\n",
       "      <td>премиум</td>\n",
       "      <td>да</td>\n",
       "      <td>4.4</td>\n",
       "      <td>4</td>\n",
       "      <td>819</td>\n",
       "      <td>0.75</td>\n",
       "      <td>Товары для детей</td>\n",
       "      <td>4</td>\n",
       "      <td>4</td>\n",
       "      <td>2</td>\n",
       "      <td>5</td>\n",
       "      <td>5216.0</td>\n",
       "      <td>4971.6</td>\n",
       "      <td>12.0</td>\n",
       "      <td>10.0</td>\n",
       "    </tr>\n",
       "    <tr>\n",
       "      <th>1</th>\n",
       "      <td>215350</td>\n",
       "      <td>Снизилась</td>\n",
       "      <td>стандарт</td>\n",
       "      <td>нет</td>\n",
       "      <td>4.9</td>\n",
       "      <td>3</td>\n",
       "      <td>539</td>\n",
       "      <td>0.14</td>\n",
       "      <td>Домашний текстиль</td>\n",
       "      <td>5</td>\n",
       "      <td>2</td>\n",
       "      <td>1</td>\n",
       "      <td>5</td>\n",
       "      <td>5457.5</td>\n",
       "      <td>5058.4</td>\n",
       "      <td>8.0</td>\n",
       "      <td>13.0</td>\n",
       "    </tr>\n",
       "    <tr>\n",
       "      <th>2</th>\n",
       "      <td>215351</td>\n",
       "      <td>Снизилась</td>\n",
       "      <td>стандарт</td>\n",
       "      <td>да</td>\n",
       "      <td>3.2</td>\n",
       "      <td>5</td>\n",
       "      <td>896</td>\n",
       "      <td>0.99</td>\n",
       "      <td>Товары для детей</td>\n",
       "      <td>5</td>\n",
       "      <td>0</td>\n",
       "      <td>6</td>\n",
       "      <td>4</td>\n",
       "      <td>6158.0</td>\n",
       "      <td>6610.4</td>\n",
       "      <td>11.0</td>\n",
       "      <td>13.0</td>\n",
       "    </tr>\n",
       "    <tr>\n",
       "      <th>3</th>\n",
       "      <td>215352</td>\n",
       "      <td>Снизилась</td>\n",
       "      <td>стандарт</td>\n",
       "      <td>нет</td>\n",
       "      <td>5.1</td>\n",
       "      <td>3</td>\n",
       "      <td>1064</td>\n",
       "      <td>0.94</td>\n",
       "      <td>Товары для детей</td>\n",
       "      <td>3</td>\n",
       "      <td>2</td>\n",
       "      <td>3</td>\n",
       "      <td>2</td>\n",
       "      <td>5807.5</td>\n",
       "      <td>5872.5</td>\n",
       "      <td>8.0</td>\n",
       "      <td>11.0</td>\n",
       "    </tr>\n",
       "    <tr>\n",
       "      <th>4</th>\n",
       "      <td>215353</td>\n",
       "      <td>Снизилась</td>\n",
       "      <td>стандарт</td>\n",
       "      <td>да</td>\n",
       "      <td>3.3</td>\n",
       "      <td>4</td>\n",
       "      <td>762</td>\n",
       "      <td>0.26</td>\n",
       "      <td>Домашний текстиль</td>\n",
       "      <td>4</td>\n",
       "      <td>1</td>\n",
       "      <td>1</td>\n",
       "      <td>4</td>\n",
       "      <td>5124.0</td>\n",
       "      <td>5388.5</td>\n",
       "      <td>10.0</td>\n",
       "      <td>10.0</td>\n",
       "    </tr>\n",
       "    <tr>\n",
       "      <th>...</th>\n",
       "      <td>...</td>\n",
       "      <td>...</td>\n",
       "      <td>...</td>\n",
       "      <td>...</td>\n",
       "      <td>...</td>\n",
       "      <td>...</td>\n",
       "      <td>...</td>\n",
       "      <td>...</td>\n",
       "      <td>...</td>\n",
       "      <td>...</td>\n",
       "      <td>...</td>\n",
       "      <td>...</td>\n",
       "      <td>...</td>\n",
       "      <td>...</td>\n",
       "      <td>...</td>\n",
       "      <td>...</td>\n",
       "      <td>...</td>\n",
       "    </tr>\n",
       "    <tr>\n",
       "      <th>490</th>\n",
       "      <td>215936</td>\n",
       "      <td>Снизилась</td>\n",
       "      <td>стандарт</td>\n",
       "      <td>да</td>\n",
       "      <td>3.9</td>\n",
       "      <td>3</td>\n",
       "      <td>567</td>\n",
       "      <td>0.24</td>\n",
       "      <td>Техника для красоты и здоровья</td>\n",
       "      <td>2</td>\n",
       "      <td>4</td>\n",
       "      <td>7</td>\n",
       "      <td>7</td>\n",
       "      <td>5288.0</td>\n",
       "      <td>5873.0</td>\n",
       "      <td>17.0</td>\n",
       "      <td>17.0</td>\n",
       "    </tr>\n",
       "    <tr>\n",
       "      <th>491</th>\n",
       "      <td>215937</td>\n",
       "      <td>Снизилась</td>\n",
       "      <td>премиум</td>\n",
       "      <td>да</td>\n",
       "      <td>4.1</td>\n",
       "      <td>5</td>\n",
       "      <td>744</td>\n",
       "      <td>0.16</td>\n",
       "      <td>Косметика и аксесуары</td>\n",
       "      <td>1</td>\n",
       "      <td>2</td>\n",
       "      <td>5</td>\n",
       "      <td>11</td>\n",
       "      <td>4743.0</td>\n",
       "      <td>5044.6</td>\n",
       "      <td>10.0</td>\n",
       "      <td>16.0</td>\n",
       "    </tr>\n",
       "    <tr>\n",
       "      <th>492</th>\n",
       "      <td>215938</td>\n",
       "      <td>Снизилась</td>\n",
       "      <td>стандарт</td>\n",
       "      <td>да</td>\n",
       "      <td>5.2</td>\n",
       "      <td>3</td>\n",
       "      <td>591</td>\n",
       "      <td>0.18</td>\n",
       "      <td>Техника для красоты и здоровья</td>\n",
       "      <td>2</td>\n",
       "      <td>1</td>\n",
       "      <td>4</td>\n",
       "      <td>17</td>\n",
       "      <td>5922.5</td>\n",
       "      <td>7338.2</td>\n",
       "      <td>15.0</td>\n",
       "      <td>13.0</td>\n",
       "    </tr>\n",
       "    <tr>\n",
       "      <th>493</th>\n",
       "      <td>215940</td>\n",
       "      <td>Снизилась</td>\n",
       "      <td>премиум</td>\n",
       "      <td>да</td>\n",
       "      <td>5.7</td>\n",
       "      <td>5</td>\n",
       "      <td>903</td>\n",
       "      <td>0.99</td>\n",
       "      <td>Косметика и аксесуары</td>\n",
       "      <td>2</td>\n",
       "      <td>8</td>\n",
       "      <td>6</td>\n",
       "      <td>12</td>\n",
       "      <td>4691.0</td>\n",
       "      <td>4799.3</td>\n",
       "      <td>13.0</td>\n",
       "      <td>18.0</td>\n",
       "    </tr>\n",
       "    <tr>\n",
       "      <th>494</th>\n",
       "      <td>215941</td>\n",
       "      <td>Снизилась</td>\n",
       "      <td>стандарт</td>\n",
       "      <td>да</td>\n",
       "      <td>3.3</td>\n",
       "      <td>5</td>\n",
       "      <td>157</td>\n",
       "      <td>0.13</td>\n",
       "      <td>Домашний текстиль</td>\n",
       "      <td>3</td>\n",
       "      <td>6</td>\n",
       "      <td>5</td>\n",
       "      <td>11</td>\n",
       "      <td>5118.0</td>\n",
       "      <td>5192.4</td>\n",
       "      <td>21.0</td>\n",
       "      <td>18.0</td>\n",
       "    </tr>\n",
       "  </tbody>\n",
       "</table>\n",
       "<p>399 rows × 17 columns</p>\n",
       "</div>"
      ],
      "text/plain": [
       "         id Покупательская активность Тип сервиса Разрешить сообщать  \\\n",
       "0    215349                 Снизилась     премиум                 да   \n",
       "1    215350                 Снизилась    стандарт                нет   \n",
       "2    215351                 Снизилась    стандарт                 да   \n",
       "3    215352                 Снизилась    стандарт                нет   \n",
       "4    215353                 Снизилась    стандарт                 да   \n",
       "..      ...                       ...         ...                ...   \n",
       "490  215936                 Снизилась    стандарт                 да   \n",
       "491  215937                 Снизилась     премиум                 да   \n",
       "492  215938                 Снизилась    стандарт                 да   \n",
       "493  215940                 Снизилась     премиум                 да   \n",
       "494  215941                 Снизилась    стандарт                 да   \n",
       "\n",
       "     Маркет_актив_6_мес  Маркет_актив_тек_мес  Длительность  \\\n",
       "0                   4.4                     4           819   \n",
       "1                   4.9                     3           539   \n",
       "2                   3.2                     5           896   \n",
       "3                   5.1                     3          1064   \n",
       "4                   3.3                     4           762   \n",
       "..                  ...                   ...           ...   \n",
       "490                 3.9                     3           567   \n",
       "491                 4.1                     5           744   \n",
       "492                 5.2                     3           591   \n",
       "493                 5.7                     5           903   \n",
       "494                 3.3                     5           157   \n",
       "\n",
       "     Акционные_покупки            Популярная_категория  \\\n",
       "0                 0.75                Товары для детей   \n",
       "1                 0.14               Домашний текстиль   \n",
       "2                 0.99                Товары для детей   \n",
       "3                 0.94                Товары для детей   \n",
       "4                 0.26               Домашний текстиль   \n",
       "..                 ...                             ...   \n",
       "490               0.24  Техника для красоты и здоровья   \n",
       "491               0.16           Косметика и аксесуары   \n",
       "492               0.18  Техника для красоты и здоровья   \n",
       "493               0.99           Косметика и аксесуары   \n",
       "494               0.13               Домашний текстиль   \n",
       "\n",
       "     Средний_просмотр_категорий_за_визит  Неоплаченные_продукты_штук_квартал  \\\n",
       "0                                      4                                   4   \n",
       "1                                      5                                   2   \n",
       "2                                      5                                   0   \n",
       "3                                      3                                   2   \n",
       "4                                      4                                   1   \n",
       "..                                   ...                                 ...   \n",
       "490                                    2                                   4   \n",
       "491                                    1                                   2   \n",
       "492                                    2                                   1   \n",
       "493                                    2                                   8   \n",
       "494                                    3                                   6   \n",
       "\n",
       "     Ошибка_сервиса  Страниц_за_визит  выручка_пред_мес  выручка_тек_мес  \\\n",
       "0                 2                 5            5216.0           4971.6   \n",
       "1                 1                 5            5457.5           5058.4   \n",
       "2                 6                 4            6158.0           6610.4   \n",
       "3                 3                 2            5807.5           5872.5   \n",
       "4                 1                 4            5124.0           5388.5   \n",
       "..              ...               ...               ...              ...   \n",
       "490               7                 7            5288.0           5873.0   \n",
       "491               5                11            4743.0           5044.6   \n",
       "492               4                17            5922.5           7338.2   \n",
       "493               6                12            4691.0           4799.3   \n",
       "494               5                11            5118.0           5192.4   \n",
       "\n",
       "     минут_пред_мес  минут_тек_мес  \n",
       "0              12.0           10.0  \n",
       "1               8.0           13.0  \n",
       "2              11.0           13.0  \n",
       "3               8.0           11.0  \n",
       "4              10.0           10.0  \n",
       "..              ...            ...  \n",
       "490            17.0           17.0  \n",
       "491            10.0           16.0  \n",
       "492            15.0           13.0  \n",
       "493            13.0           18.0  \n",
       "494            21.0           18.0  \n",
       "\n",
       "[399 rows x 17 columns]"
      ]
     },
     "execution_count": 33,
     "metadata": {},
     "output_type": "execute_result"
    }
   ],
   "source": [
    "cluster_1_data = merged_data[merged_data['Покупательская активность'] == 'Снизилась']\n",
    "cluster_1_data"
   ]
  },
  {
   "cell_type": "markdown",
   "metadata": {},
   "source": [
    "Я взял сегмент с пукупателями, чьи траты упали т к это та категория, которая уже является клиенами, но стала приносить меньше прибыли.\\\n",
    "На основе предоставленных данных можно сказать следующее - для увеличения покупательской активности надо устранить ошибки сервиса, \\\n",
    "Придумать способ продавать обычные товары в купе с акционными (т к большая часть тех, у кого снизились траты перешли только на акционные покупки)\\\n",
    "и озаботиться своевременным получением оплаты с покупателей."
   ]
  },
  {
   "cell_type": "markdown",
   "metadata": {},
   "source": [
    "### Шаг 9. Общий вывод"
   ]
  },
  {
   "cell_type": "markdown",
   "metadata": {},
   "source": [
    "В ходе проекта было исследовано предложение по разработке решения для персонализации предложений постоянным клиентам с целью увеличения их покупательской активности.\\\n",
    "Начиная с предобработки данных и проведения исследовательского анализа, было определено, что многие клиенты проявляют активность на протяжении не менее трёх месяцев.\\\n",
    "Осуществлено объединение данных с целью последующего моделирования, а также выполнен корреляционный анализ признаков в количественной шкале для выявления мультиколлинеарности.\\\n",
    "Применение пайплайнов позволило выполнить обучение и подбор гиперпараметров для четырёх моделей (KNeighborsClassifier, DecisionTreeClassifier, LogisticRegression, SVC) \\\n",
    "с последующим выбором лучшей модели на основе заданной метрики. \\\n",
    "В нашем случае лучшей метрикой оказалась DecisionTreeClassifier.\\\n",
    "Оценена важность признаков для лучшей модели с использованием метода SHAP, что позволило выявить наиболее значимые признаки для моделирования и принятия бизнес-решений.\\\n",
    "Проведена сегментация покупателей на основе результатов моделирования и данных о прибыльности, \\\n",
    "после чего были разработаны предложения для увеличения покупательской активности выбранной группы клиентов.\\\n",
    "Обобщая результаты, проект подтвердил возможность использования аналитических методов для разработки персонализированных предложений, \\\n",
    "улучшения покупательской активности постоянных клиентов и принятия более обоснованных бизнес-решений."
   ]
  }
 ],
 "metadata": {
  "ExecuteTimeLog": [
   {
    "duration": 7116,
    "start_time": "2024-02-15T06:45:11.223Z"
   },
   {
    "duration": 254,
    "start_time": "2024-02-15T06:45:18.340Z"
   },
   {
    "duration": 3,
    "start_time": "2024-02-15T06:45:18.595Z"
   },
   {
    "duration": 36,
    "start_time": "2024-02-15T06:45:18.600Z"
   },
   {
    "duration": 58,
    "start_time": "2024-02-15T06:45:18.638Z"
   },
   {
    "duration": 16,
    "start_time": "2024-02-15T06:45:18.698Z"
   },
   {
    "duration": 57,
    "start_time": "2024-02-15T06:45:18.715Z"
   },
   {
    "duration": 24,
    "start_time": "2024-02-15T06:45:18.774Z"
   },
   {
    "duration": 19,
    "start_time": "2024-02-15T06:45:18.800Z"
   },
   {
    "duration": 47,
    "start_time": "2024-02-15T06:45:18.821Z"
   },
   {
    "duration": 13,
    "start_time": "2024-02-15T06:45:18.870Z"
   },
   {
    "duration": 48,
    "start_time": "2024-02-15T06:45:18.884Z"
   },
   {
    "duration": 29,
    "start_time": "2024-02-15T06:45:18.934Z"
   },
   {
    "duration": 32,
    "start_time": "2024-02-15T06:45:18.965Z"
   },
   {
    "duration": 81,
    "start_time": "2024-02-15T06:45:18.999Z"
   },
   {
    "duration": 1226,
    "start_time": "2024-02-15T06:45:19.082Z"
   },
   {
    "duration": 13,
    "start_time": "2024-02-15T06:45:20.310Z"
   },
   {
    "duration": 242,
    "start_time": "2024-02-15T06:45:20.324Z"
   },
   {
    "duration": 1207,
    "start_time": "2024-02-15T06:45:20.568Z"
   },
   {
    "duration": 9,
    "start_time": "2024-02-15T06:45:21.777Z"
   },
   {
    "duration": 310,
    "start_time": "2024-02-15T06:45:21.788Z"
   },
   {
    "duration": 166,
    "start_time": "2024-02-15T06:45:22.099Z"
   },
   {
    "duration": 333,
    "start_time": "2024-02-15T06:45:22.267Z"
   },
   {
    "duration": 205,
    "start_time": "2024-02-15T06:45:22.602Z"
   },
   {
    "duration": 14,
    "start_time": "2024-02-15T06:45:22.808Z"
   },
   {
    "duration": 359,
    "start_time": "2024-02-15T06:45:22.823Z"
   },
   {
    "duration": 1071,
    "start_time": "2024-02-15T06:45:23.183Z"
   },
   {
    "duration": 29,
    "start_time": "2024-02-15T06:45:24.256Z"
   },
   {
    "duration": 7144,
    "start_time": "2024-02-16T02:55:08.890Z"
   },
   {
    "duration": 310,
    "start_time": "2024-02-16T02:55:16.035Z"
   },
   {
    "duration": 3,
    "start_time": "2024-02-16T02:55:16.347Z"
   },
   {
    "duration": 7,
    "start_time": "2024-02-16T02:55:16.351Z"
   },
   {
    "duration": 49,
    "start_time": "2024-02-16T02:55:16.359Z"
   },
   {
    "duration": 15,
    "start_time": "2024-02-16T02:55:16.409Z"
   },
   {
    "duration": 14,
    "start_time": "2024-02-16T02:55:16.426Z"
   },
   {
    "duration": 29,
    "start_time": "2024-02-16T02:55:16.441Z"
   },
   {
    "duration": 10,
    "start_time": "2024-02-16T02:55:16.472Z"
   },
   {
    "duration": 19,
    "start_time": "2024-02-16T02:55:16.485Z"
   },
   {
    "duration": 14,
    "start_time": "2024-02-16T02:55:16.505Z"
   },
   {
    "duration": 12,
    "start_time": "2024-02-16T02:55:16.520Z"
   },
   {
    "duration": 49,
    "start_time": "2024-02-16T02:55:16.533Z"
   },
   {
    "duration": 9,
    "start_time": "2024-02-16T02:55:16.583Z"
   },
   {
    "duration": 80,
    "start_time": "2024-02-16T02:55:16.594Z"
   },
   {
    "duration": 1275,
    "start_time": "2024-02-16T02:55:16.675Z"
   },
   {
    "duration": 22,
    "start_time": "2024-02-16T02:55:17.952Z"
   },
   {
    "duration": 254,
    "start_time": "2024-02-16T02:55:17.975Z"
   },
   {
    "duration": 1284,
    "start_time": "2024-02-16T02:55:18.230Z"
   },
   {
    "duration": 10,
    "start_time": "2024-02-16T02:55:19.515Z"
   },
   {
    "duration": 342,
    "start_time": "2024-02-16T02:55:19.527Z"
   },
   {
    "duration": 168,
    "start_time": "2024-02-16T02:55:19.873Z"
   },
   {
    "duration": 369,
    "start_time": "2024-02-16T02:55:20.042Z"
   },
   {
    "duration": 191,
    "start_time": "2024-02-16T02:55:20.412Z"
   },
   {
    "duration": 15,
    "start_time": "2024-02-16T02:55:20.605Z"
   },
   {
    "duration": 380,
    "start_time": "2024-02-16T02:55:20.622Z"
   },
   {
    "duration": 1143,
    "start_time": "2024-02-16T02:55:21.003Z"
   },
   {
    "duration": 34,
    "start_time": "2024-02-16T02:55:22.149Z"
   },
   {
    "duration": 2529,
    "start_time": "2024-02-16T03:28:43.604Z"
   },
   {
    "duration": 7,
    "start_time": "2024-02-16T03:34:41.416Z"
   },
   {
    "duration": 2946,
    "start_time": "2024-02-16T03:39:03.972Z"
   },
   {
    "duration": 5,
    "start_time": "2024-02-16T03:41:08.281Z"
   },
   {
    "duration": 6,
    "start_time": "2024-02-16T03:41:19.090Z"
   },
   {
    "duration": 62724,
    "start_time": "2024-02-16T03:41:36.614Z"
   },
   {
    "duration": 193,
    "start_time": "2024-02-16T03:46:39.114Z"
   },
   {
    "duration": 13,
    "start_time": "2024-02-16T03:46:53.055Z"
   },
   {
    "duration": 23615,
    "start_time": "2024-02-16T03:47:02.234Z"
   },
   {
    "duration": 23029,
    "start_time": "2024-02-16T03:47:25.851Z"
   },
   {
    "duration": 4,
    "start_time": "2024-02-16T03:49:03.265Z"
   },
   {
    "duration": 5,
    "start_time": "2024-02-16T03:49:04.429Z"
   },
   {
    "duration": 2786,
    "start_time": "2024-02-16T03:49:21.925Z"
   },
   {
    "duration": 5,
    "start_time": "2024-02-16T03:51:12.379Z"
   },
   {
    "duration": 2577,
    "start_time": "2024-02-16T03:51:19.883Z"
   },
   {
    "duration": 12866,
    "start_time": "2024-02-16T03:51:26.246Z"
   },
   {
    "duration": 10,
    "start_time": "2024-02-16T04:05:27.581Z"
   },
   {
    "duration": 76,
    "start_time": "2024-02-16T04:06:41.463Z"
   },
   {
    "duration": 16,
    "start_time": "2024-02-16T05:34:47.325Z"
   },
   {
    "duration": 290,
    "start_time": "2024-02-16T05:35:02.327Z"
   },
   {
    "duration": 356,
    "start_time": "2024-02-16T05:36:50.740Z"
   },
   {
    "duration": 315,
    "start_time": "2024-02-16T05:38:12.220Z"
   },
   {
    "duration": 219,
    "start_time": "2024-02-16T05:38:37.256Z"
   },
   {
    "duration": 321,
    "start_time": "2024-02-16T05:38:43.085Z"
   },
   {
    "duration": 315,
    "start_time": "2024-02-16T05:40:32.923Z"
   },
   {
    "duration": 2609,
    "start_time": "2024-02-16T05:41:29.316Z"
   },
   {
    "duration": 333,
    "start_time": "2024-02-16T05:41:48.660Z"
   },
   {
    "duration": 147,
    "start_time": "2024-02-16T05:43:33.280Z"
   },
   {
    "duration": 38,
    "start_time": "2024-02-16T05:44:32.169Z"
   },
   {
    "duration": 6654,
    "start_time": "2024-02-16T14:01:31.629Z"
   },
   {
    "duration": 250,
    "start_time": "2024-02-16T14:01:38.285Z"
   },
   {
    "duration": 4,
    "start_time": "2024-02-16T14:01:38.536Z"
   },
   {
    "duration": 14,
    "start_time": "2024-02-16T14:01:38.541Z"
   },
   {
    "duration": 14,
    "start_time": "2024-02-16T14:01:38.557Z"
   },
   {
    "duration": 31,
    "start_time": "2024-02-16T14:01:38.573Z"
   },
   {
    "duration": 16,
    "start_time": "2024-02-16T14:01:38.606Z"
   },
   {
    "duration": 13,
    "start_time": "2024-02-16T14:01:38.623Z"
   },
   {
    "duration": 22,
    "start_time": "2024-02-16T14:01:38.638Z"
   },
   {
    "duration": 11,
    "start_time": "2024-02-16T14:01:38.661Z"
   },
   {
    "duration": 28,
    "start_time": "2024-02-16T14:01:38.674Z"
   },
   {
    "duration": 12,
    "start_time": "2024-02-16T14:01:38.704Z"
   },
   {
    "duration": 5,
    "start_time": "2024-02-16T14:01:38.745Z"
   },
   {
    "duration": 27,
    "start_time": "2024-02-16T14:01:38.752Z"
   },
   {
    "duration": 21,
    "start_time": "2024-02-16T14:01:38.780Z"
   },
   {
    "duration": 6,
    "start_time": "2024-02-16T14:01:38.802Z"
   },
   {
    "duration": 53,
    "start_time": "2024-02-16T14:01:38.810Z"
   },
   {
    "duration": 2334,
    "start_time": "2024-02-16T14:01:38.864Z"
   },
   {
    "duration": 10884,
    "start_time": "2024-02-16T14:01:41.200Z"
   },
   {
    "duration": 12,
    "start_time": "2024-02-16T14:01:52.086Z"
   },
   {
    "duration": 232,
    "start_time": "2024-02-16T14:01:52.100Z"
   },
   {
    "duration": 1147,
    "start_time": "2024-02-16T14:01:52.334Z"
   },
   {
    "duration": 11,
    "start_time": "2024-02-16T14:01:53.483Z"
   },
   {
    "duration": 337,
    "start_time": "2024-02-16T14:01:53.496Z"
   },
   {
    "duration": 128,
    "start_time": "2024-02-16T14:01:53.846Z"
   },
   {
    "duration": 2130,
    "start_time": "2024-02-16T14:01:53.975Z"
   },
   {
    "duration": 0,
    "start_time": "2024-02-16T14:01:56.106Z"
   },
   {
    "duration": 0,
    "start_time": "2024-02-16T14:01:56.108Z"
   },
   {
    "duration": 0,
    "start_time": "2024-02-16T14:01:56.108Z"
   },
   {
    "duration": 0,
    "start_time": "2024-02-16T14:01:56.110Z"
   },
   {
    "duration": 0,
    "start_time": "2024-02-16T14:01:56.111Z"
   },
   {
    "duration": 1258,
    "start_time": "2024-02-16T14:02:28.550Z"
   },
   {
    "duration": 1332,
    "start_time": "2024-02-16T14:02:30.489Z"
   },
   {
    "duration": 4568,
    "start_time": "2024-02-16T14:02:39.730Z"
   },
   {
    "duration": 86,
    "start_time": "2024-02-16T14:02:44.299Z"
   },
   {
    "duration": 3,
    "start_time": "2024-02-16T14:02:44.387Z"
   },
   {
    "duration": 28,
    "start_time": "2024-02-16T14:02:44.391Z"
   },
   {
    "duration": 53,
    "start_time": "2024-02-16T14:02:44.421Z"
   },
   {
    "duration": 88,
    "start_time": "2024-02-16T14:02:44.476Z"
   },
   {
    "duration": 15,
    "start_time": "2024-02-16T14:02:44.566Z"
   },
   {
    "duration": 73,
    "start_time": "2024-02-16T14:02:44.582Z"
   },
   {
    "duration": 12,
    "start_time": "2024-02-16T14:02:44.656Z"
   },
   {
    "duration": 83,
    "start_time": "2024-02-16T14:02:44.670Z"
   },
   {
    "duration": 43,
    "start_time": "2024-02-16T14:02:44.754Z"
   },
   {
    "duration": 77,
    "start_time": "2024-02-16T14:02:44.798Z"
   },
   {
    "duration": 73,
    "start_time": "2024-02-16T14:02:44.876Z"
   },
   {
    "duration": 96,
    "start_time": "2024-02-16T14:02:44.951Z"
   },
   {
    "duration": 75,
    "start_time": "2024-02-16T14:02:45.049Z"
   },
   {
    "duration": 71,
    "start_time": "2024-02-16T14:02:45.125Z"
   },
   {
    "duration": 104,
    "start_time": "2024-02-16T14:02:45.198Z"
   },
   {
    "duration": 2307,
    "start_time": "2024-02-16T14:02:45.303Z"
   },
   {
    "duration": 11111,
    "start_time": "2024-02-16T14:02:47.612Z"
   },
   {
    "duration": 22,
    "start_time": "2024-02-16T14:02:58.724Z"
   },
   {
    "duration": 263,
    "start_time": "2024-02-16T14:02:58.747Z"
   },
   {
    "duration": 1193,
    "start_time": "2024-02-16T14:02:59.011Z"
   },
   {
    "duration": 9,
    "start_time": "2024-02-16T14:03:00.205Z"
   },
   {
    "duration": 412,
    "start_time": "2024-02-16T14:03:00.216Z"
   },
   {
    "duration": 140,
    "start_time": "2024-02-16T14:03:00.629Z"
   },
   {
    "duration": 183,
    "start_time": "2024-02-16T14:03:00.770Z"
   },
   {
    "duration": 0,
    "start_time": "2024-02-16T14:03:00.954Z"
   },
   {
    "duration": 0,
    "start_time": "2024-02-16T14:03:00.955Z"
   },
   {
    "duration": 0,
    "start_time": "2024-02-16T14:03:00.956Z"
   },
   {
    "duration": 0,
    "start_time": "2024-02-16T14:03:00.957Z"
   },
   {
    "duration": 0,
    "start_time": "2024-02-16T14:03:00.958Z"
   },
   {
    "duration": 19,
    "start_time": "2024-02-16T14:04:44.809Z"
   },
   {
    "duration": 19,
    "start_time": "2024-02-16T14:04:51.759Z"
   },
   {
    "duration": 22,
    "start_time": "2024-02-16T14:07:27.248Z"
   },
   {
    "duration": 7238,
    "start_time": "2024-02-17T10:22:24.579Z"
   },
   {
    "duration": 240,
    "start_time": "2024-02-17T10:22:31.819Z"
   },
   {
    "duration": 3,
    "start_time": "2024-02-17T10:22:32.061Z"
   },
   {
    "duration": 4,
    "start_time": "2024-02-17T10:22:32.065Z"
   },
   {
    "duration": 5,
    "start_time": "2024-02-17T10:22:32.071Z"
   },
   {
    "duration": 25,
    "start_time": "2024-02-17T10:22:32.078Z"
   },
   {
    "duration": 14,
    "start_time": "2024-02-17T10:22:32.104Z"
   },
   {
    "duration": 19,
    "start_time": "2024-02-17T10:22:32.119Z"
   },
   {
    "duration": 16,
    "start_time": "2024-02-17T10:22:32.139Z"
   },
   {
    "duration": 10,
    "start_time": "2024-02-17T10:22:32.156Z"
   },
   {
    "duration": 18,
    "start_time": "2024-02-17T10:22:32.167Z"
   },
   {
    "duration": 11,
    "start_time": "2024-02-17T10:22:32.186Z"
   },
   {
    "duration": 36,
    "start_time": "2024-02-17T10:22:32.198Z"
   },
   {
    "duration": 12,
    "start_time": "2024-02-17T10:22:32.236Z"
   },
   {
    "duration": 25,
    "start_time": "2024-02-17T10:22:32.249Z"
   },
   {
    "duration": 8,
    "start_time": "2024-02-17T10:22:32.276Z"
   },
   {
    "duration": 68,
    "start_time": "2024-02-17T10:22:32.286Z"
   },
   {
    "duration": 2430,
    "start_time": "2024-02-17T10:22:32.355Z"
   },
   {
    "duration": 11564,
    "start_time": "2024-02-17T10:22:34.787Z"
   },
   {
    "duration": 13,
    "start_time": "2024-02-17T10:22:46.353Z"
   },
   {
    "duration": 246,
    "start_time": "2024-02-17T10:22:46.367Z"
   },
   {
    "duration": 1295,
    "start_time": "2024-02-17T10:22:46.615Z"
   },
   {
    "duration": 9,
    "start_time": "2024-02-17T10:22:47.912Z"
   },
   {
    "duration": 331,
    "start_time": "2024-02-17T10:22:47.923Z"
   },
   {
    "duration": 142,
    "start_time": "2024-02-17T10:22:48.255Z"
   },
   {
    "duration": 186,
    "start_time": "2024-02-17T10:22:48.398Z"
   },
   {
    "duration": 0,
    "start_time": "2024-02-17T10:22:48.585Z"
   },
   {
    "duration": 0,
    "start_time": "2024-02-17T10:22:48.586Z"
   },
   {
    "duration": 0,
    "start_time": "2024-02-17T10:22:48.587Z"
   },
   {
    "duration": 0,
    "start_time": "2024-02-17T10:22:48.588Z"
   },
   {
    "duration": 0,
    "start_time": "2024-02-17T10:22:48.589Z"
   },
   {
    "duration": 16,
    "start_time": "2024-02-17T10:25:06.618Z"
   },
   {
    "duration": 33,
    "start_time": "2024-02-17T10:29:34.167Z"
   },
   {
    "duration": 29,
    "start_time": "2024-02-17T10:29:35.347Z"
   },
   {
    "duration": 30,
    "start_time": "2024-02-17T10:30:24.277Z"
   },
   {
    "duration": 28,
    "start_time": "2024-02-17T10:30:39.027Z"
   },
   {
    "duration": 28,
    "start_time": "2024-02-17T10:31:17.006Z"
   },
   {
    "duration": 32,
    "start_time": "2024-02-17T10:32:40.488Z"
   },
   {
    "duration": 33,
    "start_time": "2024-02-17T10:33:46.746Z"
   },
   {
    "duration": 13,
    "start_time": "2024-02-17T10:35:28.437Z"
   },
   {
    "duration": 291,
    "start_time": "2024-02-17T10:35:44.956Z"
   },
   {
    "duration": 435,
    "start_time": "2024-02-17T10:35:47.576Z"
   },
   {
    "duration": 47404,
    "start_time": "2024-02-17T10:37:10.736Z"
   },
   {
    "duration": 415,
    "start_time": "2024-02-17T10:39:20.205Z"
   },
   {
    "duration": 46318,
    "start_time": "2024-02-17T10:39:35.324Z"
   },
   {
    "duration": 43103,
    "start_time": "2024-02-17T10:44:03.631Z"
   },
   {
    "duration": 328,
    "start_time": "2024-02-17T10:56:00.416Z"
   },
   {
    "duration": 18,
    "start_time": "2024-02-17T12:07:49.002Z"
   },
   {
    "duration": 64,
    "start_time": "2024-02-17T12:07:55.402Z"
   },
   {
    "duration": 94,
    "start_time": "2024-02-17T12:09:22.141Z"
   },
   {
    "duration": 47,
    "start_time": "2024-02-17T12:09:27.712Z"
   },
   {
    "duration": 90275,
    "start_time": "2024-02-17T12:11:22.962Z"
   },
   {
    "duration": 88800,
    "start_time": "2024-02-17T12:14:48.742Z"
   },
   {
    "duration": 18,
    "start_time": "2024-02-17T12:18:13.949Z"
   },
   {
    "duration": 413,
    "start_time": "2024-02-17T12:18:35.049Z"
   },
   {
    "duration": 197,
    "start_time": "2024-02-17T12:18:38.728Z"
   },
   {
    "duration": 48,
    "start_time": "2024-02-17T12:19:35.178Z"
   },
   {
    "duration": 84530,
    "start_time": "2024-02-17T12:21:07.007Z"
   },
   {
    "duration": 499,
    "start_time": "2024-02-17T12:22:31.539Z"
   },
   {
    "duration": 30,
    "start_time": "2024-02-17T12:22:45.137Z"
   },
   {
    "duration": 680,
    "start_time": "2024-02-17T12:23:41.897Z"
   },
   {
    "duration": 4,
    "start_time": "2024-02-17T12:25:42.405Z"
   },
   {
    "duration": 73860,
    "start_time": "2024-02-17T12:27:15.466Z"
   },
   {
    "duration": 50,
    "start_time": "2024-02-17T12:30:49.855Z"
   },
   {
    "duration": 82601,
    "start_time": "2024-02-17T12:30:55.034Z"
   },
   {
    "duration": 0,
    "start_time": "2024-02-17T12:32:17.637Z"
   },
   {
    "duration": 0,
    "start_time": "2024-02-17T12:32:17.638Z"
   },
   {
    "duration": 82,
    "start_time": "2024-02-17T12:32:44.364Z"
   },
   {
    "duration": 89,
    "start_time": "2024-02-17T12:33:09.323Z"
   },
   {
    "duration": 1004,
    "start_time": "2024-02-17T12:33:33.034Z"
   },
   {
    "duration": 6477,
    "start_time": "2024-02-17T12:34:25.203Z"
   },
   {
    "duration": 81314,
    "start_time": "2024-02-17T12:35:04.233Z"
   },
   {
    "duration": 0,
    "start_time": "2024-02-17T12:36:25.548Z"
   },
   {
    "duration": 14,
    "start_time": "2024-02-17T12:36:43.213Z"
   },
   {
    "duration": 111525,
    "start_time": "2024-02-17T12:36:55.722Z"
   },
   {
    "duration": 82273,
    "start_time": "2024-02-17T12:38:59.372Z"
   },
   {
    "duration": 101138,
    "start_time": "2024-02-17T12:41:05.601Z"
   },
   {
    "duration": 73727,
    "start_time": "2024-02-17T12:43:03.801Z"
   },
   {
    "duration": 73162,
    "start_time": "2024-02-17T12:44:29.491Z"
   },
   {
    "duration": 2393,
    "start_time": "2024-02-17T12:46:51.569Z"
   },
   {
    "duration": 2312,
    "start_time": "2024-02-17T12:55:14.007Z"
   },
   {
    "duration": 2310,
    "start_time": "2024-02-17T12:55:55.007Z"
   },
   {
    "duration": 39,
    "start_time": "2024-02-17T12:56:50.477Z"
   },
   {
    "duration": 608,
    "start_time": "2024-02-17T12:58:54.237Z"
   },
   {
    "duration": 6451,
    "start_time": "2024-02-17T12:58:57.356Z"
   },
   {
    "duration": 13,
    "start_time": "2024-02-17T12:59:15.377Z"
   },
   {
    "duration": 28,
    "start_time": "2024-02-17T13:00:57.916Z"
   },
   {
    "duration": 27,
    "start_time": "2024-02-17T13:02:03.337Z"
   },
   {
    "duration": 21,
    "start_time": "2024-02-17T13:02:40.515Z"
   },
   {
    "duration": 14,
    "start_time": "2024-02-17T13:03:29.366Z"
   },
   {
    "duration": 36,
    "start_time": "2024-02-17T13:04:16.786Z"
   },
   {
    "duration": 42,
    "start_time": "2024-02-17T13:05:12.896Z"
   },
   {
    "duration": 35,
    "start_time": "2024-02-17T13:05:42.035Z"
   },
   {
    "duration": 14,
    "start_time": "2024-02-17T13:06:02.865Z"
   },
   {
    "duration": 33,
    "start_time": "2024-02-17T13:06:56.895Z"
   },
   {
    "duration": 20,
    "start_time": "2024-02-17T13:07:36.955Z"
   },
   {
    "duration": 13,
    "start_time": "2024-02-17T13:08:52.674Z"
   },
   {
    "duration": 12,
    "start_time": "2024-02-17T13:08:54.655Z"
   },
   {
    "duration": 20,
    "start_time": "2024-02-17T13:09:12.695Z"
   },
   {
    "duration": 126,
    "start_time": "2024-02-17T13:10:27.794Z"
   },
   {
    "duration": 15,
    "start_time": "2024-02-17T13:13:00.194Z"
   },
   {
    "duration": 13,
    "start_time": "2024-02-17T13:13:04.744Z"
   },
   {
    "duration": 14,
    "start_time": "2024-02-17T13:13:07.733Z"
   },
   {
    "duration": 73709,
    "start_time": "2024-02-17T13:16:18.013Z"
   },
   {
    "duration": 0,
    "start_time": "2024-02-17T13:19:06.621Z"
   },
   {
    "duration": 72364,
    "start_time": "2024-02-17T13:19:21.721Z"
   },
   {
    "duration": 73098,
    "start_time": "2024-02-17T13:21:55.911Z"
   },
   {
    "duration": 74054,
    "start_time": "2024-02-17T13:25:21.500Z"
   },
   {
    "duration": 1168,
    "start_time": "2024-02-17T13:27:08.470Z"
   },
   {
    "duration": 72852,
    "start_time": "2024-02-17T13:27:49.949Z"
   },
   {
    "duration": 0,
    "start_time": "2024-02-17T13:31:19.733Z"
   },
   {
    "duration": 73816,
    "start_time": "2024-02-17T13:31:27.638Z"
   },
   {
    "duration": 19,
    "start_time": "2024-02-17T13:33:21.897Z"
   },
   {
    "duration": 15,
    "start_time": "2024-02-17T13:33:34.957Z"
   },
   {
    "duration": 12,
    "start_time": "2024-02-17T13:33:43.436Z"
   },
   {
    "duration": 17,
    "start_time": "2024-02-17T13:33:49.797Z"
   },
   {
    "duration": 74638,
    "start_time": "2024-02-17T13:34:32.446Z"
   },
   {
    "duration": 17,
    "start_time": "2024-02-17T13:37:34.045Z"
   },
   {
    "duration": 682,
    "start_time": "2024-02-17T13:37:48.845Z"
   },
   {
    "duration": 706,
    "start_time": "2024-02-17T13:38:10.325Z"
   },
   {
    "duration": 992,
    "start_time": "2024-02-17T13:38:23.874Z"
   },
   {
    "duration": 776,
    "start_time": "2024-02-17T13:39:19.255Z"
   },
   {
    "duration": 1446,
    "start_time": "2024-02-17T13:42:21.573Z"
   },
   {
    "duration": 12,
    "start_time": "2024-02-17T13:43:15.334Z"
   },
   {
    "duration": 12,
    "start_time": "2024-02-17T13:43:33.733Z"
   },
   {
    "duration": 12,
    "start_time": "2024-02-17T13:43:38.303Z"
   },
   {
    "duration": 12,
    "start_time": "2024-02-17T13:43:41.593Z"
   },
   {
    "duration": 12,
    "start_time": "2024-02-17T13:43:44.533Z"
   },
   {
    "duration": 15,
    "start_time": "2024-02-17T13:43:47.742Z"
   },
   {
    "duration": 13,
    "start_time": "2024-02-17T13:43:52.653Z"
   },
   {
    "duration": 1464,
    "start_time": "2024-02-17T13:44:45.652Z"
   },
   {
    "duration": 1360,
    "start_time": "2024-02-17T13:44:55.683Z"
   },
   {
    "duration": 722,
    "start_time": "2024-02-17T13:48:11.581Z"
   },
   {
    "duration": 14,
    "start_time": "2024-02-17T13:49:30.642Z"
   },
   {
    "duration": 17,
    "start_time": "2024-02-17T13:50:23.061Z"
   },
   {
    "duration": 16,
    "start_time": "2024-02-17T13:50:41.561Z"
   },
   {
    "duration": 52,
    "start_time": "2024-02-17T13:51:24.441Z"
   },
   {
    "duration": 72843,
    "start_time": "2024-02-17T13:51:33.000Z"
   },
   {
    "duration": 21,
    "start_time": "2024-02-17T13:52:45.845Z"
   },
   {
    "duration": 802,
    "start_time": "2024-02-17T13:53:30.170Z"
   },
   {
    "duration": 20,
    "start_time": "2024-02-17T13:53:37.200Z"
   },
   {
    "duration": 3349,
    "start_time": "2024-02-17T13:54:15.989Z"
   },
   {
    "duration": 21,
    "start_time": "2024-02-17T13:55:18.369Z"
   },
   {
    "duration": 539,
    "start_time": "2024-02-17T13:56:01.968Z"
   },
   {
    "duration": 615,
    "start_time": "2024-02-17T13:56:18.458Z"
   },
   {
    "duration": 14,
    "start_time": "2024-02-17T13:56:32.929Z"
   },
   {
    "duration": 15,
    "start_time": "2024-02-17T14:08:53.526Z"
   },
   {
    "duration": 4,
    "start_time": "2024-02-17T14:10:09.106Z"
   },
   {
    "duration": 4,
    "start_time": "2024-02-17T14:10:26.186Z"
   },
   {
    "duration": 5,
    "start_time": "2024-02-17T14:11:14.296Z"
   },
   {
    "duration": 20,
    "start_time": "2024-02-17T14:13:26.675Z"
   },
   {
    "duration": 77,
    "start_time": "2024-02-17T14:14:59.554Z"
   },
   {
    "duration": 11,
    "start_time": "2024-02-17T14:15:31.134Z"
   },
   {
    "duration": 627,
    "start_time": "2024-02-17T14:17:03.384Z"
   },
   {
    "duration": 14,
    "start_time": "2024-02-17T14:17:17.174Z"
   },
   {
    "duration": 704,
    "start_time": "2024-02-17T14:18:07.725Z"
   },
   {
    "duration": 15,
    "start_time": "2024-02-17T14:18:10.495Z"
   },
   {
    "duration": 578,
    "start_time": "2024-02-17T14:18:18.934Z"
   },
   {
    "duration": 14,
    "start_time": "2024-02-17T14:18:20.784Z"
   },
   {
    "duration": 4837,
    "start_time": "2024-02-17T14:35:19.175Z"
   },
   {
    "duration": 83,
    "start_time": "2024-02-17T14:35:24.014Z"
   },
   {
    "duration": 3,
    "start_time": "2024-02-17T14:35:24.099Z"
   },
   {
    "duration": 4,
    "start_time": "2024-02-17T14:35:24.104Z"
   },
   {
    "duration": 7,
    "start_time": "2024-02-17T14:35:24.109Z"
   },
   {
    "duration": 31,
    "start_time": "2024-02-17T14:35:24.117Z"
   },
   {
    "duration": 14,
    "start_time": "2024-02-17T14:35:24.149Z"
   },
   {
    "duration": 13,
    "start_time": "2024-02-17T14:35:24.165Z"
   },
   {
    "duration": 12,
    "start_time": "2024-02-17T14:35:24.180Z"
   },
   {
    "duration": 11,
    "start_time": "2024-02-17T14:35:24.194Z"
   },
   {
    "duration": 18,
    "start_time": "2024-02-17T14:35:24.233Z"
   },
   {
    "duration": 12,
    "start_time": "2024-02-17T14:35:24.253Z"
   },
   {
    "duration": 4,
    "start_time": "2024-02-17T14:35:24.266Z"
   },
   {
    "duration": 11,
    "start_time": "2024-02-17T14:35:24.272Z"
   },
   {
    "duration": 9,
    "start_time": "2024-02-17T14:35:24.285Z"
   },
   {
    "duration": 42,
    "start_time": "2024-02-17T14:35:24.295Z"
   },
   {
    "duration": 55,
    "start_time": "2024-02-17T14:35:24.338Z"
   },
   {
    "duration": 2563,
    "start_time": "2024-02-17T14:35:24.394Z"
   },
   {
    "duration": 11957,
    "start_time": "2024-02-17T14:35:26.958Z"
   },
   {
    "duration": 19,
    "start_time": "2024-02-17T14:35:38.917Z"
   },
   {
    "duration": 244,
    "start_time": "2024-02-17T14:35:38.937Z"
   },
   {
    "duration": 1342,
    "start_time": "2024-02-17T14:35:39.182Z"
   },
   {
    "duration": 14,
    "start_time": "2024-02-17T14:35:40.526Z"
   },
   {
    "duration": 303,
    "start_time": "2024-02-17T14:35:40.541Z"
   },
   {
    "duration": 184,
    "start_time": "2024-02-17T14:35:40.845Z"
   },
   {
    "duration": 0,
    "start_time": "2024-02-17T14:35:41.032Z"
   },
   {
    "duration": 0,
    "start_time": "2024-02-17T14:35:41.034Z"
   },
   {
    "duration": 0,
    "start_time": "2024-02-17T14:35:41.035Z"
   },
   {
    "duration": 0,
    "start_time": "2024-02-17T14:35:41.036Z"
   },
   {
    "duration": 0,
    "start_time": "2024-02-17T14:35:41.036Z"
   },
   {
    "duration": 0,
    "start_time": "2024-02-17T14:35:41.037Z"
   },
   {
    "duration": 1,
    "start_time": "2024-02-17T14:35:41.038Z"
   },
   {
    "duration": 11,
    "start_time": "2024-02-17T14:36:12.575Z"
   },
   {
    "duration": 283,
    "start_time": "2024-02-17T14:36:16.764Z"
   },
   {
    "duration": 6452,
    "start_time": "2024-02-17T14:36:18.835Z"
   },
   {
    "duration": 131,
    "start_time": "2024-02-17T14:36:25.289Z"
   },
   {
    "duration": 1026,
    "start_time": "2024-02-17T14:36:25.421Z"
   },
   {
    "duration": 95785,
    "start_time": "2024-02-17T14:36:26.449Z"
   },
   {
    "duration": 57128,
    "start_time": "2024-02-17T14:38:02.237Z"
   },
   {
    "duration": 4,
    "start_time": "2024-02-17T14:38:59.366Z"
   },
   {
    "duration": 13,
    "start_time": "2024-02-17T14:38:59.371Z"
   },
   {
    "duration": 24,
    "start_time": "2024-02-17T14:40:00.175Z"
   },
   {
    "duration": 20,
    "start_time": "2024-02-17T14:41:05.495Z"
   },
   {
    "duration": 243,
    "start_time": "2024-02-17T14:42:01.027Z"
   },
   {
    "duration": 251,
    "start_time": "2024-02-17T14:43:03.795Z"
   },
   {
    "duration": 253,
    "start_time": "2024-02-17T14:43:42.516Z"
   },
   {
    "duration": 353,
    "start_time": "2024-02-17T14:43:50.506Z"
   },
   {
    "duration": 254,
    "start_time": "2024-02-17T14:44:21.845Z"
   },
   {
    "duration": 252,
    "start_time": "2024-02-17T14:44:35.515Z"
   },
   {
    "duration": 4670,
    "start_time": "2024-02-17T14:53:51.467Z"
   },
   {
    "duration": 81,
    "start_time": "2024-02-17T14:53:56.139Z"
   },
   {
    "duration": 3,
    "start_time": "2024-02-17T14:53:56.221Z"
   },
   {
    "duration": 7,
    "start_time": "2024-02-17T14:53:56.226Z"
   },
   {
    "duration": 9,
    "start_time": "2024-02-17T14:53:56.234Z"
   },
   {
    "duration": 24,
    "start_time": "2024-02-17T14:53:56.244Z"
   },
   {
    "duration": 12,
    "start_time": "2024-02-17T14:53:56.270Z"
   },
   {
    "duration": 12,
    "start_time": "2024-02-17T14:53:56.284Z"
   },
   {
    "duration": 37,
    "start_time": "2024-02-17T14:53:56.297Z"
   },
   {
    "duration": 10,
    "start_time": "2024-02-17T14:53:56.337Z"
   },
   {
    "duration": 16,
    "start_time": "2024-02-17T14:53:56.349Z"
   },
   {
    "duration": 11,
    "start_time": "2024-02-17T14:53:56.367Z"
   },
   {
    "duration": 4,
    "start_time": "2024-02-17T14:53:56.379Z"
   },
   {
    "duration": 10,
    "start_time": "2024-02-17T14:53:56.385Z"
   },
   {
    "duration": 41,
    "start_time": "2024-02-17T14:53:56.396Z"
   },
   {
    "duration": 7,
    "start_time": "2024-02-17T14:53:56.438Z"
   },
   {
    "duration": 87,
    "start_time": "2024-02-17T14:53:56.446Z"
   },
   {
    "duration": 2354,
    "start_time": "2024-02-17T14:53:56.535Z"
   },
   {
    "duration": 11568,
    "start_time": "2024-02-17T14:53:58.891Z"
   },
   {
    "duration": 13,
    "start_time": "2024-02-17T14:54:10.461Z"
   },
   {
    "duration": 235,
    "start_time": "2024-02-17T14:54:10.475Z"
   },
   {
    "duration": 1251,
    "start_time": "2024-02-17T14:54:10.711Z"
   },
   {
    "duration": 9,
    "start_time": "2024-02-17T14:54:11.964Z"
   },
   {
    "duration": 271,
    "start_time": "2024-02-17T14:54:11.974Z"
   },
   {
    "duration": 6361,
    "start_time": "2024-02-17T14:54:12.246Z"
   },
   {
    "duration": 133,
    "start_time": "2024-02-17T14:54:18.608Z"
   },
   {
    "duration": 1139,
    "start_time": "2024-02-17T14:54:18.742Z"
   },
   {
    "duration": 92555,
    "start_time": "2024-02-17T14:54:19.884Z"
   },
   {
    "duration": 56367,
    "start_time": "2024-02-17T14:55:52.441Z"
   },
   {
    "duration": 4,
    "start_time": "2024-02-17T14:56:48.810Z"
   },
   {
    "duration": 3480648,
    "start_time": "2024-02-17T14:56:48.815Z"
   },
   {
    "duration": 26,
    "start_time": "2024-02-17T15:54:49.465Z"
   },
   {
    "duration": 26,
    "start_time": "2024-02-17T16:30:31.676Z"
   },
   {
    "duration": 6,
    "start_time": "2024-02-17T16:33:24.244Z"
   },
   {
    "duration": 4,
    "start_time": "2024-02-17T16:33:32.574Z"
   }
  ],
  "kernelspec": {
   "display_name": "Python 3 (ipykernel)",
   "language": "python",
   "name": "python3"
  },
  "language_info": {
   "codemirror_mode": {
    "name": "ipython",
    "version": 3
   },
   "file_extension": ".py",
   "mimetype": "text/x-python",
   "name": "python",
   "nbconvert_exporter": "python",
   "pygments_lexer": "ipython3",
   "version": "3.9.5"
  },
  "toc": {
   "base_numbering": 1,
   "nav_menu": {},
   "number_sections": true,
   "sideBar": true,
   "skip_h1_title": true,
   "title_cell": "Table of Contents",
   "title_sidebar": "Contents",
   "toc_cell": false,
   "toc_position": {
    "height": "calc(100% - 180px)",
    "left": "10px",
    "top": "150px",
    "width": "265px"
   },
   "toc_section_display": true,
   "toc_window_display": true
  }
 },
 "nbformat": 4,
 "nbformat_minor": 2
}
