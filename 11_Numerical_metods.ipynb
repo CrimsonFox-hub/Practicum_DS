{
 "cells": [
  {
   "cell_type": "markdown",
   "metadata": {},
   "source": [
    "# Определение стоимости автомобилей"
   ]
  },
  {
   "cell_type": "markdown",
   "metadata": {},
   "source": [
    "Сервис по продаже автомобилей с пробегом «Не бит, не крашен» разрабатывает приложение для привлечения новых клиентов. В нём можно быстро узнать рыночную стоимость своего автомобиля. В вашем распоряжении исторические данные: технические характеристики, комплектации и цены автомобилей. Вам нужно построить модель для определения стоимости. \n",
    "\n",
    "Заказчику важны:\n",
    "\n",
    "- качество предсказания;\n",
    "- скорость предсказания;\n",
    "- время обучения."
   ]
  },
  {
   "cell_type": "markdown",
   "metadata": {},
   "source": [
    "Задачи:\n",
    "- Загрузите данны.\n",
    "- Изучите данные. Заполните пропущенные значения и обработайте аномалии в столбцах. Если среди признаков имеются неинформативные, удалите их.\n",
    "- Подготовьте выборки для обучения моделей.\n",
    "- Обучите разные модели, одна из которых — LightGBM, как минимум одна — не бустинг. Для каждой модели попробуйте разные гиперпараметры.\n",
    "- Проанализируйте время обучения, время предсказания и качество моделей.\n",
    "- Опираясь на критерии заказчика, выберете лучшую модель, проверьте её качество на тестовой выборке."
   ]
  },
  {
   "cell_type": "markdown",
   "metadata": {},
   "source": [
    "Признаки:\n",
    "- DateCrawled — дата скачивания анкеты из базы\n",
    "- VehicleType — тип автомобильного кузова\n",
    "- RegistrationYear — год регистрации автомобиля\n",
    "- Gearbox — тип коробки передач\n",
    "- Power — мощность (л. с.)\n",
    "- Model — модель автомобиля\n",
    "- Kilometer — пробег (км)\n",
    "- RegistrationMonth — месяц регистрации автомобиля\n",
    "- FuelType — тип топлива\n",
    "- Brand — марка автомобиля\n",
    "- Repaired — была машина в ремонте или нет\n",
    "- DateCreated — дата создания анкеты\n",
    "- NumberOfPictures — количество фотографий автомобиля\n",
    "- PostalCode — почтовый индекс владельца анкеты (пользователя)\n",
    "- LastSeen — дата последней активности пользователя\n",
    "\n",
    "Целевой признак:\n",
    "- Price — цена (евро)"
   ]
  },
  {
   "cell_type": "markdown",
   "metadata": {},
   "source": [
    "## Подготовка данных"
   ]
  },
  {
   "cell_type": "markdown",
   "metadata": {},
   "source": [
    "### Загрузка необходимых библиотек"
   ]
  },
  {
   "cell_type": "code",
   "execution_count": 1,
   "metadata": {},
   "outputs": [],
   "source": [
    "import sys\n",
    "!{sys.executable} -m pip install -U phik -q\n",
    "!{sys.executable} -m pip install -U scikit-learn -q\n",
    "!{sys.executable} -m pip install -U lightgbm -q"
   ]
  },
  {
   "cell_type": "code",
   "execution_count": 2,
   "metadata": {},
   "outputs": [],
   "source": [
    "import pandas as pd\n",
    "import numpy as np\n",
    "import scipy.stats as st\n",
    "import matplotlib.pyplot as plt\n",
    "import seaborn as sns\n",
    "import phik\n",
    "from phik import phik_matrix\n",
    "import time\n",
    "from typing import Optional\n",
    "\n",
    "\n",
    "import lightgbm as lgb\n",
    "from lightgbm import LGBMRegressor\n",
    "from sklearn.dummy import DummyRegressor\n",
    "\n",
    "from sklearn.base import BaseEstimator, TransformerMixin\n",
    "from sklearn.cluster import KMeans\n",
    "from sklearn.compose import ColumnTransformer\n",
    "from sklearn.ensemble import GradientBoostingRegressor\n",
    "from sklearn.impute import SimpleImputer\n",
    "from sklearn.linear_model import LinearRegression\n",
    "from sklearn.metrics import r2_score, mean_squared_error, mean_absolute_error, \\\n",
    "                                    precision_recall_curve, roc_curve, make_scorer\n",
    "from sklearn.model_selection import train_test_split, cross_val_score\n",
    "from sklearn.pipeline import Pipeline, make_pipeline\n",
    "from sklearn.preprocessing import StandardScaler, OneHotEncoder, LabelEncoder, \\\n",
    "                                    MinMaxScaler, KBinsDiscretizer, OrdinalEncoder\n",
    "from sklearn.model_selection import GridSearchCV\n",
    "\n",
    "import warnings\n",
    "from warnings import simplefilter\n",
    "simplefilter(action='ignore', category=FutureWarning)\n",
    "simplefilter(action='ignore', category=UserWarning)"
   ]
  },
  {
   "cell_type": "markdown",
   "metadata": {},
   "source": [
    "### Инициализация датафрейма"
   ]
  },
  {
   "cell_type": "code",
   "execution_count": 3,
   "metadata": {},
   "outputs": [],
   "source": [
    "try:\n",
    "    df_1 = pd.read_csv('/datasets/autos.csv')   \n",
    "except:\n",
    "    df_1 = pd.read_csv('autos.csv')"
   ]
  },
  {
   "cell_type": "markdown",
   "metadata": {},
   "source": [
    "#### Функция для анализа данных "
   ]
  },
  {
   "cell_type": "code",
   "execution_count": 4,
   "metadata": {},
   "outputs": [],
   "source": [
    "def inform(data):\n",
    "    # Вывод информации о датасете\n",
    "    print(\"Информация о датасете:\")\n",
    "    data.info()\n",
    "    \n",
    "    # Разделительная строка\n",
    "    print(\"\\n\" + \"=\"*50 + \"\\n\")\n",
    "    \n",
    "    # Вывод первых нескольких строк датасета\n",
    "    print(\"Первые несколько строк датасета:\")\n",
    "    display(data.head())\n",
    "    \n",
    "    # Разделительная строка\n",
    "    print(\"\\n\" + \"=\"*50 + \"\\n\")\n",
    "    \n",
    "    #describe\n",
    "    print('Описательная статистика:')\n",
    "    display(data.describe())\n",
    "\n",
    "    # Разделительная строка\n",
    "    print(\"\\n\" + \"=\"*50 + \"\\n\")\n",
    "    display(f'Количествово дубликатов:{data.duplicated().sum()}')   \n",
    "\n",
    "    # Разделительная строка\n",
    "    print(\"\\n\" + \"=\"*50 + \"\\n\")\n",
    "\n",
    "    print('гистограмма численных показателей')\n",
    "    data.hist(figsize=(15, 7), bins=50)\n",
    "    "
   ]
  },
  {
   "cell_type": "markdown",
   "metadata": {},
   "source": [
    "#### Функция для корреляционного анализа"
   ]
  },
  {
   "cell_type": "code",
   "execution_count": 5,
   "metadata": {},
   "outputs": [],
   "source": [
    "class Settings:\n",
    "    def __init__(self, categorical_maximum_correlation_distinct: int):\n",
    "        self.categorical_maximum_correlation_distinct = categorical_maximum_correlation_distinct\n",
    "\n",
    "def pandas_phik_compute(config: Settings, df: pd.DataFrame, summary: dict) -> Optional[pd.DataFrame]:\n",
    "    df_cols_dict = {i: list(df.columns).index(i) for i in df.columns}\n",
    "\n",
    "    intcols = {\n",
    "        key\n",
    "        for key, value in summary.items()\n",
    "        if value[\"type\"] == \"Numeric\" and 1 < value[\"n_distinct\"]\n",
    "    }\n",
    "\n",
    "    selcols = {\n",
    "        key\n",
    "        for key, value in summary.items()\n",
    "        if value[\"type\"] != \"Unsupported\" and 1 < value[\"n_distinct\"] <= config.categorical_maximum_correlation_distinct\n",
    "    }\n",
    "    selcols = selcols.union(intcols)\n",
    "    selected_cols = sorted(selcols, key=lambda i: df_cols_dict[i])\n",
    "\n",
    "    if len(selected_cols) <= 1:\n",
    "        return None\n",
    "\n",
    "    with warnings.catch_warnings():\n",
    "        warnings.simplefilter(\"ignore\")\n",
    "        correlation = phik.phik_matrix(df[selected_cols], interval_cols=list(intcols))\n",
    "\n",
    "    return correlation\n",
    "\n",
    "def visualize_correlation_matrix(correlation_matrix: pd.DataFrame):\n",
    "    plt.figure(figsize=(10, 6))\n",
    "    sns.heatmap(correlation_matrix, annot=True, cmap=\"coolwarm\")\n",
    "    plt.show()"
   ]
  },
  {
   "cell_type": "markdown",
   "metadata": {},
   "source": [
    "##### Функция для графиков"
   ]
  },
  {
   "cell_type": "markdown",
   "metadata": {},
   "source": [
    "Numerical"
   ]
  },
  {
   "cell_type": "code",
   "execution_count": 6,
   "metadata": {},
   "outputs": [],
   "source": [
    "def visualize_data(data, cols):\n",
    "    fig, axes = plt.subplots(len(cols), 2, figsize=(8, 4*len(cols)))\n",
    "\n",
    "    for i, col in enumerate(cols):\n",
    "        sns.histplot(data[col], kde=False, ax=axes[i, 0])\n",
    "        axes[i, 0].set_title(f'Гистограмма для {col}')\n",
    "\n",
    "        sns.boxplot(x=data[col], ax=axes[i, 1])\n",
    "        axes[i, 1].set_title(f'Ящик с усами для {col}')\n",
    "\n",
    "    plt.tight_layout()\n",
    "    plt.show()"
   ]
  },
  {
   "cell_type": "markdown",
   "metadata": {},
   "source": [
    "##### Object"
   ]
  },
  {
   "cell_type": "code",
   "execution_count": 7,
   "metadata": {},
   "outputs": [],
   "source": [
    "def visualize_categorical_data(data, cols):\n",
    "    num_plots = len(cols)\n",
    "    fig, ax = plt.subplots(num_plots, 1, figsize=(10, 5*num_plots))\n",
    "\n",
    "    for i, col in enumerate(cols):\n",
    "        sns.countplot(x=col, data=data, ax=ax[i])\n",
    "        ax[i].set_title(f'Распределение значений для {col}')\n",
    "        ax[i].tick_params(axis='x', rotation=45)\n",
    "\n",
    "    plt.tight_layout()\n",
    "    plt.show()"
   ]
  },
  {
   "cell_type": "markdown",
   "metadata": {},
   "source": [
    "#### Общий анализ"
   ]
  },
  {
   "cell_type": "code",
   "execution_count": 8,
   "metadata": {
    "scrolled": true
   },
   "outputs": [
    {
     "name": "stdout",
     "output_type": "stream",
     "text": [
      "Информация о датасете:\n",
      "<class 'pandas.core.frame.DataFrame'>\n",
      "RangeIndex: 354369 entries, 0 to 354368\n",
      "Data columns (total 16 columns):\n",
      " #   Column             Non-Null Count   Dtype \n",
      "---  ------             --------------   ----- \n",
      " 0   DateCrawled        354369 non-null  object\n",
      " 1   Price              354369 non-null  int64 \n",
      " 2   VehicleType        316879 non-null  object\n",
      " 3   RegistrationYear   354369 non-null  int64 \n",
      " 4   Gearbox            334536 non-null  object\n",
      " 5   Power              354369 non-null  int64 \n",
      " 6   Model              334664 non-null  object\n",
      " 7   Kilometer          354369 non-null  int64 \n",
      " 8   RegistrationMonth  354369 non-null  int64 \n",
      " 9   FuelType           321474 non-null  object\n",
      " 10  Brand              354369 non-null  object\n",
      " 11  Repaired           283215 non-null  object\n",
      " 12  DateCreated        354369 non-null  object\n",
      " 13  NumberOfPictures   354369 non-null  int64 \n",
      " 14  PostalCode         354369 non-null  int64 \n",
      " 15  LastSeen           354369 non-null  object\n",
      "dtypes: int64(7), object(9)\n",
      "memory usage: 43.3+ MB\n",
      "\n",
      "==================================================\n",
      "\n",
      "Первые несколько строк датасета:\n"
     ]
    },
    {
     "data": {
      "text/html": [
       "<div>\n",
       "<style scoped>\n",
       "    .dataframe tbody tr th:only-of-type {\n",
       "        vertical-align: middle;\n",
       "    }\n",
       "\n",
       "    .dataframe tbody tr th {\n",
       "        vertical-align: top;\n",
       "    }\n",
       "\n",
       "    .dataframe thead th {\n",
       "        text-align: right;\n",
       "    }\n",
       "</style>\n",
       "<table border=\"1\" class=\"dataframe\">\n",
       "  <thead>\n",
       "    <tr style=\"text-align: right;\">\n",
       "      <th></th>\n",
       "      <th>DateCrawled</th>\n",
       "      <th>Price</th>\n",
       "      <th>VehicleType</th>\n",
       "      <th>RegistrationYear</th>\n",
       "      <th>Gearbox</th>\n",
       "      <th>Power</th>\n",
       "      <th>Model</th>\n",
       "      <th>Kilometer</th>\n",
       "      <th>RegistrationMonth</th>\n",
       "      <th>FuelType</th>\n",
       "      <th>Brand</th>\n",
       "      <th>Repaired</th>\n",
       "      <th>DateCreated</th>\n",
       "      <th>NumberOfPictures</th>\n",
       "      <th>PostalCode</th>\n",
       "      <th>LastSeen</th>\n",
       "    </tr>\n",
       "  </thead>\n",
       "  <tbody>\n",
       "    <tr>\n",
       "      <th>0</th>\n",
       "      <td>2016-03-24 11:52:17</td>\n",
       "      <td>480</td>\n",
       "      <td>NaN</td>\n",
       "      <td>1993</td>\n",
       "      <td>manual</td>\n",
       "      <td>0</td>\n",
       "      <td>golf</td>\n",
       "      <td>150000</td>\n",
       "      <td>0</td>\n",
       "      <td>petrol</td>\n",
       "      <td>volkswagen</td>\n",
       "      <td>NaN</td>\n",
       "      <td>2016-03-24 00:00:00</td>\n",
       "      <td>0</td>\n",
       "      <td>70435</td>\n",
       "      <td>2016-04-07 03:16:57</td>\n",
       "    </tr>\n",
       "    <tr>\n",
       "      <th>1</th>\n",
       "      <td>2016-03-24 10:58:45</td>\n",
       "      <td>18300</td>\n",
       "      <td>coupe</td>\n",
       "      <td>2011</td>\n",
       "      <td>manual</td>\n",
       "      <td>190</td>\n",
       "      <td>NaN</td>\n",
       "      <td>125000</td>\n",
       "      <td>5</td>\n",
       "      <td>gasoline</td>\n",
       "      <td>audi</td>\n",
       "      <td>yes</td>\n",
       "      <td>2016-03-24 00:00:00</td>\n",
       "      <td>0</td>\n",
       "      <td>66954</td>\n",
       "      <td>2016-04-07 01:46:50</td>\n",
       "    </tr>\n",
       "    <tr>\n",
       "      <th>2</th>\n",
       "      <td>2016-03-14 12:52:21</td>\n",
       "      <td>9800</td>\n",
       "      <td>suv</td>\n",
       "      <td>2004</td>\n",
       "      <td>auto</td>\n",
       "      <td>163</td>\n",
       "      <td>grand</td>\n",
       "      <td>125000</td>\n",
       "      <td>8</td>\n",
       "      <td>gasoline</td>\n",
       "      <td>jeep</td>\n",
       "      <td>NaN</td>\n",
       "      <td>2016-03-14 00:00:00</td>\n",
       "      <td>0</td>\n",
       "      <td>90480</td>\n",
       "      <td>2016-04-05 12:47:46</td>\n",
       "    </tr>\n",
       "    <tr>\n",
       "      <th>3</th>\n",
       "      <td>2016-03-17 16:54:04</td>\n",
       "      <td>1500</td>\n",
       "      <td>small</td>\n",
       "      <td>2001</td>\n",
       "      <td>manual</td>\n",
       "      <td>75</td>\n",
       "      <td>golf</td>\n",
       "      <td>150000</td>\n",
       "      <td>6</td>\n",
       "      <td>petrol</td>\n",
       "      <td>volkswagen</td>\n",
       "      <td>no</td>\n",
       "      <td>2016-03-17 00:00:00</td>\n",
       "      <td>0</td>\n",
       "      <td>91074</td>\n",
       "      <td>2016-03-17 17:40:17</td>\n",
       "    </tr>\n",
       "    <tr>\n",
       "      <th>4</th>\n",
       "      <td>2016-03-31 17:25:20</td>\n",
       "      <td>3600</td>\n",
       "      <td>small</td>\n",
       "      <td>2008</td>\n",
       "      <td>manual</td>\n",
       "      <td>69</td>\n",
       "      <td>fabia</td>\n",
       "      <td>90000</td>\n",
       "      <td>7</td>\n",
       "      <td>gasoline</td>\n",
       "      <td>skoda</td>\n",
       "      <td>no</td>\n",
       "      <td>2016-03-31 00:00:00</td>\n",
       "      <td>0</td>\n",
       "      <td>60437</td>\n",
       "      <td>2016-04-06 10:17:21</td>\n",
       "    </tr>\n",
       "  </tbody>\n",
       "</table>\n",
       "</div>"
      ],
      "text/plain": [
       "           DateCrawled  Price VehicleType  RegistrationYear Gearbox  Power  \\\n",
       "0  2016-03-24 11:52:17    480         NaN              1993  manual      0   \n",
       "1  2016-03-24 10:58:45  18300       coupe              2011  manual    190   \n",
       "2  2016-03-14 12:52:21   9800         suv              2004    auto    163   \n",
       "3  2016-03-17 16:54:04   1500       small              2001  manual     75   \n",
       "4  2016-03-31 17:25:20   3600       small              2008  manual     69   \n",
       "\n",
       "   Model  Kilometer  RegistrationMonth  FuelType       Brand Repaired  \\\n",
       "0   golf     150000                  0    petrol  volkswagen      NaN   \n",
       "1    NaN     125000                  5  gasoline        audi      yes   \n",
       "2  grand     125000                  8  gasoline        jeep      NaN   \n",
       "3   golf     150000                  6    petrol  volkswagen       no   \n",
       "4  fabia      90000                  7  gasoline       skoda       no   \n",
       "\n",
       "           DateCreated  NumberOfPictures  PostalCode             LastSeen  \n",
       "0  2016-03-24 00:00:00                 0       70435  2016-04-07 03:16:57  \n",
       "1  2016-03-24 00:00:00                 0       66954  2016-04-07 01:46:50  \n",
       "2  2016-03-14 00:00:00                 0       90480  2016-04-05 12:47:46  \n",
       "3  2016-03-17 00:00:00                 0       91074  2016-03-17 17:40:17  \n",
       "4  2016-03-31 00:00:00                 0       60437  2016-04-06 10:17:21  "
      ]
     },
     "metadata": {},
     "output_type": "display_data"
    },
    {
     "name": "stdout",
     "output_type": "stream",
     "text": [
      "\n",
      "==================================================\n",
      "\n",
      "Описательная статистика:\n"
     ]
    },
    {
     "data": {
      "text/html": [
       "<div>\n",
       "<style scoped>\n",
       "    .dataframe tbody tr th:only-of-type {\n",
       "        vertical-align: middle;\n",
       "    }\n",
       "\n",
       "    .dataframe tbody tr th {\n",
       "        vertical-align: top;\n",
       "    }\n",
       "\n",
       "    .dataframe thead th {\n",
       "        text-align: right;\n",
       "    }\n",
       "</style>\n",
       "<table border=\"1\" class=\"dataframe\">\n",
       "  <thead>\n",
       "    <tr style=\"text-align: right;\">\n",
       "      <th></th>\n",
       "      <th>Price</th>\n",
       "      <th>RegistrationYear</th>\n",
       "      <th>Power</th>\n",
       "      <th>Kilometer</th>\n",
       "      <th>RegistrationMonth</th>\n",
       "      <th>NumberOfPictures</th>\n",
       "      <th>PostalCode</th>\n",
       "    </tr>\n",
       "  </thead>\n",
       "  <tbody>\n",
       "    <tr>\n",
       "      <th>count</th>\n",
       "      <td>354369.000000</td>\n",
       "      <td>354369.000000</td>\n",
       "      <td>354369.000000</td>\n",
       "      <td>354369.000000</td>\n",
       "      <td>354369.000000</td>\n",
       "      <td>354369.0</td>\n",
       "      <td>354369.000000</td>\n",
       "    </tr>\n",
       "    <tr>\n",
       "      <th>mean</th>\n",
       "      <td>4416.656776</td>\n",
       "      <td>2004.234448</td>\n",
       "      <td>110.094337</td>\n",
       "      <td>128211.172535</td>\n",
       "      <td>5.714645</td>\n",
       "      <td>0.0</td>\n",
       "      <td>50508.689087</td>\n",
       "    </tr>\n",
       "    <tr>\n",
       "      <th>std</th>\n",
       "      <td>4514.158514</td>\n",
       "      <td>90.227958</td>\n",
       "      <td>189.850405</td>\n",
       "      <td>37905.341530</td>\n",
       "      <td>3.726421</td>\n",
       "      <td>0.0</td>\n",
       "      <td>25783.096248</td>\n",
       "    </tr>\n",
       "    <tr>\n",
       "      <th>min</th>\n",
       "      <td>0.000000</td>\n",
       "      <td>1000.000000</td>\n",
       "      <td>0.000000</td>\n",
       "      <td>5000.000000</td>\n",
       "      <td>0.000000</td>\n",
       "      <td>0.0</td>\n",
       "      <td>1067.000000</td>\n",
       "    </tr>\n",
       "    <tr>\n",
       "      <th>25%</th>\n",
       "      <td>1050.000000</td>\n",
       "      <td>1999.000000</td>\n",
       "      <td>69.000000</td>\n",
       "      <td>125000.000000</td>\n",
       "      <td>3.000000</td>\n",
       "      <td>0.0</td>\n",
       "      <td>30165.000000</td>\n",
       "    </tr>\n",
       "    <tr>\n",
       "      <th>50%</th>\n",
       "      <td>2700.000000</td>\n",
       "      <td>2003.000000</td>\n",
       "      <td>105.000000</td>\n",
       "      <td>150000.000000</td>\n",
       "      <td>6.000000</td>\n",
       "      <td>0.0</td>\n",
       "      <td>49413.000000</td>\n",
       "    </tr>\n",
       "    <tr>\n",
       "      <th>75%</th>\n",
       "      <td>6400.000000</td>\n",
       "      <td>2008.000000</td>\n",
       "      <td>143.000000</td>\n",
       "      <td>150000.000000</td>\n",
       "      <td>9.000000</td>\n",
       "      <td>0.0</td>\n",
       "      <td>71083.000000</td>\n",
       "    </tr>\n",
       "    <tr>\n",
       "      <th>max</th>\n",
       "      <td>20000.000000</td>\n",
       "      <td>9999.000000</td>\n",
       "      <td>20000.000000</td>\n",
       "      <td>150000.000000</td>\n",
       "      <td>12.000000</td>\n",
       "      <td>0.0</td>\n",
       "      <td>99998.000000</td>\n",
       "    </tr>\n",
       "  </tbody>\n",
       "</table>\n",
       "</div>"
      ],
      "text/plain": [
       "               Price  RegistrationYear          Power      Kilometer  \\\n",
       "count  354369.000000     354369.000000  354369.000000  354369.000000   \n",
       "mean     4416.656776       2004.234448     110.094337  128211.172535   \n",
       "std      4514.158514         90.227958     189.850405   37905.341530   \n",
       "min         0.000000       1000.000000       0.000000    5000.000000   \n",
       "25%      1050.000000       1999.000000      69.000000  125000.000000   \n",
       "50%      2700.000000       2003.000000     105.000000  150000.000000   \n",
       "75%      6400.000000       2008.000000     143.000000  150000.000000   \n",
       "max     20000.000000       9999.000000   20000.000000  150000.000000   \n",
       "\n",
       "       RegistrationMonth  NumberOfPictures     PostalCode  \n",
       "count      354369.000000          354369.0  354369.000000  \n",
       "mean            5.714645               0.0   50508.689087  \n",
       "std             3.726421               0.0   25783.096248  \n",
       "min             0.000000               0.0    1067.000000  \n",
       "25%             3.000000               0.0   30165.000000  \n",
       "50%             6.000000               0.0   49413.000000  \n",
       "75%             9.000000               0.0   71083.000000  \n",
       "max            12.000000               0.0   99998.000000  "
      ]
     },
     "metadata": {},
     "output_type": "display_data"
    },
    {
     "name": "stdout",
     "output_type": "stream",
     "text": [
      "\n",
      "==================================================\n",
      "\n"
     ]
    },
    {
     "data": {
      "text/plain": [
       "'Количествово дубликатов:4'"
      ]
     },
     "metadata": {},
     "output_type": "display_data"
    },
    {
     "name": "stdout",
     "output_type": "stream",
     "text": [
      "\n",
      "==================================================\n",
      "\n",
      "гистограмма численных показателей\n"
     ]
    },
    {
     "data": {
      "image/png": "[encoded data removed]",
      "text/plain": [
       "<Figure size 1080x504 with 9 Axes>"
      ]
     },
     "metadata": {
      "needs_background": "light"
     },
     "output_type": "display_data"
    }
   ],
   "source": [
    "inform(df_1)"
   ]
  },
  {
   "cell_type": "markdown",
   "metadata": {},
   "source": [
    "**Промежуточный вывод:** как мы видим на основании стандарного рассмотрения датафрейма \n",
    "- цена(price) в большей части датафрейма не превышает 5 тыс и не выходит за рамки 20тыс\n",
    "- год регистрации необходимо рассматривать в пределах 2000 года, удалив явные выбросы в виде значений ниже 1900-х и выше 2024 годов\n",
    "- Мощность (power) на основании описательной статистики в среднем 110 л.с., а значит максимум не должен приевышать ~250 л.с.(зарегестрированный максимум 707), но никак не 20000 - будем чистить от выбросов\n",
    "- Пробег от 5 до 150000 км это нормально, для чистоты эксперимента заполним пустоты средним значением\n",
    "- Месяц регистрации не несёт для нас ценности - удалим\n",
    "- Количество фотографий в указанном датафрейме во всех случаях равно 0  - столбец на удаление\n",
    "- Почтовый индекс нужен был бы в случае если заказчика интересовало происхождение/место покупки автомобиля. В нашем случае - данные считаются мусорными\n",
    "- Данные по дате скачивания анкеты не несут полезной нагрузки, удалим\n",
    "- Данные создания анкеты нам нужна для разбития данных, актуальных на тот или иной год, посмотрим в процессе необходимость\n",
    "- Дата последней активности пользователя не несёт для нас информационной нагрузки, удаляем"
   ]
  },
  {
   "cell_type": "markdown",
   "metadata": {},
   "source": [
    "### Удаление мусорных данных\n",
    "\n",
    "\n",
    "переношу с конца чиски сюда во славу графиков"
   ]
  },
  {
   "cell_type": "code",
   "execution_count": 9,
   "metadata": {},
   "outputs": [],
   "source": [
    "df_2 = df_1.drop(['NumberOfPictures', 'PostalCode', 'DateCrawled', 'LastSeen', 'RegistrationMonth', 'DateCreated'], axis=1)"
   ]
  },
  {
   "cell_type": "code",
   "execution_count": 10,
   "metadata": {},
   "outputs": [],
   "source": [
    "# Чистка дубликатов (все 4 строки!)\n",
    "df_1.drop_duplicates(keep=False, inplace=True)"
   ]
  },
  {
   "cell_type": "markdown",
   "metadata": {},
   "source": [
    "#### Мощность"
   ]
  },
  {
   "cell_type": "code",
   "execution_count": 11,
   "metadata": {},
   "outputs": [
    {
     "name": "stdout",
     "output_type": "stream",
     "text": [
      "42715\n"
     ]
    }
   ],
   "source": [
    "print(len(df_2.query('Power <= 40 or Power > 400')))"
   ]
  },
  {
   "cell_type": "markdown",
   "metadata": {},
   "source": [
    "Учитывая количество - можем просто удалить данные строки"
   ]
  },
  {
   "cell_type": "code",
   "execution_count": 12,
   "metadata": {},
   "outputs": [],
   "source": [
    "df_2 = df_2.query('Power >= 40 and Power < 400')"
   ]
  },
  {
   "cell_type": "markdown",
   "metadata": {},
   "source": [
    "### Визуализация"
   ]
  },
  {
   "cell_type": "markdown",
   "metadata": {},
   "source": [
    "#### Числовые признаки"
   ]
  },
  {
   "cell_type": "code",
   "execution_count": 13,
   "metadata": {
    "scrolled": true
   },
   "outputs": [
    {
     "data": {
      "image/png": "[encoded data removed]",
      "text/plain": [
       "<Figure size 576x1152 with 8 Axes>"
      ]
     },
     "metadata": {
      "needs_background": "light"
     },
     "output_type": "display_data"
    }
   ],
   "source": [
    "cols_to_visualize = df_2.select_dtypes(include=['float64', 'int64']).columns\n",
    "visualize_data(df_2, cols_to_visualize)"
   ]
  },
  {
   "cell_type": "markdown",
   "metadata": {},
   "source": [
    "#### Категориальные признаки"
   ]
  },
  {
   "cell_type": "code",
   "execution_count": 14,
   "metadata": {},
   "outputs": [
    {
     "data": {
      "image/png": "[encoded data removed]",
      "text/plain": [
       "<Figure size 720x1800 with 5 Axes>"
      ]
     },
     "metadata": {
      "needs_background": "light"
     },
     "output_type": "display_data"
    }
   ],
   "source": [
    "cols_to_visualize_cat = ['VehicleType', 'Gearbox', 'FuelType', 'Brand', 'Repaired']\n",
    "# Писал ручками чтобы модель не выводить - она вообще не информативна\n",
    "visualize_categorical_data(df_2, cols_to_visualize_cat)"
   ]
  },
  {
   "cell_type": "markdown",
   "metadata": {},
   "source": [
    "#### Год регистрации авто"
   ]
  },
  {
   "cell_type": "code",
   "execution_count": 15,
   "metadata": {},
   "outputs": [
    {
     "name": "stdout",
     "output_type": "stream",
     "text": [
      "2016-04-07 00:00:00\n",
      "2016-04-07 14:58:51\n",
      "15868\n"
     ]
    }
   ],
   "source": [
    "print(df_1['DateCreated'].max())\n",
    "print(df_1['LastSeen'].max())\n",
    "print(len(df_1.query('RegistrationYear < 1970 or RegistrationYear > 2016')))"
   ]
  },
  {
   "cell_type": "markdown",
   "metadata": {},
   "source": [
    "Учитывая, что ни одна дата не превышает 2016.04.07 мы можем сделать вывод о том, что это дата выгрузки из базы, \\\n",
    "таким образом мы можем снизить верхнюю границу до 2016 включительно, а нижнюю поднять до 1970"
   ]
  },
  {
   "cell_type": "code",
   "execution_count": 16,
   "metadata": {},
   "outputs": [],
   "source": [
    "# Приравниваем некорректные года к 2004\n",
    "df_2 = df_2.query('RegistrationYear >= 1970 and RegistrationYear <= 2016')"
   ]
  },
  {
   "cell_type": "code",
   "execution_count": 17,
   "metadata": {},
   "outputs": [
    {
     "data": {
      "text/plain": [
       "Price                   0\n",
       "VehicleType         11872\n",
       "RegistrationYear        0\n",
       "Gearbox              5611\n",
       "Power                   0\n",
       "Model               11504\n",
       "Kilometer               0\n",
       "FuelType            16511\n",
       "Brand                   0\n",
       "Repaired            44768\n",
       "dtype: int64"
      ]
     },
     "execution_count": 17,
     "metadata": {},
     "output_type": "execute_result"
    }
   ],
   "source": [
    "df_2.isna().sum()"
   ]
  },
  {
   "cell_type": "markdown",
   "metadata": {},
   "source": [
    "#### Цена"
   ]
  },
  {
   "cell_type": "code",
   "execution_count": 18,
   "metadata": {},
   "outputs": [
    {
     "name": "stdout",
     "output_type": "stream",
     "text": [
      "Количество объявлений с нулевой ценой: 7040\n"
     ]
    }
   ],
   "source": [
    "print(\"Количество объявлений с нулевой ценой:\",len(df_2.loc[df_2['Price'] < 50]))"
   ]
  },
  {
   "cell_type": "markdown",
   "metadata": {},
   "source": [
    "Учитывая, что признак целевой, замена пустых и нулевых значений на среднее повредит качеству, поэтому замен производить не будем и уберём данные строки из обучаемого датафрейма"
   ]
  },
  {
   "cell_type": "code",
   "execution_count": 19,
   "metadata": {},
   "outputs": [],
   "source": [
    "df_2 = df_2.loc[df_2['Price'] >= 50]"
   ]
  },
  {
   "cell_type": "markdown",
   "metadata": {},
   "source": [
    "#### Модель"
   ]
  },
  {
   "cell_type": "code",
   "execution_count": 20,
   "metadata": {},
   "outputs": [
    {
     "name": "stdout",
     "output_type": "stream",
     "text": [
      "Количество объявлений с пропущенной моделью: 10638\n",
      "golf                  24640\n",
      "other                 19722\n",
      "3er                   17320\n",
      "polo                  10633\n",
      "corsa                 10063\n",
      "                      ...  \n",
      "serie_2                   4\n",
      "serie_3                   3\n",
      "601                       3\n",
      "rangerover                2\n",
      "range_rover_evoque        2\n",
      "Name: Model, Length: 249, dtype: int64\n"
     ]
    }
   ],
   "source": [
    "print(\"Количество объявлений с пропущенной моделью:\", len(df_2.loc[df_2['Model'].isna()]))\n",
    "unique_counts = df_2['Model'].value_counts()\n",
    "print(unique_counts)\n",
    "\n",
    "df_2.loc[df_2['Model'].isnull(), 'Model'] = 'other'"
   ]
  },
  {
   "cell_type": "markdown",
   "metadata": {},
   "source": [
    "Учитывая отсутствия возможности восстонавления данных о моделях на основе предоставленного нам датафрейма - добавим их в категорию \"other\""
   ]
  },
  {
   "cell_type": "markdown",
   "metadata": {},
   "source": [
    "#### Кузов"
   ]
  },
  {
   "cell_type": "code",
   "execution_count": 21,
   "metadata": {},
   "outputs": [
    {
     "name": "stdout",
     "output_type": "stream",
     "text": [
      "Количество объявлений с незаполненным типом кузова: 10772\n",
      "sedan          82261\n",
      "small          69310\n",
      "wagon          58967\n",
      "bus            26143\n",
      "convertible    18590\n",
      "coupe          14391\n",
      "suv            10825\n",
      "other           2352\n",
      "Name: VehicleType, dtype: int64\n"
     ]
    }
   ],
   "source": [
    "print(\"Количество объявлений с незаполненным типом кузова:\", len(df_2.loc[df_2['VehicleType'].isna()]))\n",
    "unique_counts = df_2['VehicleType'].value_counts()\n",
    "print(unique_counts)\n",
    "\n",
    "df_2.loc[df_2['VehicleType'].isnull(), 'VehicleType'] = 'other'"
   ]
  },
  {
   "cell_type": "markdown",
   "metadata": {},
   "source": [
    "Незаполненных типов кузова слишком много для удаления - добавим подобные в категорию \"other\""
   ]
  },
  {
   "cell_type": "markdown",
   "metadata": {},
   "source": [
    "#### Коробка передач"
   ]
  },
  {
   "cell_type": "code",
   "execution_count": 22,
   "metadata": {},
   "outputs": [
    {
     "name": "stdout",
     "output_type": "stream",
     "text": [
      "Количество объявлений с незаполненным типом коробки: 5186\n",
      "manual    230216\n",
      "auto       58209\n",
      "Name: Gearbox, dtype: int64\n"
     ]
    }
   ],
   "source": [
    "print(\"Количество объявлений с незаполненным типом коробки:\", len(df_2.loc[df_2['Gearbox'].isna()]))\n",
    "unique_counts = df_2['Gearbox'].value_counts()\n",
    "print(unique_counts)\n",
    "\n",
    "df_2.loc[df_2['Gearbox'].isnull(), 'Gearbox'] = 'manual'"
   ]
  },
  {
   "cell_type": "markdown",
   "metadata": {},
   "source": [
    "Учитывая многообразие значений, мы можем заполнить незаполненные типы коробки передач как manyal без существенного влияния на целостность данных"
   ]
  },
  {
   "cell_type": "markdown",
   "metadata": {},
   "source": [
    "#### Тип топлива"
   ]
  },
  {
   "cell_type": "code",
   "execution_count": 23,
   "metadata": {},
   "outputs": [
    {
     "name": "stdout",
     "output_type": "stream",
     "text": [
      "Количество объявлений с незаполненным типом топлива: 15209\n",
      "petrol      185397\n",
      "gasoline     87575\n",
      "lpg           4659\n",
      "cng            481\n",
      "hybrid         201\n",
      "other           53\n",
      "electric        36\n",
      "Name: FuelType, dtype: int64\n"
     ]
    }
   ],
   "source": [
    "print(\"Количество объявлений с незаполненным типом топлива:\", len(df_2.loc[df_2['FuelType'].isna()]))\n",
    "unique_counts = df_2['FuelType'].value_counts()\n",
    "print(unique_counts)\n",
    "\n",
    "df_2.loc[df_2['FuelType'].isnull(), 'FuelType'] = 'petrol'"
   ]
  },
  {
   "cell_type": "markdown",
   "metadata": {},
   "source": [
    "Тип топлива обработаем аналогично коробке передач"
   ]
  },
  {
   "cell_type": "markdown",
   "metadata": {},
   "source": [
    "#### Ремонт"
   ]
  },
  {
   "cell_type": "code",
   "execution_count": 24,
   "metadata": {},
   "outputs": [
    {
     "name": "stdout",
     "output_type": "stream",
     "text": [
      "Количество отсутствиующих данных по поломкам: 42193\n",
      "no     222923\n",
      "yes     28495\n",
      "Name: Repaired, dtype: int64\n"
     ]
    }
   ],
   "source": [
    "print(\"Количество отсутствиующих данных по поломкам:\", len(df_2.loc[df_2['Repaired'].isna()]))\n",
    "unique_counts = df_2['Repaired'].value_counts()\n",
    "print(unique_counts)\n",
    "\n",
    "df_2.loc[df_2['Repaired'].isnull(), 'Repaired'] = 'no'"
   ]
  },
  {
   "cell_type": "markdown",
   "metadata": {},
   "source": [
    "Посчитаем что пустоты равносильны отсутствию ремонта авто"
   ]
  },
  {
   "cell_type": "code",
   "execution_count": 25,
   "metadata": {},
   "outputs": [],
   "source": [
    "# Финальная чистка дубликатов\n",
    "df_2 = df_2.drop_duplicates(keep='first')"
   ]
  },
  {
   "cell_type": "code",
   "execution_count": 26,
   "metadata": {
    "scrolled": true
   },
   "outputs": [
    {
     "name": "stdout",
     "output_type": "stream",
     "text": [
      "Информация о датасете:\n",
      "<class 'pandas.core.frame.DataFrame'>\n",
      "Int64Index: 245841 entries, 1 to 354368\n",
      "Data columns (total 10 columns):\n",
      " #   Column            Non-Null Count   Dtype \n",
      "---  ------            --------------   ----- \n",
      " 0   Price             245841 non-null  int64 \n",
      " 1   VehicleType       245841 non-null  object\n",
      " 2   RegistrationYear  245841 non-null  int64 \n",
      " 3   Gearbox           245841 non-null  object\n",
      " 4   Power             245841 non-null  int64 \n",
      " 5   Model             245841 non-null  object\n",
      " 6   Kilometer         245841 non-null  int64 \n",
      " 7   FuelType          245841 non-null  object\n",
      " 8   Brand             245841 non-null  object\n",
      " 9   Repaired          245841 non-null  object\n",
      "dtypes: int64(4), object(6)\n",
      "memory usage: 20.6+ MB\n",
      "\n",
      "==================================================\n",
      "\n",
      "Первые несколько строк датасета:\n"
     ]
    },
    {
     "data": {
      "text/html": [
       "<div>\n",
       "<style scoped>\n",
       "    .dataframe tbody tr th:only-of-type {\n",
       "        vertical-align: middle;\n",
       "    }\n",
       "\n",
       "    .dataframe tbody tr th {\n",
       "        vertical-align: top;\n",
       "    }\n",
       "\n",
       "    .dataframe thead th {\n",
       "        text-align: right;\n",
       "    }\n",
       "</style>\n",
       "<table border=\"1\" class=\"dataframe\">\n",
       "  <thead>\n",
       "    <tr style=\"text-align: right;\">\n",
       "      <th></th>\n",
       "      <th>Price</th>\n",
       "      <th>VehicleType</th>\n",
       "      <th>RegistrationYear</th>\n",
       "      <th>Gearbox</th>\n",
       "      <th>Power</th>\n",
       "      <th>Model</th>\n",
       "      <th>Kilometer</th>\n",
       "      <th>FuelType</th>\n",
       "      <th>Brand</th>\n",
       "      <th>Repaired</th>\n",
       "    </tr>\n",
       "  </thead>\n",
       "  <tbody>\n",
       "    <tr>\n",
       "      <th>1</th>\n",
       "      <td>18300</td>\n",
       "      <td>coupe</td>\n",
       "      <td>2011</td>\n",
       "      <td>manual</td>\n",
       "      <td>190</td>\n",
       "      <td>other</td>\n",
       "      <td>125000</td>\n",
       "      <td>gasoline</td>\n",
       "      <td>audi</td>\n",
       "      <td>yes</td>\n",
       "    </tr>\n",
       "    <tr>\n",
       "      <th>2</th>\n",
       "      <td>9800</td>\n",
       "      <td>suv</td>\n",
       "      <td>2004</td>\n",
       "      <td>auto</td>\n",
       "      <td>163</td>\n",
       "      <td>grand</td>\n",
       "      <td>125000</td>\n",
       "      <td>gasoline</td>\n",
       "      <td>jeep</td>\n",
       "      <td>no</td>\n",
       "    </tr>\n",
       "    <tr>\n",
       "      <th>3</th>\n",
       "      <td>1500</td>\n",
       "      <td>small</td>\n",
       "      <td>2001</td>\n",
       "      <td>manual</td>\n",
       "      <td>75</td>\n",
       "      <td>golf</td>\n",
       "      <td>150000</td>\n",
       "      <td>petrol</td>\n",
       "      <td>volkswagen</td>\n",
       "      <td>no</td>\n",
       "    </tr>\n",
       "    <tr>\n",
       "      <th>4</th>\n",
       "      <td>3600</td>\n",
       "      <td>small</td>\n",
       "      <td>2008</td>\n",
       "      <td>manual</td>\n",
       "      <td>69</td>\n",
       "      <td>fabia</td>\n",
       "      <td>90000</td>\n",
       "      <td>gasoline</td>\n",
       "      <td>skoda</td>\n",
       "      <td>no</td>\n",
       "    </tr>\n",
       "    <tr>\n",
       "      <th>5</th>\n",
       "      <td>650</td>\n",
       "      <td>sedan</td>\n",
       "      <td>1995</td>\n",
       "      <td>manual</td>\n",
       "      <td>102</td>\n",
       "      <td>3er</td>\n",
       "      <td>150000</td>\n",
       "      <td>petrol</td>\n",
       "      <td>bmw</td>\n",
       "      <td>yes</td>\n",
       "    </tr>\n",
       "  </tbody>\n",
       "</table>\n",
       "</div>"
      ],
      "text/plain": [
       "   Price VehicleType  RegistrationYear Gearbox  Power  Model  Kilometer  \\\n",
       "1  18300       coupe              2011  manual    190  other     125000   \n",
       "2   9800         suv              2004    auto    163  grand     125000   \n",
       "3   1500       small              2001  manual     75   golf     150000   \n",
       "4   3600       small              2008  manual     69  fabia      90000   \n",
       "5    650       sedan              1995  manual    102    3er     150000   \n",
       "\n",
       "   FuelType       Brand Repaired  \n",
       "1  gasoline        audi      yes  \n",
       "2  gasoline        jeep       no  \n",
       "3    petrol  volkswagen       no  \n",
       "4  gasoline       skoda       no  \n",
       "5    petrol         bmw      yes  "
      ]
     },
     "metadata": {},
     "output_type": "display_data"
    },
    {
     "name": "stdout",
     "output_type": "stream",
     "text": [
      "\n",
      "==================================================\n",
      "\n",
      "Описательная статистика:\n"
     ]
    },
    {
     "data": {
      "text/html": [
       "<div>\n",
       "<style scoped>\n",
       "    .dataframe tbody tr th:only-of-type {\n",
       "        vertical-align: middle;\n",
       "    }\n",
       "\n",
       "    .dataframe tbody tr th {\n",
       "        vertical-align: top;\n",
       "    }\n",
       "\n",
       "    .dataframe thead th {\n",
       "        text-align: right;\n",
       "    }\n",
       "</style>\n",
       "<table border=\"1\" class=\"dataframe\">\n",
       "  <thead>\n",
       "    <tr style=\"text-align: right;\">\n",
       "      <th></th>\n",
       "      <th>Price</th>\n",
       "      <th>RegistrationYear</th>\n",
       "      <th>Power</th>\n",
       "      <th>Kilometer</th>\n",
       "    </tr>\n",
       "  </thead>\n",
       "  <tbody>\n",
       "    <tr>\n",
       "      <th>count</th>\n",
       "      <td>245841.000000</td>\n",
       "      <td>245841.000000</td>\n",
       "      <td>245841.000000</td>\n",
       "      <td>245841.000000</td>\n",
       "    </tr>\n",
       "    <tr>\n",
       "      <th>mean</th>\n",
       "      <td>5007.940396</td>\n",
       "      <td>2003.083086</td>\n",
       "      <td>122.095017</td>\n",
       "      <td>127080.755448</td>\n",
       "    </tr>\n",
       "    <tr>\n",
       "      <th>std</th>\n",
       "      <td>4671.108773</td>\n",
       "      <td>6.295549</td>\n",
       "      <td>52.458210</td>\n",
       "      <td>37404.175528</td>\n",
       "    </tr>\n",
       "    <tr>\n",
       "      <th>min</th>\n",
       "      <td>50.000000</td>\n",
       "      <td>1970.000000</td>\n",
       "      <td>40.000000</td>\n",
       "      <td>5000.000000</td>\n",
       "    </tr>\n",
       "    <tr>\n",
       "      <th>25%</th>\n",
       "      <td>1400.000000</td>\n",
       "      <td>1999.000000</td>\n",
       "      <td>81.000000</td>\n",
       "      <td>125000.000000</td>\n",
       "    </tr>\n",
       "    <tr>\n",
       "      <th>50%</th>\n",
       "      <td>3350.000000</td>\n",
       "      <td>2003.000000</td>\n",
       "      <td>115.000000</td>\n",
       "      <td>150000.000000</td>\n",
       "    </tr>\n",
       "    <tr>\n",
       "      <th>75%</th>\n",
       "      <td>7250.000000</td>\n",
       "      <td>2007.000000</td>\n",
       "      <td>150.000000</td>\n",
       "      <td>150000.000000</td>\n",
       "    </tr>\n",
       "    <tr>\n",
       "      <th>max</th>\n",
       "      <td>20000.000000</td>\n",
       "      <td>2016.000000</td>\n",
       "      <td>399.000000</td>\n",
       "      <td>150000.000000</td>\n",
       "    </tr>\n",
       "  </tbody>\n",
       "</table>\n",
       "</div>"
      ],
      "text/plain": [
       "               Price  RegistrationYear          Power      Kilometer\n",
       "count  245841.000000     245841.000000  245841.000000  245841.000000\n",
       "mean     5007.940396       2003.083086     122.095017  127080.755448\n",
       "std      4671.108773          6.295549      52.458210   37404.175528\n",
       "min        50.000000       1970.000000      40.000000    5000.000000\n",
       "25%      1400.000000       1999.000000      81.000000  125000.000000\n",
       "50%      3350.000000       2003.000000     115.000000  150000.000000\n",
       "75%      7250.000000       2007.000000     150.000000  150000.000000\n",
       "max     20000.000000       2016.000000     399.000000  150000.000000"
      ]
     },
     "metadata": {},
     "output_type": "display_data"
    },
    {
     "name": "stdout",
     "output_type": "stream",
     "text": [
      "\n",
      "==================================================\n",
      "\n"
     ]
    },
    {
     "data": {
      "text/plain": [
       "'Количествово дубликатов:0'"
      ]
     },
     "metadata": {},
     "output_type": "display_data"
    },
    {
     "name": "stdout",
     "output_type": "stream",
     "text": [
      "\n",
      "==================================================\n",
      "\n",
      "гистограмма численных показателей\n"
     ]
    },
    {
     "data": {
      "image/png": "[encoded data removed]",
      "text/plain": [
       "<Figure size 1080x504 with 4 Axes>"
      ]
     },
     "metadata": {
      "needs_background": "light"
     },
     "output_type": "display_data"
    }
   ],
   "source": [
    "# Датафрейм после обработки\n",
    "inform(df_2)"
   ]
  },
  {
   "cell_type": "code",
   "execution_count": 27,
   "metadata": {},
   "outputs": [
    {
     "data": {
      "image/png": "[encoded data removed]",
      "text/plain": [
       "<Figure size 720x1800 with 5 Axes>"
      ]
     },
     "metadata": {
      "needs_background": "light"
     },
     "output_type": "display_data"
    }
   ],
   "source": [
    "cols_to_visualize_cat = ['VehicleType', 'Gearbox', 'FuelType', 'Brand', 'Repaired']\n",
    "# Писал ручками чтобы модель не выводить - она вообще не информативна\n",
    "visualize_categorical_data(df_2, cols_to_visualize_cat)"
   ]
  },
  {
   "cell_type": "markdown",
   "metadata": {},
   "source": [
    "#### Корелляционный анализ"
   ]
  },
  {
   "cell_type": "code",
   "execution_count": 28,
   "metadata": {},
   "outputs": [
    {
     "data": {
      "text/plain": [
       "{'Price': {'type': dtype('int64'), 'n_distinct': 3559},\n",
       " 'VehicleType': {'type': dtype('O'), 'n_distinct': 8},\n",
       " 'RegistrationYear': {'type': dtype('int64'), 'n_distinct': 47},\n",
       " 'Gearbox': {'type': dtype('O'), 'n_distinct': 2},\n",
       " 'Power': {'type': dtype('int64'), 'n_distinct': 338},\n",
       " 'Model': {'type': dtype('O'), 'n_distinct': 249},\n",
       " 'Kilometer': {'type': dtype('int64'), 'n_distinct': 13},\n",
       " 'FuelType': {'type': dtype('O'), 'n_distinct': 7},\n",
       " 'Brand': {'type': dtype('O'), 'n_distinct': 40},\n",
       " 'Repaired': {'type': dtype('O'), 'n_distinct': 2}}"
      ]
     },
     "execution_count": 28,
     "metadata": {},
     "output_type": "execute_result"
    }
   ],
   "source": [
    "# Создаем словарь с типом и количеством уникальных значений\n",
    "summary = {}\n",
    "columns = df_2.columns\n",
    "\n",
    "for column in columns:\n",
    "    column_type = df_2[column].dtype\n",
    "    unique_values = df_2[column].nunique()\n",
    "    \n",
    "    summary[column] = {'type': column_type, 'n_distinct': unique_values}\n",
    "\n",
    "summary"
   ]
  },
  {
   "cell_type": "code",
   "execution_count": 29,
   "metadata": {},
   "outputs": [
    {
     "data": {
      "image/png": "[encoded data removed]",
      "text/plain": [
       "<Figure size 720x432 with 2 Axes>"
      ]
     },
     "metadata": {
      "needs_background": "light"
     },
     "output_type": "display_data"
    }
   ],
   "source": [
    "# Вывод матрицы корреляции Пирсона через phik \n",
    "config = Settings(categorical_maximum_correlation_distinct=50)\n",
    "correlation_matrix = pandas_phik_compute(config, df_2, summary)\n",
    "\n",
    "if correlation_matrix is not None:\n",
    "    visualize_correlation_matrix(correlation_matrix)"
   ]
  },
  {
   "cell_type": "markdown",
   "metadata": {},
   "source": [
    "По матрице корреляции мы видим отсутствие высокой корреляции со всеми переменными кроме Brand\\\n",
    "А именно 0.58 для связи Brand с  VehicleType и 0.83 c Repaired\n",
    "Исходя из графического представления выше мы видим значительное превосходство Фольцвагенов над всеми остальными вместе взятыми..\\\n",
    "На основе того, что данные столбцы могут предоставлять интерес для заказчика, но вредны для анализа,\\\n",
    "мы можем пойти по пути разработки функциональных возможностей:\\\n",
    "Мы можем создавать новые функции, которые отражают различные аспекты исходных функций. \\\n",
    "Например, мы можем создать новую функцию, которая объединяет тип транспортного средства и марку в одну категорию,\n",
    "или же создать функцию, которая отражает популярность бренда в рамках определенного типа транспортного средства."
   ]
  },
  {
   "cell_type": "code",
   "execution_count": 30,
   "metadata": {},
   "outputs": [],
   "source": [
    "df_2['VehicleBrand'] = df_2['VehicleType'] + \"_\" + df_2['Brand']\n",
    "df_2 = df_2.drop(['Brand', 'VehicleType'], axis=1)"
   ]
  },
  {
   "cell_type": "markdown",
   "metadata": {},
   "source": [
    "**Промежутоный вывод:** в процессе предобработки мы убрали из датафрейма дубикаты и не несущие положительной нагрузки данные из датафрейма, а так же почистили пропущенные значения"
   ]
  },
  {
   "cell_type": "markdown",
   "metadata": {},
   "source": [
    "## Обучение моделей"
   ]
  },
  {
   "cell_type": "markdown",
   "metadata": {},
   "source": [
    "#### Обучение и кодификация датафрейма"
   ]
  },
  {
   "cell_type": "code",
   "execution_count": 31,
   "metadata": {},
   "outputs": [],
   "source": [
    "X = df_2.drop(columns=['Price'], axis=1)\n",
    "y = df_2['Price']\n",
    "\n",
    "# Разбиение данных на тренировочную и тестовую выборки\n",
    "X_train, X_test, y_train, y_test = train_test_split(X, y, test_size=0.2, random_state=42)"
   ]
  },
  {
   "cell_type": "code",
   "execution_count": 32,
   "metadata": {
    "scrolled": true
   },
   "outputs": [
    {
     "data": {
      "text/plain": [
       "{'Price': {'type': dtype('int64'), 'n_distinct': 3559},\n",
       " 'VehicleType': {'type': dtype('O'), 'n_distinct': 8},\n",
       " 'RegistrationYear': {'type': dtype('int64'), 'n_distinct': 47},\n",
       " 'Gearbox': {'type': dtype('O'), 'n_distinct': 2},\n",
       " 'Power': {'type': dtype('int64'), 'n_distinct': 338},\n",
       " 'Model': {'type': dtype('O'), 'n_distinct': 249},\n",
       " 'Kilometer': {'type': dtype('int64'), 'n_distinct': 13},\n",
       " 'FuelType': {'type': dtype('O'), 'n_distinct': 7},\n",
       " 'Brand': {'type': dtype('O'), 'n_distinct': 40},\n",
       " 'Repaired': {'type': dtype('O'), 'n_distinct': 2}}"
      ]
     },
     "execution_count": 32,
     "metadata": {},
     "output_type": "execute_result"
    }
   ],
   "source": [
    "summary"
   ]
  },
  {
   "cell_type": "code",
   "execution_count": 33,
   "metadata": {},
   "outputs": [],
   "source": [
    "# Подготовка предобработки признаков\n",
    "continuous_features=['Power', 'Kilometer', 'RegistrationYear']"
   ]
  },
  {
   "cell_type": "code",
   "execution_count": 34,
   "metadata": {},
   "outputs": [],
   "source": [
    "nominal_features=['Model', 'VehicleBrand', 'Gearbox', 'FuelType', 'Repaired']"
   ]
  },
  {
   "cell_type": "code",
   "execution_count": 35,
   "metadata": {},
   "outputs": [],
   "source": [
    "# Числовые признаки\n",
    "continuous_pipeline = Pipeline([\n",
    "    ('imputer', SimpleImputer(strategy='mean')),\n",
    "    ('scaler', StandardScaler()),\n",
    "    ('discretizer', KBinsDiscretizer(encode='onehot', strategy='uniform'))\n",
    "])\n",
    "\n",
    "# Ранговые и порядковые признаки\n",
    "ordinal_nominal_pipeline = Pipeline([\n",
    "    ('imputer', SimpleImputer(missing_values='unknown', strategy='most_frequent')),\n",
    "    ('onehot', OneHotEncoder(handle_unknown='ignore', drop='first'))\n",
    "])\n",
    "\n",
    "# Единый препроцессор\n",
    "preprocessor = ColumnTransformer([\n",
    "    ('continuous', continuous_pipeline, continuous_features),\n",
    "    ('ord_nom_cat', ordinal_nominal_pipeline, nominal_features)\n",
    "], remainder='passthrough')"
   ]
  },
  {
   "cell_type": "markdown",
   "metadata": {},
   "source": [
    "#### Scorer"
   ]
  },
  {
   "cell_type": "code",
   "execution_count": 36,
   "metadata": {},
   "outputs": [],
   "source": [
    "rmse_scorer = make_scorer(lambda y, y_pred: np.sqrt(mean_squared_error(y, y_pred)), greater_is_better=False)"
   ]
  },
  {
   "cell_type": "markdown",
   "metadata": {},
   "source": [
    "#### Линейная регрессия"
   ]
  },
  {
   "cell_type": "code",
   "execution_count": 37,
   "metadata": {},
   "outputs": [],
   "source": [
    "# Создание пайплайна для модели линейной регрессии\n",
    "model_pipeline_lr = Pipeline(steps=[\n",
    "    ('preprocessor', preprocessor),\n",
    "    ('regressor', LinearRegression(n_jobs=-1))\n",
    "])\n",
    "\n",
    "# Настройка поиска по сетке\n",
    "param_grid_lr = {\n",
    "    'regressor__fit_intercept': [True, False]\n",
    "}"
   ]
  },
  {
   "cell_type": "code",
   "execution_count": 38,
   "metadata": {
    "scrolled": true
   },
   "outputs": [
    {
     "name": "stdout",
     "output_type": "stream",
     "text": [
      "Best model for Linear Regressor: Pipeline(steps=[('preprocessor',\n",
      "                 ColumnTransformer(remainder='passthrough',\n",
      "                                   transformers=[('continuous',\n",
      "                                                  Pipeline(steps=[('imputer',\n",
      "                                                                   SimpleImputer()),\n",
      "                                                                  ('scaler',\n",
      "                                                                   StandardScaler()),\n",
      "                                                                  ('discretizer',\n",
      "                                                                   KBinsDiscretizer(strategy='uniform'))]),\n",
      "                                                  ['Power', 'Kilometer',\n",
      "                                                   'RegistrationYear']),\n",
      "                                                 ('ord_nom_cat',\n",
      "                                                  Pipeline(steps=[('imputer',\n",
      "                                                                   SimpleImputer(missing_values='unknown',\n",
      "                                                                                 strategy='most_frequent')),\n",
      "                                                                  ('onehot',\n",
      "                                                                   OneHotEncoder(drop='first',\n",
      "                                                                                 handle_unknown='ignore'))]),\n",
      "                                                  ['Model', 'VehicleBrand',\n",
      "                                                   'Gearbox', 'FuelType',\n",
      "                                                   'Repaired'])])),\n",
      "                ('regressor', LinearRegression(n_jobs=-1))])\n",
      "Time for Linear Regressor on fit: 0.47 min\n",
      "RMSE on cross-validation for Linear Regressor: 2462.9148630952045\n"
     ]
    }
   ],
   "source": [
    "gs_lr = GridSearchCV(model_pipeline_lr, param_grid_lr, scoring=rmse_scorer, cv=5)\n",
    "gs_lr.fit(X_train, y_train)\n",
    "\n",
    "best_estimator_lr = gs_lr.best_estimator_\n",
    "print(\"Best model for Linear Regressor:\", best_estimator_lr)\n",
    "\n",
    "rmse_scores_lr = -gs_lr.best_score_\n",
    "print(f\"RMSE on cross-validation for Linear Regressor: {rmse_scores_lr}\")\n",
    "\n",
    "start_time = time.time()\n",
    "best_estimator_lr.fit(X_train, y_train)\n",
    "fit_time_lr = round((time.time() - start_time)/60, 2)\n",
    "print(f\"Time for Linear Regressor on fit: {fit_time_lr} min\")"
   ]
  },
  {
   "cell_type": "code",
   "execution_count": 39,
   "metadata": {},
   "outputs": [
    {
     "name": "stdout",
     "output_type": "stream",
     "text": [
      "Time for Linear Regressor on predict: 0.65 seconds\n"
     ]
    }
   ],
   "source": [
    "start_time = time.time()\n",
    "predictions = best_estimator_lr.predict(X_train)\n",
    "predict_time_lr = round(time.time() - start_time, 2)\n",
    "print(f\"Time for Linear Regressor on predict: {predict_time_lr} seconds\")"
   ]
  },
  {
   "cell_type": "markdown",
   "metadata": {},
   "source": [
    "#### Градиентный бустинг"
   ]
  },
  {
   "cell_type": "code",
   "execution_count": 40,
   "metadata": {},
   "outputs": [],
   "source": [
    "# Создание пайплайна для модели градиентного бустинга\n",
    "model_pipeline_gb = Pipeline(steps=[\n",
    "    ('preprocessor', preprocessor),\n",
    "    ('regressor', GradientBoostingRegressor(random_state=42))\n",
    "])\n",
    "\n",
    "# Настройка поиска по сетке\n",
    "param_grid_gb = {\n",
    "    'regressor__n_estimators': [10, 20, 30],\n",
    "    'regressor__learning_rate': [0.1, 0.2, 0.5],\n",
    "    'regressor__max_depth': [5, 7, 9],\n",
    "    'preprocessor__n_jobs': [-1]\n",
    "}"
   ]
  },
  {
   "cell_type": "code",
   "execution_count": 41,
   "metadata": {
    "scrolled": true
   },
   "outputs": [
    {
     "name": "stdout",
     "output_type": "stream",
     "text": [
      "Best model for Gradient Boosting: Pipeline(steps=[('preprocessor',\n",
      "                 ColumnTransformer(n_jobs=-1, remainder='passthrough',\n",
      "                                   transformers=[('continuous',\n",
      "                                                  Pipeline(steps=[('imputer',\n",
      "                                                                   SimpleImputer()),\n",
      "                                                                  ('scaler',\n",
      "                                                                   StandardScaler()),\n",
      "                                                                  ('discretizer',\n",
      "                                                                   KBinsDiscretizer(strategy='uniform'))]),\n",
      "                                                  ['Power', 'Kilometer',\n",
      "                                                   'RegistrationYear']),\n",
      "                                                 ('ord_nom_cat',\n",
      "                                                  Pipeline(steps=[('imputer',\n",
      "                                                                   SimpleImputer(missing_values='unknown',\n",
      "                                                                                 strategy='most_frequent')),\n",
      "                                                                  ('onehot',\n",
      "                                                                   OneHotEncoder(drop='first',\n",
      "                                                                                 handle_unknown='ignore'))]),\n",
      "                                                  ['Model', 'VehicleBrand',\n",
      "                                                   'Gearbox', 'FuelType',\n",
      "                                                   'Repaired'])])),\n",
      "                ('regressor',\n",
      "                 GradientBoostingRegressor(learning_rate=0.5, max_depth=9,\n",
      "                                           n_estimators=30, random_state=42))])\n",
      "Time for Gradient Boosting on fit: 0.2 min\n",
      "RMSE on cross-validation for Gradient Boosting: 2169.730316481249\n"
     ]
    }
   ],
   "source": [
    "gs_gb = GridSearchCV(model_pipeline_gb, param_grid_gb, cv=5, scoring=rmse_scorer)\n",
    "gs_gb.fit(X_train, y_train)\n",
    "\n",
    "best_estimator_gb = gs_gb.best_estimator_\n",
    "print(\"Best model for Gradient Boosting:\", best_estimator_gb)\n",
    "\n",
    "rmse_scores_gb = -gs_gb.best_score_\n",
    "print(f\"RMSE on cross-validation for Gradient Boosting: {rmse_scores_gb}\")\n",
    "\n",
    "start_time = time.time()\n",
    "best_estimator_gb.fit(X_train, y_train)\n",
    "fit_time_gb = round((time.time() - start_time)/60, 2)\n",
    "print(f\"Time for Gradient Boosting on fit: {fit_time_gb} min\")"
   ]
  },
  {
   "cell_type": "code",
   "execution_count": 42,
   "metadata": {},
   "outputs": [
    {
     "name": "stdout",
     "output_type": "stream",
     "text": [
      "Time for Gradient Boosting on predict: 0.69 seconds\n"
     ]
    }
   ],
   "source": [
    "start_time = time.time()\n",
    "predictions = best_estimator_gb.predict(X_train)\n",
    "predict_time_gb = round(time.time() - start_time, 2)\n",
    "print(f\"Time for Gradient Boosting on predict: {predict_time_gb} seconds\")"
   ]
  },
  {
   "cell_type": "markdown",
   "metadata": {},
   "source": [
    "#### LGB regression"
   ]
  },
  {
   "cell_type": "code",
   "execution_count": 43,
   "metadata": {},
   "outputs": [],
   "source": [
    "model_pipeline_lgb = Pipeline(steps=[\n",
    "    ('preprocessor', preprocessor),\n",
    "    ('regressor', LGBMRegressor(random_state = 42, force_col_wise=True))\n",
    "])\n",
    "\n",
    "# Настройка поиска по сетке\n",
    "param_grid_lgb = {\n",
    "    'regressor__num_leaves': [10, 20, 30],\n",
    "    'regressor__learning_rate': [0.1, 0.2, 0.3],\n",
    "    'regressor__n_estimators': [10, 20, 30, 40],\n",
    "    'preprocessor__n_jobs': [-1]\n",
    "}"
   ]
  },
  {
   "cell_type": "code",
   "execution_count": 44,
   "metadata": {},
   "outputs": [
    {
     "name": "stdout",
     "output_type": "stream",
     "text": [
      "[LightGBM] [Info] Total Bins 948\n",
      "[LightGBM] [Info] Number of data points in the train set: 157337, number of used features: 474\n",
      "[LightGBM] [Info] Start training from score 5005.514602\n",
      "[LightGBM] [Info] Total Bins 952\n",
      "[LightGBM] [Info] Number of data points in the train set: 157337, number of used features: 476\n",
      "[LightGBM] [Info] Start training from score 5006.136224\n",
      "[LightGBM] [Info] Total Bins 948\n",
      "[LightGBM] [Info] Number of data points in the train set: 157338, number of used features: 474\n",
      "[LightGBM] [Info] Start training from score 5009.415545\n",
      "[LightGBM] [Info] Total Bins 946\n",
      "[LightGBM] [Info] Number of data points in the train set: 157338, number of used features: 473\n",
      "[LightGBM] [Info] Start training from score 5011.359061\n",
      "[LightGBM] [Info] Total Bins 952\n",
      "[LightGBM] [Info] Number of data points in the train set: 157338, number of used features: 476\n",
      "[LightGBM] [Info] Start training from score 5012.640703\n",
      "[LightGBM] [Info] Total Bins 948\n",
      "[LightGBM] [Info] Number of data points in the train set: 157337, number of used features: 474\n",
      "[LightGBM] [Info] Start training from score 5005.514602\n",
      "[LightGBM] [Info] Total Bins 952\n",
      "[LightGBM] [Info] Number of data points in the train set: 157337, number of used features: 476\n",
      "[LightGBM] [Info] Start training from score 5006.136224\n",
      "[LightGBM] [Info] Total Bins 948\n",
      "[LightGBM] [Info] Number of data points in the train set: 157338, number of used features: 474\n",
      "[LightGBM] [Info] Start training from score 5009.415545\n",
      "[LightGBM] [Info] Total Bins 946\n",
      "[LightGBM] [Info] Number of data points in the train set: 157338, number of used features: 473\n",
      "[LightGBM] [Info] Start training from score 5011.359061\n",
      "[LightGBM] [Info] Total Bins 952\n",
      "[LightGBM] [Info] Number of data points in the train set: 157338, number of used features: 476\n",
      "[LightGBM] [Info] Start training from score 5012.640703\n",
      "[LightGBM] [Info] Total Bins 948\n",
      "[LightGBM] [Info] Number of data points in the train set: 157337, number of used features: 474\n",
      "[LightGBM] [Info] Start training from score 5005.514602\n",
      "[LightGBM] [Info] Total Bins 952\n",
      "[LightGBM] [Info] Number of data points in the train set: 157337, number of used features: 476\n",
      "[LightGBM] [Info] Start training from score 5006.136224\n",
      "[LightGBM] [Info] Total Bins 948\n",
      "[LightGBM] [Info] Number of data points in the train set: 157338, number of used features: 474\n",
      "[LightGBM] [Info] Start training from score 5009.415545\n",
      "[LightGBM] [Info] Total Bins 946\n",
      "[LightGBM] [Info] Number of data points in the train set: 157338, number of used features: 473\n",
      "[LightGBM] [Info] Start training from score 5011.359061\n",
      "[LightGBM] [Info] Total Bins 952\n",
      "[LightGBM] [Info] Number of data points in the train set: 157338, number of used features: 476\n",
      "[LightGBM] [Info] Start training from score 5012.640703\n",
      "[LightGBM] [Info] Total Bins 948\n",
      "[LightGBM] [Info] Number of data points in the train set: 157337, number of used features: 474\n",
      "[LightGBM] [Info] Start training from score 5005.514602\n",
      "[LightGBM] [Info] Total Bins 952\n",
      "[LightGBM] [Info] Number of data points in the train set: 157337, number of used features: 476\n",
      "[LightGBM] [Info] Start training from score 5006.136224\n",
      "[LightGBM] [Info] Total Bins 948\n",
      "[LightGBM] [Info] Number of data points in the train set: 157338, number of used features: 474\n",
      "[LightGBM] [Info] Start training from score 5009.415545\n",
      "[LightGBM] [Info] Total Bins 946\n",
      "[LightGBM] [Info] Number of data points in the train set: 157338, number of used features: 473\n",
      "[LightGBM] [Info] Start training from score 5011.359061\n",
      "[LightGBM] [Info] Total Bins 952\n",
      "[LightGBM] [Info] Number of data points in the train set: 157338, number of used features: 476\n",
      "[LightGBM] [Info] Start training from score 5012.640703\n",
      "[LightGBM] [Info] Total Bins 948\n",
      "[LightGBM] [Info] Number of data points in the train set: 157337, number of used features: 474\n",
      "[LightGBM] [Info] Start training from score 5005.514602\n",
      "[LightGBM] [Info] Total Bins 952\n",
      "[LightGBM] [Info] Number of data points in the train set: 157337, number of used features: 476\n",
      "[LightGBM] [Info] Start training from score 5006.136224\n",
      "[LightGBM] [Info] Total Bins 948\n",
      "[LightGBM] [Info] Number of data points in the train set: 157338, number of used features: 474\n",
      "[LightGBM] [Info] Start training from score 5009.415545\n",
      "[LightGBM] [Info] Total Bins 946\n",
      "[LightGBM] [Info] Number of data points in the train set: 157338, number of used features: 473\n",
      "[LightGBM] [Info] Start training from score 5011.359061\n",
      "[LightGBM] [Info] Total Bins 952\n",
      "[LightGBM] [Info] Number of data points in the train set: 157338, number of used features: 476\n",
      "[LightGBM] [Info] Start training from score 5012.640703\n",
      "[LightGBM] [Info] Total Bins 948\n",
      "[LightGBM] [Info] Number of data points in the train set: 157337, number of used features: 474\n",
      "[LightGBM] [Info] Start training from score 5005.514602\n",
      "[LightGBM] [Info] Total Bins 952\n",
      "[LightGBM] [Info] Number of data points in the train set: 157337, number of used features: 476\n",
      "[LightGBM] [Info] Start training from score 5006.136224\n",
      "[LightGBM] [Info] Total Bins 948\n",
      "[LightGBM] [Info] Number of data points in the train set: 157338, number of used features: 474\n",
      "[LightGBM] [Info] Start training from score 5009.415545\n",
      "[LightGBM] [Info] Total Bins 946\n",
      "[LightGBM] [Info] Number of data points in the train set: 157338, number of used features: 473\n",
      "[LightGBM] [Info] Start training from score 5011.359061\n",
      "[LightGBM] [Info] Total Bins 952\n",
      "[LightGBM] [Info] Number of data points in the train set: 157338, number of used features: 476\n",
      "[LightGBM] [Info] Start training from score 5012.640703\n",
      "[LightGBM] [Info] Total Bins 948\n",
      "[LightGBM] [Info] Number of data points in the train set: 157337, number of used features: 474\n",
      "[LightGBM] [Info] Start training from score 5005.514602\n",
      "[LightGBM] [Info] Total Bins 952\n",
      "[LightGBM] [Info] Number of data points in the train set: 157337, number of used features: 476\n",
      "[LightGBM] [Info] Start training from score 5006.136224\n",
      "[LightGBM] [Info] Total Bins 948\n",
      "[LightGBM] [Info] Number of data points in the train set: 157338, number of used features: 474\n",
      "[LightGBM] [Info] Start training from score 5009.415545\n",
      "[LightGBM] [Info] Total Bins 946\n",
      "[LightGBM] [Info] Number of data points in the train set: 157338, number of used features: 473\n",
      "[LightGBM] [Info] Start training from score 5011.359061\n",
      "[LightGBM] [Info] Total Bins 952\n",
      "[LightGBM] [Info] Number of data points in the train set: 157338, number of used features: 476\n",
      "[LightGBM] [Info] Start training from score 5012.640703\n",
      "[LightGBM] [Info] Total Bins 948\n",
      "[LightGBM] [Info] Number of data points in the train set: 157337, number of used features: 474\n",
      "[LightGBM] [Info] Start training from score 5005.514602\n",
      "[LightGBM] [Info] Total Bins 952\n",
      "[LightGBM] [Info] Number of data points in the train set: 157337, number of used features: 476\n",
      "[LightGBM] [Info] Start training from score 5006.136224\n",
      "[LightGBM] [Info] Total Bins 948\n",
      "[LightGBM] [Info] Number of data points in the train set: 157338, number of used features: 474\n",
      "[LightGBM] [Info] Start training from score 5009.415545\n",
      "[LightGBM] [Info] Total Bins 946\n",
      "[LightGBM] [Info] Number of data points in the train set: 157338, number of used features: 473\n",
      "[LightGBM] [Info] Start training from score 5011.359061\n",
      "[LightGBM] [Info] Total Bins 952\n",
      "[LightGBM] [Info] Number of data points in the train set: 157338, number of used features: 476\n",
      "[LightGBM] [Info] Start training from score 5012.640703\n",
      "[LightGBM] [Info] Total Bins 948\n",
      "[LightGBM] [Info] Number of data points in the train set: 157337, number of used features: 474\n",
      "[LightGBM] [Info] Start training from score 5005.514602\n",
      "[LightGBM] [Info] Total Bins 952\n",
      "[LightGBM] [Info] Number of data points in the train set: 157337, number of used features: 476\n",
      "[LightGBM] [Info] Start training from score 5006.136224\n",
      "[LightGBM] [Info] Total Bins 948\n",
      "[LightGBM] [Info] Number of data points in the train set: 157338, number of used features: 474\n",
      "[LightGBM] [Info] Start training from score 5009.415545\n",
      "[LightGBM] [Info] Total Bins 946\n",
      "[LightGBM] [Info] Number of data points in the train set: 157338, number of used features: 473\n",
      "[LightGBM] [Info] Start training from score 5011.359061\n",
      "[LightGBM] [Info] Total Bins 952\n",
      "[LightGBM] [Info] Number of data points in the train set: 157338, number of used features: 476\n",
      "[LightGBM] [Info] Start training from score 5012.640703\n",
      "[LightGBM] [Info] Total Bins 948\n",
      "[LightGBM] [Info] Number of data points in the train set: 157337, number of used features: 474\n",
      "[LightGBM] [Info] Start training from score 5005.514602\n",
      "[LightGBM] [Info] Total Bins 952\n",
      "[LightGBM] [Info] Number of data points in the train set: 157337, number of used features: 476\n",
      "[LightGBM] [Info] Start training from score 5006.136224\n",
      "[LightGBM] [Info] Total Bins 948\n",
      "[LightGBM] [Info] Number of data points in the train set: 157338, number of used features: 474\n",
      "[LightGBM] [Info] Start training from score 5009.415545\n",
      "[LightGBM] [Info] Total Bins 946\n",
      "[LightGBM] [Info] Number of data points in the train set: 157338, number of used features: 473\n",
      "[LightGBM] [Info] Start training from score 5011.359061\n",
      "[LightGBM] [Info] Total Bins 952\n",
      "[LightGBM] [Info] Number of data points in the train set: 157338, number of used features: 476\n",
      "[LightGBM] [Info] Start training from score 5012.640703\n",
      "[LightGBM] [Info] Total Bins 948\n",
      "[LightGBM] [Info] Number of data points in the train set: 157337, number of used features: 474\n",
      "[LightGBM] [Info] Start training from score 5005.514602\n",
      "[LightGBM] [Info] Total Bins 952\n",
      "[LightGBM] [Info] Number of data points in the train set: 157337, number of used features: 476\n",
      "[LightGBM] [Info] Start training from score 5006.136224\n",
      "[LightGBM] [Info] Total Bins 948\n",
      "[LightGBM] [Info] Number of data points in the train set: 157338, number of used features: 474\n",
      "[LightGBM] [Info] Start training from score 5009.415545\n",
      "[LightGBM] [Info] Total Bins 946\n",
      "[LightGBM] [Info] Number of data points in the train set: 157338, number of used features: 473\n",
      "[LightGBM] [Info] Start training from score 5011.359061\n",
      "[LightGBM] [Info] Total Bins 952\n",
      "[LightGBM] [Info] Number of data points in the train set: 157338, number of used features: 476\n",
      "[LightGBM] [Info] Start training from score 5012.640703\n",
      "[LightGBM] [Info] Total Bins 948\n",
      "[LightGBM] [Info] Number of data points in the train set: 157337, number of used features: 474\n",
      "[LightGBM] [Info] Start training from score 5005.514602\n",
      "[LightGBM] [Info] Total Bins 952\n",
      "[LightGBM] [Info] Number of data points in the train set: 157337, number of used features: 476\n",
      "[LightGBM] [Info] Start training from score 5006.136224\n",
      "[LightGBM] [Info] Total Bins 948\n",
      "[LightGBM] [Info] Number of data points in the train set: 157338, number of used features: 474\n",
      "[LightGBM] [Info] Start training from score 5009.415545\n",
      "[LightGBM] [Info] Total Bins 946\n",
      "[LightGBM] [Info] Number of data points in the train set: 157338, number of used features: 473\n",
      "[LightGBM] [Info] Start training from score 5011.359061\n",
      "[LightGBM] [Info] Total Bins 952\n",
      "[LightGBM] [Info] Number of data points in the train set: 157338, number of used features: 476\n",
      "[LightGBM] [Info] Start training from score 5012.640703\n",
      "[LightGBM] [Info] Total Bins 948\n",
      "[LightGBM] [Info] Number of data points in the train set: 157337, number of used features: 474\n",
      "[LightGBM] [Info] Start training from score 5005.514602\n",
      "[LightGBM] [Info] Total Bins 952\n",
      "[LightGBM] [Info] Number of data points in the train set: 157337, number of used features: 476\n",
      "[LightGBM] [Info] Start training from score 5006.136224\n",
      "[LightGBM] [Info] Total Bins 948\n",
      "[LightGBM] [Info] Number of data points in the train set: 157338, number of used features: 474\n",
      "[LightGBM] [Info] Start training from score 5009.415545\n",
      "[LightGBM] [Info] Total Bins 946\n",
      "[LightGBM] [Info] Number of data points in the train set: 157338, number of used features: 473\n",
      "[LightGBM] [Info] Start training from score 5011.359061\n",
      "[LightGBM] [Info] Total Bins 952\n",
      "[LightGBM] [Info] Number of data points in the train set: 157338, number of used features: 476\n",
      "[LightGBM] [Info] Start training from score 5012.640703\n",
      "[LightGBM] [Info] Total Bins 948\n",
      "[LightGBM] [Info] Number of data points in the train set: 157337, number of used features: 474\n",
      "[LightGBM] [Info] Start training from score 5005.514602\n",
      "[LightGBM] [Info] Total Bins 952\n",
      "[LightGBM] [Info] Number of data points in the train set: 157337, number of used features: 476\n",
      "[LightGBM] [Info] Start training from score 5006.136224\n",
      "[LightGBM] [Info] Total Bins 948\n",
      "[LightGBM] [Info] Number of data points in the train set: 157338, number of used features: 474\n",
      "[LightGBM] [Info] Start training from score 5009.415545\n",
      "[LightGBM] [Info] Total Bins 946\n",
      "[LightGBM] [Info] Number of data points in the train set: 157338, number of used features: 473\n",
      "[LightGBM] [Info] Start training from score 5011.359061\n",
      "[LightGBM] [Info] Total Bins 952\n",
      "[LightGBM] [Info] Number of data points in the train set: 157338, number of used features: 476\n",
      "[LightGBM] [Info] Start training from score 5012.640703\n",
      "[LightGBM] [Info] Total Bins 948\n",
      "[LightGBM] [Info] Number of data points in the train set: 157337, number of used features: 474\n",
      "[LightGBM] [Info] Start training from score 5005.514602\n",
      "[LightGBM] [Info] Total Bins 952\n",
      "[LightGBM] [Info] Number of data points in the train set: 157337, number of used features: 476\n",
      "[LightGBM] [Info] Start training from score 5006.136224\n",
      "[LightGBM] [Info] Total Bins 948\n",
      "[LightGBM] [Info] Number of data points in the train set: 157338, number of used features: 474\n",
      "[LightGBM] [Info] Start training from score 5009.415545\n",
      "[LightGBM] [Info] Total Bins 946\n",
      "[LightGBM] [Info] Number of data points in the train set: 157338, number of used features: 473\n",
      "[LightGBM] [Info] Start training from score 5011.359061\n",
      "[LightGBM] [Info] Total Bins 952\n",
      "[LightGBM] [Info] Number of data points in the train set: 157338, number of used features: 476\n",
      "[LightGBM] [Info] Start training from score 5012.640703\n",
      "[LightGBM] [Info] Total Bins 948\n",
      "[LightGBM] [Info] Number of data points in the train set: 157337, number of used features: 474\n",
      "[LightGBM] [Info] Start training from score 5005.514602\n",
      "[LightGBM] [Info] Total Bins 952\n",
      "[LightGBM] [Info] Number of data points in the train set: 157337, number of used features: 476\n",
      "[LightGBM] [Info] Start training from score 5006.136224\n",
      "[LightGBM] [Info] Total Bins 948\n",
      "[LightGBM] [Info] Number of data points in the train set: 157338, number of used features: 474\n",
      "[LightGBM] [Info] Start training from score 5009.415545\n",
      "[LightGBM] [Info] Total Bins 946\n",
      "[LightGBM] [Info] Number of data points in the train set: 157338, number of used features: 473\n",
      "[LightGBM] [Info] Start training from score 5011.359061\n",
      "[LightGBM] [Info] Total Bins 952\n",
      "[LightGBM] [Info] Number of data points in the train set: 157338, number of used features: 476\n",
      "[LightGBM] [Info] Start training from score 5012.640703\n",
      "[LightGBM] [Info] Total Bins 948\n",
      "[LightGBM] [Info] Number of data points in the train set: 157337, number of used features: 474\n",
      "[LightGBM] [Info] Start training from score 5005.514602\n",
      "[LightGBM] [Info] Total Bins 952\n",
      "[LightGBM] [Info] Number of data points in the train set: 157337, number of used features: 476\n",
      "[LightGBM] [Info] Start training from score 5006.136224\n",
      "[LightGBM] [Info] Total Bins 948\n",
      "[LightGBM] [Info] Number of data points in the train set: 157338, number of used features: 474\n",
      "[LightGBM] [Info] Start training from score 5009.415545\n",
      "[LightGBM] [Info] Total Bins 946\n",
      "[LightGBM] [Info] Number of data points in the train set: 157338, number of used features: 473\n",
      "[LightGBM] [Info] Start training from score 5011.359061\n",
      "[LightGBM] [Info] Total Bins 952\n",
      "[LightGBM] [Info] Number of data points in the train set: 157338, number of used features: 476\n",
      "[LightGBM] [Info] Start training from score 5012.640703\n",
      "[LightGBM] [Info] Total Bins 948\n",
      "[LightGBM] [Info] Number of data points in the train set: 157337, number of used features: 474\n",
      "[LightGBM] [Info] Start training from score 5005.514602\n",
      "[LightGBM] [Info] Total Bins 952\n",
      "[LightGBM] [Info] Number of data points in the train set: 157337, number of used features: 476\n",
      "[LightGBM] [Info] Start training from score 5006.136224\n",
      "[LightGBM] [Info] Total Bins 948\n",
      "[LightGBM] [Info] Number of data points in the train set: 157338, number of used features: 474\n",
      "[LightGBM] [Info] Start training from score 5009.415545\n",
      "[LightGBM] [Info] Total Bins 946\n",
      "[LightGBM] [Info] Number of data points in the train set: 157338, number of used features: 473\n",
      "[LightGBM] [Info] Start training from score 5011.359061\n",
      "[LightGBM] [Info] Total Bins 952\n",
      "[LightGBM] [Info] Number of data points in the train set: 157338, number of used features: 476\n",
      "[LightGBM] [Info] Start training from score 5012.640703\n",
      "[LightGBM] [Info] Total Bins 948\n",
      "[LightGBM] [Info] Number of data points in the train set: 157337, number of used features: 474\n",
      "[LightGBM] [Info] Start training from score 5005.514602\n",
      "[LightGBM] [Info] Total Bins 952\n",
      "[LightGBM] [Info] Number of data points in the train set: 157337, number of used features: 476\n",
      "[LightGBM] [Info] Start training from score 5006.136224\n",
      "[LightGBM] [Info] Total Bins 948\n",
      "[LightGBM] [Info] Number of data points in the train set: 157338, number of used features: 474\n",
      "[LightGBM] [Info] Start training from score 5009.415545\n",
      "[LightGBM] [Info] Total Bins 946\n",
      "[LightGBM] [Info] Number of data points in the train set: 157338, number of used features: 473\n",
      "[LightGBM] [Info] Start training from score 5011.359061\n",
      "[LightGBM] [Info] Total Bins 952\n",
      "[LightGBM] [Info] Number of data points in the train set: 157338, number of used features: 476\n",
      "[LightGBM] [Info] Start training from score 5012.640703\n",
      "[LightGBM] [Info] Total Bins 948\n",
      "[LightGBM] [Info] Number of data points in the train set: 157337, number of used features: 474\n",
      "[LightGBM] [Info] Start training from score 5005.514602\n",
      "[LightGBM] [Info] Total Bins 952\n",
      "[LightGBM] [Info] Number of data points in the train set: 157337, number of used features: 476\n",
      "[LightGBM] [Info] Start training from score 5006.136224\n",
      "[LightGBM] [Info] Total Bins 948\n",
      "[LightGBM] [Info] Number of data points in the train set: 157338, number of used features: 474\n",
      "[LightGBM] [Info] Start training from score 5009.415545\n",
      "[LightGBM] [Info] Total Bins 946\n",
      "[LightGBM] [Info] Number of data points in the train set: 157338, number of used features: 473\n",
      "[LightGBM] [Info] Start training from score 5011.359061\n",
      "[LightGBM] [Info] Total Bins 952\n",
      "[LightGBM] [Info] Number of data points in the train set: 157338, number of used features: 476\n",
      "[LightGBM] [Info] Start training from score 5012.640703\n",
      "[LightGBM] [Info] Total Bins 948\n",
      "[LightGBM] [Info] Number of data points in the train set: 157337, number of used features: 474\n",
      "[LightGBM] [Info] Start training from score 5005.514602\n",
      "[LightGBM] [Info] Total Bins 952\n",
      "[LightGBM] [Info] Number of data points in the train set: 157337, number of used features: 476\n",
      "[LightGBM] [Info] Start training from score 5006.136224\n",
      "[LightGBM] [Info] Total Bins 948\n",
      "[LightGBM] [Info] Number of data points in the train set: 157338, number of used features: 474\n",
      "[LightGBM] [Info] Start training from score 5009.415545\n",
      "[LightGBM] [Info] Total Bins 946\n",
      "[LightGBM] [Info] Number of data points in the train set: 157338, number of used features: 473\n",
      "[LightGBM] [Info] Start training from score 5011.359061\n",
      "[LightGBM] [Info] Total Bins 952\n",
      "[LightGBM] [Info] Number of data points in the train set: 157338, number of used features: 476\n",
      "[LightGBM] [Info] Start training from score 5012.640703\n",
      "[LightGBM] [Info] Total Bins 948\n",
      "[LightGBM] [Info] Number of data points in the train set: 157337, number of used features: 474\n",
      "[LightGBM] [Info] Start training from score 5005.514602\n",
      "[LightGBM] [Info] Total Bins 952\n",
      "[LightGBM] [Info] Number of data points in the train set: 157337, number of used features: 476\n",
      "[LightGBM] [Info] Start training from score 5006.136224\n",
      "[LightGBM] [Info] Total Bins 948\n",
      "[LightGBM] [Info] Number of data points in the train set: 157338, number of used features: 474\n",
      "[LightGBM] [Info] Start training from score 5009.415545\n",
      "[LightGBM] [Info] Total Bins 946\n",
      "[LightGBM] [Info] Number of data points in the train set: 157338, number of used features: 473\n",
      "[LightGBM] [Info] Start training from score 5011.359061\n",
      "[LightGBM] [Info] Total Bins 952\n",
      "[LightGBM] [Info] Number of data points in the train set: 157338, number of used features: 476\n",
      "[LightGBM] [Info] Start training from score 5012.640703\n",
      "[LightGBM] [Info] Total Bins 948\n",
      "[LightGBM] [Info] Number of data points in the train set: 157337, number of used features: 474\n",
      "[LightGBM] [Info] Start training from score 5005.514602\n",
      "[LightGBM] [Info] Total Bins 952\n",
      "[LightGBM] [Info] Number of data points in the train set: 157337, number of used features: 476\n",
      "[LightGBM] [Info] Start training from score 5006.136224\n",
      "[LightGBM] [Info] Total Bins 948\n",
      "[LightGBM] [Info] Number of data points in the train set: 157338, number of used features: 474\n",
      "[LightGBM] [Info] Start training from score 5009.415545\n",
      "[LightGBM] [Info] Total Bins 946\n",
      "[LightGBM] [Info] Number of data points in the train set: 157338, number of used features: 473\n",
      "[LightGBM] [Info] Start training from score 5011.359061\n",
      "[LightGBM] [Info] Total Bins 952\n",
      "[LightGBM] [Info] Number of data points in the train set: 157338, number of used features: 476\n",
      "[LightGBM] [Info] Start training from score 5012.640703\n",
      "[LightGBM] [Info] Total Bins 948\n",
      "[LightGBM] [Info] Number of data points in the train set: 157337, number of used features: 474\n",
      "[LightGBM] [Info] Start training from score 5005.514602\n",
      "[LightGBM] [Info] Total Bins 952\n",
      "[LightGBM] [Info] Number of data points in the train set: 157337, number of used features: 476\n",
      "[LightGBM] [Info] Start training from score 5006.136224\n",
      "[LightGBM] [Info] Total Bins 948\n",
      "[LightGBM] [Info] Number of data points in the train set: 157338, number of used features: 474\n",
      "[LightGBM] [Info] Start training from score 5009.415545\n",
      "[LightGBM] [Info] Total Bins 946\n",
      "[LightGBM] [Info] Number of data points in the train set: 157338, number of used features: 473\n",
      "[LightGBM] [Info] Start training from score 5011.359061\n",
      "[LightGBM] [Info] Total Bins 952\n",
      "[LightGBM] [Info] Number of data points in the train set: 157338, number of used features: 476\n",
      "[LightGBM] [Info] Start training from score 5012.640703\n",
      "[LightGBM] [Info] Total Bins 948\n",
      "[LightGBM] [Info] Number of data points in the train set: 157337, number of used features: 474\n",
      "[LightGBM] [Info] Start training from score 5005.514602\n",
      "[LightGBM] [Info] Total Bins 952\n",
      "[LightGBM] [Info] Number of data points in the train set: 157337, number of used features: 476\n",
      "[LightGBM] [Info] Start training from score 5006.136224\n",
      "[LightGBM] [Info] Total Bins 948\n",
      "[LightGBM] [Info] Number of data points in the train set: 157338, number of used features: 474\n",
      "[LightGBM] [Info] Start training from score 5009.415545\n",
      "[LightGBM] [Info] Total Bins 946\n",
      "[LightGBM] [Info] Number of data points in the train set: 157338, number of used features: 473\n",
      "[LightGBM] [Info] Start training from score 5011.359061\n",
      "[LightGBM] [Info] Total Bins 952\n",
      "[LightGBM] [Info] Number of data points in the train set: 157338, number of used features: 476\n",
      "[LightGBM] [Info] Start training from score 5012.640703\n",
      "[LightGBM] [Info] Total Bins 948\n",
      "[LightGBM] [Info] Number of data points in the train set: 157337, number of used features: 474\n",
      "[LightGBM] [Info] Start training from score 5005.514602\n",
      "[LightGBM] [Info] Total Bins 952\n",
      "[LightGBM] [Info] Number of data points in the train set: 157337, number of used features: 476\n",
      "[LightGBM] [Info] Start training from score 5006.136224\n",
      "[LightGBM] [Info] Total Bins 948\n",
      "[LightGBM] [Info] Number of data points in the train set: 157338, number of used features: 474\n",
      "[LightGBM] [Info] Start training from score 5009.415545\n",
      "[LightGBM] [Info] Total Bins 946\n",
      "[LightGBM] [Info] Number of data points in the train set: 157338, number of used features: 473\n",
      "[LightGBM] [Info] Start training from score 5011.359061\n",
      "[LightGBM] [Info] Total Bins 952\n",
      "[LightGBM] [Info] Number of data points in the train set: 157338, number of used features: 476\n",
      "[LightGBM] [Info] Start training from score 5012.640703\n",
      "[LightGBM] [Info] Total Bins 948\n",
      "[LightGBM] [Info] Number of data points in the train set: 157337, number of used features: 474\n",
      "[LightGBM] [Info] Start training from score 5005.514602\n",
      "[LightGBM] [Info] Total Bins 952\n",
      "[LightGBM] [Info] Number of data points in the train set: 157337, number of used features: 476\n",
      "[LightGBM] [Info] Start training from score 5006.136224\n",
      "[LightGBM] [Info] Total Bins 948\n",
      "[LightGBM] [Info] Number of data points in the train set: 157338, number of used features: 474\n",
      "[LightGBM] [Info] Start training from score 5009.415545\n",
      "[LightGBM] [Info] Total Bins 946\n",
      "[LightGBM] [Info] Number of data points in the train set: 157338, number of used features: 473\n",
      "[LightGBM] [Info] Start training from score 5011.359061\n",
      "[LightGBM] [Info] Total Bins 952\n",
      "[LightGBM] [Info] Number of data points in the train set: 157338, number of used features: 476\n",
      "[LightGBM] [Info] Start training from score 5012.640703\n",
      "[LightGBM] [Info] Total Bins 948\n",
      "[LightGBM] [Info] Number of data points in the train set: 157337, number of used features: 474\n",
      "[LightGBM] [Info] Start training from score 5005.514602\n",
      "[LightGBM] [Info] Total Bins 952\n",
      "[LightGBM] [Info] Number of data points in the train set: 157337, number of used features: 476\n",
      "[LightGBM] [Info] Start training from score 5006.136224\n",
      "[LightGBM] [Info] Total Bins 948\n",
      "[LightGBM] [Info] Number of data points in the train set: 157338, number of used features: 474\n",
      "[LightGBM] [Info] Start training from score 5009.415545\n",
      "[LightGBM] [Info] Total Bins 946\n",
      "[LightGBM] [Info] Number of data points in the train set: 157338, number of used features: 473\n",
      "[LightGBM] [Info] Start training from score 5011.359061\n",
      "[LightGBM] [Info] Total Bins 952\n",
      "[LightGBM] [Info] Number of data points in the train set: 157338, number of used features: 476\n",
      "[LightGBM] [Info] Start training from score 5012.640703\n",
      "[LightGBM] [Info] Total Bins 948\n",
      "[LightGBM] [Info] Number of data points in the train set: 157337, number of used features: 474\n",
      "[LightGBM] [Info] Start training from score 5005.514602\n",
      "[LightGBM] [Info] Total Bins 952\n",
      "[LightGBM] [Info] Number of data points in the train set: 157337, number of used features: 476\n",
      "[LightGBM] [Info] Start training from score 5006.136224\n",
      "[LightGBM] [Info] Total Bins 948\n",
      "[LightGBM] [Info] Number of data points in the train set: 157338, number of used features: 474\n",
      "[LightGBM] [Info] Start training from score 5009.415545\n",
      "[LightGBM] [Info] Total Bins 946\n",
      "[LightGBM] [Info] Number of data points in the train set: 157338, number of used features: 473\n",
      "[LightGBM] [Info] Start training from score 5011.359061\n",
      "[LightGBM] [Info] Total Bins 952\n",
      "[LightGBM] [Info] Number of data points in the train set: 157338, number of used features: 476\n",
      "[LightGBM] [Info] Start training from score 5012.640703\n",
      "[LightGBM] [Info] Total Bins 948\n",
      "[LightGBM] [Info] Number of data points in the train set: 157337, number of used features: 474\n",
      "[LightGBM] [Info] Start training from score 5005.514602\n",
      "[LightGBM] [Info] Total Bins 952\n",
      "[LightGBM] [Info] Number of data points in the train set: 157337, number of used features: 476\n",
      "[LightGBM] [Info] Start training from score 5006.136224\n",
      "[LightGBM] [Info] Total Bins 948\n",
      "[LightGBM] [Info] Number of data points in the train set: 157338, number of used features: 474\n",
      "[LightGBM] [Info] Start training from score 5009.415545\n",
      "[LightGBM] [Info] Total Bins 946\n",
      "[LightGBM] [Info] Number of data points in the train set: 157338, number of used features: 473\n",
      "[LightGBM] [Info] Start training from score 5011.359061\n",
      "[LightGBM] [Info] Total Bins 952\n",
      "[LightGBM] [Info] Number of data points in the train set: 157338, number of used features: 476\n",
      "[LightGBM] [Info] Start training from score 5012.640703\n",
      "[LightGBM] [Info] Total Bins 948\n",
      "[LightGBM] [Info] Number of data points in the train set: 157337, number of used features: 474\n",
      "[LightGBM] [Info] Start training from score 5005.514602\n",
      "[LightGBM] [Info] Total Bins 952\n",
      "[LightGBM] [Info] Number of data points in the train set: 157337, number of used features: 476\n",
      "[LightGBM] [Info] Start training from score 5006.136224\n",
      "[LightGBM] [Info] Total Bins 948\n",
      "[LightGBM] [Info] Number of data points in the train set: 157338, number of used features: 474\n",
      "[LightGBM] [Info] Start training from score 5009.415545\n",
      "[LightGBM] [Info] Total Bins 946\n",
      "[LightGBM] [Info] Number of data points in the train set: 157338, number of used features: 473\n",
      "[LightGBM] [Info] Start training from score 5011.359061\n",
      "[LightGBM] [Info] Total Bins 952\n",
      "[LightGBM] [Info] Number of data points in the train set: 157338, number of used features: 476\n",
      "[LightGBM] [Info] Start training from score 5012.640703\n",
      "[LightGBM] [Info] Total Bins 948\n",
      "[LightGBM] [Info] Number of data points in the train set: 157337, number of used features: 474\n",
      "[LightGBM] [Info] Start training from score 5005.514602\n",
      "[LightGBM] [Info] Total Bins 952\n",
      "[LightGBM] [Info] Number of data points in the train set: 157337, number of used features: 476\n",
      "[LightGBM] [Info] Start training from score 5006.136224\n",
      "[LightGBM] [Info] Total Bins 948\n",
      "[LightGBM] [Info] Number of data points in the train set: 157338, number of used features: 474\n",
      "[LightGBM] [Info] Start training from score 5009.415545\n",
      "[LightGBM] [Info] Total Bins 946\n",
      "[LightGBM] [Info] Number of data points in the train set: 157338, number of used features: 473\n",
      "[LightGBM] [Info] Start training from score 5011.359061\n",
      "[LightGBM] [Info] Total Bins 952\n",
      "[LightGBM] [Info] Number of data points in the train set: 157338, number of used features: 476\n",
      "[LightGBM] [Info] Start training from score 5012.640703\n",
      "[LightGBM] [Info] Total Bins 948\n",
      "[LightGBM] [Info] Number of data points in the train set: 157337, number of used features: 474\n",
      "[LightGBM] [Info] Start training from score 5005.514602\n",
      "[LightGBM] [Info] Total Bins 952\n",
      "[LightGBM] [Info] Number of data points in the train set: 157337, number of used features: 476\n",
      "[LightGBM] [Info] Start training from score 5006.136224\n",
      "[LightGBM] [Info] Total Bins 948\n",
      "[LightGBM] [Info] Number of data points in the train set: 157338, number of used features: 474\n",
      "[LightGBM] [Info] Start training from score 5009.415545\n",
      "[LightGBM] [Info] Total Bins 946\n",
      "[LightGBM] [Info] Number of data points in the train set: 157338, number of used features: 473\n",
      "[LightGBM] [Info] Start training from score 5011.359061\n",
      "[LightGBM] [Info] Total Bins 952\n",
      "[LightGBM] [Info] Number of data points in the train set: 157338, number of used features: 476\n",
      "[LightGBM] [Info] Start training from score 5012.640703\n",
      "[LightGBM] [Info] Total Bins 948\n",
      "[LightGBM] [Info] Number of data points in the train set: 157337, number of used features: 474\n",
      "[LightGBM] [Info] Start training from score 5005.514602\n",
      "[LightGBM] [Info] Total Bins 952\n",
      "[LightGBM] [Info] Number of data points in the train set: 157337, number of used features: 476\n",
      "[LightGBM] [Info] Start training from score 5006.136224\n",
      "[LightGBM] [Info] Total Bins 948\n",
      "[LightGBM] [Info] Number of data points in the train set: 157338, number of used features: 474\n",
      "[LightGBM] [Info] Start training from score 5009.415545\n",
      "[LightGBM] [Info] Total Bins 946\n",
      "[LightGBM] [Info] Number of data points in the train set: 157338, number of used features: 473\n",
      "[LightGBM] [Info] Start training from score 5011.359061\n",
      "[LightGBM] [Info] Total Bins 952\n",
      "[LightGBM] [Info] Number of data points in the train set: 157338, number of used features: 476\n",
      "[LightGBM] [Info] Start training from score 5012.640703\n",
      "[LightGBM] [Info] Total Bins 948\n",
      "[LightGBM] [Info] Number of data points in the train set: 157337, number of used features: 474\n",
      "[LightGBM] [Info] Start training from score 5005.514602\n",
      "[LightGBM] [Info] Total Bins 952\n",
      "[LightGBM] [Info] Number of data points in the train set: 157337, number of used features: 476\n",
      "[LightGBM] [Info] Start training from score 5006.136224\n",
      "[LightGBM] [Info] Total Bins 948\n",
      "[LightGBM] [Info] Number of data points in the train set: 157338, number of used features: 474\n",
      "[LightGBM] [Info] Start training from score 5009.415545\n",
      "[LightGBM] [Info] Total Bins 946\n",
      "[LightGBM] [Info] Number of data points in the train set: 157338, number of used features: 473\n",
      "[LightGBM] [Info] Start training from score 5011.359061\n",
      "[LightGBM] [Info] Total Bins 952\n",
      "[LightGBM] [Info] Number of data points in the train set: 157338, number of used features: 476\n",
      "[LightGBM] [Info] Start training from score 5012.640703\n",
      "[LightGBM] [Info] Total Bins 948\n",
      "[LightGBM] [Info] Number of data points in the train set: 157337, number of used features: 474\n",
      "[LightGBM] [Info] Start training from score 5005.514602\n",
      "[LightGBM] [Info] Total Bins 952\n",
      "[LightGBM] [Info] Number of data points in the train set: 157337, number of used features: 476\n",
      "[LightGBM] [Info] Start training from score 5006.136224\n",
      "[LightGBM] [Info] Total Bins 948\n",
      "[LightGBM] [Info] Number of data points in the train set: 157338, number of used features: 474\n",
      "[LightGBM] [Info] Start training from score 5009.415545\n",
      "[LightGBM] [Info] Total Bins 946\n",
      "[LightGBM] [Info] Number of data points in the train set: 157338, number of used features: 473\n",
      "[LightGBM] [Info] Start training from score 5011.359061\n",
      "[LightGBM] [Info] Total Bins 952\n",
      "[LightGBM] [Info] Number of data points in the train set: 157338, number of used features: 476\n",
      "[LightGBM] [Info] Start training from score 5012.640703\n",
      "[LightGBM] [Info] Total Bins 964\n",
      "[LightGBM] [Info] Number of data points in the train set: 196672, number of used features: 482\n",
      "[LightGBM] [Info] Start training from score 5009.013235\n",
      "Best model for LightGBM: Pipeline(steps=[('preprocessor',\n",
      "                 ColumnTransformer(n_jobs=-1, remainder='passthrough',\n",
      "                                   transformers=[('continuous',\n",
      "                                                  Pipeline(steps=[('imputer',\n",
      "                                                                   SimpleImputer()),\n",
      "                                                                  ('scaler',\n",
      "                                                                   StandardScaler()),\n",
      "                                                                  ('discretizer',\n",
      "                                                                   KBinsDiscretizer(strategy='uniform'))]),\n",
      "                                                  ['Power', 'Kilometer',\n",
      "                                                   'RegistrationYear']),\n",
      "                                                 ('ord_nom_cat',\n",
      "                                                  Pipeline(steps=[('imputer',\n",
      "                                                                   SimpleImputer(missing_values='unknown',\n",
      "                                                                                 strategy='most_frequent')),\n",
      "                                                                  ('onehot',\n",
      "                                                                   OneHotEncoder(drop='first',\n",
      "                                                                                 handle_unknown='ignore'))]),\n",
      "                                                  ['Model', 'VehicleBrand',\n",
      "                                                   'Gearbox', 'FuelType',\n",
      "                                                   'Repaired'])])),\n",
      "                ('regressor',\n",
      "                 LGBMRegressor(force_col_wise=True, learning_rate=0.3,\n",
      "                               n_estimators=40, num_leaves=30,\n",
      "                               random_state=42))])\n",
      "[LightGBM] [Info] Total Bins 964\n",
      "[LightGBM] [Info] Number of data points in the train set: 196672, number of used features: 482\n",
      "[LightGBM] [Info] Start training from score 5009.013235\n",
      "Time for LightGBM on fit: 0.03 min\n",
      "RMSE on cross-validation for LightGBM: 2211.2408075203693\n"
     ]
    }
   ],
   "source": [
    "gs_lgb = GridSearchCV(model_pipeline_lgb, param_grid_lgb, cv=5, scoring=rmse_scorer)\n",
    "gs_lgb.fit(X_train, y_train)\n",
    "\n",
    "best_estimator_lgb = gs_lgb.best_estimator_\n",
    "print(\"Best model for LightGBM:\", best_estimator_lgb)\n",
    "\n",
    "rmse_scores_lgb = -gs_lgb.best_score_\n",
    "print(f\"RMSE on cross-validation for LightGBM: {rmse_scores_lgb}\")\n",
    "\n",
    "start_time = time.time()\n",
    "best_estimator_lgb.fit(X_train, y_train)\n",
    "fit_time_lgb = round((time.time() - start_time)/60, 2)\n",
    "print(f\"Time for LightGBM on fit: {fit_time_lgb} min\")"
   ]
  },
  {
   "cell_type": "code",
   "execution_count": 45,
   "metadata": {},
   "outputs": [
    {
     "name": "stdout",
     "output_type": "stream",
     "text": [
      "Time for LightGBM on predict: 0.9091644287109375 seconds\n"
     ]
    }
   ],
   "source": [
    "start_time = time.time()\n",
    "predictions = best_estimator_lgb.predict(X_train)\n",
    "predict_time_lgb = time.time() - start_time\n",
    "print(f\"Time for LightGBM on predict: {predict_time_lgb} seconds\")"
   ]
  },
  {
   "cell_type": "markdown",
   "metadata": {},
   "source": [
    "#### Dummy regression"
   ]
  },
  {
   "cell_type": "code",
   "execution_count": 46,
   "metadata": {},
   "outputs": [
    {
     "name": "stdout",
     "output_type": "stream",
     "text": [
      "Dummy Regressor RMSE: 4671.010751466931\n"
     ]
    }
   ],
   "source": [
    "# Сравнение с DummyRegressor\n",
    "start_time = time.time()\n",
    "dummy_regressor = DummyRegressor(strategy='mean')\n",
    "dummy_regressor.fit(X_train, y_train)\n",
    "fit_time_dr = round((time.time() - start_time) / 60, 2)\n",
    "\n",
    "start_time = time.time()\n",
    "y_pred_dummy = dummy_regressor.predict(X_train)\n",
    "end_time_ = time.time()\n",
    "predict_time_dr = round(end_time_ - start_time,2)\n",
    "\n",
    "rmse_dummy = np.sqrt(mean_squared_error(y_train, y_pred_dummy))\n",
    "print(f\"Dummy Regressor RMSE: {rmse_dummy}\")"
   ]
  },
  {
   "cell_type": "markdown",
   "metadata": {},
   "source": [
    "## Анализ моделей"
   ]
  },
  {
   "cell_type": "markdown",
   "metadata": {},
   "source": [
    "### Определение лучшей модели по RMSE"
   ]
  },
  {
   "cell_type": "code",
   "execution_count": 47,
   "metadata": {},
   "outputs": [
    {
     "name": "stdout",
     "output_type": "stream",
     "text": [
      "Best model by RMSE: Gradient Boosting\n",
      "Best model by fit time: LightGBM\n",
      "Best model by score time: Linear Regression\n",
      "Best model overall: Gradient Boosting\n"
     ]
    }
   ],
   "source": [
    "rmse_scores = {\n",
    "    'Linear Regression': rmse_scores_lr,\n",
    "    'Gradient Boosting': rmse_scores_gb,\n",
    "    'LightGBM': rmse_scores_lgb,\n",
    "    'Dummy Regressor': rmse_dummy\n",
    "}\n",
    "\n",
    "fit_time = {\n",
    "    'Linear Regression': fit_time_lr,\n",
    "    'Gradient Boosting': fit_time_gb,\n",
    "    'LightGBM': fit_time_lgb\n",
    "}\n",
    "\n",
    "score_time = {\n",
    "    'Linear Regression': predict_time_lr,\n",
    "    'Gradient Boosting': predict_time_gb,\n",
    "    'LightGBM': predict_time_lgb\n",
    "}\n",
    "\n",
    "# Вычисление лучшей модели по RMSE\n",
    "best_model_by_rmse = min(rmse_scores, key=rmse_scores.get)\n",
    "print(f\"Best model by RMSE: {best_model_by_rmse}\")\n",
    "\n",
    "# Вычисление лучшей модели по времени обучения\n",
    "best_model_by_fit_time = min(fit_time, key=fit_time.get)\n",
    "print(f\"Best model by fit time: {best_model_by_fit_time}\")\n",
    "\n",
    "# Вычисление лучшей модели по времени предсказания\n",
    "best_model_by_score_time = min(score_time, key=score_time.get)\n",
    "print(f\"Best model by score time: {best_model_by_score_time}\")\n",
    "\n",
    "best_model_name = best_model_by_rmse\n",
    "if rmse_scores[best_model_by_rmse] == rmse_scores[best_model_by_fit_time]:\n",
    "    best_model_name = best_model_by_fit_time\n",
    "print(f\"Best model overall: {best_model_name}\")"
   ]
  },
  {
   "cell_type": "markdown",
   "metadata": {},
   "source": [
    "### Проверка качества лучшей модели на тестовой выборке"
   ]
  },
  {
   "cell_type": "code",
   "execution_count": 62,
   "metadata": {},
   "outputs": [
    {
     "name": "stdout",
     "output_type": "stream",
     "text": [
      "RMSE on test data for Gradient Boosting: 2171.024237885332\n"
     ]
    }
   ],
   "source": [
    "if best_model_name == 'Linear Regression':\n",
    "    best_model = model_pipeline_lr\n",
    "    best_estimator_ = best_estimator_lr\n",
    "elif best_model_name == 'Gradient Boosting':\n",
    "    best_model = model_pipeline_gb\n",
    "    best_estimator_ = best_estimator_gb\n",
    "elif best_model_name == 'LightGBM':\n",
    "    best_model = model_pipeline_lgb\n",
    "    best_estimator_ = best_estimator_lgb\n",
    "\n",
    "# Предсказанее на лучших гиперпараметрах лучшей модели\n",
    "predictions = best_estimator_.predict(X_test)\n",
    "\n",
    "# Оцениваем качество предсказаний\n",
    "rmse_scores_best = mean_squared_error(y_test, predictions, squared=False)\n",
    "print(f\"RMSE on test data for {best_model_name}: {rmse_scores_best}\")"
   ]
  },
  {
   "cell_type": "markdown",
   "metadata": {},
   "source": [
    "### Сравнение с DummyRegressor"
   ]
  },
  {
   "cell_type": "code",
   "execution_count": 49,
   "metadata": {},
   "outputs": [
    {
     "name": "stdout",
     "output_type": "stream",
     "text": [
      "Dummy Regressor RMSE on test set: 4671.453951543764\n"
     ]
    }
   ],
   "source": [
    "dummy_regressor = DummyRegressor(strategy='mean')\n",
    "dummy_regressor.fit(X_train, y_train)\n",
    "y_pred_dummy = dummy_regressor.predict(X_test)\n",
    "rmse_dummy = np.sqrt(mean_squared_error(y_test, y_pred_dummy))\n",
    "print(f\"Dummy Regressor RMSE on test set: {rmse_dummy}\")"
   ]
  },
  {
   "cell_type": "markdown",
   "metadata": {},
   "source": [
    "Исходя из полученных в процессе обучения данных, мы можем сделать следующие выводы о производительности и качестве моделей линейной регрессии, градиентного бустинга, LightGBM и Dummy Regressor:\n",
    "\n",
    "**Линейная регрессия:**\n",
    "- Время обучения: 0.61 минуты\n",
    "- Время предсказания: 0.6 секунды\n",
    "- RMSE на кросс-валидации: 2462.91447224314\n",
    "\n",
    "**Градиентный бустинг:**\n",
    "- Время обучения: 20.18 минуты\n",
    "- Время предсказания: 0.93 секунды\n",
    "- RMSE на кросс-валидации: 2169.730316481249\n",
    "\n",
    "**LightGBM:**\n",
    "- Время обучения: 3.69 минуты\n",
    "- Время предсказания: 3.27 секунды\n",
    "- RMSE на кросс-валидации: 2211.2408075203693\n",
    "\n",
    "**Dummy Regressor:**\n",
    "- RMSE: 4671.010751466931\n",
    "\n",
    "**Вывод:** Основываясь на новых данных, Gradient Boosting выглядит как наиболее подходящая модель, учитывая баланс между качеством предсказаний и временем обучения и предсказания. Однако, если важнее минимизация некорректных предсказаний, то лучше себя показывает модель линейной регрессии. В то же время, LightGBM демонстрирует хорошие результаты, но с немного более высоким RMSE по сравнению с Gradient Boosting. Dummy Regressor, как ожидалось, показывает наихудшие результаты среди всех моделей.\n",
    "\n",
    "В целом, выбор модели зависит от конкретных требований к задаче. Если важнее скорость обучения и предсказания, то Gradient Boosting и линейная регрессия являются хорошими кандидатами. Если же важнее точность предсказаний, то стоит обратить внимание на Gradient Boosting. LightGBM также представляет собой сильную альтернативу, особенно если требуется баланс между скоростью и точностью.\n",
    "\n",
    "- **Лучшая модель по RMSE:** Gradient Boosting\n",
    "- **Лучшая модель по времени обучения:** Линейная регрессия\n",
    "- **Лучшая модель по времени предсказания:** Линейная регрессия\n",
    "- **Лучшая модель в целом:** Gradient Boosting\n",
    "\n",
    "\n",
    "- **RMSE на тестовых данных для Gradient Boosting**: 2246.277477065144\n",
    "- **RMSE Dummy Regressor на тестовом наборе**: 4671.453951543764"
   ]
  }
 ],
 "metadata": {
  "ExecuteTimeLog": [
   {
    "duration": 1373,
    "start_time": "2024-04-03T03:16:54.460Z"
   },
   {
    "duration": 2737,
    "start_time": "2024-04-03T03:17:56.934Z"
   },
   {
    "duration": 4,
    "start_time": "2024-04-03T03:19:35.916Z"
   },
   {
    "duration": 4,
    "start_time": "2024-04-03T03:19:36.954Z"
   },
   {
    "duration": 3,
    "start_time": "2024-04-03T03:19:37.695Z"
   },
   {
    "duration": 3,
    "start_time": "2024-04-03T03:19:41.016Z"
   },
   {
    "duration": 3,
    "start_time": "2024-04-03T03:19:41.517Z"
   },
   {
    "duration": 4,
    "start_time": "2024-04-03T03:19:41.908Z"
   },
   {
    "duration": 4,
    "start_time": "2024-04-03T03:19:42.101Z"
   },
   {
    "duration": 5,
    "start_time": "2024-04-03T03:19:42.273Z"
   },
   {
    "duration": 3,
    "start_time": "2024-04-03T03:19:42.443Z"
   },
   {
    "duration": 3,
    "start_time": "2024-04-03T03:19:42.604Z"
   },
   {
    "duration": 4,
    "start_time": "2024-04-03T03:19:43.575Z"
   },
   {
    "duration": 224,
    "start_time": "2024-04-03T03:19:59.849Z"
   },
   {
    "duration": 3,
    "start_time": "2024-04-03T03:20:33.869Z"
   },
   {
    "duration": 1489,
    "start_time": "2024-04-03T03:20:36.079Z"
   },
   {
    "duration": 4,
    "start_time": "2024-04-03T03:22:10.897Z"
   },
   {
    "duration": 1344,
    "start_time": "2024-04-03T03:22:11.809Z"
   },
   {
    "duration": 4,
    "start_time": "2024-04-03T03:23:08.168Z"
   },
   {
    "duration": 1448,
    "start_time": "2024-04-03T03:23:09.478Z"
   },
   {
    "duration": 5,
    "start_time": "2024-04-03T03:23:31.597Z"
   },
   {
    "duration": 1448,
    "start_time": "2024-04-03T03:23:33.208Z"
   },
   {
    "duration": 1116,
    "start_time": "2024-04-03T11:19:52.454Z"
   },
   {
    "duration": 8,
    "start_time": "2024-04-03T11:20:09.189Z"
   },
   {
    "duration": 8,
    "start_time": "2024-04-03T11:20:35.774Z"
   },
   {
    "duration": 9,
    "start_time": "2024-04-03T11:21:46.404Z"
   },
   {
    "duration": 8,
    "start_time": "2024-04-03T11:21:51.514Z"
   },
   {
    "duration": 391,
    "start_time": "2024-04-03T11:22:51.093Z"
   },
   {
    "duration": 7,
    "start_time": "2024-04-03T11:24:22.396Z"
   },
   {
    "duration": 175,
    "start_time": "2024-04-03T11:29:44.955Z"
   },
   {
    "duration": 577,
    "start_time": "2024-04-03T11:29:49.915Z"
   },
   {
    "duration": 5063,
    "start_time": "2024-04-03T11:29:56.863Z"
   },
   {
    "duration": 5326,
    "start_time": "2024-04-03T11:30:58.077Z"
   },
   {
    "duration": 606,
    "start_time": "2024-04-03T11:31:06.019Z"
   },
   {
    "duration": 166,
    "start_time": "2024-04-03T11:31:08.892Z"
   },
   {
    "duration": 143,
    "start_time": "2024-04-03T11:31:15.200Z"
   },
   {
    "duration": 556,
    "start_time": "2024-04-03T11:31:21.520Z"
   },
   {
    "duration": 209,
    "start_time": "2024-04-03T11:36:52.379Z"
   },
   {
    "duration": 405,
    "start_time": "2024-04-03T11:49:03.302Z"
   },
   {
    "duration": 7,
    "start_time": "2024-04-03T11:50:38.595Z"
   },
   {
    "duration": 7,
    "start_time": "2024-04-03T11:50:46.803Z"
   },
   {
    "duration": 8,
    "start_time": "2024-04-03T11:52:53.281Z"
   },
   {
    "duration": 89,
    "start_time": "2024-04-03T11:53:01.278Z"
   },
   {
    "duration": 1661,
    "start_time": "2024-04-04T06:59:16.137Z"
   },
   {
    "duration": 2905,
    "start_time": "2024-04-04T06:59:17.800Z"
   },
   {
    "duration": 4,
    "start_time": "2024-04-04T06:59:20.707Z"
   },
   {
    "duration": 1906,
    "start_time": "2024-04-04T06:59:20.713Z"
   },
   {
    "duration": 269,
    "start_time": "2024-04-04T06:59:22.622Z"
   },
   {
    "duration": 543,
    "start_time": "2024-04-04T06:59:22.892Z"
   },
   {
    "duration": 12,
    "start_time": "2024-04-04T06:59:23.436Z"
   },
   {
    "duration": 118,
    "start_time": "2024-04-04T06:59:23.449Z"
   },
   {
    "duration": 117,
    "start_time": "2024-04-04T07:00:10.557Z"
   },
   {
    "duration": 103,
    "start_time": "2024-04-04T07:00:23.445Z"
   },
   {
    "duration": 70,
    "start_time": "2024-04-04T07:02:21.812Z"
   },
   {
    "duration": 67,
    "start_time": "2024-04-04T07:02:23.591Z"
   },
   {
    "duration": 25,
    "start_time": "2024-04-04T07:04:12.612Z"
   },
   {
    "duration": 57,
    "start_time": "2024-04-04T07:05:04.064Z"
   },
   {
    "duration": 51,
    "start_time": "2024-04-04T07:05:10.057Z"
   },
   {
    "duration": 50,
    "start_time": "2024-04-04T07:06:29.418Z"
   },
   {
    "duration": 63,
    "start_time": "2024-04-04T07:14:35.466Z"
   },
   {
    "duration": 77,
    "start_time": "2024-04-04T07:15:16.662Z"
   },
   {
    "duration": 79,
    "start_time": "2024-04-04T07:15:20.550Z"
   },
   {
    "duration": 80,
    "start_time": "2024-04-04T07:15:32.843Z"
   },
   {
    "duration": 104,
    "start_time": "2024-04-04T07:15:41.246Z"
   },
   {
    "duration": 581,
    "start_time": "2024-04-04T07:21:33.106Z"
   },
   {
    "duration": 1443,
    "start_time": "2024-04-04T07:21:43.331Z"
   },
   {
    "duration": 927,
    "start_time": "2024-04-04T07:21:44.776Z"
   },
   {
    "duration": 5,
    "start_time": "2024-04-04T07:21:45.705Z"
   },
   {
    "duration": 1951,
    "start_time": "2024-04-04T07:21:45.711Z"
   },
   {
    "duration": 306,
    "start_time": "2024-04-04T07:21:47.664Z"
   },
   {
    "duration": 515,
    "start_time": "2024-04-04T07:21:47.972Z"
   },
   {
    "duration": 12,
    "start_time": "2024-04-04T07:21:48.489Z"
   },
   {
    "duration": 119,
    "start_time": "2024-04-04T07:21:48.503Z"
   },
   {
    "duration": 75,
    "start_time": "2024-04-04T07:21:48.624Z"
   },
   {
    "duration": 47,
    "start_time": "2024-04-04T07:21:48.700Z"
   },
   {
    "duration": 82,
    "start_time": "2024-04-04T07:21:48.748Z"
   },
   {
    "duration": 741,
    "start_time": "2024-04-04T07:21:48.831Z"
   },
   {
    "duration": 28,
    "start_time": "2024-04-04T07:22:35.737Z"
   },
   {
    "duration": 61,
    "start_time": "2024-04-04T07:22:52.900Z"
   },
   {
    "duration": 76,
    "start_time": "2024-04-04T07:23:45.389Z"
   },
   {
    "duration": 1197,
    "start_time": "2024-04-04T07:25:24.126Z"
   },
   {
    "duration": 1042,
    "start_time": "2024-04-04T07:25:35.383Z"
   },
   {
    "duration": 32,
    "start_time": "2024-04-04T07:26:03.214Z"
   },
   {
    "duration": 59,
    "start_time": "2024-04-04T07:26:40.762Z"
   },
   {
    "duration": 73,
    "start_time": "2024-04-04T07:26:46.828Z"
   },
   {
    "duration": 2039,
    "start_time": "2024-04-04T08:54:36.732Z"
   },
   {
    "duration": 1408,
    "start_time": "2024-04-04T08:54:41.265Z"
   },
   {
    "duration": 871,
    "start_time": "2024-04-04T08:54:42.675Z"
   },
   {
    "duration": 4,
    "start_time": "2024-04-04T08:54:43.548Z"
   },
   {
    "duration": 1880,
    "start_time": "2024-04-04T08:54:43.553Z"
   },
   {
    "duration": 281,
    "start_time": "2024-04-04T08:54:45.435Z"
   },
   {
    "duration": 524,
    "start_time": "2024-04-04T08:54:45.718Z"
   },
   {
    "duration": 11,
    "start_time": "2024-04-04T08:54:46.243Z"
   },
   {
    "duration": 112,
    "start_time": "2024-04-04T08:54:46.265Z"
   },
   {
    "duration": 68,
    "start_time": "2024-04-04T08:54:46.378Z"
   },
   {
    "duration": 57,
    "start_time": "2024-04-04T08:54:46.448Z"
   },
   {
    "duration": 95,
    "start_time": "2024-04-04T08:54:46.506Z"
   },
   {
    "duration": 94,
    "start_time": "2024-04-04T08:54:46.604Z"
   },
   {
    "duration": 88,
    "start_time": "2024-04-04T08:54:46.700Z"
   },
   {
    "duration": 27,
    "start_time": "2024-04-04T08:54:46.790Z"
   },
   {
    "duration": 1990,
    "start_time": "2024-04-04T08:54:46.819Z"
   },
   {
    "duration": 1254,
    "start_time": "2024-04-04T08:55:28.706Z"
   },
   {
    "duration": 19,
    "start_time": "2024-04-04T08:57:09.960Z"
   },
   {
    "duration": 1027,
    "start_time": "2024-04-04T08:57:10.949Z"
   },
   {
    "duration": 3,
    "start_time": "2024-04-04T09:00:13.876Z"
   },
   {
    "duration": 326,
    "start_time": "2024-04-04T09:00:38.198Z"
   },
   {
    "duration": 3,
    "start_time": "2024-04-04T09:00:57.966Z"
   },
   {
    "duration": 3,
    "start_time": "2024-04-04T09:01:20.453Z"
   },
   {
    "duration": 440,
    "start_time": "2024-04-04T09:11:59.408Z"
   },
   {
    "duration": 37,
    "start_time": "2024-04-04T09:13:48.417Z"
   },
   {
    "duration": 1425,
    "start_time": "2024-04-04T09:13:52.966Z"
   },
   {
    "duration": 895,
    "start_time": "2024-04-04T09:13:54.393Z"
   },
   {
    "duration": 5,
    "start_time": "2024-04-04T09:13:55.289Z"
   },
   {
    "duration": 14,
    "start_time": "2024-04-04T09:13:55.295Z"
   },
   {
    "duration": 1843,
    "start_time": "2024-04-04T09:13:55.312Z"
   },
   {
    "duration": 261,
    "start_time": "2024-04-04T09:13:57.156Z"
   },
   {
    "duration": 519,
    "start_time": "2024-04-04T09:13:57.419Z"
   },
   {
    "duration": 11,
    "start_time": "2024-04-04T09:13:57.941Z"
   },
   {
    "duration": 120,
    "start_time": "2024-04-04T09:13:57.954Z"
   },
   {
    "duration": 64,
    "start_time": "2024-04-04T09:13:58.075Z"
   },
   {
    "duration": 54,
    "start_time": "2024-04-04T09:13:58.141Z"
   },
   {
    "duration": 84,
    "start_time": "2024-04-04T09:13:58.196Z"
   },
   {
    "duration": 89,
    "start_time": "2024-04-04T09:13:58.281Z"
   },
   {
    "duration": 77,
    "start_time": "2024-04-04T09:13:58.372Z"
   },
   {
    "duration": 28,
    "start_time": "2024-04-04T09:13:58.450Z"
   },
   {
    "duration": 1076,
    "start_time": "2024-04-04T09:13:58.480Z"
   },
   {
    "duration": 342,
    "start_time": "2024-04-04T09:13:59.557Z"
   },
   {
    "duration": 48433,
    "start_time": "2024-04-04T09:13:59.900Z"
   },
   {
    "duration": 65,
    "start_time": "2024-04-04T09:21:01.353Z"
   },
   {
    "duration": 66,
    "start_time": "2024-04-04T09:21:10.867Z"
   },
   {
    "duration": 1394,
    "start_time": "2024-04-04T09:24:23.584Z"
   },
   {
    "duration": 872,
    "start_time": "2024-04-04T09:24:24.980Z"
   },
   {
    "duration": 6,
    "start_time": "2024-04-04T09:24:25.854Z"
   },
   {
    "duration": 7,
    "start_time": "2024-04-04T09:24:25.865Z"
   },
   {
    "duration": 1820,
    "start_time": "2024-04-04T09:24:25.875Z"
   },
   {
    "duration": 271,
    "start_time": "2024-04-04T09:24:27.696Z"
   },
   {
    "duration": 519,
    "start_time": "2024-04-04T09:24:27.968Z"
   },
   {
    "duration": 12,
    "start_time": "2024-04-04T09:24:28.488Z"
   },
   {
    "duration": 123,
    "start_time": "2024-04-04T09:24:28.501Z"
   },
   {
    "duration": 73,
    "start_time": "2024-04-04T09:24:28.625Z"
   },
   {
    "duration": 84,
    "start_time": "2024-04-04T09:24:28.700Z"
   },
   {
    "duration": 88,
    "start_time": "2024-04-04T09:24:28.786Z"
   },
   {
    "duration": 102,
    "start_time": "2024-04-04T09:24:28.876Z"
   },
   {
    "duration": 90,
    "start_time": "2024-04-04T09:24:28.980Z"
   },
   {
    "duration": 24,
    "start_time": "2024-04-04T09:24:29.071Z"
   },
   {
    "duration": 1055,
    "start_time": "2024-04-04T09:24:29.097Z"
   },
   {
    "duration": 325,
    "start_time": "2024-04-04T09:24:30.154Z"
   },
   {
    "duration": 147,
    "start_time": "2024-04-04T09:25:40.024Z"
   },
   {
    "duration": 48718,
    "start_time": "2024-04-04T09:26:16.619Z"
   },
   {
    "duration": 109,
    "start_time": "2024-04-04T10:21:26.607Z"
   },
   {
    "duration": 90,
    "start_time": "2024-04-04T10:21:29.311Z"
   },
   {
    "duration": 48056,
    "start_time": "2024-04-04T10:23:07.896Z"
   },
   {
    "duration": 1518,
    "start_time": "2024-04-04T10:29:53.361Z"
   },
   {
    "duration": 879,
    "start_time": "2024-04-04T10:29:54.881Z"
   },
   {
    "duration": 4,
    "start_time": "2024-04-04T10:29:55.762Z"
   },
   {
    "duration": 18,
    "start_time": "2024-04-04T10:29:55.769Z"
   },
   {
    "duration": 1852,
    "start_time": "2024-04-04T10:29:55.788Z"
   },
   {
    "duration": 297,
    "start_time": "2024-04-04T10:29:57.641Z"
   },
   {
    "duration": 507,
    "start_time": "2024-04-04T10:29:57.940Z"
   },
   {
    "duration": 17,
    "start_time": "2024-04-04T10:29:58.449Z"
   },
   {
    "duration": 108,
    "start_time": "2024-04-04T10:29:58.467Z"
   },
   {
    "duration": 70,
    "start_time": "2024-04-04T10:29:58.577Z"
   },
   {
    "duration": 83,
    "start_time": "2024-04-04T10:29:58.649Z"
   },
   {
    "duration": 84,
    "start_time": "2024-04-04T10:29:58.734Z"
   },
   {
    "duration": 87,
    "start_time": "2024-04-04T10:29:58.820Z"
   },
   {
    "duration": 106,
    "start_time": "2024-04-04T10:29:58.910Z"
   },
   {
    "duration": 24,
    "start_time": "2024-04-04T10:29:59.017Z"
   },
   {
    "duration": 1092,
    "start_time": "2024-04-04T10:29:59.043Z"
   },
   {
    "duration": 351,
    "start_time": "2024-04-04T10:30:00.137Z"
   },
   {
    "duration": 255,
    "start_time": "2024-04-04T10:30:00.490Z"
   },
   {
    "duration": 47966,
    "start_time": "2024-04-04T10:30:00.747Z"
   },
   {
    "duration": 0,
    "start_time": "2024-04-04T10:30:48.715Z"
   },
   {
    "duration": 0,
    "start_time": "2024-04-04T10:30:48.716Z"
   },
   {
    "duration": 0,
    "start_time": "2024-04-04T10:30:48.717Z"
   },
   {
    "duration": 1532,
    "start_time": "2024-04-04T10:38:51.562Z"
   },
   {
    "duration": 920,
    "start_time": "2024-04-04T10:38:53.096Z"
   },
   {
    "duration": 4,
    "start_time": "2024-04-04T10:38:54.018Z"
   },
   {
    "duration": 3,
    "start_time": "2024-04-04T10:38:54.024Z"
   },
   {
    "duration": 2075,
    "start_time": "2024-04-04T10:38:54.029Z"
   },
   {
    "duration": 287,
    "start_time": "2024-04-04T10:38:56.106Z"
   },
   {
    "duration": 523,
    "start_time": "2024-04-04T10:38:56.394Z"
   },
   {
    "duration": 11,
    "start_time": "2024-04-04T10:38:56.919Z"
   },
   {
    "duration": 133,
    "start_time": "2024-04-04T10:38:56.932Z"
   },
   {
    "duration": 76,
    "start_time": "2024-04-04T10:38:57.068Z"
   },
   {
    "duration": 94,
    "start_time": "2024-04-04T10:38:57.145Z"
   },
   {
    "duration": 117,
    "start_time": "2024-04-04T10:38:57.241Z"
   },
   {
    "duration": 87,
    "start_time": "2024-04-04T10:38:57.367Z"
   },
   {
    "duration": 87,
    "start_time": "2024-04-04T10:38:57.456Z"
   },
   {
    "duration": 39,
    "start_time": "2024-04-04T10:38:57.544Z"
   },
   {
    "duration": 1156,
    "start_time": "2024-04-04T10:38:57.584Z"
   },
   {
    "duration": 387,
    "start_time": "2024-04-04T10:38:58.741Z"
   },
   {
    "duration": 265,
    "start_time": "2024-04-04T10:38:59.130Z"
   },
   {
    "duration": 38528,
    "start_time": "2024-04-04T10:38:59.396Z"
   },
   {
    "duration": 0,
    "start_time": "2024-04-04T10:39:37.926Z"
   },
   {
    "duration": 0,
    "start_time": "2024-04-04T10:39:37.927Z"
   },
   {
    "duration": 0,
    "start_time": "2024-04-04T10:39:37.928Z"
   },
   {
    "duration": 0,
    "start_time": "2024-04-04T10:39:37.930Z"
   },
   {
    "duration": 0,
    "start_time": "2024-04-04T10:39:37.931Z"
   },
   {
    "duration": 117,
    "start_time": "2024-04-04T10:41:21.267Z"
   },
   {
    "duration": 77764,
    "start_time": "2024-04-04T10:41:28.673Z"
   },
   {
    "duration": 23,
    "start_time": "2024-04-04T10:42:50.251Z"
   },
   {
    "duration": 15,
    "start_time": "2024-04-04T10:43:54.239Z"
   },
   {
    "duration": 95843,
    "start_time": "2024-04-04T10:44:43.386Z"
   },
   {
    "duration": 1,
    "start_time": "2024-04-04T10:46:19.230Z"
   },
   {
    "duration": 48626,
    "start_time": "2024-04-04T10:48:10.216Z"
   },
   {
    "duration": 22,
    "start_time": "2024-04-04T10:48:58.844Z"
   },
   {
    "duration": 5,
    "start_time": "2024-04-04T10:50:42.196Z"
   },
   {
    "duration": 49735,
    "start_time": "2024-04-04T10:51:03.838Z"
   },
   {
    "duration": 1402,
    "start_time": "2024-04-04T10:52:08.706Z"
   },
   {
    "duration": 881,
    "start_time": "2024-04-04T10:52:10.110Z"
   },
   {
    "duration": 4,
    "start_time": "2024-04-04T10:52:10.992Z"
   },
   {
    "duration": 16,
    "start_time": "2024-04-04T10:52:10.998Z"
   },
   {
    "duration": 1843,
    "start_time": "2024-04-04T10:52:11.016Z"
   },
   {
    "duration": 286,
    "start_time": "2024-04-04T10:52:12.861Z"
   },
   {
    "duration": 482,
    "start_time": "2024-04-04T10:52:13.150Z"
   },
   {
    "duration": 12,
    "start_time": "2024-04-04T10:52:13.634Z"
   },
   {
    "duration": 118,
    "start_time": "2024-04-04T10:52:13.647Z"
   },
   {
    "duration": 78,
    "start_time": "2024-04-04T10:52:13.767Z"
   },
   {
    "duration": 86,
    "start_time": "2024-04-04T10:52:13.847Z"
   },
   {
    "duration": 83,
    "start_time": "2024-04-04T10:52:13.935Z"
   },
   {
    "duration": 87,
    "start_time": "2024-04-04T10:52:14.019Z"
   },
   {
    "duration": 89,
    "start_time": "2024-04-04T10:52:14.107Z"
   },
   {
    "duration": 25,
    "start_time": "2024-04-04T10:52:14.197Z"
   },
   {
    "duration": 1061,
    "start_time": "2024-04-04T10:52:14.223Z"
   },
   {
    "duration": 303,
    "start_time": "2024-04-04T10:52:15.286Z"
   },
   {
    "duration": 130,
    "start_time": "2024-04-04T10:52:15.591Z"
   },
   {
    "duration": 48339,
    "start_time": "2024-04-04T10:52:15.723Z"
   },
   {
    "duration": 47042,
    "start_time": "2024-04-04T10:53:04.064Z"
   },
   {
    "duration": 0,
    "start_time": "2024-04-04T10:53:51.108Z"
   },
   {
    "duration": 0,
    "start_time": "2024-04-04T10:53:51.109Z"
   },
   {
    "duration": 0,
    "start_time": "2024-04-04T10:53:51.110Z"
   },
   {
    "duration": 0,
    "start_time": "2024-04-04T10:53:51.111Z"
   },
   {
    "duration": 0,
    "start_time": "2024-04-04T10:53:51.112Z"
   },
   {
    "duration": 0,
    "start_time": "2024-04-04T10:53:51.113Z"
   },
   {
    "duration": 36252,
    "start_time": "2024-04-04T10:57:34.790Z"
   },
   {
    "duration": 47363,
    "start_time": "2024-04-04T11:02:13.708Z"
   },
   {
    "duration": 113,
    "start_time": "2024-04-04T11:05:06.012Z"
   },
   {
    "duration": 47115,
    "start_time": "2024-04-04T11:05:06.665Z"
   },
   {
    "duration": 45792,
    "start_time": "2024-04-04T11:05:53.781Z"
   },
   {
    "duration": 0,
    "start_time": "2024-04-04T11:06:39.575Z"
   },
   {
    "duration": 50,
    "start_time": "2024-04-04T15:07:00.669Z"
   },
   {
    "duration": 1750,
    "start_time": "2024-04-04T15:07:06.169Z"
   },
   {
    "duration": 1206,
    "start_time": "2024-04-04T15:07:07.921Z"
   },
   {
    "duration": 5,
    "start_time": "2024-04-04T15:07:09.129Z"
   },
   {
    "duration": 16,
    "start_time": "2024-04-04T15:07:09.136Z"
   },
   {
    "duration": 2031,
    "start_time": "2024-04-04T15:07:09.156Z"
   },
   {
    "duration": 315,
    "start_time": "2024-04-04T15:07:11.189Z"
   },
   {
    "duration": 527,
    "start_time": "2024-04-04T15:07:11.506Z"
   },
   {
    "duration": 12,
    "start_time": "2024-04-04T15:07:12.034Z"
   },
   {
    "duration": 115,
    "start_time": "2024-04-04T15:07:12.047Z"
   },
   {
    "duration": 71,
    "start_time": "2024-04-04T15:07:12.163Z"
   },
   {
    "duration": 95,
    "start_time": "2024-04-04T15:07:12.236Z"
   },
   {
    "duration": 91,
    "start_time": "2024-04-04T15:07:12.332Z"
   },
   {
    "duration": 92,
    "start_time": "2024-04-04T15:07:12.425Z"
   },
   {
    "duration": 108,
    "start_time": "2024-04-04T15:07:12.521Z"
   },
   {
    "duration": 41,
    "start_time": "2024-04-04T15:07:12.631Z"
   },
   {
    "duration": 1120,
    "start_time": "2024-04-04T15:07:12.674Z"
   },
   {
    "duration": 448,
    "start_time": "2024-04-04T15:07:13.795Z"
   },
   {
    "duration": 12,
    "start_time": "2024-04-04T15:07:14.244Z"
   },
   {
    "duration": 280,
    "start_time": "2024-04-04T15:07:14.257Z"
   },
   {
    "duration": 6118,
    "start_time": "2024-04-04T15:07:14.539Z"
   },
   {
    "duration": 0,
    "start_time": "2024-04-04T15:07:20.658Z"
   },
   {
    "duration": 0,
    "start_time": "2024-04-04T15:07:20.660Z"
   },
   {
    "duration": 0,
    "start_time": "2024-04-04T15:07:20.661Z"
   },
   {
    "duration": 0,
    "start_time": "2024-04-04T15:07:20.662Z"
   },
   {
    "duration": 0,
    "start_time": "2024-04-04T15:07:20.663Z"
   },
   {
    "duration": 0,
    "start_time": "2024-04-04T15:07:20.665Z"
   },
   {
    "duration": 0,
    "start_time": "2024-04-04T15:07:20.666Z"
   },
   {
    "duration": 9,
    "start_time": "2024-04-04T15:12:10.809Z"
   },
   {
    "duration": 8,
    "start_time": "2024-04-04T15:12:23.440Z"
   },
   {
    "duration": 6,
    "start_time": "2024-04-04T15:12:38.019Z"
   },
   {
    "duration": 99,
    "start_time": "2024-04-04T15:15:48.419Z"
   },
   {
    "duration": 5,
    "start_time": "2024-04-04T15:18:56.040Z"
   },
   {
    "duration": 101,
    "start_time": "2024-04-04T15:19:06.920Z"
   },
   {
    "duration": 1076,
    "start_time": "2024-04-04T15:20:17.650Z"
   },
   {
    "duration": 1310,
    "start_time": "2024-04-04T15:21:18.430Z"
   },
   {
    "duration": 50732,
    "start_time": "2024-04-04T15:21:24.450Z"
   },
   {
    "duration": 1514,
    "start_time": "2024-04-04T15:22:18.669Z"
   },
   {
    "duration": 901,
    "start_time": "2024-04-04T15:22:20.185Z"
   },
   {
    "duration": 5,
    "start_time": "2024-04-04T15:22:21.088Z"
   },
   {
    "duration": 11,
    "start_time": "2024-04-04T15:22:21.094Z"
   },
   {
    "duration": 2021,
    "start_time": "2024-04-04T15:22:21.107Z"
   },
   {
    "duration": 300,
    "start_time": "2024-04-04T15:22:23.130Z"
   },
   {
    "duration": 499,
    "start_time": "2024-04-04T15:22:23.431Z"
   },
   {
    "duration": 11,
    "start_time": "2024-04-04T15:22:23.932Z"
   },
   {
    "duration": 115,
    "start_time": "2024-04-04T15:22:23.945Z"
   },
   {
    "duration": 77,
    "start_time": "2024-04-04T15:22:24.062Z"
   },
   {
    "duration": 90,
    "start_time": "2024-04-04T15:22:24.141Z"
   },
   {
    "duration": 91,
    "start_time": "2024-04-04T15:22:24.233Z"
   },
   {
    "duration": 118,
    "start_time": "2024-04-04T15:22:24.325Z"
   },
   {
    "duration": 104,
    "start_time": "2024-04-04T15:22:24.446Z"
   },
   {
    "duration": 37,
    "start_time": "2024-04-04T15:22:24.551Z"
   },
   {
    "duration": 1165,
    "start_time": "2024-04-04T15:22:24.590Z"
   },
   {
    "duration": 343,
    "start_time": "2024-04-04T15:22:25.757Z"
   },
   {
    "duration": 12,
    "start_time": "2024-04-04T15:22:26.102Z"
   },
   {
    "duration": 1492,
    "start_time": "2024-04-04T15:22:26.116Z"
   },
   {
    "duration": 76815,
    "start_time": "2024-04-04T15:22:27.609Z"
   },
   {
    "duration": 0,
    "start_time": "2024-04-04T15:23:44.426Z"
   },
   {
    "duration": 0,
    "start_time": "2024-04-04T15:23:44.427Z"
   },
   {
    "duration": 0,
    "start_time": "2024-04-04T15:23:44.428Z"
   },
   {
    "duration": 0,
    "start_time": "2024-04-04T15:23:44.430Z"
   },
   {
    "duration": 0,
    "start_time": "2024-04-04T15:23:44.431Z"
   },
   {
    "duration": 0,
    "start_time": "2024-04-04T15:23:44.432Z"
   },
   {
    "duration": 0,
    "start_time": "2024-04-04T15:23:44.432Z"
   },
   {
    "duration": 2482,
    "start_time": "2024-04-04T15:38:05.998Z"
   },
   {
    "duration": 65847,
    "start_time": "2024-04-04T15:38:12.379Z"
   },
   {
    "duration": 69747,
    "start_time": "2024-04-04T15:39:18.228Z"
   },
   {
    "duration": 0,
    "start_time": "2024-04-04T15:40:27.977Z"
   },
   {
    "duration": 2196,
    "start_time": "2024-04-04T16:22:58.277Z"
   },
   {
    "duration": 1282,
    "start_time": "2024-04-04T16:23:20.826Z"
   },
   {
    "duration": 1725,
    "start_time": "2024-04-04T16:23:36.396Z"
   },
   {
    "duration": 33608,
    "start_time": "2024-04-04T16:23:53.526Z"
   },
   {
    "duration": 0,
    "start_time": "2024-04-04T16:24:27.136Z"
   },
   {
    "duration": 0,
    "start_time": "2024-04-04T16:24:27.138Z"
   },
   {
    "duration": 35476,
    "start_time": "2024-04-04T16:24:40.176Z"
   },
   {
    "duration": 17,
    "start_time": "2024-04-04T16:25:27.337Z"
   },
   {
    "duration": 90,
    "start_time": "2024-04-04T16:28:02.565Z"
   },
   {
    "duration": 89,
    "start_time": "2024-04-04T16:28:10.315Z"
   },
   {
    "duration": 32862,
    "start_time": "2024-04-04T16:28:23.286Z"
   },
   {
    "duration": 13,
    "start_time": "2024-04-04T16:29:42.725Z"
   },
   {
    "duration": 8,
    "start_time": "2024-04-04T16:29:57.724Z"
   },
   {
    "duration": 1420,
    "start_time": "2024-04-04T16:43:01.504Z"
   },
   {
    "duration": 868,
    "start_time": "2024-04-04T16:43:02.926Z"
   },
   {
    "duration": 4,
    "start_time": "2024-04-04T16:43:03.796Z"
   },
   {
    "duration": 18,
    "start_time": "2024-04-04T16:43:03.801Z"
   },
   {
    "duration": 1909,
    "start_time": "2024-04-04T16:43:03.821Z"
   },
   {
    "duration": 291,
    "start_time": "2024-04-04T16:43:05.731Z"
   },
   {
    "duration": 476,
    "start_time": "2024-04-04T16:43:06.024Z"
   },
   {
    "duration": 11,
    "start_time": "2024-04-04T16:43:06.502Z"
   },
   {
    "duration": 108,
    "start_time": "2024-04-04T16:43:06.514Z"
   },
   {
    "duration": 75,
    "start_time": "2024-04-04T16:43:06.624Z"
   },
   {
    "duration": 81,
    "start_time": "2024-04-04T16:43:06.701Z"
   },
   {
    "duration": 92,
    "start_time": "2024-04-04T16:43:06.783Z"
   },
   {
    "duration": 99,
    "start_time": "2024-04-04T16:43:06.876Z"
   },
   {
    "duration": 92,
    "start_time": "2024-04-04T16:43:06.977Z"
   },
   {
    "duration": 26,
    "start_time": "2024-04-04T16:43:07.071Z"
   },
   {
    "duration": 1046,
    "start_time": "2024-04-04T16:43:07.099Z"
   },
   {
    "duration": 353,
    "start_time": "2024-04-04T16:43:08.146Z"
   },
   {
    "duration": 10,
    "start_time": "2024-04-04T16:43:08.501Z"
   },
   {
    "duration": 228,
    "start_time": "2024-04-04T16:43:08.513Z"
   },
   {
    "duration": 36428,
    "start_time": "2024-04-04T16:43:08.742Z"
   },
   {
    "duration": 8,
    "start_time": "2024-04-04T16:43:45.171Z"
   },
   {
    "duration": 1472,
    "start_time": "2024-04-04T17:06:54.250Z"
   },
   {
    "duration": 841,
    "start_time": "2024-04-04T17:06:55.724Z"
   },
   {
    "duration": 6,
    "start_time": "2024-04-04T17:06:56.566Z"
   },
   {
    "duration": 7,
    "start_time": "2024-04-04T17:06:56.573Z"
   },
   {
    "duration": 1836,
    "start_time": "2024-04-04T17:06:56.582Z"
   },
   {
    "duration": 261,
    "start_time": "2024-04-04T17:06:58.420Z"
   },
   {
    "duration": 476,
    "start_time": "2024-04-04T17:06:58.682Z"
   },
   {
    "duration": 16,
    "start_time": "2024-04-04T17:06:59.159Z"
   },
   {
    "duration": 100,
    "start_time": "2024-04-04T17:06:59.176Z"
   },
   {
    "duration": 65,
    "start_time": "2024-04-04T17:06:59.278Z"
   },
   {
    "duration": 84,
    "start_time": "2024-04-04T17:06:59.344Z"
   },
   {
    "duration": 83,
    "start_time": "2024-04-04T17:06:59.430Z"
   },
   {
    "duration": 87,
    "start_time": "2024-04-04T17:06:59.514Z"
   },
   {
    "duration": 88,
    "start_time": "2024-04-04T17:06:59.604Z"
   },
   {
    "duration": 24,
    "start_time": "2024-04-04T17:06:59.694Z"
   },
   {
    "duration": 1104,
    "start_time": "2024-04-04T17:06:59.720Z"
   },
   {
    "duration": 343,
    "start_time": "2024-04-04T17:07:00.826Z"
   },
   {
    "duration": 11,
    "start_time": "2024-04-04T17:07:01.171Z"
   },
   {
    "duration": 232,
    "start_time": "2024-04-04T17:07:01.184Z"
   },
   {
    "duration": 37545,
    "start_time": "2024-04-04T17:07:01.418Z"
   },
   {
    "duration": 8,
    "start_time": "2024-04-04T17:07:38.965Z"
   },
   {
    "duration": 1324,
    "start_time": "2024-04-04T17:29:58.920Z"
   },
   {
    "duration": 884,
    "start_time": "2024-04-04T17:30:00.246Z"
   },
   {
    "duration": 6,
    "start_time": "2024-04-04T17:30:01.131Z"
   },
   {
    "duration": 65,
    "start_time": "2024-04-04T17:30:01.138Z"
   },
   {
    "duration": 1950,
    "start_time": "2024-04-04T17:30:01.205Z"
   },
   {
    "duration": 267,
    "start_time": "2024-04-04T17:30:03.157Z"
   },
   {
    "duration": 495,
    "start_time": "2024-04-04T17:30:03.426Z"
   },
   {
    "duration": 11,
    "start_time": "2024-04-04T17:30:03.923Z"
   },
   {
    "duration": 123,
    "start_time": "2024-04-04T17:30:03.935Z"
   },
   {
    "duration": 72,
    "start_time": "2024-04-04T17:30:04.060Z"
   },
   {
    "duration": 89,
    "start_time": "2024-04-04T17:30:04.134Z"
   },
   {
    "duration": 88,
    "start_time": "2024-04-04T17:30:04.224Z"
   },
   {
    "duration": 87,
    "start_time": "2024-04-04T17:30:04.314Z"
   },
   {
    "duration": 84,
    "start_time": "2024-04-04T17:30:04.404Z"
   },
   {
    "duration": 25,
    "start_time": "2024-04-04T17:30:04.490Z"
   },
   {
    "duration": 1116,
    "start_time": "2024-04-04T17:30:04.516Z"
   },
   {
    "duration": 359,
    "start_time": "2024-04-04T17:30:05.634Z"
   },
   {
    "duration": 11,
    "start_time": "2024-04-04T17:30:05.994Z"
   },
   {
    "duration": 253,
    "start_time": "2024-04-04T17:30:06.007Z"
   },
   {
    "duration": 36682,
    "start_time": "2024-04-04T17:30:06.262Z"
   },
   {
    "duration": 8,
    "start_time": "2024-04-04T17:30:42.946Z"
   },
   {
    "duration": 17941,
    "start_time": "2024-04-04T17:30:42.955Z"
   },
   {
    "duration": 8,
    "start_time": "2024-04-04T17:31:00.898Z"
   },
   {
    "duration": 150,
    "start_time": "2024-04-04T17:31:00.907Z"
   },
   {
    "duration": 0,
    "start_time": "2024-04-04T17:31:01.058Z"
   },
   {
    "duration": 11,
    "start_time": "2024-04-04T17:39:33.988Z"
   },
   {
    "duration": 5,
    "start_time": "2024-04-04T17:41:32.176Z"
   },
   {
    "duration": 5592,
    "start_time": "2024-04-04T17:41:49.786Z"
   },
   {
    "duration": 10,
    "start_time": "2024-04-04T17:41:55.380Z"
   },
   {
    "duration": 3670,
    "start_time": "2024-04-04T17:42:08.207Z"
   },
   {
    "duration": 92,
    "start_time": "2024-04-04T17:42:11.879Z"
   },
   {
    "duration": 8,
    "start_time": "2024-04-04T17:42:23.636Z"
   },
   {
    "duration": 1300,
    "start_time": "2024-04-04T17:45:25.702Z"
   },
   {
    "duration": 865,
    "start_time": "2024-04-04T17:45:27.004Z"
   },
   {
    "duration": 6,
    "start_time": "2024-04-04T17:45:27.870Z"
   },
   {
    "duration": 7,
    "start_time": "2024-04-04T17:45:27.878Z"
   },
   {
    "duration": 1934,
    "start_time": "2024-04-04T17:45:27.886Z"
   },
   {
    "duration": 290,
    "start_time": "2024-04-04T17:45:29.822Z"
   },
   {
    "duration": 556,
    "start_time": "2024-04-04T17:45:30.114Z"
   },
   {
    "duration": 11,
    "start_time": "2024-04-04T17:45:30.672Z"
   },
   {
    "duration": 199,
    "start_time": "2024-04-04T17:45:30.684Z"
   },
   {
    "duration": 68,
    "start_time": "2024-04-04T17:45:30.886Z"
   },
   {
    "duration": 98,
    "start_time": "2024-04-04T17:45:30.956Z"
   },
   {
    "duration": 77,
    "start_time": "2024-04-04T17:45:31.056Z"
   },
   {
    "duration": 88,
    "start_time": "2024-04-04T17:45:31.134Z"
   },
   {
    "duration": 86,
    "start_time": "2024-04-04T17:45:31.223Z"
   },
   {
    "duration": 26,
    "start_time": "2024-04-04T17:45:31.310Z"
   },
   {
    "duration": 1148,
    "start_time": "2024-04-04T17:45:31.338Z"
   },
   {
    "duration": 328,
    "start_time": "2024-04-04T17:45:32.488Z"
   },
   {
    "duration": 12,
    "start_time": "2024-04-04T17:45:32.817Z"
   },
   {
    "duration": 231,
    "start_time": "2024-04-04T17:45:32.831Z"
   },
   {
    "duration": 36924,
    "start_time": "2024-04-04T17:45:33.069Z"
   },
   {
    "duration": 8,
    "start_time": "2024-04-04T17:46:09.994Z"
   },
   {
    "duration": 18293,
    "start_time": "2024-04-04T17:46:10.003Z"
   },
   {
    "duration": 8,
    "start_time": "2024-04-04T17:46:28.298Z"
   },
   {
    "duration": 4762,
    "start_time": "2024-04-04T17:46:28.308Z"
   },
   {
    "duration": 7,
    "start_time": "2024-04-04T17:46:33.071Z"
   },
   {
    "duration": 1299,
    "start_time": "2024-04-05T03:06:28.881Z"
   },
   {
    "duration": 3373,
    "start_time": "2024-04-05T03:07:16.683Z"
   },
   {
    "duration": 60,
    "start_time": "2024-04-05T03:07:20.923Z"
   },
   {
    "duration": 2668,
    "start_time": "2024-04-05T03:09:14.609Z"
   },
   {
    "duration": 2592,
    "start_time": "2024-04-05T03:09:28.460Z"
   },
   {
    "duration": 15,
    "start_time": "2024-04-05T03:09:31.054Z"
   },
   {
    "duration": 10,
    "start_time": "2024-04-05T03:13:54.265Z"
   },
   {
    "duration": 307,
    "start_time": "2024-04-05T03:16:26.957Z"
   },
   {
    "duration": 3,
    "start_time": "2024-04-05T03:16:38.308Z"
   },
   {
    "duration": 19,
    "start_time": "2024-04-05T03:20:57.030Z"
   },
   {
    "duration": 2645,
    "start_time": "2024-04-05T03:22:41.938Z"
   },
   {
    "duration": 1338,
    "start_time": "2024-04-05T03:22:44.586Z"
   },
   {
    "duration": 2729,
    "start_time": "2024-04-05T03:22:45.926Z"
   },
   {
    "duration": 4,
    "start_time": "2024-04-05T03:22:48.656Z"
   },
   {
    "duration": 13,
    "start_time": "2024-04-05T03:22:48.661Z"
   },
   {
    "duration": 5,
    "start_time": "2024-04-05T03:22:48.675Z"
   },
   {
    "duration": 5,
    "start_time": "2024-04-05T03:22:48.681Z"
   },
   {
    "duration": 1442,
    "start_time": "2024-04-05T03:22:48.687Z"
   },
   {
    "duration": 7,
    "start_time": "2024-04-05T03:22:50.131Z"
   },
   {
    "duration": 44017,
    "start_time": "2024-04-05T03:22:50.140Z"
   },
   {
    "duration": 41,
    "start_time": "2024-04-05T03:31:40.959Z"
   },
   {
    "duration": 2565,
    "start_time": "2024-04-05T03:31:49.731Z"
   },
   {
    "duration": 1333,
    "start_time": "2024-04-05T03:31:52.299Z"
   },
   {
    "duration": 2772,
    "start_time": "2024-04-05T03:31:53.634Z"
   },
   {
    "duration": 4,
    "start_time": "2024-04-05T03:31:56.408Z"
   },
   {
    "duration": 26,
    "start_time": "2024-04-05T03:31:56.414Z"
   },
   {
    "duration": 13,
    "start_time": "2024-04-05T03:31:56.441Z"
   },
   {
    "duration": 1491,
    "start_time": "2024-04-05T03:31:58.579Z"
   },
   {
    "duration": 19,
    "start_time": "2024-04-05T03:32:02.641Z"
   },
   {
    "duration": 57,
    "start_time": "2024-04-05T03:34:55.159Z"
   },
   {
    "duration": 10,
    "start_time": "2024-04-05T03:35:46.324Z"
   },
   {
    "duration": 27,
    "start_time": "2024-04-05T03:35:48.120Z"
   },
   {
    "duration": 6,
    "start_time": "2024-04-05T03:35:52.251Z"
   },
   {
    "duration": 43431,
    "start_time": "2024-04-05T03:36:00.199Z"
   },
   {
    "duration": 100,
    "start_time": "2024-04-05T03:36:43.631Z"
   },
   {
    "duration": 0,
    "start_time": "2024-04-05T03:36:43.732Z"
   },
   {
    "duration": 4,
    "start_time": "2024-04-05T03:44:58.587Z"
   },
   {
    "duration": 7366,
    "start_time": "2024-04-05T03:45:09.990Z"
   },
   {
    "duration": 4,
    "start_time": "2024-04-05T03:45:51.456Z"
   },
   {
    "duration": 5017,
    "start_time": "2024-04-05T03:45:56.566Z"
   },
   {
    "duration": 1715,
    "start_time": "2024-04-05T03:48:44.501Z"
   },
   {
    "duration": 4,
    "start_time": "2024-04-05T03:51:15.108Z"
   },
   {
    "duration": 2004,
    "start_time": "2024-04-05T03:51:19.081Z"
   },
   {
    "duration": 4,
    "start_time": "2024-04-05T03:52:12.525Z"
   },
   {
    "duration": 149,
    "start_time": "2024-04-05T03:54:14.433Z"
   },
   {
    "duration": 4,
    "start_time": "2024-04-05T03:54:43.614Z"
   },
   {
    "duration": 12,
    "start_time": "2024-04-05T03:54:50.308Z"
   },
   {
    "duration": 4,
    "start_time": "2024-04-05T03:55:30.762Z"
   },
   {
    "duration": 140,
    "start_time": "2024-04-05T03:55:35.090Z"
   },
   {
    "duration": 4,
    "start_time": "2024-04-05T03:59:49.642Z"
   },
   {
    "duration": 86,
    "start_time": "2024-04-05T04:00:02.073Z"
   },
   {
    "duration": 4,
    "start_time": "2024-04-05T04:00:28.953Z"
   },
   {
    "duration": 4,
    "start_time": "2024-04-05T04:00:35.668Z"
   },
   {
    "duration": 4363,
    "start_time": "2024-04-05T04:00:55.835Z"
   },
   {
    "duration": 5,
    "start_time": "2024-04-05T04:01:29.330Z"
   },
   {
    "duration": 44821,
    "start_time": "2024-04-05T04:01:45.419Z"
   },
   {
    "duration": 18,
    "start_time": "2024-04-05T04:03:04.531Z"
   },
   {
    "duration": 55,
    "start_time": "2024-04-05T04:03:16.868Z"
   },
   {
    "duration": 31,
    "start_time": "2024-04-05T04:03:53.987Z"
   },
   {
    "duration": 5,
    "start_time": "2024-04-05T04:05:38.467Z"
   },
   {
    "duration": 4,
    "start_time": "2024-04-05T04:05:41.928Z"
   },
   {
    "duration": 7,
    "start_time": "2024-04-05T04:06:08.282Z"
   },
   {
    "duration": 113,
    "start_time": "2024-04-05T04:06:17.474Z"
   },
   {
    "duration": 77,
    "start_time": "2024-04-05T04:06:35.517Z"
   },
   {
    "duration": 6,
    "start_time": "2024-04-05T04:06:47.573Z"
   },
   {
    "duration": 23,
    "start_time": "2024-04-05T04:06:55.377Z"
   },
   {
    "duration": 93,
    "start_time": "2024-04-05T04:07:20.589Z"
   },
   {
    "duration": 28,
    "start_time": "2024-04-05T04:08:56.068Z"
   },
   {
    "duration": 40,
    "start_time": "2024-04-05T04:09:13.695Z"
   },
   {
    "duration": 54,
    "start_time": "2024-04-05T04:09:27.437Z"
   },
   {
    "duration": 875,
    "start_time": "2024-04-05T04:10:22.728Z"
   },
   {
    "duration": 90,
    "start_time": "2024-04-05T04:11:02.052Z"
   },
   {
    "duration": 976,
    "start_time": "2024-04-05T04:11:11.788Z"
   },
   {
    "duration": 47,
    "start_time": "2024-04-05T04:11:15.846Z"
   },
   {
    "duration": 129,
    "start_time": "2024-04-05T04:12:34.213Z"
   },
   {
    "duration": 24,
    "start_time": "2024-04-05T04:12:49.289Z"
   },
   {
    "duration": 133,
    "start_time": "2024-04-05T04:12:54.266Z"
   },
   {
    "duration": 29,
    "start_time": "2024-04-05T04:13:26.457Z"
   },
   {
    "duration": 61,
    "start_time": "2024-04-05T04:13:45.251Z"
   },
   {
    "duration": 11,
    "start_time": "2024-04-05T04:17:32.227Z"
   },
   {
    "duration": 2662,
    "start_time": "2024-04-05T04:17:39.457Z"
   },
   {
    "duration": 1345,
    "start_time": "2024-04-05T04:17:42.122Z"
   },
   {
    "duration": 678,
    "start_time": "2024-04-05T04:17:43.468Z"
   },
   {
    "duration": 4,
    "start_time": "2024-04-05T04:17:44.148Z"
   },
   {
    "duration": 6,
    "start_time": "2024-04-05T04:17:44.153Z"
   },
   {
    "duration": 4,
    "start_time": "2024-04-05T04:17:44.160Z"
   },
   {
    "duration": 3,
    "start_time": "2024-04-05T04:17:44.165Z"
   },
   {
    "duration": 1537,
    "start_time": "2024-04-05T04:17:44.170Z"
   },
   {
    "duration": 22,
    "start_time": "2024-04-05T04:17:45.708Z"
   },
   {
    "duration": 438,
    "start_time": "2024-04-05T04:17:45.734Z"
   },
   {
    "duration": 8,
    "start_time": "2024-04-05T04:17:46.173Z"
   },
   {
    "duration": 42347,
    "start_time": "2024-04-05T04:17:46.182Z"
   },
   {
    "duration": 1788,
    "start_time": "2024-04-05T04:18:28.530Z"
   },
   {
    "duration": 45,
    "start_time": "2024-04-05T04:18:30.319Z"
   },
   {
    "duration": 85,
    "start_time": "2024-04-05T04:18:30.365Z"
   },
   {
    "duration": 101,
    "start_time": "2024-04-05T04:18:30.451Z"
   },
   {
    "duration": 42,
    "start_time": "2024-04-05T04:18:30.553Z"
   },
   {
    "duration": 64,
    "start_time": "2024-04-05T04:18:30.596Z"
   },
   {
    "duration": 42,
    "start_time": "2024-04-05T04:18:30.661Z"
   },
   {
    "duration": 69,
    "start_time": "2024-04-05T04:18:30.705Z"
   },
   {
    "duration": 91,
    "start_time": "2024-04-05T04:18:30.775Z"
   },
   {
    "duration": 51,
    "start_time": "2024-04-05T04:18:30.868Z"
   },
   {
    "duration": 142,
    "start_time": "2024-04-05T04:18:30.920Z"
   },
   {
    "duration": 0,
    "start_time": "2024-04-05T04:18:31.063Z"
   },
   {
    "duration": 0,
    "start_time": "2024-04-05T04:18:31.064Z"
   },
   {
    "duration": 0,
    "start_time": "2024-04-05T04:18:31.065Z"
   },
   {
    "duration": 0,
    "start_time": "2024-04-05T04:18:31.066Z"
   },
   {
    "duration": 0,
    "start_time": "2024-04-05T04:18:31.066Z"
   },
   {
    "duration": 0,
    "start_time": "2024-04-05T04:18:31.067Z"
   },
   {
    "duration": 0,
    "start_time": "2024-04-05T04:18:31.068Z"
   },
   {
    "duration": 0,
    "start_time": "2024-04-05T04:18:31.069Z"
   },
   {
    "duration": 0,
    "start_time": "2024-04-05T04:18:31.070Z"
   },
   {
    "duration": 0,
    "start_time": "2024-04-05T04:18:31.071Z"
   },
   {
    "duration": 0,
    "start_time": "2024-04-05T04:18:31.071Z"
   },
   {
    "duration": 0,
    "start_time": "2024-04-05T04:18:31.072Z"
   },
   {
    "duration": 0,
    "start_time": "2024-04-05T04:18:31.073Z"
   },
   {
    "duration": 0,
    "start_time": "2024-04-05T04:18:31.074Z"
   },
   {
    "duration": 0,
    "start_time": "2024-04-05T04:18:31.074Z"
   },
   {
    "duration": 61,
    "start_time": "2024-04-05T04:51:55.787Z"
   },
   {
    "duration": 2717,
    "start_time": "2024-04-05T04:52:03.676Z"
   },
   {
    "duration": 1327,
    "start_time": "2024-04-05T04:52:06.395Z"
   },
   {
    "duration": 702,
    "start_time": "2024-04-05T04:52:07.723Z"
   },
   {
    "duration": 4,
    "start_time": "2024-04-05T04:52:08.426Z"
   },
   {
    "duration": 6,
    "start_time": "2024-04-05T04:52:08.431Z"
   },
   {
    "duration": 6,
    "start_time": "2024-04-05T04:52:08.438Z"
   },
   {
    "duration": 8,
    "start_time": "2024-04-05T04:52:08.445Z"
   },
   {
    "duration": 1577,
    "start_time": "2024-04-05T04:52:08.454Z"
   },
   {
    "duration": 20,
    "start_time": "2024-04-05T04:52:10.032Z"
   },
   {
    "duration": 482,
    "start_time": "2024-04-05T04:52:10.054Z"
   },
   {
    "duration": 7,
    "start_time": "2024-04-05T04:52:10.537Z"
   },
   {
    "duration": 43145,
    "start_time": "2024-04-05T04:52:10.546Z"
   },
   {
    "duration": 1776,
    "start_time": "2024-04-05T04:52:53.692Z"
   },
   {
    "duration": 45,
    "start_time": "2024-04-05T04:52:55.470Z"
   },
   {
    "duration": 6,
    "start_time": "2024-04-05T04:52:55.516Z"
   },
   {
    "duration": 63,
    "start_time": "2024-04-05T04:52:55.523Z"
   },
   {
    "duration": 6,
    "start_time": "2024-04-05T04:52:55.587Z"
   },
   {
    "duration": 34,
    "start_time": "2024-04-05T04:52:55.594Z"
   },
   {
    "duration": 27,
    "start_time": "2024-04-05T04:52:55.629Z"
   },
   {
    "duration": 79,
    "start_time": "2024-04-05T04:52:55.657Z"
   },
   {
    "duration": 51,
    "start_time": "2024-04-05T04:52:55.737Z"
   },
   {
    "duration": 58,
    "start_time": "2024-04-05T04:52:55.789Z"
   },
   {
    "duration": 82,
    "start_time": "2024-04-05T04:52:55.848Z"
   },
   {
    "duration": 820,
    "start_time": "2024-04-05T04:52:55.931Z"
   },
   {
    "duration": 113,
    "start_time": "2024-04-05T04:52:56.752Z"
   },
   {
    "duration": 0,
    "start_time": "2024-04-05T04:52:56.867Z"
   },
   {
    "duration": 0,
    "start_time": "2024-04-05T04:52:56.868Z"
   },
   {
    "duration": 0,
    "start_time": "2024-04-05T04:52:56.868Z"
   },
   {
    "duration": 0,
    "start_time": "2024-04-05T04:52:56.869Z"
   },
   {
    "duration": 0,
    "start_time": "2024-04-05T04:52:56.870Z"
   },
   {
    "duration": 0,
    "start_time": "2024-04-05T04:52:56.871Z"
   },
   {
    "duration": 0,
    "start_time": "2024-04-05T04:52:56.871Z"
   },
   {
    "duration": 0,
    "start_time": "2024-04-05T04:52:56.872Z"
   },
   {
    "duration": 0,
    "start_time": "2024-04-05T04:52:56.873Z"
   },
   {
    "duration": 0,
    "start_time": "2024-04-05T04:52:56.873Z"
   },
   {
    "duration": 0,
    "start_time": "2024-04-05T04:52:56.874Z"
   },
   {
    "duration": 0,
    "start_time": "2024-04-05T04:52:56.875Z"
   },
   {
    "duration": 0,
    "start_time": "2024-04-05T04:52:56.875Z"
   },
   {
    "duration": 6,
    "start_time": "2024-04-05T04:54:27.676Z"
   },
   {
    "duration": 45001,
    "start_time": "2024-04-05T04:54:52.760Z"
   },
   {
    "duration": 22457,
    "start_time": "2024-04-05T04:55:39.906Z"
   },
   {
    "duration": 106375,
    "start_time": "2024-04-05T04:56:03.865Z"
   },
   {
    "duration": 11,
    "start_time": "2024-04-05T04:59:32.955Z"
   },
   {
    "duration": 10,
    "start_time": "2024-04-05T04:59:43.418Z"
   },
   {
    "duration": 71,
    "start_time": "2024-04-05T04:59:44.709Z"
   },
   {
    "duration": 3,
    "start_time": "2024-04-05T04:59:46.928Z"
   },
   {
    "duration": 3,
    "start_time": "2024-04-05T04:59:48.442Z"
   },
   {
    "duration": 4,
    "start_time": "2024-04-05T04:59:49.158Z"
   },
   {
    "duration": 3419,
    "start_time": "2024-04-05T15:20:20.981Z"
   },
   {
    "duration": 1653,
    "start_time": "2024-04-05T15:20:24.402Z"
   },
   {
    "duration": 1152,
    "start_time": "2024-04-05T15:20:26.056Z"
   },
   {
    "duration": 4,
    "start_time": "2024-04-05T15:20:27.210Z"
   },
   {
    "duration": 6,
    "start_time": "2024-04-05T15:20:27.216Z"
   },
   {
    "duration": 6,
    "start_time": "2024-04-05T15:20:27.223Z"
   },
   {
    "duration": 7,
    "start_time": "2024-04-05T15:20:27.230Z"
   },
   {
    "duration": 1912,
    "start_time": "2024-04-05T15:20:27.238Z"
   },
   {
    "duration": 21,
    "start_time": "2024-04-05T15:20:29.151Z"
   },
   {
    "duration": 513,
    "start_time": "2024-04-05T15:20:29.173Z"
   },
   {
    "duration": 8,
    "start_time": "2024-04-05T15:20:29.687Z"
   },
   {
    "duration": 56329,
    "start_time": "2024-04-05T15:20:29.697Z"
   },
   {
    "duration": 2262,
    "start_time": "2024-04-05T15:21:26.027Z"
   },
   {
    "duration": 55,
    "start_time": "2024-04-05T15:21:28.291Z"
   },
   {
    "duration": 7,
    "start_time": "2024-04-05T15:21:28.347Z"
   },
   {
    "duration": 94,
    "start_time": "2024-04-05T15:21:28.355Z"
   },
   {
    "duration": 8,
    "start_time": "2024-04-05T15:21:28.450Z"
   },
   {
    "duration": 35,
    "start_time": "2024-04-05T15:21:28.459Z"
   },
   {
    "duration": 39,
    "start_time": "2024-04-05T15:21:28.496Z"
   },
   {
    "duration": 89,
    "start_time": "2024-04-05T15:21:28.537Z"
   },
   {
    "duration": 81,
    "start_time": "2024-04-05T15:21:28.628Z"
   },
   {
    "duration": 82,
    "start_time": "2024-04-05T15:21:28.710Z"
   },
   {
    "duration": 82,
    "start_time": "2024-04-05T15:21:28.794Z"
   },
   {
    "duration": 1049,
    "start_time": "2024-04-05T15:21:28.877Z"
   },
   {
    "duration": 155,
    "start_time": "2024-04-05T15:21:29.928Z"
   },
   {
    "duration": 0,
    "start_time": "2024-04-05T15:21:30.084Z"
   },
   {
    "duration": 0,
    "start_time": "2024-04-05T15:21:30.085Z"
   },
   {
    "duration": 0,
    "start_time": "2024-04-05T15:21:30.087Z"
   },
   {
    "duration": 0,
    "start_time": "2024-04-05T15:21:30.088Z"
   },
   {
    "duration": 0,
    "start_time": "2024-04-05T15:21:30.089Z"
   },
   {
    "duration": 0,
    "start_time": "2024-04-05T15:21:30.090Z"
   },
   {
    "duration": 0,
    "start_time": "2024-04-05T15:21:30.092Z"
   },
   {
    "duration": 0,
    "start_time": "2024-04-05T15:21:30.092Z"
   },
   {
    "duration": 0,
    "start_time": "2024-04-05T15:21:30.093Z"
   },
   {
    "duration": 0,
    "start_time": "2024-04-05T15:21:30.095Z"
   },
   {
    "duration": 0,
    "start_time": "2024-04-05T15:21:30.096Z"
   },
   {
    "duration": 0,
    "start_time": "2024-04-05T15:21:30.097Z"
   },
   {
    "duration": 0,
    "start_time": "2024-04-05T15:21:30.098Z"
   },
   {
    "duration": 2570,
    "start_time": "2024-04-05T16:38:31.063Z"
   },
   {
    "duration": 1428,
    "start_time": "2024-04-05T16:38:33.635Z"
   },
   {
    "duration": 885,
    "start_time": "2024-04-05T16:38:35.064Z"
   },
   {
    "duration": 5,
    "start_time": "2024-04-05T16:38:35.950Z"
   },
   {
    "duration": 16,
    "start_time": "2024-04-05T16:38:35.957Z"
   },
   {
    "duration": 20,
    "start_time": "2024-04-05T16:38:35.974Z"
   },
   {
    "duration": 6,
    "start_time": "2024-04-05T16:38:35.996Z"
   },
   {
    "duration": 1982,
    "start_time": "2024-04-05T16:38:36.003Z"
   },
   {
    "duration": 18,
    "start_time": "2024-04-05T16:38:37.987Z"
   },
   {
    "duration": 538,
    "start_time": "2024-04-05T16:38:38.006Z"
   },
   {
    "duration": 11,
    "start_time": "2024-04-05T16:38:38.546Z"
   },
   {
    "duration": 55378,
    "start_time": "2024-04-05T16:38:38.559Z"
   },
   {
    "duration": 2179,
    "start_time": "2024-04-05T16:39:33.938Z"
   },
   {
    "duration": 73,
    "start_time": "2024-04-05T16:39:36.120Z"
   },
   {
    "duration": 6,
    "start_time": "2024-04-05T16:39:36.195Z"
   },
   {
    "duration": 100,
    "start_time": "2024-04-05T16:39:36.202Z"
   },
   {
    "duration": 7,
    "start_time": "2024-04-05T16:39:36.304Z"
   },
   {
    "duration": 28,
    "start_time": "2024-04-05T16:39:36.312Z"
   },
   {
    "duration": 53,
    "start_time": "2024-04-05T16:39:36.342Z"
   },
   {
    "duration": 85,
    "start_time": "2024-04-05T16:39:36.396Z"
   },
   {
    "duration": 73,
    "start_time": "2024-04-05T16:39:36.483Z"
   },
   {
    "duration": 70,
    "start_time": "2024-04-05T16:39:36.570Z"
   },
   {
    "duration": 79,
    "start_time": "2024-04-05T16:39:36.641Z"
   },
   {
    "duration": 1000,
    "start_time": "2024-04-05T16:39:36.721Z"
   },
   {
    "duration": 113,
    "start_time": "2024-04-05T16:39:37.722Z"
   },
   {
    "duration": 0,
    "start_time": "2024-04-05T16:39:37.836Z"
   },
   {
    "duration": 0,
    "start_time": "2024-04-05T16:39:37.837Z"
   },
   {
    "duration": 1,
    "start_time": "2024-04-05T16:39:37.838Z"
   },
   {
    "duration": 0,
    "start_time": "2024-04-05T16:39:37.839Z"
   },
   {
    "duration": 0,
    "start_time": "2024-04-05T16:39:37.841Z"
   },
   {
    "duration": 0,
    "start_time": "2024-04-05T16:39:37.842Z"
   },
   {
    "duration": 0,
    "start_time": "2024-04-05T16:39:37.843Z"
   },
   {
    "duration": 0,
    "start_time": "2024-04-05T16:39:37.844Z"
   },
   {
    "duration": 0,
    "start_time": "2024-04-05T16:39:37.845Z"
   },
   {
    "duration": 0,
    "start_time": "2024-04-05T16:39:37.846Z"
   },
   {
    "duration": 0,
    "start_time": "2024-04-05T16:39:37.847Z"
   },
   {
    "duration": 0,
    "start_time": "2024-04-05T16:39:37.848Z"
   },
   {
    "duration": 0,
    "start_time": "2024-04-05T16:39:37.848Z"
   },
   {
    "duration": 2619,
    "start_time": "2024-04-05T16:43:04.689Z"
   },
   {
    "duration": 1413,
    "start_time": "2024-04-05T16:43:07.311Z"
   },
   {
    "duration": 825,
    "start_time": "2024-04-05T16:43:08.726Z"
   },
   {
    "duration": 4,
    "start_time": "2024-04-05T16:43:09.553Z"
   },
   {
    "duration": 10,
    "start_time": "2024-04-05T16:43:09.559Z"
   },
   {
    "duration": 6,
    "start_time": "2024-04-05T16:43:09.570Z"
   },
   {
    "duration": 7,
    "start_time": "2024-04-05T16:43:09.577Z"
   },
   {
    "duration": 1851,
    "start_time": "2024-04-05T16:43:09.586Z"
   },
   {
    "duration": 21,
    "start_time": "2024-04-05T16:43:11.439Z"
   },
   {
    "duration": 483,
    "start_time": "2024-04-05T16:43:11.470Z"
   },
   {
    "duration": 14,
    "start_time": "2024-04-05T16:43:11.955Z"
   },
   {
    "duration": 53806,
    "start_time": "2024-04-05T16:43:11.971Z"
   },
   {
    "duration": 2118,
    "start_time": "2024-04-05T16:44:05.779Z"
   },
   {
    "duration": 59,
    "start_time": "2024-04-05T16:44:07.900Z"
   },
   {
    "duration": 6,
    "start_time": "2024-04-05T16:44:07.960Z"
   },
   {
    "duration": 89,
    "start_time": "2024-04-05T16:44:07.968Z"
   },
   {
    "duration": 16,
    "start_time": "2024-04-05T16:44:08.059Z"
   },
   {
    "duration": 29,
    "start_time": "2024-04-05T16:44:08.076Z"
   },
   {
    "duration": 64,
    "start_time": "2024-04-05T16:44:08.106Z"
   },
   {
    "duration": 69,
    "start_time": "2024-04-05T16:44:08.172Z"
   },
   {
    "duration": 82,
    "start_time": "2024-04-05T16:44:08.242Z"
   },
   {
    "duration": 83,
    "start_time": "2024-04-05T16:44:08.326Z"
   },
   {
    "duration": 84,
    "start_time": "2024-04-05T16:44:08.411Z"
   },
   {
    "duration": 984,
    "start_time": "2024-04-05T16:44:08.497Z"
   },
   {
    "duration": 119,
    "start_time": "2024-04-05T16:44:09.482Z"
   },
   {
    "duration": 0,
    "start_time": "2024-04-05T16:44:09.603Z"
   },
   {
    "duration": 0,
    "start_time": "2024-04-05T16:44:09.604Z"
   },
   {
    "duration": 0,
    "start_time": "2024-04-05T16:44:09.605Z"
   },
   {
    "duration": 0,
    "start_time": "2024-04-05T16:44:09.606Z"
   },
   {
    "duration": 0,
    "start_time": "2024-04-05T16:44:09.608Z"
   },
   {
    "duration": 0,
    "start_time": "2024-04-05T16:44:09.609Z"
   },
   {
    "duration": 0,
    "start_time": "2024-04-05T16:44:09.610Z"
   },
   {
    "duration": 0,
    "start_time": "2024-04-05T16:44:09.611Z"
   },
   {
    "duration": 0,
    "start_time": "2024-04-05T16:44:09.612Z"
   },
   {
    "duration": 0,
    "start_time": "2024-04-05T16:44:09.614Z"
   },
   {
    "duration": 0,
    "start_time": "2024-04-05T16:44:09.614Z"
   },
   {
    "duration": 0,
    "start_time": "2024-04-05T16:44:09.615Z"
   },
   {
    "duration": 0,
    "start_time": "2024-04-05T16:44:09.616Z"
   },
   {
    "duration": 3516,
    "start_time": "2024-04-06T10:26:56.006Z"
   },
   {
    "duration": 1448,
    "start_time": "2024-04-06T10:26:59.524Z"
   },
   {
    "duration": 908,
    "start_time": "2024-04-06T10:27:00.974Z"
   },
   {
    "duration": 4,
    "start_time": "2024-04-06T10:27:01.883Z"
   },
   {
    "duration": 71,
    "start_time": "2024-04-06T10:27:01.889Z"
   },
   {
    "duration": 30,
    "start_time": "2024-04-06T10:27:01.961Z"
   },
   {
    "duration": 67,
    "start_time": "2024-04-06T10:27:01.992Z"
   },
   {
    "duration": 1602,
    "start_time": "2024-04-06T10:27:02.061Z"
   },
   {
    "duration": 22,
    "start_time": "2024-04-06T10:27:03.664Z"
   },
   {
    "duration": 375,
    "start_time": "2024-04-06T10:27:03.688Z"
   },
   {
    "duration": 7,
    "start_time": "2024-04-06T10:27:04.065Z"
   },
   {
    "duration": 42782,
    "start_time": "2024-04-06T10:27:04.073Z"
   },
   {
    "duration": 1716,
    "start_time": "2024-04-06T10:27:46.857Z"
   },
   {
    "duration": 35,
    "start_time": "2024-04-06T10:27:48.576Z"
   },
   {
    "duration": 5,
    "start_time": "2024-04-06T10:27:48.612Z"
   },
   {
    "duration": 69,
    "start_time": "2024-04-06T10:27:48.618Z"
   },
   {
    "duration": 7,
    "start_time": "2024-04-06T10:27:48.688Z"
   },
   {
    "duration": 31,
    "start_time": "2024-04-06T10:27:48.696Z"
   },
   {
    "duration": 27,
    "start_time": "2024-04-06T10:27:48.728Z"
   },
   {
    "duration": 66,
    "start_time": "2024-04-06T10:27:48.756Z"
   },
   {
    "duration": 50,
    "start_time": "2024-04-06T10:27:48.824Z"
   },
   {
    "duration": 54,
    "start_time": "2024-04-06T10:27:48.883Z"
   },
   {
    "duration": 67,
    "start_time": "2024-04-06T10:27:48.938Z"
   },
   {
    "duration": 810,
    "start_time": "2024-04-06T10:27:49.006Z"
   },
   {
    "duration": 107,
    "start_time": "2024-04-06T10:27:49.818Z"
   },
   {
    "duration": 0,
    "start_time": "2024-04-06T10:27:49.927Z"
   },
   {
    "duration": 0,
    "start_time": "2024-04-06T10:27:49.928Z"
   },
   {
    "duration": 0,
    "start_time": "2024-04-06T10:27:49.928Z"
   },
   {
    "duration": 0,
    "start_time": "2024-04-06T10:27:49.929Z"
   },
   {
    "duration": 0,
    "start_time": "2024-04-06T10:27:49.930Z"
   },
   {
    "duration": 0,
    "start_time": "2024-04-06T10:27:49.930Z"
   },
   {
    "duration": 0,
    "start_time": "2024-04-06T10:27:49.931Z"
   },
   {
    "duration": 0,
    "start_time": "2024-04-06T10:27:49.932Z"
   },
   {
    "duration": 0,
    "start_time": "2024-04-06T10:27:49.932Z"
   },
   {
    "duration": 0,
    "start_time": "2024-04-06T10:27:49.933Z"
   },
   {
    "duration": 0,
    "start_time": "2024-04-06T10:27:49.934Z"
   },
   {
    "duration": 0,
    "start_time": "2024-04-06T10:27:49.935Z"
   },
   {
    "duration": 0,
    "start_time": "2024-04-06T10:27:49.936Z"
   },
   {
    "duration": 11,
    "start_time": "2024-04-06T10:33:22.144Z"
   },
   {
    "duration": 4,
    "start_time": "2024-04-06T10:33:26.424Z"
   },
   {
    "duration": 5,
    "start_time": "2024-04-06T10:33:28.924Z"
   },
   {
    "duration": 169,
    "start_time": "2024-04-06T10:35:08.352Z"
   },
   {
    "duration": 10,
    "start_time": "2024-04-06T10:35:31.253Z"
   },
   {
    "duration": 168,
    "start_time": "2024-04-06T10:35:34.013Z"
   },
   {
    "duration": 13,
    "start_time": "2024-04-06T10:35:59.033Z"
   },
   {
    "duration": 2783,
    "start_time": "2024-04-06T10:36:13.353Z"
   },
   {
    "duration": 1257,
    "start_time": "2024-04-06T10:36:16.139Z"
   },
   {
    "duration": 671,
    "start_time": "2024-04-06T10:36:17.397Z"
   },
   {
    "duration": 4,
    "start_time": "2024-04-06T10:36:18.069Z"
   },
   {
    "duration": 10,
    "start_time": "2024-04-06T10:36:18.075Z"
   },
   {
    "duration": 5,
    "start_time": "2024-04-06T10:36:18.087Z"
   },
   {
    "duration": 4,
    "start_time": "2024-04-06T10:36:18.093Z"
   },
   {
    "duration": 1424,
    "start_time": "2024-04-06T10:36:18.098Z"
   },
   {
    "duration": 14,
    "start_time": "2024-04-06T10:36:19.523Z"
   },
   {
    "duration": 403,
    "start_time": "2024-04-06T10:36:19.538Z"
   },
   {
    "duration": 10,
    "start_time": "2024-04-06T10:36:19.943Z"
   },
   {
    "duration": 41890,
    "start_time": "2024-04-06T10:36:19.954Z"
   },
   {
    "duration": 1727,
    "start_time": "2024-04-06T10:37:01.846Z"
   },
   {
    "duration": 35,
    "start_time": "2024-04-06T10:37:03.575Z"
   },
   {
    "duration": 5,
    "start_time": "2024-04-06T10:37:03.611Z"
   },
   {
    "duration": 71,
    "start_time": "2024-04-06T10:37:03.617Z"
   },
   {
    "duration": 15,
    "start_time": "2024-04-06T10:37:03.689Z"
   },
   {
    "duration": 31,
    "start_time": "2024-04-06T10:37:03.705Z"
   },
   {
    "duration": 29,
    "start_time": "2024-04-06T10:37:03.737Z"
   },
   {
    "duration": 56,
    "start_time": "2024-04-06T10:37:03.767Z"
   },
   {
    "duration": 50,
    "start_time": "2024-04-06T10:37:03.824Z"
   },
   {
    "duration": 60,
    "start_time": "2024-04-06T10:37:03.875Z"
   },
   {
    "duration": 65,
    "start_time": "2024-04-06T10:37:03.936Z"
   },
   {
    "duration": 795,
    "start_time": "2024-04-06T10:37:04.002Z"
   },
   {
    "duration": 172,
    "start_time": "2024-04-06T10:37:04.798Z"
   },
   {
    "duration": 114,
    "start_time": "2024-04-06T10:37:04.971Z"
   },
   {
    "duration": 0,
    "start_time": "2024-04-06T10:37:05.086Z"
   },
   {
    "duration": 0,
    "start_time": "2024-04-06T10:37:05.087Z"
   },
   {
    "duration": 0,
    "start_time": "2024-04-06T10:37:05.087Z"
   },
   {
    "duration": 0,
    "start_time": "2024-04-06T10:37:05.089Z"
   },
   {
    "duration": 0,
    "start_time": "2024-04-06T10:37:05.090Z"
   },
   {
    "duration": 0,
    "start_time": "2024-04-06T10:37:05.091Z"
   },
   {
    "duration": 0,
    "start_time": "2024-04-06T10:37:05.092Z"
   },
   {
    "duration": 0,
    "start_time": "2024-04-06T10:37:05.093Z"
   },
   {
    "duration": 0,
    "start_time": "2024-04-06T10:37:05.093Z"
   },
   {
    "duration": 0,
    "start_time": "2024-04-06T10:37:05.094Z"
   },
   {
    "duration": 0,
    "start_time": "2024-04-06T10:37:05.095Z"
   },
   {
    "duration": 0,
    "start_time": "2024-04-06T10:37:05.096Z"
   },
   {
    "duration": 0,
    "start_time": "2024-04-06T10:37:05.097Z"
   },
   {
    "duration": 181,
    "start_time": "2024-04-06T10:39:05.644Z"
   },
   {
    "duration": 11,
    "start_time": "2024-04-06T10:39:08.003Z"
   },
   {
    "duration": 10,
    "start_time": "2024-04-06T10:39:16.323Z"
   },
   {
    "duration": 5,
    "start_time": "2024-04-06T10:40:33.695Z"
   },
   {
    "duration": 6,
    "start_time": "2024-04-06T10:40:39.962Z"
   },
   {
    "duration": 2611,
    "start_time": "2024-04-06T10:40:46.652Z"
   },
   {
    "duration": 1342,
    "start_time": "2024-04-06T10:40:49.265Z"
   },
   {
    "duration": 665,
    "start_time": "2024-04-06T10:40:50.608Z"
   },
   {
    "duration": 3,
    "start_time": "2024-04-06T10:40:51.275Z"
   },
   {
    "duration": 31,
    "start_time": "2024-04-06T10:40:51.283Z"
   },
   {
    "duration": 29,
    "start_time": "2024-04-06T10:40:51.315Z"
   },
   {
    "duration": 39,
    "start_time": "2024-04-06T10:40:51.345Z"
   },
   {
    "duration": 1504,
    "start_time": "2024-04-06T10:40:51.385Z"
   },
   {
    "duration": 16,
    "start_time": "2024-04-06T10:40:52.891Z"
   },
   {
    "duration": 501,
    "start_time": "2024-04-06T10:40:52.910Z"
   },
   {
    "duration": 10,
    "start_time": "2024-04-06T10:40:53.413Z"
   },
   {
    "duration": 40960,
    "start_time": "2024-04-06T10:40:53.425Z"
   },
   {
    "duration": 1699,
    "start_time": "2024-04-06T10:41:34.386Z"
   },
   {
    "duration": 37,
    "start_time": "2024-04-06T10:41:36.086Z"
   },
   {
    "duration": 5,
    "start_time": "2024-04-06T10:41:36.124Z"
   },
   {
    "duration": 72,
    "start_time": "2024-04-06T10:41:36.130Z"
   },
   {
    "duration": 6,
    "start_time": "2024-04-06T10:41:36.204Z"
   },
   {
    "duration": 27,
    "start_time": "2024-04-06T10:41:36.211Z"
   },
   {
    "duration": 46,
    "start_time": "2024-04-06T10:41:36.239Z"
   },
   {
    "duration": 51,
    "start_time": "2024-04-06T10:41:36.287Z"
   },
   {
    "duration": 61,
    "start_time": "2024-04-06T10:41:36.340Z"
   },
   {
    "duration": 52,
    "start_time": "2024-04-06T10:41:36.402Z"
   },
   {
    "duration": 66,
    "start_time": "2024-04-06T10:41:36.456Z"
   },
   {
    "duration": 817,
    "start_time": "2024-04-06T10:41:36.523Z"
   },
   {
    "duration": 168,
    "start_time": "2024-04-06T10:41:37.341Z"
   },
   {
    "duration": 1568,
    "start_time": "2024-04-06T10:41:37.511Z"
   },
   {
    "duration": 8,
    "start_time": "2024-04-06T10:41:39.084Z"
   },
   {
    "duration": 67,
    "start_time": "2024-04-06T10:41:39.094Z"
   },
   {
    "duration": 2,
    "start_time": "2024-04-06T10:41:39.162Z"
   },
   {
    "duration": 16,
    "start_time": "2024-04-06T10:41:39.165Z"
   },
   {
    "duration": 21,
    "start_time": "2024-04-06T10:41:39.182Z"
   },
   {
    "duration": 26,
    "start_time": "2024-04-06T10:41:39.204Z"
   },
   {
    "duration": 4018,
    "start_time": "2024-04-06T10:41:39.231Z"
   },
   {
    "duration": 0,
    "start_time": "2024-04-06T10:41:43.250Z"
   },
   {
    "duration": 0,
    "start_time": "2024-04-06T10:41:43.251Z"
   },
   {
    "duration": 0,
    "start_time": "2024-04-06T10:41:43.252Z"
   },
   {
    "duration": 0,
    "start_time": "2024-04-06T10:41:43.253Z"
   },
   {
    "duration": 0,
    "start_time": "2024-04-06T10:41:43.253Z"
   },
   {
    "duration": 0,
    "start_time": "2024-04-06T10:41:43.254Z"
   },
   {
    "duration": 171,
    "start_time": "2024-04-06T10:46:05.942Z"
   },
   {
    "duration": 174,
    "start_time": "2024-04-06T10:46:36.671Z"
   },
   {
    "duration": 9,
    "start_time": "2024-04-06T10:49:13.991Z"
   },
   {
    "duration": 5518,
    "start_time": "2024-04-06T10:56:28.739Z"
   },
   {
    "duration": 69,
    "start_time": "2024-04-06T10:56:34.260Z"
   },
   {
    "duration": 5172,
    "start_time": "2024-04-06T10:56:43.917Z"
   },
   {
    "duration": 1357,
    "start_time": "2024-04-06T10:56:49.091Z"
   },
   {
    "duration": 662,
    "start_time": "2024-04-06T10:56:50.450Z"
   },
   {
    "duration": 4,
    "start_time": "2024-04-06T10:56:51.113Z"
   },
   {
    "duration": 6,
    "start_time": "2024-04-06T10:56:51.119Z"
   },
   {
    "duration": 5,
    "start_time": "2024-04-06T10:56:51.126Z"
   },
   {
    "duration": 5,
    "start_time": "2024-04-06T10:56:51.132Z"
   },
   {
    "duration": 1455,
    "start_time": "2024-04-06T10:56:51.138Z"
   },
   {
    "duration": 20,
    "start_time": "2024-04-06T10:56:52.595Z"
   },
   {
    "duration": 425,
    "start_time": "2024-04-06T10:56:52.617Z"
   },
   {
    "duration": 8,
    "start_time": "2024-04-06T10:56:53.043Z"
   },
   {
    "duration": 41489,
    "start_time": "2024-04-06T10:56:53.052Z"
   },
   {
    "duration": 1710,
    "start_time": "2024-04-06T10:57:34.543Z"
   },
   {
    "duration": 35,
    "start_time": "2024-04-06T10:57:36.256Z"
   },
   {
    "duration": 42,
    "start_time": "2024-04-06T10:57:36.293Z"
   },
   {
    "duration": 71,
    "start_time": "2024-04-06T10:57:36.336Z"
   },
   {
    "duration": 6,
    "start_time": "2024-04-06T10:57:36.408Z"
   },
   {
    "duration": 29,
    "start_time": "2024-04-06T10:57:36.415Z"
   },
   {
    "duration": 38,
    "start_time": "2024-04-06T10:57:36.446Z"
   },
   {
    "duration": 52,
    "start_time": "2024-04-06T10:57:36.485Z"
   },
   {
    "duration": 56,
    "start_time": "2024-04-06T10:57:36.538Z"
   },
   {
    "duration": 54,
    "start_time": "2024-04-06T10:57:36.595Z"
   },
   {
    "duration": 75,
    "start_time": "2024-04-06T10:57:36.650Z"
   },
   {
    "duration": 818,
    "start_time": "2024-04-06T10:57:36.726Z"
   },
   {
    "duration": 175,
    "start_time": "2024-04-06T10:57:37.545Z"
   },
   {
    "duration": 1557,
    "start_time": "2024-04-06T10:57:37.721Z"
   },
   {
    "duration": 40143,
    "start_time": "2024-04-06T10:57:39.279Z"
   },
   {
    "duration": 11,
    "start_time": "2024-04-06T10:58:19.423Z"
   },
   {
    "duration": 65,
    "start_time": "2024-04-06T10:58:19.435Z"
   },
   {
    "duration": 2,
    "start_time": "2024-04-06T10:58:19.501Z"
   },
   {
    "duration": 11,
    "start_time": "2024-04-06T10:58:19.504Z"
   },
   {
    "duration": 10,
    "start_time": "2024-04-06T10:58:19.516Z"
   },
   {
    "duration": 4,
    "start_time": "2024-04-06T10:58:19.527Z"
   },
   {
    "duration": 1622,
    "start_time": "2024-04-06T10:58:19.533Z"
   },
   {
    "duration": 0,
    "start_time": "2024-04-06T10:58:21.156Z"
   },
   {
    "duration": 0,
    "start_time": "2024-04-06T10:58:21.157Z"
   },
   {
    "duration": 0,
    "start_time": "2024-04-06T10:58:21.158Z"
   },
   {
    "duration": 0,
    "start_time": "2024-04-06T10:58:21.159Z"
   },
   {
    "duration": 0,
    "start_time": "2024-04-06T10:58:21.160Z"
   },
   {
    "duration": 0,
    "start_time": "2024-04-06T10:58:21.161Z"
   },
   {
    "duration": 0,
    "start_time": "2024-04-06T10:58:21.162Z"
   },
   {
    "duration": 1656,
    "start_time": "2024-04-06T10:58:34.128Z"
   },
   {
    "duration": 14,
    "start_time": "2024-04-06T10:58:48.518Z"
   },
   {
    "duration": 121,
    "start_time": "2024-04-06T10:59:15.417Z"
   },
   {
    "duration": 2680,
    "start_time": "2024-04-06T10:59:19.167Z"
   },
   {
    "duration": 39,
    "start_time": "2024-04-06T11:01:03.757Z"
   },
   {
    "duration": 175,
    "start_time": "2024-04-06T11:01:17.998Z"
   },
   {
    "duration": 1588,
    "start_time": "2024-04-06T11:01:33.508Z"
   },
   {
    "duration": 3,
    "start_time": "2024-04-06T11:02:31.748Z"
   },
   {
    "duration": 2,
    "start_time": "2024-04-06T11:02:33.718Z"
   },
   {
    "duration": 1473,
    "start_time": "2024-04-06T11:02:35.009Z"
   },
   {
    "duration": 3,
    "start_time": "2024-04-06T11:04:40.978Z"
   },
   {
    "duration": 3,
    "start_time": "2024-04-06T11:04:51.409Z"
   },
   {
    "duration": 100,
    "start_time": "2024-04-06T11:08:44.830Z"
   },
   {
    "duration": 2,
    "start_time": "2024-04-06T11:08:56.830Z"
   },
   {
    "duration": 4,
    "start_time": "2024-04-06T11:16:44.851Z"
   },
   {
    "duration": 2,
    "start_time": "2024-04-06T11:16:46.780Z"
   },
   {
    "duration": 24196,
    "start_time": "2024-04-06T11:16:47.891Z"
   },
   {
    "duration": 6,
    "start_time": "2024-04-06T11:17:12.089Z"
   },
   {
    "duration": 16331,
    "start_time": "2024-04-06T11:17:12.096Z"
   },
   {
    "duration": 5,
    "start_time": "2024-04-06T11:17:28.428Z"
   },
   {
    "duration": 13,
    "start_time": "2024-04-06T11:17:28.434Z"
   },
   {
    "duration": 2842,
    "start_time": "2024-04-06T11:17:28.448Z"
   },
   {
    "duration": 93,
    "start_time": "2024-04-06T11:17:31.291Z"
   },
   {
    "duration": 62358,
    "start_time": "2024-04-06T14:05:44.711Z"
   },
   {
    "duration": 4,
    "start_time": "2024-04-06T14:33:56.027Z"
   },
   {
    "duration": 4,
    "start_time": "2024-04-06T14:35:33.126Z"
   },
   {
    "duration": 2673,
    "start_time": "2024-04-06T14:37:27.876Z"
   },
   {
    "duration": 1255,
    "start_time": "2024-04-06T14:37:30.551Z"
   },
   {
    "duration": 677,
    "start_time": "2024-04-06T14:37:31.807Z"
   },
   {
    "duration": 4,
    "start_time": "2024-04-06T14:37:32.486Z"
   },
   {
    "duration": 33,
    "start_time": "2024-04-06T14:37:32.491Z"
   },
   {
    "duration": 28,
    "start_time": "2024-04-06T14:37:32.525Z"
   },
   {
    "duration": 25,
    "start_time": "2024-04-06T14:37:32.554Z"
   },
   {
    "duration": 1478,
    "start_time": "2024-04-06T14:37:32.580Z"
   },
   {
    "duration": 25,
    "start_time": "2024-04-06T14:37:34.060Z"
   },
   {
    "duration": 406,
    "start_time": "2024-04-06T14:37:34.087Z"
   },
   {
    "duration": 9,
    "start_time": "2024-04-06T14:37:34.494Z"
   },
   {
    "duration": 41222,
    "start_time": "2024-04-06T14:37:34.504Z"
   },
   {
    "duration": 1782,
    "start_time": "2024-04-06T14:38:15.727Z"
   },
   {
    "duration": 35,
    "start_time": "2024-04-06T14:38:17.511Z"
   },
   {
    "duration": 5,
    "start_time": "2024-04-06T14:38:17.547Z"
   },
   {
    "duration": 69,
    "start_time": "2024-04-06T14:38:17.553Z"
   },
   {
    "duration": 5,
    "start_time": "2024-04-06T14:38:17.623Z"
   },
   {
    "duration": 39,
    "start_time": "2024-04-06T14:38:17.629Z"
   },
   {
    "duration": 27,
    "start_time": "2024-04-06T14:38:17.670Z"
   },
   {
    "duration": 51,
    "start_time": "2024-04-06T14:38:17.699Z"
   },
   {
    "duration": 61,
    "start_time": "2024-04-06T14:38:17.751Z"
   },
   {
    "duration": 53,
    "start_time": "2024-04-06T14:38:17.813Z"
   },
   {
    "duration": 67,
    "start_time": "2024-04-06T14:38:17.868Z"
   },
   {
    "duration": 835,
    "start_time": "2024-04-06T14:38:17.936Z"
   },
   {
    "duration": 178,
    "start_time": "2024-04-06T14:38:18.772Z"
   },
   {
    "duration": 1595,
    "start_time": "2024-04-06T14:38:18.951Z"
   },
   {
    "duration": 74,
    "start_time": "2024-04-06T14:38:20.548Z"
   },
   {
    "duration": 3,
    "start_time": "2024-04-06T14:38:20.626Z"
   },
   {
    "duration": 3,
    "start_time": "2024-04-06T14:38:20.631Z"
   },
   {
    "duration": 9,
    "start_time": "2024-04-06T14:38:20.635Z"
   },
   {
    "duration": 5,
    "start_time": "2024-04-06T14:38:20.645Z"
   },
   {
    "duration": 7,
    "start_time": "2024-04-06T14:38:20.651Z"
   },
   {
    "duration": 118000,
    "start_time": "2024-04-06T14:38:20.659Z"
   },
   {
    "duration": 7,
    "start_time": "2024-04-06T14:40:18.660Z"
   },
   {
    "duration": 78255,
    "start_time": "2024-04-06T14:40:18.668Z"
   },
   {
    "duration": 6,
    "start_time": "2024-04-06T14:41:36.924Z"
   },
   {
    "duration": 3,
    "start_time": "2024-04-06T14:41:36.931Z"
   },
   {
    "duration": 15850,
    "start_time": "2024-04-06T14:41:36.935Z"
   },
   {
    "duration": 7,
    "start_time": "2024-04-06T14:41:52.786Z"
   },
   {
    "duration": 4,
    "start_time": "2024-04-06T14:41:52.794Z"
   },
   {
    "duration": 3,
    "start_time": "2024-04-06T15:46:20.597Z"
   },
   {
    "duration": 128,
    "start_time": "2024-04-06T15:46:21.908Z"
   },
   {
    "duration": 5,
    "start_time": "2024-04-06T15:46:23.598Z"
   },
   {
    "duration": 3,
    "start_time": "2024-04-06T15:47:05.507Z"
   },
   {
    "duration": 4,
    "start_time": "2024-04-06T15:47:56.157Z"
   },
   {
    "duration": 99,
    "start_time": "2024-04-06T15:58:51.024Z"
   },
   {
    "duration": 3548,
    "start_time": "2024-04-08T08:56:51.376Z"
   },
   {
    "duration": 1709,
    "start_time": "2024-04-08T08:56:54.927Z"
   },
   {
    "duration": 2977,
    "start_time": "2024-04-08T08:56:56.638Z"
   },
   {
    "duration": 6,
    "start_time": "2024-04-08T08:56:59.617Z"
   },
   {
    "duration": 16,
    "start_time": "2024-04-08T08:56:59.625Z"
   },
   {
    "duration": 10,
    "start_time": "2024-04-08T08:56:59.644Z"
   },
   {
    "duration": 9,
    "start_time": "2024-04-08T08:56:59.656Z"
   },
   {
    "duration": 1990,
    "start_time": "2024-04-08T08:56:59.666Z"
   },
   {
    "duration": 24,
    "start_time": "2024-04-08T08:57:01.658Z"
   },
   {
    "duration": 672,
    "start_time": "2024-04-08T08:57:01.685Z"
   },
   {
    "duration": 15,
    "start_time": "2024-04-08T08:57:02.359Z"
   },
   {
    "duration": 59949,
    "start_time": "2024-04-08T08:57:02.377Z"
   },
   {
    "duration": 2517,
    "start_time": "2024-04-08T08:58:02.327Z"
   },
   {
    "duration": 71,
    "start_time": "2024-04-08T08:58:04.846Z"
   },
   {
    "duration": 32,
    "start_time": "2024-04-08T08:58:04.919Z"
   },
   {
    "duration": 194,
    "start_time": "2024-04-08T08:58:04.953Z"
   },
   {
    "duration": 18,
    "start_time": "2024-04-08T08:58:05.148Z"
   },
   {
    "duration": 40,
    "start_time": "2024-04-08T08:58:05.168Z"
   },
   {
    "duration": 68,
    "start_time": "2024-04-08T08:58:05.209Z"
   },
   {
    "duration": 92,
    "start_time": "2024-04-08T08:58:05.279Z"
   },
   {
    "duration": 73,
    "start_time": "2024-04-08T08:58:05.373Z"
   },
   {
    "duration": 92,
    "start_time": "2024-04-08T08:58:05.448Z"
   },
   {
    "duration": 103,
    "start_time": "2024-04-08T08:58:05.542Z"
   },
   {
    "duration": 1204,
    "start_time": "2024-04-08T08:58:05.647Z"
   },
   {
    "duration": 232,
    "start_time": "2024-04-08T08:58:06.853Z"
   },
   {
    "duration": 2091,
    "start_time": "2024-04-08T08:58:07.087Z"
   },
   {
    "duration": 96,
    "start_time": "2024-04-08T08:58:09.180Z"
   },
   {
    "duration": 5,
    "start_time": "2024-04-08T08:58:09.279Z"
   },
   {
    "duration": 4,
    "start_time": "2024-04-08T08:58:09.286Z"
   },
   {
    "duration": 7,
    "start_time": "2024-04-08T08:58:09.292Z"
   },
   {
    "duration": 9,
    "start_time": "2024-04-08T08:58:09.301Z"
   },
   {
    "duration": 7,
    "start_time": "2024-04-08T08:58:09.312Z"
   },
   {
    "duration": 177259,
    "start_time": "2024-04-08T08:58:09.320Z"
   },
   {
    "duration": 9,
    "start_time": "2024-04-08T09:01:06.581Z"
   },
   {
    "duration": 100351,
    "start_time": "2024-04-08T09:01:06.592Z"
   },
   {
    "duration": 7,
    "start_time": "2024-04-08T09:02:46.945Z"
   },
   {
    "duration": 28,
    "start_time": "2024-04-08T09:02:46.953Z"
   },
   {
    "duration": 178295,
    "start_time": "2024-04-08T09:02:46.983Z"
   },
   {
    "duration": 85,
    "start_time": "2024-04-08T09:05:45.280Z"
   },
   {
    "duration": 6,
    "start_time": "2024-04-08T09:05:45.367Z"
   },
   {
    "duration": 25,
    "start_time": "2024-04-08T09:05:45.375Z"
   },
   {
    "duration": 210,
    "start_time": "2024-04-08T09:05:45.402Z"
   },
   {
    "duration": 5,
    "start_time": "2024-04-08T09:05:45.614Z"
   },
   {
    "duration": 3747,
    "start_time": "2024-04-08T14:37:09.674Z"
   },
   {
    "duration": 1770,
    "start_time": "2024-04-08T14:37:13.424Z"
   },
   {
    "duration": 1264,
    "start_time": "2024-04-08T14:37:15.196Z"
   },
   {
    "duration": 4,
    "start_time": "2024-04-08T14:37:16.462Z"
   },
   {
    "duration": 27,
    "start_time": "2024-04-08T14:37:16.469Z"
   },
   {
    "duration": 61,
    "start_time": "2024-04-08T14:37:16.497Z"
   },
   {
    "duration": 29,
    "start_time": "2024-04-08T14:37:16.560Z"
   },
   {
    "duration": 2114,
    "start_time": "2024-04-08T14:37:16.591Z"
   },
   {
    "duration": 16,
    "start_time": "2024-04-08T14:37:18.707Z"
   },
   {
    "duration": 614,
    "start_time": "2024-04-08T14:37:18.724Z"
   },
   {
    "duration": 9,
    "start_time": "2024-04-08T14:37:19.340Z"
   },
   {
    "duration": 61246,
    "start_time": "2024-04-08T14:37:19.351Z"
   },
   {
    "duration": 2378,
    "start_time": "2024-04-08T14:38:20.598Z"
   },
   {
    "duration": 62,
    "start_time": "2024-04-08T14:38:22.979Z"
   },
   {
    "duration": 8,
    "start_time": "2024-04-08T14:38:23.043Z"
   },
   {
    "duration": 121,
    "start_time": "2024-04-08T14:38:23.052Z"
   },
   {
    "duration": 8,
    "start_time": "2024-04-08T14:38:23.175Z"
   },
   {
    "duration": 37,
    "start_time": "2024-04-08T14:38:23.184Z"
   },
   {
    "duration": 43,
    "start_time": "2024-04-08T14:38:23.223Z"
   },
   {
    "duration": 97,
    "start_time": "2024-04-08T14:38:23.268Z"
   },
   {
    "duration": 86,
    "start_time": "2024-04-08T14:38:23.367Z"
   },
   {
    "duration": 91,
    "start_time": "2024-04-08T14:38:23.454Z"
   },
   {
    "duration": 88,
    "start_time": "2024-04-08T14:38:23.547Z"
   },
   {
    "duration": 1180,
    "start_time": "2024-04-08T14:38:23.637Z"
   },
   {
    "duration": 237,
    "start_time": "2024-04-08T14:38:24.819Z"
   },
   {
    "duration": 2157,
    "start_time": "2024-04-08T14:38:25.058Z"
   },
   {
    "duration": 89,
    "start_time": "2024-04-08T14:38:27.216Z"
   },
   {
    "duration": 5,
    "start_time": "2024-04-08T14:38:27.307Z"
   },
   {
    "duration": 18,
    "start_time": "2024-04-08T14:38:27.314Z"
   },
   {
    "duration": 25,
    "start_time": "2024-04-08T14:38:27.334Z"
   },
   {
    "duration": 3399,
    "start_time": "2024-04-08T14:38:27.360Z"
   },
   {
    "duration": 179,
    "start_time": "2024-04-08T14:38:30.762Z"
   },
   {
    "duration": 533,
    "start_time": "2024-04-08T14:38:30.943Z"
   },
   {
    "duration": 0,
    "start_time": "2024-04-08T14:38:31.479Z"
   },
   {
    "duration": 0,
    "start_time": "2024-04-08T14:38:31.481Z"
   },
   {
    "duration": 0,
    "start_time": "2024-04-08T14:38:31.483Z"
   },
   {
    "duration": 0,
    "start_time": "2024-04-08T14:38:31.492Z"
   },
   {
    "duration": 0,
    "start_time": "2024-04-08T14:38:31.494Z"
   },
   {
    "duration": 0,
    "start_time": "2024-04-08T14:38:31.495Z"
   },
   {
    "duration": 0,
    "start_time": "2024-04-08T14:38:31.497Z"
   },
   {
    "duration": 0,
    "start_time": "2024-04-08T14:38:31.499Z"
   },
   {
    "duration": 0,
    "start_time": "2024-04-08T14:38:31.500Z"
   },
   {
    "duration": 0,
    "start_time": "2024-04-08T14:38:31.502Z"
   },
   {
    "duration": 281,
    "start_time": "2024-04-08T14:40:22.313Z"
   },
   {
    "duration": 6,
    "start_time": "2024-04-08T14:41:46.364Z"
   },
   {
    "duration": 5,
    "start_time": "2024-04-08T14:41:49.184Z"
   },
   {
    "duration": 4,
    "start_time": "2024-04-08T14:41:49.884Z"
   },
   {
    "duration": 245204,
    "start_time": "2024-04-08T14:41:50.634Z"
   },
   {
    "duration": 2,
    "start_time": "2024-04-08T14:52:01.573Z"
   },
   {
    "duration": 2,
    "start_time": "2024-04-08T14:52:20.652Z"
   },
   {
    "duration": 7,
    "start_time": "2024-04-08T15:01:48.535Z"
   },
   {
    "duration": 6,
    "start_time": "2024-04-08T15:02:33.821Z"
   },
   {
    "duration": 3,
    "start_time": "2024-04-08T15:02:38.920Z"
   },
   {
    "duration": 91603,
    "start_time": "2024-04-08T15:02:41.321Z"
   },
   {
    "duration": 6,
    "start_time": "2024-04-08T15:08:15.109Z"
   },
   {
    "duration": 4,
    "start_time": "2024-04-08T15:08:20.758Z"
   },
   {
    "duration": 90,
    "start_time": "2024-04-08T15:08:21.530Z"
   },
   {
    "duration": 9745,
    "start_time": "2024-04-08T15:09:45.870Z"
   },
   {
    "duration": 10104,
    "start_time": "2024-04-08T15:10:30.440Z"
   },
   {
    "duration": 7,
    "start_time": "2024-04-08T15:10:41.359Z"
   },
   {
    "duration": 7,
    "start_time": "2024-04-08T15:10:52.589Z"
   },
   {
    "duration": 4,
    "start_time": "2024-04-08T15:10:55.730Z"
   },
   {
    "duration": 114,
    "start_time": "2024-04-08T15:10:56.480Z"
   },
   {
    "duration": 6,
    "start_time": "2024-04-08T15:12:26.867Z"
   },
   {
    "duration": 6,
    "start_time": "2024-04-08T15:18:32.519Z"
   },
   {
    "duration": 3,
    "start_time": "2024-04-08T15:18:35.988Z"
   },
   {
    "duration": 92,
    "start_time": "2024-04-08T15:18:36.688Z"
   },
   {
    "duration": 6,
    "start_time": "2024-04-08T15:18:46.939Z"
   },
   {
    "duration": 3,
    "start_time": "2024-04-08T15:18:49.188Z"
   },
   {
    "duration": 467202,
    "start_time": "2024-04-08T15:18:50.214Z"
   },
   {
    "duration": 5,
    "start_time": "2024-04-08T15:34:37.438Z"
   },
   {
    "duration": 3,
    "start_time": "2024-04-08T15:34:41.006Z"
   },
   {
    "duration": 732,
    "start_time": "2024-04-08T15:35:03.456Z"
   },
   {
    "duration": 3,
    "start_time": "2024-04-08T15:36:55.865Z"
   },
   {
    "duration": 4,
    "start_time": "2024-04-08T15:36:58.026Z"
   },
   {
    "duration": 5,
    "start_time": "2024-04-08T15:37:09.236Z"
   },
   {
    "duration": 3,
    "start_time": "2024-04-08T15:37:12.086Z"
   },
   {
    "duration": 646,
    "start_time": "2024-04-08T15:37:12.747Z"
   },
   {
    "duration": 5,
    "start_time": "2024-04-08T15:38:02.167Z"
   },
   {
    "duration": 3,
    "start_time": "2024-04-08T15:38:05.325Z"
   },
   {
    "duration": 712,
    "start_time": "2024-04-08T15:38:06.407Z"
   },
   {
    "duration": 4,
    "start_time": "2024-04-08T15:39:43.696Z"
   },
   {
    "duration": 5,
    "start_time": "2024-04-08T15:39:44.226Z"
   },
   {
    "duration": 3,
    "start_time": "2024-04-08T15:39:46.576Z"
   },
   {
    "duration": 228866,
    "start_time": "2024-04-08T15:39:47.156Z"
   },
   {
    "duration": 4,
    "start_time": "2024-04-08T15:47:51.335Z"
   },
   {
    "duration": 5,
    "start_time": "2024-04-08T15:48:12.005Z"
   },
   {
    "duration": 81,
    "start_time": "2024-04-08T15:48:17.395Z"
   },
   {
    "duration": 6,
    "start_time": "2024-04-08T15:48:20.075Z"
   },
   {
    "duration": 3,
    "start_time": "2024-04-08T15:48:22.194Z"
   },
   {
    "duration": 234638,
    "start_time": "2024-04-08T15:48:33.495Z"
   },
   {
    "duration": 11,
    "start_time": "2024-04-08T16:02:10.753Z"
   },
   {
    "duration": 92887,
    "start_time": "2024-04-08T16:02:15.082Z"
   },
   {
    "duration": 12,
    "start_time": "2024-04-08T16:03:47.971Z"
   },
   {
    "duration": 4,
    "start_time": "2024-04-08T16:03:47.992Z"
   },
   {
    "duration": 23696,
    "start_time": "2024-04-08T16:03:47.999Z"
   },
   {
    "duration": 11,
    "start_time": "2024-04-08T16:04:11.697Z"
   },
   {
    "duration": 12,
    "start_time": "2024-04-08T16:04:11.710Z"
   },
   {
    "duration": 4,
    "start_time": "2024-04-08T16:04:11.724Z"
   },
   {
    "duration": 243,
    "start_time": "2024-04-08T16:04:11.730Z"
   },
   {
    "duration": 7,
    "start_time": "2024-04-08T16:04:11.975Z"
   },
   {
    "duration": 77,
    "start_time": "2024-04-08T16:05:59.322Z"
   },
   {
    "duration": 14,
    "start_time": "2024-04-08T16:06:01.552Z"
   },
   {
    "duration": 4,
    "start_time": "2024-04-08T16:06:07.782Z"
   },
   {
    "duration": 4,
    "start_time": "2024-04-08T16:06:10.832Z"
   },
   {
    "duration": 6075,
    "start_time": "2024-04-08T16:08:47.609Z"
   },
   {
    "duration": 1452,
    "start_time": "2024-04-08T16:08:53.686Z"
   },
   {
    "duration": 1005,
    "start_time": "2024-04-08T16:08:55.139Z"
   },
   {
    "duration": 4,
    "start_time": "2024-04-08T16:08:56.146Z"
   },
   {
    "duration": 8,
    "start_time": "2024-04-08T16:08:56.152Z"
   },
   {
    "duration": 9,
    "start_time": "2024-04-08T16:08:56.161Z"
   },
   {
    "duration": 4,
    "start_time": "2024-04-08T16:08:56.172Z"
   },
   {
    "duration": 2144,
    "start_time": "2024-04-08T16:08:56.191Z"
   },
   {
    "duration": 23,
    "start_time": "2024-04-08T16:08:58.337Z"
   },
   {
    "duration": 597,
    "start_time": "2024-04-08T16:08:58.362Z"
   },
   {
    "duration": 10,
    "start_time": "2024-04-08T16:08:58.961Z"
   },
   {
    "duration": 61108,
    "start_time": "2024-04-08T16:08:58.973Z"
   },
   {
    "duration": 2381,
    "start_time": "2024-04-08T16:10:00.083Z"
   },
   {
    "duration": 61,
    "start_time": "2024-04-08T16:10:02.467Z"
   },
   {
    "duration": 222,
    "start_time": "2024-04-08T16:10:02.529Z"
   },
   {
    "duration": 347,
    "start_time": "2024-04-08T16:10:02.753Z"
   },
   {
    "duration": 94,
    "start_time": "2024-04-08T16:10:03.102Z"
   },
   {
    "duration": 80,
    "start_time": "2024-04-08T16:10:03.198Z"
   },
   {
    "duration": 47,
    "start_time": "2024-04-08T16:10:03.280Z"
   },
   {
    "duration": 101,
    "start_time": "2024-04-08T16:10:03.328Z"
   },
   {
    "duration": 82,
    "start_time": "2024-04-08T16:10:03.431Z"
   },
   {
    "duration": 88,
    "start_time": "2024-04-08T16:10:03.515Z"
   },
   {
    "duration": 92,
    "start_time": "2024-04-08T16:10:03.605Z"
   },
   {
    "duration": 1137,
    "start_time": "2024-04-08T16:10:03.699Z"
   },
   {
    "duration": 230,
    "start_time": "2024-04-08T16:10:04.838Z"
   },
   {
    "duration": 2119,
    "start_time": "2024-04-08T16:10:05.069Z"
   },
   {
    "duration": 105,
    "start_time": "2024-04-08T16:10:07.190Z"
   },
   {
    "duration": 5,
    "start_time": "2024-04-08T16:10:07.296Z"
   },
   {
    "duration": 22,
    "start_time": "2024-04-08T16:10:07.303Z"
   },
   {
    "duration": 4,
    "start_time": "2024-04-08T16:10:07.327Z"
   },
   {
    "duration": 138,
    "start_time": "2024-04-08T16:10:07.333Z"
   },
   {
    "duration": 0,
    "start_time": "2024-04-08T16:10:07.473Z"
   },
   {
    "duration": 0,
    "start_time": "2024-04-08T16:10:07.474Z"
   },
   {
    "duration": 0,
    "start_time": "2024-04-08T16:10:10.933Z"
   },
   {
    "duration": 0,
    "start_time": "2024-04-08T16:10:10.934Z"
   },
   {
    "duration": 0,
    "start_time": "2024-04-08T16:10:10.935Z"
   },
   {
    "duration": 0,
    "start_time": "2024-04-08T16:10:10.936Z"
   },
   {
    "duration": 0,
    "start_time": "2024-04-08T16:10:10.937Z"
   },
   {
    "duration": 0,
    "start_time": "2024-04-08T16:10:10.938Z"
   },
   {
    "duration": 0,
    "start_time": "2024-04-08T16:10:10.939Z"
   },
   {
    "duration": 0,
    "start_time": "2024-04-08T16:10:10.941Z"
   },
   {
    "duration": 0,
    "start_time": "2024-04-08T16:10:10.941Z"
   },
   {
    "duration": 0,
    "start_time": "2024-04-08T16:10:10.943Z"
   },
   {
    "duration": 12,
    "start_time": "2024-04-08T16:10:34.600Z"
   },
   {
    "duration": 15,
    "start_time": "2024-04-08T16:10:45.980Z"
   },
   {
    "duration": 11,
    "start_time": "2024-04-08T16:13:43.090Z"
   },
   {
    "duration": 4,
    "start_time": "2024-04-08T16:14:07.380Z"
   },
   {
    "duration": 3,
    "start_time": "2024-04-08T16:14:11.079Z"
   },
   {
    "duration": 237278,
    "start_time": "2024-04-08T16:14:11.759Z"
   },
   {
    "duration": 5,
    "start_time": "2024-04-08T16:26:06.738Z"
   },
   {
    "duration": 85,
    "start_time": "2024-04-08T16:26:15.417Z"
   },
   {
    "duration": 4,
    "start_time": "2024-04-08T16:26:19.518Z"
   },
   {
    "duration": 4,
    "start_time": "2024-04-08T16:26:22.067Z"
   },
   {
    "duration": 91,
    "start_time": "2024-04-08T16:30:08.449Z"
   },
   {
    "duration": 3,
    "start_time": "2024-04-08T16:30:08.542Z"
   },
   {
    "duration": 39,
    "start_time": "2024-04-08T16:30:08.547Z"
   },
   {
    "duration": 15,
    "start_time": "2024-04-08T16:30:08.589Z"
   },
   {
    "duration": 61,
    "start_time": "2024-04-08T16:30:08.607Z"
   },
   {
    "duration": 211564,
    "start_time": "2024-04-08T16:30:08.670Z"
   },
   {
    "duration": 11,
    "start_time": "2024-04-08T16:34:16.607Z"
   },
   {
    "duration": 79110,
    "start_time": "2024-04-08T16:38:13.467Z"
   },
   {
    "duration": 18,
    "start_time": "2024-04-08T16:39:32.580Z"
   },
   {
    "duration": 18,
    "start_time": "2024-04-08T16:39:32.600Z"
   },
   {
    "duration": 20881,
    "start_time": "2024-04-08T16:39:32.621Z"
   },
   {
    "duration": 12,
    "start_time": "2024-04-08T16:39:53.503Z"
   },
   {
    "duration": 15,
    "start_time": "2024-04-08T16:39:53.516Z"
   },
   {
    "duration": 61,
    "start_time": "2024-04-08T16:39:53.533Z"
   },
   {
    "duration": 215,
    "start_time": "2024-04-08T16:39:53.595Z"
   },
   {
    "duration": 6,
    "start_time": "2024-04-08T16:39:53.812Z"
   },
   {
    "duration": 8854,
    "start_time": "2024-04-09T03:17:20.474Z"
   },
   {
    "duration": 1354,
    "start_time": "2024-04-09T03:17:29.330Z"
   },
   {
    "duration": 2651,
    "start_time": "2024-04-09T03:17:30.685Z"
   },
   {
    "duration": 4,
    "start_time": "2024-04-09T03:17:33.337Z"
   },
   {
    "duration": 27,
    "start_time": "2024-04-09T03:17:33.342Z"
   },
   {
    "duration": 20,
    "start_time": "2024-04-09T03:17:33.370Z"
   },
   {
    "duration": 6,
    "start_time": "2024-04-09T03:17:33.391Z"
   },
   {
    "duration": 1504,
    "start_time": "2024-04-09T03:17:33.399Z"
   },
   {
    "duration": 20,
    "start_time": "2024-04-09T03:17:34.905Z"
   },
   {
    "duration": 432,
    "start_time": "2024-04-09T03:17:34.927Z"
   },
   {
    "duration": 8,
    "start_time": "2024-04-09T03:17:35.360Z"
   },
   {
    "duration": 42468,
    "start_time": "2024-04-09T03:17:35.369Z"
   },
   {
    "duration": 1690,
    "start_time": "2024-04-09T03:18:17.838Z"
   },
   {
    "duration": 36,
    "start_time": "2024-04-09T03:18:19.529Z"
   },
   {
    "duration": 5,
    "start_time": "2024-04-09T03:18:19.566Z"
   },
   {
    "duration": 91,
    "start_time": "2024-04-09T03:18:19.572Z"
   },
   {
    "duration": 7,
    "start_time": "2024-04-09T03:18:19.664Z"
   },
   {
    "duration": 45,
    "start_time": "2024-04-09T03:18:19.673Z"
   },
   {
    "duration": 28,
    "start_time": "2024-04-09T03:18:19.719Z"
   },
   {
    "duration": 62,
    "start_time": "2024-04-09T03:18:19.749Z"
   },
   {
    "duration": 59,
    "start_time": "2024-04-09T03:18:19.812Z"
   },
   {
    "duration": 71,
    "start_time": "2024-04-09T03:18:19.872Z"
   },
   {
    "duration": 62,
    "start_time": "2024-04-09T03:18:19.944Z"
   },
   {
    "duration": 838,
    "start_time": "2024-04-09T03:18:20.008Z"
   },
   {
    "duration": 174,
    "start_time": "2024-04-09T03:18:20.847Z"
   },
   {
    "duration": 1642,
    "start_time": "2024-04-09T03:18:21.022Z"
   },
   {
    "duration": 61,
    "start_time": "2024-04-09T03:18:22.665Z"
   },
   {
    "duration": 4,
    "start_time": "2024-04-09T03:18:22.729Z"
   },
   {
    "duration": 26,
    "start_time": "2024-04-09T03:18:22.734Z"
   },
   {
    "duration": 18,
    "start_time": "2024-04-09T03:18:22.761Z"
   },
   {
    "duration": 18,
    "start_time": "2024-04-09T03:18:22.780Z"
   },
   {
    "duration": 25,
    "start_time": "2024-04-09T03:18:22.800Z"
   },
   {
    "duration": 167064,
    "start_time": "2024-04-09T03:18:22.826Z"
   },
   {
    "duration": 15,
    "start_time": "2024-04-09T03:21:09.901Z"
   },
   {
    "duration": 63724,
    "start_time": "2024-04-09T03:21:09.917Z"
   },
   {
    "duration": 8,
    "start_time": "2024-04-09T03:22:13.642Z"
   },
   {
    "duration": 2,
    "start_time": "2024-04-09T03:22:13.652Z"
   },
   {
    "duration": 16559,
    "start_time": "2024-04-09T03:22:13.655Z"
   },
   {
    "duration": 91,
    "start_time": "2024-04-09T03:22:30.215Z"
   },
   {
    "duration": 11,
    "start_time": "2024-04-09T03:22:30.307Z"
   },
   {
    "duration": 45,
    "start_time": "2024-04-09T03:22:30.319Z"
   },
   {
    "duration": 31457,
    "start_time": "2024-04-09T03:22:30.365Z"
   },
   {
    "duration": 4,
    "start_time": "2024-04-09T03:23:01.824Z"
   },
   {
    "duration": 70,
    "start_time": "2024-04-09T03:23:01.831Z"
   },
   {
    "duration": 3,
    "start_time": "2024-04-09T03:35:34.059Z"
   },
   {
    "duration": 5546,
    "start_time": "2024-04-09T03:40:43.378Z"
   },
   {
    "duration": 1247,
    "start_time": "2024-04-09T03:40:48.926Z"
   },
   {
    "duration": 710,
    "start_time": "2024-04-09T03:40:50.175Z"
   },
   {
    "duration": 4,
    "start_time": "2024-04-09T03:40:50.887Z"
   },
   {
    "duration": 12,
    "start_time": "2024-04-09T03:40:50.892Z"
   },
   {
    "duration": 22,
    "start_time": "2024-04-09T03:40:50.905Z"
   },
   {
    "duration": 19,
    "start_time": "2024-04-09T03:40:50.928Z"
   },
   {
    "duration": 1496,
    "start_time": "2024-04-09T03:40:50.949Z"
   },
   {
    "duration": 14,
    "start_time": "2024-04-09T03:40:52.447Z"
   },
   {
    "duration": 415,
    "start_time": "2024-04-09T03:40:52.465Z"
   },
   {
    "duration": 11,
    "start_time": "2024-04-09T03:40:52.882Z"
   },
   {
    "duration": 41956,
    "start_time": "2024-04-09T03:40:52.894Z"
   },
   {
    "duration": 1757,
    "start_time": "2024-04-09T03:41:34.851Z"
   },
   {
    "duration": 38,
    "start_time": "2024-04-09T03:41:36.609Z"
   },
   {
    "duration": 5,
    "start_time": "2024-04-09T03:41:36.648Z"
   },
   {
    "duration": 65,
    "start_time": "2024-04-09T03:41:36.654Z"
   },
   {
    "duration": 5,
    "start_time": "2024-04-09T03:41:36.720Z"
   },
   {
    "duration": 50,
    "start_time": "2024-04-09T03:41:36.727Z"
   },
   {
    "duration": 29,
    "start_time": "2024-04-09T03:41:36.778Z"
   },
   {
    "duration": 51,
    "start_time": "2024-04-09T03:41:36.808Z"
   },
   {
    "duration": 61,
    "start_time": "2024-04-09T03:41:36.860Z"
   },
   {
    "duration": 54,
    "start_time": "2024-04-09T03:41:36.923Z"
   },
   {
    "duration": 66,
    "start_time": "2024-04-09T03:41:36.978Z"
   },
   {
    "duration": 809,
    "start_time": "2024-04-09T03:41:37.045Z"
   },
   {
    "duration": 179,
    "start_time": "2024-04-09T03:41:37.855Z"
   },
   {
    "duration": 1640,
    "start_time": "2024-04-09T03:41:38.035Z"
   },
   {
    "duration": 58,
    "start_time": "2024-04-09T03:41:39.676Z"
   },
   {
    "duration": 4,
    "start_time": "2024-04-09T03:41:39.737Z"
   },
   {
    "duration": 6,
    "start_time": "2024-04-09T03:41:39.742Z"
   },
   {
    "duration": 10,
    "start_time": "2024-04-09T03:41:39.749Z"
   },
   {
    "duration": 11,
    "start_time": "2024-04-09T03:41:39.760Z"
   },
   {
    "duration": 11,
    "start_time": "2024-04-09T03:41:39.772Z"
   },
   {
    "duration": 2885,
    "start_time": "2024-04-09T03:41:39.785Z"
   },
   {
    "duration": 0,
    "start_time": "2024-04-09T03:41:42.671Z"
   },
   {
    "duration": 0,
    "start_time": "2024-04-09T03:41:42.672Z"
   },
   {
    "duration": 0,
    "start_time": "2024-04-09T03:41:42.673Z"
   },
   {
    "duration": 0,
    "start_time": "2024-04-09T03:41:42.673Z"
   },
   {
    "duration": 0,
    "start_time": "2024-04-09T03:41:42.674Z"
   },
   {
    "duration": 0,
    "start_time": "2024-04-09T03:41:42.675Z"
   },
   {
    "duration": 0,
    "start_time": "2024-04-09T03:41:42.676Z"
   },
   {
    "duration": 0,
    "start_time": "2024-04-09T03:41:42.676Z"
   },
   {
    "duration": 0,
    "start_time": "2024-04-09T03:41:42.677Z"
   },
   {
    "duration": 0,
    "start_time": "2024-04-09T03:41:42.678Z"
   },
   {
    "duration": 0,
    "start_time": "2024-04-09T03:41:42.679Z"
   },
   {
    "duration": 0,
    "start_time": "2024-04-09T03:41:42.680Z"
   },
   {
    "duration": 40,
    "start_time": "2024-04-09T03:43:06.065Z"
   },
   {
    "duration": 8,
    "start_time": "2024-04-09T03:45:01.291Z"
   },
   {
    "duration": 5,
    "start_time": "2024-04-09T03:45:49.635Z"
   },
   {
    "duration": 7,
    "start_time": "2024-04-09T03:45:55.060Z"
   },
   {
    "duration": 7,
    "start_time": "2024-04-09T03:46:22.844Z"
   },
   {
    "duration": 8,
    "start_time": "2024-04-09T03:47:25.413Z"
   },
   {
    "duration": 46,
    "start_time": "2024-04-09T03:47:37.129Z"
   },
   {
    "duration": 119806,
    "start_time": "2024-04-09T03:48:44.185Z"
   },
   {
    "duration": 69,
    "start_time": "2024-04-09T03:56:08.061Z"
   },
   {
    "duration": 5332,
    "start_time": "2024-04-09T03:58:14.787Z"
   },
   {
    "duration": 1186,
    "start_time": "2024-04-09T03:58:20.121Z"
   },
   {
    "duration": 670,
    "start_time": "2024-04-09T03:58:21.308Z"
   },
   {
    "duration": 4,
    "start_time": "2024-04-09T03:58:21.980Z"
   },
   {
    "duration": 7,
    "start_time": "2024-04-09T03:58:21.985Z"
   },
   {
    "duration": 10,
    "start_time": "2024-04-09T03:58:21.993Z"
   },
   {
    "duration": 6,
    "start_time": "2024-04-09T03:58:22.004Z"
   },
   {
    "duration": 1477,
    "start_time": "2024-04-09T03:58:22.011Z"
   },
   {
    "duration": 23,
    "start_time": "2024-04-09T03:58:23.490Z"
   },
   {
    "duration": 421,
    "start_time": "2024-04-09T03:58:23.515Z"
   },
   {
    "duration": 8,
    "start_time": "2024-04-09T03:58:23.937Z"
   },
   {
    "duration": 41291,
    "start_time": "2024-04-09T03:58:23.947Z"
   },
   {
    "duration": 1773,
    "start_time": "2024-04-09T03:59:05.239Z"
   },
   {
    "duration": 37,
    "start_time": "2024-04-09T03:59:07.013Z"
   },
   {
    "duration": 5,
    "start_time": "2024-04-09T03:59:07.051Z"
   },
   {
    "duration": 68,
    "start_time": "2024-04-09T03:59:07.058Z"
   },
   {
    "duration": 6,
    "start_time": "2024-04-09T03:59:07.127Z"
   },
   {
    "duration": 31,
    "start_time": "2024-04-09T03:59:07.135Z"
   },
   {
    "duration": 40,
    "start_time": "2024-04-09T03:59:07.168Z"
   },
   {
    "duration": 56,
    "start_time": "2024-04-09T03:59:07.212Z"
   },
   {
    "duration": 60,
    "start_time": "2024-04-09T03:59:07.269Z"
   },
   {
    "duration": 70,
    "start_time": "2024-04-09T03:59:07.331Z"
   },
   {
    "duration": 54,
    "start_time": "2024-04-09T03:59:07.403Z"
   },
   {
    "duration": 826,
    "start_time": "2024-04-09T03:59:07.459Z"
   },
   {
    "duration": 188,
    "start_time": "2024-04-09T03:59:08.287Z"
   },
   {
    "duration": 1595,
    "start_time": "2024-04-09T03:59:08.476Z"
   },
   {
    "duration": 82,
    "start_time": "2024-04-09T03:59:10.072Z"
   },
   {
    "duration": 4,
    "start_time": "2024-04-09T03:59:10.157Z"
   },
   {
    "duration": 12,
    "start_time": "2024-04-09T03:59:10.162Z"
   },
   {
    "duration": 5,
    "start_time": "2024-04-09T03:59:10.176Z"
   },
   {
    "duration": 4,
    "start_time": "2024-04-09T03:59:10.182Z"
   },
   {
    "duration": 8,
    "start_time": "2024-04-09T03:59:10.187Z"
   },
   {
    "duration": 135694,
    "start_time": "2024-04-09T03:59:10.196Z"
   },
   {
    "duration": 0,
    "start_time": "2024-04-09T04:01:25.892Z"
   },
   {
    "duration": 0,
    "start_time": "2024-04-09T04:01:25.892Z"
   },
   {
    "duration": 0,
    "start_time": "2024-04-09T04:01:25.901Z"
   },
   {
    "duration": 0,
    "start_time": "2024-04-09T04:01:25.902Z"
   },
   {
    "duration": 0,
    "start_time": "2024-04-09T04:01:25.903Z"
   },
   {
    "duration": 0,
    "start_time": "2024-04-09T04:01:25.903Z"
   },
   {
    "duration": 0,
    "start_time": "2024-04-09T04:01:25.904Z"
   },
   {
    "duration": 0,
    "start_time": "2024-04-09T04:01:25.905Z"
   },
   {
    "duration": 0,
    "start_time": "2024-04-09T04:01:25.906Z"
   },
   {
    "duration": 0,
    "start_time": "2024-04-09T04:01:25.907Z"
   },
   {
    "duration": 0,
    "start_time": "2024-04-09T04:01:25.907Z"
   },
   {
    "duration": 0,
    "start_time": "2024-04-09T04:01:25.908Z"
   },
   {
    "duration": 213,
    "start_time": "2024-04-09T04:31:42.950Z"
   },
   {
    "duration": 113247,
    "start_time": "2024-04-09T04:32:32.641Z"
   },
   {
    "duration": 5459,
    "start_time": "2024-04-09T04:34:34.911Z"
   },
   {
    "duration": 1177,
    "start_time": "2024-04-09T04:34:40.373Z"
   },
   {
    "duration": 670,
    "start_time": "2024-04-09T04:34:41.552Z"
   },
   {
    "duration": 4,
    "start_time": "2024-04-09T04:34:42.224Z"
   },
   {
    "duration": 9,
    "start_time": "2024-04-09T04:34:42.229Z"
   },
   {
    "duration": 12,
    "start_time": "2024-04-09T04:34:42.239Z"
   },
   {
    "duration": 4,
    "start_time": "2024-04-09T04:34:42.252Z"
   },
   {
    "duration": 1480,
    "start_time": "2024-04-09T04:34:42.257Z"
   },
   {
    "duration": 21,
    "start_time": "2024-04-09T04:34:43.739Z"
   },
   {
    "duration": 444,
    "start_time": "2024-04-09T04:34:43.762Z"
   },
   {
    "duration": 9,
    "start_time": "2024-04-09T04:34:44.207Z"
   },
   {
    "duration": 41920,
    "start_time": "2024-04-09T04:34:44.218Z"
   },
   {
    "duration": 1745,
    "start_time": "2024-04-09T04:35:26.139Z"
   },
   {
    "duration": 36,
    "start_time": "2024-04-09T04:35:27.885Z"
   },
   {
    "duration": 5,
    "start_time": "2024-04-09T04:35:27.922Z"
   },
   {
    "duration": 61,
    "start_time": "2024-04-09T04:35:27.928Z"
   },
   {
    "duration": 12,
    "start_time": "2024-04-09T04:35:27.990Z"
   },
   {
    "duration": 28,
    "start_time": "2024-04-09T04:35:28.003Z"
   },
   {
    "duration": 27,
    "start_time": "2024-04-09T04:35:28.032Z"
   },
   {
    "duration": 71,
    "start_time": "2024-04-09T04:35:28.060Z"
   },
   {
    "duration": 49,
    "start_time": "2024-04-09T04:35:28.132Z"
   },
   {
    "duration": 61,
    "start_time": "2024-04-09T04:35:28.182Z"
   },
   {
    "duration": 60,
    "start_time": "2024-04-09T04:35:28.244Z"
   },
   {
    "duration": 842,
    "start_time": "2024-04-09T04:35:28.305Z"
   },
   {
    "duration": 188,
    "start_time": "2024-04-09T04:35:29.149Z"
   },
   {
    "duration": 1632,
    "start_time": "2024-04-09T04:35:29.339Z"
   },
   {
    "duration": 86,
    "start_time": "2024-04-09T04:35:30.973Z"
   },
   {
    "duration": 125,
    "start_time": "2024-04-09T04:35:31.063Z"
   },
   {
    "duration": 159,
    "start_time": "2024-04-09T04:35:31.190Z"
   },
   {
    "duration": 163,
    "start_time": "2024-04-09T04:35:31.350Z"
   },
   {
    "duration": 60,
    "start_time": "2024-04-09T04:35:31.514Z"
   },
   {
    "duration": 34,
    "start_time": "2024-04-09T04:35:31.575Z"
   },
   {
    "duration": 41522,
    "start_time": "2024-04-09T04:35:31.610Z"
   },
   {
    "duration": 9,
    "start_time": "2024-04-09T04:36:13.133Z"
   },
   {
    "duration": 160,
    "start_time": "2024-04-09T04:36:13.143Z"
   },
   {
    "duration": 0,
    "start_time": "2024-04-09T04:36:13.304Z"
   },
   {
    "duration": 0,
    "start_time": "2024-04-09T04:36:13.305Z"
   },
   {
    "duration": 0,
    "start_time": "2024-04-09T04:36:13.306Z"
   },
   {
    "duration": 0,
    "start_time": "2024-04-09T04:36:13.307Z"
   },
   {
    "duration": 0,
    "start_time": "2024-04-09T04:36:13.308Z"
   },
   {
    "duration": 0,
    "start_time": "2024-04-09T04:36:13.309Z"
   },
   {
    "duration": 0,
    "start_time": "2024-04-09T04:36:13.310Z"
   },
   {
    "duration": 0,
    "start_time": "2024-04-09T04:36:13.311Z"
   },
   {
    "duration": 0,
    "start_time": "2024-04-09T04:36:13.312Z"
   },
   {
    "duration": 30,
    "start_time": "2024-04-09T04:36:37.128Z"
   },
   {
    "duration": 43,
    "start_time": "2024-04-09T04:38:22.739Z"
   },
   {
    "duration": 37,
    "start_time": "2024-04-09T04:38:39.770Z"
   },
   {
    "duration": 23,
    "start_time": "2024-04-09T04:40:09.635Z"
   },
   {
    "duration": 24,
    "start_time": "2024-04-09T04:40:40.140Z"
   },
   {
    "duration": 5474,
    "start_time": "2024-04-09T04:58:22.806Z"
   },
   {
    "duration": 1218,
    "start_time": "2024-04-09T04:58:28.282Z"
   },
   {
    "duration": 691,
    "start_time": "2024-04-09T04:58:29.501Z"
   },
   {
    "duration": 4,
    "start_time": "2024-04-09T04:58:30.194Z"
   },
   {
    "duration": 121,
    "start_time": "2024-04-09T04:58:30.201Z"
   },
   {
    "duration": 227,
    "start_time": "2024-04-09T04:58:30.324Z"
   },
   {
    "duration": 67,
    "start_time": "2024-04-09T04:58:30.552Z"
   },
   {
    "duration": 1622,
    "start_time": "2024-04-09T04:58:30.620Z"
   },
   {
    "duration": 22,
    "start_time": "2024-04-09T04:58:32.243Z"
   },
   {
    "duration": 441,
    "start_time": "2024-04-09T04:58:32.267Z"
   },
   {
    "duration": 9,
    "start_time": "2024-04-09T04:58:32.709Z"
   },
   {
    "duration": 42328,
    "start_time": "2024-04-09T04:58:32.719Z"
   },
   {
    "duration": 1724,
    "start_time": "2024-04-09T04:59:15.048Z"
   },
   {
    "duration": 37,
    "start_time": "2024-04-09T04:59:16.773Z"
   },
   {
    "duration": 20,
    "start_time": "2024-04-09T04:59:16.811Z"
   },
   {
    "duration": 78,
    "start_time": "2024-04-09T04:59:16.832Z"
   },
   {
    "duration": 7,
    "start_time": "2024-04-09T04:59:16.911Z"
   },
   {
    "duration": 30,
    "start_time": "2024-04-09T04:59:16.920Z"
   },
   {
    "duration": 30,
    "start_time": "2024-04-09T04:59:16.952Z"
   },
   {
    "duration": 69,
    "start_time": "2024-04-09T04:59:16.984Z"
   },
   {
    "duration": 66,
    "start_time": "2024-04-09T04:59:17.054Z"
   },
   {
    "duration": 54,
    "start_time": "2024-04-09T04:59:17.121Z"
   },
   {
    "duration": 69,
    "start_time": "2024-04-09T04:59:17.176Z"
   },
   {
    "duration": 821,
    "start_time": "2024-04-09T04:59:17.246Z"
   },
   {
    "duration": 194,
    "start_time": "2024-04-09T04:59:18.069Z"
   },
   {
    "duration": 1635,
    "start_time": "2024-04-09T04:59:18.264Z"
   },
   {
    "duration": 57,
    "start_time": "2024-04-09T04:59:19.901Z"
   },
   {
    "duration": 3,
    "start_time": "2024-04-09T04:59:19.961Z"
   },
   {
    "duration": 21,
    "start_time": "2024-04-09T04:59:19.966Z"
   },
   {
    "duration": 35,
    "start_time": "2024-04-09T04:59:19.989Z"
   },
   {
    "duration": 5,
    "start_time": "2024-04-09T04:59:20.026Z"
   },
   {
    "duration": 20,
    "start_time": "2024-04-09T04:59:20.032Z"
   },
   {
    "duration": 5449,
    "start_time": "2024-04-09T05:04:34.706Z"
   },
   {
    "duration": 1170,
    "start_time": "2024-04-09T05:04:40.157Z"
   },
   {
    "duration": 692,
    "start_time": "2024-04-09T05:04:41.328Z"
   },
   {
    "duration": 3,
    "start_time": "2024-04-09T05:04:42.022Z"
   },
   {
    "duration": 9,
    "start_time": "2024-04-09T05:04:42.026Z"
   },
   {
    "duration": 5,
    "start_time": "2024-04-09T05:04:42.036Z"
   },
   {
    "duration": 11,
    "start_time": "2024-04-09T05:04:42.042Z"
   },
   {
    "duration": 1504,
    "start_time": "2024-04-09T05:04:42.054Z"
   },
   {
    "duration": 19,
    "start_time": "2024-04-09T05:04:43.559Z"
   },
   {
    "duration": 418,
    "start_time": "2024-04-09T05:04:43.581Z"
   },
   {
    "duration": 9,
    "start_time": "2024-04-09T05:04:44.000Z"
   },
   {
    "duration": 42053,
    "start_time": "2024-04-09T05:04:44.010Z"
   },
   {
    "duration": 1767,
    "start_time": "2024-04-09T05:05:26.065Z"
   },
   {
    "duration": 38,
    "start_time": "2024-04-09T05:05:27.834Z"
   },
   {
    "duration": 36,
    "start_time": "2024-04-09T05:05:27.874Z"
   },
   {
    "duration": 84,
    "start_time": "2024-04-09T05:05:27.912Z"
   },
   {
    "duration": 9,
    "start_time": "2024-04-09T05:05:27.997Z"
   },
   {
    "duration": 29,
    "start_time": "2024-04-09T05:05:28.008Z"
   },
   {
    "duration": 29,
    "start_time": "2024-04-09T05:05:28.038Z"
   },
   {
    "duration": 64,
    "start_time": "2024-04-09T05:05:28.069Z"
   },
   {
    "duration": 52,
    "start_time": "2024-04-09T05:05:28.135Z"
   },
   {
    "duration": 62,
    "start_time": "2024-04-09T05:05:28.188Z"
   },
   {
    "duration": 67,
    "start_time": "2024-04-09T05:05:28.252Z"
   },
   {
    "duration": 820,
    "start_time": "2024-04-09T05:05:28.320Z"
   },
   {
    "duration": 184,
    "start_time": "2024-04-09T05:05:29.141Z"
   },
   {
    "duration": 1670,
    "start_time": "2024-04-09T05:05:29.326Z"
   },
   {
    "duration": 62,
    "start_time": "2024-04-09T05:05:31.001Z"
   },
   {
    "duration": 40,
    "start_time": "2024-04-09T05:05:31.067Z"
   },
   {
    "duration": 71,
    "start_time": "2024-04-09T05:05:31.109Z"
   },
   {
    "duration": 59,
    "start_time": "2024-04-09T05:05:31.181Z"
   },
   {
    "duration": 47,
    "start_time": "2024-04-09T05:05:31.242Z"
   },
   {
    "duration": 36,
    "start_time": "2024-04-09T05:05:31.290Z"
   },
   {
    "duration": 2270686,
    "start_time": "2024-04-09T05:05:31.327Z"
   },
   {
    "duration": 32891,
    "start_time": "2024-04-09T05:43:22.015Z"
   },
   {
    "duration": 9,
    "start_time": "2024-04-09T05:43:54.907Z"
   },
   {
    "duration": 144,
    "start_time": "2024-04-09T05:43:54.917Z"
   },
   {
    "duration": 0,
    "start_time": "2024-04-09T05:43:55.062Z"
   },
   {
    "duration": 0,
    "start_time": "2024-04-09T05:43:55.063Z"
   },
   {
    "duration": 0,
    "start_time": "2024-04-09T05:43:55.064Z"
   },
   {
    "duration": 0,
    "start_time": "2024-04-09T05:43:55.064Z"
   },
   {
    "duration": 0,
    "start_time": "2024-04-09T05:43:55.065Z"
   },
   {
    "duration": 0,
    "start_time": "2024-04-09T05:43:55.066Z"
   },
   {
    "duration": 0,
    "start_time": "2024-04-09T05:43:55.067Z"
   },
   {
    "duration": 0,
    "start_time": "2024-04-09T05:43:55.068Z"
   },
   {
    "duration": 0,
    "start_time": "2024-04-09T05:43:55.069Z"
   },
   {
    "duration": 33,
    "start_time": "2024-04-09T05:49:13.484Z"
   },
   {
    "duration": 34,
    "start_time": "2024-04-09T05:49:30.439Z"
   },
   {
    "duration": 34,
    "start_time": "2024-04-09T05:49:41.988Z"
   },
   {
    "duration": 31,
    "start_time": "2024-04-09T05:49:51.234Z"
   },
   {
    "duration": 31,
    "start_time": "2024-04-09T05:49:56.247Z"
   },
   {
    "duration": 5632,
    "start_time": "2024-04-09T05:59:56.119Z"
   },
   {
    "duration": 1291,
    "start_time": "2024-04-09T06:00:01.753Z"
   },
   {
    "duration": 724,
    "start_time": "2024-04-09T06:00:03.045Z"
   },
   {
    "duration": 4,
    "start_time": "2024-04-09T06:00:03.771Z"
   },
   {
    "duration": 13,
    "start_time": "2024-04-09T06:00:03.776Z"
   },
   {
    "duration": 12,
    "start_time": "2024-04-09T06:00:03.790Z"
   },
   {
    "duration": 9,
    "start_time": "2024-04-09T06:00:03.803Z"
   },
   {
    "duration": 1562,
    "start_time": "2024-04-09T06:00:03.813Z"
   },
   {
    "duration": 15,
    "start_time": "2024-04-09T06:00:05.376Z"
   },
   {
    "duration": 452,
    "start_time": "2024-04-09T06:00:05.401Z"
   },
   {
    "duration": 13,
    "start_time": "2024-04-09T06:00:05.854Z"
   },
   {
    "duration": 42965,
    "start_time": "2024-04-09T06:00:05.869Z"
   },
   {
    "duration": 1800,
    "start_time": "2024-04-09T06:00:48.836Z"
   },
   {
    "duration": 38,
    "start_time": "2024-04-09T06:00:50.638Z"
   },
   {
    "duration": 15,
    "start_time": "2024-04-09T06:00:50.677Z"
   },
   {
    "duration": 96,
    "start_time": "2024-04-09T06:00:50.693Z"
   },
   {
    "duration": 30,
    "start_time": "2024-04-09T06:00:50.791Z"
   },
   {
    "duration": 48,
    "start_time": "2024-04-09T06:00:50.822Z"
   },
   {
    "duration": 30,
    "start_time": "2024-04-09T06:00:50.871Z"
   },
   {
    "duration": 53,
    "start_time": "2024-04-09T06:00:50.903Z"
   },
   {
    "duration": 64,
    "start_time": "2024-04-09T06:00:50.957Z"
   },
   {
    "duration": 54,
    "start_time": "2024-04-09T06:00:51.023Z"
   },
   {
    "duration": 67,
    "start_time": "2024-04-09T06:00:51.078Z"
   },
   {
    "duration": 858,
    "start_time": "2024-04-09T06:00:51.147Z"
   },
   {
    "duration": 182,
    "start_time": "2024-04-09T06:00:52.007Z"
   },
   {
    "duration": 1658,
    "start_time": "2024-04-09T06:00:52.191Z"
   },
   {
    "duration": 62,
    "start_time": "2024-04-09T06:00:53.850Z"
   },
   {
    "duration": 4,
    "start_time": "2024-04-09T06:00:53.915Z"
   },
   {
    "duration": 14,
    "start_time": "2024-04-09T06:00:53.921Z"
   },
   {
    "duration": 6,
    "start_time": "2024-04-09T06:00:53.937Z"
   },
   {
    "duration": 19,
    "start_time": "2024-04-09T06:00:53.945Z"
   },
   {
    "duration": 9,
    "start_time": "2024-04-09T06:00:53.965Z"
   },
   {
    "duration": 723535,
    "start_time": "2024-04-09T06:00:53.975Z"
   },
   {
    "duration": 30890,
    "start_time": "2024-04-09T06:12:57.511Z"
   },
   {
    "duration": 10,
    "start_time": "2024-04-09T06:13:28.403Z"
   },
   {
    "duration": 831336,
    "start_time": "2024-04-09T06:13:28.414Z"
   },
   {
    "duration": 1,
    "start_time": "2024-04-09T06:27:19.751Z"
   },
   {
    "duration": 0,
    "start_time": "2024-04-09T06:27:19.752Z"
   },
   {
    "duration": 0,
    "start_time": "2024-04-09T06:27:19.753Z"
   },
   {
    "duration": 0,
    "start_time": "2024-04-09T06:27:19.754Z"
   },
   {
    "duration": 0,
    "start_time": "2024-04-09T06:27:19.754Z"
   },
   {
    "duration": 0,
    "start_time": "2024-04-09T06:27:19.755Z"
   },
   {
    "duration": 0,
    "start_time": "2024-04-09T06:27:19.756Z"
   },
   {
    "duration": 0,
    "start_time": "2024-04-09T06:27:19.757Z"
   },
   {
    "duration": 0,
    "start_time": "2024-04-09T06:27:19.758Z"
   },
   {
    "duration": 811918,
    "start_time": "2024-04-09T07:16:26.231Z"
   },
   {
    "duration": 13647,
    "start_time": "2024-04-09T07:29:58.150Z"
   },
   {
    "duration": 9,
    "start_time": "2024-04-09T07:30:11.801Z"
   },
   {
    "duration": 377613,
    "start_time": "2024-04-09T07:30:11.811Z"
   },
   {
    "duration": 47782,
    "start_time": "2024-04-09T07:36:29.426Z"
   },
   {
    "duration": 9,
    "start_time": "2024-04-09T07:37:17.210Z"
   },
   {
    "duration": 20,
    "start_time": "2024-04-09T07:37:17.220Z"
   },
   {
    "duration": 63,
    "start_time": "2024-04-09T07:37:17.241Z"
   },
   {
    "duration": 0,
    "start_time": "2024-04-09T07:37:17.305Z"
   },
   {
    "duration": 0,
    "start_time": "2024-04-09T07:37:17.306Z"
   },
   {
    "duration": 5462,
    "start_time": "2024-04-09T09:06:29.084Z"
   },
   {
    "duration": 1219,
    "start_time": "2024-04-09T09:06:34.548Z"
   },
   {
    "duration": 675,
    "start_time": "2024-04-09T09:06:35.769Z"
   },
   {
    "duration": 3,
    "start_time": "2024-04-09T09:06:36.446Z"
   },
   {
    "duration": 10,
    "start_time": "2024-04-09T09:06:36.451Z"
   },
   {
    "duration": 14,
    "start_time": "2024-04-09T09:06:36.462Z"
   },
   {
    "duration": 15,
    "start_time": "2024-04-09T09:06:36.477Z"
   },
   {
    "duration": 1492,
    "start_time": "2024-04-09T09:06:36.493Z"
   },
   {
    "duration": 25,
    "start_time": "2024-04-09T09:06:37.986Z"
   },
   {
    "duration": 414,
    "start_time": "2024-04-09T09:06:38.013Z"
   },
   {
    "duration": 8,
    "start_time": "2024-04-09T09:06:38.428Z"
   },
   {
    "duration": 42303,
    "start_time": "2024-04-09T09:06:38.437Z"
   },
   {
    "duration": 1750,
    "start_time": "2024-04-09T09:07:20.742Z"
   },
   {
    "duration": 54,
    "start_time": "2024-04-09T09:07:22.494Z"
   },
   {
    "duration": 6,
    "start_time": "2024-04-09T09:07:22.549Z"
   },
   {
    "duration": 70,
    "start_time": "2024-04-09T09:07:22.556Z"
   },
   {
    "duration": 23,
    "start_time": "2024-04-09T09:07:22.627Z"
   },
   {
    "duration": 51,
    "start_time": "2024-04-09T09:07:22.651Z"
   },
   {
    "duration": 28,
    "start_time": "2024-04-09T09:07:22.704Z"
   },
   {
    "duration": 69,
    "start_time": "2024-04-09T09:07:22.733Z"
   },
   {
    "duration": 50,
    "start_time": "2024-04-09T09:07:22.804Z"
   },
   {
    "duration": 67,
    "start_time": "2024-04-09T09:07:22.856Z"
   },
   {
    "duration": 55,
    "start_time": "2024-04-09T09:07:22.924Z"
   },
   {
    "duration": 836,
    "start_time": "2024-04-09T09:07:22.980Z"
   },
   {
    "duration": 180,
    "start_time": "2024-04-09T09:07:23.817Z"
   },
   {
    "duration": 1604,
    "start_time": "2024-04-09T09:07:24.002Z"
   },
   {
    "duration": 57,
    "start_time": "2024-04-09T09:07:25.607Z"
   },
   {
    "duration": 5,
    "start_time": "2024-04-09T09:07:25.668Z"
   },
   {
    "duration": 76,
    "start_time": "2024-04-09T09:07:25.674Z"
   },
   {
    "duration": 68,
    "start_time": "2024-04-09T09:07:25.751Z"
   },
   {
    "duration": 53,
    "start_time": "2024-04-09T09:07:25.820Z"
   },
   {
    "duration": 13,
    "start_time": "2024-04-09T09:07:25.875Z"
   },
   {
    "duration": 725327,
    "start_time": "2024-04-09T09:07:25.890Z"
   },
   {
    "duration": 0,
    "start_time": "2024-04-09T09:19:31.218Z"
   },
   {
    "duration": 0,
    "start_time": "2024-04-09T09:19:31.220Z"
   },
   {
    "duration": 0,
    "start_time": "2024-04-09T09:19:31.221Z"
   },
   {
    "duration": 0,
    "start_time": "2024-04-09T09:19:31.222Z"
   },
   {
    "duration": 0,
    "start_time": "2024-04-09T09:19:31.223Z"
   },
   {
    "duration": 0,
    "start_time": "2024-04-09T09:19:31.224Z"
   },
   {
    "duration": 0,
    "start_time": "2024-04-09T09:19:31.225Z"
   },
   {
    "duration": 0,
    "start_time": "2024-04-09T09:19:31.226Z"
   },
   {
    "duration": 0,
    "start_time": "2024-04-09T09:19:31.227Z"
   },
   {
    "duration": 0,
    "start_time": "2024-04-09T09:19:31.228Z"
   },
   {
    "duration": 0,
    "start_time": "2024-04-09T09:19:31.229Z"
   },
   {
    "duration": 0,
    "start_time": "2024-04-09T09:19:31.231Z"
   },
   {
    "duration": 5385,
    "start_time": "2024-04-09T10:57:11.776Z"
   },
   {
    "duration": 1177,
    "start_time": "2024-04-09T10:57:17.164Z"
   },
   {
    "duration": 683,
    "start_time": "2024-04-09T10:57:18.342Z"
   },
   {
    "duration": 4,
    "start_time": "2024-04-09T10:57:19.027Z"
   },
   {
    "duration": 13,
    "start_time": "2024-04-09T10:57:19.032Z"
   },
   {
    "duration": 7,
    "start_time": "2024-04-09T10:57:19.046Z"
   },
   {
    "duration": 20,
    "start_time": "2024-04-09T10:57:19.054Z"
   },
   {
    "duration": 1527,
    "start_time": "2024-04-09T10:57:19.075Z"
   },
   {
    "duration": 21,
    "start_time": "2024-04-09T10:57:20.603Z"
   },
   {
    "duration": 415,
    "start_time": "2024-04-09T10:57:20.627Z"
   },
   {
    "duration": 10,
    "start_time": "2024-04-09T10:57:21.043Z"
   },
   {
    "duration": 41989,
    "start_time": "2024-04-09T10:57:21.054Z"
   },
   {
    "duration": 1923,
    "start_time": "2024-04-09T10:58:03.045Z"
   },
   {
    "duration": 39,
    "start_time": "2024-04-09T10:58:04.970Z"
   },
   {
    "duration": 7,
    "start_time": "2024-04-09T10:58:05.011Z"
   },
   {
    "duration": 91,
    "start_time": "2024-04-09T10:58:05.019Z"
   },
   {
    "duration": 8,
    "start_time": "2024-04-09T10:58:05.112Z"
   },
   {
    "duration": 30,
    "start_time": "2024-04-09T10:58:05.122Z"
   },
   {
    "duration": 29,
    "start_time": "2024-04-09T10:58:05.153Z"
   },
   {
    "duration": 73,
    "start_time": "2024-04-09T10:58:05.183Z"
   },
   {
    "duration": 69,
    "start_time": "2024-04-09T10:58:05.258Z"
   },
   {
    "duration": 59,
    "start_time": "2024-04-09T10:58:05.329Z"
   },
   {
    "duration": 68,
    "start_time": "2024-04-09T10:58:05.389Z"
   },
   {
    "duration": 832,
    "start_time": "2024-04-09T10:58:05.459Z"
   },
   {
    "duration": 189,
    "start_time": "2024-04-09T10:58:06.292Z"
   },
   {
    "duration": 1641,
    "start_time": "2024-04-09T10:58:06.482Z"
   },
   {
    "duration": 53,
    "start_time": "2024-04-09T10:58:08.125Z"
   },
   {
    "duration": 3,
    "start_time": "2024-04-09T10:58:08.181Z"
   },
   {
    "duration": 4,
    "start_time": "2024-04-09T10:58:08.185Z"
   },
   {
    "duration": 5,
    "start_time": "2024-04-09T10:58:08.201Z"
   },
   {
    "duration": 6,
    "start_time": "2024-04-09T10:58:08.207Z"
   },
   {
    "duration": 4,
    "start_time": "2024-04-09T10:58:08.214Z"
   },
   {
    "duration": 710684,
    "start_time": "2024-04-09T10:58:08.219Z"
   },
   {
    "duration": 31778,
    "start_time": "2024-04-09T11:09:58.904Z"
   },
   {
    "duration": 9,
    "start_time": "2024-04-09T11:10:30.683Z"
   },
   {
    "duration": 806743,
    "start_time": "2024-04-09T11:10:30.693Z"
   },
   {
    "duration": 13683,
    "start_time": "2024-04-09T11:23:57.438Z"
   },
   {
    "duration": 9,
    "start_time": "2024-04-09T11:24:11.123Z"
   },
   {
    "duration": 377886,
    "start_time": "2024-04-09T11:24:11.133Z"
   },
   {
    "duration": 49112,
    "start_time": "2024-04-09T11:30:29.020Z"
   },
   {
    "duration": 9,
    "start_time": "2024-04-09T11:31:18.202Z"
   },
   {
    "duration": 13,
    "start_time": "2024-04-09T11:31:18.213Z"
   },
   {
    "duration": 6,
    "start_time": "2024-04-09T11:31:18.228Z"
   },
   {
    "duration": 16972,
    "start_time": "2024-04-09T11:31:18.235Z"
   },
   {
    "duration": 6,
    "start_time": "2024-04-09T11:31:35.209Z"
   },
   {
    "duration": 5,
    "start_time": "2024-04-09T11:38:47.453Z"
   },
   {
    "duration": 57,
    "start_time": "2024-04-11T03:01:03.034Z"
   },
   {
    "duration": 10197,
    "start_time": "2024-04-11T03:03:55.908Z"
   },
   {
    "duration": 1571,
    "start_time": "2024-04-11T03:04:06.108Z"
   },
   {
    "duration": 3079,
    "start_time": "2024-04-11T03:04:07.680Z"
   },
   {
    "duration": 9,
    "start_time": "2024-04-11T03:04:10.761Z"
   },
   {
    "duration": 9,
    "start_time": "2024-04-11T03:04:10.776Z"
   },
   {
    "duration": 9,
    "start_time": "2024-04-11T03:04:10.787Z"
   },
   {
    "duration": 5,
    "start_time": "2024-04-11T03:04:10.798Z"
   },
   {
    "duration": 2045,
    "start_time": "2024-04-11T03:04:10.804Z"
   },
   {
    "duration": 19,
    "start_time": "2024-04-11T03:04:12.850Z"
   },
   {
    "duration": 546,
    "start_time": "2024-04-11T03:04:12.872Z"
   },
   {
    "duration": 12,
    "start_time": "2024-04-11T03:04:13.419Z"
   },
   {
    "duration": 59182,
    "start_time": "2024-04-11T03:04:13.433Z"
   },
   {
    "duration": 2254,
    "start_time": "2024-04-11T03:05:12.616Z"
   },
   {
    "duration": 61,
    "start_time": "2024-04-11T03:05:14.873Z"
   },
   {
    "duration": 6,
    "start_time": "2024-04-11T03:05:14.936Z"
   },
   {
    "duration": 112,
    "start_time": "2024-04-11T03:05:14.944Z"
   },
   {
    "duration": 43,
    "start_time": "2024-04-11T03:05:15.065Z"
   },
   {
    "duration": 30,
    "start_time": "2024-04-11T03:05:15.110Z"
   },
   {
    "duration": 50,
    "start_time": "2024-04-11T03:05:15.141Z"
   },
   {
    "duration": 100,
    "start_time": "2024-04-11T03:05:15.194Z"
   },
   {
    "duration": 83,
    "start_time": "2024-04-11T03:05:15.296Z"
   },
   {
    "duration": 91,
    "start_time": "2024-04-11T03:05:15.382Z"
   },
   {
    "duration": 72,
    "start_time": "2024-04-11T03:05:15.475Z"
   },
   {
    "duration": 1087,
    "start_time": "2024-04-11T03:05:15.548Z"
   },
   {
    "duration": 269,
    "start_time": "2024-04-11T03:05:16.637Z"
   },
   {
    "duration": 2130,
    "start_time": "2024-04-11T03:05:16.908Z"
   },
   {
    "duration": 89,
    "start_time": "2024-04-11T03:05:19.039Z"
   },
   {
    "duration": 4,
    "start_time": "2024-04-11T03:05:19.131Z"
   },
   {
    "duration": 3,
    "start_time": "2024-04-11T03:05:19.137Z"
   },
   {
    "duration": 4,
    "start_time": "2024-04-11T03:05:19.142Z"
   },
   {
    "duration": 27,
    "start_time": "2024-04-11T03:05:19.147Z"
   },
   {
    "duration": 3,
    "start_time": "2024-04-11T03:05:19.178Z"
   },
   {
    "duration": 3,
    "start_time": "2024-04-11T03:05:40.420Z"
   },
   {
    "duration": 941300,
    "start_time": "2024-04-11T03:05:41.581Z"
   },
   {
    "duration": 1265436,
    "start_time": "2024-04-11T03:23:34.390Z"
   },
   {
    "duration": 5545,
    "start_time": "2024-04-11T03:51:10.924Z"
   },
   {
    "duration": 0,
    "start_time": "2024-04-11T03:51:16.471Z"
   },
   {
    "duration": 5337,
    "start_time": "2024-04-11T04:06:55.891Z"
   },
   {
    "duration": 1400,
    "start_time": "2024-04-11T04:07:01.230Z"
   },
   {
    "duration": 871,
    "start_time": "2024-04-11T04:07:02.632Z"
   },
   {
    "duration": 5,
    "start_time": "2024-04-11T04:07:03.505Z"
   },
   {
    "duration": 6,
    "start_time": "2024-04-11T04:07:03.511Z"
   },
   {
    "duration": 6,
    "start_time": "2024-04-11T04:07:03.519Z"
   },
   {
    "duration": 4,
    "start_time": "2024-04-11T04:07:03.527Z"
   },
   {
    "duration": 1806,
    "start_time": "2024-04-11T04:07:03.532Z"
   },
   {
    "duration": 27,
    "start_time": "2024-04-11T04:07:05.339Z"
   },
   {
    "duration": 530,
    "start_time": "2024-04-11T04:07:05.369Z"
   },
   {
    "duration": 9,
    "start_time": "2024-04-11T04:07:05.900Z"
   },
   {
    "duration": 54018,
    "start_time": "2024-04-11T04:07:05.911Z"
   },
   {
    "duration": 2177,
    "start_time": "2024-04-11T04:07:59.931Z"
   },
   {
    "duration": 61,
    "start_time": "2024-04-11T04:08:02.110Z"
   },
   {
    "duration": 17,
    "start_time": "2024-04-11T04:08:02.172Z"
   },
   {
    "duration": 129,
    "start_time": "2024-04-11T04:08:02.190Z"
   },
   {
    "duration": 51,
    "start_time": "2024-04-11T04:08:02.321Z"
   },
   {
    "duration": 107,
    "start_time": "2024-04-11T04:08:02.374Z"
   },
   {
    "duration": 83,
    "start_time": "2024-04-11T04:08:02.483Z"
   },
   {
    "duration": 86,
    "start_time": "2024-04-11T04:08:02.568Z"
   },
   {
    "duration": 72,
    "start_time": "2024-04-11T04:08:02.656Z"
   },
   {
    "duration": 84,
    "start_time": "2024-04-11T04:08:02.729Z"
   },
   {
    "duration": 86,
    "start_time": "2024-04-11T04:08:02.815Z"
   },
   {
    "duration": 1021,
    "start_time": "2024-04-11T04:08:02.902Z"
   },
   {
    "duration": 209,
    "start_time": "2024-04-11T04:08:03.925Z"
   },
   {
    "duration": 1863,
    "start_time": "2024-04-11T04:08:04.135Z"
   },
   {
    "duration": 84,
    "start_time": "2024-04-11T04:08:06.000Z"
   },
   {
    "duration": 4,
    "start_time": "2024-04-11T04:08:06.088Z"
   },
   {
    "duration": 10,
    "start_time": "2024-04-11T04:08:06.093Z"
   },
   {
    "duration": 18,
    "start_time": "2024-04-11T04:08:06.104Z"
   },
   {
    "duration": 18,
    "start_time": "2024-04-11T04:08:06.124Z"
   },
   {
    "duration": 9,
    "start_time": "2024-04-11T04:08:06.143Z"
   },
   {
    "duration": 1395053,
    "start_time": "2024-04-11T04:08:06.154Z"
   },
   {
    "duration": 860775,
    "start_time": "2024-04-11T04:31:21.208Z"
   },
   {
    "duration": 0,
    "start_time": "2024-04-11T04:45:41.985Z"
   },
   {
    "duration": 0,
    "start_time": "2024-04-11T04:45:41.986Z"
   },
   {
    "duration": 0,
    "start_time": "2024-04-11T04:45:41.987Z"
   },
   {
    "duration": 0,
    "start_time": "2024-04-11T04:45:41.988Z"
   },
   {
    "duration": 0,
    "start_time": "2024-04-11T04:45:41.989Z"
   },
   {
    "duration": 853600,
    "start_time": "2024-04-11T04:53:40.102Z"
   },
   {
    "duration": 0,
    "start_time": "2024-04-11T05:07:53.703Z"
   },
   {
    "duration": 0,
    "start_time": "2024-04-11T05:07:53.705Z"
   },
   {
    "duration": 0,
    "start_time": "2024-04-11T05:07:53.706Z"
   },
   {
    "duration": 0,
    "start_time": "2024-04-11T05:07:53.707Z"
   },
   {
    "duration": 0,
    "start_time": "2024-04-11T05:07:53.708Z"
   },
   {
    "duration": 917598,
    "start_time": "2024-04-11T05:36:49.382Z"
   },
   {
    "duration": 620286,
    "start_time": "2024-04-11T05:52:06.983Z"
   },
   {
    "duration": 15,
    "start_time": "2024-04-11T06:02:27.272Z"
   },
   {
    "duration": 0,
    "start_time": "2024-04-11T06:02:27.289Z"
   },
   {
    "duration": 0,
    "start_time": "2024-04-11T06:02:27.290Z"
   },
   {
    "duration": 0,
    "start_time": "2024-04-11T06:02:27.291Z"
   },
   {
    "duration": 8,
    "start_time": "2024-04-11T06:05:24.441Z"
   },
   {
    "duration": 12,
    "start_time": "2024-04-11T06:05:26.576Z"
   },
   {
    "duration": 12,
    "start_time": "2024-04-11T06:05:59.709Z"
   },
   {
    "duration": 11,
    "start_time": "2024-04-11T06:06:23.157Z"
   },
   {
    "duration": 15,
    "start_time": "2024-04-11T06:10:57.985Z"
   },
   {
    "duration": 4,
    "start_time": "2024-04-11T06:11:09.164Z"
   },
   {
    "duration": 16,
    "start_time": "2024-04-11T06:20:59.256Z"
   },
   {
    "duration": 17,
    "start_time": "2024-04-11T06:21:49.500Z"
   },
   {
    "duration": 15,
    "start_time": "2024-04-11T06:22:01.925Z"
   },
   {
    "duration": 13,
    "start_time": "2024-04-11T06:22:26.280Z"
   },
   {
    "duration": 5,
    "start_time": "2024-04-11T06:22:46.605Z"
   },
   {
    "duration": 15,
    "start_time": "2024-04-11T06:24:07.030Z"
   },
   {
    "duration": 3,
    "start_time": "2024-04-11T06:25:14.130Z"
   },
   {
    "duration": 3,
    "start_time": "2024-04-11T06:27:23.723Z"
   },
   {
    "duration": 4,
    "start_time": "2024-04-11T06:28:20.456Z"
   },
   {
    "duration": 7,
    "start_time": "2024-04-11T06:28:39.736Z"
   },
   {
    "duration": 22,
    "start_time": "2024-04-11T06:28:49.632Z"
   },
   {
    "duration": 5379,
    "start_time": "2024-04-11T06:29:18.736Z"
   },
   {
    "duration": 1298,
    "start_time": "2024-04-11T06:29:24.118Z"
   },
   {
    "duration": 862,
    "start_time": "2024-04-11T06:29:25.418Z"
   },
   {
    "duration": 4,
    "start_time": "2024-04-11T06:29:26.283Z"
   },
   {
    "duration": 12,
    "start_time": "2024-04-11T06:29:26.288Z"
   },
   {
    "duration": 6,
    "start_time": "2024-04-11T06:29:26.302Z"
   },
   {
    "duration": 4,
    "start_time": "2024-04-11T06:29:26.310Z"
   },
   {
    "duration": 1818,
    "start_time": "2024-04-11T06:29:26.315Z"
   },
   {
    "duration": 16,
    "start_time": "2024-04-11T06:29:28.134Z"
   },
   {
    "duration": 541,
    "start_time": "2024-04-11T06:29:28.152Z"
   },
   {
    "duration": 9,
    "start_time": "2024-04-11T06:29:28.695Z"
   },
   {
    "duration": 54042,
    "start_time": "2024-04-11T06:29:28.706Z"
   },
   {
    "duration": 2046,
    "start_time": "2024-04-11T06:30:22.750Z"
   },
   {
    "duration": 51,
    "start_time": "2024-04-11T06:30:24.798Z"
   },
   {
    "duration": 6,
    "start_time": "2024-04-11T06:30:24.851Z"
   },
   {
    "duration": 92,
    "start_time": "2024-04-11T06:30:24.859Z"
   },
   {
    "duration": 12,
    "start_time": "2024-04-11T06:30:24.953Z"
   },
   {
    "duration": 29,
    "start_time": "2024-04-11T06:30:24.967Z"
   },
   {
    "duration": 39,
    "start_time": "2024-04-11T06:30:24.998Z"
   },
   {
    "duration": 90,
    "start_time": "2024-04-11T06:30:25.038Z"
   },
   {
    "duration": 94,
    "start_time": "2024-04-11T06:30:25.129Z"
   },
   {
    "duration": 86,
    "start_time": "2024-04-11T06:30:25.224Z"
   },
   {
    "duration": 82,
    "start_time": "2024-04-11T06:30:25.312Z"
   },
   {
    "duration": 992,
    "start_time": "2024-04-11T06:30:25.396Z"
   },
   {
    "duration": 222,
    "start_time": "2024-04-11T06:30:26.390Z"
   },
   {
    "duration": 1958,
    "start_time": "2024-04-11T06:30:26.614Z"
   },
   {
    "duration": 73,
    "start_time": "2024-04-11T06:30:28.574Z"
   },
   {
    "duration": 15,
    "start_time": "2024-04-11T06:30:28.651Z"
   },
   {
    "duration": 3,
    "start_time": "2024-04-11T06:30:28.668Z"
   },
   {
    "duration": 13,
    "start_time": "2024-04-11T06:30:28.672Z"
   },
   {
    "duration": 4,
    "start_time": "2024-04-11T06:30:28.686Z"
   },
   {
    "duration": 7,
    "start_time": "2024-04-11T06:30:28.692Z"
   },
   {
    "duration": 1393220,
    "start_time": "2024-04-11T06:30:28.701Z"
   },
   {
    "duration": 918789,
    "start_time": "2024-04-11T06:53:41.922Z"
   },
   {
    "duration": 447958,
    "start_time": "2024-04-11T07:09:00.712Z"
   },
   {
    "duration": 8,
    "start_time": "2024-04-11T07:16:28.671Z"
   },
   {
    "duration": 8,
    "start_time": "2024-04-11T07:16:28.680Z"
   },
   {
    "duration": 148,
    "start_time": "2024-04-11T07:16:28.690Z"
   },
   {
    "duration": 0,
    "start_time": "2024-04-11T07:16:28.839Z"
   },
   {
    "duration": 62,
    "start_time": "2024-04-11T07:37:07.408Z"
   },
   {
    "duration": 4,
    "start_time": "2024-04-11T07:38:55.908Z"
   },
   {
    "duration": 21,
    "start_time": "2024-04-11T07:45:43.425Z"
   },
   {
    "duration": 4,
    "start_time": "2024-04-11T07:46:15.081Z"
   },
   {
    "duration": 18,
    "start_time": "2024-04-11T07:48:14.239Z"
   },
   {
    "duration": 22,
    "start_time": "2024-04-11T07:49:28.948Z"
   },
   {
    "duration": 13,
    "start_time": "2024-04-11T07:50:01.384Z"
   },
   {
    "duration": 17,
    "start_time": "2024-04-11T07:50:25.752Z"
   },
   {
    "duration": 65,
    "start_time": "2024-04-11T08:10:23.190Z"
   },
   {
    "duration": 79,
    "start_time": "2024-04-11T08:10:41.074Z"
   },
   {
    "duration": 70,
    "start_time": "2024-04-11T08:10:55.997Z"
   },
   {
    "duration": 117,
    "start_time": "2024-04-11T08:11:12.355Z"
   },
   {
    "duration": 29830,
    "start_time": "2024-04-11T08:11:53.178Z"
   },
   {
    "duration": 29707,
    "start_time": "2024-04-11T08:29:41.194Z"
   },
   {
    "duration": 6,
    "start_time": "2024-04-11T08:33:00.768Z"
   },
   {
    "duration": 1269,
    "start_time": "2024-04-12T02:53:20.209Z"
   },
   {
    "duration": 9408,
    "start_time": "2024-04-12T02:53:29.116Z"
   },
   {
    "duration": 1188,
    "start_time": "2024-04-12T02:53:38.526Z"
   },
   {
    "duration": 2722,
    "start_time": "2024-04-12T02:53:39.715Z"
   },
   {
    "duration": 4,
    "start_time": "2024-04-12T02:53:42.439Z"
   },
   {
    "duration": 8,
    "start_time": "2024-04-12T02:53:42.444Z"
   },
   {
    "duration": 10,
    "start_time": "2024-04-12T02:53:42.453Z"
   },
   {
    "duration": 4,
    "start_time": "2024-04-12T02:53:42.464Z"
   },
   {
    "duration": 1471,
    "start_time": "2024-04-12T02:53:42.469Z"
   },
   {
    "duration": 14,
    "start_time": "2024-04-12T02:53:43.941Z"
   },
   {
    "duration": 405,
    "start_time": "2024-04-12T02:53:43.957Z"
   },
   {
    "duration": 10,
    "start_time": "2024-04-12T02:53:44.363Z"
   },
   {
    "duration": 41346,
    "start_time": "2024-04-12T02:53:44.374Z"
   },
   {
    "duration": 1678,
    "start_time": "2024-04-12T02:54:25.722Z"
   },
   {
    "duration": 36,
    "start_time": "2024-04-12T02:54:27.401Z"
   },
   {
    "duration": 6,
    "start_time": "2024-04-12T02:54:27.438Z"
   },
   {
    "duration": 69,
    "start_time": "2024-04-12T02:54:27.445Z"
   },
   {
    "duration": 6,
    "start_time": "2024-04-12T02:54:27.515Z"
   },
   {
    "duration": 27,
    "start_time": "2024-04-12T02:54:27.522Z"
   },
   {
    "duration": 28,
    "start_time": "2024-04-12T02:54:27.551Z"
   },
   {
    "duration": 51,
    "start_time": "2024-04-12T02:54:27.601Z"
   },
   {
    "duration": 61,
    "start_time": "2024-04-12T02:54:27.653Z"
   },
   {
    "duration": 61,
    "start_time": "2024-04-12T02:54:27.715Z"
   },
   {
    "duration": 70,
    "start_time": "2024-04-12T02:54:27.778Z"
   },
   {
    "duration": 826,
    "start_time": "2024-04-12T02:54:27.849Z"
   },
   {
    "duration": 176,
    "start_time": "2024-04-12T02:54:28.676Z"
   },
   {
    "duration": 1630,
    "start_time": "2024-04-12T02:54:28.853Z"
   },
   {
    "duration": 63,
    "start_time": "2024-04-12T02:54:30.485Z"
   },
   {
    "duration": 28,
    "start_time": "2024-04-12T02:54:30.551Z"
   },
   {
    "duration": 138,
    "start_time": "2024-04-12T02:54:30.580Z"
   },
   {
    "duration": 89,
    "start_time": "2024-04-12T02:54:30.720Z"
   },
   {
    "duration": 127,
    "start_time": "2024-04-12T02:54:30.810Z"
   },
   {
    "duration": 111,
    "start_time": "2024-04-12T02:54:30.939Z"
   },
   {
    "duration": 35864,
    "start_time": "2024-04-12T02:54:31.052Z"
   },
   {
    "duration": 0,
    "start_time": "2024-04-12T02:55:06.917Z"
   },
   {
    "duration": 0,
    "start_time": "2024-04-12T02:55:06.918Z"
   },
   {
    "duration": 0,
    "start_time": "2024-04-12T02:55:06.919Z"
   },
   {
    "duration": 0,
    "start_time": "2024-04-12T02:55:06.920Z"
   },
   {
    "duration": 0,
    "start_time": "2024-04-12T02:55:06.921Z"
   },
   {
    "duration": 0,
    "start_time": "2024-04-12T02:55:06.922Z"
   },
   {
    "duration": 3,
    "start_time": "2024-04-12T02:58:50.601Z"
   },
   {
    "duration": 5381,
    "start_time": "2024-04-12T03:04:13.119Z"
   },
   {
    "duration": 1228,
    "start_time": "2024-04-12T03:04:18.502Z"
   },
   {
    "duration": 713,
    "start_time": "2024-04-12T03:04:19.731Z"
   },
   {
    "duration": 3,
    "start_time": "2024-04-12T03:04:20.446Z"
   },
   {
    "duration": 137,
    "start_time": "2024-04-12T03:04:20.450Z"
   },
   {
    "duration": 43,
    "start_time": "2024-04-12T03:04:20.588Z"
   },
   {
    "duration": 29,
    "start_time": "2024-04-12T03:04:20.632Z"
   },
   {
    "duration": 1482,
    "start_time": "2024-04-12T03:04:20.662Z"
   },
   {
    "duration": 14,
    "start_time": "2024-04-12T03:04:22.145Z"
   },
   {
    "duration": 410,
    "start_time": "2024-04-12T03:04:22.161Z"
   },
   {
    "duration": 7,
    "start_time": "2024-04-12T03:04:22.573Z"
   },
   {
    "duration": 41795,
    "start_time": "2024-04-12T03:04:22.582Z"
   },
   {
    "duration": 1730,
    "start_time": "2024-04-12T03:05:04.378Z"
   },
   {
    "duration": 35,
    "start_time": "2024-04-12T03:05:06.110Z"
   },
   {
    "duration": 5,
    "start_time": "2024-04-12T03:05:06.147Z"
   },
   {
    "duration": 89,
    "start_time": "2024-04-12T03:05:06.153Z"
   },
   {
    "duration": 6,
    "start_time": "2024-04-12T03:05:06.243Z"
   },
   {
    "duration": 27,
    "start_time": "2024-04-12T03:05:06.250Z"
   },
   {
    "duration": 41,
    "start_time": "2024-04-12T03:05:06.279Z"
   },
   {
    "duration": 53,
    "start_time": "2024-04-12T03:05:06.321Z"
   },
   {
    "duration": 63,
    "start_time": "2024-04-12T03:05:06.375Z"
   },
   {
    "duration": 52,
    "start_time": "2024-04-12T03:05:06.439Z"
   },
   {
    "duration": 55,
    "start_time": "2024-04-12T03:05:06.501Z"
   },
   {
    "duration": 837,
    "start_time": "2024-04-12T03:05:06.557Z"
   },
   {
    "duration": 171,
    "start_time": "2024-04-12T03:05:07.401Z"
   },
   {
    "duration": 1600,
    "start_time": "2024-04-12T03:05:07.573Z"
   },
   {
    "duration": 63,
    "start_time": "2024-04-12T03:05:09.175Z"
   },
   {
    "duration": 4,
    "start_time": "2024-04-12T03:05:09.242Z"
   },
   {
    "duration": 5,
    "start_time": "2024-04-12T03:05:09.247Z"
   },
   {
    "duration": 4,
    "start_time": "2024-04-12T03:05:09.253Z"
   },
   {
    "duration": 6,
    "start_time": "2024-04-12T03:05:09.258Z"
   },
   {
    "duration": 10,
    "start_time": "2024-04-12T03:05:09.265Z"
   },
   {
    "duration": 10,
    "start_time": "2024-04-12T03:05:09.276Z"
   },
   {
    "duration": 843290,
    "start_time": "2024-04-12T03:05:09.287Z"
   },
   {
    "duration": 5594,
    "start_time": "2024-04-12T03:23:13.087Z"
   },
   {
    "duration": 1194,
    "start_time": "2024-04-12T03:23:18.683Z"
   },
   {
    "duration": 705,
    "start_time": "2024-04-12T03:23:19.878Z"
   },
   {
    "duration": 3,
    "start_time": "2024-04-12T03:23:20.585Z"
   },
   {
    "duration": 35,
    "start_time": "2024-04-12T03:23:20.590Z"
   },
   {
    "duration": 21,
    "start_time": "2024-04-12T03:23:20.626Z"
   },
   {
    "duration": 20,
    "start_time": "2024-04-12T03:23:20.648Z"
   },
   {
    "duration": 1448,
    "start_time": "2024-04-12T03:23:20.669Z"
   },
   {
    "duration": 15,
    "start_time": "2024-04-12T03:23:22.119Z"
   },
   {
    "duration": 430,
    "start_time": "2024-04-12T03:23:22.137Z"
   },
   {
    "duration": 10,
    "start_time": "2024-04-12T03:23:22.568Z"
   },
   {
    "duration": 41546,
    "start_time": "2024-04-12T03:23:22.579Z"
   },
   {
    "duration": 1693,
    "start_time": "2024-04-12T03:24:04.127Z"
   },
   {
    "duration": 37,
    "start_time": "2024-04-12T03:24:05.821Z"
   },
   {
    "duration": 6,
    "start_time": "2024-04-12T03:24:05.860Z"
   },
   {
    "duration": 64,
    "start_time": "2024-04-12T03:24:05.867Z"
   },
   {
    "duration": 6,
    "start_time": "2024-04-12T03:24:05.933Z"
   },
   {
    "duration": 32,
    "start_time": "2024-04-12T03:24:05.940Z"
   },
   {
    "duration": 33,
    "start_time": "2024-04-12T03:24:05.973Z"
   },
   {
    "duration": 51,
    "start_time": "2024-04-12T03:24:06.008Z"
   },
   {
    "duration": 64,
    "start_time": "2024-04-12T03:24:06.060Z"
   },
   {
    "duration": 53,
    "start_time": "2024-04-12T03:24:06.125Z"
   },
   {
    "duration": 64,
    "start_time": "2024-04-12T03:24:06.179Z"
   },
   {
    "duration": 796,
    "start_time": "2024-04-12T03:24:06.245Z"
   },
   {
    "duration": 190,
    "start_time": "2024-04-12T03:24:07.042Z"
   },
   {
    "duration": 1636,
    "start_time": "2024-04-12T03:24:07.233Z"
   },
   {
    "duration": 59,
    "start_time": "2024-04-12T03:24:08.870Z"
   },
   {
    "duration": 7,
    "start_time": "2024-04-12T03:24:08.932Z"
   },
   {
    "duration": 5,
    "start_time": "2024-04-12T03:24:08.941Z"
   },
   {
    "duration": 2,
    "start_time": "2024-04-12T03:24:08.948Z"
   },
   {
    "duration": 5,
    "start_time": "2024-04-12T03:24:08.951Z"
   },
   {
    "duration": 3,
    "start_time": "2024-04-12T03:24:08.957Z"
   },
   {
    "duration": 5,
    "start_time": "2024-04-12T03:24:08.961Z"
   },
   {
    "duration": 838818,
    "start_time": "2024-04-12T03:24:08.967Z"
   },
   {
    "duration": 33227,
    "start_time": "2024-04-12T03:38:07.787Z"
   },
   {
    "duration": 0,
    "start_time": "2024-04-12T03:38:41.015Z"
   },
   {
    "duration": 0,
    "start_time": "2024-04-12T03:38:41.016Z"
   },
   {
    "duration": 0,
    "start_time": "2024-04-12T03:38:41.017Z"
   },
   {
    "duration": 0,
    "start_time": "2024-04-12T03:38:41.018Z"
   },
   {
    "duration": 0,
    "start_time": "2024-04-12T03:38:41.019Z"
   },
   {
    "duration": 750421,
    "start_time": "2024-04-12T03:47:40.723Z"
   },
   {
    "duration": 555,
    "start_time": "2024-04-12T04:07:05.943Z"
   },
   {
    "duration": 606,
    "start_time": "2024-04-12T04:07:20.723Z"
   },
   {
    "duration": 5792,
    "start_time": "2024-04-12T04:25:42.401Z"
   },
   {
    "duration": 1229,
    "start_time": "2024-04-12T04:25:48.196Z"
   },
   {
    "duration": 711,
    "start_time": "2024-04-12T04:25:49.427Z"
   },
   {
    "duration": 5,
    "start_time": "2024-04-12T04:25:50.140Z"
   },
   {
    "duration": 36,
    "start_time": "2024-04-12T04:25:50.146Z"
   },
   {
    "duration": 7,
    "start_time": "2024-04-12T04:25:50.184Z"
   },
   {
    "duration": 36,
    "start_time": "2024-04-12T04:25:50.193Z"
   },
   {
    "duration": 1653,
    "start_time": "2024-04-12T04:25:50.230Z"
   },
   {
    "duration": 21,
    "start_time": "2024-04-12T04:25:51.885Z"
   },
   {
    "duration": 498,
    "start_time": "2024-04-12T04:25:51.908Z"
   },
   {
    "duration": 13,
    "start_time": "2024-04-12T04:25:52.408Z"
   },
   {
    "duration": 46147,
    "start_time": "2024-04-12T04:25:52.424Z"
   },
   {
    "duration": 2031,
    "start_time": "2024-04-12T04:26:38.573Z"
   },
   {
    "duration": 62,
    "start_time": "2024-04-12T04:26:40.606Z"
   },
   {
    "duration": 7,
    "start_time": "2024-04-12T04:26:40.669Z"
   },
   {
    "duration": 140,
    "start_time": "2024-04-12T04:26:40.677Z"
   },
   {
    "duration": 66,
    "start_time": "2024-04-12T04:26:40.819Z"
   },
   {
    "duration": 45,
    "start_time": "2024-04-12T04:26:40.896Z"
   },
   {
    "duration": 29,
    "start_time": "2024-04-12T04:26:40.942Z"
   },
   {
    "duration": 73,
    "start_time": "2024-04-12T04:26:40.973Z"
   },
   {
    "duration": 58,
    "start_time": "2024-04-12T04:26:41.047Z"
   },
   {
    "duration": 67,
    "start_time": "2024-04-12T04:26:41.107Z"
   },
   {
    "duration": 81,
    "start_time": "2024-04-12T04:26:41.175Z"
   },
   {
    "duration": 921,
    "start_time": "2024-04-12T04:26:41.257Z"
   },
   {
    "duration": 227,
    "start_time": "2024-04-12T04:26:42.179Z"
   },
   {
    "duration": 1862,
    "start_time": "2024-04-12T04:26:42.408Z"
   },
   {
    "duration": 75,
    "start_time": "2024-04-12T04:26:44.272Z"
   },
   {
    "duration": 6,
    "start_time": "2024-04-12T04:26:44.351Z"
   },
   {
    "duration": 19,
    "start_time": "2024-04-12T04:26:44.359Z"
   },
   {
    "duration": 10,
    "start_time": "2024-04-12T04:26:44.380Z"
   },
   {
    "duration": 11,
    "start_time": "2024-04-12T04:26:44.392Z"
   },
   {
    "duration": 7,
    "start_time": "2024-04-12T04:26:44.404Z"
   },
   {
    "duration": 6,
    "start_time": "2024-04-12T04:26:44.413Z"
   },
   {
    "duration": 752687,
    "start_time": "2024-04-12T04:26:44.422Z"
   },
   {
    "duration": 652,
    "start_time": "2024-04-12T04:39:17.111Z"
   },
   {
    "duration": 4,
    "start_time": "2024-04-12T04:39:17.764Z"
   },
   {
    "duration": 5546,
    "start_time": "2024-04-12T04:47:08.939Z"
   },
   {
    "duration": 1254,
    "start_time": "2024-04-12T04:47:14.487Z"
   },
   {
    "duration": 691,
    "start_time": "2024-04-12T04:47:15.742Z"
   },
   {
    "duration": 4,
    "start_time": "2024-04-12T04:47:16.434Z"
   },
   {
    "duration": 11,
    "start_time": "2024-04-12T04:47:16.439Z"
   },
   {
    "duration": 11,
    "start_time": "2024-04-12T04:47:16.451Z"
   },
   {
    "duration": 8,
    "start_time": "2024-04-12T04:47:16.464Z"
   },
   {
    "duration": 1503,
    "start_time": "2024-04-12T04:47:16.473Z"
   },
   {
    "duration": 27,
    "start_time": "2024-04-12T04:47:17.978Z"
   },
   {
    "duration": 404,
    "start_time": "2024-04-12T04:47:18.008Z"
   },
   {
    "duration": 9,
    "start_time": "2024-04-12T04:47:18.413Z"
   },
   {
    "duration": 42279,
    "start_time": "2024-04-12T04:47:18.423Z"
   },
   {
    "duration": 1713,
    "start_time": "2024-04-12T04:48:00.703Z"
   },
   {
    "duration": 50,
    "start_time": "2024-04-12T04:48:02.417Z"
   },
   {
    "duration": 11,
    "start_time": "2024-04-12T04:48:02.468Z"
   },
   {
    "duration": 78,
    "start_time": "2024-04-12T04:48:02.480Z"
   },
   {
    "duration": 43,
    "start_time": "2024-04-12T04:48:02.559Z"
   },
   {
    "duration": 55,
    "start_time": "2024-04-12T04:48:02.604Z"
   },
   {
    "duration": 28,
    "start_time": "2024-04-12T04:48:02.661Z"
   },
   {
    "duration": 52,
    "start_time": "2024-04-12T04:48:02.690Z"
   },
   {
    "duration": 58,
    "start_time": "2024-04-12T04:48:02.743Z"
   },
   {
    "duration": 63,
    "start_time": "2024-04-12T04:48:02.803Z"
   },
   {
    "duration": 63,
    "start_time": "2024-04-12T04:48:02.868Z"
   },
   {
    "duration": 822,
    "start_time": "2024-04-12T04:48:02.932Z"
   },
   {
    "duration": 187,
    "start_time": "2024-04-12T04:48:03.755Z"
   },
   {
    "duration": 1623,
    "start_time": "2024-04-12T04:48:03.943Z"
   },
   {
    "duration": 58,
    "start_time": "2024-04-12T04:48:05.567Z"
   },
   {
    "duration": 4,
    "start_time": "2024-04-12T04:48:05.628Z"
   },
   {
    "duration": 4,
    "start_time": "2024-04-12T04:48:05.633Z"
   },
   {
    "duration": 9,
    "start_time": "2024-04-12T04:48:05.638Z"
   },
   {
    "duration": 5,
    "start_time": "2024-04-12T04:48:05.648Z"
   },
   {
    "duration": 3,
    "start_time": "2024-04-12T04:48:05.654Z"
   },
   {
    "duration": 6,
    "start_time": "2024-04-12T04:48:05.658Z"
   },
   {
    "duration": 708740,
    "start_time": "2024-04-12T04:48:05.665Z"
   },
   {
    "duration": 532,
    "start_time": "2024-04-12T04:59:54.406Z"
   },
   {
    "duration": 3,
    "start_time": "2024-04-12T04:59:54.940Z"
   },
   {
    "duration": 854419,
    "start_time": "2024-04-12T04:59:54.944Z"
   },
   {
    "duration": 667,
    "start_time": "2024-04-12T05:14:09.365Z"
   },
   {
    "duration": 3,
    "start_time": "2024-04-12T05:14:10.034Z"
   },
   {
    "duration": 5858,
    "start_time": "2024-04-12T05:18:06.843Z"
   },
   {
    "duration": 1339,
    "start_time": "2024-04-12T05:18:12.703Z"
   },
   {
    "duration": 750,
    "start_time": "2024-04-12T05:18:14.043Z"
   },
   {
    "duration": 8,
    "start_time": "2024-04-12T05:18:14.794Z"
   },
   {
    "duration": 8,
    "start_time": "2024-04-12T05:18:14.803Z"
   },
   {
    "duration": 15,
    "start_time": "2024-04-12T05:18:14.812Z"
   },
   {
    "duration": 5,
    "start_time": "2024-04-12T05:18:14.828Z"
   },
   {
    "duration": 1638,
    "start_time": "2024-04-12T05:18:14.834Z"
   },
   {
    "duration": 21,
    "start_time": "2024-04-12T05:18:16.473Z"
   },
   {
    "duration": 461,
    "start_time": "2024-04-12T05:18:16.501Z"
   },
   {
    "duration": 10,
    "start_time": "2024-04-12T05:18:16.964Z"
   },
   {
    "duration": 45377,
    "start_time": "2024-04-12T05:18:16.975Z"
   },
   {
    "duration": 1879,
    "start_time": "2024-04-12T05:19:02.353Z"
   },
   {
    "duration": 37,
    "start_time": "2024-04-12T05:19:04.233Z"
   },
   {
    "duration": 5,
    "start_time": "2024-04-12T05:19:04.271Z"
   },
   {
    "duration": 83,
    "start_time": "2024-04-12T05:19:04.277Z"
   },
   {
    "duration": 19,
    "start_time": "2024-04-12T05:19:04.362Z"
   },
   {
    "duration": 46,
    "start_time": "2024-04-12T05:19:04.382Z"
   },
   {
    "duration": 27,
    "start_time": "2024-04-12T05:19:04.430Z"
   },
   {
    "duration": 76,
    "start_time": "2024-04-12T05:19:04.458Z"
   },
   {
    "duration": 49,
    "start_time": "2024-04-12T05:19:04.535Z"
   },
   {
    "duration": 70,
    "start_time": "2024-04-12T05:19:04.586Z"
   },
   {
    "duration": 82,
    "start_time": "2024-04-12T05:19:04.657Z"
   },
   {
    "duration": 887,
    "start_time": "2024-04-12T05:19:04.740Z"
   },
   {
    "duration": 201,
    "start_time": "2024-04-12T05:19:05.629Z"
   },
   {
    "duration": 1750,
    "start_time": "2024-04-12T05:19:05.831Z"
   },
   {
    "duration": 73,
    "start_time": "2024-04-12T05:19:07.582Z"
   },
   {
    "duration": 4,
    "start_time": "2024-04-12T05:19:07.658Z"
   },
   {
    "duration": 5,
    "start_time": "2024-04-12T05:19:07.663Z"
   },
   {
    "duration": 5,
    "start_time": "2024-04-12T05:19:07.670Z"
   },
   {
    "duration": 15,
    "start_time": "2024-04-12T05:19:07.676Z"
   },
   {
    "duration": 6,
    "start_time": "2024-04-12T05:19:07.692Z"
   },
   {
    "duration": 10,
    "start_time": "2024-04-12T05:19:07.700Z"
   },
   {
    "duration": 747016,
    "start_time": "2024-04-12T05:19:07.713Z"
   },
   {
    "duration": 545,
    "start_time": "2024-04-12T05:31:34.730Z"
   },
   {
    "duration": 3,
    "start_time": "2024-04-12T05:31:35.276Z"
   },
   {
    "duration": 846042,
    "start_time": "2024-04-12T05:31:35.281Z"
   },
   {
    "duration": 735,
    "start_time": "2024-04-12T05:45:41.328Z"
   },
   {
    "duration": 4,
    "start_time": "2024-04-12T05:45:42.065Z"
   },
   {
    "duration": 73,
    "start_time": "2024-04-12T06:39:09.608Z"
   },
   {
    "duration": 7,
    "start_time": "2024-04-12T06:39:09.682Z"
   },
   {
    "duration": 52,
    "start_time": "2024-04-12T06:39:09.690Z"
   },
   {
    "duration": 0,
    "start_time": "2024-04-12T06:39:09.744Z"
   },
   {
    "duration": 0,
    "start_time": "2024-04-12T06:39:09.745Z"
   },
   {
    "duration": 0,
    "start_time": "2024-04-12T06:39:09.746Z"
   },
   {
    "duration": 3,
    "start_time": "2024-04-12T06:39:11.525Z"
   },
   {
    "duration": 13643,
    "start_time": "2024-04-16T06:49:49.680Z"
   },
   {
    "duration": 1587,
    "start_time": "2024-04-16T06:50:03.326Z"
   },
   {
    "duration": 2962,
    "start_time": "2024-04-16T06:50:04.915Z"
   },
   {
    "duration": 5,
    "start_time": "2024-04-16T06:50:07.879Z"
   },
   {
    "duration": 26,
    "start_time": "2024-04-16T06:50:07.886Z"
   },
   {
    "duration": 8,
    "start_time": "2024-04-16T06:50:07.914Z"
   },
   {
    "duration": 7,
    "start_time": "2024-04-16T06:50:07.924Z"
   },
   {
    "duration": 2127,
    "start_time": "2024-04-16T06:50:07.932Z"
   },
   {
    "duration": 22,
    "start_time": "2024-04-16T06:50:10.061Z"
   },
   {
    "duration": 560,
    "start_time": "2024-04-16T06:50:10.085Z"
   },
   {
    "duration": 15,
    "start_time": "2024-04-16T06:50:10.647Z"
   },
   {
    "duration": 40,
    "start_time": "2024-04-16T06:50:10.664Z"
   },
   {
    "duration": 56725,
    "start_time": "2024-04-16T06:50:10.706Z"
   },
   {
    "duration": 2248,
    "start_time": "2024-04-16T06:51:07.432Z"
   },
   {
    "duration": 72,
    "start_time": "2024-04-16T06:51:09.682Z"
   },
   {
    "duration": 46,
    "start_time": "2024-04-16T06:51:09.755Z"
   },
   {
    "duration": 93,
    "start_time": "2024-04-16T06:51:09.802Z"
   },
   {
    "duration": 9,
    "start_time": "2024-04-16T06:51:09.897Z"
   },
   {
    "duration": 21,
    "start_time": "2024-04-16T06:51:09.907Z"
   },
   {
    "duration": 92,
    "start_time": "2024-04-16T06:51:09.930Z"
   },
   {
    "duration": 76,
    "start_time": "2024-04-16T06:51:10.023Z"
   },
   {
    "duration": 65,
    "start_time": "2024-04-16T06:51:10.101Z"
   },
   {
    "duration": 77,
    "start_time": "2024-04-16T06:51:10.168Z"
   },
   {
    "duration": 93,
    "start_time": "2024-04-16T06:51:10.247Z"
   },
   {
    "duration": 149,
    "start_time": "2024-04-16T06:51:10.342Z"
   },
   {
    "duration": 953,
    "start_time": "2024-04-16T06:51:10.493Z"
   },
   {
    "duration": 5434,
    "start_time": "2024-04-16T06:51:11.448Z"
   },
   {
    "duration": 190,
    "start_time": "2024-04-16T06:51:16.886Z"
   },
   {
    "duration": 1996,
    "start_time": "2024-04-16T06:51:17.081Z"
   },
   {
    "duration": 90,
    "start_time": "2024-04-16T06:51:19.079Z"
   },
   {
    "duration": 61,
    "start_time": "2024-04-16T06:51:19.181Z"
   },
   {
    "duration": 5,
    "start_time": "2024-04-16T06:51:19.243Z"
   },
   {
    "duration": 10,
    "start_time": "2024-04-16T06:51:19.250Z"
   },
   {
    "duration": 21,
    "start_time": "2024-04-16T06:51:19.262Z"
   },
   {
    "duration": 5,
    "start_time": "2024-04-16T06:51:19.285Z"
   },
   {
    "duration": 7,
    "start_time": "2024-04-16T06:51:19.291Z"
   },
   {
    "duration": 6,
    "start_time": "2024-04-16T06:51:19.299Z"
   },
   {
    "duration": 301382,
    "start_time": "2024-04-16T06:51:19.306Z"
   },
   {
    "duration": 492,
    "start_time": "2024-04-16T06:56:20.690Z"
   },
   {
    "duration": 3,
    "start_time": "2024-04-16T06:56:21.184Z"
   },
   {
    "duration": 869560,
    "start_time": "2024-04-16T06:56:21.188Z"
   },
   {
    "duration": 712,
    "start_time": "2024-04-16T07:10:50.751Z"
   },
   {
    "duration": 5,
    "start_time": "2024-04-16T07:10:51.465Z"
   },
   {
    "duration": 208600,
    "start_time": "2024-04-16T07:10:51.472Z"
   },
   {
    "duration": 957,
    "start_time": "2024-04-16T07:14:20.074Z"
   },
   {
    "duration": 7,
    "start_time": "2024-04-16T07:14:21.033Z"
   },
   {
    "duration": 6,
    "start_time": "2024-04-16T07:14:21.042Z"
   },
   {
    "duration": 9562,
    "start_time": "2024-04-16T07:14:21.049Z"
   },
   {
    "duration": 6,
    "start_time": "2024-04-16T07:14:30.613Z"
   },
   {
    "duration": 9147,
    "start_time": "2024-04-16T09:46:08.971Z"
   },
   {
    "duration": 1514,
    "start_time": "2024-04-16T09:46:18.121Z"
   },
   {
    "duration": 1029,
    "start_time": "2024-04-16T09:46:19.637Z"
   },
   {
    "duration": 6,
    "start_time": "2024-04-16T09:46:20.668Z"
   },
   {
    "duration": 26,
    "start_time": "2024-04-16T09:46:20.682Z"
   },
   {
    "duration": 13,
    "start_time": "2024-04-16T09:46:20.710Z"
   },
   {
    "duration": 9,
    "start_time": "2024-04-16T09:46:20.725Z"
   },
   {
    "duration": 2209,
    "start_time": "2024-04-16T09:46:20.736Z"
   },
   {
    "duration": 23,
    "start_time": "2024-04-16T09:46:22.947Z"
   },
   {
    "duration": 642,
    "start_time": "2024-04-16T09:46:22.981Z"
   },
   {
    "duration": 20,
    "start_time": "2024-04-16T09:46:23.625Z"
   },
   {
    "duration": 48,
    "start_time": "2024-04-16T09:46:23.648Z"
   },
   {
    "duration": 58166,
    "start_time": "2024-04-16T09:46:23.698Z"
   },
   {
    "duration": 2322,
    "start_time": "2024-04-16T09:47:21.866Z"
   },
   {
    "duration": 73,
    "start_time": "2024-04-16T09:47:24.190Z"
   },
   {
    "duration": 41,
    "start_time": "2024-04-16T09:47:24.265Z"
   },
   {
    "duration": 86,
    "start_time": "2024-04-16T09:47:24.308Z"
   },
   {
    "duration": 22,
    "start_time": "2024-04-16T09:47:24.396Z"
   },
   {
    "duration": 44,
    "start_time": "2024-04-16T09:47:24.420Z"
   },
   {
    "duration": 76,
    "start_time": "2024-04-16T09:47:24.466Z"
   },
   {
    "duration": 73,
    "start_time": "2024-04-16T09:47:24.544Z"
   },
   {
    "duration": 74,
    "start_time": "2024-04-16T09:47:24.618Z"
   },
   {
    "duration": 70,
    "start_time": "2024-04-16T09:47:24.694Z"
   },
   {
    "duration": 97,
    "start_time": "2024-04-16T09:47:24.766Z"
   },
   {
    "duration": 168,
    "start_time": "2024-04-16T09:47:24.864Z"
   },
   {
    "duration": 1050,
    "start_time": "2024-04-16T09:47:25.034Z"
   },
   {
    "duration": 5234,
    "start_time": "2024-04-16T09:47:26.086Z"
   },
   {
    "duration": 171,
    "start_time": "2024-04-16T09:47:31.323Z"
   },
   {
    "duration": 2081,
    "start_time": "2024-04-16T09:47:31.496Z"
   },
   {
    "duration": 94,
    "start_time": "2024-04-16T09:47:33.578Z"
   },
   {
    "duration": 65,
    "start_time": "2024-04-16T09:47:33.681Z"
   },
   {
    "duration": 6,
    "start_time": "2024-04-16T09:47:33.748Z"
   },
   {
    "duration": 26,
    "start_time": "2024-04-16T09:47:33.756Z"
   },
   {
    "duration": 3,
    "start_time": "2024-04-16T09:47:33.784Z"
   },
   {
    "duration": 11,
    "start_time": "2024-04-16T09:47:33.788Z"
   },
   {
    "duration": 8,
    "start_time": "2024-04-16T09:47:33.801Z"
   },
   {
    "duration": 6,
    "start_time": "2024-04-16T09:47:33.810Z"
   },
   {
    "duration": 306973,
    "start_time": "2024-04-16T09:47:33.817Z"
   },
   {
    "duration": 657,
    "start_time": "2024-04-16T09:52:40.792Z"
   },
   {
    "duration": 3,
    "start_time": "2024-04-16T09:52:41.451Z"
   },
   {
    "duration": 912765,
    "start_time": "2024-04-16T09:52:41.457Z"
   },
   {
    "duration": 690,
    "start_time": "2024-04-16T10:07:54.224Z"
   },
   {
    "duration": 4,
    "start_time": "2024-04-16T10:07:54.916Z"
   },
   {
    "duration": 213789,
    "start_time": "2024-04-16T10:07:54.921Z"
   },
   {
    "duration": 912,
    "start_time": "2024-04-16T10:11:28.712Z"
   },
   {
    "duration": 7,
    "start_time": "2024-04-16T10:11:29.626Z"
   },
   {
    "duration": 14,
    "start_time": "2024-04-16T10:11:29.634Z"
   },
   {
    "duration": 241,
    "start_time": "2024-04-16T10:11:29.650Z"
   },
   {
    "duration": 7,
    "start_time": "2024-04-16T10:11:29.893Z"
   },
   {
    "duration": 196,
    "start_time": "2024-04-16T10:26:26.079Z"
   },
   {
    "duration": 215,
    "start_time": "2024-04-16T10:26:29.819Z"
   },
   {
    "duration": 303,
    "start_time": "2024-04-16T10:27:12.560Z"
   },
   {
    "duration": 216,
    "start_time": "2024-04-16T10:27:22.067Z"
   },
   {
    "duration": 200,
    "start_time": "2024-04-16T10:27:27.416Z"
   },
   {
    "duration": 207,
    "start_time": "2024-04-16T10:29:00.956Z"
   },
   {
    "duration": 227,
    "start_time": "2024-04-16T10:29:03.153Z"
   },
   {
    "duration": 218,
    "start_time": "2024-04-16T10:29:15.917Z"
   },
   {
    "duration": 213,
    "start_time": "2024-04-16T10:30:55.201Z"
   },
   {
    "duration": 211,
    "start_time": "2024-04-16T10:32:03.642Z"
   },
   {
    "duration": 198,
    "start_time": "2024-04-16T10:32:12.043Z"
   },
   {
    "duration": 258,
    "start_time": "2024-04-16T10:32:25.865Z"
   },
   {
    "duration": 208,
    "start_time": "2024-04-16T10:32:33.175Z"
   }
  ],
  "kernelspec": {
   "display_name": "Python 3 (ipykernel)",
   "language": "python",
   "name": "python3"
  },
  "language_info": {
   "codemirror_mode": {
    "name": "ipython",
    "version": 3
   },
   "file_extension": ".py",
   "mimetype": "text/x-python",
   "name": "python",
   "nbconvert_exporter": "python",
   "pygments_lexer": "ipython3",
   "version": "3.9.5"
  },
  "toc": {
   "base_numbering": 1,
   "nav_menu": {},
   "number_sections": true,
   "sideBar": true,
   "skip_h1_title": true,
   "title_cell": "Table of Contents",
   "title_sidebar": "Contents",
   "toc_cell": false,
   "toc_position": {
    "height": "calc(100% - 180px)",
    "left": "10px",
    "top": "150px",
    "width": "336.703px"
   },
   "toc_section_display": true,
   "toc_window_display": true
  }
 },
 "nbformat": 4,
 "nbformat_minor": 2
}
